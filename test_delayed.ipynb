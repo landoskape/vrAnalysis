{
 "cells": [
  {
   "cell_type": "code",
   "execution_count": null,
   "metadata": {},
   "outputs": [],
   "source": [
    "\"\"\"\n",
    "Plan of attack:\n",
    "- move the graph stuff from Delayed to graph module\n",
    "- Build support for each Delayed object constructing it's own graph.\n",
    "- Make sure it all works. \n",
    "\n",
    "- Then consider a master graph and how that would work. \n",
    "- Edge cases to consider: updates to dependencies in the name space\n",
    "- Does the whole graph need to updated every time for safety? \n",
    "- Yada yada\n",
    "\"\"\""
   ]
  },
  {
   "cell_type": "code",
   "execution_count": 2,
   "metadata": {},
   "outputs": [],
   "source": [
    "%reload_ext autoreload\n",
    "%autoreload 2\n",
    "\n",
    "import numpy as np\n",
    "from delayed import delayed\n",
    "import networkx as nx"
   ]
  },
  {
   "cell_type": "code",
   "execution_count": 18,
   "metadata": {},
   "outputs": [
    {
     "name": "stdout",
     "output_type": "stream",
     "text": [
      "Delayed(double):Not computed\n",
      "False\n",
      "6\n",
      "True\n"
     ]
    }
   ],
   "source": [
    "from time import time, sleep\n",
    "\n",
    "sleep_time = 0.05\n",
    "\n",
    "@delayed(disable_cache=False)\n",
    "def add(a, b):\n",
    "    sleep(sleep_time)\n",
    "    return a + b\n",
    "\n",
    "@delayed\n",
    "def mul(a, b):\n",
    "    sleep(sleep_time)\n",
    "    return a * b\n",
    "\n",
    "def double(a):\n",
    "    return a*2\n",
    "\n",
    "a = add(1, 2)\n",
    "b = delayed(double, disable_cache=False)(a)\n",
    "print(b)\n",
    "print(bool(b))\n",
    "print(b.compute())\n",
    "print(bool(b))\n",
    "# c = mul(b, a)\n",
    "\n",
    "# d = mul(c, 8)\n",
    "# e = mul(1, 2)\n",
    "# f = add(d, e)\n",
    "# g = mul(f, 2)\n",
    "# h = add(g, 1)\n",
    "\n",
    "# h.visualize(jitter=0.001)\n",
    "\n",
    "# t = time()\n",
    "# print(c.compute())\n",
    "# print(time() - t)\n",
    "\n",
    "# t = time()\n",
    "# print(c.compute())\n",
    "# print(time() - t)"
   ]
  },
  {
   "cell_type": "code",
   "execution_count": 85,
   "metadata": {},
   "outputs": [
    {
     "name": "stdout",
     "output_type": "stream",
     "text": [
      "40\n",
      "0.17908692359924316\n"
     ]
    }
   ],
   "source": [
    "a.update_args(3, 5)\n",
    "\n",
    "t = time()\n",
    "print(c.compute())\n",
    "print(time() - t)"
   ]
  },
  {
   "cell_type": "code",
   "execution_count": 2,
   "metadata": {},
   "outputs": [
    {
     "name": "stdout",
     "output_type": "stream",
     "text": [
      "DelayedData(computed=True, datatype=<class 'numpy.ndarray'>)\n"
     ]
    }
   ],
   "source": [
    "from delayed.types import DelayedData\n",
    "\n",
    "dd = DelayedData()\n",
    "dd.set(np.random.randn(100, 10))\n",
    "print(dd)"
   ]
  }
 ],
 "metadata": {
  "kernelspec": {
   "display_name": "vrAnalysis",
   "language": "python",
   "name": "python3"
  },
  "language_info": {
   "codemirror_mode": {
    "name": "ipython",
    "version": 3
   },
   "file_extension": ".py",
   "mimetype": "text/x-python",
   "name": "python",
   "nbconvert_exporter": "python",
   "pygments_lexer": "ipython3",
   "version": "3.9.19"
  }
 },
 "nbformat": 4,
 "nbformat_minor": 2
}
