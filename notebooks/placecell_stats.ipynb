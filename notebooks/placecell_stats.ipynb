{
 "cells": [
  {
   "cell_type": "code",
   "execution_count": 1,
   "metadata": {},
   "outputs": [
    {
     "name": "stdout",
     "output_type": "stream",
     "text": [
      "Using device: cuda\n"
     ]
    }
   ],
   "source": [
    "%reload_ext autoreload\n",
    "%autoreload 2\n",
    "%matplotlib qt\n",
    "\n",
    "import random\n",
    "from pathlib import Path\n",
    "\n",
    "from tqdm import tqdm\n",
    "import numpy as np\n",
    "import scipy as sp\n",
    "import torch\n",
    "import matplotlib as mpl\n",
    "import matplotlib.pyplot as plt\n",
    "# import pandas as pd\n",
    "# pd.options.display.width = 1000\n",
    "\n",
    "import os, sys\n",
    "sys.path.append(os.path.abspath(os.path.dirname(os.getcwd())))\n",
    "\n",
    "from vrAnalysis import analysis\n",
    "from vrAnalysis import helpers\n",
    "from vrAnalysis import database\n",
    "from vrAnalysis import tracking\n",
    "from vrAnalysis import session\n",
    "from vrAnalysis import registration\n",
    "from vrAnalysis import fileManagement as fm\n",
    "from vrAnalysis import faststats as fs\n",
    "\n",
    "sessiondb = database.vrDatabase('vrSessions')\n",
    "mousedb = database.vrDatabase('vrMice')\n",
    "\n",
    "# pd.set_option('display.max_rows', 100)\n",
    "\n",
    "device = \"cuda\" if torch.cuda.is_available() else \"cpu\"\n",
    "print(f\"Using device: {device}\")"
   ]
  },
  {
   "cell_type": "code",
   "execution_count": 2,
   "metadata": {},
   "outputs": [],
   "source": [
    "# I'd like a plot of the number of red cells (including number reliable)\n",
    "# for each grouping of sessions. \n",
    "mouse_name = \"CR_Hippocannula6\"\n",
    "track = tracking.tracker(mouse_name)\n",
    "pcm = analysis.placeCellMultiSession(track, autoload=False, keep_planes=[1, 2, 3, 4])"
   ]
  },
  {
   "cell_type": "code",
   "execution_count": 5,
   "metadata": {},
   "outputs": [],
   "source": [
    "envnum, idx_ses = pcm.env_idx_ses_selector(envmethod=\"second\", sesmethod=4)\n",
    "spkmaps, extras = pcm.get_spkmaps(envnum=envnum, idx_ses=idx_ses, trials=\"full\", average=False, tracked=True)"
   ]
  },
  {
   "cell_type": "code",
   "execution_count": 9,
   "metadata": {},
   "outputs": [
    {
     "name": "stdout",
     "output_type": "stream",
     "text": [
      "(1954, 75, 243)\n",
      "dict_keys(['relmse', 'relcor', 'relloo', 'idx_red', 'pfloc', 'pfidx', 'roi_idx'])\n"
     ]
    }
   ],
   "source": [
    "\n",
    "print(spkmaps[0].shape)\n",
    "print(extras.keys())\n",
    "\n",
    "relmethod = \"relloo\"\n",
    "top_rel = [np.where(rel > np.nanpercentile(rel, 90))[0] for rel in extras[relmethod]]\n",
    "\n",
    "idx_ses_plot = 2\n",
    "\n",
    "fig, ax = plt.subplots()"
   ]
  },
  {
   "cell_type": "code",
   "execution_count": 46,
   "metadata": {},
   "outputs": [
    {
     "data": {
      "application/vnd.jupyter.widget-view+json": {
       "model_id": "6792a8ed454847f6ba841a1dea4451bf",
       "version_major": 2,
       "version_minor": 0
      },
      "text/plain": [
       "HBox(children=(VBox(children=(IntSlider(value=0, continuous_update=False, description='idx_ses_plot', layout=L…"
      ]
     },
     "metadata": {},
     "output_type": "display_data"
    },
    {
     "name": "stdout",
     "output_type": "stream",
     "text": [
      "reliability_range (50, 55) (50, 55)\n"
     ]
    },
    {
     "ename": "IndexError",
     "evalue": "index 0 is out of bounds for axis 0 with size 0",
     "output_type": "error",
     "traceback": [
      "\u001b[1;31m---------------------------------------------------------------------------\u001b[0m",
      "\u001b[1;31mIndexError\u001b[0m                                Traceback (most recent call last)",
      "File \u001b[1;32mc:\\Users\\Andrew\\AppData\\Local\\miniforge3\\envs\\vrAnalysis\\lib\\site-packages\\ipywidgets\\widgets\\widget.py:773\u001b[0m, in \u001b[0;36mWidget._handle_msg\u001b[1;34m(self, msg)\u001b[0m\n\u001b[0;32m    771\u001b[0m         \u001b[38;5;28;01mif\u001b[39;00m \u001b[38;5;124m'\u001b[39m\u001b[38;5;124mbuffer_paths\u001b[39m\u001b[38;5;124m'\u001b[39m \u001b[38;5;129;01min\u001b[39;00m data:\n\u001b[0;32m    772\u001b[0m             _put_buffers(state, data[\u001b[38;5;124m'\u001b[39m\u001b[38;5;124mbuffer_paths\u001b[39m\u001b[38;5;124m'\u001b[39m], msg[\u001b[38;5;124m'\u001b[39m\u001b[38;5;124mbuffers\u001b[39m\u001b[38;5;124m'\u001b[39m])\n\u001b[1;32m--> 773\u001b[0m         \u001b[38;5;28;43mself\u001b[39;49m\u001b[38;5;241;43m.\u001b[39;49m\u001b[43mset_state\u001b[49m\u001b[43m(\u001b[49m\u001b[43mstate\u001b[49m\u001b[43m)\u001b[49m\n\u001b[0;32m    775\u001b[0m \u001b[38;5;66;03m# Handle a state request.\u001b[39;00m\n\u001b[0;32m    776\u001b[0m \u001b[38;5;28;01melif\u001b[39;00m method \u001b[38;5;241m==\u001b[39m \u001b[38;5;124m'\u001b[39m\u001b[38;5;124mrequest_state\u001b[39m\u001b[38;5;124m'\u001b[39m:\n",
      "File \u001b[1;32mc:\\Users\\Andrew\\AppData\\Local\\miniforge3\\envs\\vrAnalysis\\lib\\site-packages\\ipywidgets\\widgets\\widget.py:655\u001b[0m, in \u001b[0;36mWidget.set_state\u001b[1;34m(self, sync_data)\u001b[0m\n\u001b[0;32m    652\u001b[0m \u001b[38;5;28;01mif\u001b[39;00m name \u001b[38;5;129;01min\u001b[39;00m \u001b[38;5;28mself\u001b[39m\u001b[38;5;241m.\u001b[39mkeys:\n\u001b[0;32m    653\u001b[0m     from_json \u001b[38;5;241m=\u001b[39m \u001b[38;5;28mself\u001b[39m\u001b[38;5;241m.\u001b[39mtrait_metadata(name, \u001b[38;5;124m'\u001b[39m\u001b[38;5;124mfrom_json\u001b[39m\u001b[38;5;124m'\u001b[39m,\n\u001b[0;32m    654\u001b[0m                                     \u001b[38;5;28mself\u001b[39m\u001b[38;5;241m.\u001b[39m_trait_from_json)\n\u001b[1;32m--> 655\u001b[0m     \u001b[38;5;28mself\u001b[39m\u001b[38;5;241m.\u001b[39mset_trait(name, from_json(sync_data[name], \u001b[38;5;28mself\u001b[39m))\n",
      "File \u001b[1;32mc:\\Users\\Andrew\\AppData\\Local\\miniforge3\\envs\\vrAnalysis\\lib\\contextlib.py:126\u001b[0m, in \u001b[0;36m_GeneratorContextManager.__exit__\u001b[1;34m(self, typ, value, traceback)\u001b[0m\n\u001b[0;32m    124\u001b[0m \u001b[38;5;28;01mif\u001b[39;00m typ \u001b[38;5;129;01mis\u001b[39;00m \u001b[38;5;28;01mNone\u001b[39;00m:\n\u001b[0;32m    125\u001b[0m     \u001b[38;5;28;01mtry\u001b[39;00m:\n\u001b[1;32m--> 126\u001b[0m         \u001b[38;5;28;43mnext\u001b[39;49m\u001b[43m(\u001b[49m\u001b[38;5;28;43mself\u001b[39;49m\u001b[38;5;241;43m.\u001b[39;49m\u001b[43mgen\u001b[49m\u001b[43m)\u001b[49m\n\u001b[0;32m    127\u001b[0m     \u001b[38;5;28;01mexcept\u001b[39;00m \u001b[38;5;167;01mStopIteration\u001b[39;00m:\n\u001b[0;32m    128\u001b[0m         \u001b[38;5;28;01mreturn\u001b[39;00m \u001b[38;5;28;01mFalse\u001b[39;00m\n",
      "File \u001b[1;32mc:\\Users\\Andrew\\AppData\\Local\\miniforge3\\envs\\vrAnalysis\\lib\\site-packages\\traitlets\\traitlets.py:1510\u001b[0m, in \u001b[0;36mHasTraits.hold_trait_notifications\u001b[1;34m(self)\u001b[0m\n\u001b[0;32m   1508\u001b[0m \u001b[38;5;28;01mfor\u001b[39;00m changes \u001b[38;5;129;01min\u001b[39;00m cache\u001b[38;5;241m.\u001b[39mvalues():\n\u001b[0;32m   1509\u001b[0m     \u001b[38;5;28;01mfor\u001b[39;00m change \u001b[38;5;129;01min\u001b[39;00m changes:\n\u001b[1;32m-> 1510\u001b[0m         \u001b[38;5;28;43mself\u001b[39;49m\u001b[38;5;241;43m.\u001b[39;49m\u001b[43mnotify_change\u001b[49m\u001b[43m(\u001b[49m\u001b[43mchange\u001b[49m\u001b[43m)\u001b[49m\n",
      "File \u001b[1;32mc:\\Users\\Andrew\\AppData\\Local\\miniforge3\\envs\\vrAnalysis\\lib\\site-packages\\ipywidgets\\widgets\\widget.py:701\u001b[0m, in \u001b[0;36mWidget.notify_change\u001b[1;34m(self, change)\u001b[0m\n\u001b[0;32m    698\u001b[0m     \u001b[38;5;28;01mif\u001b[39;00m name \u001b[38;5;129;01min\u001b[39;00m \u001b[38;5;28mself\u001b[39m\u001b[38;5;241m.\u001b[39mkeys \u001b[38;5;129;01mand\u001b[39;00m \u001b[38;5;28mself\u001b[39m\u001b[38;5;241m.\u001b[39m_should_send_property(name, \u001b[38;5;28mgetattr\u001b[39m(\u001b[38;5;28mself\u001b[39m, name)):\n\u001b[0;32m    699\u001b[0m         \u001b[38;5;66;03m# Send new state to front-end\u001b[39;00m\n\u001b[0;32m    700\u001b[0m         \u001b[38;5;28mself\u001b[39m\u001b[38;5;241m.\u001b[39msend_state(key\u001b[38;5;241m=\u001b[39mname)\n\u001b[1;32m--> 701\u001b[0m \u001b[38;5;28;43msuper\u001b[39;49m\u001b[43m(\u001b[49m\u001b[43m)\u001b[49m\u001b[38;5;241;43m.\u001b[39;49m\u001b[43mnotify_change\u001b[49m\u001b[43m(\u001b[49m\u001b[43mchange\u001b[49m\u001b[43m)\u001b[49m\n",
      "File \u001b[1;32mc:\\Users\\Andrew\\AppData\\Local\\miniforge3\\envs\\vrAnalysis\\lib\\site-packages\\traitlets\\traitlets.py:1525\u001b[0m, in \u001b[0;36mHasTraits.notify_change\u001b[1;34m(self, change)\u001b[0m\n\u001b[0;32m   1523\u001b[0m \u001b[38;5;28;01mdef\u001b[39;00m \u001b[38;5;21mnotify_change\u001b[39m(\u001b[38;5;28mself\u001b[39m, change: Bunch) \u001b[38;5;241m-\u001b[39m\u001b[38;5;241m>\u001b[39m \u001b[38;5;28;01mNone\u001b[39;00m:\n\u001b[0;32m   1524\u001b[0m \u001b[38;5;250m    \u001b[39m\u001b[38;5;124;03m\"\"\"Notify observers of a change event\"\"\"\u001b[39;00m\n\u001b[1;32m-> 1525\u001b[0m     \u001b[38;5;28;01mreturn\u001b[39;00m \u001b[38;5;28;43mself\u001b[39;49m\u001b[38;5;241;43m.\u001b[39;49m\u001b[43m_notify_observers\u001b[49m\u001b[43m(\u001b[49m\u001b[43mchange\u001b[49m\u001b[43m)\u001b[49m\n",
      "File \u001b[1;32mc:\\Users\\Andrew\\AppData\\Local\\miniforge3\\envs\\vrAnalysis\\lib\\site-packages\\traitlets\\traitlets.py:1568\u001b[0m, in \u001b[0;36mHasTraits._notify_observers\u001b[1;34m(self, event)\u001b[0m\n\u001b[0;32m   1565\u001b[0m \u001b[38;5;28;01melif\u001b[39;00m \u001b[38;5;28misinstance\u001b[39m(c, EventHandler) \u001b[38;5;129;01mand\u001b[39;00m c\u001b[38;5;241m.\u001b[39mname \u001b[38;5;129;01mis\u001b[39;00m \u001b[38;5;129;01mnot\u001b[39;00m \u001b[38;5;28;01mNone\u001b[39;00m:\n\u001b[0;32m   1566\u001b[0m     c \u001b[38;5;241m=\u001b[39m \u001b[38;5;28mgetattr\u001b[39m(\u001b[38;5;28mself\u001b[39m, c\u001b[38;5;241m.\u001b[39mname)\n\u001b[1;32m-> 1568\u001b[0m \u001b[43mc\u001b[49m\u001b[43m(\u001b[49m\u001b[43mevent\u001b[49m\u001b[43m)\u001b[49m\n",
      "File \u001b[1;32m~\\Documents\\GitHub\\syd\\syd\\notebook_deploy.py:300\u001b[0m, in \u001b[0;36mNotebookDeployment.create_widgets.<locals>.<lambda>\u001b[1;34m(change, n)\u001b[0m\n\u001b[0;32m    298\u001b[0m widget \u001b[38;5;241m=\u001b[39m \u001b[38;5;28mself\u001b[39m\u001b[38;5;241m.\u001b[39m_create_widget_for_parameter(param)\n\u001b[0;32m    299\u001b[0m \u001b[38;5;28mself\u001b[39m\u001b[38;5;241m.\u001b[39mwidgets[name] \u001b[38;5;241m=\u001b[39m widget\n\u001b[1;32m--> 300\u001b[0m callback \u001b[38;5;241m=\u001b[39m \u001b[38;5;28mdict\u001b[39m(handler\u001b[38;5;241m=\u001b[39m\u001b[38;5;28;01mlambda\u001b[39;00m change, n\u001b[38;5;241m=\u001b[39mname: \u001b[38;5;28;43mself\u001b[39;49m\u001b[38;5;241;43m.\u001b[39;49m\u001b[43m_handle_widget_change\u001b[49m\u001b[43m(\u001b[49m\u001b[43mn\u001b[49m\u001b[43m,\u001b[49m\u001b[43m \u001b[49m\u001b[43mchange\u001b[49m\u001b[43m)\u001b[49m, names\u001b[38;5;241m=\u001b[39m\u001b[38;5;124m\"\u001b[39m\u001b[38;5;124mvalue\u001b[39m\u001b[38;5;124m\"\u001b[39m)\n\u001b[0;32m    301\u001b[0m \u001b[38;5;28mself\u001b[39m\u001b[38;5;241m.\u001b[39m_widget_callbacks[name] \u001b[38;5;241m=\u001b[39m callback\n\u001b[0;32m    303\u001b[0m \u001b[38;5;66;03m# Set up callback\u001b[39;00m\n",
      "File \u001b[1;32m~\\Documents\\GitHub\\syd\\syd\\notebook_deploy.py:248\u001b[0m, in \u001b[0;36mNotebookDeployment._handle_widget_change\u001b[1;34m(self, name, change)\u001b[0m\n\u001b[0;32m    245\u001b[0m     value \u001b[38;5;241m=\u001b[39m change[\u001b[38;5;124m\"\u001b[39m\u001b[38;5;124mnew\u001b[39m\u001b[38;5;124m\"\u001b[39m]\n\u001b[0;32m    247\u001b[0m \u001b[38;5;66;03m# Update the viewer parameter that the user just interacted with\u001b[39;00m\n\u001b[1;32m--> 248\u001b[0m \u001b[38;5;28;43mself\u001b[39;49m\u001b[38;5;241;43m.\u001b[39;49m\u001b[43mviewer\u001b[49m\u001b[38;5;241;43m.\u001b[39;49m\u001b[43mset_parameter_value\u001b[49m\u001b[43m(\u001b[49m\u001b[43mname\u001b[49m\u001b[43m,\u001b[49m\u001b[43m \u001b[49m\u001b[43mvalue\u001b[49m\u001b[43m)\u001b[49m\n\u001b[0;32m    250\u001b[0m \u001b[38;5;66;03m# Retrieve the new state of the viewer\\\u001b[39;00m\n\u001b[0;32m    251\u001b[0m \u001b[38;5;66;03m# Which might have more changes due to callbacks\u001b[39;00m\n\u001b[0;32m    252\u001b[0m state \u001b[38;5;241m=\u001b[39m \u001b[38;5;28mself\u001b[39m\u001b[38;5;241m.\u001b[39mviewer\u001b[38;5;241m.\u001b[39mget_state()\n",
      "File \u001b[1;32m~\\Documents\\GitHub\\syd\\syd\\interactive_viewer.py:120\u001b[0m, in \u001b[0;36mInteractiveViewer.set_parameter_value\u001b[1;34m(self, name, value)\u001b[0m\n\u001b[0;32m    117\u001b[0m \u001b[38;5;28mself\u001b[39m\u001b[38;5;241m.\u001b[39mparameters[name]\u001b[38;5;241m.\u001b[39mvalue \u001b[38;5;241m=\u001b[39m value\n\u001b[0;32m    119\u001b[0m \u001b[38;5;66;03m# Perform callbacks\u001b[39;00m\n\u001b[1;32m--> 120\u001b[0m \u001b[38;5;28;43mself\u001b[39;49m\u001b[38;5;241;43m.\u001b[39;49m\u001b[43mperform_callbacks\u001b[49m\u001b[43m(\u001b[49m\u001b[43mname\u001b[49m\u001b[43m)\u001b[49m\n",
      "File \u001b[1;32m~\\Documents\\GitHub\\syd\\syd\\interactive_viewer.py:101\u001b[0m, in \u001b[0;36mInteractiveViewer.perform_callbacks\u001b[1;34m(self, name)\u001b[0m\n\u001b[0;32m     99\u001b[0m state \u001b[38;5;241m=\u001b[39m \u001b[38;5;28mself\u001b[39m\u001b[38;5;241m.\u001b[39mget_state()\n\u001b[0;32m    100\u001b[0m \u001b[38;5;28;01mfor\u001b[39;00m callback \u001b[38;5;129;01min\u001b[39;00m \u001b[38;5;28mself\u001b[39m\u001b[38;5;241m.\u001b[39mcallbacks[name]:\n\u001b[1;32m--> 101\u001b[0m     \u001b[43mcallback\u001b[49m\u001b[43m(\u001b[49m\u001b[43mstate\u001b[49m\u001b[43m)\u001b[49m\n",
      "Cell \u001b[1;32mIn[46], line 31\u001b[0m, in \u001b[0;36mMyViewer.update_ranges\u001b[1;34m(self, state)\u001b[0m\n\u001b[0;32m     28\u001b[0m max_percentile \u001b[38;5;241m=\u001b[39m np\u001b[38;5;241m.\u001b[39mnanpercentile(\u001b[38;5;28mself\u001b[39m\u001b[38;5;241m.\u001b[39mextras[relmethod][idx_ses_plot], max_rel)\n\u001b[0;32m     29\u001b[0m idx_roi_options \u001b[38;5;241m=\u001b[39m np\u001b[38;5;241m.\u001b[39mwhere(np\u001b[38;5;241m.\u001b[39mlogical_and(\u001b[38;5;28mself\u001b[39m\u001b[38;5;241m.\u001b[39mextras[relmethod][idx_ses_plot] \u001b[38;5;241m>\u001b[39m\u001b[38;5;241m=\u001b[39m min_percentile, \u001b[38;5;28mself\u001b[39m\u001b[38;5;241m.\u001b[39mextras[relmethod][idx_ses_plot] \u001b[38;5;241m<\u001b[39m\u001b[38;5;241m=\u001b[39m max_percentile))[\u001b[38;5;241m0\u001b[39m]\n\u001b[1;32m---> 31\u001b[0m \u001b[38;5;28mself\u001b[39m\u001b[38;5;241m.\u001b[39mupdate_selection(\u001b[38;5;124m\"\u001b[39m\u001b[38;5;124midx_roi_plot\u001b[39m\u001b[38;5;124m\"\u001b[39m, options\u001b[38;5;241m=\u001b[39m\u001b[38;5;28mlist\u001b[39m(idx_roi_options), default\u001b[38;5;241m=\u001b[39m\u001b[43midx_roi_options\u001b[49m\u001b[43m[\u001b[49m\u001b[38;5;241;43m0\u001b[39;49m\u001b[43m]\u001b[49m)\n\u001b[0;32m     32\u001b[0m \u001b[38;5;28mself\u001b[39m\u001b[38;5;241m.\u001b[39mupdate_integer(\u001b[38;5;124m\"\u001b[39m\u001b[38;5;124mtrial\u001b[39m\u001b[38;5;124m\"\u001b[39m, min_value\u001b[38;5;241m=\u001b[39m\u001b[38;5;241m0\u001b[39m, max_value\u001b[38;5;241m=\u001b[39m\u001b[38;5;28mself\u001b[39m\u001b[38;5;241m.\u001b[39mspkmaps[idx_ses_plot]\u001b[38;5;241m.\u001b[39mshape[\u001b[38;5;241m1\u001b[39m])\n",
      "\u001b[1;31mIndexError\u001b[0m: index 0 is out of bounds for axis 0 with size 0"
     ]
    },
    {
     "name": "stdout",
     "output_type": "stream",
     "text": [
      "reliability_range (90, 100) (90, 100)\n"
     ]
    },
    {
     "name": "stdout",
     "output_type": "stream",
     "text": [
      "reliability_range (90, 100) (90, 100)\n"
     ]
    },
    {
     "name": "stdout",
     "output_type": "stream",
     "text": [
      "reliability_range (90, 100) (90, 100)\n"
     ]
    },
    {
     "name": "stdout",
     "output_type": "stream",
     "text": [
      "reliability_range (90, 100) (90, 100)\n"
     ]
    },
    {
     "name": "stdout",
     "output_type": "stream",
     "text": [
      "reliability_range (90, 100) (90, 100)\n"
     ]
    },
    {
     "name": "stdout",
     "output_type": "stream",
     "text": [
      "reliability_range (90, 100) (90, 100)\n"
     ]
    },
    {
     "name": "stdout",
     "output_type": "stream",
     "text": [
      "reliability_range (90, 100) (90, 100)\n"
     ]
    },
    {
     "name": "stdout",
     "output_type": "stream",
     "text": [
      "reliability_range (90, 100) (90, 100)\n"
     ]
    },
    {
     "name": "stdout",
     "output_type": "stream",
     "text": [
      "reliability_range (90, 100) (90, 100)\n"
     ]
    },
    {
     "name": "stdout",
     "output_type": "stream",
     "text": [
      "reliability_range (90, 100) (90, 100)\n"
     ]
    },
    {
     "name": "stdout",
     "output_type": "stream",
     "text": [
      "reliability_range (90, 100) (90, 100)\n"
     ]
    },
    {
     "name": "stdout",
     "output_type": "stream",
     "text": [
      "reliability_range (90, 100) (90, 100)\n"
     ]
    },
    {
     "name": "stdout",
     "output_type": "stream",
     "text": [
      "reliability_range (90, 100) (90, 100)\n"
     ]
    },
    {
     "name": "stdout",
     "output_type": "stream",
     "text": [
      "reliability_range (90, 100) (90, 100)\n"
     ]
    },
    {
     "name": "stdout",
     "output_type": "stream",
     "text": [
      "reliability_range (90, 100) (90, 100)\n"
     ]
    },
    {
     "name": "stdout",
     "output_type": "stream",
     "text": [
      "reliability_range (90, 100) (90, 100)\n"
     ]
    },
    {
     "name": "stdout",
     "output_type": "stream",
     "text": [
      "reliability_range (90, 100) (90, 100)\n"
     ]
    },
    {
     "name": "stdout",
     "output_type": "stream",
     "text": [
      "reliability_range (90, 100) (90, 100)\n"
     ]
    },
    {
     "name": "stdout",
     "output_type": "stream",
     "text": [
      "reliability_range (90, 100) (90, 100)\n"
     ]
    },
    {
     "name": "stdout",
     "output_type": "stream",
     "text": [
      "reliability_range (90, 100) (90, 100)\n"
     ]
    },
    {
     "name": "stdout",
     "output_type": "stream",
     "text": [
      "reliability_range (90, 100) (90, 100)\n"
     ]
    },
    {
     "name": "stdout",
     "output_type": "stream",
     "text": [
      "reliability_range (90, 100) (90, 100)\n"
     ]
    },
    {
     "name": "stdout",
     "output_type": "stream",
     "text": [
      "reliability_range (90, 100) (90, 100)\n"
     ]
    },
    {
     "name": "stdout",
     "output_type": "stream",
     "text": [
      "reliability_range (90, 100) (90, 100)\n"
     ]
    },
    {
     "name": "stdout",
     "output_type": "stream",
     "text": [
      "reliability_range (90, 100) (90, 100)\n"
     ]
    },
    {
     "name": "stdout",
     "output_type": "stream",
     "text": [
      "reliability_range (90, 100) (90, 100)\n"
     ]
    }
   ],
   "source": [
    "from syd.interactive_viewer import InteractiveViewer\n",
    "from syd.notebook_deploy import NotebookDeployment\n",
    "\n",
    "class MyViewer(InteractiveViewer):\n",
    "    def __init__(self, spkmaps, extras):\n",
    "        self.spkmaps = spkmaps\n",
    "        self.extras = extras\n",
    "\n",
    "        self.add_integer(\"idx_ses_plot\", min_value=0, max_value=len(self.spkmaps), default=0)\n",
    "        self.add_selection(\"idx_roi_plot\", options=list(range(self.spkmaps[0].shape[0])), default=0)\n",
    "        self.add_float(\"vmax\", min_value=0.1, max_value=30, default=10)\n",
    "        self.add_integer(\"trial\", min_value=0, max_value=self.spkmaps[0].shape[1], default=0)\n",
    "        self.add_boolean(\"weight_as_alpha\", default=True)\n",
    "        self.add_integer_pair(\"reliability_range\", min_value=0, max_value=100, default=(90, 100))\n",
    "        self.add_selection(\"relmethod\", options=[\"relloo\", \"relcor\"], default=\"relloo\")\n",
    "\n",
    "        self.on_change(\"idx_ses_plot\", self.update_ranges)\n",
    "        self.on_change(\"reliability_range\", self.update_ranges)\n",
    "        self.on_change(\"relmethod\", self.update_ranges)\n",
    "\n",
    "        self.update_ranges(self.get_state())\n",
    "\n",
    "    def update_ranges(self, state):\n",
    "        idx_ses_plot = state[\"idx_ses_plot\"]\n",
    "        min_rel, max_rel = state[\"reliability_range\"]\n",
    "        relmethod = state[\"relmethod\"]\n",
    "        min_percentile = np.nanpercentile(self.extras[relmethod][idx_ses_plot], min_rel)\n",
    "        max_percentile = np.nanpercentile(self.extras[relmethod][idx_ses_plot], max_rel)\n",
    "        idx_roi_options = np.where(np.logical_and(self.extras[relmethod][idx_ses_plot] >= min_percentile, self.extras[relmethod][idx_ses_plot] <= max_percentile))[0]\n",
    "\n",
    "        self.update_selection(\"idx_roi_plot\", options=list(idx_roi_options), default=idx_roi_options[0])\n",
    "        self.update_integer(\"trial\", min_value=0, max_value=self.spkmaps[idx_ses_plot].shape[1])\n",
    "\n",
    "    def get_trial_consistency(self, roi_activity):\n",
    "        num_trials = roi_activity.shape[0]\n",
    "        trial_consistency = np.full(num_trials, np.nan)\n",
    "        trial_weight = np.sqrt(np.mean(roi_activity**2, axis=1))\n",
    "        for trial in range(num_trials):\n",
    "            all_but_trial_activity = np.delete(roi_activity, trial, axis=0)\n",
    "            all_but_trial_average = np.nanmean(all_but_trial_activity, axis=0)\n",
    "            trial_consistency[trial] = helpers.vectorCorrelation(all_but_trial_average, roi_activity[trial], axis=0)\n",
    "        return trial_consistency, trial_weight\n",
    "\n",
    "    def plot(self, state):\n",
    "        idx_ses_plot = state[\"idx_ses_plot\"]\n",
    "        idx_roi_plot = state[\"idx_roi_plot\"]\n",
    "        vmax = state[\"vmax\"]\n",
    "        trial = state[\"trial\"]\n",
    "        weight_as_alpha = state[\"weight_as_alpha\"]\n",
    "\n",
    "        trial_consistency, trial_weight = self.get_trial_consistency(self.spkmaps[idx_ses_plot][idx_roi_plot])\n",
    "        trial_weight = trial_weight / np.nanmax(trial_weight)\n",
    "\n",
    "        loo_average = np.delete(self.spkmaps[idx_ses_plot][idx_roi_plot], trial, axis=0)\n",
    "        loo_weights = np.sqrt(np.mean(loo_average**2, axis=1, keepdims=True))\n",
    "        loo_average = np.nanmean(loo_average*loo_weights, axis=0)\n",
    "\n",
    "        # Colormap based on trial consistency\n",
    "        cmap = plt.get_cmap(\"viridis_r\")\n",
    "        colors = cmap(trial_consistency)\n",
    "\n",
    "        fig, ax = plt.subplots(1, 3, figsize=(12, 5), layout=\"constrained\")\n",
    "        cb = ax[0].imshow(self.spkmaps[idx_ses_plot][idx_roi_plot], cmap=\"gray_r\", vmin=0, vmax=vmax, aspect=\"auto\", interpolation=\"none\")\n",
    "        ax[0].axhline(y=trial, color=\"g\", linewidth=0.5)\n",
    "        ax[0].set_title(f\"ROI {idx_roi_plot} in Session {idx_ses_plot}\")\n",
    "        ax[0].set_xlabel(\"Virtual Position\")\n",
    "        ax[0].set_ylabel(\"Trials\")\n",
    "        cbar = plt.colorbar(cb, ax=ax[0])\n",
    "        cbar.set_label(r\"Activity Level ($\\sigma$)\")\n",
    "\n",
    "        for ii in range(trial_consistency.shape[0]):\n",
    "            alpha = trial_weight[ii] if weight_as_alpha else 1\n",
    "            ax[1].plot(self.spkmaps[idx_ses_plot][idx_roi_plot, ii], color=colors[ii], linewidth=1, alpha=alpha)\n",
    "\n",
    "        norm = plt.Normalize(np.min(trial_consistency), np.max(trial_consistency))\n",
    "        sm = plt.cm.ScalarMappable(cmap=cmap, norm=norm)\n",
    "        cbar = plt.colorbar(sm, ax=ax[1])\n",
    "        cbar.set_label('Trial Consistency')\n",
    "\n",
    "        ax[1].set_xlabel(\"Virtual Position\")\n",
    "        ax[1].set_ylabel(\"Activity\")\n",
    "        ax[1].set_title(f\"All Trials - ROI LOO: {self.extras[relmethod][idx_ses_plot][idx_roi_plot]:.2f}\")\n",
    "\n",
    "        ax[2].plot(self.spkmaps[idx_ses_plot][idx_roi_plot, trial], color=\"k\", linewidth=1, label=\"Selected Trial\")\n",
    "        ax[2].plot(loo_average, color=\"r\", linewidth=1, label=\"Leave-One-Out Average\")\n",
    "        ax[2].legend()\n",
    "        ax[2].set_xlabel(\"Virtual Position\")\n",
    "        ax[2].set_ylabel(\"Activity\")\n",
    "        ax[2].set_title(f\"Trial {trial}: Consistency: {trial_consistency[trial]:.2f}, Weight: {trial_weight[trial]:.2f}\")\n",
    "        return fig\n",
    "    \n",
    "\n",
    "viewer = MyViewer(spkmaps, extras)\n",
    "deployment = NotebookDeployment(viewer, controls_position=\"left\")\n",
    "deployment.deploy()"
   ]
  },
  {
   "cell_type": "code",
   "execution_count": 5,
   "metadata": {},
   "outputs": [
    {
     "name": "stdout",
     "output_type": "stream",
     "text": [
      "['ATL022', 'ATL027']\n"
     ]
    },
    {
     "name": "stderr",
     "output_type": "stream",
     "text": [
      "100%|██████████| 8/8 [00:13<00:00,  1.67s/it]0:00<?, ?it/s]\n",
      "100%|██████████| 8/8 [00:10<00:00,  1.30s/it]0:18<00:18, 18.61s/it]\n",
      "Preparing mouse data: 100%|██████████| 2/2 [00:33<00:00, 16.76s/it]\n"
     ]
    }
   ],
   "source": [
    "from hosting.placefield_singlecells.place_field_viewer import PlaceFieldViewer\n",
    "viewer = PlaceFieldViewer(fast_mode=True)"
   ]
  },
  {
   "cell_type": "code",
   "execution_count": 15,
   "metadata": {},
   "outputs": [],
   "source": [
    "fig = viewer.get_plot(\"ATL022\", 1, min_percentile=90, max_percentile=100, idx_target_ses=0, dead_trials=5, red_cells=True)\n",
    "fig.show()"
   ]
  },
  {
   "cell_type": "code",
   "execution_count": 14,
   "metadata": {},
   "outputs": [
    {
     "name": "stdout",
     "output_type": "stream",
     "text": [
      "863 3\n"
     ]
    }
   ],
   "source": [
    "idxs = viewer._gather_idxs(\"ATL022\", 0, 0, 100, red_cells=False)\n",
    "idxs_redcells = viewer._gather_idxs(\"ATL022\", 0, 00, 100, red_cells=True)\n",
    "\n",
    "print(len(idxs), len(idxs_redcells))"
   ]
  },
  {
   "cell_type": "code",
   "execution_count": 12,
   "metadata": {},
   "outputs": [
    {
     "name": "stdout",
     "output_type": "stream",
     "text": [
      "0\n",
      "18\n"
     ]
    }
   ],
   "source": [
    "red_only = [i for i in idxs_redcells if i not in idxs]\n",
    "not_red = [i for i in idxs if i not in idxs_redcells]\n",
    "\n",
    "print(len(red_only))\n",
    "print(len(not_red))\n"
   ]
  },
  {
   "cell_type": "code",
   "execution_count": 16,
   "metadata": {},
   "outputs": [],
   "source": [
    "fig = viewer.get_plot(\"ATL022\", 15, min_percentile=0, max_percentile=100, idx_target_ses=0, dead_trials=5, rel_loo=True, fig_number=1)\n",
    "fig = viewer.get_plot(\"ATL022\", 89, min_percentile=0, max_percentile=100, idx_target_ses=0, dead_trials=5, rel_loo=True, fig_number=2)"
   ]
  },
  {
   "cell_type": "code",
   "execution_count": 3,
   "metadata": {},
   "outputs": [],
   "source": [
    "from hosting.placefield_reliability.reliability_viewer import ReliabilityViewer"
   ]
  },
  {
   "cell_type": "code",
   "execution_count": 4,
   "metadata": {},
   "outputs": [
    {
     "name": "stdout",
     "output_type": "stream",
     "text": [
      "['CR_Hippocannula6' 'CR_Hippocannula7']\n"
     ]
    },
    {
     "name": "stderr",
     "output_type": "stream",
     "text": [
      "Preparing mouse data: 100%|██████████| 2/2 [00:28<00:00, 14.05s/it]\n"
     ]
    }
   ],
   "source": [
    "viewer = ReliabilityViewer(fast_mode=True)"
   ]
  },
  {
   "cell_type": "code",
   "execution_count": 5,
   "metadata": {},
   "outputs": [],
   "source": [
    "fig = viewer.get_plot(\"CR_Hippocannula6\", use_relcor=False, tracked=False, average=False, min_session=None, max_session=None)\n",
    "fig.show()"
   ]
  },
  {
   "cell_type": "code",
   "execution_count": 13,
   "metadata": {},
   "outputs": [
    {
     "name": "stdout",
     "output_type": "stream",
     "text": [
      "[0, 1, 2, 4, 5, 6]\n",
      "[1, 2, 3, 4, 5, 6]\n",
      "[-1, 0, 1, 3, 4, 5]\n",
      "[0, 1, 2, 3, 4, 5]\n"
     ]
    }
   ],
   "source": [
    "print(viewer.idx_ses_first[\"CR_Hippocannula6\"])\n",
    "print(viewer.idx_ses_second[\"CR_Hippocannula6\"])\n",
    "print(viewer.rel_idx_ses_first[\"CR_Hippocannula6\"])\n",
    "print(viewer.rel_idx_ses_second[\"CR_Hippocannula6\"])\n"
   ]
  },
  {
   "cell_type": "code",
   "execution_count": 2,
   "metadata": {},
   "outputs": [],
   "source": [
    "mousedb = database.vrDatabase(\"vrMice\")\n",
    "df = mousedb.getTable(trackerExists=True)\n",
    "mouse_names = df[\"mouseName\"].unique()\n",
    "keep_planes = [1]\n",
    "\n",
    "# Get data for a single mouse\n",
    "mouse_name = \"CR_Hippocannula6\"\n",
    "track = tracking.tracker(mouse_name)  # get tracker object for mouse\n",
    "pcm = analysis.placeCellMultiSession(track, autoload=False, keep_planes=keep_planes)"
   ]
  },
  {
   "cell_type": "code",
   "execution_count": 3,
   "metadata": {},
   "outputs": [
    {
     "name": "stderr",
     "output_type": "stream",
     "text": [
      "100%|██████████| 5/5 [00:13<00:00,  2.80s/it]\n"
     ]
    }
   ],
   "source": [
    "envnum, idx_ses = pcm.env_idx_ses_selector(envmethod=\"second\", sesmethod=6)\n",
    "envnum_first = pcm.env_selector(envmethod=\"first\")\n",
    "idx_ses_first = pcm.env_stats()[envnum_first]\n",
    "\n",
    "idx_ses = sorted(list(set(idx_ses_first) & set(idx_ses)))\n",
    "spkmaps, extras = pcm.get_spkmaps(envnum=envnum, idx_ses=idx_ses, trials=\"full\", average=False, tracked=True)\n",
    "_, extras_first = pcm.get_spkmaps(envnum=envnum_first, idx_ses=idx_ses, trials=\"full\", average=True, tracked=True)\n",
    "\n",
    "avgmaps = [np.nanmean(s, axis=1) for s in spkmaps]\n",
    "avgcenters = [np.nanargmax(s, axis=1) for s in avgmaps]\n",
    "avgmax = [np.nanmax(s, axis=1) for s in avgmaps]\n",
    "centers = np.stack(avgcenters, axis=0)\n",
    "maxes = np.stack(avgmax, axis=0)"
   ]
  },
  {
   "cell_type": "code",
   "execution_count": 4,
   "metadata": {},
   "outputs": [],
   "source": [
    "idx_red = np.logical_or(np.any(np.stack(extras[\"idx_red\"]), axis=0), np.any(np.stack(extras_first[\"idx_red\"]), axis=0))\n",
    "ctl_reliability = [np.nanmean(relcor[~idx_red]) for relcor in extras[\"relcor\"]]\n",
    "ctl_reliability_first = [np.nanmean(relcor[~idx_red]) for relcor in extras_first[\"relcor\"]]\n",
    "red_reliability = [np.nanmean(relcor[idx_red]) for relcor in extras[\"relcor\"]]\n",
    "red_reliability_first = [np.nanmean(relcor[idx_red]) for relcor in extras_first[\"relcor\"]]\n",
    "\n",
    "fig, ax = plt.subplots(2, 1, figsize=(8, 7), layout=\"constrained\")\n",
    "ax[0].plot(range(len(ctl_reliability)), ctl_reliability, color=\"k\", linewidth=1)\n",
    "ax[0].plot(range(len(red_reliability)), red_reliability, color=\"r\", linewidth=1)\n",
    "ax[0].set_xlabel(\"Environment\")\n",
    "ax[0].set_ylabel(\"Reliability\")\n",
    "ax[0].set_title(\"Novel Environment\")\n",
    "ax[1].plot(range(len(ctl_reliability_first)), ctl_reliability_first, color=\"k\", linewidth=1)\n",
    "ax[1].plot(range(len(red_reliability_first)), red_reliability_first, color=\"r\", linewidth=1)\n",
    "ax[1].set_xlabel(\"Environment\")\n",
    "ax[1].set_ylabel(\"Reliability\")\n",
    "ax[1].set_title(\"Familiar Environment\")\n",
    "plt.show()"
   ]
  },
  {
   "cell_type": "code",
   "execution_count": 86,
   "metadata": {},
   "outputs": [
    {
     "name": "stdout",
     "output_type": "stream",
     "text": [
      "True\n",
      "True\n",
      "419 ms ± 7.39 ms per loop (mean ± std. dev. of 7 runs, 1 loop each)\n",
      "66.8 ms ± 1.02 ms per loop (mean ± std. dev. of 7 runs, 10 loops each)\n"
     ]
    }
   ],
   "source": [
    "import numba as nb\n",
    "\n",
    "def _avg_except_one(grand_average: np.ndarray, single_sample: np.ndarray, num_samples: int) -> np.ndarray:\n",
    "    if grand_average.shape != single_sample.shape:\n",
    "        raise ValueError(\"grand_average and single_sample must have the same shape\")\n",
    "    return (grand_average - (single_sample / num_samples)) * (num_samples / (num_samples - 1))\n",
    "\n",
    "def reliability(spkmap: np.ndarray, weighted: bool = True) -> np.ndarray:\n",
    "    \"\"\"Measure reliability using leave-one-out method\n",
    "    \n",
    "    Spkmap is a 3d Array of shape (num_rois, num_trials, num_positions)\n",
    "    \"\"\"\n",
    "    num_rois, num_trials = spkmap.shape[:2]\n",
    "    trial_average = np.nanmean(spkmap, axis=1)\n",
    "    trial_consistency = np.full((num_rois, num_trials), np.nan)\n",
    "    for trial in range(num_trials):\n",
    "        average_except_trial = _avg_except_one(trial_average, spkmap[:, trial], num_trials)\n",
    "        trial_consistency[:, trial] = helpers.vectorCorrelation(average_except_trial, spkmap[:, trial], axis=1)\n",
    "    # Use RMS activity on each trial as weights if requested\n",
    "    weights = np.sqrt(np.mean(spkmap**2, axis=2)) if weighted else None\n",
    "    score = np.average(trial_consistency, axis=1, weights=weights)\n",
    "    return score, trial_consistency\n",
    "\n",
    "rel_score, xx_trial_consistency = reliability(spkmaps[0])\n",
    "\n",
    "@nb.njit(parallel=True, fastmath=True)\n",
    "def _jit_reliability(spkmap: np.ndarray) -> np.ndarray:\n",
    "    \"\"\"Measure reliability using leave-one-out method\"\"\"\n",
    "    num_rois, num_trials, num_positions = spkmap.shape\n",
    "    trial_average = np.zeros((num_rois, num_positions))\n",
    "    for roi in nb.prange(num_rois):\n",
    "        for position in range(num_positions):\n",
    "            trial_average[roi, position] = np.mean(spkmap[roi, :, position])\n",
    "    \n",
    "    trial_consistency = np.full((num_rois, num_trials), np.nan)\n",
    "    for trial in nb.prange(num_trials):\n",
    "        # First get the average excluding the current trial\n",
    "        average_except_trial = (trial_average - (spkmap[:, trial] / num_trials)) * (num_trials / (num_trials - 1))\n",
    "\n",
    "        for roi in range(num_rois):\n",
    "            average_dev = average_except_trial[roi] - np.mean(average_except_trial[roi])\n",
    "            average_std = np.sqrt(np.sum(average_dev**2) / (num_trials - 1))\n",
    "            trial_dev = spkmap[roi, trial] - np.mean(spkmap[roi, trial])\n",
    "            trial_std = np.sqrt(np.sum(trial_dev**2) / (num_trials - 1))\n",
    "            if average_std == 0 or trial_std == 0:\n",
    "                trial_consistency[roi, trial] = 0\n",
    "            else:\n",
    "                z_average_dev_norm = average_dev/average_std\n",
    "                z_trial_dev_norm = trial_dev/trial_std\n",
    "                z_product = np.sum(z_average_dev_norm * z_trial_dev_norm) / (num_trials - 1)\n",
    "                trial_consistency[roi, trial] = z_product\n",
    "    return trial_consistency\n",
    "\n",
    "def jit_reliability(spkmap: np.ndarray, weighted: bool = True) -> np.ndarray:\n",
    "    \"\"\"Measure reliability using leave-one-out method\"\"\"\n",
    "    trial_consistency = _jit_reliability(spkmap)\n",
    "    # Use RMS activity on each trial as weights if requested\n",
    "    weights = np.sqrt(np.mean(spkmap**2, axis=2)) if weighted else None\n",
    "    score = np.average(trial_consistency, axis=1, weights=weights)\n",
    "    return score, trial_consistency\n",
    " \n",
    "rel_score, trial_consistency = reliability(spkmaps[0])\n",
    "rel_score_jit, trial_consistency_jit = jit_reliability(spkmaps[0])\n",
    "\n",
    "print(np.allclose(rel_score, rel_score_jit))\n",
    "print(np.allclose(trial_consistency, trial_consistency_jit))\n",
    "%timeit rel_score, trial_consistency = reliability(spkmaps[0])\n",
    "%timeit rel_score_jit, trial_consistency_jit = jit_reliability(spkmaps[0])\n"
   ]
  },
  {
   "cell_type": "code",
   "execution_count": 70,
   "metadata": {},
   "outputs": [],
   "source": [
    "plt.scatter(trial_consistency[0], trial_consistency_jit[0] - trial_consistency[0])\n",
    "plt.show()\n"
   ]
  },
  {
   "cell_type": "code",
   "execution_count": 46,
   "metadata": {},
   "outputs": [
    {
     "name": "stdout",
     "output_type": "stream",
     "text": [
      "52.7 ms ± 1.39 ms per loop (mean ± std. dev. of 7 runs, 10 loops each)\n",
      "6.19 ms ± 705 µs per loop (mean ± std. dev. of 7 runs, 1 loop each)\n",
      "31.5 ms ± 1.27 ms per loop (mean ± std. dev. of 7 runs, 10 loops each)\n"
     ]
    }
   ],
   "source": [
    "%timeit x = np.allclose(trial_average, np.nanmean(spkmaps[0], axis=1))\n",
    "%timeit y = jit_reliability(spkmaps[0])\n",
    "%timeit z = fs.nanmean(spkmaps[0], axis=1)"
   ]
  },
  {
   "cell_type": "code",
   "execution_count": null,
   "metadata": {},
   "outputs": [],
   "source": []
  },
  {
   "cell_type": "code",
   "execution_count": null,
   "metadata": {},
   "outputs": [],
   "source": []
  }
 ],
 "metadata": {
  "kernelspec": {
   "display_name": "vrAnalysis",
   "language": "python",
   "name": "python3"
  },
  "language_info": {
   "codemirror_mode": {
    "name": "ipython",
    "version": 3
   },
   "file_extension": ".py",
   "mimetype": "text/x-python",
   "name": "python",
   "nbconvert_exporter": "python",
   "pygments_lexer": "ipython3",
   "version": "3.9.19"
  }
 },
 "nbformat": 4,
 "nbformat_minor": 2
}
