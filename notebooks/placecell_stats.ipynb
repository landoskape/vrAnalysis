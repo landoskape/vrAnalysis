{
 "cells": [
  {
   "cell_type": "code",
   "execution_count": 1,
   "metadata": {},
   "outputs": [
    {
     "name": "stdout",
     "output_type": "stream",
     "text": [
      "Using device: cuda\n"
     ]
    }
   ],
   "source": [
    "%reload_ext autoreload\n",
    "%autoreload 2\n",
    "%matplotlib qt\n",
    "\n",
    "import random\n",
    "from pathlib import Path\n",
    "\n",
    "from tqdm import tqdm\n",
    "import numpy as np\n",
    "import scipy as sp\n",
    "import torch\n",
    "import matplotlib as mpl\n",
    "import matplotlib.pyplot as plt\n",
    "# import pandas as pd\n",
    "# pd.options.display.width = 1000\n",
    "\n",
    "import os, sys\n",
    "sys.path.append(os.path.abspath(os.path.dirname(os.getcwd())))\n",
    "\n",
    "from vrAnalysis import analysis\n",
    "from vrAnalysis import helpers\n",
    "from vrAnalysis import database\n",
    "from vrAnalysis import tracking\n",
    "from vrAnalysis import session\n",
    "from vrAnalysis import registration\n",
    "from vrAnalysis import fileManagement as fm\n",
    "from vrAnalysis import faststats as fs\n",
    "\n",
    "sessiondb = database.vrDatabase('vrSessions')\n",
    "mousedb = database.vrDatabase('vrMice')\n",
    "\n",
    "# pd.set_option('display.max_rows', 100)\n",
    "\n",
    "device = \"cuda\" if torch.cuda.is_available() else \"cpu\"\n",
    "print(f\"Using device: {device}\")"
   ]
  },
  {
   "cell_type": "code",
   "execution_count": 2,
   "metadata": {},
   "outputs": [],
   "source": [
    "from hosting.placefield_reliability.reliability_viewer import ReliabilityViewer"
   ]
  },
  {
   "cell_type": "code",
   "execution_count": 3,
   "metadata": {},
   "outputs": [
    {
     "name": "stdout",
     "output_type": "stream",
     "text": [
      "['CR_Hippocannula6' 'CR_Hippocannula7']\n"
     ]
    },
    {
     "name": "stderr",
     "output_type": "stream",
     "text": [
      "Preparing mouse data: 100%|██████████| 2/2 [00:24<00:00, 12.32s/it]\n"
     ]
    }
   ],
   "source": [
    "viewer = ReliabilityViewer(fast_mode=True)"
   ]
  },
  {
   "cell_type": "code",
   "execution_count": 5,
   "metadata": {},
   "outputs": [],
   "source": [
    "fig = viewer.get_plot(\"CR_Hippocannula6\", use_relcor=False, tracked=False, average=False, min_session=None, max_session=None)\n",
    "fig.show()"
   ]
  },
  {
   "cell_type": "code",
   "execution_count": 13,
   "metadata": {},
   "outputs": [
    {
     "name": "stdout",
     "output_type": "stream",
     "text": [
      "[0, 1, 2, 4, 5, 6]\n",
      "[1, 2, 3, 4, 5, 6]\n",
      "[-1, 0, 1, 3, 4, 5]\n",
      "[0, 1, 2, 3, 4, 5]\n"
     ]
    }
   ],
   "source": [
    "print(viewer.idx_ses_first[\"CR_Hippocannula6\"])\n",
    "print(viewer.idx_ses_second[\"CR_Hippocannula6\"])\n",
    "print(viewer.rel_idx_ses_first[\"CR_Hippocannula6\"])\n",
    "print(viewer.rel_idx_ses_second[\"CR_Hippocannula6\"])\n"
   ]
  },
  {
   "cell_type": "code",
   "execution_count": 17,
   "metadata": {},
   "outputs": [],
   "source": [
    "mousedb = database.vrDatabase(\"vrMice\")\n",
    "df = mousedb.getTable(trackerExists=True)\n",
    "mouse_names = df[\"mouseName\"].unique()\n",
    "keep_planes = [1]\n",
    "\n",
    "# Get data for a single mouse\n",
    "mouse_name = \"CR_Hippocannula6\"\n",
    "track = tracking.tracker(mouse_name)  # get tracker object for mouse\n",
    "pcm = analysis.placeCellMultiSession(track, autoload=False, keep_planes=keep_planes)"
   ]
  },
  {
   "cell_type": "code",
   "execution_count": 24,
   "metadata": {},
   "outputs": [],
   "source": [
    "envnum, idx_ses = pcm.env_idx_ses_selector(envmethod=\"second\", sesmethod=6)\n",
    "envnum_first = pcm.env_selector(envmethod=\"first\")\n",
    "idx_ses_first = pcm.env_stats()[envnum_first]\n",
    "\n",
    "idx_ses = sorted(list(set(idx_ses_first) & set(idx_ses)))\n",
    "spkmaps, extras = pcm.get_spkmaps(envnum=envnum, idx_ses=idx_ses, trials=\"full\", average=False, tracked=True)\n",
    "_, extras_first = pcm.get_spkmaps(envnum=envnum_first, idx_ses=idx_ses, trials=\"full\", average=True, tracked=True)\n",
    "\n",
    "avgmaps = [np.nanmean(s, axis=1) for s in spkmaps]\n",
    "avgcenters = [np.nanargmax(s, axis=1) for s in avgmaps]\n",
    "avgmax = [np.nanmax(s, axis=1) for s in avgmaps]\n",
    "centers = np.stack(avgcenters, axis=0)\n",
    "maxes = np.stack(avgmax, axis=0)"
   ]
  },
  {
   "cell_type": "code",
   "execution_count": 25,
   "metadata": {},
   "outputs": [],
   "source": [
    "idx_red = np.logical_or(np.any(np.stack(extras[\"idx_red\"]), axis=0), np.any(np.stack(extras_first[\"idx_red\"]), axis=0))\n",
    "ctl_reliability = [np.nanmean(relcor[~idx_red]) for relcor in extras[\"relcor\"]]\n",
    "ctl_reliability_first = [np.nanmean(relcor[~idx_red]) for relcor in extras_first[\"relcor\"]]\n",
    "red_reliability = [np.nanmean(relcor[idx_red]) for relcor in extras[\"relcor\"]]\n",
    "red_reliability_first = [np.nanmean(relcor[idx_red]) for relcor in extras_first[\"relcor\"]]\n",
    "\n",
    "fig, ax = plt.subplots(2, 1, figsize=(8, 7), layout=\"constrained\")\n",
    "ax[0].plot(range(len(ctl_reliability)), ctl_reliability, color=\"k\", linewidth=1)\n",
    "ax[0].plot(range(len(red_reliability)), red_reliability, color=\"r\", linewidth=1)\n",
    "ax[0].set_xlabel(\"Environment\")\n",
    "ax[0].set_ylabel(\"Reliability\")\n",
    "ax[0].set_title(\"Novel Environment\")\n",
    "ax[1].plot(range(len(ctl_reliability_first)), ctl_reliability_first, color=\"k\", linewidth=1)\n",
    "ax[1].plot(range(len(red_reliability_first)), red_reliability_first, color=\"r\", linewidth=1)\n",
    "ax[1].set_xlabel(\"Environment\")\n",
    "ax[1].set_ylabel(\"Reliability\")\n",
    "ax[1].set_title(\"Familiar Environment\")\n",
    "plt.show()"
   ]
  }
 ],
 "metadata": {
  "kernelspec": {
   "display_name": "vrAnalysis",
   "language": "python",
   "name": "python3"
  },
  "language_info": {
   "codemirror_mode": {
    "name": "ipython",
    "version": 3
   },
   "file_extension": ".py",
   "mimetype": "text/x-python",
   "name": "python",
   "nbconvert_exporter": "python",
   "pygments_lexer": "ipython3",
   "version": "3.9.19"
  }
 },
 "nbformat": 4,
 "nbformat_minor": 2
}
