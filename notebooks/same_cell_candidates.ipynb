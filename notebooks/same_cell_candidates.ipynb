{
 "cells": [
  {
   "cell_type": "markdown",
   "metadata": {},
   "source": [
    "#### Pipeline for identifying same cell clusters\n",
    "This notebook shows some of the work for identifying and labeling same cell clusters. It's not a complete representation of the pipeline, apologies. But I'll do my best to describe the protocol here and the key steps."
   ]
  },
  {
   "cell_type": "code",
   "execution_count": 1,
   "metadata": {},
   "outputs": [],
   "source": [
    "%reload_ext autoreload\n",
    "%autoreload 2\n",
    "%matplotlib widget\n",
    "\n",
    "import numpy as np\n",
    "from matplotlib import pyplot as plt\n",
    "from vrAnalysis2.database import get_database\n",
    "from vrAnalysis2.sessions import create_b2session\n",
    "from vrAnalysis2.helpers.debug import Timer\n",
    "from vrAnalysis2.analysis.same_cell_candidates import SameCellProcessor\n",
    "from vrAnalysis2.analysis.same_cell_candidates import (\n",
    "    plot_correlation_vs_distance,\n",
    "    plot_plane_pair_histograms,\n",
    "    plot_cluster_size_distribution,\n",
    "    plot_distance_distribution,\n",
    "    plot_roi_removal_analysis,\n",
    "    ClusterExplorer,\n",
    ")\n",
    "from vrAnalysis2.analysis.same_cell_candidates.base import SameCellParams, SameCellClusterParameters\n",
    "\n",
    "sessiondb = get_database('vrSessions')"
   ]
  },
  {
   "cell_type": "code",
   "execution_count": null,
   "metadata": {},
   "outputs": [],
   "source": [
    "spks_type = \"corrected\"\n",
    "\n",
    "random_choice = True\n",
    "if random_choice:\n",
    "    import random\n",
    "    session = random.choice(sessiondb.iter_sessions(imaging=True, dontTrack=False, session_params={\"spks_type\": \"corrected\"}))\n",
    "\n",
    "else:\n",
    "    mouse_name = \"ATL012\"\n",
    "    date = \"2023-01-20\"\n",
    "    session_id = \"702\"\n",
    "    session = create_b2session(mouse_name, date, session_id, dict(spks_type=spks_type))\n",
    "\n",
    "print(session)"
   ]
  },
  {
   "cell_type": "code",
   "execution_count": 15,
   "metadata": {},
   "outputs": [],
   "source": [
    "cluster_params = SameCellClusterParameters()\n",
    "processor_params = SameCellParams(\n",
    "    spks_type=cluster_params.spks_type,\n",
    "    keep_planes=cluster_params.keep_planes,\n",
    "    good_labels=cluster_params.good_labels,\n",
    "    npix_cutoff=cluster_params.npix_cutoff,\n",
    ")\n",
    "scp = SameCellProcessor(session, processor_params).load_data()"
   ]
  },
  {
   "cell_type": "code",
   "execution_count": 16,
   "metadata": {},
   "outputs": [],
   "source": [
    "explorer = ClusterExplorer(scp)"
   ]
  },
  {
   "cell_type": "code",
   "execution_count": null,
   "metadata": {},
   "outputs": [],
   "source": [
    "explorer = explorer.deploy()"
   ]
  },
  {
   "cell_type": "code",
   "execution_count": 48,
   "metadata": {},
   "outputs": [],
   "source": [
    "from vrAnalysis2.helpers.signals import autocorrelation\n",
    "\n",
    "# Explore how autocorrelation relates to label\n",
    "activity = session.spks\n",
    "labels = session.roicat_classifier[\"class_predictions\"]\n",
    "\n",
    "# Group activity by labels (on axis=1 of activity)\n",
    "grouped_activity = []\n",
    "class_name = [session.roicat_classifier[\"label_to_description\"][session.roicat_classifier[\"id_to_label\"][id]] for id in np.unique(labels)]\n",
    "for label in np.unique(labels):\n",
    "    grouped_activity.append(activity[:, labels == label])"
   ]
  },
  {
   "cell_type": "code",
   "execution_count": 49,
   "metadata": {},
   "outputs": [],
   "source": [
    "# Compute autocorrelation for each group\n",
    "autocorrelations = [autocorrelation(group, axis=0) for group in grouped_activity]"
   ]
  },
  {
   "cell_type": "code",
   "execution_count": null,
   "metadata": {},
   "outputs": [],
   "source": [
    "fig, ax = plt.subplots(1, 1, figsize=(4, 4))\n",
    "for ilabel, label in enumerate(np.unique(labels)):\n",
    "    ax.plot(np.mean(autocorrelations[ilabel], axis=1), label=class_name[ilabel])\n",
    "ax.legend()\n",
    "ax.set_xlabel(\"Lag\")\n",
    "ax.set_ylabel(\"Autocorrelation\")\n",
    "ax.set_xlim(0, 80)\n",
    "plt.show()"
   ]
  },
  {
   "cell_type": "code",
   "execution_count": null,
   "metadata": {},
   "outputs": [],
   "source": [
    "clusters = explorer.clusters\n"
   ]
  },
  {
   "cell_type": "code",
   "execution_count": 18,
   "metadata": {},
   "outputs": [],
   "source": [
    "show_cluster_size = False\n",
    "if show_cluster_size:\n",
    "    plot_cluster_size_distribution(scp, verbose=False)"
   ]
  },
  {
   "cell_type": "code",
   "execution_count": null,
   "metadata": {},
   "outputs": [],
   "source": [
    "show_correlation_vs_distance = True\n",
    "if show_correlation_vs_distance:\n",
    "    viewer = plot_correlation_vs_distance(scp)\n",
    "    viewer.deploy(env=\"notebook\")"
   ]
  }
 ],
 "metadata": {
  "kernelspec": {
   "display_name": "vrAnalysis",
   "language": "python",
   "name": "python3"
  },
  "language_info": {
   "codemirror_mode": {
    "name": "ipython",
    "version": 3
   },
   "file_extension": ".py",
   "mimetype": "text/x-python",
   "name": "python",
   "nbconvert_exporter": "python",
   "pygments_lexer": "ipython3",
   "version": "3.11.11"
  }
 },
 "nbformat": 4,
 "nbformat_minor": 2
}
