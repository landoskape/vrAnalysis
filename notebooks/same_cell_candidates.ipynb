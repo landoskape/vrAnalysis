{
 "cells": [
  {
   "cell_type": "markdown",
   "metadata": {},
   "source": [
    "#### Pipeline for identifying same cell clusters\n",
    "This notebook shows some of the work for identifying and labeling same cell clusters. It's not a complete representation of the pipeline, apologies. But I'll do my best to describe the protocol here and the key steps."
   ]
  },
  {
   "cell_type": "code",
   "execution_count": 1,
   "metadata": {},
   "outputs": [],
   "source": [
    "%reload_ext autoreload\n",
    "%autoreload 2\n",
    "%matplotlib widget\n",
    "\n",
    "from time import perf_counter\n",
    "import numpy as np\n",
    "from matplotlib import pyplot as plt\n",
    "from vrAnalysis import database\n",
    "from vrAnalysis2.sessions import create_b2session\n",
    "from vrAnalysis2.helpers.debug import Timer\n",
    "from vrAnalysis2.analysis.same_cell_candidates import SameCellProcessor, get_connected_groups\n",
    "from vrAnalysis2.analysis.same_cell_candidates import (\n",
    "    plot_correlation_vs_distance,\n",
    "    plot_plane_pair_histograms,\n",
    "    plot_cluster_size_distribution,\n",
    "    plot_distance_distribution,\n",
    "    plot_roi_removal_analysis,\n",
    "    ClusterExplorer,\n",
    ")\n",
    "\n",
    "sessiondb = database.vrDatabase('vrSessions')"
   ]
  },
  {
   "cell_type": "code",
   "execution_count": 2,
   "metadata": {},
   "outputs": [
    {
     "name": "stdout",
     "output_type": "stream",
     "text": [
      "B2Session(mouse_name='ATL012', date='2023-01-20', session_id='702')\n"
     ]
    }
   ],
   "source": [
    "random_choice = False\n",
    "if random_choice:\n",
    "    import random\n",
    "    session = random.choice(sessiondb.iterSessions(imaging=True))\n",
    "    mouse_name = session.mouseName\n",
    "    date = session.dateString\n",
    "    session_id = session.sessionid\n",
    "else:\n",
    "    mouse_name = \"ATL012\"\n",
    "    date = \"2023-01-20\"\n",
    "    session_id = \"702\"\n",
    "\n",
    "spks_type = \"corrected\"\n",
    "session = create_b2session(mouse_name, date, session_id, dict(spks_type=spks_type))\n",
    "print(session)"
   ]
  },
  {
   "cell_type": "code",
   "execution_count": 10,
   "metadata": {},
   "outputs": [],
   "source": [
    "scp = SameCellProcessor(session).load_data()"
   ]
  },
  {
   "cell_type": "code",
   "execution_count": 11,
   "metadata": {},
   "outputs": [],
   "source": [
    "explorer = ClusterExplorer(scp)"
   ]
  },
  {
   "cell_type": "code",
   "execution_count": 12,
   "metadata": {},
   "outputs": [
    {
     "data": {
      "application/vnd.jupyter.widget-view+json": {
       "model_id": "d85671ab8314400d9fcdb65e2b8981d3",
       "version_major": 2,
       "version_minor": 0
      },
      "text/plain": [
       "HBox(children=(VBox(children=(VBox(children=(HTML(value='<b>Parameters</b>'), IntSlider(value=0, description='…"
      ]
     },
     "metadata": {},
     "output_type": "display_data"
    },
    {
     "data": {
      "text/plain": [
       "<vrAnalysis2.analysis.same_cell_candidates.visualize.ClusterExplorer at 0x2d472c37450>"
      ]
     },
     "execution_count": 12,
     "metadata": {},
     "output_type": "execute_result"
    }
   ],
   "source": [
    "explorer.deploy(env=\"notebook\")"
   ]
  },
  {
   "cell_type": "code",
   "execution_count": null,
   "metadata": {},
   "outputs": [],
   "source": []
  },
  {
   "cell_type": "code",
   "execution_count": 18,
   "metadata": {},
   "outputs": [],
   "source": [
    "show_cluster_size = False\n",
    "if show_cluster_size:\n",
    "    plot_cluster_size_distribution(scp, verbose=False)"
   ]
  },
  {
   "cell_type": "code",
   "execution_count": 9,
   "metadata": {},
   "outputs": [
    {
     "data": {
      "application/vnd.jupyter.widget-view+json": {
       "model_id": "fe3041704f0044b7ba7ae8d0e598e72e",
       "version_major": 2,
       "version_minor": 0
      },
      "text/plain": [
       "HBox(children=(VBox(children=(VBox(children=(HTML(value='<b>Parameters</b>'), SelectMultiple(description='keep…"
      ]
     },
     "metadata": {},
     "output_type": "display_data"
    },
    {
     "name": "stderr",
     "output_type": "stream",
     "text": [
      "No such comm: 908afe7039d743d99fb8666d5f2972de\n",
      "No such comm: 908afe7039d743d99fb8666d5f2972de\n",
      "No such comm: 908afe7039d743d99fb8666d5f2972de\n",
      "No such comm: 908afe7039d743d99fb8666d5f2972de\n",
      "No such comm: 908afe7039d743d99fb8666d5f2972de\n",
      "No such comm: 908afe7039d743d99fb8666d5f2972de\n",
      "No such comm: 908afe7039d743d99fb8666d5f2972de\n",
      "No such comm: 908afe7039d743d99fb8666d5f2972de\n",
      "No such comm: 908afe7039d743d99fb8666d5f2972de\n",
      "No such comm: 908afe7039d743d99fb8666d5f2972de\n"
     ]
    }
   ],
   "source": [
    "show_correlation_vs_distance = True\n",
    "if show_correlation_vs_distance:\n",
    "    viewer = plot_correlation_vs_distance(scp)\n",
    "    viewer.deploy(env=\"notebook\")"
   ]
  }
 ],
 "metadata": {
  "kernelspec": {
   "display_name": "vrAnalysis",
   "language": "python",
   "name": "python3"
  },
  "language_info": {
   "codemirror_mode": {
    "name": "ipython",
    "version": 3
   },
   "file_extension": ".py",
   "mimetype": "text/x-python",
   "name": "python",
   "nbconvert_exporter": "python",
   "pygments_lexer": "ipython3",
   "version": "3.11.11"
  }
 },
 "nbformat": 4,
 "nbformat_minor": 2
}
