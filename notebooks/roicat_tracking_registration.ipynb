{
 "cells": [
  {
   "cell_type": "markdown",
   "metadata": {},
   "source": [
    "#### Pipeline for registering ROICaT output for use with vrAnalysis\n",
    "Note that this has to be run in a ROICaT environment with vrAnalysis installed, not the typical ROICaT environment!!!!\n",
    "(They are incompatible at the moment due to numpy, but installing roicat[all] then installing vrAnalysis with no-deps and just manually installing the required ones for database importing works fine). \n",
    "\n",
    "\n",
    "## Tasks:\n",
    "- [ ] Save labels and results as a simple list with groupings by session across planes\n",
    "- [ ] Save quality metrics etc etc\n",
    "- [ ] Use tracked clusters to make some summary plots for red cell detection \n",
    "- [ ] Resave redCellIdx_fromTracked that adds red cell labels to any non-red cells that are tracked \n",
    "      to a red cell when the cluster has a high quality!"
   ]
  },
  {
   "cell_type": "code",
   "execution_count": 1,
   "metadata": {},
   "outputs": [],
   "source": [
    "%reload_ext autoreload\n",
    "%autoreload 2\n",
    "\n",
    "from pathlib import Path\n",
    "import joblib\n",
    "import numpy as np\n",
    "from matplotlib import pyplot as plt\n",
    "from vrAnalysis2.database import get_database\n",
    "from vrAnalysis2.helpers import print_all_keys\n",
    "from vrAnalysis2.tracking import Tracker\n",
    "from roicat_support.tracking import consolidate_labels, make_red_cell_labeling_coherent\n",
    "\n",
    "sessiondb = get_database(\"vrSessions\")\n",
    "mousedb = get_database(\"vrMice\")\n",
    "tracked_mice = list(mousedb.get_table(tracked=True)[\"mouseName\"])"
   ]
  },
  {
   "cell_type": "code",
   "execution_count": 2,
   "metadata": {},
   "outputs": [],
   "source": [
    "for mouse in tracked_mice:\n",
    "    _ = consolidate_labels(mouse, save=True)"
   ]
  },
  {
   "cell_type": "code",
   "execution_count": 6,
   "metadata": {},
   "outputs": [],
   "source": [
    "for mouse in tracked_mice:\n",
    "    tracker = Tracker(mouse)\n",
    "    _ = make_red_cell_labeling_coherent(tracker, save=True)"
   ]
  }
 ],
 "metadata": {
  "kernelspec": {
   "display_name": "ROICaT",
   "language": "python",
   "name": "python3"
  },
  "language_info": {
   "codemirror_mode": {
    "name": "ipython",
    "version": 3
   },
   "file_extension": ".py",
   "mimetype": "text/x-python",
   "name": "python",
   "nbconvert_exporter": "python",
   "pygments_lexer": "ipython3",
   "version": "3.12.9"
  }
 },
 "nbformat": 4,
 "nbformat_minor": 2
}
