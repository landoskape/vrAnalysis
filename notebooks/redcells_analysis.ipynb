{
 "cells": [
  {
   "cell_type": "code",
   "execution_count": 1,
   "metadata": {},
   "outputs": [],
   "source": [
    "%reload_ext autoreload\n",
    "%autoreload 2\n",
    "%matplotlib widget\n",
    "\n",
    "from tqdm import tqdm\n",
    "import numpy as np\n",
    "from matplotlib import pyplot as plt\n",
    "\n",
    "from vrAnalysis2.database import get_database\n",
    "from vrAnalysis2.helpers import Timer\n",
    "from vrAnalysis2.sessions import create_b2session\n",
    "from vrAnalysis2.processors.spkmaps import SpkmapProcessor\n",
    "from vrAnalysis2.syd.placecell_reliability import TrackedSpkmapViewer\n",
    "\n",
    "sessiondb = get_database('vrSessions')\n",
    "mousedb = get_database('vrMice')\n",
    "tracked_mice = mousedb.get_table(tracked=True)[\"mouseName\"].unique()"
   ]
  },
  {
   "cell_type": "code",
   "execution_count": 22,
   "metadata": {},
   "outputs": [],
   "source": [
    "rv = TrackedSpkmapViewer(tracked_mice)"
   ]
  },
  {
   "cell_type": "code",
   "execution_count": 25,
   "metadata": {},
   "outputs": [],
   "source": [
    "rv.reset_roi_options(rv.state)"
   ]
  },
  {
   "cell_type": "code",
   "execution_count": 26,
   "metadata": {},
   "outputs": [
    {
     "data": {
      "application/vnd.jupyter.widget-view+json": {
       "model_id": "1441717918f24750ab4af7f3ee2db101",
       "version_major": 2,
       "version_minor": 0
      },
      "text/plain": [
       "HBox(children=(VBox(children=(VBox(children=(HTML(value='<b>Parameters</b>'), Dropdown(description='mouse', in…"
      ]
     },
     "metadata": {},
     "output_type": "display_data"
    },
    {
     "name": "stderr",
     "output_type": "stream",
     "text": [
      "No such comm: b97d39097ae5419db2f83ad6a69a32b8\n"
     ]
    },
    {
     "name": "stderr",
     "output_type": "stream",
     "text": [
      "C:\\Users\\Andrew\\Documents\\GitHub\\syd\\syd\\parameters.py:768: ParameterUpdateWarning: Warning updating IntegerParameter parameter 'roi_idx': Value 8 above maximum 1, clamping\n",
      "  warn(\n"
     ]
    },
    {
     "name": "stderr",
     "output_type": "stream",
     "text": [
      "No such comm: 0005cd1baf7c410e8686c01418c29c6f\n",
      "No such comm: 0005cd1baf7c410e8686c01418c29c6f\n"
     ]
    },
    {
     "name": "stderr",
     "output_type": "stream",
     "text": [
      "C:\\Users\\Andrew\\Documents\\GitHub\\syd\\syd\\parameters.py:549: ParameterUpdateWarning: Warning updating SelectionParameter parameter 'reference_session': Value 5 not in options, setting to first option (0)\n",
      "  warn(\n",
      "C:\\Users\\Andrew\\Documents\\GitHub\\syd\\syd\\parameters.py:795: ParameterUpdateWarning: Warning updating IntegerParameter parameter 'roi_idx': Min value greater than max value, swapping\n",
      "  warn(\n",
      "C:\\Users\\Andrew\\Documents\\GitHub\\syd\\syd\\parameters.py:768: ParameterUpdateWarning: Warning updating IntegerParameter parameter 'roi_idx': Value 11 above maximum 0, clamping\n",
      "  warn(\n"
     ]
    },
    {
     "ename": "IndexError",
     "evalue": "index 0 is out of bounds for axis 0 with size 0",
     "output_type": "error",
     "traceback": [
      "\u001b[1;31m---------------------------------------------------------------------------\u001b[0m",
      "\u001b[1;31mIndexError\u001b[0m                                Traceback (most recent call last)",
      "File \u001b[1;32m~\\AppData\\Roaming\\Python\\Python311\\site-packages\\ipywidgets\\widgets\\widget.py:773\u001b[0m, in \u001b[0;36mWidget._handle_msg\u001b[1;34m(self, msg)\u001b[0m\n\u001b[0;32m    771\u001b[0m         \u001b[38;5;28;01mif\u001b[39;00m \u001b[38;5;124m'\u001b[39m\u001b[38;5;124mbuffer_paths\u001b[39m\u001b[38;5;124m'\u001b[39m \u001b[38;5;129;01min\u001b[39;00m data:\n\u001b[0;32m    772\u001b[0m             _put_buffers(state, data[\u001b[38;5;124m'\u001b[39m\u001b[38;5;124mbuffer_paths\u001b[39m\u001b[38;5;124m'\u001b[39m], msg[\u001b[38;5;124m'\u001b[39m\u001b[38;5;124mbuffers\u001b[39m\u001b[38;5;124m'\u001b[39m])\n\u001b[1;32m--> 773\u001b[0m         \u001b[38;5;28;43mself\u001b[39;49m\u001b[38;5;241;43m.\u001b[39;49m\u001b[43mset_state\u001b[49m\u001b[43m(\u001b[49m\u001b[43mstate\u001b[49m\u001b[43m)\u001b[49m\n\u001b[0;32m    775\u001b[0m \u001b[38;5;66;03m# Handle a state request.\u001b[39;00m\n\u001b[0;32m    776\u001b[0m \u001b[38;5;28;01melif\u001b[39;00m method \u001b[38;5;241m==\u001b[39m \u001b[38;5;124m'\u001b[39m\u001b[38;5;124mrequest_state\u001b[39m\u001b[38;5;124m'\u001b[39m:\n",
      "File \u001b[1;32m~\\AppData\\Roaming\\Python\\Python311\\site-packages\\ipywidgets\\widgets\\widget.py:650\u001b[0m, in \u001b[0;36mWidget.set_state\u001b[1;34m(self, sync_data)\u001b[0m\n\u001b[0;32m    645\u001b[0m         \u001b[38;5;28mself\u001b[39m\u001b[38;5;241m.\u001b[39m_send(msg, buffers\u001b[38;5;241m=\u001b[39mecho_buffers)\n\u001b[0;32m    647\u001b[0m \u001b[38;5;66;03m# The order of these context managers is important. Properties must\u001b[39;00m\n\u001b[0;32m    648\u001b[0m \u001b[38;5;66;03m# be locked when the hold_trait_notification context manager is\u001b[39;00m\n\u001b[0;32m    649\u001b[0m \u001b[38;5;66;03m# released and notifications are fired.\u001b[39;00m\n\u001b[1;32m--> 650\u001b[0m \u001b[43m\u001b[49m\u001b[38;5;28;43;01mwith\u001b[39;49;00m\u001b[43m \u001b[49m\u001b[38;5;28;43mself\u001b[39;49m\u001b[38;5;241;43m.\u001b[39;49m\u001b[43m_lock_property\u001b[49m\u001b[43m(\u001b[49m\u001b[38;5;241;43m*\u001b[39;49m\u001b[38;5;241;43m*\u001b[39;49m\u001b[43msync_data\u001b[49m\u001b[43m)\u001b[49m\u001b[43m,\u001b[49m\u001b[43m \u001b[49m\u001b[38;5;28;43mself\u001b[39;49m\u001b[38;5;241;43m.\u001b[39;49m\u001b[43mhold_trait_notifications\u001b[49m\u001b[43m(\u001b[49m\u001b[43m)\u001b[49m\u001b[43m:\u001b[49m\n\u001b[0;32m    651\u001b[0m \u001b[43m    \u001b[49m\u001b[38;5;28;43;01mfor\u001b[39;49;00m\u001b[43m \u001b[49m\u001b[43mname\u001b[49m\u001b[43m \u001b[49m\u001b[38;5;129;43;01min\u001b[39;49;00m\u001b[43m \u001b[49m\u001b[43msync_data\u001b[49m\u001b[43m:\u001b[49m\n\u001b[0;32m    652\u001b[0m \u001b[43m        \u001b[49m\u001b[38;5;28;43;01mif\u001b[39;49;00m\u001b[43m \u001b[49m\u001b[43mname\u001b[49m\u001b[43m \u001b[49m\u001b[38;5;129;43;01min\u001b[39;49;00m\u001b[43m \u001b[49m\u001b[38;5;28;43mself\u001b[39;49m\u001b[38;5;241;43m.\u001b[39;49m\u001b[43mkeys\u001b[49m\u001b[43m:\u001b[49m\n",
      "File \u001b[1;32mc:\\Users\\Andrew\\AppData\\Local\\miniforge3\\envs\\vrAnalysis\\Lib\\contextlib.py:144\u001b[0m, in \u001b[0;36m_GeneratorContextManager.__exit__\u001b[1;34m(self, typ, value, traceback)\u001b[0m\n\u001b[0;32m    142\u001b[0m \u001b[38;5;28;01mif\u001b[39;00m typ \u001b[38;5;129;01mis\u001b[39;00m \u001b[38;5;28;01mNone\u001b[39;00m:\n\u001b[0;32m    143\u001b[0m     \u001b[38;5;28;01mtry\u001b[39;00m:\n\u001b[1;32m--> 144\u001b[0m         \u001b[38;5;28;43mnext\u001b[39;49m\u001b[43m(\u001b[49m\u001b[38;5;28;43mself\u001b[39;49m\u001b[38;5;241;43m.\u001b[39;49m\u001b[43mgen\u001b[49m\u001b[43m)\u001b[49m\n\u001b[0;32m    145\u001b[0m     \u001b[38;5;28;01mexcept\u001b[39;00m \u001b[38;5;167;01mStopIteration\u001b[39;00m:\n\u001b[0;32m    146\u001b[0m         \u001b[38;5;28;01mreturn\u001b[39;00m \u001b[38;5;28;01mFalse\u001b[39;00m\n",
      "File \u001b[1;32m~\\AppData\\Roaming\\Python\\Python311\\site-packages\\traitlets\\traitlets.py:1510\u001b[0m, in \u001b[0;36mHasTraits.hold_trait_notifications\u001b[1;34m(self)\u001b[0m\n\u001b[0;32m   1508\u001b[0m \u001b[38;5;28;01mfor\u001b[39;00m changes \u001b[38;5;129;01min\u001b[39;00m cache\u001b[38;5;241m.\u001b[39mvalues():\n\u001b[0;32m   1509\u001b[0m     \u001b[38;5;28;01mfor\u001b[39;00m change \u001b[38;5;129;01min\u001b[39;00m changes:\n\u001b[1;32m-> 1510\u001b[0m         \u001b[38;5;28;43mself\u001b[39;49m\u001b[38;5;241;43m.\u001b[39;49m\u001b[43mnotify_change\u001b[49m\u001b[43m(\u001b[49m\u001b[43mchange\u001b[49m\u001b[43m)\u001b[49m\n",
      "File \u001b[1;32m~\\AppData\\Roaming\\Python\\Python311\\site-packages\\ipywidgets\\widgets\\widget.py:701\u001b[0m, in \u001b[0;36mWidget.notify_change\u001b[1;34m(self, change)\u001b[0m\n\u001b[0;32m    698\u001b[0m     \u001b[38;5;28;01mif\u001b[39;00m name \u001b[38;5;129;01min\u001b[39;00m \u001b[38;5;28mself\u001b[39m\u001b[38;5;241m.\u001b[39mkeys \u001b[38;5;129;01mand\u001b[39;00m \u001b[38;5;28mself\u001b[39m\u001b[38;5;241m.\u001b[39m_should_send_property(name, \u001b[38;5;28mgetattr\u001b[39m(\u001b[38;5;28mself\u001b[39m, name)):\n\u001b[0;32m    699\u001b[0m         \u001b[38;5;66;03m# Send new state to front-end\u001b[39;00m\n\u001b[0;32m    700\u001b[0m         \u001b[38;5;28mself\u001b[39m\u001b[38;5;241m.\u001b[39msend_state(key\u001b[38;5;241m=\u001b[39mname)\n\u001b[1;32m--> 701\u001b[0m \u001b[38;5;28;43msuper\u001b[39;49m\u001b[43m(\u001b[49m\u001b[43m)\u001b[49m\u001b[38;5;241;43m.\u001b[39;49m\u001b[43mnotify_change\u001b[49m\u001b[43m(\u001b[49m\u001b[43mchange\u001b[49m\u001b[43m)\u001b[49m\n",
      "File \u001b[1;32m~\\AppData\\Roaming\\Python\\Python311\\site-packages\\traitlets\\traitlets.py:1525\u001b[0m, in \u001b[0;36mHasTraits.notify_change\u001b[1;34m(self, change)\u001b[0m\n\u001b[0;32m   1523\u001b[0m \u001b[38;5;28;01mdef\u001b[39;00m \u001b[38;5;21mnotify_change\u001b[39m(\u001b[38;5;28mself\u001b[39m, change: Bunch) \u001b[38;5;241m-\u001b[39m\u001b[38;5;241m>\u001b[39m \u001b[38;5;28;01mNone\u001b[39;00m:\n\u001b[0;32m   1524\u001b[0m \u001b[38;5;250m    \u001b[39m\u001b[38;5;124;03m\"\"\"Notify observers of a change event\"\"\"\u001b[39;00m\n\u001b[1;32m-> 1525\u001b[0m     \u001b[38;5;28;01mreturn\u001b[39;00m \u001b[38;5;28;43mself\u001b[39;49m\u001b[38;5;241;43m.\u001b[39;49m\u001b[43m_notify_observers\u001b[49m\u001b[43m(\u001b[49m\u001b[43mchange\u001b[49m\u001b[43m)\u001b[49m\n",
      "File \u001b[1;32m~\\AppData\\Roaming\\Python\\Python311\\site-packages\\traitlets\\traitlets.py:1568\u001b[0m, in \u001b[0;36mHasTraits._notify_observers\u001b[1;34m(self, event)\u001b[0m\n\u001b[0;32m   1565\u001b[0m \u001b[38;5;28;01melif\u001b[39;00m \u001b[38;5;28misinstance\u001b[39m(c, EventHandler) \u001b[38;5;129;01mand\u001b[39;00m c\u001b[38;5;241m.\u001b[39mname \u001b[38;5;129;01mis\u001b[39;00m \u001b[38;5;129;01mnot\u001b[39;00m \u001b[38;5;28;01mNone\u001b[39;00m:\n\u001b[0;32m   1566\u001b[0m     c \u001b[38;5;241m=\u001b[39m \u001b[38;5;28mgetattr\u001b[39m(\u001b[38;5;28mself\u001b[39m, c\u001b[38;5;241m.\u001b[39mname)\n\u001b[1;32m-> 1568\u001b[0m \u001b[43mc\u001b[49m\u001b[43m(\u001b[49m\u001b[43mevent\u001b[49m\u001b[43m)\u001b[49m\n",
      "File \u001b[1;32m~\\AppData\\Roaming\\Python\\Python311\\site-packages\\ipywidgets\\widgets\\widget_selection.py:236\u001b[0m, in \u001b[0;36m_Selection._propagate_index\u001b[1;34m(self, change)\u001b[0m\n\u001b[0;32m    234\u001b[0m     \u001b[38;5;28mself\u001b[39m\u001b[38;5;241m.\u001b[39mlabel \u001b[38;5;241m=\u001b[39m label\n\u001b[0;32m    235\u001b[0m \u001b[38;5;28;01mif\u001b[39;00m \u001b[38;5;28mself\u001b[39m\u001b[38;5;241m.\u001b[39mvalue \u001b[38;5;129;01mis\u001b[39;00m \u001b[38;5;129;01mnot\u001b[39;00m value:\n\u001b[1;32m--> 236\u001b[0m     \u001b[38;5;28;43mself\u001b[39;49m\u001b[38;5;241;43m.\u001b[39;49m\u001b[43mvalue\u001b[49m \u001b[38;5;241m=\u001b[39m value\n",
      "File \u001b[1;32m~\\AppData\\Roaming\\Python\\Python311\\site-packages\\traitlets\\traitlets.py:716\u001b[0m, in \u001b[0;36mTraitType.__set__\u001b[1;34m(self, obj, value)\u001b[0m\n\u001b[0;32m    714\u001b[0m \u001b[38;5;28;01mif\u001b[39;00m \u001b[38;5;28mself\u001b[39m\u001b[38;5;241m.\u001b[39mread_only:\n\u001b[0;32m    715\u001b[0m     \u001b[38;5;28;01mraise\u001b[39;00m TraitError(\u001b[38;5;124m'\u001b[39m\u001b[38;5;124mThe \u001b[39m\u001b[38;5;124m\"\u001b[39m\u001b[38;5;132;01m%s\u001b[39;00m\u001b[38;5;124m\"\u001b[39m\u001b[38;5;124m trait is read-only.\u001b[39m\u001b[38;5;124m'\u001b[39m \u001b[38;5;241m%\u001b[39m \u001b[38;5;28mself\u001b[39m\u001b[38;5;241m.\u001b[39mname)\n\u001b[1;32m--> 716\u001b[0m \u001b[38;5;28;43mself\u001b[39;49m\u001b[38;5;241;43m.\u001b[39;49m\u001b[43mset\u001b[49m\u001b[43m(\u001b[49m\u001b[43mobj\u001b[49m\u001b[43m,\u001b[49m\u001b[43m \u001b[49m\u001b[43mvalue\u001b[49m\u001b[43m)\u001b[49m\n",
      "File \u001b[1;32m~\\AppData\\Roaming\\Python\\Python311\\site-packages\\traitlets\\traitlets.py:706\u001b[0m, in \u001b[0;36mTraitType.set\u001b[1;34m(self, obj, value)\u001b[0m\n\u001b[0;32m    702\u001b[0m     silent \u001b[38;5;241m=\u001b[39m \u001b[38;5;28;01mFalse\u001b[39;00m\n\u001b[0;32m    703\u001b[0m \u001b[38;5;28;01mif\u001b[39;00m silent \u001b[38;5;129;01mis\u001b[39;00m \u001b[38;5;129;01mnot\u001b[39;00m \u001b[38;5;28;01mTrue\u001b[39;00m:\n\u001b[0;32m    704\u001b[0m     \u001b[38;5;66;03m# we explicitly compare silent to True just in case the equality\u001b[39;00m\n\u001b[0;32m    705\u001b[0m     \u001b[38;5;66;03m# comparison above returns something other than True/False\u001b[39;00m\n\u001b[1;32m--> 706\u001b[0m     \u001b[43mobj\u001b[49m\u001b[38;5;241;43m.\u001b[39;49m\u001b[43m_notify_trait\u001b[49m\u001b[43m(\u001b[49m\u001b[38;5;28;43mself\u001b[39;49m\u001b[38;5;241;43m.\u001b[39;49m\u001b[43mname\u001b[49m\u001b[43m,\u001b[49m\u001b[43m \u001b[49m\u001b[43mold_value\u001b[49m\u001b[43m,\u001b[49m\u001b[43m \u001b[49m\u001b[43mnew_value\u001b[49m\u001b[43m)\u001b[49m\n",
      "File \u001b[1;32m~\\AppData\\Roaming\\Python\\Python311\\site-packages\\traitlets\\traitlets.py:1513\u001b[0m, in \u001b[0;36mHasTraits._notify_trait\u001b[1;34m(self, name, old_value, new_value)\u001b[0m\n\u001b[0;32m   1512\u001b[0m \u001b[38;5;28;01mdef\u001b[39;00m \u001b[38;5;21m_notify_trait\u001b[39m(\u001b[38;5;28mself\u001b[39m, name: \u001b[38;5;28mstr\u001b[39m, old_value: t\u001b[38;5;241m.\u001b[39mAny, new_value: t\u001b[38;5;241m.\u001b[39mAny) \u001b[38;5;241m-\u001b[39m\u001b[38;5;241m>\u001b[39m \u001b[38;5;28;01mNone\u001b[39;00m:\n\u001b[1;32m-> 1513\u001b[0m     \u001b[38;5;28;43mself\u001b[39;49m\u001b[38;5;241;43m.\u001b[39;49m\u001b[43mnotify_change\u001b[49m\u001b[43m(\u001b[49m\n\u001b[0;32m   1514\u001b[0m \u001b[43m        \u001b[49m\u001b[43mBunch\u001b[49m\u001b[43m(\u001b[49m\n\u001b[0;32m   1515\u001b[0m \u001b[43m            \u001b[49m\u001b[43mname\u001b[49m\u001b[38;5;241;43m=\u001b[39;49m\u001b[43mname\u001b[49m\u001b[43m,\u001b[49m\n\u001b[0;32m   1516\u001b[0m \u001b[43m            \u001b[49m\u001b[43mold\u001b[49m\u001b[38;5;241;43m=\u001b[39;49m\u001b[43mold_value\u001b[49m\u001b[43m,\u001b[49m\n\u001b[0;32m   1517\u001b[0m \u001b[43m            \u001b[49m\u001b[43mnew\u001b[49m\u001b[38;5;241;43m=\u001b[39;49m\u001b[43mnew_value\u001b[49m\u001b[43m,\u001b[49m\n\u001b[0;32m   1518\u001b[0m \u001b[43m            \u001b[49m\u001b[43mowner\u001b[49m\u001b[38;5;241;43m=\u001b[39;49m\u001b[38;5;28;43mself\u001b[39;49m\u001b[43m,\u001b[49m\n\u001b[0;32m   1519\u001b[0m \u001b[43m            \u001b[49m\u001b[38;5;28;43mtype\u001b[39;49m\u001b[38;5;241;43m=\u001b[39;49m\u001b[38;5;124;43m\"\u001b[39;49m\u001b[38;5;124;43mchange\u001b[39;49m\u001b[38;5;124;43m\"\u001b[39;49m\u001b[43m,\u001b[49m\n\u001b[0;32m   1520\u001b[0m \u001b[43m        \u001b[49m\u001b[43m)\u001b[49m\n\u001b[0;32m   1521\u001b[0m \u001b[43m    \u001b[49m\u001b[43m)\u001b[49m\n",
      "File \u001b[1;32m~\\AppData\\Roaming\\Python\\Python311\\site-packages\\ipywidgets\\widgets\\widget.py:701\u001b[0m, in \u001b[0;36mWidget.notify_change\u001b[1;34m(self, change)\u001b[0m\n\u001b[0;32m    698\u001b[0m     \u001b[38;5;28;01mif\u001b[39;00m name \u001b[38;5;129;01min\u001b[39;00m \u001b[38;5;28mself\u001b[39m\u001b[38;5;241m.\u001b[39mkeys \u001b[38;5;129;01mand\u001b[39;00m \u001b[38;5;28mself\u001b[39m\u001b[38;5;241m.\u001b[39m_should_send_property(name, \u001b[38;5;28mgetattr\u001b[39m(\u001b[38;5;28mself\u001b[39m, name)):\n\u001b[0;32m    699\u001b[0m         \u001b[38;5;66;03m# Send new state to front-end\u001b[39;00m\n\u001b[0;32m    700\u001b[0m         \u001b[38;5;28mself\u001b[39m\u001b[38;5;241m.\u001b[39msend_state(key\u001b[38;5;241m=\u001b[39mname)\n\u001b[1;32m--> 701\u001b[0m \u001b[38;5;28;43msuper\u001b[39;49m\u001b[43m(\u001b[49m\u001b[43m)\u001b[49m\u001b[38;5;241;43m.\u001b[39;49m\u001b[43mnotify_change\u001b[49m\u001b[43m(\u001b[49m\u001b[43mchange\u001b[49m\u001b[43m)\u001b[49m\n",
      "File \u001b[1;32m~\\AppData\\Roaming\\Python\\Python311\\site-packages\\traitlets\\traitlets.py:1525\u001b[0m, in \u001b[0;36mHasTraits.notify_change\u001b[1;34m(self, change)\u001b[0m\n\u001b[0;32m   1523\u001b[0m \u001b[38;5;28;01mdef\u001b[39;00m \u001b[38;5;21mnotify_change\u001b[39m(\u001b[38;5;28mself\u001b[39m, change: Bunch) \u001b[38;5;241m-\u001b[39m\u001b[38;5;241m>\u001b[39m \u001b[38;5;28;01mNone\u001b[39;00m:\n\u001b[0;32m   1524\u001b[0m \u001b[38;5;250m    \u001b[39m\u001b[38;5;124;03m\"\"\"Notify observers of a change event\"\"\"\u001b[39;00m\n\u001b[1;32m-> 1525\u001b[0m     \u001b[38;5;28;01mreturn\u001b[39;00m \u001b[38;5;28;43mself\u001b[39;49m\u001b[38;5;241;43m.\u001b[39;49m\u001b[43m_notify_observers\u001b[49m\u001b[43m(\u001b[49m\u001b[43mchange\u001b[49m\u001b[43m)\u001b[49m\n",
      "File \u001b[1;32m~\\AppData\\Roaming\\Python\\Python311\\site-packages\\traitlets\\traitlets.py:1568\u001b[0m, in \u001b[0;36mHasTraits._notify_observers\u001b[1;34m(self, event)\u001b[0m\n\u001b[0;32m   1565\u001b[0m \u001b[38;5;28;01melif\u001b[39;00m \u001b[38;5;28misinstance\u001b[39m(c, EventHandler) \u001b[38;5;129;01mand\u001b[39;00m c\u001b[38;5;241m.\u001b[39mname \u001b[38;5;129;01mis\u001b[39;00m \u001b[38;5;129;01mnot\u001b[39;00m \u001b[38;5;28;01mNone\u001b[39;00m:\n\u001b[0;32m   1566\u001b[0m     c \u001b[38;5;241m=\u001b[39m \u001b[38;5;28mgetattr\u001b[39m(\u001b[38;5;28mself\u001b[39m, c\u001b[38;5;241m.\u001b[39mname)\n\u001b[1;32m-> 1568\u001b[0m \u001b[43mc\u001b[49m\u001b[43m(\u001b[49m\u001b[43mevent\u001b[49m\u001b[43m)\u001b[49m\n",
      "File \u001b[1;32m~\\Documents\\GitHub\\syd\\syd\\notebook_deployment\\deployer.py:255\u001b[0m, in \u001b[0;36mNotebookDeployer._create_layout.<locals>.<lambda>\u001b[1;34m(change, n)\u001b[0m\n\u001b[0;32m    253\u001b[0m \u001b[38;5;66;03m# Set up parameter widgets with their observe callbacks\u001b[39;00m\n\u001b[0;32m    254\u001b[0m \u001b[38;5;28;01mfor\u001b[39;00m name, widget \u001b[38;5;129;01min\u001b[39;00m \u001b[38;5;28mself\u001b[39m\u001b[38;5;241m.\u001b[39mparameter_widgets\u001b[38;5;241m.\u001b[39mitems():\n\u001b[1;32m--> 255\u001b[0m     widget\u001b[38;5;241m.\u001b[39mobserve(\u001b[38;5;28;01mlambda\u001b[39;00m change, n\u001b[38;5;241m=\u001b[39mname: \u001b[38;5;28;43mself\u001b[39;49m\u001b[38;5;241;43m.\u001b[39;49m\u001b[43m_handle_widget_engagement\u001b[49m\u001b[43m(\u001b[49m\u001b[43mn\u001b[49m\u001b[43m)\u001b[49m)\n\u001b[0;32m    257\u001b[0m \u001b[38;5;66;03m# Create parameter controls section\u001b[39;00m\n\u001b[0;32m    258\u001b[0m param_box \u001b[38;5;241m=\u001b[39m widgets\u001b[38;5;241m.\u001b[39mVBox(\n\u001b[0;32m    259\u001b[0m     [widgets\u001b[38;5;241m.\u001b[39mHTML(\u001b[38;5;124m\"\u001b[39m\u001b[38;5;124m<b>Parameters</b>\u001b[39m\u001b[38;5;124m\"\u001b[39m)]\n\u001b[0;32m    260\u001b[0m     \u001b[38;5;241m+\u001b[39m [w\u001b[38;5;241m.\u001b[39mwidget \u001b[38;5;28;01mfor\u001b[39;00m w \u001b[38;5;129;01min\u001b[39;00m \u001b[38;5;28mself\u001b[39m\u001b[38;5;241m.\u001b[39mparameter_widgets\u001b[38;5;241m.\u001b[39mvalues()],\n\u001b[0;32m    261\u001b[0m     layout\u001b[38;5;241m=\u001b[39mwidgets\u001b[38;5;241m.\u001b[39mLayout(margin\u001b[38;5;241m=\u001b[39m\u001b[38;5;124m\"\u001b[39m\u001b[38;5;124m10px 0px\u001b[39m\u001b[38;5;124m\"\u001b[39m),\n\u001b[0;32m    262\u001b[0m )\n",
      "File \u001b[1;32m~\\Documents\\GitHub\\syd\\syd\\notebook_deployment\\deployer.py:55\u001b[0m, in \u001b[0;36mdebounce.<locals>.decorator.<locals>.debounced\u001b[1;34m(*args, **kwargs)\u001b[0m\n\u001b[0;32m     53\u001b[0m current_time \u001b[38;5;241m=\u001b[39m time()\n\u001b[0;32m     54\u001b[0m \u001b[38;5;28;01mif\u001b[39;00m current_time \u001b[38;5;241m-\u001b[39m last_called[\u001b[38;5;241m0\u001b[39m] \u001b[38;5;241m>\u001b[39m\u001b[38;5;241m=\u001b[39m wait_time:\n\u001b[1;32m---> 55\u001b[0m     \u001b[43mfn\u001b[49m\u001b[43m(\u001b[49m\u001b[38;5;241;43m*\u001b[39;49m\u001b[43margs\u001b[49m\u001b[43m,\u001b[49m\u001b[43m \u001b[49m\u001b[38;5;241;43m*\u001b[39;49m\u001b[38;5;241;43m*\u001b[39;49m\u001b[43mkwargs\u001b[49m\u001b[43m)\u001b[49m\n\u001b[0;32m     56\u001b[0m     last_called[\u001b[38;5;241m0\u001b[39m] \u001b[38;5;241m=\u001b[39m current_time\n",
      "File \u001b[1;32m~\\Documents\\GitHub\\syd\\syd\\notebook_deployment\\deployer.py:189\u001b[0m, in \u001b[0;36mNotebookDeployer._handle_widget_engagement\u001b[1;34m(self, name)\u001b[0m\n\u001b[0;32m    186\u001b[0m         \u001b[38;5;28mself\u001b[39m\u001b[38;5;241m.\u001b[39m_sync_widgets_with_state()\n\u001b[0;32m    188\u001b[0m         \u001b[38;5;66;03m# Update the plot\u001b[39;00m\n\u001b[1;32m--> 189\u001b[0m         \u001b[38;5;28;43mself\u001b[39;49m\u001b[38;5;241;43m.\u001b[39;49m\u001b[43m_update_plot\u001b[49m\u001b[43m(\u001b[49m\u001b[43m)\u001b[49m\n\u001b[0;32m    191\u001b[0m \u001b[38;5;28;01mfinally\u001b[39;00m:\n\u001b[0;32m    192\u001b[0m     \u001b[38;5;28mself\u001b[39m\u001b[38;5;241m.\u001b[39m_updating \u001b[38;5;241m=\u001b[39m \u001b[38;5;28;01mFalse\u001b[39;00m\n",
      "File \u001b[1;32m~\\Documents\\GitHub\\syd\\syd\\notebook_deployment\\deployer.py:228\u001b[0m, in \u001b[0;36mNotebookDeployer._update_plot\u001b[1;34m(self)\u001b[0m\n\u001b[0;32m    225\u001b[0m state \u001b[38;5;241m=\u001b[39m \u001b[38;5;28mself\u001b[39m\u001b[38;5;241m.\u001b[39mviewer\u001b[38;5;241m.\u001b[39mstate\n\u001b[0;32m    227\u001b[0m \u001b[38;5;28;01mwith\u001b[39;00m _plot_context():\n\u001b[1;32m--> 228\u001b[0m     figure \u001b[38;5;241m=\u001b[39m \u001b[38;5;28;43mself\u001b[39;49m\u001b[38;5;241;43m.\u001b[39;49m\u001b[43mviewer\u001b[49m\u001b[38;5;241;43m.\u001b[39;49m\u001b[43mplot\u001b[49m\u001b[43m(\u001b[49m\u001b[43mstate\u001b[49m\u001b[43m)\u001b[49m\n\u001b[0;32m    230\u001b[0m \u001b[38;5;66;03m# Close the last figure if it exists to keep matplotlib clean\u001b[39;00m\n\u001b[0;32m    231\u001b[0m \u001b[38;5;66;03m# (just moved this from after clear_output.... noting!)\u001b[39;00m\n\u001b[0;32m    232\u001b[0m \u001b[38;5;28;01mif\u001b[39;00m \u001b[38;5;28mself\u001b[39m\u001b[38;5;241m.\u001b[39m_last_figure \u001b[38;5;129;01mis\u001b[39;00m \u001b[38;5;129;01mnot\u001b[39;00m \u001b[38;5;28;01mNone\u001b[39;00m:\n",
      "File \u001b[1;32m~\\Documents\\GitHub\\vrAnalysis\\vrAnalysis2\\syd\\placecell_reliability.py:186\u001b[0m, in \u001b[0;36mTrackedSpkmapViewer.plot\u001b[1;34m(self, state)\u001b[0m\n\u001b[0;32m    183\u001b[0m cluster_silhouettes \u001b[38;5;241m=\u001b[39m \u001b[38;5;28mself\u001b[39m\u001b[38;5;241m.\u001b[39m_cluster_silhouettes\n\u001b[0;32m    184\u001b[0m roi_idx \u001b[38;5;241m=\u001b[39m state[\u001b[38;5;124m\"\u001b[39m\u001b[38;5;124mroi_idx\u001b[39m\u001b[38;5;124m\"\u001b[39m]\n\u001b[1;32m--> 186\u001b[0m roi_idx_tracked \u001b[38;5;241m=\u001b[39m idx_tracked[:, \u001b[43midx_keeps\u001b[49m\u001b[43m[\u001b[49m\u001b[43mroi_idx\u001b[49m\u001b[43m]\u001b[49m]\n\u001b[0;32m    187\u001b[0m roi_spkmaps, snums \u001b[38;5;241m=\u001b[39m \u001b[38;5;28mself\u001b[39m\u001b[38;5;241m.\u001b[39m_make_roi_trajectory(spkmaps, idx_keeps[roi_idx])\n\u001b[0;32m    188\u001b[0m roi_session_highlight \u001b[38;5;241m=\u001b[39m np\u001b[38;5;241m.\u001b[39mfull((roi_spkmaps\u001b[38;5;241m.\u001b[39mshape[\u001b[38;5;241m0\u001b[39m], \u001b[38;5;241m20\u001b[39m), \u001b[38;5;241m0.0\u001b[39m)\n",
      "\u001b[1;31mIndexError\u001b[0m: index 0 is out of bounds for axis 0 with size 0"
     ]
    },
    {
     "name": "stderr",
     "output_type": "stream",
     "text": [
      "No such comm: ae9436272a9c4e59b43823683fd9ba19\n",
      "No such comm: ae9436272a9c4e59b43823683fd9ba19\n",
      "No such comm: ae9436272a9c4e59b43823683fd9ba19\n",
      "No such comm: ae9436272a9c4e59b43823683fd9ba19\n",
      "No such comm: ae9436272a9c4e59b43823683fd9ba19\n",
      "No such comm: ae9436272a9c4e59b43823683fd9ba19\n",
      "No such comm: ae9436272a9c4e59b43823683fd9ba19\n",
      "No such comm: ae9436272a9c4e59b43823683fd9ba19\n",
      "No such comm: ae9436272a9c4e59b43823683fd9ba19\n",
      "No such comm: ae9436272a9c4e59b43823683fd9ba19\n",
      "No such comm: ae9436272a9c4e59b43823683fd9ba19\n",
      "No such comm: ae9436272a9c4e59b43823683fd9ba19\n",
      "No such comm: ae9436272a9c4e59b43823683fd9ba19\n",
      "No such comm: ae9436272a9c4e59b43823683fd9ba19\n",
      "No such comm: ae9436272a9c4e59b43823683fd9ba19\n",
      "No such comm: ae9436272a9c4e59b43823683fd9ba19\n",
      "No such comm: ae9436272a9c4e59b43823683fd9ba19\n",
      "No such comm: ae9436272a9c4e59b43823683fd9ba19\n",
      "No such comm: ae9436272a9c4e59b43823683fd9ba19\n",
      "No such comm: ae9436272a9c4e59b43823683fd9ba19\n",
      "No such comm: ae9436272a9c4e59b43823683fd9ba19\n",
      "No such comm: ae9436272a9c4e59b43823683fd9ba19\n",
      "No such comm: ae9436272a9c4e59b43823683fd9ba19\n",
      "No such comm: ae9436272a9c4e59b43823683fd9ba19\n",
      "No such comm: ae9436272a9c4e59b43823683fd9ba19\n",
      "No such comm: ae9436272a9c4e59b43823683fd9ba19\n",
      "No such comm: ae9436272a9c4e59b43823683fd9ba19\n",
      "No such comm: ae9436272a9c4e59b43823683fd9ba19\n",
      "No such comm: ae9436272a9c4e59b43823683fd9ba19\n",
      "No such comm: ae9436272a9c4e59b43823683fd9ba19\n",
      "No such comm: ae9436272a9c4e59b43823683fd9ba19\n",
      "No such comm: ae9436272a9c4e59b43823683fd9ba19\n",
      "No such comm: ae9436272a9c4e59b43823683fd9ba19\n",
      "No such comm: ae9436272a9c4e59b43823683fd9ba19\n",
      "No such comm: ae9436272a9c4e59b43823683fd9ba19\n",
      "No such comm: ae9436272a9c4e59b43823683fd9ba19\n",
      "No such comm: ae9436272a9c4e59b43823683fd9ba19\n",
      "No such comm: ae9436272a9c4e59b43823683fd9ba19\n",
      "No such comm: ae9436272a9c4e59b43823683fd9ba19\n",
      "No such comm: ae9436272a9c4e59b43823683fd9ba19\n",
      "No such comm: ae9436272a9c4e59b43823683fd9ba19\n",
      "No such comm: ae9436272a9c4e59b43823683fd9ba19\n",
      "No such comm: ae9436272a9c4e59b43823683fd9ba19\n",
      "No such comm: ae9436272a9c4e59b43823683fd9ba19\n",
      "No such comm: ae9436272a9c4e59b43823683fd9ba19\n",
      "No such comm: ae9436272a9c4e59b43823683fd9ba19\n",
      "No such comm: ae9436272a9c4e59b43823683fd9ba19\n",
      "No such comm: ae9436272a9c4e59b43823683fd9ba19\n",
      "No such comm: ae9436272a9c4e59b43823683fd9ba19\n"
     ]
    },
    {
     "name": "stderr",
     "output_type": "stream",
     "text": [
      "No such comm: 178db07c07d94ae9bf1a7e26b1064590\n"
     ]
    },
    {
     "name": "stderr",
     "output_type": "stream",
     "text": [
      "No such comm: f5ec6de4acf4411cafcf0f339eeed798\n"
     ]
    },
    {
     "name": "stderr",
     "output_type": "stream",
     "text": [
      "No such comm: 83a545399fcc428f9e0a6e85788fcb88\n"
     ]
    }
   ],
   "source": [
    "rv = rv.deploy(env=\"notebook\")"
   ]
  },
  {
   "cell_type": "code",
   "execution_count": 9,
   "metadata": {},
   "outputs": [],
   "source": [
    "spkmaps = rv._spkmaps\n",
    "reliability = rv._reliability\n",
    "idx_tracked = rv._idx_tracked\n",
    "idx_red = rv._idx_red\n",
    "fraction_active = rv._fraction_active\n",
    "idx_keeps = rv._idx_keeps\n",
    "idx_to_reference = rv._idx_to_reference\n",
    "sample_silhouettes = rv._sample_silhouettes\n",
    "cluster_silhouettes = rv._cluster_silhouettes\n",
    "roi_idx = rv.state[\"roi_idx\"]\n",
    "\n",
    "roi_tracked = idx_tracked[:, idx_keeps[roi_idx]]\n",
    "roi_reliability = [r[idx_keeps[roi_idx]] for r in reliability]\n",
    "roi_idx_red = [ired[idx_keeps[roi_idx]] for ired in idx_red]\n",
    "roi_fraction_active = [fa[idx_keeps[roi_idx]] for fa in fraction_active]\n",
    "roi_sample_silhouettes = sample_silhouettes[:, idx_keeps[roi_idx]]\n",
    "roi_cluster_silhouette = cluster_silhouettes[idx_keeps[roi_idx]]\n",
    "\n",
    "xpix = [stat[idx_keeps[roi_idx]][\"xpix\"] for stat in rv._stat]\n",
    "ypix = [stat[idx_keeps[roi_idx]][\"ypix\"] for stat in rv._stat]\n",
    "lam = [stat[idx_keeps[roi_idx]][\"lam\"] for stat in rv._stat]\n",
    "plane = [planes[idx_keeps[roi_idx]] for planes in rv._planes]\n",
    "ref_image = [ops[pnum][\"meanImg\"] for pnum, ops in zip(plane, rv._ops)]\n",
    "imch2 = [ops[pnum][\"meanImg_chan2\"] for pnum, ops in zip(plane, rv._ops)]\n",
    "xcenter = [int(np.mean(xp)) for xp in xpix]\n",
    "ycenter = [int(np.mean(yp)) for yp in ypix]"
   ]
  },
  {
   "cell_type": "code",
   "execution_count": 10,
   "metadata": {},
   "outputs": [
    {
     "data": {
      "text/plain": [
       "([237, 277, 219, 259, 253, 269, 272, 256, 267, 269, 267],\n",
       " [411, 418, 442, 422, 418, 423, 413, 425, 420, 426, 417],\n",
       " [0, 0, 0, 0, 0, 0, 0, 0, 0, 0, 0])"
      ]
     },
     "execution_count": 10,
     "metadata": {},
     "output_type": "execute_result"
    }
   ],
   "source": [
    "xcenter, ycenter, plane"
   ]
  },
  {
   "cell_type": "code",
   "execution_count": 7,
   "metadata": {},
   "outputs": [
    {
     "data": {
      "text/plain": [
       "(3, 4183)"
      ]
     },
     "execution_count": 7,
     "metadata": {},
     "output_type": "execute_result"
    }
   ],
   "source": [
    "idx_tracked.shape"
   ]
  },
  {
   "cell_type": "code",
   "execution_count": 8,
   "metadata": {},
   "outputs": [
    {
     "data": {
      "text/plain": [
       "array([413, 213, 389])"
      ]
     },
     "execution_count": 8,
     "metadata": {},
     "output_type": "execute_result"
    }
   ],
   "source": [
    "roi_tracked"
   ]
  },
  {
   "cell_type": "code",
   "execution_count": 9,
   "metadata": {},
   "outputs": [
    {
     "data": {
      "text/plain": [
       "(True, array([434.27692463, 197.02809011,   0.        ]))"
      ]
     },
     "execution_count": 9,
     "metadata": {},
     "output_type": "execute_result"
    }
   ],
   "source": [
    "msm = rv.get_multisession(rv.state[\"mouse\"])\n",
    "ridx = msm.processors[0].session.loadone(\"mpciROIs.redCellIdxCoherent\")\n",
    "spos = msm.processors[0].session.loadone(\"mpciROIs.stackPosition\")\n",
    "\n",
    "ridx[413], spos[413]"
   ]
  },
  {
   "cell_type": "code",
   "execution_count": 12,
   "metadata": {},
   "outputs": [
    {
     "name": "stdout",
     "output_type": "stream",
     "text": [
      "False\n",
      "True\n"
     ]
    }
   ],
   "source": [
    "rci_coherent = msm.processors[0].session.loadone(\"mpciROIs.redCellIdxCoherent\")\n",
    "rci_original = msm.processors[0].session.loadone(\"mpciROIs.redCellIdx\")\n",
    "print(rci_original[413])\n",
    "print(rci_coherent[413])\n",
    "\n",
    "\n"
   ]
  },
  {
   "cell_type": "code",
   "execution_count": 14,
   "metadata": {},
   "outputs": [
    {
     "data": {
      "text/plain": [
       "((17400,), (17400,))"
      ]
     },
     "execution_count": 14,
     "metadata": {},
     "output_type": "execute_result"
    }
   ],
   "source": [
    "rci_coherent.shape, rci_original.shape"
   ]
  },
  {
   "cell_type": "code",
   "execution_count": 18,
   "metadata": {},
   "outputs": [
    {
     "data": {
      "text/plain": [
       "(array([  195,   413,   425,   659,  1024,  1111,  1178,  1278,  1342,\n",
       "         1487,  1492,  1722,  1760,  1842,  1884,  1895,  1954,  2164,\n",
       "         2174,  2270,  2655,  2732,  2784,  3557,  3788,  3834,  4422,\n",
       "         4490,  6357,  6703,  6758,  6777,  6854,  7216,  7399,  7594,\n",
       "         7682,  7905,  7925,  7982,  8086,  8110,  8255,  8357,  8650,\n",
       "         8684,  9305, 10054, 10305, 10366, 10476, 10570, 10604, 10758,\n",
       "        10822, 10959, 11060, 11065, 11145, 11484, 11637, 11646, 11651,\n",
       "        11955, 11990, 12232, 12268, 12406, 12911, 13333, 13353, 13496,\n",
       "        13834, 13876, 14026, 14600, 14616, 14661, 14797, 14804, 14840,\n",
       "        14880, 14939, 14983, 15154, 15259, 15367, 15441, 15458, 15524,\n",
       "        16125, 16444, 16446, 16851, 16894, 16966], dtype=int64),\n",
       " array([  195,   425,   659,  1178,  1342,  1722,  1842,  1884,  1895,\n",
       "         1954,  2164,  2174,  2270,  2732,  2784,  3706,  3788,  3834,\n",
       "         5847,  7216,  7594,  7843,  7905,  7982,  8357,  8684, 10054,\n",
       "        10305, 10366, 10476, 10570, 10604, 10822, 11484, 11637, 11651,\n",
       "        11990, 12232, 12268, 12406, 13268, 13333, 13353, 13834, 13876,\n",
       "        14026, 14797, 14804, 14880, 14939, 14983, 15154, 15259, 15458,\n",
       "        16444, 16446, 16851, 16894, 16966], dtype=int64))"
      ]
     },
     "execution_count": 18,
     "metadata": {},
     "output_type": "execute_result"
    }
   ],
   "source": [
    "np.where(rci_coherent)[0], np.where(rci_original)[0]"
   ]
  },
  {
   "cell_type": "code",
   "execution_count": null,
   "metadata": {},
   "outputs": [],
   "source": []
  }
 ],
 "metadata": {
  "kernelspec": {
   "display_name": "vrAnalysis",
   "language": "python",
   "name": "python3"
  },
  "language_info": {
   "codemirror_mode": {
    "name": "ipython",
    "version": 3
   },
   "file_extension": ".py",
   "mimetype": "text/x-python",
   "name": "python",
   "nbconvert_exporter": "python",
   "pygments_lexer": "ipython3",
   "version": "3.11.11"
  }
 },
 "nbformat": 4,
 "nbformat_minor": 2
}
