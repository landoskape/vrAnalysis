{
 "cells": [
  {
   "cell_type": "code",
   "execution_count": 1,
   "metadata": {},
   "outputs": [],
   "source": [
    "%reload_ext autoreload\n",
    "%autoreload 2\n",
    "%matplotlib inline\n",
    "\n",
    "import joblib\n",
    "import numpy as np\n",
    "from matplotlib import pyplot as plt\n",
    "from syd import Viewer\n",
    "\n",
    "from vrAnalysis2.database import get_database\n",
    "from vrAnalysis2.files import analysis_path\n",
    "from vrAnalysis2.tracking import Tracker\n",
    "from vrAnalysis2.multisession import MultiSessionSpkmaps\n",
    "from vrAnalysis2.helpers import edge2center\n",
    "\n",
    "from vrAnalysis2.syd.reliability_continuity import ReliabilityStabilitySummary\n",
    "from vrAnalysis2.syd.placecell_reliability import (\n",
    "    TrackedSpkmapViewer,\n",
    "    TrackingStatsFigureMaker,\n",
    "    ConsistentReliabilityFigureMaker,\n",
    "    ChangingPlaceFieldFigureMaker,\n",
    ")\n",
    "from vrAnalysis2.syd.changing_placefields import (\n",
    "    ChangingPlaceFieldFocusedViewer,\n",
    "    DistributionViewer,\n",
    "    DistributionFigureMaker,\n",
    "    NumROIsInCombosViewer,\n",
    ")\n",
    "\n",
    "sessiondb = get_database('vrSessions')\n",
    "mousedb = get_database('vrMice')\n",
    "tracked_mice = mousedb.get_table(tracked=True)[\"mouseName\"].unique()\n",
    "\n",
    "plt.close('all')"
   ]
  },
  {
   "cell_type": "code",
   "execution_count": 3,
   "metadata": {},
   "outputs": [],
   "source": [
    "show_viewer = False\n",
    "if show_viewer:\n",
    "    viewer = DistributionViewer(tracked_mice, max_session_difference=6)\n",
    "    viewer.show()"
   ]
  },
  {
   "cell_type": "code",
   "execution_count": 4,
   "metadata": {},
   "outputs": [],
   "source": [
    "show_viewer = False\n",
    "if show_viewer:\n",
    "    viewer = DistributionFigureMaker(tracked_mice, max_session_difference=6)\n",
    "    viewer.show()"
   ]
  },
  {
   "cell_type": "code",
   "execution_count": 6,
   "metadata": {},
   "outputs": [
    {
     "data": {
      "application/vnd.jupyter.widget-view+json": {
       "model_id": "16fe25e5b8b64fcf8092236590d4df59",
       "version_major": 2,
       "version_minor": 0
      },
      "text/plain": [
       "HBox(children=(VBox(children=(VBox(children=(HTML(value='<b>Parameters</b>'), Dropdown(description='reliabilit…"
      ]
     },
     "metadata": {},
     "output_type": "display_data"
    }
   ],
   "source": [
    "show_viewer = False\n",
    "if show_viewer:\n",
    "    viewer = NumROIsInCombosViewer(tracked_mice)\n",
    "viewer.show()"
   ]
  },
  {
   "cell_type": "code",
   "execution_count": 7,
   "metadata": {},
   "outputs": [],
   "source": [
    "from vrAnalysis2.files import repo_path\n",
    "from vrAnalysis2.helpers import save_figure\n",
    "\n",
    "def figure_dir(folder: str):\n",
    "    return repo_path() / \"figures\" / \"before_the_reveal\" / folder\n",
    "\n",
    "fig = viewer.figure\n",
    "state = viewer.state\n",
    "fig_dir = figure_dir(\"changing_placefields_cellcounts\")\n",
    "reliability_threshold = state[\"reliability_threshold\"]\n",
    "continuous = state[\"continuous\"]\n",
    "environment = state[\"environment\"]\n",
    "cell_type = state[\"ctl_or_red\"]\n",
    "session_diff = state[\"session_difference\"]\n",
    "fig_name = f\"RelThresh{reliability_threshold}_ContThresh{continuous}_Env{environment}_CellType{cell_type}_SessionDiff{session_diff}\"\n",
    "if not fig_dir.exists():\n",
    "    fig_dir.mkdir(parents=True, exist_ok=True)\n",
    "save_figure(fig, fig_dir / fig_name)"
   ]
  },
  {
   "cell_type": "code",
   "execution_count": 7,
   "metadata": {},
   "outputs": [],
   "source": [
    "show_viewer = False\n",
    "if show_viewer:\n",
    "    # Good example: (0, 1, 2, 4), Ctl=3, Red=0\n",
    "    rv = ChangingPlaceFieldFocusedViewer(tracked_mice)"
   ]
  },
  {
   "cell_type": "code",
   "execution_count": 6,
   "metadata": {},
   "outputs": [],
   "source": [
    "show_viewer = False\n",
    "if show_viewer:\n",
    "    rv = rv.deploy()"
   ]
  }
 ],
 "metadata": {
  "kernelspec": {
   "display_name": "vrAnalysis",
   "language": "python",
   "name": "python3"
  },
  "language_info": {
   "codemirror_mode": {
    "name": "ipython",
    "version": 3
   },
   "file_extension": ".py",
   "mimetype": "text/x-python",
   "name": "python",
   "nbconvert_exporter": "python",
   "pygments_lexer": "ipython3",
   "version": "3.11.11"
  }
 },
 "nbformat": 4,
 "nbformat_minor": 2
}
