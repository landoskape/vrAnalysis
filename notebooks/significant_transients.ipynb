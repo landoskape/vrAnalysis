{
 "cells": [
  {
   "cell_type": "markdown",
   "metadata": {},
   "source": [
    "### Plan to implement significant transient analysis for filtering fluorescence data\n",
    "Citation: https://www.nature.com/articles/s41586-022-05113-1\n",
    "\n",
    "##### Steps for preprocessing\n",
    "1. Compute dF/F\n",
    "   - Estimate baseline fluorescence as the 30th percentile in a 60s window.\n",
    "   - Subtract and divide the raw fluorescence trace by the baseline.\n",
    "2. Significant transients initial step\n",
    "   - Standardize dF/F by subtracting the median and dividing by the standard deviation\n",
    "   - Define threshold array in units of standard deviation between 1 and 4 in 0.2sigma increments\n",
    "3. Putative Transients\n",
    "   - Identified as positive samples exceeding the threshold. \n",
    "   - For each transient n frames in length, a FPR is the number of negative going transients with at least n frames divided by number of positive with at least n frames. \n",
    "   - Transients with an FPR less than 0.001 were considered to be significant at that threshold level. \n",
    "4. Resulting trace\n",
    "   - Frames significant at one threshold level (or more) considered significant in final output. Transients separated by less than two frames were merged. \n",
    "   - Transients only 1 frame in duration were removed. \n",
    "   - Final traces are original zero-baseline dF/F traces, where frames without significant transients set to 0\n",
    "\n",
    "##### Progress:\n",
    "This procedure has been implemented and preprocessing is completed with the scripts/add_significant_transients.py script"
   ]
  },
  {
   "cell_type": "code",
   "execution_count": 1,
   "metadata": {},
   "outputs": [],
   "source": [
    "%reload_ext autoreload\n",
    "%autoreload 2\n",
    "%matplotlib widget\n",
    "\n",
    "import random\n",
    "from vrAnalysis import database\n",
    "from vrAnalysis.syd_viewers.fluor_type_spkmaps import FluorTypeLoader, FluorTypeSpkmapsViewer\n",
    "from vrAnalysis.syd_viewers.significant_transients import SigTransientLoader, SigTransientViewer\n",
    "\n",
    "sessiondb = database.vrDatabase('vrSessions')"
   ]
  },
  {
   "cell_type": "code",
   "execution_count": 2,
   "metadata": {},
   "outputs": [],
   "source": [
    "ses = random.choice(sessiondb.iterSessions(imaging=True))\n",
    "loader = SigTransientLoader(ses)\n",
    "viewer = SigTransientViewer(loader)"
   ]
  },
  {
   "cell_type": "code",
   "execution_count": 16,
   "metadata": {},
   "outputs": [
    {
     "data": {
      "application/vnd.jupyter.widget-view+json": {
       "model_id": "a52dee15c7264b0eb449da9f6d60504b",
       "version_major": 2,
       "version_minor": 0
      },
      "text/plain": [
       "HBox(children=(VBox(children=(VBox(children=(HTML(value='<b>Parameters</b>'), IntSlider(value=30, description=…"
      ]
     },
     "metadata": {},
     "output_type": "display_data"
    }
   ],
   "source": [
    "# viewer.plot(viewer.get_state());\n",
    "viewer = viewer.deploy()"
   ]
  },
  {
   "cell_type": "code",
   "execution_count": null,
   "metadata": {},
   "outputs": [],
   "source": []
  },
  {
   "cell_type": "code",
   "execution_count": 18,
   "metadata": {},
   "outputs": [],
   "source": [
    "ises = sessiondb.iterSessions(imaging=True)\n",
    "fluor_loader = FluorTypeLoader(ises)\n",
    "viewer = FluorTypeSpkmapsViewer(fluor_loader)"
   ]
  },
  {
   "cell_type": "code",
   "execution_count": 19,
   "metadata": {},
   "outputs": [
    {
     "data": {
      "application/vnd.jupyter.widget-view+json": {
       "model_id": "29aa9c5091f34f8b9f18eec8ab8d80c8",
       "version_major": 2,
       "version_minor": 0
      },
      "text/plain": [
       "HBox(children=(VBox(children=(VBox(children=(HTML(value='<b>Parameters</b>'), Dropdown(description='mouse', la…"
      ]
     },
     "metadata": {},
     "output_type": "display_data"
    },
    {
     "name": "stderr",
     "output_type": "stream",
     "text": [
      "No such comm: 67f2e625f1f846c2905c5e2ebee21e4a\n",
      "No such comm: 67f2e625f1f846c2905c5e2ebee21e4a\n",
      "No such comm: 67f2e625f1f846c2905c5e2ebee21e4a\n",
      "No such comm: 67f2e625f1f846c2905c5e2ebee21e4a\n",
      "No such comm: 67f2e625f1f846c2905c5e2ebee21e4a\n",
      "No such comm: 67f2e625f1f846c2905c5e2ebee21e4a\n",
      "No such comm: 67f2e625f1f846c2905c5e2ebee21e4a\n"
     ]
    },
    {
     "name": "stderr",
     "output_type": "stream",
     "text": [
      "No such comm: b1c612fc5d7f4f02b81b400c8ba641cf\n",
      "No such comm: b1c612fc5d7f4f02b81b400c8ba641cf\n",
      "No such comm: b1c612fc5d7f4f02b81b400c8ba641cf\n",
      "No such comm: b1c612fc5d7f4f02b81b400c8ba641cf\n",
      "No such comm: b1c612fc5d7f4f02b81b400c8ba641cf\n",
      "No such comm: b1c612fc5d7f4f02b81b400c8ba641cf\n",
      "No such comm: b1c612fc5d7f4f02b81b400c8ba641cf\n",
      "No such comm: b1c612fc5d7f4f02b81b400c8ba641cf\n",
      "No such comm: b1c612fc5d7f4f02b81b400c8ba641cf\n",
      "No such comm: b1c612fc5d7f4f02b81b400c8ba641cf\n"
     ]
    },
    {
     "name": "stderr",
     "output_type": "stream",
     "text": [
      "No such comm: 07c3e1e33ee84282b1e88db30469f963\n",
      "No such comm: 07c3e1e33ee84282b1e88db30469f963\n",
      "No such comm: 07c3e1e33ee84282b1e88db30469f963\n",
      "No such comm: 07c3e1e33ee84282b1e88db30469f963\n",
      "No such comm: 07c3e1e33ee84282b1e88db30469f963\n",
      "No such comm: 07c3e1e33ee84282b1e88db30469f963\n",
      "No such comm: 07c3e1e33ee84282b1e88db30469f963\n",
      "No such comm: 07c3e1e33ee84282b1e88db30469f963\n",
      "No such comm: 07c3e1e33ee84282b1e88db30469f963\n",
      "No such comm: 07c3e1e33ee84282b1e88db30469f963\n",
      "No such comm: 07c3e1e33ee84282b1e88db30469f963\n",
      "No such comm: 07c3e1e33ee84282b1e88db30469f963\n",
      "No such comm: 07c3e1e33ee84282b1e88db30469f963\n",
      "No such comm: 07c3e1e33ee84282b1e88db30469f963\n",
      "No such comm: 07c3e1e33ee84282b1e88db30469f963\n",
      "No such comm: 07c3e1e33ee84282b1e88db30469f963\n",
      "No such comm: 07c3e1e33ee84282b1e88db30469f963\n",
      "No such comm: 07c3e1e33ee84282b1e88db30469f963\n",
      "No such comm: 07c3e1e33ee84282b1e88db30469f963\n"
     ]
    },
    {
     "name": "stderr",
     "output_type": "stream",
     "text": [
      "No such comm: 478687278ff54a1bbda633a51ef0172e\n"
     ]
    },
    {
     "name": "stderr",
     "output_type": "stream",
     "text": [
      "No such comm: 042e4236fa7840518ff2c4fb882b450b\n"
     ]
    },
    {
     "name": "stderr",
     "output_type": "stream",
     "text": [
      "No such comm: fddaba3ad95342fdb6446e9502c3d4aa\n"
     ]
    },
    {
     "name": "stderr",
     "output_type": "stream",
     "text": [
      "No such comm: 599cd663543947a7ae29bfaae39bf651\n"
     ]
    },
    {
     "name": "stderr",
     "output_type": "stream",
     "text": [
      "C:\\Users\\Andrew\\Documents\\GitHub\\syd\\syd\\parameters.py:457: ParameterUpdateWarning: Warning updating SelectionParameter parameter 'roi': Value 118 not in options, setting to first option (5)\n",
      "  warn(\n"
     ]
    },
    {
     "name": "stderr",
     "output_type": "stream",
     "text": [
      "No such comm: f86e5b2ad23b45f69b8389a6427d524a\n"
     ]
    },
    {
     "name": "stderr",
     "output_type": "stream",
     "text": [
      "No such comm: c2e66831574041da92ef5064cfa82728\n"
     ]
    },
    {
     "name": "stderr",
     "output_type": "stream",
     "text": [
      "No such comm: 9076d77440a8400d8df35ab2afb1ca91\n",
      "No such comm: 9076d77440a8400d8df35ab2afb1ca91\n",
      "No such comm: 9076d77440a8400d8df35ab2afb1ca91\n",
      "No such comm: 9076d77440a8400d8df35ab2afb1ca91\n",
      "No such comm: 9076d77440a8400d8df35ab2afb1ca91\n",
      "No such comm: 9076d77440a8400d8df35ab2afb1ca91\n",
      "No such comm: 9076d77440a8400d8df35ab2afb1ca91\n",
      "No such comm: 9076d77440a8400d8df35ab2afb1ca91\n",
      "No such comm: 9076d77440a8400d8df35ab2afb1ca91\n"
     ]
    }
   ],
   "source": [
    "viewer.deploy();"
   ]
  },
  {
   "cell_type": "code",
   "execution_count": null,
   "metadata": {},
   "outputs": [],
   "source": []
  },
  {
   "cell_type": "code",
   "execution_count": null,
   "metadata": {},
   "outputs": [],
   "source": []
  },
  {
   "cell_type": "code",
   "execution_count": null,
   "metadata": {},
   "outputs": [],
   "source": []
  }
 ],
 "metadata": {
  "kernelspec": {
   "display_name": "vrAnalysis",
   "language": "python",
   "name": "python3"
  },
  "language_info": {
   "codemirror_mode": {
    "name": "ipython",
    "version": 3
   },
   "file_extension": ".py",
   "mimetype": "text/x-python",
   "name": "python",
   "nbconvert_exporter": "python",
   "pygments_lexer": "ipython3",
   "version": "3.9.19"
  }
 },
 "nbformat": 4,
 "nbformat_minor": 2
}
