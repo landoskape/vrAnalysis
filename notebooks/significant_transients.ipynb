{
 "cells": [
  {
   "cell_type": "markdown",
   "metadata": {},
   "source": [
    "### Plan to implement significant transient analysis for filtering fluorescence data\n",
    "Citation: https://www.nature.com/articles/s41586-022-05113-1\n",
    "\n",
    "##### Steps for preprocessing\n",
    "1. Compute dF/F\n",
    "   - Estimate baseline fluorescence as the 30th percentile in a 60s window.\n",
    "   - Subtract and divide the raw fluorescence trace by the baseline.\n",
    "2. Significant transients initial step\n",
    "   - Standardize dF/F by subtracting the median and dividing by the standard deviation\n",
    "   - Define threshold array in units of standard deviation between 1 and 4 in 0.2sigma increments\n",
    "3. Putative Transients\n",
    "   - Identified as positive samples exceeding the threshold. \n",
    "   - For each transient n frames in length, a FPR is the number of negative going transients with at least n frames divided by number of positive with at least n frames. \n",
    "   - Transients with an FPR less than 0.001 were considered to be significant at that threshold level. \n",
    "4. Resulting trace\n",
    "   - Frames significant at one threshold level (or more) considered significant in final output. Transients separated by less than two frames were merged. \n",
    "   - Transients only 1 frame in duration were removed. \n",
    "   - Final traces are original zero-baseline dF/F traces, where frames without significant transients set to 0\n",
    "\n",
    "##### Progress:\n",
    "This procedure has been implemented and preprocessing is completed with the scripts/add_significant_transients.py script"
   ]
  },
  {
   "cell_type": "code",
   "execution_count": 1,
   "metadata": {},
   "outputs": [],
   "source": [
    "%reload_ext autoreload\n",
    "%autoreload 2\n",
    "%matplotlib widget\n",
    "\n",
    "import random\n",
    "from vrAnalysis import database\n",
    "from vrAnalysis.syd_viewers.fluor_type_spkmaps import FluorTypeLoader, FluorTypeSpkmapsViewer\n",
    "from vrAnalysis.syd_viewers.significant_transients import SigTransientLoader, SigTransientViewer\n",
    "\n",
    "sessiondb = database.vrDatabase('vrSessions')"
   ]
  },
  {
   "cell_type": "code",
   "execution_count": 2,
   "metadata": {},
   "outputs": [],
   "source": [
    "ses = random.choice(sessiondb.iterSessions(imaging=True))\n",
    "loader = SigTransientLoader(ses)\n",
    "viewer = SigTransientViewer(loader)"
   ]
  },
  {
   "cell_type": "code",
   "execution_count": 4,
   "metadata": {},
   "outputs": [
    {
     "name": "stdout",
     "output_type": "stream",
     "text": [
      "num_positive (13, 101, 1)\n",
      "num_negative (13, 101, 1)\n",
      "fpr (13, 101, 1)\n"
     ]
    },
    {
     "ename": "TypeError",
     "evalue": "list indices must be integers or slices, not numpy.float64",
     "output_type": "error",
     "traceback": [
      "\u001b[1;31m---------------------------------------------------------------------------\u001b[0m",
      "\u001b[1;31mTypeError\u001b[0m                                 Traceback (most recent call last)",
      "Cell \u001b[1;32mIn[4], line 1\u001b[0m\n\u001b[1;32m----> 1\u001b[0m \u001b[43mviewer\u001b[49m\u001b[38;5;241;43m.\u001b[39;49m\u001b[43mplot\u001b[49m\u001b[43m(\u001b[49m\u001b[43mviewer\u001b[49m\u001b[38;5;241;43m.\u001b[39;49m\u001b[43mget_state\u001b[49m\u001b[43m(\u001b[49m\u001b[43m)\u001b[49m\u001b[43m)\u001b[49m\n\u001b[0;32m      2\u001b[0m \u001b[38;5;66;03m# viewer = viewer.deploy()\u001b[39;00m\n",
      "File \u001b[1;32m~\\Documents\\GitHub\\syd\\syd\\viewer.py:390\u001b[0m, in \u001b[0;36mViewer._prepare_function.<locals>.func_with_self\u001b[1;34m(*args, **kwargs)\u001b[0m\n\u001b[0;32m    388\u001b[0m \u001b[38;5;129m@wraps\u001b[39m(func)\n\u001b[0;32m    389\u001b[0m \u001b[38;5;28;01mdef\u001b[39;00m \u001b[38;5;21mfunc_with_self\u001b[39m(\u001b[38;5;241m*\u001b[39margs, \u001b[38;5;241m*\u001b[39m\u001b[38;5;241m*\u001b[39mkwargs):\n\u001b[1;32m--> 390\u001b[0m     \u001b[38;5;28;01mreturn\u001b[39;00m func(\u001b[38;5;28mself\u001b[39m, \u001b[38;5;241m*\u001b[39margs, \u001b[38;5;241m*\u001b[39m\u001b[38;5;241m*\u001b[39mkwargs)\n",
      "File \u001b[1;32m~\\Documents\\GitHub\\vrAnalysis\\vrAnalysis\\syd_viewers\\significant_transients.py:127\u001b[0m, in \u001b[0;36mSigTransientLoader.plot\u001b[1;34m(self, _, state)\u001b[0m\n\u001b[0;32m    126\u001b[0m \u001b[38;5;28;01mdef\u001b[39;00m \u001b[38;5;21mplot\u001b[39m(\u001b[38;5;28mself\u001b[39m, _, state: \u001b[38;5;28mdict\u001b[39m):\n\u001b[1;32m--> 127\u001b[0m     data \u001b[38;5;241m=\u001b[39m \u001b[38;5;28;43mself\u001b[39;49m\u001b[38;5;241;43m.\u001b[39;49m\u001b[43mload_plot_data\u001b[49m\u001b[43m(\u001b[49m\u001b[43mstate\u001b[49m\u001b[43m)\u001b[49m\n\u001b[0;32m    128\u001b[0m     num_threshold \u001b[38;5;241m=\u001b[39m data[\u001b[38;5;124m\"\u001b[39m\u001b[38;5;124msignificant_transients\u001b[39m\u001b[38;5;124m\"\u001b[39m]\u001b[38;5;241m.\u001b[39mshape[\u001b[38;5;241m2\u001b[39m]\n\u001b[0;32m    129\u001b[0m     xmin \u001b[38;5;241m=\u001b[39m data[\u001b[38;5;124m\"\u001b[39m\u001b[38;5;124mftimes\u001b[39m\u001b[38;5;124m\"\u001b[39m][\u001b[38;5;241m0\u001b[39m]\n",
      "File \u001b[1;32m~\\Documents\\GitHub\\vrAnalysis\\vrAnalysis\\syd_viewers\\significant_transients.py:111\u001b[0m, in \u001b[0;36mSigTransientLoader.load_plot_data\u001b[1;34m(self, state)\u001b[0m\n\u001b[0;32m    109\u001b[0m step_threshold \u001b[38;5;241m=\u001b[39m state[\u001b[38;5;124m\"\u001b[39m\u001b[38;5;124mstep_threshold\u001b[39m\u001b[38;5;124m\"\u001b[39m]\n\u001b[0;32m    110\u001b[0m ftimes, fcorr, dff \u001b[38;5;241m=\u001b[39m \u001b[38;5;28mself\u001b[39m\u001b[38;5;241m.\u001b[39mload_fluorescence(percentile, window_duration, roi)\n\u001b[1;32m--> 111\u001b[0m significant_transients, thresholds, stats \u001b[38;5;241m=\u001b[39m \u001b[38;5;28;43mself\u001b[39;49m\u001b[38;5;241;43m.\u001b[39;49m\u001b[43mload_significant_transients\u001b[49m\u001b[43m(\u001b[49m\u001b[43mdff\u001b[49m\u001b[43m,\u001b[49m\u001b[43m \u001b[49m\u001b[43mmin_threshold\u001b[49m\u001b[43m,\u001b[49m\u001b[43m \u001b[49m\u001b[43mmax_threshold\u001b[49m\u001b[43m,\u001b[49m\u001b[43m \u001b[49m\u001b[43mstep_threshold\u001b[49m\u001b[43m)\u001b[49m\n\u001b[0;32m    112\u001b[0m keep_frames \u001b[38;5;241m=\u001b[39m np\u001b[38;5;241m.\u001b[39many(significant_transients, axis\u001b[38;5;241m=\u001b[39m\u001b[38;5;241m2\u001b[39m)[:, \u001b[38;5;241m0\u001b[39m]\n\u001b[0;32m    113\u001b[0m significant_fluorescence \u001b[38;5;241m=\u001b[39m np\u001b[38;5;241m.\u001b[39mzeros_like(fcorr)\n",
      "File \u001b[1;32m~\\Documents\\GitHub\\vrAnalysis\\vrAnalysis\\syd_viewers\\significant_transients.py:99\u001b[0m, in \u001b[0;36mSigTransientLoader.load_significant_transients\u001b[1;34m(self, dff, min_threshold, max_threshold, step_threshold)\u001b[0m\n\u001b[0;32m     97\u001b[0m thresholds \u001b[38;5;241m=\u001b[39m np\u001b[38;5;241m.\u001b[39marange(min_threshold, max_threshold \u001b[38;5;241m+\u001b[39m step_threshold, step_threshold)\n\u001b[0;32m     98\u001b[0m thresholds \u001b[38;5;241m=\u001b[39m np\u001b[38;5;241m.\u001b[39mround(thresholds \u001b[38;5;241m*\u001b[39m \u001b[38;5;241m100\u001b[39m) \u001b[38;5;241m/\u001b[39m \u001b[38;5;241m100\u001b[39m\n\u001b[1;32m---> 99\u001b[0m significant_transients, stats \u001b[38;5;241m=\u001b[39m \u001b[43mhelpers\u001b[49m\u001b[38;5;241;43m.\u001b[39;49m\u001b[43mget_significant_transients\u001b[49m\u001b[43m(\u001b[49m\u001b[43mdff\u001b[49m\u001b[43m,\u001b[49m\u001b[43m \u001b[49m\u001b[43mthreshold_levels\u001b[49m\u001b[38;5;241;43m=\u001b[39;49m\u001b[43mthresholds\u001b[49m\u001b[43m,\u001b[49m\u001b[43m \u001b[49m\u001b[43mverbose\u001b[49m\u001b[38;5;241;43m=\u001b[39;49m\u001b[38;5;28;43;01mFalse\u001b[39;49;00m\u001b[43m,\u001b[49m\u001b[43m \u001b[49m\u001b[43mreturn_stats\u001b[49m\u001b[38;5;241;43m=\u001b[39;49m\u001b[38;5;28;43;01mTrue\u001b[39;49;00m\u001b[43m)\u001b[49m\n\u001b[0;32m    100\u001b[0m \u001b[38;5;28;01mreturn\u001b[39;00m significant_transients, thresholds, stats\n",
      "File \u001b[1;32m~\\Documents\\GitHub\\vrAnalysis\\vrAnalysis\\helpers\\fluorescence.py:98\u001b[0m, in \u001b[0;36mget_significant_transients\u001b[1;34m(dff, threshold_levels, fpr_threshold, verbose, return_stats)\u001b[0m\n\u001b[0;32m     94\u001b[0m # Compute putative transients\n\u001b[0;32m     95\u001b[0m progress = tqdm(threshold_levels, desc=\"Measuring transients at each threshold...\", leave=True) if verbose else threshold_levels\n\u001b[0;32m     96\u001b[0m for ithreshold, threshold in enumerate(progress):\n\u001b[0;32m     97\u001b[0m \n\u001b[1;32m---> 98\u001b[0m     # For each ROI, compute the FPR for each transient duration\n\u001b[0;32m     99\u001b[0m     roi_progress = tqdm(range(dff.shape[1]), desc=\"Measuring each ROI...\", leave=False) if verbose else range(dff.shape[1])\n\u001b[0;32m    100\u001b[0m     for iroi in roi_progress:\n",
      "\u001b[1;31mTypeError\u001b[0m: list indices must be integers or slices, not numpy.float64"
     ]
    }
   ],
   "source": [
    "viewer.plot(viewer.get_state())\n",
    "# viewer = viewer.deploy()"
   ]
  },
  {
   "cell_type": "code",
   "execution_count": null,
   "metadata": {},
   "outputs": [],
   "source": []
  },
  {
   "cell_type": "code",
   "execution_count": null,
   "metadata": {},
   "outputs": [],
   "source": []
  },
  {
   "cell_type": "code",
   "execution_count": 14,
   "metadata": {},
   "outputs": [],
   "source": [
    "ises = sessiondb.iterSessions(imaging=True)\n",
    "fluor_loader = FluorTypeLoader(ises)\n",
    "viewer = FluorTypeSpkmapsViewer(fluor_loader)"
   ]
  },
  {
   "cell_type": "code",
   "execution_count": 15,
   "metadata": {},
   "outputs": [
    {
     "data": {
      "application/vnd.jupyter.widget-view+json": {
       "model_id": "d0ad8058878b4bad82996bceab89566e",
       "version_major": 2,
       "version_minor": 0
      },
      "text/plain": [
       "HBox(children=(VBox(children=(VBox(children=(HTML(value='<b>Parameters</b>'), Dropdown(description='mouse', la…"
      ]
     },
     "metadata": {},
     "output_type": "display_data"
    }
   ],
   "source": [
    "viewer.deploy();"
   ]
  },
  {
   "cell_type": "code",
   "execution_count": null,
   "metadata": {},
   "outputs": [],
   "source": []
  },
  {
   "cell_type": "code",
   "execution_count": null,
   "metadata": {},
   "outputs": [],
   "source": []
  },
  {
   "cell_type": "code",
   "execution_count": null,
   "metadata": {},
   "outputs": [],
   "source": []
  }
 ],
 "metadata": {
  "kernelspec": {
   "display_name": "vrAnalysis",
   "language": "python",
   "name": "python3"
  },
  "language_info": {
   "codemirror_mode": {
    "name": "ipython",
    "version": 3
   },
   "file_extension": ".py",
   "mimetype": "text/x-python",
   "name": "python",
   "nbconvert_exporter": "python",
   "pygments_lexer": "ipython3",
   "version": "3.9.19"
  }
 },
 "nbformat": 4,
 "nbformat_minor": 2
}
