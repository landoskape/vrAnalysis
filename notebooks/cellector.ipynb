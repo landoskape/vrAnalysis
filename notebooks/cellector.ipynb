{
 "cells": [
  {
   "cell_type": "code",
   "execution_count": 5,
   "metadata": {},
   "outputs": [],
   "source": [
    "from cellector.io import create_from_suite2p\n",
    "from cellector.gui import SelectionGUI\n",
    "\n",
    "from vrAnalysis2.sessions import B2Session\n",
    "\n",
    "session = B2Session(mouse_name='ATL022', date='2023-04-04', session_id='701')\n",
    "roi_processor = create_from_suite2p(session.s2p_path, clear_existing=True, save_features=False)"
   ]
  },
  {
   "cell_type": "code",
   "execution_count": null,
   "metadata": {},
   "outputs": [],
   "source": [
    "gui = SelectionGUI(roi_processor)"
   ]
  }
 ],
 "metadata": {
  "kernelspec": {
   "display_name": "vrAnalysis",
   "language": "python",
   "name": "python3"
  },
  "language_info": {
   "codemirror_mode": {
    "name": "ipython",
    "version": 3
   },
   "file_extension": ".py",
   "mimetype": "text/x-python",
   "name": "python",
   "nbconvert_exporter": "python",
   "pygments_lexer": "ipython3",
   "version": "3.11.11"
  }
 },
 "nbformat": 4,
 "nbformat_minor": 2
}
