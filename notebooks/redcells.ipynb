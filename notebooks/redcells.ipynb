{
 "cells": [
  {
   "cell_type": "code",
   "execution_count": 1,
   "metadata": {},
   "outputs": [],
   "source": [
    "%reload_ext autoreload\n",
    "%autoreload 2\n",
    "\n",
    "from vrAnalysis.session import vrExperiment, redCellProcessing\n",
    "from vrAnalysis.redgui import redCellGUI as rgui\n",
    "from vrAnalysis2.database import get_database\n",
    "sessiondb = get_database(\"vrSessions\")"
   ]
  },
  {
   "cell_type": "code",
   "execution_count": 22,
   "metadata": {},
   "outputs": [],
   "source": [
    "for ses in sessiondb.iter_sessions(imaging=True):\n",
    "    saved_one = [str(so.name) for so in ses.get_saved_one()]\n",
    "    saved_one_cutoffs = [so for so in saved_one if \"minMaxCutoff\" in so]\n",
    "    params = [so[so.find(\"Red\"):so.find(\".\")] for so in saved_one_cutoffs]\n",
    "    if len(params) > 0:\n",
    "        params_print = \", \".join([str(so) for so in params])\n",
    "    else:\n",
    "        params_print = \"<<<<<<<<<<<<<<<<< NONE FOUND!!!!! >>>>>>>>>>>>>>>>>>>\"\n",
    "        print(ses, params_print)"
   ]
  },
  {
   "cell_type": "code",
   "execution_count": null,
   "metadata": {},
   "outputs": [],
   "source": [
    "ises = sessiondb.iter_sessions(imaging=True, mouseName=\"ATL060\")\n",
    "for ses in ises:\n",
    "    print(ses)"
   ]
  },
  {
   "cell_type": "code",
   "execution_count": 19,
   "metadata": {},
   "outputs": [],
   "source": [
    "# choose a session by picking the mouse name, datestring, and session ID.\n",
    "session = ises[3]\n",
    "mouseName = session.mouse_name\n",
    "dateString = session.date\n",
    "sessionid = session.session_id"
   ]
  },
  {
   "cell_type": "code",
   "execution_count": null,
   "metadata": {},
   "outputs": [],
   "source": [
    "# Load registered vrExperiment\n",
    "vrexp = vrExperiment(mouseName, dateString, sessionid)\n",
    "redCell = redCellProcessing(vrexp) # create red cell processing object\n",
    "redSelection = rgui.redSelectionGUI(redCell) # open the GUI"
   ]
  },
  {
   "cell_type": "code",
   "execution_count": null,
   "metadata": {},
   "outputs": [],
   "source": [
    "copyCriterionFrom = redCellProcessing(mouseName, dateString, sessionid, autoload=False)\n",
    "for ses in sessiondb.iterSessionNeedRedCellQC(mouseName=mouseName):\n",
    "    redCell = redCellProcessing(ses, autoload=False)\n",
    "    redCell.updateFromSession(copyCriterionFrom)"
   ]
  },
  {
   "cell_type": "code",
   "execution_count": null,
   "metadata": {},
   "outputs": [],
   "source": []
  }
 ],
 "metadata": {
  "kernelspec": {
   "display_name": "vrAnalysis",
   "language": "python",
   "name": "python3"
  },
  "language_info": {
   "codemirror_mode": {
    "name": "ipython",
    "version": 3
   },
   "file_extension": ".py",
   "mimetype": "text/x-python",
   "name": "python",
   "nbconvert_exporter": "python",
   "pygments_lexer": "ipython3",
   "version": "3.11.11"
  }
 },
 "nbformat": 4,
 "nbformat_minor": 2
}
