{
 "cells": [
  {
   "cell_type": "code",
   "execution_count": 1,
   "metadata": {},
   "outputs": [
    {
     "name": "stdout",
     "output_type": "stream",
     "text": [
      "\n"
     ]
    }
   ],
   "source": [
    "\"\"\"\n",
    "Working on a big refactor here...\n",
    "moving towards vrAnalysis2\n",
    "\n",
    "Objectives:\n",
    "- Build dataclass structure for imaging and behavior sessions that I can operate on\n",
    "across datatypes - I want to run the same code on my data and external data\n",
    "- Simplify analyses by building a set of functions that can be called on these dataclasses\n",
    "instead of extending analysis classes for each kind of analysis\n",
    "- Rewrite standard scripts to do analyses with this new refactor\n",
    "\n",
    "\n",
    "I should think about the key requirements for analyzing behavior and imaging data for\n",
    "vr navigation and structure around that. Things that I do:\n",
    "\n",
    "Basic data handling:\n",
    "- Load spiking data\n",
    "- Load behavior data (position, speed, etc)\n",
    "- Load ROI data\n",
    "\n",
    "Processing:\n",
    "- Make a spkmap\n",
    "- Process spkmaps\n",
    "- Filter and sort ROIs by tracked (or other criteria, like plane_idx...)\n",
    "\"\"\"\n",
    "\n",
    "\n",
    "\"\"\"\n",
    "Ideas:\n",
    "An analysis object which can be loaded that isn't necessarily connect to any data. You can pass in a list\n",
    "of data objects to it and it will run the analysis on all of them. This way I can run the same analysis on\n",
    "my data and external data, compare within a mouse, across mice, etc.\n",
    "\n",
    "There can be a \"flag\" for same mice with tracker, in which case it can perform special operations like aligning\n",
    "ROIs across sessions by tracked ROI etc. \n",
    "\"\"\"\n",
    "\n",
    "\"\"\"\n",
    "Updates / Work in progress:\n",
    "- I've got the b2session working. I think it's good. There might be more to add or reorganize, but essentially it's\n",
    "  ready to go because it can find the onedata, load spks in a clever way, and has a few other tools for loading. \n",
    "- Now I think I can just keep working on everything that comes after this... e.g. on the analysis class side of things\n",
    "  which might need a lot of refactoring (or maybe not???)\n",
    "- The registration stuff will be nice to refactor to this method, but for now I can hack it and just use both I guess?\n",
    "\"\"\"\n",
    "\n",
    "print()"
   ]
  },
  {
   "cell_type": "code",
   "execution_count": 3,
   "metadata": {},
   "outputs": [],
   "source": [
    "%reload_ext autoreload\n",
    "%autoreload 2\n",
    "\n",
    "from vrAnalysis2.helpers import Timer\n",
    "from vrAnalysis2.sessions import create_b2session\n",
    "from vrAnalysis2.processors.spkmaps import SpkmapProcessor, SpkmapParams\n",
    "mouse_name = \"ATL027\"\n",
    "date = \"2023-07-27\"\n",
    "session_id = \"701\"\n",
    "spks_type = \"significant\"\n",
    "\n",
    "session = create_b2session(mouse_name, date, session_id, dict(spks_type=spks_type))\n",
    "spkmap_processor = SpkmapProcessor(session, params={\"autosave\": True})"
   ]
  },
  {
   "cell_type": "code",
   "execution_count": 3,
   "metadata": {},
   "outputs": [
    {
     "data": {
      "text/plain": [
       "WindowsPath('D:/localData/ATL027/2023-07-27/701/spkmaps')"
      ]
     },
     "execution_count": 3,
     "metadata": {},
     "output_type": "execute_result"
    }
   ],
   "source": [
    "spkmap_processor.cache_directory()"
   ]
  },
  {
   "cell_type": "code",
   "execution_count": 17,
   "metadata": {},
   "outputs": [
    {
     "name": "stdout",
     "output_type": "stream",
     "text": [
      "Maps(occmap: [(45, 195), (53, 195)], speedmap: [(45, 195), (53, 195)], spkmap: [(9200, 45, 195), (9200, 53, 195)])\n"
     ]
    }
   ],
   "source": [
    "maps = spkmap_processor.get_env_maps()\n",
    "print(maps)"
   ]
  },
  {
   "cell_type": "code",
   "execution_count": 3,
   "metadata": {},
   "outputs": [],
   "source": [
    "# TODO LIST\n",
    "# - Need to add the auxiliary methods like reliability and frame behavior etc\n",
    "# - Build system for filtering ROIs by flyback plane and duplicates and good cells, etc"
   ]
  },
  {
   "cell_type": "code",
   "execution_count": null,
   "metadata": {},
   "outputs": [],
   "source": []
  }
 ],
 "metadata": {
  "kernelspec": {
   "display_name": "vrAnalysis",
   "language": "python",
   "name": "python3"
  },
  "language_info": {
   "codemirror_mode": {
    "name": "ipython",
    "version": 3
   },
   "file_extension": ".py",
   "mimetype": "text/x-python",
   "name": "python",
   "nbconvert_exporter": "python",
   "pygments_lexer": "ipython3",
   "version": "3.11.11"
  }
 },
 "nbformat": 4,
 "nbformat_minor": 2
}
