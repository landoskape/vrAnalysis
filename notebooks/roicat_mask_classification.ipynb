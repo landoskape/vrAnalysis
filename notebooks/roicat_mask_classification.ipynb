{
 "cells": [
  {
   "cell_type": "markdown",
   "metadata": {},
   "source": [
    "#### Pipeline for labeling ROIs with ROINeT\n",
    "Note that this has to be run in a ROICaT environment with vrAnalysis installed, not the typical ROICaT environment!!!!\n",
    "(They are incompatible at the moment due to numpy, but installing roicat[all] then installing vrAnalysis with no-deps and just manually installing the required ones for database importing works fine). \n",
    "\n",
    "#### Progress and ToDo List:\n",
    "- **<<<< DONE >>>>** Create training and testing set that spans all the mice and different imaging planes\n",
    "- **<<<< DONE >>>>** Process training / testing sets to generate the roinet latents, umap embeddings, images, and umap model (umap model for training data only)\n",
    "- **<<<< DONE >>>>** Do a bunch of labeling on both sets!!!\n",
    "- **<<<< DONE >>>>** Save and generate sklearn model for the training data and print reports on the testing data\n",
    "- **<<<< DONE >>>>** Run all data through model and save results."
   ]
  },
  {
   "cell_type": "code",
   "execution_count": null,
   "metadata": {},
   "outputs": [],
   "source": [
    "%reload_ext autoreload\n",
    "%autoreload 2\n",
    "\n",
    "from roicat_support import get_classifier_files\n",
    "from roicat_support.classifier import (\n",
    "    choose_sessions, \n",
    "    define_classification_set, \n",
    "    load_classification_set, \n",
    "    prepare_suite2p_paths, \n",
    "    roi_should_be_ignored, \n",
    "    generate_latents_and_embeddings, \n",
    "    load_latents_and_embeddings, \n",
    "    read_labels,\n",
    "    labels_to_df,\n",
    "    save_labels,\n",
    "    labels_df_to_dict,\n",
    "    save_classifier,\n",
    "    load_classifier,\n",
    "    detect_local_concavities,\n",
    "    run_integrated_labeler,\n",
    "    update_labels,\n",
    "    execute_label_updates,\n",
    "    visualize_counts,\n",
    "    visualize_examples,\n",
    "    train_classifier,\n",
    "    evaluate_classifier,\n",
    "    visualize_predictions,\n",
    "    process_sessions,\n",
    "    classify_and_save,\n",
    ")\n",
    "\n",
    "files = get_classifier_files()\n",
    "for k, v in files.items():\n",
    "    print(k, v)"
   ]
  },
  {
   "cell_type": "code",
   "execution_count": 2,
   "metadata": {},
   "outputs": [],
   "source": [
    "# Choose training vs testing data\n",
    "use_training_data = True\n",
    "use_train_model_for_embeddings = True\n",
    "\n",
    "# Load saved data from roinet and umap to do labeling\n",
    "data = load_latents_and_embeddings(use_training_data)\n",
    "latents = data[\"latents\"]\n",
    "embeddings = data[\"embeddings\"]\n",
    "images = data[\"images\"]\n",
    "model = data[\"model_umap\"]\n",
    "label_path = files[\"train_labels\"] if use_training_data else files[\"test_labels\"]\n",
    "\n",
    "if not use_training_data and use_train_model_for_embeddings:\n",
    "    train_model = load_latents_and_embeddings(True)[\"model_umap\"]\n",
    "    embeddings = train_model.transform(latents) "
   ]
  },
  {
   "cell_type": "code",
   "execution_count": null,
   "metadata": {},
   "outputs": [],
   "source": [
    "do_labeling = False\n",
    "if do_labeling:\n",
    "    labeler = run_integrated_labeler(embeddings, images, label_path, overwrite=False)"
   ]
  },
  {
   "cell_type": "code",
   "execution_count": null,
   "metadata": {},
   "outputs": [],
   "source": [
    "run_label_update = False\n",
    "show_updates = True\n",
    "execute_updates = False\n",
    "if run_label_update:\n",
    "    labels_to_change, labels_to_clear = update_labels(embeddings, images, label_path)\n",
    "    execute_label_updates(label_path, labels_to_change, labels_to_clear, show_updates=show_updates, execute_updates=execute_updates)"
   ]
  },
  {
   "cell_type": "code",
   "execution_count": 8,
   "metadata": {},
   "outputs": [],
   "source": [
    "show_counts = False\n",
    "if show_counts:\n",
    "    visualize_counts(label_path)"
   ]
  },
  {
   "cell_type": "code",
   "execution_count": null,
   "metadata": {},
   "outputs": [],
   "source": [
    "# Visualize some examples\n",
    "show_examples = True\n",
    "if show_examples:  \n",
    "    visualize_examples(images, label_path, max_images_per_label=10, shuffle=True)"
   ]
  },
  {
   "cell_type": "code",
   "execution_count": null,
   "metadata": {},
   "outputs": [],
   "source": [
    "# Train a logistic regression model on the training data\n",
    "train_new_classifier = False\n",
    "if train_new_classifier:\n",
    "    train_classifier()"
   ]
  },
  {
   "cell_type": "code",
   "execution_count": null,
   "metadata": {},
   "outputs": [],
   "source": [
    "# Check whether the model from the training labels does well on the test labels\n",
    "show_evaluation_on_test_data = False\n",
    "if show_evaluation_on_test_data:\n",
    "    evaluate_classifier(convert_to_goodvsbad=True, show_confusion_matrix=True, checkout_bad_to_good=True)"
   ]
  },
  {
   "cell_type": "code",
   "execution_count": null,
   "metadata": {},
   "outputs": [],
   "source": [
    "show_predictions = False\n",
    "if show_predictions:\n",
    "    classifier = load_classifier()\n",
    "    model = classifier[\"model\"]\n",
    "    id_to_label = classifier[\"id_to_label\"]\n",
    "    visualize_predictions(model, latents, embeddings, id_to_label)"
   ]
  },
  {
   "cell_type": "code",
   "execution_count": 13,
   "metadata": {},
   "outputs": [],
   "source": [
    "process_data = False\n",
    "if process_data:\n",
    "    process_sessions()"
   ]
  }
 ],
 "metadata": {
  "kernelspec": {
   "display_name": "ROICaT",
   "language": "python",
   "name": "python3"
  },
  "language_info": {
   "codemirror_mode": {
    "name": "ipython",
    "version": 3
   },
   "file_extension": ".py",
   "mimetype": "text/x-python",
   "name": "python",
   "nbconvert_exporter": "python",
   "pygments_lexer": "ipython3",
   "version": "3.11.11"
  }
 },
 "nbformat": 4,
 "nbformat_minor": 2
}
