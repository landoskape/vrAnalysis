{
 "cells": [
  {
   "cell_type": "code",
   "execution_count": 1,
   "metadata": {},
   "outputs": [
    {
     "name": "stdout",
     "output_type": "stream",
     "text": [
      "Using device: cpu\n"
     ]
    }
   ],
   "source": [
    "from copy import copy\n",
    "import numpy as np\n",
    "import torch\n",
    "import matplotlib.pyplot as plt\n",
    "from tqdm import tqdm\n",
    "\n",
    "from rastermap import Rastermap\n",
    "\n",
    "force_cpu = True\n",
    "device = torch.device(\"cpu\" if force_cpu else \"cuda\" if torch.cuda.is_available() else \"cpu\")\n",
    "print(\"Using device:\", device)"
   ]
  },
  {
   "cell_type": "code",
   "execution_count": 2,
   "metadata": {},
   "outputs": [],
   "source": [
    "def rowwise_corrcoef(X: torch.Tensor, Y: torch.Tensor) -> torch.Tensor:\n",
    "    \"\"\"\n",
    "    Pearson correlations between every row of X (shape pxn)\n",
    "    and every row of Y (shape qxn).  Returns a (pxq) matrix.\n",
    "    \"\"\"\n",
    "    if X.shape[1] != Y.shape[1]:\n",
    "        raise ValueError(\"X and Y must have the same number of observations (columns)\")\n",
    "    \n",
    "    Xc = X - X.mean(dim=1, keepdim=True)\n",
    "    Yc = Y - Y.mean(dim=1, keepdim=True)\n",
    "    cov = (Xc @ Yc.T) / (X.shape[1] - 1)\n",
    "    std_x = torch.linalg.norm(Xc, dim=1) / (X.shape[1] - 1) ** 0.5\n",
    "    std_y = torch.linalg.norm(Yc, dim=1) / (Y.shape[1] - 1) ** 0.5\n",
    "    return cov / std_x[:, None] / std_y[None, :]"
   ]
  },
  {
   "cell_type": "code",
   "execution_count": 3,
   "metadata": {},
   "outputs": [],
   "source": [
    "vhat = 500 ## scales firing rate\n",
    "tau = 20 ## 20ms exponential decay time constant\n",
    "beta = 0.1  ## learning rate 0.05\n",
    "prob_nonrw = 0.02 ## probability of not getting reward\n",
    "eta0 = 10 ## refractory reduction scaling\n",
    "tau_ref = 5 ## refractory reduction time constant\n",
    "ref_time = 10 ## refractory time\n",
    "baseline=10\n",
    "\n",
    "NPS = 12 ## afferent neurons per stimuli\n",
    "K = 100 ## recurrent neurons\n",
    "W_std = 3.5\n",
    "V_std = 2.5\n",
    "\n",
    "input_fr = 100  ## input neuron firing rates\n",
    "num_trials = 4000\n",
    "each_obs_time = 20 ## each observation is shown for 20ms\n",
    "\n",
    "trial_inputs = torch.stack([\n",
    "    torch.tensor([1,1,1,1,1,1,2,2,2,2,1,1,1,4,6,1,1,1,5,5,1,1,7,0,0,0]),\n",
    "    torch.tensor([1,1,1,1,1,1,3,3,3,3,1,1,1,4,4,1,1,1,5,6,1,1,7,0,0,0]),\n",
    "])\n",
    "\n",
    "num_trial_types = trial_inputs.shape[0]\n",
    "num_obs = trial_inputs.shape[1]\n",
    "num_stimuli = len(torch.unique(trial_inputs.view(-1)))\n",
    "N = num_stimuli * NPS\n",
    "\n",
    "inputs_active = torch.zeros(num_trial_types, num_obs, num_stimuli, requires_grad=False)\n",
    "inputs_active = torch.scatter(inputs_active, dim=2, index=trial_inputs.unsqueeze(2), value=input_fr)\n",
    "input_rates = torch.repeat_interleave(inputs_active, NPS, dim=2).to(device)"
   ]
  },
  {
   "cell_type": "code",
   "execution_count": 4,
   "metadata": {},
   "outputs": [],
   "source": [
    "trial_type = torch.randint(0, 2, (num_trials, )).to(device)\n",
    "\n",
    "b = baseline*torch.ones(K).to(device)\n",
    "\n",
    "# Initialize weights\n",
    "W = torch.maximum(torch.randn(K,N) * W_std, torch.zeros(K,N)).to(device) ## feedforward \n",
    "V = torch.maximum(torch.randn(K,K) * V_std, torch.zeros(K,K)).to(device)  ## recurrent \n",
    "\n",
    "# Store all membrane potentials\n",
    "vall = torch.zeros(num_trials, num_obs, K).to(device)"
   ]
  },
  {
   "cell_type": "code",
   "execution_count": 5,
   "metadata": {},
   "outputs": [
    {
     "name": "stderr",
     "output_type": "stream",
     "text": [
      "100%|██████████| 4000/4000 [15:00<00:00,  4.44it/s]\n"
     ]
    }
   ],
   "source": [
    "x_filtered = torch.zeros(N).to(device)\n",
    "v_filtered = torch.zeros(K).to(device)\n",
    "v_potential = torch.zeros(K).to(device)\n",
    "x_refractory = torch.zeros(N).to(device)\n",
    "v_refractory = torch.zeros(K).to(device)\n",
    "time_since_spike = 7 * torch.ones(K).to(device)\n",
    "for trial in tqdm(range(num_trials)):\n",
    "    for obs in range(num_obs):\n",
    "        # When we get to the 6 type -- probabilisitically use the no-reward observation\n",
    "        # (Which is always the previous observation independent of the trial type)\n",
    "        use_obs = copy(obs)\n",
    "        if trial_inputs[trial_type[trial], obs] == 6:\n",
    "            if torch.rand(1) < prob_nonrw:\n",
    "                use_obs = copy(obs - 1)\n",
    "\n",
    "        for t in range(each_obs_time):\n",
    "\n",
    "            input_over_threshold = torch.rand(N).to(device) < (input_rates[trial_type[trial], use_obs, :] / 1000)\n",
    "            input_spiking = input_over_threshold & (x_refractory == 0)\n",
    "\n",
    "            # Update membrane potential and refractory period for inputs\n",
    "            x_refractory[input_spiking] = ref_time\n",
    "            x_filtered = torch.exp(torch.tensor(-1/tau))*(x_filtered + 1*input_spiking)\n",
    "\n",
    "            # Calculate firing rate of recurrent neuron \n",
    "            eta = eta0 * torch.exp(-time_since_spike/tau_ref).to(device)\n",
    "            v_potential = (W @ x_filtered) + (V @ v_filtered) + b - eta\n",
    "            v_spike_probability = vhat * torch.exp(v_potential - torch.logsumexp(v_potential, dim=0, keepdim=True))\n",
    "            neuron_over_threshold = torch.rand(K).to(device) < v_spike_probability / 1000\n",
    "            neuron_spiking = neuron_over_threshold & (v_refractory == 0)\n",
    "\n",
    "            # Update membrane potential and refractory period for recurrent neurons\n",
    "            v_refractory[neuron_spiking] = ref_time\n",
    "            time_since_spike[neuron_spiking] = -1\n",
    "            v_filtered = torch.exp(torch.tensor(-1/tau))*(v_filtered + 1*neuron_spiking)\n",
    "\n",
    "            # Implement weight updates (only do this on spiking neurons!!!!)\n",
    "            dW = beta * (torch.exp(-W) * x_filtered - 0.1) * neuron_spiking.view(-1, 1)\n",
    "            dV = beta * (torch.exp(-V) * v_filtered - 0.1) * neuron_spiking.view(-1, 1)\n",
    "            W = torch.maximum(W + dW, torch.zeros_like(W))\n",
    "            V = torch.maximum(V + dV, torch.zeros_like(V))\n",
    "            V[torch.arange(K), torch.arange(K)] = 0  ## no autapse\n",
    "\n",
    "            # Reduce refractory period\n",
    "            x_refractory = torch.max(x_refractory - 1, torch.tensor(0))\n",
    "            v_refractory = torch.max(v_refractory - 1, torch.tensor(0))\n",
    "            time_since_spike = time_since_spike + 1\n",
    "\n",
    "            # Store membrane potential\n",
    "            vall[trial, obs] += v_spike_probability / each_obs_time"
   ]
  },
  {
   "cell_type": "code",
   "execution_count": 8,
   "metadata": {},
   "outputs": [],
   "source": [
    "np.save(\"vmeans.npy\", vmeans)"
   ]
  },
  {
   "cell_type": "code",
   "execution_count": 7,
   "metadata": {},
   "outputs": [
    {
     "name": "stdout",
     "output_type": "stream",
     "text": [
      "2025-05-20 12:18:33,744 [INFO] normalizing data across axis=1\n",
      "2025-05-20 12:18:33,746 [INFO] projecting out mean along axis=0\n",
      "2025-05-20 12:18:33,747 [INFO] data normalized, 0.00sec\n",
      "2025-05-20 12:18:33,748 [INFO] sorting activity: 100 valid samples by 52 timepoints\n",
      "2025-05-20 12:18:33,755 [INFO] n_PCs = 40 computed, 0.01sec\n",
      "2025-05-20 12:18:33,758 [INFO] 10 clusters computed, time 0.01sec\n",
      "2025-05-20 12:18:33,769 [INFO] clusters sorted, time 0.02sec\n",
      "2025-05-20 12:18:33,778 [INFO] clusters upsampled, time 0.03sec\n",
      "2025-05-20 12:18:33,779 [INFO] rastermap complete, time 0.03sec\n"
     ]
    },
    {
     "data": {
      "image/png": "[encoded data removed]",
      "text/plain": [
       "<Figure size 900x400 with 3 Axes>"
      ]
     },
     "metadata": {},
     "output_type": "display_data"
    }
   ],
   "source": [
    "vmeans = torch.zeros(num_trial_types, num_obs, K)\n",
    "for ttype in range(num_trial_types):\n",
    "    idx_trial_type = ttype == trial_type\n",
    "    vmeans[ttype] = torch.mean(vall[idx_trial_type], dim=0)\n",
    "\n",
    "cc_matrix = rowwise_corrcoef(vmeans[0], vmeans[1])\n",
    "\n",
    "\n",
    "# fit rastermap\n",
    "data = np.array(torch.cat([vmeans[0], vmeans[1]], dim=0))\n",
    "model = Rastermap(n_PCs=40, n_clusters=10, \n",
    "                  locality=0.75, time_lag_window=1).fit(data.T)\n",
    "\n",
    "y = model.embedding # neurons x 1\n",
    "isort = torch.tensor(model.isort)\n",
    "\n",
    "fig, ax = plt.subplots(1, 3, figsize=(9, 4), layout='constrained')\n",
    "\n",
    "ax[0].imshow(vmeans[0].T[isort], aspect=\"auto\", interpolation=\"none\")\n",
    "ax[1].imshow(vmeans[1].T[isort], aspect=\"auto\", interpolation=\"none\")\n",
    "ax[2].imshow(cc_matrix, aspect=\"auto\")\n",
    "plt.show()"
   ]
  },
  {
   "cell_type": "code",
   "execution_count": null,
   "metadata": {},
   "outputs": [],
   "source": []
  },
  {
   "cell_type": "code",
   "execution_count": null,
   "metadata": {},
   "outputs": [],
   "source": []
  },
  {
   "cell_type": "code",
   "execution_count": null,
   "metadata": {},
   "outputs": [],
   "source": []
  }
 ],
 "metadata": {
  "kernelspec": {
   "display_name": "vrAnalysis",
   "language": "python",
   "name": "python3"
  },
  "language_info": {
   "codemirror_mode": {
    "name": "ipython",
    "version": 3
   },
   "file_extension": ".py",
   "mimetype": "text/x-python",
   "name": "python",
   "nbconvert_exporter": "python",
   "pygments_lexer": "ipython3",
   "version": "3.11.11"
  }
 },
 "nbformat": 4,
 "nbformat_minor": 2
}
