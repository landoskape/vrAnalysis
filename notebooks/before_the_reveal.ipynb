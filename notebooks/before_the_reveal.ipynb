{
 "cells": [
  {
   "cell_type": "code",
   "execution_count": 6,
   "metadata": {},
   "outputs": [],
   "source": [
    "%reload_ext autoreload\n",
    "%autoreload 2\n",
    "%matplotlib widget\n",
    "\n",
    "from tqdm import tqdm\n",
    "import numpy as np\n",
    "from matplotlib import pyplot as plt\n",
    "\n",
    "from vrAnalysis2.database import get_database\n",
    "from vrAnalysis2.helpers import Timer\n",
    "from vrAnalysis2.sessions import create_b2session\n",
    "from vrAnalysis2.processors.spkmaps import SpkmapProcessor\n",
    "from vrAnalysis2.tracking import Tracker, get_tracker\n",
    "from vrAnalysis2.syd.reliability_viewers import (\n",
    "    ReliabilityTrajectory,\n",
    "    ReliabilitySingleSession,\n",
    "    ReliabilityPlasticity,\n",
    "    ReliabilityStability,\n",
    "    ReliabilityToSpkmap,\n",
    "    ReliabilityQuantileSummary,\n",
    ")\n",
    "from vrAnalysis2.syd.reliability_continuity import ReliabilityStabilitySummary, ReliabilityMasterSummary\n",
    "\n",
    "def make_processor(mouse_name, date, session_id, spks_type=\"significant\"):\n",
    "    session = create_b2session(mouse_name, date, session_id, dict(spks_type=spks_type))\n",
    "    spkmap_processor = SpkmapProcessor(session)\n",
    "    return spkmap_processor\n",
    "\n",
    "sessiondb = get_database('vrSessions')\n",
    "mousedb = get_database('vrMice')\n",
    "\n",
    "tracked_mice = mousedb.get_table(tracked=True)[\"mouseName\"].unique()"
   ]
  },
  {
   "cell_type": "code",
   "execution_count": 12,
   "metadata": {},
   "outputs": [],
   "source": [
    "show_viewer = False\n",
    "if show_viewer:\n",
    "    rv = ReliabilityQuantileSummary(tracked_mice).deploy(env=\"notebook\")"
   ]
  },
  {
   "cell_type": "code",
   "execution_count": 3,
   "metadata": {},
   "outputs": [],
   "source": [
    "show_viewer = False\n",
    "if show_viewer:\n",
    "    rv = ReliabilityTrajectory(tracked_mice).deploy(env=\"notebook\")"
   ]
  },
  {
   "cell_type": "code",
   "execution_count": 5,
   "metadata": {},
   "outputs": [],
   "source": [
    "show_viewer = False\n",
    "if show_viewer:\n",
    "    rv = ReliabilitySingleSession(tracked_mice).deploy(env=\"notebook\")"
   ]
  },
  {
   "cell_type": "code",
   "execution_count": 7,
   "metadata": {},
   "outputs": [],
   "source": [
    "show_viewer = False\n",
    "if show_viewer:\n",
    "    viewer = ReliabilityPlasticity(tracked_mice).deploy(env=\"notebook\")"
   ]
  },
  {
   "cell_type": "code",
   "execution_count": 26,
   "metadata": {},
   "outputs": [],
   "source": [
    "show_viewer = False\n",
    "if show_viewer:\n",
    "    rv = ReliabilityStability(tracked_mice).deploy(env=\"notebook\")"
   ]
  },
  {
   "cell_type": "code",
   "execution_count": 23,
   "metadata": {},
   "outputs": [],
   "source": [
    "show_viewer = False\n",
    "if show_viewer:\n",
    "    rv = ReliabilityStabilitySummary(tracked_mice, use_cache=True).deploy(env=\"notebook\")"
   ]
  },
  {
   "cell_type": "code",
   "execution_count": 13,
   "metadata": {},
   "outputs": [],
   "source": [
    "show_viewer = False\n",
    "if show_viewer:\n",
    "    rv = ReliabilityToSpkmap(tracked_mice).deploy(env=\"notebook\")"
   ]
  },
  {
   "cell_type": "code",
   "execution_count": 19,
   "metadata": {},
   "outputs": [
    {
     "data": {
      "application/vnd.jupyter.widget-view+json": {
       "model_id": "204cc645e6d944b093ed9f949e6e3aff",
       "version_major": 2,
       "version_minor": 0
      },
      "text/plain": [
       "HBox(children=(VBox(children=(VBox(children=(HTML(value='<b>Parameters</b>'), Dropdown(description='reliabilit…"
      ]
     },
     "metadata": {},
     "output_type": "display_data"
    },
    {
     "name": "stderr",
     "output_type": "stream",
     "text": [
      "C:\\Users\\Andrew\\Documents\\GitHub\\vrAnalysis\\vrAnalysis2\\syd\\reliability_continuity.py:414: RuntimeWarning: Mean of empty slice\n",
      "  forward_data = np.nanmean(results[mouse][env][\"forward\"][key], axis=0)\n",
      "C:\\Users\\Andrew\\Documents\\GitHub\\vrAnalysis\\vrAnalysis2\\syd\\reliability_continuity.py:415: RuntimeWarning: Mean of empty slice\n",
      "  backward_data = np.nanmean(results[mouse][env][\"backward\"][key], axis=0)\n",
      "C:\\Users\\Andrew\\Documents\\GitHub\\vrAnalysis\\vrAnalysis2\\syd\\reliability_continuity.py:416: RuntimeWarning: Mean of empty slice\n",
      "  data[key][imouse, ienv] = np.nanmean(np.stack([forward_data, backward_data]), axis=0)\n"
     ]
    },
    {
     "name": "stderr",
     "output_type": "stream",
     "text": [
      "C:\\Users\\Andrew\\Documents\\GitHub\\vrAnalysis\\vrAnalysis2\\syd\\reliability_continuity.py:414: RuntimeWarning: Mean of empty slice\n",
      "  forward_data = np.nanmean(results[mouse][env][\"forward\"][key], axis=0)\n",
      "C:\\Users\\Andrew\\Documents\\GitHub\\vrAnalysis\\vrAnalysis2\\syd\\reliability_continuity.py:415: RuntimeWarning: Mean of empty slice\n",
      "  backward_data = np.nanmean(results[mouse][env][\"backward\"][key], axis=0)\n",
      "C:\\Users\\Andrew\\Documents\\GitHub\\vrAnalysis\\vrAnalysis2\\syd\\reliability_continuity.py:416: RuntimeWarning: Mean of empty slice\n",
      "  data[key][imouse, ienv] = np.nanmean(np.stack([forward_data, backward_data]), axis=0)\n",
      "C:\\Users\\Andrew\\Documents\\GitHub\\vrAnalysis\\vrAnalysis2\\syd\\reliability_continuity.py:438: RuntimeWarning: Mean of empty slice\n",
      "  ctl_data = np.nanmean(ctl_data, axis=1, keepdims=True)\n",
      "C:\\Users\\Andrew\\Documents\\GitHub\\vrAnalysis\\vrAnalysis2\\syd\\reliability_continuity.py:439: RuntimeWarning: Mean of empty slice\n",
      "  red_data = np.nanmean(red_data, axis=1, keepdims=True)\n"
     ]
    }
   ],
   "source": [
    "show_viewer = True\n",
    "if show_viewer:\n",
    "    rv = ReliabilityMasterSummary(tracked_mice).deploy(env=\"notebook\")"
   ]
  }
 ],
 "metadata": {
  "kernelspec": {
   "display_name": "vrAnalysis",
   "language": "python",
   "name": "python3"
  },
  "language_info": {
   "codemirror_mode": {
    "name": "ipython",
    "version": 3
   },
   "file_extension": ".py",
   "mimetype": "text/x-python",
   "name": "python",
   "nbconvert_exporter": "python",
   "pygments_lexer": "ipython3",
   "version": "3.11.11"
  }
 },
 "nbformat": 4,
 "nbformat_minor": 2
}
