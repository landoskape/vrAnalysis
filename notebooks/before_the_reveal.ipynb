{
 "cells": [
  {
   "cell_type": "code",
   "execution_count": 2,
   "metadata": {},
   "outputs": [],
   "source": [
    "%reload_ext autoreload\n",
    "%autoreload 2\n",
    "%matplotlib inline\n",
    "\n",
    "from matplotlib import pyplot as plt\n",
    "\n",
    "from vrAnalysis2.database import get_database\n",
    "from vrAnalysis2.syd.reliability_viewers import (\n",
    "    ReliabilityTrajectory,\n",
    "    FractionActiveTrajectory,\n",
    "    ReliabilitySingleSession,\n",
    "    ReliabilityPlasticity,\n",
    "    ReliabilityStability,\n",
    "    ReliabilityToSpkmap,\n",
    "    ReliabilityQuantileSummary,\n",
    "    ReliabilityQuantileFigureMaker,\n",
    "    FractionActiveQuantileFigureMaker,\n",
    "    SingleCellReliabilityFigureMaker,\n",
    ")\n",
    "from vrAnalysis2.syd.reliability_continuity import ReliabilityStabilitySummary, ReliabilityMasterSummary\n",
    "from vrAnalysis2.syd.placecell_reliability import (\n",
    "    TrackedSpkmapViewer,\n",
    "    TrackingStatsFigureMaker,\n",
    "    ConsistentReliabilityFigureMaker,\n",
    "    ChangingPlaceFieldFigureMaker,\n",
    ")\n",
    "\n",
    "sessiondb = get_database('vrSessions')\n",
    "mousedb = get_database('vrMice')\n",
    "tracked_mice = mousedb.get_table(tracked=True)[\"mouseName\"].unique()\n",
    "\n",
    "plt.close('all')"
   ]
  },
  {
   "cell_type": "code",
   "execution_count": 8,
   "metadata": {},
   "outputs": [],
   "source": [
    "show_viewer = False\n",
    "if show_viewer:\n",
    "    rv = ReliabilityQuantileSummary(tracked_mice).deploy(env=\"notebook\")"
   ]
  },
  {
   "cell_type": "code",
   "execution_count": 18,
   "metadata": {},
   "outputs": [],
   "source": [
    "show_viewer = False\n",
    "if show_viewer:\n",
    "    rv = ReliabilityQuantileFigureMaker(tracked_mice, try_cache=True).deploy(env=\"notebook\")"
   ]
  },
  {
   "cell_type": "code",
   "execution_count": 6,
   "metadata": {},
   "outputs": [],
   "source": [
    "show_viewer = False\n",
    "if show_viewer:\n",
    "    rv = FractionActiveQuantileFigureMaker(tracked_mice, try_cache=True).deploy(env=\"notebook\")"
   ]
  },
  {
   "cell_type": "code",
   "execution_count": 5,
   "metadata": {},
   "outputs": [],
   "source": [
    "show_viewer = False\n",
    "if show_viewer:\n",
    "    rv = ReliabilityTrajectory(tracked_mice).deploy(env=\"notebook\")"
   ]
  },
  {
   "cell_type": "code",
   "execution_count": 7,
   "metadata": {},
   "outputs": [],
   "source": [
    "show_viewer = False\n",
    "if show_viewer:\n",
    "    rv = FractionActiveTrajectory(tracked_mice).deploy(env=\"notebook\")"
   ]
  },
  {
   "cell_type": "code",
   "execution_count": 10,
   "metadata": {},
   "outputs": [],
   "source": [
    "show_viewer = False\n",
    "if show_viewer:\n",
    "    rv = TrackedSpkmapViewer(tracked_mice).deploy()"
   ]
  },
  {
   "cell_type": "code",
   "execution_count": 14,
   "metadata": {},
   "outputs": [],
   "source": [
    "show_viewer = False\n",
    "if show_viewer:\n",
    "    # For settings in the saved example, I used ctl: 37, red: 4\n",
    "    rv = TrackingStatsFigureMaker(tracked_mice, try_cache=True).deploy()"
   ]
  },
  {
   "cell_type": "code",
   "execution_count": 7,
   "metadata": {},
   "outputs": [],
   "source": [
    "show_viewer = False\n",
    "if show_viewer:\n",
    "    # Saved Examples: ctl=5, red=7, reference=1\n",
    "    rv = ConsistentReliabilityFigureMaker(tracked_mice).deploy()"
   ]
  },
  {
   "cell_type": "code",
   "execution_count": 4,
   "metadata": {},
   "outputs": [],
   "source": [
    "show_viewer = False\n",
    "if show_viewer:\n",
    "    # Example: ctl=15, red=1\n",
    "    rv = ChangingPlaceFieldFigureMaker(tracked_mice).deploy()"
   ]
  },
  {
   "cell_type": "code",
   "execution_count": 17,
   "metadata": {},
   "outputs": [],
   "source": [
    "show_viewer = False\n",
    "if show_viewer:\n",
    "    rv = ReliabilitySingleSession(tracked_mice).deploy(env=\"notebook\")"
   ]
  },
  {
   "cell_type": "code",
   "execution_count": 25,
   "metadata": {},
   "outputs": [],
   "source": [
    "show_viewer = False\n",
    "if show_viewer:\n",
    "    viewer = ReliabilityPlasticity(tracked_mice).deploy(env=\"notebook\")"
   ]
  },
  {
   "cell_type": "code",
   "execution_count": 20,
   "metadata": {},
   "outputs": [],
   "source": [
    "show_viewer = False\n",
    "if show_viewer:\n",
    "    rv = ReliabilityStability(tracked_mice).deploy(env=\"notebook\")"
   ]
  },
  {
   "cell_type": "code",
   "execution_count": 29,
   "metadata": {},
   "outputs": [],
   "source": [
    "show_viewer = False\n",
    "if show_viewer:\n",
    "    rv = ReliabilityStabilitySummary(tracked_mice, use_cache=False).deploy(env=\"notebook\")"
   ]
  },
  {
   "cell_type": "code",
   "execution_count": 6,
   "metadata": {},
   "outputs": [],
   "source": [
    "show_viewer = False\n",
    "if show_viewer:\n",
    "    rv = ReliabilityToSpkmap(tracked_mice).deploy(env=\"notebook\")"
   ]
  },
  {
   "cell_type": "code",
   "execution_count": 8,
   "metadata": {},
   "outputs": [],
   "source": [
    "show_viewer = False\n",
    "if show_viewer:\n",
    "    rv = SingleCellReliabilityFigureMaker(tracked_mice).deploy()"
   ]
  },
  {
   "cell_type": "code",
   "execution_count": 19,
   "metadata": {},
   "outputs": [],
   "source": [
    "show_viewer = False\n",
    "if show_viewer:\n",
    "    rv = ReliabilityMasterSummary(tracked_mice).deploy(env=\"notebook\")"
   ]
  }
 ],
 "metadata": {
  "kernelspec": {
   "display_name": "vrAnalysis",
   "language": "python",
   "name": "python3"
  },
  "language_info": {
   "codemirror_mode": {
    "name": "ipython",
    "version": 3
   },
   "file_extension": ".py",
   "mimetype": "text/x-python",
   "name": "python",
   "nbconvert_exporter": "python",
   "pygments_lexer": "ipython3",
   "version": "3.11.11"
  }
 },
 "nbformat": 4,
 "nbformat_minor": 2
}
