{
 "cells": [
  {
   "cell_type": "code",
   "execution_count": 1,
   "metadata": {},
   "outputs": [],
   "source": [
    "%reload_ext autoreload\n",
    "%autoreload 2\n",
    "%matplotlib inline\n",
    "\n",
    "from matplotlib import pyplot as plt\n",
    "\n",
    "from vrAnalysis2.database import get_database\n",
    "from vrAnalysis2.syd.reliability_viewers import (\n",
    "    ReliabilityTrajectory,\n",
    "    FractionActiveTrajectory,\n",
    "    ReliabilitySingleSession,\n",
    "    ReliabilityPlasticity,\n",
    "    ReliabilityStability,\n",
    "    ReliabilityToSpkmap,\n",
    "    ReliabilityQuantileSummary,\n",
    "    ReliabilityQuantileFigureMaker,\n",
    "    FractionActiveQuantileFigureMaker,\n",
    "    SingleCellReliabilityFigureMaker,\n",
    ")\n",
    "from vrAnalysis2.syd.reliability_continuity import ReliabilityStabilitySummary, ReliabilityMasterSummary\n",
    "from vrAnalysis2.syd.placecell_reliability import (\n",
    "    TrackedSpkmapViewer,\n",
    "    TrackingStatsFigureMaker,\n",
    "    ConsistentReliabilityFigureMaker,\n",
    "    ChangingPlaceFieldFigureMaker,\n",
    ")\n",
    "\n",
    "sessiondb = get_database('vrSessions')\n",
    "mousedb = get_database('vrMice')\n",
    "tracked_mice = mousedb.get_table(tracked=True)[\"mouseName\"].unique()\n",
    "\n",
    "plt.close('all')"
   ]
  },
  {
   "cell_type": "code",
   "execution_count": 8,
   "metadata": {},
   "outputs": [],
   "source": [
    "show_viewer = False\n",
    "if show_viewer:\n",
    "    rv = ReliabilityQuantileSummary(tracked_mice).deploy(env=\"notebook\")"
   ]
  },
  {
   "cell_type": "code",
   "execution_count": 8,
   "metadata": {},
   "outputs": [],
   "source": [
    "show_viewer = False\n",
    "if show_viewer:\n",
    "    rv = ReliabilityQuantileFigureMaker(tracked_mice, try_cache=True)\n",
    "    rv.show()"
   ]
  },
  {
   "cell_type": "code",
   "execution_count": 6,
   "metadata": {},
   "outputs": [],
   "source": [
    "show_viewer = False\n",
    "if show_viewer:\n",
    "    rv = FractionActiveQuantileFigureMaker(tracked_mice, try_cache=True).deploy(env=\"notebook\")"
   ]
  },
  {
   "cell_type": "code",
   "execution_count": 5,
   "metadata": {},
   "outputs": [],
   "source": [
    "show_viewer = False\n",
    "if show_viewer:\n",
    "    rv = ReliabilityTrajectory(tracked_mice).deploy(env=\"notebook\")"
   ]
  },
  {
   "cell_type": "code",
   "execution_count": 7,
   "metadata": {},
   "outputs": [],
   "source": [
    "show_viewer = False\n",
    "if show_viewer:\n",
    "    rv = FractionActiveTrajectory(tracked_mice).deploy(env=\"notebook\")"
   ]
  },
  {
   "cell_type": "code",
   "execution_count": 7,
   "metadata": {},
   "outputs": [],
   "source": [
    "show_viewer = False\n",
    "if show_viewer:\n",
    "    rv = TrackedSpkmapViewer(tracked_mice).deploy()"
   ]
  },
  {
   "cell_type": "code",
   "execution_count": 4,
   "metadata": {},
   "outputs": [],
   "source": [
    "show_viewer = False\n",
    "if show_viewer:\n",
    "    # For settings in the saved example, I used ctl: 37, red: 4\n",
    "    rv = TrackingStatsFigureMaker(tracked_mice, try_cache=True)\n",
    "    rv.show()"
   ]
  },
  {
   "cell_type": "code",
   "execution_count": 10,
   "metadata": {},
   "outputs": [],
   "source": [
    "show_viewer = False\n",
    "if show_viewer:\n",
    "    # Saved Examples: ctl=5, red=7, reference=1\n",
    "    rv = ConsistentReliabilityFigureMaker(tracked_mice)\n",
    "    rv.show()"
   ]
  },
  {
   "cell_type": "code",
   "execution_count": 14,
   "metadata": {},
   "outputs": [],
   "source": [
    "show_viewer = False\n",
    "if show_viewer:\n",
    "    # Example: ctl=15, red=1\n",
    "    rv = ChangingPlaceFieldFigureMaker(tracked_mice)\n",
    "\n",
    "# rv.show()\n",
    "# rv.share()"
   ]
  },
  {
   "cell_type": "code",
   "execution_count": 17,
   "metadata": {},
   "outputs": [],
   "source": [
    "show_viewer = False\n",
    "if show_viewer:\n",
    "    rv = ReliabilitySingleSession(tracked_mice).deploy(env=\"notebook\")"
   ]
  },
  {
   "cell_type": "code",
   "execution_count": 25,
   "metadata": {},
   "outputs": [],
   "source": [
    "show_viewer = False\n",
    "if show_viewer:\n",
    "    viewer = ReliabilityPlasticity(tracked_mice).deploy(env=\"notebook\")"
   ]
  },
  {
   "cell_type": "code",
   "execution_count": 20,
   "metadata": {},
   "outputs": [],
   "source": [
    "show_viewer = False\n",
    "if show_viewer:\n",
    "    rv = ReliabilityStability(tracked_mice).deploy(env=\"notebook\")"
   ]
  },
  {
   "cell_type": "code",
   "execution_count": 29,
   "metadata": {},
   "outputs": [],
   "source": [
    "show_viewer = False\n",
    "if show_viewer:\n",
    "    rv = ReliabilityStabilitySummary(tracked_mice, use_cache=False).deploy(env=\"notebook\")"
   ]
  },
  {
   "cell_type": "code",
   "execution_count": 6,
   "metadata": {},
   "outputs": [],
   "source": [
    "show_viewer = False\n",
    "if show_viewer:\n",
    "    rv = ReliabilityToSpkmap(tracked_mice).deploy(env=\"notebook\")"
   ]
  },
  {
   "cell_type": "code",
   "execution_count": 8,
   "metadata": {},
   "outputs": [],
   "source": [
    "show_viewer = False\n",
    "if show_viewer:\n",
    "    rv = SingleCellReliabilityFigureMaker(tracked_mice).deploy()"
   ]
  },
  {
   "cell_type": "code",
   "execution_count": 19,
   "metadata": {},
   "outputs": [],
   "source": [
    "show_viewer = False\n",
    "if show_viewer:\n",
    "    rv = ReliabilityMasterSummary(tracked_mice).deploy(env=\"notebook\")"
   ]
  },
  {
   "cell_type": "code",
   "execution_count": null,
   "metadata": {},
   "outputs": [],
   "source": [
    "# I want to see what it looks like when place fields change\n",
    "# Data:\n",
    "# -- In principle I can get all the summary data from the forward/backward cached data.....\n",
    "# Plots: \n",
    "# -- Example: Spkmap over several sessions (maybe with a particular correlation coefficient from first to last?)\n",
    "# --          - Either full trials or just the average place field....\n",
    "# Components:\n",
    "# -- Mouse selector\n",
    "# -- Environment selector (in order of sessions, e.g. familiar, novel, novel-2)\n",
    "# -- Session limiters (limit the sessions that can be chosen from for the combo, this is a way to keep it similar for all mice!)\n",
    "# -- Combo selector (for sessions, it's a selection object where the combos are predefined)\n",
    "# -- Reliability range\n",
    "# -- Fraction active range \n",
    "# -- Correlation coefficient range (for first to last session in combo)"
   ]
  }
 ],
 "metadata": {
  "kernelspec": {
   "display_name": "vrAnalysis",
   "language": "python",
   "name": "python3"
  },
  "language_info": {
   "codemirror_mode": {
    "name": "ipython",
    "version": 3
   },
   "file_extension": ".py",
   "mimetype": "text/x-python",
   "name": "python",
   "nbconvert_exporter": "python",
   "pygments_lexer": "ipython3",
   "version": "3.11.11"
  }
 },
 "nbformat": 4,
 "nbformat_minor": 2
}
