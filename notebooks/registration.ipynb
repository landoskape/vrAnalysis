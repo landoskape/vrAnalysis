{
 "cells": [
  {
   "cell_type": "code",
   "execution_count": 2,
   "id": "da13e506",
   "metadata": {},
   "outputs": [],
   "source": [
    "%reload_ext autoreload\n",
    "%autoreload 2\n",
    "\n",
    "import random\n",
    "from pathlib import Path\n",
    "\n",
    "from tqdm import tqdm\n",
    "import numpy as np\n",
    "import scipy as sp\n",
    "import matplotlib as mpl\n",
    "import matplotlib.pyplot as plt\n",
    "\n",
    "from vrAnalysis import analysis\n",
    "from vrAnalysis import helpers\n",
    "from vrAnalysis import database\n",
    "from vrAnalysis import tracking\n",
    "from vrAnalysis import session\n",
    "from vrAnalysis import registration\n",
    "from vrAnalysis import fileManagement as fm\n",
    "from vrAnalysis import faststats as fs\n",
    "\n",
    "from vrAnalysis.uiDatabase import addEntryGUI\n",
    "from vrAnalysis.redgui import redCellGUI as rgui\n",
    "\n",
    "sessiondb = database.vrDatabase('vrSessions')\n",
    "mousedb = database.vrDatabase('vrMice')\n",
    "\n",
    "# device = \"cuda\" if torch.cuda.is_available() else \"cpu\"\n",
    "# print(f\"Using device: {device}\")"
   ]
  },
  {
   "cell_type": "code",
   "execution_count": null,
   "id": "ab1e0696",
   "metadata": {},
   "outputs": [],
   "source": [
    "addEntryGUI()"
   ]
  }
 ],
 "metadata": {
  "kernelspec": {
   "display_name": "vrAnalysis",
   "language": "python",
   "name": "python3"
  },
  "language_info": {
   "codemirror_mode": {
    "name": "ipython",
    "version": 3
   },
   "file_extension": ".py",
   "mimetype": "text/x-python",
   "name": "python",
   "nbconvert_exporter": "python",
   "pygments_lexer": "ipython3",
   "version": "3.11.11"
  }
 },
 "nbformat": 4,
 "nbformat_minor": 5
}
