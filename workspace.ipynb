{
 "cells": [
  {
   "cell_type": "code",
   "execution_count": 35,
   "id": "62912f35-2f40-4d93-872e-439919754adf",
   "metadata": {},
   "outputs": [],
   "source": [
    "%reload_ext autoreload\n",
    "%autoreload 2\n",
    "%matplotlib qt\n",
    "\n",
    "import numpy as np\n",
    "import scipy as sp\n",
    "import matplotlib as mpl\n",
    "import matplotlib.pyplot as plt\n",
    "# import pandas as pd\n",
    "# pd.options.display.width = 1000\n",
    "\n",
    "from vrAnalysis import analysis\n",
    "from vrAnalysis import helpers\n",
    "from vrAnalysis import database\n",
    "from vrAnalysis import tracking\n",
    "from vrAnalysis import session\n",
    "\n",
    "# from vrAnalysis.uiDatabase import addEntryGUI\n",
    "from vrAnalysis.redgui import redCellGUI as rgui\n",
    "\n",
    "sessiondb = database.vrDatabase('vrSessions')\n",
    "mousedb = database.vrDatabase('vrMice')\n",
    "\n",
    "# pd.set_option('display.max_rows', 100)\n",
    "\n",
    "# device = \"cuda\" if torch.cuda.is_available() else \"cpu\"\n",
    "# print(f\"Using device: {device}\")"
   ]
  },
  {
   "cell_type": "code",
   "execution_count": null,
   "id": "247fd85e",
   "metadata": {},
   "outputs": [],
   "source": [
    "# Analyses and work to do:\n",
    "\n",
    "# ROICaT Figure:\n",
    "# - add a \"print pair data\" button to the interactive viewer (and maybe even a \"save figure\" button?)\n",
    "# - build an example figure with the ROICaT data (can be simple, just make it soon)\n",
    "\n",
    "# LBM-s3d:\n",
    "# - get started"
   ]
  },
  {
   "cell_type": "code",
   "execution_count": 2,
   "id": "07bbdd66",
   "metadata": {},
   "outputs": [],
   "source": [
    "# Database Management:\n",
    "# I need a way to report how many sessions the mouse has experienced each environment, independent of \n",
    "# which environments are represented in imaging sessions (which is how I'm doing it now...)\n",
    "\n",
    "# Required Updates: \n",
    "# need to update the placeCellMultiSession object to reflect changes to spkmap code\n",
    "# anything that uses pcss.get_place_field (pcmm make_snake_data and make_paired_snake)\n",
    "\n",
    "# Compare cvPCA analyses with eigenspectrum of spontaneous data unrelated to SVCA\n",
    "# And I want to start with the rastermap on projected place field data\n",
    "\n",
    "# Compare cvPCA to SVCA (do a hybrid: use cvPCA to get the spatial PCs, then apply those to the SVCA split)\n",
    "\n",
    "# Buzsaki Data:\n",
    "# https://crcns.org/data-sets/hc/hc-3 -- https://www.ncbi.nlm.nih.gov/pmc/articles/PMC4097350/\n",
    "# https://app.globus.org/file-manager?origin_id=188a6110-96db-11eb-b7a9-f57b2d55370d&origin_path=%2FVargaV%2F&two_pane=false - https://buzsakilab.com/wp/animals/?frm_search&project=67125&frm-page-14333=2"
   ]
  },
  {
   "cell_type": "code",
   "execution_count": 1,
   "id": "471f554b",
   "metadata": {},
   "outputs": [],
   "source": [
    "# Post Dataclub 240429: \n",
    "# -- need to consolidate all my figures (especially for the last few slides in a script)"
   ]
  },
  {
   "cell_type": "code",
   "execution_count": 3,
   "id": "d1b225b7",
   "metadata": {},
   "outputs": [],
   "source": [
    "# Post Meeting with Kenneth Plan:\n",
    "# - Relate to Kernel Matrices:\n",
    "#   - https://people.eecs.berkeley.edu/~jordan/kernels/0521813972c09_p291-326.pdf\n",
    "#   - First, look at the kernel matrices (the position x position covariance matrices for each environment/session)\n",
    "#   - Study the structure, and how it changes over time. \n",
    "#   - Compare the cross-validated kernel and the non-cv kernel matrix and compare their changes over time\n",
    "#            - notes about ^^, this will tell us how much changes in eigenspectrum relate to reliability across trials vs the shape of the kernel matrix etc...\n",
    "# - Studies of non-place cells:\n",
    "#   - Look at the eigenspectrum from non-place cells, suppose as a function of the reliability...\n",
    "#   - Do cross-validated decoding from non-place cells\n",
    "# - Discussion of SVCA results\n",
    "#   - SVCA dimensionality could have issues with noise estimation... the same way the trial expanded cvPCA plots did...\n",
    "#   - Predict cell2 group from cell1 group, and predict cell2 group from their cross-validated place field, compare variance explained and overlap in variance explained\n",
    "# - Rastermap: \n",
    "#   - need to find a way to remove expected spatial activity from full spike trace data (then maybe do rastermap again?)\n",
    "# - Signal to Noise\n",
    "#   - For each ROI, measure activity in center of place field, outside of place field on a linear track, and outside the track (or in other environments)\n",
    "# - Measure spontaneous periods of activity."
   ]
  },
  {
   "cell_type": "code",
   "execution_count": 45,
   "id": "cdee9cf4",
   "metadata": {},
   "outputs": [],
   "source": [
    "from figures.roicat_figure.pair_of_pairs import PairPairDatahandler, PairPairInteractivePlot\n",
    "\n",
    "# for choosing a pair of pairs to highlight spatial feature discrimination\n",
    "mouse_name = \"ATL022\"\n",
    "pp_handler = PairPairDatahandler(mouse_name, fake_data=True)\n",
    "pp_window = PairPairInteractivePlot(pp_handler)\n",
    "pp_window.show()"
   ]
  },
  {
   "cell_type": "code",
   "execution_count": 1,
   "id": "9010f0a8",
   "metadata": {},
   "outputs": [],
   "source": [
    "from vrAnalysis import analysis, tracking\n",
    "\n",
    "mouse_name = \"ATL027\"\n",
    "roistat = analysis.RoicatStats(tracking.tracker(mouse_name)) # only make this once so data stays loaded"
   ]
  },
  {
   "cell_type": "code",
   "execution_count": 10,
   "id": "e21aef79",
   "metadata": {},
   "outputs": [
    {
     "name": "stdout",
     "output_type": "stream",
     "text": [
      "ATL027 Env (most): 3, Sessions (-7): [7, 8, 9, 10, 11, 12, 13]\n"
     ]
    },
    {
     "name": "stderr",
     "output_type": "stream",
     "text": [
      "c:\\Users\\Andrew\\Documents\\GitHub\\vrAnalysis\\vrAnalysis\\analysis\\placeCellMultiSession.py:566: RuntimeWarning: Mean of empty slice\n",
      "  c_data = np.nanmean(\n"
     ]
    },
    {
     "name": "stdout",
     "output_type": "stream",
     "text": [
      "ROICaT_Stats is saving a ATL027 figure for tracked_snake_env3_ses_7_8_9_10_11_12_13\n"
     ]
    },
    {
     "data": {
      "image/png": "[encoded data removed]",
      "text/plain": [
       "<Figure size 2840x400 with 8 Axes>"
      ]
     },
     "metadata": {},
     "output_type": "display_data"
    }
   ],
   "source": [
    "# make snake plot of all tracked cells that are reliable in the \"sortby\" session\n",
    "envnum, idx_ses = roistat.env_idx_ses_selector(envmethod=\"most\", sesmethod=-7, verbose=True)\n",
    "outs = roistat.plot_snake(envnum, idx_ses=idx_ses, sortby=idx_ses[-4], cutoffs=(0.4, 0.7), normalize=-80, rewzone=True, sortby_blue=False, height_multiplier=2.0, withSave=True)"
   ]
  },
  {
   "cell_type": "code",
   "execution_count": null,
   "id": "220d7e4c",
   "metadata": {},
   "outputs": [],
   "source": []
  },
  {
   "cell_type": "code",
   "execution_count": null,
   "id": "4f6c7131",
   "metadata": {},
   "outputs": [],
   "source": []
  },
  {
   "cell_type": "code",
   "execution_count": null,
   "id": "527aeae2",
   "metadata": {},
   "outputs": [],
   "source": []
  },
  {
   "cell_type": "code",
   "execution_count": null,
   "id": "fbcd6e1c",
   "metadata": {},
   "outputs": [],
   "source": []
  },
  {
   "cell_type": "code",
   "execution_count": null,
   "id": "7ade5989",
   "metadata": {},
   "outputs": [],
   "source": []
  },
  {
   "cell_type": "code",
   "execution_count": null,
   "id": "f2201088",
   "metadata": {},
   "outputs": [],
   "source": []
  },
  {
   "cell_type": "code",
   "execution_count": null,
   "id": "e1f5de59",
   "metadata": {},
   "outputs": [],
   "source": []
  },
  {
   "cell_type": "code",
   "execution_count": null,
   "id": "6ef16283",
   "metadata": {},
   "outputs": [],
   "source": []
  },
  {
   "cell_type": "code",
   "execution_count": null,
   "id": "d948eca5",
   "metadata": {},
   "outputs": [],
   "source": []
  },
  {
   "cell_type": "code",
   "execution_count": null,
   "id": "eb3c4bf1",
   "metadata": {},
   "outputs": [],
   "source": []
  },
  {
   "cell_type": "code",
   "execution_count": null,
   "id": "992a772f",
   "metadata": {},
   "outputs": [],
   "source": []
  },
  {
   "cell_type": "code",
   "execution_count": null,
   "id": "1a5db1a1",
   "metadata": {},
   "outputs": [],
   "source": []
  },
  {
   "cell_type": "code",
   "execution_count": null,
   "id": "c86d460f",
   "metadata": {},
   "outputs": [],
   "source": []
  },
  {
   "cell_type": "code",
   "execution_count": null,
   "metadata": {},
   "outputs": [],
   "source": []
  },
  {
   "cell_type": "code",
   "execution_count": null,
   "metadata": {},
   "outputs": [],
   "source": []
  },
  {
   "cell_type": "code",
   "execution_count": null,
   "id": "26a1db0f",
   "metadata": {},
   "outputs": [],
   "source": []
  },
  {
   "cell_type": "code",
   "execution_count": null,
   "id": "0eec13c7",
   "metadata": {},
   "outputs": [],
   "source": []
  },
  {
   "cell_type": "code",
   "execution_count": null,
   "id": "009d26a5",
   "metadata": {},
   "outputs": [],
   "source": [
    "# ROICaT Figure -- Example\n",
    "\n",
    "# Goal: show FOV from two sessions, with matched nearby ROIs color-coded the same way and non-tracked but nearby ROIs color-coded differently\n",
    "# Pick ROIs that have a good place field\n",
    "# Show trial by position heat maps stacked by session color-coded the same way as the ROI to show that tracked has the same place field and non-tracked (but close) doesn't\n",
    "\n",
    "mouse_name = 'ATL027'\n",
    "track = tracking.tracker(mouse_name)\n",
    "roistat = analysis.RoicatStats(track)"
   ]
  },
  {
   "cell_type": "code",
   "execution_count": null,
   "id": "77b2a872",
   "metadata": {},
   "outputs": [
    {
     "name": "stdout",
     "output_type": "stream",
     "text": [
      "env: 3 idx_ses: [8, 9, 10, 11]\n"
     ]
    },
    {
     "name": "stderr",
     "output_type": "stream",
     "text": [
      "  0%|          | 0/4 [00:00<?, ?it/s]"
     ]
    },
    {
     "name": "stderr",
     "output_type": "stream",
     "text": [
      "100%|██████████| 4/4 [00:38<00:00,  9.58s/it]\n",
      "getting roi data: 100%|██████████| 4/4 [00:02<00:00,  1.62it/s]\n",
      "c:\\Users\\Andrew\\Documents\\GitHub\\vrAnalysis\\vrAnalysis\\analysis\\roicat_stats.py:159: RuntimeWarning: All-NaN slice encountered\n",
      "  nn_dist = [np.nanmin(pwd, axis=1) for pwd in pwdists]\n",
      "getting roi data: 100%|██████████| 4/4 [00:02<00:00,  1.56it/s]\n"
     ]
    }
   ],
   "source": [
    "# processing methods for preloaded roistat object\n",
    "envnum = roistat.env_selector(envmethod=\"most\")\n",
    "\n",
    "# get all sessions with chosen environment\n",
    "idx_ses = roistat.idx_ses_selector(envnum, sesmethod=\"all\")\n",
    "\n",
    "# pick 4 environments, the later the better, but if there's lots of sessions don't do the last one (imaging quality dropped off in last couple sessions usually)\n",
    "if len(idx_ses) > 7:\n",
    "    idx_ses = idx_ses[-6:-2]\n",
    "elif len(idx_ses) > 4:\n",
    "    idx_ses = idx_ses[-4:]\n",
    "\n",
    "# report which environment and sessions are being used\n",
    "print(\"env:\", envnum, \"idx_ses:\", idx_ses)\n",
    "\n",
    "# get data for all roicat plots\n",
    "\n",
    "kwargs = dict(\n",
    "    sim_name=\"sConj\",\n",
    "    cutoffs=(0.6, 0.85),\n",
    "    both_reliable=False,\n",
    ")\n",
    "\n",
    "sim, corr, tracked, pwdist, nnpair, pwind, prms = roistat.make_roicat_comparison(envnum, idx_ses=idx_ses, **kwargs)\n",
    "centroids = roistat.track.get_centroids(idx_ses=prms['idx_ses'], cat_planes=True, combine=True, keep_planes=roistat.keep_planes)"
   ]
  },
  {
   "cell_type": "code",
   "execution_count": null,
   "id": "186033dd",
   "metadata": {},
   "outputs": [
    {
     "name": "stdout",
     "output_type": "stream",
     "text": [
      "[(2, 70), (2, 63), (2, 52), (2, 88), (2, 85), (2, 169)]\n",
      "[(2, 70), (2, 63), (2, 52), (2, 88), (2, 85), (2, 169)]\n",
      "[(70, 2), (63, 2), (52, 2), (88, 2), (85, 2), (169, 2)]\n",
      "[(70, 2), (63, 2), (52, 2), (88, 2), (85, 2), (169, 2)]\n"
     ]
    }
   ],
   "source": [
    "def check_no_duplicates(roi_idx_match, roi_idx_nomatch):\n",
    "    no_duplicates = []\n",
    "    for im, inm in zip(roi_idx_match, roi_idx_nomatch):\n",
    "        c_duplicates = im.reshape(2, -1, 1) == inm.reshape(2, 1, -1)\n",
    "        no_duplicates.append(~np.any(c_duplicates, axis=0))\n",
    "    return no_duplicates\n",
    "\n",
    "def get_centroids_match(centroids, idx, prms):\n",
    "    assert len(prms['idx_ses_pairs'])==len(idx), \"idx doesn't match number of session pairs\" \n",
    "    assert len(centroids)==len(prms['idx_ses']), \"centroids doesn't match number of sessions\"\n",
    "    \n",
    "    # prepare lookup table for going from the absolute session index to the relative index in centroids\n",
    "    session_lookup = lambda ises: {val: idx for idx, val in enumerate(prms['idx_ses'])}[ises]\n",
    "    \n",
    "    # prepare list for centroids of matched pairs\n",
    "    centroids_matched = []\n",
    "    for ipair, imatch in zip(prms['idx_ses_pairs'], idx):\n",
    "        i1 = session_lookup(ipair[0]) # idx to first session in pair\n",
    "        i2 = session_lookup(ipair[1]) # idx to second session in pair\n",
    "        c1 = centroids[i1][imatch[0]] # centroids in first session\n",
    "        c2 = centroids[i2][imatch[1]] # centroids in second session\n",
    "        centroids_matched.append(np.stack((c1, c2)))\n",
    "\n",
    "    return centroids_matched\n",
    "\n",
    "def get_plane_of_pair(roistat, idx, prms):\n",
    "    assert len(idx)==len(prms['idx_ses_pairs']), \"idx and prms['idx_ses_pairs'] don't have same number of elements\"\n",
    "\n",
    "    # prepare lookup table for going from the absolute session index to the relative index in centroids\n",
    "    session_lookup = lambda ises: {val: idx for idx, val in enumerate(prms['idx_ses'])}[ises]\n",
    "\n",
    "    # get plane index for each roi from sessions\n",
    "    roiPlaneIdx = roistat.get_from_pcss('roiPlaneIdx', prms['idx_ses'])\n",
    "\n",
    "    # prepare list of roi plane index for each pair\n",
    "    pair_plane = []\n",
    "    for ipair, ii in zip(prms['idx_ses_pairs'], idx):\n",
    "        i1 = session_lookup(ipair[0])\n",
    "        i2 = session_lookup(ipair[1])\n",
    "        pp1 = roiPlaneIdx[i1][ii[0]]\n",
    "        pp2 = roiPlaneIdx[i2][ii[1]]\n",
    "        if not np.all(pp1==pp2): \n",
    "            raise ValueError(\"Planes of pair don't all match\")\n",
    "        pair_plane.append(pp1)\n",
    "    \n",
    "    return pair_plane\n",
    "\n",
    "\n",
    "# set parameters for possible pairs\n",
    "mincorr = 0.8 # minimum correlation for matched pair\n",
    "maxcorr = 0.2 # maximum correlation for non-matched pair\n",
    "maxdist = 6 # maximum distance for any example pair\n",
    "\n",
    "# set parameters for pair of pairs (distance apart etc.)\n",
    "maxdistpp = 12 # maximum distance for pair of pairs\n",
    "mindistpp = 6 # minimum distance for pair of pairs\n",
    "\n",
    "# get possible matches and not-matches\n",
    "idx_possible_match = [np.where(t & (c>mincorr) & (pwd<maxdist))[0] for t, c, pwd in zip(tracked, corr, pwdist)] \n",
    "idx_possible_nomatch = [np.where(~t & (c<maxcorr) & (pwd<maxdist))[0] for t, c, pwd in zip(tracked, corr, pwdist)]\n",
    "\n",
    "# get possible match/nomatch pair indices\n",
    "roi_idx_match = [pwi[:, i] for pwi, i in zip(pwind, idx_possible_match)]\n",
    "roi_idx_nomatch = [pwi[:, i] for pwi, i in zip(pwind, idx_possible_nomatch)]\n",
    "\n",
    "# get average centroid of pairs\n",
    "centroids_match = get_centroids_match(centroids, roi_idx_match, prms)\n",
    "centroids_nomatch = get_centroids_match(centroids, roi_idx_nomatch, prms)\n",
    "acentroid_match = [np.mean(c, axis=0) for c in centroids_match]\n",
    "acentroid_nomatch = [np.mean(c, axis=0) for c in centroids_nomatch]\n",
    "\n",
    "# get distance between pairs of possible match/nomatch for each pair of sessions\n",
    "dist_match_nomatch = [sp.spatial.distance.cdist(am, anm) for am, anm in zip(acentroid_match, acentroid_nomatch)]\n",
    "good_distance = [(dmn<maxdistpp) & (dmn>mindistpp) for dmn in dist_match_nomatch]\n",
    "\n",
    "# check if pairs include any of the same ROIs\n",
    "no_duplicates = check_no_duplicates(roi_idx_match, roi_idx_nomatch)\n",
    "\n",
    "# get plane indices for each pair\n",
    "plane_pair_match = get_plane_of_pair(roistat, roi_idx_match, prms)\n",
    "plane_pair_nomatch = get_plane_of_pair(roistat, roi_idx_nomatch, prms)\n",
    "same_plane = [ppm.reshape(-1, 1) == ppn.reshape(1, -1) for ppm, ppn in zip(plane_pair_match, plane_pair_nomatch)]\n",
    "\n",
    "# possible pair of pairs boolean array\n",
    "ipair_match, ipair_nomatch = helpers.named_transpose([np.where(gd & nd & smp) for gd, nd, smp in zip(good_distance, no_duplicates, same_plane)])\n",
    "\n",
    "# indices to ROI pairs for good pairs of pairs\n",
    "pp_roi_match = [rim[:, ipm] for rim, ipm in zip(roi_idx_match, ipair_match)]\n",
    "pp_roi_nomatch = [rinm[:, ipnm] for rinm, ipnm in zip(roi_idx_nomatch, ipair_nomatch)] \n",
    "pp_centroid_match = [acm[ipm] for acm, ipm in zip(acentroid_match, ipair_match)]\n",
    "pp_centroid_nomatch = [acnm[ipnm] for acnm, ipnm in zip(acentroid_nomatch, ipair_nomatch)]\n",
    "\n",
    "# get plane indices for each pair\n",
    "plane_pair = get_plane_of_pair(roistat, pp_roi_match, prms)\n",
    "\n",
    "# check that match and no-match pairs are in same plane\n",
    "assert all([np.all(pp==ppnm) for pp, ppnm in zip(plane_pair, get_plane_of_pair(roistat, pp_roi_nomatch, prms))])\n",
    "\n",
    "# this lists the shapes of pairs of ROI indices across the session pairs for pairs of pairs =<\n",
    "print([i.shape for i in pp_roi_match])\n",
    "print([i.shape for i in pp_roi_nomatch])\n",
    "print([i.shape for i in pp_centroid_match])\n",
    "print([i.shape for i in pp_centroid_nomatch])"
   ]
  },
  {
   "cell_type": "code",
   "execution_count": null,
   "id": "417606c5",
   "metadata": {},
   "outputs": [
    {
     "name": "stdout",
     "output_type": "stream",
     "text": [
      "Session Pair: [8 9] ROI Pair: 39\n",
      "Match Idx: [10633  7025] NoMatch Idx: [9804 7771]\n"
     ]
    }
   ],
   "source": [
    "# Now make figures\n",
    "def get_masks(roistat, isespair, idxroipair, prms, pp_roi_match, pp_roi_nomatch):\n",
    "    ROIs = roistat.track.get_ROIs(as_coo=False, idx_ses=prms['idx_ses_pairs'][isespair], keep_planes=roistat.keep_planes)\n",
    "    ROIs = [sp.sparse.vstack(rois, format='csr') for rois in ROIs] # concatenate across planes\n",
    "\n",
    "    roi_match = [ROIs[0][pp_roi_match[isespair][0, idxroipair]], ROIs[1][pp_roi_match[isespair][1, idxroipair]]]\n",
    "    roi_nomatch = [ROIs[0][pp_roi_nomatch[isespair][0, idxroipair]], ROIs[1][pp_roi_nomatch[isespair][1, idxroipair]]]\n",
    "\n",
    "    num_pixels = roi_match[0].shape[1]\n",
    "    hw = int(np.sqrt(num_pixels))\n",
    "    roi_match = [r.toarray().reshape(hw, hw) for r in roi_match]\n",
    "    roi_nomatch = [r.toarray().reshape(hw, hw) for r in roi_nomatch]\n",
    "\n",
    "    return roi_match, roi_nomatch\n",
    "\n",
    "def get_spkmaps(roistat, isespair, idxroipair, prms, pp_roi_match, pp_roi_nomatch):\n",
    "    spkmaps = roistat.get_spkmaps(envnum, trials=\"full\", average=False, tracked=False, idx_ses=prms['idx_ses_pairs'][isespair], by_plane=False)[0]\n",
    "    spkmap_match = [spkmaps[0][pp_roi_match[isespair][0, idxroipair]], spkmaps[1][pp_roi_match[isespair][1, idxroipair]]]\n",
    "    spkmap_nomatch = [spkmaps[0][pp_roi_nomatch[isespair][0, idxroipair]], spkmaps[1][pp_roi_nomatch[isespair][1, idxroipair]]]\n",
    "    spkmap_match = [sp.stats.zscore(sm, axis=None) for sm in spkmap_match]\n",
    "    spkmap_nomatch = [sp.stats.zscore(sm, axis=None) for sm in spkmap_nomatch]\n",
    "    distedges = roistat.pcss[prms['idx_ses_pairs'][isespair][0]].distedges\n",
    "    return spkmap_match, spkmap_nomatch, distedges\n",
    "\n",
    "# pick random session pair and random index\n",
    "isespair = 0\n",
    "idxroipair = np.random.choice(pp_roi_match[isespair].shape[1])\n",
    "roi_scale = 2.5\n",
    "lim = 3 # zscore limit of colormap\n",
    "print('Session Pair:', prms['idx_ses_pairs'][isespair], \"ROI Pair:\", idxroipair)\n",
    "print(\"Match Idx:\", pp_roi_match[isespair][:, idxroipair], \"NoMatch Idx:\", pp_roi_nomatch[isespair][:, idxroipair])\n",
    "\n",
    "ccpair = np.mean(np.stack((pp_centroid_match[isespair][idxroipair], pp_centroid_nomatch[isespair][idxroipair])), axis=0)\n",
    "\n",
    "spkmaps_match, spkmaps_nomatch, distedges = get_spkmaps(roistat, isespair, idxroipair, prms, pp_roi_match, pp_roi_nomatch)\n",
    "extents = [[0, sm.shape[0], distedges[0], distedges[-1]] for sm in spkmaps_match]\n",
    "\n",
    "# make heatmaps of FOV\n",
    "FOVs = [roistat.track.rundata[plane_pair[isespair][idxroipair]][\"aligner\"][\"ims_registered_nonrigid\"][i] for i in prms['idx_ses_pairs'][isespair]]\n",
    "roi_match, roi_nomatch = get_masks(roistat, isespair, idxroipair, prms, pp_roi_match, pp_roi_nomatch)\n",
    "normalize = lambda data: [((d-d.min())/(d.max()-d.min())).astype(np.float32) for d in data]\n",
    "FOVs = normalize(FOVs)\n",
    "roi_match = normalize(roi_match)\n",
    "roi_nomatch = normalize(roi_nomatch)\n",
    "\n",
    "fov_plot = [np.tile(fov.reshape(fov.shape[0], fov.shape[1], 1), (1, 1, 3)) for fov in FOVs]\n",
    "fov_plot[0][:, :, 0] += roi_match[0]*roi_scale\n",
    "fov_plot[1][:, :, 0] += roi_match[1]*roi_scale\n",
    "fov_plot[0][:, :, 1] += roi_nomatch[0]*roi_scale\n",
    "fov_plot[1][:, :, 2] += roi_nomatch[1]*roi_scale\n",
    "fov_plot = normalize(fov_plot)\n",
    "\n",
    "\n",
    "fig, ax = plt.subplots(1, 2, figsize=(6, 3), layout='constrained', sharex=True, sharey=True)\n",
    "ax[0].imshow(fov_plot[0])\n",
    "ax[1].imshow(fov_plot[1])\n",
    "ax[0].set_xlim(ccpair[0] + [-20, 20])\n",
    "ax[0].set_ylim(ccpair[1] + [-20, 20])\n",
    "ax[0].set_title('Session 1')\n",
    "ax[1].set_title('Session 2')\n",
    "plt.show()\n",
    "\n",
    "fig, ax = plt.subplots(2, 2, figsize=(6, 6), layout='constrained', sharey=True)\n",
    "ax[0, 0].imshow(spkmaps_match[0].T, cmap='Reds', aspect='auto', extent=extents[0], vmin=0, vmax=lim)\n",
    "ax[0, 1].imshow(spkmaps_match[1].T, cmap='Reds', aspect='auto', extent=extents[1], vmin=0, vmax=lim)\n",
    "ax[1, 0].imshow(spkmaps_nomatch[0].T, cmap='Greens', aspect='auto', extent=extents[0], vmin=0, vmax=lim)\n",
    "ax[1, 1].imshow(spkmaps_nomatch[1].T, cmap='Blues', aspect='auto', extent=extents[1], vmin=0, vmax=lim)\n",
    "ax[0, 0].set_ylabel(\"Virtual Position (cm)\")\n",
    "ax[1, 0].set_ylabel(\"Virtual Position (cm)\")\n",
    "ax[1, 0].set_xlabel('Trials')\n",
    "ax[1, 1].set_xlabel('Trials')\n",
    "ax[0, 0].set_title('Session 1')\n",
    "ax[0, 1].set_title('Session 2')\n",
    "plt.show()"
   ]
  },
  {
   "cell_type": "code",
   "execution_count": null,
   "id": "15999ec7",
   "metadata": {},
   "outputs": [
    {
     "data": {
      "text/plain": [
       "(2, 18)"
      ]
     },
     "execution_count": 34,
     "metadata": {},
     "output_type": "execute_result"
    }
   ],
   "source": [
    "pp_roi_match[0].shape"
   ]
  },
  {
   "cell_type": "code",
   "execution_count": null,
   "id": "13615e56",
   "metadata": {},
   "outputs": [],
   "source": []
  },
  {
   "cell_type": "code",
   "execution_count": null,
   "id": "b8afe013",
   "metadata": {},
   "outputs": [],
   "source": [
    "mouse_name = 'ATL027'\n",
    "track = tracking.tracker(mouse_name)\n",
    "pcm = analysis.placeCellMultiSession(track)"
   ]
  },
  {
   "cell_type": "code",
   "execution_count": null,
   "id": "0ed21cc4",
   "metadata": {},
   "outputs": [
    {
     "name": "stdout",
     "output_type": "stream",
     "text": [
      "ATL027 Env (most): 3, Sessions (-6): [8, 9, 10, 11, 12, 13]\n"
     ]
    },
    {
     "name": "stderr",
     "output_type": "stream",
     "text": [
      " 50%|█████     | 3/6 [00:20<00:19,  6.47s/it]c:\\Users\\Andrew\\Documents\\GitHub\\vrAnalysis\\vrAnalysis\\functions.py:208: RuntimeWarning: overflow encountered in divide\n",
      "  relmse[idxHasActivity] += 1 - numerator[idxHasActivity] / denominator[idxHasActivity]\n",
      "100%|██████████| 6/6 [00:41<00:00,  6.92s/it]\n"
     ]
    },
    {
     "ename": "AttributeError",
     "evalue": "'placeCellMultiSession' object has no attribute 'smooth'",
     "output_type": "error",
     "traceback": [
      "\u001b[1;31m---------------------------------------------------------------------------\u001b[0m",
      "\u001b[1;31mAttributeError\u001b[0m                            Traceback (most recent call last)",
      "Cell \u001b[1;32mIn[6], line 4\u001b[0m\n\u001b[0;32m      1\u001b[0m env, idx_ses \u001b[38;5;241m=\u001b[39m pcm\u001b[38;5;241m.\u001b[39menv_idx_ses_selector(envmethod\u001b[38;5;241m=\u001b[39m\u001b[38;5;124m'\u001b[39m\u001b[38;5;124mmost\u001b[39m\u001b[38;5;124m'\u001b[39m, sesmethod\u001b[38;5;241m=\u001b[39m\u001b[38;5;241m-\u001b[39m\u001b[38;5;241m6\u001b[39m, verbose\u001b[38;5;241m=\u001b[39m\u001b[38;5;28;01mTrue\u001b[39;00m)\n\u001b[0;32m      3\u001b[0m distStep \u001b[38;5;241m=\u001b[39m \u001b[38;5;241m1\u001b[39m\n\u001b[1;32m----> 4\u001b[0m out \u001b[38;5;241m=\u001b[39m \u001b[43mpcm\u001b[49m\u001b[38;5;241;43m.\u001b[39;49m\u001b[43mget_spkmaps\u001b[49m\u001b[43m(\u001b[49m\u001b[43menv\u001b[49m\u001b[43m,\u001b[49m\u001b[43m \u001b[49m\u001b[43mtrials\u001b[49m\u001b[38;5;241;43m=\u001b[39;49m\u001b[38;5;124;43m'\u001b[39;49m\u001b[38;5;124;43mfull\u001b[39;49m\u001b[38;5;124;43m'\u001b[39;49m\u001b[43m,\u001b[49m\u001b[43m \u001b[49m\u001b[43maverage\u001b[49m\u001b[38;5;241;43m=\u001b[39;49m\u001b[38;5;28;43;01mFalse\u001b[39;49;00m\u001b[43m,\u001b[49m\u001b[43m \u001b[49m\u001b[43mtracked\u001b[49m\u001b[38;5;241;43m=\u001b[39;49m\u001b[38;5;28;43;01mFalse\u001b[39;49;00m\u001b[43m,\u001b[49m\u001b[43m \u001b[49m\u001b[43mpf_method\u001b[49m\u001b[38;5;241;43m=\u001b[39;49m\u001b[38;5;124;43m'\u001b[39;49m\u001b[38;5;124;43mmax\u001b[39;49m\u001b[38;5;124;43m'\u001b[39;49m\u001b[43m,\u001b[49m\u001b[43m \u001b[49m\u001b[43mby_plane\u001b[49m\u001b[38;5;241;43m=\u001b[39;49m\u001b[38;5;28;43;01mFalse\u001b[39;49;00m\u001b[43m,\u001b[49m\u001b[43m \u001b[49m\u001b[43midx_ses\u001b[49m\u001b[38;5;241;43m=\u001b[39;49m\u001b[43midx_ses\u001b[49m\u001b[43m,\u001b[49m\u001b[43m \u001b[49m\u001b[43mdistStep\u001b[49m\u001b[38;5;241;43m=\u001b[39;49m\u001b[43mdistStep\u001b[49m\u001b[43m,\u001b[49m\u001b[43m \u001b[49m\u001b[43mfull_trial_flexibility\u001b[49m\u001b[38;5;241;43m=\u001b[39;49m\u001b[38;5;241;43m2.5\u001b[39;49m\u001b[43m)\u001b[49m\n\u001b[0;32m      5\u001b[0m spkmaps, relmse, relcor, pfloc, pfidx, idx_red, roi_idx \u001b[38;5;241m=\u001b[39m out\n\u001b[0;32m      6\u001b[0m idx_with_nan \u001b[38;5;241m=\u001b[39m [np\u001b[38;5;241m.\u001b[39many(np\u001b[38;5;241m.\u001b[39misnan(s), axis\u001b[38;5;241m=\u001b[39m(\u001b[38;5;241m0\u001b[39m, \u001b[38;5;241m1\u001b[39m)) \u001b[38;5;28;01mfor\u001b[39;00m s \u001b[38;5;129;01min\u001b[39;00m spkmaps]\n",
      "File \u001b[1;32mc:\\Users\\Andrew\\Documents\\GitHub\\vrAnalysis\\vrAnalysis\\analysis\\placeCellMultiSession.py:35\u001b[0m, in \u001b[0;36mhandle_idx_ses.<locals>.wrapper\u001b[1;34m(pcm_instance, envnum, idx_ses, *args, **kwargs)\u001b[0m\n\u001b[0;32m     32\u001b[0m \u001b[38;5;28;01massert\u001b[39;00m \u001b[38;5;28mall\u001b[39m(in_session), \u001b[38;5;124mf\u001b[39m\u001b[38;5;124m\"\u001b[39m\u001b[38;5;124mrequested environment only in following sessions: \u001b[39m\u001b[38;5;132;01m{\u001b[39;00m[idx\u001b[38;5;250m \u001b[39m\u001b[38;5;28;01mfor\u001b[39;00m\u001b[38;5;250m \u001b[39midx,\u001b[38;5;250m \u001b[39minses\u001b[38;5;250m \u001b[39m\u001b[38;5;129;01min\u001b[39;00m\u001b[38;5;250m \u001b[39m\u001b[38;5;28mzip\u001b[39m(idx_ses,\u001b[38;5;250m \u001b[39min_session)\u001b[38;5;250m \u001b[39m\u001b[38;5;28;01mif\u001b[39;00m\u001b[38;5;250m \u001b[39minses]\u001b[38;5;132;01m}\u001b[39;00m\u001b[38;5;124m\"\u001b[39m\n\u001b[0;32m     34\u001b[0m \u001b[38;5;66;03m# return function with processed arguments\u001b[39;00m\n\u001b[1;32m---> 35\u001b[0m \u001b[38;5;28;01mreturn\u001b[39;00m func(pcm_instance, envnum, \u001b[38;5;241m*\u001b[39margs, idx_ses\u001b[38;5;241m=\u001b[39midx_ses, \u001b[38;5;241m*\u001b[39m\u001b[38;5;241m*\u001b[39mkwargs)\n",
      "File \u001b[1;32mc:\\Users\\Andrew\\Documents\\GitHub\\vrAnalysis\\vrAnalysis\\analysis\\placeCellMultiSession.py:323\u001b[0m, in \u001b[0;36mget_spkmaps\u001b[1;34m(self, envnum, trials, average, tracked, pf_method, by_plane, idx_ses, **kwargs)\u001b[0m\n\u001b[0;32m    320\u001b[0m \u001b[38;5;28mself\u001b[39m\u001b[38;5;241m.\u001b[39mload_pcss_data(idx_ses\u001b[38;5;241m=\u001b[39midx_ses, \u001b[38;5;241m*\u001b[39m\u001b[38;5;241m*\u001b[39mkwargs)\n\u001b[0;32m    322\u001b[0m \u001b[38;5;66;03m# get track index if requested\u001b[39;00m\n\u001b[1;32m--> 323\u001b[0m \u001b[38;5;28;01mif\u001b[39;00m tracked:\n\u001b[0;32m    324\u001b[0m     idx_tracked \u001b[38;5;241m=\u001b[39m \u001b[38;5;28mself\u001b[39m\u001b[38;5;241m.\u001b[39mtrack\u001b[38;5;241m.\u001b[39mget_tracked_idx(idx_ses\u001b[38;5;241m=\u001b[39midx_ses, keep_planes\u001b[38;5;241m=\u001b[39m\u001b[38;5;28mself\u001b[39m\u001b[38;5;241m.\u001b[39mkeep_planes)\n\u001b[0;32m    326\u001b[0m \u001b[38;5;66;03m# get spkmaps (#ROI, #Trials, #SpatialBins)\u001b[39;00m\n",
      "File \u001b[1;32mc:\\Users\\Andrew\\Documents\\GitHub\\vrAnalysis\\vrAnalysis\\analysis\\placeCellMultiSession.py:323\u001b[0m, in \u001b[0;36m<listcomp>\u001b[1;34m(.0)\u001b[0m\n\u001b[0;32m    320\u001b[0m \u001b[38;5;28mself\u001b[39m\u001b[38;5;241m.\u001b[39mload_pcss_data(idx_ses\u001b[38;5;241m=\u001b[39midx_ses, \u001b[38;5;241m*\u001b[39m\u001b[38;5;241m*\u001b[39mkwargs)\n\u001b[0;32m    322\u001b[0m \u001b[38;5;66;03m# get track index if requested\u001b[39;00m\n\u001b[1;32m--> 323\u001b[0m \u001b[38;5;28;01mif\u001b[39;00m tracked:\n\u001b[0;32m    324\u001b[0m     idx_tracked \u001b[38;5;241m=\u001b[39m \u001b[38;5;28mself\u001b[39m\u001b[38;5;241m.\u001b[39mtrack\u001b[38;5;241m.\u001b[39mget_tracked_idx(idx_ses\u001b[38;5;241m=\u001b[39midx_ses, keep_planes\u001b[38;5;241m=\u001b[39m\u001b[38;5;28mself\u001b[39m\u001b[38;5;241m.\u001b[39mkeep_planes)\n\u001b[0;32m    326\u001b[0m \u001b[38;5;66;03m# get spkmaps (#ROI, #Trials, #SpatialBins)\u001b[39;00m\n",
      "\u001b[1;31mAttributeError\u001b[0m: 'placeCellMultiSession' object has no attribute 'smooth'"
     ]
    }
   ],
   "source": [
    "env, idx_ses = pcm.env_idx_ses_selector(envmethod='most', sesmethod=-6, verbose=True)\n",
    "\n",
    "distStep = 1\n",
    "out = pcm.get_spkmaps(env, trials='full', average=False, tracked=False, pf_method='max', by_plane=False, idx_ses=idx_ses, distStep=distStep, full_trial_flexibility=2.5)\n",
    "spkmaps, relmse, relcor, pfloc, pfidx, idx_red, roi_idx = out\n",
    "idx_with_nan = [np.any(np.isnan(s), axis=(0, 1)) for s in spkmaps]\n",
    "idx_with_nan_across_spkmaps = np.any(np.stack(idx_with_nan), axis=0)\n",
    "spkmaps = [spkmap[:, :, ~idx_with_nan_across_spkmaps] for spkmap in spkmaps]\n",
    "\n",
    "cutoffs = (0.2, 0.5)\n",
    "idx_reliable = [[(mse>cutoffs[0]) & (cor>cutoffs[1]) for mse, cor in zip(rmse, rcor)] for rmse, rcor in zip(relmse, relcor)]\n",
    "spkmaps = [spkmap[idx] for spkmap, idx in zip(spkmaps, idx_reliable)]\n",
    "print('spkmap shape', [s.shape for s in spkmaps])\n",
    "\n",
    "max_trials = int(min([sm.shape[1] for sm in spkmaps])/2)\n",
    "max_neurons = int(min([sm.shape[0] for sm in spkmaps])/2)"
   ]
  },
  {
   "cell_type": "code",
   "execution_count": null,
   "id": "d9527045",
   "metadata": {},
   "outputs": [],
   "source": [
    "cvmethods = [cvPCA_from_MouseLandGithub, cvPCA_paper_stimuli, cvPCA_paper_neurons]\n",
    "w_git, w_stim, w_neur = helpers.named_transpose([cvpca(spkmap, by_trial=False, max_trials=max_trials, max_neurons=max_neurons, cvmethods=cvmethods) for spkmap in spkmaps])\n",
    "wns_git, wns_stim, wns_neur = helpers.named_transpose([cvpca(spkmap, by_trial=False, max_trials=max_trials, max_neurons=max_neurons, nshuff=1, cvmethods=cvmethods) for spkmap in spkmaps])\n",
    "\n",
    "wt_git, wt_stim, wt_neur = helpers.named_transpose([cvpca(spkmap, by_trial=True, noise_corr=False, max_trials=max_trials, max_neurons=max_neurons, cvmethods=cvmethods) for spkmap in spkmaps])\n",
    "wtnc_git, wtnc_stim, wtnc_neur = helpers.named_transpose([cvpca(spkmap, by_trial=True, noise_corr=True, max_trials=max_trials, max_neurons=max_neurons, cvmethods=cvmethods) for spkmap in spkmaps])"
   ]
  },
  {
   "cell_type": "code",
   "execution_count": null,
   "id": "dca7e774",
   "metadata": {},
   "outputs": [],
   "source": [
    "# To compare shuffled with no shuffled\n",
    "num_sessions = len(w_git)\n",
    "fig, ax = plt.subplots(1, num_sessions, figsize=(num_sessions*2, 2), layout='constrained')\n",
    "for ii, (w, wns) in enumerate(zip(w_neur, wns_neur)):\n",
    "    ax[ii].plot(w / np.sum(w), color='k', label='ShuffledAverage')\n",
    "    ax[ii].plot(wns / np.sum(wns), color='r', label='No Shuffle')\n",
    "    ax[ii].set_xscale('log')\n",
    "ax[-1].legend(loc='best')\n",
    "plt.show()"
   ]
  },
  {
   "cell_type": "code",
   "execution_count": null,
   "id": "6fdcba57",
   "metadata": {},
   "outputs": [],
   "source": [
    "# To compare no average with and without noise-correlation\n",
    "num_sessions = len(w_git)\n",
    "fig, ax = plt.subplots(1, num_sessions, figsize=(num_sessions*2, 2), layout='constrained', sharey=True)\n",
    "for ii, (w, wns) in enumerate(zip(wt_neur, wtnc_neur)):\n",
    "    ax[ii].plot(w / np.sum(w), color='k', label='No Noise-Corr')\n",
    "    ax[ii].plot(wns / np.sum(wns), color='r', label='Only Noise-Corr')\n",
    "    ax[ii].set_xscale('log')\n",
    "ax[-1].legend(loc='best')\n",
    "plt.show()"
   ]
  },
  {
   "cell_type": "code",
   "execution_count": null,
   "id": "9379884d",
   "metadata": {},
   "outputs": [],
   "source": [
    "# To compare three different cvPCA methods\n",
    "num_sessions = len(w_git)\n",
    "fig, ax = plt.subplots(2, num_sessions, figsize=(num_sessions*2, 4), layout='constrained')\n",
    "for ii, (wg, ws, wn) in enumerate(zip(w_git, w_stim, w_neur)):\n",
    "    ax[0, ii].plot(wg, color='k', label='FromGithub')\n",
    "    ax[0, ii].plot(ws + 0.01, color='r', label='FromPaper-Stimuli')\n",
    "    ax[0, ii].plot(wn + 0.02, color='b', label='FromPaper-Neurons')\n",
    "    ax[0, ii].set_xscale('log')\n",
    "\n",
    "    ax[1, ii].plot(wg / np.sum(wg), color='k', label='FromGithub')\n",
    "    ax[1, ii].plot(ws / np.sum(ws), color='r', label='FromPaper-Stimuli')\n",
    "    ax[1, ii].plot(wn / np.sum(wn), color='b', label='FromPaper-Neurons')\n",
    "    ax[1, ii].set_xscale('log')\n",
    "plt.show()"
   ]
  },
  {
   "cell_type": "code",
   "execution_count": null,
   "id": "78e5eafa",
   "metadata": {},
   "outputs": [],
   "source": [
    "# To compare averaged vs all trials\n",
    "cmap = mpl.colormaps['bwr'].resampled(len(spkmaps))\n",
    "\n",
    "plt.close('all')\n",
    "fig, ax = plt.subplots(1, 3, figsize=(9, 3), layout='constrained')\n",
    "for ii, (wa, wt) in enumerate(zip(w_neur, wt_neur)):\n",
    "    ax[0].plot(np.cumsum(wa / np.sum(wa)), color=cmap(ii))\n",
    "    ax[1].plot(np.cumsum(wt / np.sum(wt)), color=cmap(ii))\n",
    "    if ii==0:\n",
    "        ax[2].plot(np.cumsum(wa / np.sum(wa)), color='k', label='Averaged')\n",
    "        ax[2].plot(np.cumsum(wt / np.sum(wt)), color='b', label='Expanded')\n",
    "    else:\n",
    "        ax[2].plot(np.cumsum(wa / np.sum(wa)), color='k')\n",
    "        ax[2].plot(np.cumsum(wt / np.sum(wt)), color='b')\n",
    "    \n",
    "ax[0].set_xscale('log')\n",
    "ax[1].set_xscale('log')\n",
    "ax[2].set_xscale('log')\n",
    "# ax[0].set_yscale('log')\n",
    "# ax[1].set_yscale('log')\n",
    "# ax[2].set_yscale('log')\n",
    "ax[0].set_title('Average Across Trials')\n",
    "ax[1].set_title('Expanded Across Trials')\n",
    "ax[2].set_title('Comparison')\n",
    "ax[2].legend(loc='best')\n",
    "plt.show()"
   ]
  },
  {
   "cell_type": "code",
   "execution_count": null,
   "id": "286e9476",
   "metadata": {},
   "outputs": [],
   "source": []
  },
  {
   "cell_type": "code",
   "execution_count": null,
   "id": "2efb296e",
   "metadata": {},
   "outputs": [
    {
     "name": "stdout",
     "output_type": "stream",
     "text": [
      "\\\\zaru.cortexlab.net\\Subjects\\ATL045\\2024-02-02\\702\n",
      "C:\\Users\\andrew\\Documents\\localData\\ATL045\\2024-02-02\\702\n"
     ]
    }
   ],
   "source": [
    "fm.s2pTargets('ATL045', '2024-02-02', '702')"
   ]
  },
  {
   "cell_type": "code",
   "execution_count": null,
   "id": "092350a5",
   "metadata": {},
   "outputs": [
    {
     "name": "stdout",
     "output_type": "stream",
     "text": [
      "\n",
      "Performing vrExperiment preprocessing for session: ATL045/2024-01-24/701\n",
      "Cleared oneData from session: ATL045/2024-01-24/701\n",
      "Self.value['numTrials'] set by trialInfo.trialIdx>0, but this might not be right. There might be smarter ways to determine which trials are 'good' trials...\n",
      "Performing oasis...\n"
     ]
    },
    {
     "name": "stderr",
     "output_type": "stream",
     "text": [
      "100%|██████████| 18509/18509 [07:30<00:00, 41.05it/s]\n"
     ]
    },
    {
     "name": "stdout",
     "output_type": "stream",
     "text": [
      "Computing red cell features for ATL045/2024-01-24/701... (usually takes 10-20 seconds)\n",
      "Facecam preprocessing has not been coded yet!\n",
      "Saving params...\n",
      "Session ATL045/2024-01-24/701 registered with 4.75 GB oneData.\n",
      "Accumulated oneData registered: 4.75 GB. Averaging: 4.75 GB / session. Estimate remaining: 9.49 GB\n",
      "\n",
      "Performing vrExperiment preprocessing for session: ATL045/2024-01-26/701\n",
      "Cleared oneData from session: ATL045/2024-01-26/701\n",
      "Self.value['numTrials'] set by trialInfo.trialIdx>0, but this might not be right. There might be smarter ways to determine which trials are 'good' trials...\n",
      "frame2time had 2 more than suite2p output. This happens sometimes. I don't like it. I think it's because scanimage sends a TTL before starting the frame\n",
      "Performing oasis...\n"
     ]
    },
    {
     "name": "stderr",
     "output_type": "stream",
     "text": [
      "100%|██████████| 13986/13986 [06:08<00:00, 37.91it/s]\n"
     ]
    },
    {
     "name": "stdout",
     "output_type": "stream",
     "text": [
      "Computing red cell features for ATL045/2024-01-26/701... (usually takes 10-20 seconds)\n",
      "Facecam preprocessing has not been coded yet!\n",
      "Saving params...\n",
      "Session ATL045/2024-01-26/701 registered with 3.88 GB oneData.\n",
      "Accumulated oneData registered: 8.63 GB. Averaging: 4.32 GB / session. Estimate remaining: 4.32 GB\n"
     ]
    }
   ],
   "source": [
    "sessiondb.registerSessions(maxData=50e9, skipErrors=False)"
   ]
  },
  {
   "cell_type": "code",
   "execution_count": null,
   "id": "b30fa3ce",
   "metadata": {},
   "outputs": [
    {
     "data": {
      "text/html": [
       "<div>\n",
       "<style scoped>\n",
       "    .dataframe tbody tr th:only-of-type {\n",
       "        vertical-align: middle;\n",
       "    }\n",
       "\n",
       "    .dataframe tbody tr th {\n",
       "        vertical-align: top;\n",
       "    }\n",
       "\n",
       "    .dataframe thead th {\n",
       "        text-align: right;\n",
       "    }\n",
       "</style>\n",
       "<table border=\"1\" class=\"dataframe\">\n",
       "  <thead>\n",
       "    <tr style=\"text-align: right;\">\n",
       "      <th></th>\n",
       "      <th>uSessionID</th>\n",
       "      <th>mouseName</th>\n",
       "      <th>sessionDate</th>\n",
       "      <th>sessionID</th>\n",
       "      <th>experimentType</th>\n",
       "      <th>experimentID</th>\n",
       "      <th>variableGain</th>\n",
       "      <th>behavior</th>\n",
       "      <th>imaging</th>\n",
       "      <th>faceCamera</th>\n",
       "      <th>...</th>\n",
       "      <th>scratchJustification</th>\n",
       "      <th>logtime</th>\n",
       "      <th>sessionNotes</th>\n",
       "      <th>suite2pDate</th>\n",
       "      <th>vrRegistrationDate</th>\n",
       "      <th>vrRegistrationError</th>\n",
       "      <th>vrRegistrationException</th>\n",
       "      <th>redCellQCDate</th>\n",
       "      <th>vrBehaviorVersion</th>\n",
       "      <th>dontTrack</th>\n",
       "    </tr>\n",
       "  </thead>\n",
       "  <tbody>\n",
       "  </tbody>\n",
       "</table>\n",
       "<p>0 rows × 31 columns</p>\n",
       "</div>"
      ],
      "text/plain": [
       "Empty DataFrame\n",
       "Columns: [uSessionID, mouseName, sessionDate, sessionID, experimentType, experimentID, variableGain, behavior, imaging, faceCamera, vrEnvironments, headPlateRotation, numPlanes, planeSeparation, pockelsPercentage, objectiveRotation, vrRegistration, suite2p, suite2pQC, redCellQC, sessionQC, scratchJustification, logtime, sessionNotes, suite2pDate, vrRegistrationDate, vrRegistrationError, vrRegistrationException, redCellQCDate, vrBehaviorVersion, dontTrack]\n",
       "Index: []\n",
       "\n",
       "[0 rows x 31 columns]"
      ]
     },
     "execution_count": 39,
     "metadata": {},
     "output_type": "execute_result"
    }
   ],
   "source": [
    "sessiondb.needsS2P()\n",
    "# sessiondb.checkS2P(withDatabaseUpdate=True, returnCheck=False)"
   ]
  },
  {
   "cell_type": "code",
   "execution_count": null,
   "id": "dc7ddf32",
   "metadata": {},
   "outputs": [],
   "source": []
  },
  {
   "cell_type": "code",
   "execution_count": null,
   "id": "8ccd2ee8",
   "metadata": {},
   "outputs": [
    {
     "name": "stdout",
     "output_type": "stream",
     "text": [
      "This could be coded smarter with already calling checkValidity()\n",
      "Successfully added new record\n"
     ]
    }
   ],
   "source": [
    "# session identifiers\n",
    "mouseName = 'ATL045'\n",
    "sessionDate = '2024-02-02'\n",
    "sessionID = '702'\n",
    "\n",
    "# create session object \n",
    "# (at the moment, this only provides mouseName, sessionDate, and sessionID to the GUI, but will increase later)\n",
    "ses = registration.vrRegistration(mouseName, sessionDate, sessionID)\n",
    "\n",
    "# preloaded data\n",
    "preloaded_data = {\n",
    "    'experimentType': 'Blender VR',\n",
    "    'experimentID': 2,\n",
    "    'variableGain': True,\n",
    "    'behavior': True,\n",
    "    'imaging': True, \n",
    "    'faceCamera': True, \n",
    "    'vrEnvironments': 12,\n",
    "    'numPlanes': 5,\n",
    "    'planeSeparation': 25,\n",
    "    'suite2p': False,\n",
    "    'vrBehaviorVersion': 1,\n",
    "    'headPlateRotation': 5.9,\n",
    "    'objectiveRotation': 7.7,\n",
    "    'pockelsPercentage': 4,\n",
    "    'dontTrack': False,\n",
    "    'sessionNotes': (\n",
    "        \"FOV is different from yesterday.\"\n",
    "    )\n",
    "}\n",
    "\n",
    "# then open the GUI\n",
    "gui = addEntryGUI.newEntryGUI(sessiondb, ses=ses, **preloaded_data)"
   ]
  },
  {
   "cell_type": "code",
   "execution_count": null,
   "id": "a06923cf",
   "metadata": {},
   "outputs": [
    {
     "name": "stdout",
     "output_type": "stream",
     "text": [
      "True\n"
     ]
    }
   ],
   "source": [
    "import datetime\n",
    "date = datetime.datetime(2024, 1, 24, 0, 0)\n",
    "print(isinstance(date, datetime.date))"
   ]
  },
  {
   "cell_type": "code",
   "execution_count": null,
   "id": "15c1404a",
   "metadata": {},
   "outputs": [],
   "source": []
  },
  {
   "cell_type": "code",
   "execution_count": null,
   "id": "1119caff-5d69-484e-bb16-cc6b820c7d88",
   "metadata": {
    "tags": []
   },
   "outputs": [],
   "source": [
    "# Database Requirements: \n",
    "# ---------------------\n",
    "# GUI: db manager\n",
    "# - click on entry and do things:\n",
    "#                --> open file explorer to that session\n",
    "#                --> do suite2p\n",
    "#                --> do red cell management\n",
    "# - update table data? \n",
    "# ---------------------\n",
    "# Operational Commands: \n",
    "# - Automatically do suite2p \n",
    "# - Check if registration was done before a suite2p update\n",
    "\n",
    "# Further Requirements:\n",
    "# ---------------------\n",
    "# ROICaT Alignment Tools \n",
    "# Track Red Cell Consistency across days \n",
    "# Now that I've refactored the database code, need to update some things in documentation and probably elsewhere too\n"
   ]
  },
  {
   "cell_type": "code",
   "execution_count": null,
   "id": "5f846af3-d4a6-47e3-962b-680643416cb2",
   "metadata": {},
   "outputs": [],
   "source": [
    "# Notes from meeting with Kenneth:\n",
    "\n",
    "# - skewness (violin plot) of Control & Red -- \n",
    "#     - all - \n",
    "#     - just reliable -- for each session - \n",
    "\n",
    "# Subsample control data for scatter plot\n",
    "# Fisher z transformation (but label by original correlation...)\n",
    "# Question:\n",
    "# -- if reliable on 1 day, is it reliable on other days? \n",
    "# -- make a matrix with source and target, color by fraction of reliable on target out of those reliable on source\n",
    "# -- also do this with your session kernels for control and red\n",
    "# -- also do this for different reliability cutoffs"
   ]
  },
  {
   "cell_type": "code",
   "execution_count": null,
   "metadata": {},
   "outputs": [],
   "source": [
    "# Plan for attack:\n",
    "# Make a suite of summary figures on a session by session basis and a multisession basis. \n",
    "# I just want to be able to look through a mouse's data and evaluate the behavior, the imaging data, and how well the tracking did.\n",
    "\n",
    "# Inclusions:\n",
    "# 1. Behavioral data (running speed and number of trials across any environments it was in -- also metadata about day in environment...)\n",
    "# 2. Imaging data (example snakes from all environments, both train/test comparisons and remapping comparisons)\n",
    "# 3. Red cell data (number of red cells per plane -- and some examples of red cells?)\n",
    "# 4. Tracking data (number of tracked cells per combination (full matrix!), number of tracked red cells, number of tracked reliable cells per environment)"
   ]
  },
  {
   "cell_type": "code",
   "execution_count": null,
   "id": "b0c852b7",
   "metadata": {},
   "outputs": [],
   "source": [
    "# ROICaT Analysis\n",
    "# 1. Example data figures (from roicat_stats)\n",
    "#    - show two post-alignment FOVs, highlight a few tracked neurons and a few (nearby) un-tracked neurons with colors\n",
    "#    - below that, show the place field tuning in each session, color-coded the same way as the neurons ROI plot\n",
    "\n",
    "# 2. Analysis of ROICaT agreement with functional data\n",
    "#    - scatter plot of sConj & place field correlation (with \"labels\" pairs colored differently)\n",
    "#    - mouse by mouse, session by session mean lines comparing average place field correlation of same pairs with different pairs\n",
    "#        -- (imagining lines from 0->1 for mouse 1 of each sessions mean same/diff pfCorr, then also in 2->3 for mouse 2, and 4->5 for mouse 3, etc.)\n",
    "#        -- can also have a supplemental plot showing distribution of same/diff pfCorr across each session pair? \n",
    "\n",
    "# 3. Control analysis with null model test (empirical version with subsampled null distribution)\n",
    "\n",
    "# 4. Control analysis with bayesian model\n",
    "# -- get pfCorr_withinSession (this is pairs of ROIs within a session, and should be representative of pfCorr_diff_acrossSession)\n",
    "# -- normalize pfCorr_all_acrossSession by number of pairs, subtract density of pfCorr_withinSession\n",
    "# -- remaining pfCorr_remain_acrossSession = pfCorr_same_acrossSession\n",
    "\n",
    "\n",
    "# ---- note ----\n",
    "# - should probably include target reliable pairs not represented in the source only reliable category..."
   ]
  },
  {
   "cell_type": "code",
   "execution_count": null,
   "id": "c54a6e1a",
   "metadata": {},
   "outputs": [],
   "source": [
    "mouse_name = 'ATL027'\n",
    "track = tracking.tracker(mouse_name)\n",
    "roistat = analysis.RoicatStats(track)"
   ]
  },
  {
   "cell_type": "code",
   "execution_count": null,
   "id": "5cd4c8c7",
   "metadata": {},
   "outputs": [
    {
     "data": {
      "text/plain": [
       "{1: [3, 4, 5, 6, 7, 8, 9, 10, 11, 12, 13],\n",
       " 3: [0, 1, 2, 3, 4, 5, 6, 7, 8, 9, 10, 11, 12, 13],\n",
       " 4: [11, 12, 13]}"
      ]
     },
     "execution_count": 6,
     "metadata": {},
     "output_type": "execute_result"
    }
   ],
   "source": [
    "roistat.env_stats()"
   ]
  },
  {
   "cell_type": "code",
   "execution_count": null,
   "id": "aa13bec7",
   "metadata": {},
   "outputs": [
    {
     "name": "stdout",
     "output_type": "stream",
     "text": [
      "3 [0, 1, 2, 3, 4, 5, 6, 7, 8, 9, 10, 11, 12, 13]\n"
     ]
    }
   ],
   "source": [
    "env, idx_ses = roistat.env_idx_ses_selector(envmethod='most', sesmethod='all')\n",
    "print(env, idx_ses)"
   ]
  },
  {
   "cell_type": "code",
   "execution_count": null,
   "id": "93b4c867",
   "metadata": {},
   "outputs": [
    {
     "name": "stderr",
     "output_type": "stream",
     "text": [
      "100%|██████████| 4/4 [00:43<00:00, 10.75s/it]\n",
      "getting roi data: 100%|██████████| 4/4 [00:02<00:00,  1.46it/s]\n",
      "c:\\Users\\Andrew\\Documents\\GitHub\\vrAnalysis\\vrAnalysis\\analysis\\roicat_stats.py:100: RuntimeWarning: All-NaN slice encountered\n",
      "  nn_dist = [np.nanmin(pwd, axis=1) for pwd in pwdists]\n"
     ]
    }
   ],
   "source": [
    "# get roicat comparison data\n",
    "sim, corr, tracked, pwdist, nnpair, pwind, prms = roistat.make_roicat_comparison(env, idx_ses=idx_ses)"
   ]
  },
  {
   "cell_type": "code",
   "execution_count": null,
   "id": "daf138e0",
   "metadata": {},
   "outputs": [],
   "source": [
    "plt.close('all')\n",
    "# out = roistat.plot_pwdist_vs_pfcorr(pwdist, corr, tracked, prms, max_dist=50, color_mode='tracked', with_show=True, with_save=False)\n",
    "# roistat.plot_pfcorr_by_samediff(corr, tracked, nnpair, prms, with_show=True, with_save=False)\n",
    "roistat.plot_pfcorrmean_by_samediff(corr, tracked, nnpair, pwdist, prms, dist_limit=10, return_data=False, with_show=True, with_save=False)\n",
    "# roistat.plot_pfcorr_vs_pwdist_by_group(corr, tracked, pwdist, nnpair, prms, with_show=True, with_save=False)"
   ]
  },
  {
   "cell_type": "code",
   "execution_count": null,
   "id": "02158c70",
   "metadata": {},
   "outputs": [
    {
     "name": "stdout",
     "output_type": "stream",
     "text": [
      "\\\\zaru.cortexlab.net\\Subjects\\ATL043\\2024-02-02\\701\n",
      "C:\\Users\\andrew\\Documents\\localData\\ATL043\\2024-02-02\\701\n"
     ]
    }
   ],
   "source": [
    "fm.s2pTargets('ATL043', '2024-02-02', '701')"
   ]
  },
  {
   "cell_type": "code",
   "execution_count": null,
   "id": "3573c5c9",
   "metadata": {},
   "outputs": [
    {
     "name": "stdout",
     "output_type": "stream",
     "text": [
      "Working on CR_Hippocannula6...\n",
      "env: 2 idx_ses: [3, 4, 5, 6]\n",
      "\n",
      "Working on CR_Hippocannula7...\n",
      "env: 2 idx_ses: [3, 4, 5, 6]\n",
      "\n",
      "Working on ATL022...\n",
      "env: 3 idx_ses: [11, 12, 13, 14]\n",
      "\n",
      "Working on ATL027...\n",
      "env: 3 idx_ses: [8, 9, 10, 11]\n",
      "\n",
      "Working on ATL020...\n",
      "env: 3 idx_ses: [3, 4, 5, 6]\n",
      "\n",
      "Working on ATL012...\n",
      "env: 1 idx_ses: [18, 19, 20, 21]\n",
      "\n"
     ]
    }
   ],
   "source": [
    "TRACKED_MICE = mousedb.getTable(tracked=True)['mouseName'].tolist() # list of mice with tracked sessions\n",
    "\n",
    "keep_planes = [1, 2, 3, 4]\n",
    "\n",
    "kwargs = dict(\n",
    "    sim_name='sConj',\n",
    "    cutoffs=(0.4, 0.7),\n",
    "    both_reliable=False,\n",
    ")\n",
    "\n",
    "# save means/serrors from pfcorr by classification test for across mouse plot of results\n",
    "all_means = []\n",
    "all_serrors = []\n",
    "\n",
    "for mouse_name in TRACKED_MICE:\n",
    "    print(f\"Working on {mouse_name}...\")\n",
    "    track = tracking.tracker(mouse_name)\n",
    "    roistat = analysis.RoicatStats(track, keep_planes=keep_planes)\n",
    "\n",
    "    # select environment (CR mice had different structure and should use environment 2)\n",
    "    if 'CR' in mouse_name:\n",
    "        envnum = 2\n",
    "    else:\n",
    "        envnum = roistat.env_selector(envmethod='most')\n",
    "\n",
    "    idx_ses = roistat.idx_ses_selector(envnum, sesmethod='all')\n",
    "    \n",
    "    if len(idx_ses)>7:\n",
    "        idx_ses = idx_ses[-6:-2]\n",
    "    elif len(idx_ses)>4:\n",
    "        idx_ses = idx_ses[-4:]\n",
    "    else:\n",
    "        print(f'skipping {mouse_name}, because of the small sessions: {idx_ses}')\n",
    "        continue\n",
    "\n",
    "    print('env:', envnum, 'idx_ses:', idx_ses)\n",
    "    \n",
    "    # sim, corr, tracked, pwdist, nnpair, pwind, prms = roistat.make_roicat_comparison(envnum, idx_ses=idx_ses, **kwargs)\n",
    "    # # roistat.plot_sim_vs_pfcorr(sim, corr, prms, color_mode='tracked', with_show=False, with_save=True)\n",
    "    # # roistat.plot_pwdist_vs_pfcorr(pwdist, corr, tracked, prms, max_dist=50, color_mode='tracked', with_show=True, with_save=False)\n",
    "    # # roistat.plot_pfcorr_by_samediff(corr, tracked, nnpair, prms, with_show=False, with_save=True)\n",
    "    # c_means, c_serrors = roistat.plot_pfcorrmean_by_samediff(corr, tracked, nnpair, pwdist, prms, dist_limit=10, return_data=True, with_show=False, with_save=True)\n",
    "    # # roistat.plot_similarity_histograms(sim, prms, with_show=False, with_save=True)\n",
    "    # # roistat.plot_pfcorr_vs_pwdist_by_group(corr, tracked, pwdist, nnpair, prms, with_show=True, with_save=False)\n",
    "\n",
    "    # all_means.append(c_means)\n",
    "    # all_serrors.append(c_serrors)\n",
    "\n",
    "    print('')\n",
    "\n",
    "    plt.close('all')"
   ]
  },
  {
   "cell_type": "code",
   "execution_count": null,
   "id": "d0237631",
   "metadata": {},
   "outputs": [],
   "source": []
  },
  {
   "cell_type": "code",
   "execution_count": null,
   "id": "d1f5d862",
   "metadata": {},
   "outputs": [
    {
     "name": "stdout",
     "output_type": "stream",
     "text": [
      "ATL012/2023-02-28/701\n"
     ]
    }
   ],
   "source": [
    "# Check ROICaT within session matching\n",
    "import pickle\n",
    "\n",
    "mouseName = 'ATL012'\n",
    "sessionDate = '2023-02-28'\n",
    "sessionID = '701'\n",
    "\n",
    "ses = session.vrExperiment(mouseName, sessionDate, sessionID)\n",
    "print(ses.sessionPrint())\n",
    "\n",
    "data = ses.loadone('mpci.roiActivityDeconvolvedOasis')\n",
    "\n",
    "filepath = ses.sessionPath() / f\"{mouseName}.within_session.ROICaT.tracking.results.pkl\"\n",
    "with open(filepath, 'rb') as f:\n",
    "    roicat = pickle.load(f)\n",
    "\n",
    "num_clusters = np.max(roicat['clusters']['labels'])+1"
   ]
  },
  {
   "cell_type": "code",
   "execution_count": null,
   "metadata": {},
   "outputs": [],
   "source": [
    "scc = analysis.sameCellCandidates(ses, keepPlanes=None)"
   ]
  },
  {
   "cell_type": "code",
   "execution_count": null,
   "metadata": {},
   "outputs": [],
   "source": [
    "explorer = analysis.clusterExplorerROICaT(scc, roicat['clusters']['labels'], keepPlanes=None)"
   ]
  },
  {
   "cell_type": "code",
   "execution_count": null,
   "metadata": {},
   "outputs": [],
   "source": [
    "cc_number = np.zeros(num_clusters)\n",
    "cc_within = np.zeros(num_clusters)\n",
    "for ic in range(num_clusters):\n",
    "    cidx = roicat['clusters']['labels']==ic\n",
    "    cdata = data[:, cidx]\n",
    "    ccorr = np.corrcoef(cdata.T)\n",
    "    idx_offdiag = np.triu(np.ones_like(ccorr, dtype=bool), k=1)\n",
    "    cvals = ccorr[idx_offdiag]\n",
    "    cc_within[ic] = np.mean(cvals)\n",
    "    cc_number[ic] = np.sum(cidx)\n",
    "\n",
    "plt.close('all')\n",
    "plt.scatter(cc_number, cc_within)\n",
    "plt.show()"
   ]
  },
  {
   "cell_type": "code",
   "execution_count": null,
   "metadata": {},
   "outputs": [],
   "source": [
    "i_clus = np.random.randint(0, num_clusters)\n",
    "\n",
    "plt.close('all')\n",
    "plt.plot(range(data.shape[0]), data[:, roicat['clusters']['labels']==i_clus])\n",
    "plt.show()"
   ]
  },
  {
   "cell_type": "code",
   "execution_count": null,
   "metadata": {},
   "outputs": [
    {
     "data": {
      "text/plain": [
       "815"
      ]
     },
     "execution_count": 106,
     "metadata": {},
     "output_type": "execute_result"
    }
   ],
   "source": [
    "np.sum(roicat['clusters']['labels']>-1)"
   ]
  },
  {
   "cell_type": "code",
   "execution_count": null,
   "metadata": {},
   "outputs": [
    {
     "data": {
      "text/plain": [
       "{'clusters': {'labels': array([-1,  0, -1, ..., -1, -1, -1], dtype=int64),\n",
       "  'labels_bySession': [array([-1,  0, -1, ..., -1, -1, -1], dtype=int64),\n",
       "   array([60, 20,  3, ..., -1, -1, -1], dtype=int64),\n",
       "   array([ 91, 246,   3, ...,  -1,  -1,  -1], dtype=int64),\n",
       "   array([  0, 175,  -1, ...,  -1,  -1,  -1], dtype=int64),\n",
       "   array([111,  23,  -1, ...,  -1,  -1,  -1], dtype=int64)],\n",
       "  'labels_bool': <7594x381 sparse matrix of type '<class 'numpy.bool_'>'\n",
       "  \twith 7594 stored elements in Compressed Sparse Row format>,\n",
       "  'labels_bool_bySession': [<1458x381 sparse matrix of type '<class 'numpy.bool_'>'\n",
       "   \twith 1458 stored elements in Compressed Sparse Row format>,\n",
       "   <1131x381 sparse matrix of type '<class 'numpy.bool_'>'\n",
       "   \twith 1131 stored elements in Compressed Sparse Row format>,\n",
       "   <1410x381 sparse matrix of type '<class 'numpy.bool_'>'\n",
       "   \twith 1410 stored elements in Compressed Sparse Row format>,\n",
       "   <1579x381 sparse matrix of type '<class 'numpy.bool_'>'\n",
       "   \twith 1579 stored elements in Compressed Sparse Row format>,\n",
       "   <2016x381 sparse matrix of type '<class 'numpy.bool_'>'\n",
       "   \twith 2016 stored elements in Compressed Sparse Row format>],\n",
       "  'labels_dict': {-1: array([   0,    2,    4, ..., 7591, 7592, 7593], dtype=int64),\n",
       "   0: array([   1, 3999], dtype=int64),\n",
       "   1: array([   3, 4011], dtype=int64),\n",
       "   2: array([   5, 5922], dtype=int64),\n",
       "   3: array([   6, 1460, 2591], dtype=int64),\n",
       "   4: array([   9, 5609], dtype=int64),\n",
       "   5: array([  10, 4006], dtype=int64),\n",
       "   6: array([  11, 4004], dtype=int64),\n",
       "   7: array([  13, 2598], dtype=int64),\n",
       "   8: array([  14, 2593], dtype=int64),\n",
       "   9: array([  16, 5603], dtype=int64),\n",
       "   10: array([  18, 5613], dtype=int64),\n",
       "   11: array([  20, 4003], dtype=int64),\n",
       "   12: array([  21, 4040], dtype=int64),\n",
       "   13: array([  22, 5606], dtype=int64),\n",
       "   14: array([  23, 2608], dtype=int64),\n",
       "   15: array([  26, 2594], dtype=int64),\n",
       "   16: array([  31, 5759], dtype=int64),\n",
       "   17: array([  32, 2610, 4005], dtype=int64),\n",
       "   18: array([  34, 2595], dtype=int64),\n",
       "   19: array([  41, 5612], dtype=int64),\n",
       "   20: array([  45, 1459, 2626, 4307], dtype=int64),\n",
       "   21: array([  46, 4048], dtype=int64),\n",
       "   22: array([  48, 2637, 4037], dtype=int64),\n",
       "   23: array([  49, 5579], dtype=int64),\n",
       "   24: array([  51, 2629], dtype=int64),\n",
       "   25: array([  54, 5650], dtype=int64),\n",
       "   26: array([  55, 5631], dtype=int64),\n",
       "   27: array([  57, 5682], dtype=int64),\n",
       "   28: array([  58, 5762], dtype=int64),\n",
       "   29: array([  60, 5694], dtype=int64),\n",
       "   30: array([  61, 6075], dtype=int64),\n",
       "   31: array([  63, 2604], dtype=int64),\n",
       "   32: array([  64, 5778], dtype=int64),\n",
       "   33: array([  68, 5758], dtype=int64),\n",
       "   34: array([  70, 2609], dtype=int64),\n",
       "   35: array([  72, 5600], dtype=int64),\n",
       "   36: array([  74, 5693], dtype=int64),\n",
       "   37: array([  76, 4074], dtype=int64),\n",
       "   38: array([  77, 4058], dtype=int64),\n",
       "   39: array([  78, 5689], dtype=int64),\n",
       "   40: array([  82, 5718], dtype=int64),\n",
       "   41: array([  84, 5757], dtype=int64),\n",
       "   42: array([  86, 5768], dtype=int64),\n",
       "   43: array([  91, 2616, 4106], dtype=int64),\n",
       "   44: array([  94, 5787], dtype=int64),\n",
       "   45: array([  95, 1464, 2623], dtype=int64),\n",
       "   46: array([ 100, 2644, 4068], dtype=int64),\n",
       "   47: array([ 101, 5909], dtype=int64),\n",
       "   48: array([ 102, 4015], dtype=int64),\n",
       "   49: array([ 109, 5660], dtype=int64),\n",
       "   50: array([ 110, 1462], dtype=int64),\n",
       "   51: array([ 111, 5690], dtype=int64),\n",
       "   52: array([ 114, 5710], dtype=int64),\n",
       "   53: array([ 117, 5713], dtype=int64),\n",
       "   54: array([ 118, 4055], dtype=int64),\n",
       "   55: array([ 119, 5599], dtype=int64),\n",
       "   56: array([ 122, 4116], dtype=int64),\n",
       "   57: array([ 123, 5782], dtype=int64),\n",
       "   58: array([ 129, 5741], dtype=int64),\n",
       "   59: array([ 130, 4103], dtype=int64),\n",
       "   60: array([ 131, 1458], dtype=int64),\n",
       "   61: array([ 132, 4136], dtype=int64),\n",
       "   62: array([ 134, 4064], dtype=int64),\n",
       "   63: array([ 136, 1484, 2620], dtype=int64),\n",
       "   64: array([ 137, 2636], dtype=int64),\n",
       "   65: array([ 139, 5800], dtype=int64),\n",
       "   66: array([ 140, 5591], dtype=int64),\n",
       "   67: array([ 143, 5765], dtype=int64),\n",
       "   68: array([ 144, 5825], dtype=int64),\n",
       "   69: array([ 145, 2611], dtype=int64),\n",
       "   70: array([ 148, 2613], dtype=int64),\n",
       "   71: array([ 149, 2632], dtype=int64),\n",
       "   72: array([ 151, 2647], dtype=int64),\n",
       "   73: array([ 152, 2640], dtype=int64),\n",
       "   74: array([ 157, 5788], dtype=int64),\n",
       "   75: array([ 161, 4165], dtype=int64),\n",
       "   76: array([ 163, 4077], dtype=int64),\n",
       "   77: array([ 166, 6025], dtype=int64),\n",
       "   78: array([ 167, 5793], dtype=int64),\n",
       "   79: array([ 174, 5683], dtype=int64),\n",
       "   80: array([ 175, 4097], dtype=int64),\n",
       "   81: array([ 176, 2622], dtype=int64),\n",
       "   82: array([ 177, 1487, 2646], dtype=int64),\n",
       "   83: array([ 178, 2624, 4044], dtype=int64),\n",
       "   84: array([ 179, 6011], dtype=int64),\n",
       "   85: array([ 184, 5828], dtype=int64),\n",
       "   86: array([ 186, 5805], dtype=int64),\n",
       "   87: array([ 190, 5734], dtype=int64),\n",
       "   88: array([ 192, 4124], dtype=int64),\n",
       "   89: array([ 194, 4201], dtype=int64),\n",
       "   90: array([ 195, 2630], dtype=int64),\n",
       "   91: array([ 198, 1473, 2589], dtype=int64),\n",
       "   92: array([ 201, 4218], dtype=int64),\n",
       "   93: array([ 202, 2641], dtype=int64),\n",
       "   94: array([ 203, 1489], dtype=int64),\n",
       "   95: array([ 204, 4150], dtype=int64),\n",
       "   96: array([ 205, 5861], dtype=int64),\n",
       "   97: array([ 206, 5928], dtype=int64),\n",
       "   98: array([ 208, 5670], dtype=int64),\n",
       "   99: array([ 215, 2628], dtype=int64),\n",
       "   100: array([ 216, 2602, 4053], dtype=int64),\n",
       "   101: array([ 217, 1507, 2612], dtype=int64),\n",
       "   102: array([ 218, 4109], dtype=int64),\n",
       "   103: array([ 219, 1490, 2631], dtype=int64),\n",
       "   104: array([ 222, 5974], dtype=int64),\n",
       "   105: array([ 228, 4076], dtype=int64),\n",
       "   106: array([ 230, 5948], dtype=int64),\n",
       "   107: array([ 232, 2603], dtype=int64),\n",
       "   108: array([ 234, 2642], dtype=int64),\n",
       "   109: array([ 237, 2621], dtype=int64),\n",
       "   110: array([ 238, 4162], dtype=int64),\n",
       "   111: array([ 239, 5578], dtype=int64),\n",
       "   112: array([ 242, 2652, 4222], dtype=int64),\n",
       "   113: array([ 247, 2635], dtype=int64),\n",
       "   114: array([ 248, 5980], dtype=int64),\n",
       "   115: array([ 249, 6181], dtype=int64),\n",
       "   116: array([ 251, 4216], dtype=int64),\n",
       "   117: array([ 252, 1480], dtype=int64),\n",
       "   118: array([ 254, 1488], dtype=int64),\n",
       "   119: array([ 255, 4105], dtype=int64),\n",
       "   120: array([ 256, 5644], dtype=int64),\n",
       "   121: array([ 258, 5736], dtype=int64),\n",
       "   122: array([ 259, 6004], dtype=int64),\n",
       "   123: array([ 261, 2599], dtype=int64),\n",
       "   124: array([ 262, 6100], dtype=int64),\n",
       "   125: array([ 263, 2656], dtype=int64),\n",
       "   126: array([ 268, 6103], dtype=int64),\n",
       "   127: array([ 271, 2645, 4157], dtype=int64),\n",
       "   128: array([ 272, 5958], dtype=int64),\n",
       "   129: array([ 274, 4026], dtype=int64),\n",
       "   130: array([ 278, 1550, 2679], dtype=int64),\n",
       "   131: array([ 279, 4194, 5624], dtype=int64),\n",
       "   132: array([ 282, 5630], dtype=int64),\n",
       "   133: array([ 284, 5617], dtype=int64),\n",
       "   134: array([ 287, 2596], dtype=int64),\n",
       "   135: array([ 288, 6136], dtype=int64),\n",
       "   136: array([ 290, 5640], dtype=int64),\n",
       "   137: array([ 291, 4084], dtype=int64),\n",
       "   138: array([ 292, 5978], dtype=int64),\n",
       "   139: array([ 296, 5657], dtype=int64),\n",
       "   140: array([ 298, 1468, 2675], dtype=int64),\n",
       "   141: array([ 300, 2601], dtype=int64),\n",
       "   142: array([ 302, 5587], dtype=int64),\n",
       "   143: array([ 307, 1505], dtype=int64),\n",
       "   144: array([ 310, 5720], dtype=int64),\n",
       "   145: array([ 315, 5621], dtype=int64),\n",
       "   146: array([ 320, 5663], dtype=int64),\n",
       "   147: array([ 321, 2690], dtype=int64),\n",
       "   148: array([ 322, 4230], dtype=int64),\n",
       "   149: array([ 324, 1496], dtype=int64),\n",
       "   150: array([ 329, 5722], dtype=int64),\n",
       "   151: array([ 331, 5628], dtype=int64),\n",
       "   152: array([ 341, 4254], dtype=int64),\n",
       "   153: array([ 342, 5799], dtype=int64),\n",
       "   154: array([ 344, 5811], dtype=int64),\n",
       "   155: array([ 347, 6013], dtype=int64),\n",
       "   156: array([ 349, 4285], dtype=int64),\n",
       "   157: array([ 350, 4279], dtype=int64),\n",
       "   158: array([ 356, 4290], dtype=int64),\n",
       "   159: array([ 358, 1537, 2734], dtype=int64),\n",
       "   160: array([ 363, 5629], dtype=int64),\n",
       "   161: array([ 369, 2680], dtype=int64),\n",
       "   162: array([ 372, 4158], dtype=int64),\n",
       "   163: array([ 388, 5585], dtype=int64),\n",
       "   164: array([ 390, 2731], dtype=int64),\n",
       "   165: array([ 391, 4033], dtype=int64),\n",
       "   166: array([ 393, 4304], dtype=int64),\n",
       "   167: array([ 395, 4078], dtype=int64),\n",
       "   168: array([ 400, 5817], dtype=int64),\n",
       "   169: array([ 402, 6142], dtype=int64),\n",
       "   170: array([ 408, 6135], dtype=int64),\n",
       "   171: array([ 416, 5642], dtype=int64),\n",
       "   172: array([ 417, 4233], dtype=int64),\n",
       "   173: array([ 419, 1516], dtype=int64),\n",
       "   174: array([ 421, 4335], dtype=int64),\n",
       "   175: array([ 424, 4000], dtype=int64),\n",
       "   176: array([ 437, 2751], dtype=int64),\n",
       "   177: array([ 452, 2661], dtype=int64),\n",
       "   178: array([ 465, 4274], dtype=int64),\n",
       "   179: array([ 469, 5719], dtype=int64),\n",
       "   180: array([ 477, 6003], dtype=int64),\n",
       "   181: array([ 478, 1526], dtype=int64),\n",
       "   182: array([ 483, 4045], dtype=int64),\n",
       "   183: array([ 485, 2677], dtype=int64),\n",
       "   184: array([ 487, 6129], dtype=int64),\n",
       "   185: array([ 492, 6066], dtype=int64),\n",
       "   186: array([ 498, 5699], dtype=int64),\n",
       "   187: array([ 507, 6087], dtype=int64),\n",
       "   188: array([ 513, 5984], dtype=int64),\n",
       "   189: array([ 518, 1517], dtype=int64),\n",
       "   190: array([ 519, 5901], dtype=int64),\n",
       "   191: array([ 523, 6154], dtype=int64),\n",
       "   192: array([ 527, 6024], dtype=int64),\n",
       "   193: array([ 542, 6109], dtype=int64),\n",
       "   194: array([ 549, 2643], dtype=int64),\n",
       "   195: array([ 554, 5662], dtype=int64),\n",
       "   196: array([ 562, 6560], dtype=int64),\n",
       "   197: array([ 563, 5651], dtype=int64),\n",
       "   198: array([ 584, 4038], dtype=int64),\n",
       "   199: array([ 585, 6499], dtype=int64),\n",
       "   200: array([ 586, 5866], dtype=int64),\n",
       "   201: array([ 603, 2768], dtype=int64),\n",
       "   202: array([ 610, 4035], dtype=int64),\n",
       "   203: array([ 620, 6235], dtype=int64),\n",
       "   204: array([ 627, 4088], dtype=int64),\n",
       "   205: array([ 643, 2806], dtype=int64),\n",
       "   206: array([ 651, 4517], dtype=int64),\n",
       "   207: array([ 652, 5676], dtype=int64),\n",
       "   208: array([ 660, 6639], dtype=int64),\n",
       "   209: array([ 663, 6151], dtype=int64),\n",
       "   210: array([ 664, 5908], dtype=int64),\n",
       "   211: array([ 667, 6487], dtype=int64),\n",
       "   212: array([ 668, 5806], dtype=int64),\n",
       "   213: array([ 670, 2828], dtype=int64),\n",
       "   214: array([ 671, 5931], dtype=int64),\n",
       "   215: array([ 672, 4063], dtype=int64),\n",
       "   216: array([ 678, 1529], dtype=int64),\n",
       "   217: array([ 680, 5841], dtype=int64),\n",
       "   218: array([ 682, 5821], dtype=int64),\n",
       "   219: array([ 687, 6253], dtype=int64),\n",
       "   220: array([ 691, 5967], dtype=int64),\n",
       "   221: array([ 712, 6137], dtype=int64),\n",
       "   222: array([ 718, 4202], dtype=int64),\n",
       "   223: array([ 746, 4587], dtype=int64),\n",
       "   224: array([ 756, 5832], dtype=int64),\n",
       "   225: array([ 760, 6595], dtype=int64),\n",
       "   226: array([ 762, 4134], dtype=int64),\n",
       "   227: array([ 792, 1625], dtype=int64),\n",
       "   228: array([ 801, 1644], dtype=int64),\n",
       "   229: array([ 804, 1562], dtype=int64),\n",
       "   230: array([ 823, 5827], dtype=int64),\n",
       "   231: array([ 825, 2697], dtype=int64),\n",
       "   232: array([ 826, 6527], dtype=int64),\n",
       "   233: array([ 865, 1564, 2686, 4223], dtype=int64),\n",
       "   234: array([ 887, 6573], dtype=int64),\n",
       "   235: array([ 902, 5836], dtype=int64),\n",
       "   236: array([ 904, 6509], dtype=int64),\n",
       "   237: array([ 922, 1581], dtype=int64),\n",
       "   238: array([ 931, 5675], dtype=int64),\n",
       "   239: array([1162, 5831], dtype=int64),\n",
       "   240: array([1463, 2592], dtype=int64),\n",
       "   241: array([1465, 2676, 4396], dtype=int64),\n",
       "   242: array([1466, 2726], dtype=int64),\n",
       "   243: array([1467, 2633, 4234], dtype=int64),\n",
       "   244: array([1469, 2625, 4133], dtype=int64),\n",
       "   245: array([1471, 2691], dtype=int64),\n",
       "   246: array([1472, 2590], dtype=int64),\n",
       "   247: array([1475, 2638], dtype=int64),\n",
       "   248: array([1478, 2667, 4405], dtype=int64),\n",
       "   249: array([1485, 2699, 4406], dtype=int64),\n",
       "   250: array([1491, 2698, 4417], dtype=int64),\n",
       "   251: array([1492, 2776], dtype=int64),\n",
       "   252: array([1495, 2687], dtype=int64),\n",
       "   253: array([1499, 2606], dtype=int64),\n",
       "   254: array([1500, 2720], dtype=int64),\n",
       "   255: array([1501, 2671, 4144, 6240], dtype=int64),\n",
       "   256: array([1502, 2649, 4239], dtype=int64),\n",
       "   257: array([1510, 2835], dtype=int64),\n",
       "   258: array([1512, 2682, 4203], dtype=int64),\n",
       "   259: array([1515, 2696, 4245], dtype=int64),\n",
       "   260: array([1520, 2605], dtype=int64),\n",
       "   261: array([1527, 2732, 4236], dtype=int64),\n",
       "   262: array([1528, 2753], dtype=int64),\n",
       "   263: array([1534, 2607], dtype=int64),\n",
       "   264: array([1543, 2639, 4024], dtype=int64),\n",
       "   265: array([1548, 2618, 4017], dtype=int64),\n",
       "   266: array([1551, 2829, 4547], dtype=int64),\n",
       "   267: array([1553, 2658, 4180], dtype=int64),\n",
       "   268: array([1555, 2614], dtype=int64),\n",
       "   269: array([1556, 2775, 4426], dtype=int64),\n",
       "   270: array([1560, 2778, 4543], dtype=int64),\n",
       "   271: array([1570, 2654], dtype=int64),\n",
       "   272: array([1576, 4047], dtype=int64),\n",
       "   273: array([1579, 2794], dtype=int64),\n",
       "   274: array([1583, 2659, 4056], dtype=int64),\n",
       "   275: array([1589, 2769, 4166, 5632], dtype=int64),\n",
       "   276: array([1590, 2651], dtype=int64),\n",
       "   277: array([1606, 2836, 4465], dtype=int64),\n",
       "   278: array([1609, 2797, 4489], dtype=int64),\n",
       "   279: array([1636, 2763, 4327], dtype=int64),\n",
       "   280: array([1645, 2736, 4141], dtype=int64),\n",
       "   281: array([1704, 2684, 4104], dtype=int64),\n",
       "   282: array([1797, 2722, 4263], dtype=int64),\n",
       "   283: array([1866, 4292], dtype=int64),\n",
       "   284: array([1972, 3611], dtype=int64),\n",
       "   285: array([2291, 2888, 4494], dtype=int64),\n",
       "   286: array([2345, 2855, 4198], dtype=int64),\n",
       "   287: array([2348, 3249], dtype=int64),\n",
       "   288: array([2423, 2689], dtype=int64),\n",
       "   289: array([2657, 4081], dtype=int64),\n",
       "   290: array([2660, 4025], dtype=int64),\n",
       "   291: array([2668, 4082], dtype=int64),\n",
       "   292: array([2669, 4027], dtype=int64),\n",
       "   293: array([2674, 4163], dtype=int64),\n",
       "   294: array([2705, 4036], dtype=int64),\n",
       "   295: array([2706, 4009], dtype=int64),\n",
       "   296: array([2709, 4028], dtype=int64),\n",
       "   297: array([2712, 4301], dtype=int64),\n",
       "   298: array([2715, 4032], dtype=int64),\n",
       "   299: array([2723, 4227], dtype=int64),\n",
       "   300: array([2727, 4098], dtype=int64),\n",
       "   301: array([2740, 4007], dtype=int64),\n",
       "   302: array([2741, 4030], dtype=int64),\n",
       "   303: array([2742, 4031], dtype=int64),\n",
       "   304: array([2748, 4267], dtype=int64),\n",
       "   305: array([2757, 4069], dtype=int64),\n",
       "   306: array([2758, 4170], dtype=int64),\n",
       "   307: array([2765, 4110], dtype=int64),\n",
       "   308: array([2766, 6010], dtype=int64),\n",
       "   309: array([2771, 4012], dtype=int64),\n",
       "   310: array([2777, 4022], dtype=int64),\n",
       "   311: array([2783, 4041], dtype=int64),\n",
       "   312: array([2787, 4010], dtype=int64),\n",
       "   313: array([2790, 4018], dtype=int64),\n",
       "   314: array([2809, 4347], dtype=int64),\n",
       "   315: array([2810, 4095], dtype=int64),\n",
       "   316: array([2813, 4476], dtype=int64),\n",
       "   317: array([2814, 4294], dtype=int64),\n",
       "   318: array([2822, 4240], dtype=int64),\n",
       "   319: array([2825, 4311], dtype=int64),\n",
       "   320: array([2827, 4278], dtype=int64),\n",
       "   321: array([2830, 4107], dtype=int64),\n",
       "   322: array([2837, 4249], dtype=int64),\n",
       "   323: array([2841, 4185], dtype=int64),\n",
       "   324: array([2845, 4190, 5950], dtype=int64),\n",
       "   325: array([2846, 4358], dtype=int64),\n",
       "   326: array([2852, 4482], dtype=int64),\n",
       "   327: array([2869, 4314], dtype=int64),\n",
       "   328: array([2873, 4142], dtype=int64),\n",
       "   329: array([2877, 4456], dtype=int64),\n",
       "   330: array([2897, 4159], dtype=int64),\n",
       "   331: array([2899, 4403], dtype=int64),\n",
       "   332: array([2927, 4277, 5754], dtype=int64),\n",
       "   333: array([2937, 4284], dtype=int64),\n",
       "   334: array([2973, 4418], dtype=int64),\n",
       "   335: array([2988, 4073], dtype=int64),\n",
       "   336: array([3012, 4196], dtype=int64),\n",
       "   337: array([3078, 4328], dtype=int64),\n",
       "   338: array([3105, 4459], dtype=int64),\n",
       "   339: array([3137, 4411, 6088], dtype=int64),\n",
       "   340: array([3272, 4949], dtype=int64),\n",
       "   341: array([3277, 5584], dtype=int64),\n",
       "   342: array([3560, 4557], dtype=int64),\n",
       "   343: array([4173, 5953], dtype=int64),\n",
       "   344: array([4193, 5581], dtype=int64),\n",
       "   345: array([4220, 5655], dtype=int64),\n",
       "   346: array([4244, 5610], dtype=int64),\n",
       "   347: array([4287, 5724], dtype=int64),\n",
       "   348: array([4298, 5607], dtype=int64),\n",
       "   349: array([4315, 5620], dtype=int64),\n",
       "   350: array([4334, 5691], dtype=int64),\n",
       "   351: array([4337, 5780], dtype=int64),\n",
       "   352: array([4359, 5766], dtype=int64),\n",
       "   353: array([4374, 5623], dtype=int64),\n",
       "   354: array([4401, 5635], dtype=int64),\n",
       "   355: array([4409, 5664], dtype=int64),\n",
       "   356: array([4412, 5704], dtype=int64),\n",
       "   357: array([4414, 5636], dtype=int64),\n",
       "   358: array([4429, 5614], dtype=int64),\n",
       "   359: array([4460, 5809], dtype=int64),\n",
       "   360: array([4509, 5764], dtype=int64),\n",
       "   361: array([4550, 5822], dtype=int64),\n",
       "   362: array([4554, 5925], dtype=int64),\n",
       "   363: array([4597, 6263], dtype=int64),\n",
       "   364: array([4600, 5653], dtype=int64),\n",
       "   365: array([4611, 5586], dtype=int64),\n",
       "   366: array([4613, 5706], dtype=int64),\n",
       "   367: array([4623, 5684], dtype=int64),\n",
       "   368: array([4635, 5686], dtype=int64),\n",
       "   369: array([4650, 5633], dtype=int64),\n",
       "   370: array([4662, 5808], dtype=int64),\n",
       "   371: array([4681, 5804], dtype=int64),\n",
       "   372: array([4690, 5726], dtype=int64),\n",
       "   373: array([4715, 5605], dtype=int64),\n",
       "   374: array([4751, 5729], dtype=int64),\n",
       "   375: array([4821, 5987], dtype=int64),\n",
       "   376: array([4950, 5789], dtype=int64),\n",
       "   377: array([4954, 5962], dtype=int64),\n",
       "   378: array([5193, 5672], dtype=int64),\n",
       "   379: array([5199, 5875], dtype=int64)}},\n",
       " 'ROIs': {'ROIs_aligned': [<1458x262144 sparse matrix of type '<class 'numpy.float32'>'\n",
       "   \twith 103827 stored elements in Compressed Sparse Row format>,\n",
       "   <1131x262144 sparse matrix of type '<class 'numpy.float32'>'\n",
       "   \twith 49519 stored elements in Compressed Sparse Row format>,\n",
       "   <1410x262144 sparse matrix of type '<class 'numpy.float32'>'\n",
       "   \twith 96264 stored elements in Compressed Sparse Row format>,\n",
       "   <1579x262144 sparse matrix of type '<class 'numpy.float32'>'\n",
       "   \twith 111993 stored elements in Compressed Sparse Row format>,\n",
       "   <2016x262144 sparse matrix of type '<class 'numpy.float32'>'\n",
       "   \twith 126894 stored elements in Compressed Sparse Row format>],\n",
       "  'ROIs_raw': [<1458x262144 sparse matrix of type '<class 'numpy.float32'>'\n",
       "   \twith 102808 stored elements in Compressed Sparse Row format>,\n",
       "   <1131x262144 sparse matrix of type '<class 'numpy.float32'>'\n",
       "   \twith 49081 stored elements in Compressed Sparse Row format>,\n",
       "   <1410x262144 sparse matrix of type '<class 'numpy.float32'>'\n",
       "   \twith 81502 stored elements in Compressed Sparse Row format>,\n",
       "   <1579x262144 sparse matrix of type '<class 'numpy.float32'>'\n",
       "   \twith 107110 stored elements in Compressed Sparse Row format>,\n",
       "   <2016x262144 sparse matrix of type '<class 'numpy.float32'>'\n",
       "   \twith 128675 stored elements in Compressed Sparse Row format>],\n",
       "  'frame_height': 512,\n",
       "  'frame_width': 512,\n",
       "  'idx_roi_session': array([0, 0, 0, ..., 4, 4, 4], dtype=int64),\n",
       "  'n_sessions': 5},\n",
       " 'input_data': {'paths_stat': ['C:\\\\Users\\\\Andrew\\\\Documents\\\\localData\\\\ATL012\\\\2023-02-28\\\\701\\\\suite2p\\\\plane0\\\\stat.npy',\n",
       "   'C:\\\\Users\\\\Andrew\\\\Documents\\\\localData\\\\ATL012\\\\2023-02-28\\\\701\\\\suite2p\\\\plane1\\\\stat.npy',\n",
       "   'C:\\\\Users\\\\Andrew\\\\Documents\\\\localData\\\\ATL012\\\\2023-02-28\\\\701\\\\suite2p\\\\plane2\\\\stat.npy',\n",
       "   'C:\\\\Users\\\\Andrew\\\\Documents\\\\localData\\\\ATL012\\\\2023-02-28\\\\701\\\\suite2p\\\\plane3\\\\stat.npy',\n",
       "   'C:\\\\Users\\\\Andrew\\\\Documents\\\\localData\\\\ATL012\\\\2023-02-28\\\\701\\\\suite2p\\\\plane4\\\\stat.npy'],\n",
       "  'paths_ops': ['C:\\\\Users\\\\Andrew\\\\Documents\\\\localData\\\\ATL012\\\\2023-02-28\\\\701\\\\suite2p\\\\plane0\\\\ops.npy',\n",
       "   'C:\\\\Users\\\\Andrew\\\\Documents\\\\localData\\\\ATL012\\\\2023-02-28\\\\701\\\\suite2p\\\\plane1\\\\ops.npy',\n",
       "   'C:\\\\Users\\\\Andrew\\\\Documents\\\\localData\\\\ATL012\\\\2023-02-28\\\\701\\\\suite2p\\\\plane2\\\\ops.npy',\n",
       "   'C:\\\\Users\\\\Andrew\\\\Documents\\\\localData\\\\ATL012\\\\2023-02-28\\\\701\\\\suite2p\\\\plane3\\\\ops.npy',\n",
       "   'C:\\\\Users\\\\Andrew\\\\Documents\\\\localData\\\\ATL012\\\\2023-02-28\\\\701\\\\suite2p\\\\plane4\\\\ops.npy']},\n",
       " 'quality_metrics': {'cluster_labels_unique': array([ -1,   0,   1,   2,   3,   4,   5,   6,   7,   8,   9,  10,  11,\n",
       "          12,  13,  14,  15,  16,  17,  18,  19,  20,  21,  22,  23,  24,\n",
       "          25,  26,  27,  28,  29,  30,  31,  32,  33,  34,  35,  36,  37,\n",
       "          38,  39,  40,  41,  42,  43,  44,  45,  46,  47,  48,  49,  50,\n",
       "          51,  52,  53,  54,  55,  56,  57,  58,  59,  60,  61,  62,  63,\n",
       "          64,  65,  66,  67,  68,  69,  70,  71,  72,  73,  74,  75,  76,\n",
       "          77,  78,  79,  80,  81,  82,  83,  84,  85,  86,  87,  88,  89,\n",
       "          90,  91,  92,  93,  94,  95,  96,  97,  98,  99, 100, 101, 102,\n",
       "         103, 104, 105, 106, 107, 108, 109, 110, 111, 112, 113, 114, 115,\n",
       "         116, 117, 118, 119, 120, 121, 122, 123, 124, 125, 126, 127, 128,\n",
       "         129, 130, 131, 132, 133, 134, 135, 136, 137, 138, 139, 140, 141,\n",
       "         142, 143, 144, 145, 146, 147, 148, 149, 150, 151, 152, 153, 154,\n",
       "         155, 156, 157, 158, 159, 160, 161, 162, 163, 164, 165, 166, 167,\n",
       "         168, 169, 170, 171, 172, 173, 174, 175, 176, 177, 178, 179, 180,\n",
       "         181, 182, 183, 184, 185, 186, 187, 188, 189, 190, 191, 192, 193,\n",
       "         194, 195, 196, 197, 198, 199, 200, 201, 202, 203, 204, 205, 206,\n",
       "         207, 208, 209, 210, 211, 212, 213, 214, 215, 216, 217, 218, 219,\n",
       "         220, 221, 222, 223, 224, 225, 226, 227, 228, 229, 230, 231, 232,\n",
       "         233, 234, 235, 236, 237, 238, 239, 240, 241, 242, 243, 244, 245,\n",
       "         246, 247, 248, 249, 250, 251, 252, 253, 254, 255, 256, 257, 258,\n",
       "         259, 260, 261, 262, 263, 264, 265, 266, 267, 268, 269, 270, 271,\n",
       "         272, 273, 274, 275, 276, 277, 278, 279, 280, 281, 282, 283, 284,\n",
       "         285, 286, 287, 288, 289, 290, 291, 292, 293, 294, 295, 296, 297,\n",
       "         298, 299, 300, 301, 302, 303, 304, 305, 306, 307, 308, 309, 310,\n",
       "         311, 312, 313, 314, 315, 316, 317, 318, 319, 320, 321, 322, 323,\n",
       "         324, 325, 326, 327, 328, 329, 330, 331, 332, 333, 334, 335, 336,\n",
       "         337, 338, 339, 340, 341, 342, 343, 344, 345, 346, 347, 348, 349,\n",
       "         350, 351, 352, 353, 354, 355, 356, 357, 358, 359, 360, 361, 362,\n",
       "         363, 364, 365, 366, 367, 368, 369, 370, 371, 372, 373, 374, 375,\n",
       "         376, 377, 378, 379]),\n",
       "  'cluster_intra_means': array([5.52396802e-05, 9.58243370e-01, 8.20263982e-01, 6.40487194e-01,\n",
       "         6.94655418e-01, 8.12980533e-01, 7.99521208e-01, 6.98906660e-01,\n",
       "         5.87702751e-01, 9.75719452e-01, 7.86498070e-01, 7.94003963e-01,\n",
       "         8.12245369e-01, 6.31103277e-01, 8.12827349e-01, 7.77465105e-01,\n",
       "         9.42956686e-01, 7.06353903e-01, 7.63837258e-01, 8.59559894e-01,\n",
       "         7.53590107e-01, 6.45302296e-01, 9.11596179e-01, 7.96594620e-01,\n",
       "         6.63563013e-01, 6.94920778e-01, 6.88266873e-01, 6.74161315e-01,\n",
       "         6.07180357e-01, 6.34296060e-01, 8.25376987e-01, 5.68917751e-01,\n",
       "         8.88250828e-01, 5.73653936e-01, 5.86911082e-01, 7.32513785e-01,\n",
       "         7.95756817e-01, 8.22203159e-01, 4.83608723e-01, 9.78756905e-01,\n",
       "         3.88605833e-01, 8.37081075e-01, 2.95101881e-01, 5.10960340e-01,\n",
       "         7.72884607e-01, 3.14509630e-01, 8.52878888e-01, 6.74432993e-01,\n",
       "         5.93565822e-01, 7.06951141e-01, 5.43287992e-01, 8.49986792e-01,\n",
       "         5.54878712e-01, 9.60731506e-01, 7.79202223e-01, 8.13810706e-01,\n",
       "         4.51797843e-01, 7.54872680e-01, 7.71179914e-01, 9.06235695e-01,\n",
       "         8.85812998e-01, 4.96959329e-01, 7.81420231e-01, 5.50565362e-01,\n",
       "         8.45823447e-01, 8.14610004e-01, 8.55686665e-01, 2.40103483e-01,\n",
       "         8.87849331e-01, 6.06923223e-01, 8.70522976e-01, 8.80014181e-01,\n",
       "         9.63416815e-01, 5.16850233e-01, 8.69997621e-01, 7.76059389e-01,\n",
       "         8.60627413e-01, 8.47680688e-01, 5.64888477e-01, 6.68813944e-01,\n",
       "         7.69350767e-01, 4.43923712e-01, 8.18110943e-01, 7.19713688e-01,\n",
       "         5.88819822e-01, 7.18378782e-01, 6.02378011e-01, 3.34097505e-01,\n",
       "         5.49233913e-01, 8.48193645e-01, 7.58438110e-01, 5.34375191e-01,\n",
       "         4.33945974e-01, 7.70589471e-01, 7.11263418e-01, 6.04982734e-01,\n",
       "         9.34794188e-01, 8.40188026e-01, 7.09691286e-01, 8.99802446e-01,\n",
       "         5.50617099e-01, 3.83065224e-01, 6.51713848e-01, 6.39668584e-01,\n",
       "         6.30035480e-01, 5.48628330e-01, 5.30699730e-01, 7.23446727e-01,\n",
       "         5.98370910e-01, 9.06234741e-01, 7.30951905e-01, 8.52563381e-01,\n",
       "         3.27332497e-01, 7.21359412e-01, 6.95624590e-01, 6.85088873e-01,\n",
       "         4.76666927e-01, 7.46599913e-01, 6.81604862e-01, 7.58505821e-01,\n",
       "         4.34456468e-01, 6.36550188e-01, 3.34384441e-01, 3.60499263e-01,\n",
       "         4.78653789e-01, 5.16495824e-01, 7.80562162e-01, 7.33322740e-01,\n",
       "         8.04068247e-01, 6.85458660e-01, 4.10407782e-01, 4.35224215e-01,\n",
       "         3.36862882e-01, 2.90981889e-01, 3.42666268e-01, 2.96585321e-01,\n",
       "         5.65835238e-01, 2.75524855e-01, 4.54566002e-01, 6.66894317e-01,\n",
       "         4.56489205e-01, 7.08374182e-01, 3.55758429e-01, 2.22820520e-01,\n",
       "         5.43587804e-01, 2.50871062e-01, 3.39439392e-01, 3.39943171e-01,\n",
       "         5.57348132e-01, 5.94563723e-01, 8.23027730e-01, 2.49079585e-01,\n",
       "         2.99715757e-01, 7.57050037e-01, 3.22499275e-01, 3.35746646e-01,\n",
       "         8.52198362e-01, 9.14574146e-01, 9.38132524e-01, 5.99947095e-01,\n",
       "         5.74109713e-01, 2.40823030e-01, 6.25139713e-01, 2.98324943e-01,\n",
       "         2.35181928e-01, 4.55616236e-01, 3.16275716e-01, 6.47206903e-01,\n",
       "         3.50121498e-01, 4.43307877e-01, 4.62279081e-01, 4.76022243e-01,\n",
       "         3.88764620e-01, 3.32224369e-01, 7.07462192e-01, 8.72831464e-01,\n",
       "         2.81299829e-01, 5.35408497e-01, 3.30535054e-01, 9.25093770e-01,\n",
       "         2.16957569e-01, 3.18247795e-01, 7.73357034e-01, 3.08694482e-01,\n",
       "         5.96052408e-01, 5.42701483e-01, 6.29970789e-01, 3.39091778e-01,\n",
       "         5.43933749e-01, 4.30191278e-01, 6.24283671e-01, 2.71863580e-01,\n",
       "         4.16530013e-01, 5.02254725e-01, 6.14763737e-01, 2.76154637e-01,\n",
       "         2.08091497e-01, 4.52265024e-01, 2.59306073e-01, 2.79569626e-01,\n",
       "         5.85698485e-01, 2.57231355e-01, 5.86370707e-01, 3.06961060e-01,\n",
       "         4.54117298e-01, 4.04231787e-01, 3.06785583e-01, 6.60486937e-01,\n",
       "         2.56800294e-01, 4.61557627e-01, 4.02224779e-01, 2.84001112e-01,\n",
       "         4.64536190e-01, 3.30162048e-01, 4.39427376e-01, 2.52177238e-01,\n",
       "         3.54511976e-01, 4.02773142e-01, 2.59989500e-01, 2.87836075e-01,\n",
       "         4.00251150e-01, 2.98170924e-01, 2.76293755e-01, 3.24440718e-01,\n",
       "         4.54188704e-01, 3.16601276e-01, 4.36646938e-01, 2.24137306e-01,\n",
       "         5.96981168e-01, 4.34150815e-01, 4.22879934e-01, 2.36496568e-01,\n",
       "         2.22692490e-01, 4.28916454e-01, 4.90158796e-01, 4.87282276e-01,\n",
       "         2.63620615e-01, 4.83272910e-01, 5.32081604e-01, 3.25079799e-01,\n",
       "         2.51331568e-01, 4.73991394e-01, 4.88118966e-01, 6.49986029e-01,\n",
       "         6.97370132e-01, 7.73255030e-01, 8.67677927e-01, 4.85341311e-01,\n",
       "         8.40888262e-01, 5.96145948e-01, 7.10102240e-01, 5.99994024e-01,\n",
       "         4.96151686e-01, 3.63221169e-01, 3.99583697e-01, 5.05404472e-01,\n",
       "         6.25988722e-01, 6.55851841e-01, 4.66573477e-01, 6.88245535e-01,\n",
       "         6.98142211e-01, 3.33803892e-01, 6.28664335e-01, 4.14903164e-01,\n",
       "         2.96812415e-01, 3.80284071e-01, 4.32553530e-01, 6.33200169e-01,\n",
       "         4.07270511e-01, 3.53846192e-01, 4.91772254e-01, 6.11548424e-01,\n",
       "         3.35390091e-01, 2.89890766e-01, 3.62734318e-01, 3.70682001e-01,\n",
       "         3.85620991e-01, 2.46806979e-01, 4.59664027e-01, 3.95616531e-01,\n",
       "         4.63559945e-01, 4.00904338e-01, 3.64723365e-01, 4.18100357e-01,\n",
       "         2.45129824e-01, 4.68506575e-01, 6.20698293e-01, 4.63465452e-01,\n",
       "         4.00287390e-01, 3.22438478e-01, 4.57969666e-01, 4.41870213e-01,\n",
       "         3.30927014e-01, 3.89163256e-01, 4.80200529e-01, 3.40961218e-01,\n",
       "         3.31210494e-01, 3.84840012e-01, 3.67805243e-01, 4.15633321e-01,\n",
       "         4.78249550e-01, 4.89041090e-01, 2.80489922e-01, 3.89821887e-01,\n",
       "         3.00480127e-01, 4.64263678e-01, 2.79123664e-01, 5.74540377e-01,\n",
       "         5.51926970e-01, 4.48164701e-01, 2.52032042e-01, 2.74328470e-01,\n",
       "         3.96921873e-01, 2.10660934e-01, 3.08116436e-01, 5.27294993e-01,\n",
       "         2.20539808e-01, 5.03001928e-01, 4.79427099e-01, 3.14901590e-01,\n",
       "         3.19134831e-01, 3.74436378e-01, 4.55377102e-01, 3.99871349e-01,\n",
       "         3.81376505e-01, 2.79832522e-01, 3.16972017e-01, 3.62189889e-01,\n",
       "         2.99236059e-01, 3.39402199e-01, 3.74498606e-01, 2.36661911e-01,\n",
       "         5.72711945e-01, 4.39819336e-01, 3.72413754e-01, 3.45098257e-01,\n",
       "         2.43788958e-01, 2.57763147e-01, 4.25313473e-01, 2.91200399e-01,\n",
       "         2.81842470e-01, 4.52847600e-01, 2.20952868e-01, 2.70962834e-01,\n",
       "         3.45280409e-01, 3.49844456e-01, 3.72441173e-01, 3.67483377e-01,\n",
       "         2.98358917e-01, 2.94769883e-01, 2.53041983e-01, 2.49030828e-01,\n",
       "         2.31749535e-01, 3.11392307e-01, 3.64292860e-01, 2.72283077e-01,\n",
       "         3.36116195e-01, 3.61553669e-01, 3.36958647e-01, 2.42615938e-01,\n",
       "         2.35768914e-01, 3.36468935e-01, 2.53440142e-01, 2.88172603e-01,\n",
       "         3.11512947e-01, 2.07809091e-01, 3.42053294e-01, 2.26682186e-01,\n",
       "         2.15130329e-01, 2.62931228e-01, 2.44322062e-01, 3.06121588e-01,\n",
       "         2.15252280e-01, 2.19667196e-01, 2.40788817e-01, 2.55156040e-01,\n",
       "         3.63815188e-01, 2.26393580e-01, 2.37153411e-01, 2.59270787e-01,\n",
       "         2.12556839e-01]),\n",
       "  'cluster_intra_mins': array([0.00000000e+00, 9.53705549e-01, 8.17141652e-01, 6.17216825e-01,\n",
       "         4.96265769e-01, 8.05383205e-01, 7.72445202e-01, 6.17191195e-01,\n",
       "         5.66425800e-01, 9.75564837e-01, 7.71685481e-01, 7.78133869e-01,\n",
       "         7.39863634e-01, 4.64227676e-01, 8.08463931e-01, 7.07264423e-01,\n",
       "         9.37548876e-01, 7.02986956e-01, 6.01145625e-01, 8.43860388e-01,\n",
       "         7.47364998e-01, 1.64957881e-01, 9.10637379e-01, 7.03363180e-01,\n",
       "         6.32175446e-01, 5.21336555e-01, 6.54315710e-01, 6.39033675e-01,\n",
       "         5.96539021e-01, 6.34276509e-01, 8.19847822e-01, 4.35568571e-01,\n",
       "         8.75516891e-01, 5.14148951e-01, 4.87927675e-01, 6.79584026e-01,\n",
       "         7.83608437e-01, 8.07287455e-01, 4.47438002e-01, 9.76198435e-01,\n",
       "         3.37747693e-01, 8.32083106e-01, 1.73542976e-01, 4.34901237e-01,\n",
       "         5.43410063e-01, 1.04873657e-01, 8.09155464e-01, 5.78399539e-01,\n",
       "         4.85284209e-01, 6.44002199e-01, 4.67025280e-01, 8.45846653e-01,\n",
       "         4.35192108e-01, 9.58733082e-01, 7.78485060e-01, 8.12934041e-01,\n",
       "         1.70832634e-01, 7.29435086e-01, 7.69095898e-01, 8.96824837e-01,\n",
       "         8.85323048e-01, 4.45684195e-01, 7.77337313e-01, 5.36775827e-01,\n",
       "         6.98506117e-01, 7.72818685e-01, 8.48201036e-01, 2.32244730e-02,\n",
       "         8.85510445e-01, 5.84337950e-01, 8.17095518e-01, 8.70664597e-01,\n",
       "         9.59132791e-01, 4.79985714e-01, 8.42316985e-01, 6.96778059e-01,\n",
       "         8.04875255e-01, 8.16189170e-01, 5.40464401e-01, 6.57376289e-01,\n",
       "         7.63838530e-01, 4.35830951e-01, 8.02895308e-01, 5.14740705e-01,\n",
       "         8.31182003e-02, 6.97004318e-01, 5.77013969e-01, 2.63590932e-01,\n",
       "         5.08774281e-01, 8.46837282e-01, 6.52290463e-01, 5.24455547e-01,\n",
       "         1.32444859e-01, 7.51623631e-01, 7.05882788e-01, 5.24423122e-01,\n",
       "         9.32090521e-01, 8.29288721e-01, 6.73125744e-01, 8.75621676e-01,\n",
       "         3.73390913e-01, 1.35395288e-01, 3.13994765e-01, 6.01524591e-01,\n",
       "         2.53202796e-01, 5.19534588e-01, 3.38062167e-01, 7.03146935e-01,\n",
       "         3.19865823e-01, 9.06085253e-01, 6.00345850e-01, 8.33939791e-01,\n",
       "         5.65052032e-05, 4.75327730e-01, 6.06323242e-01, 6.56107187e-01,\n",
       "         4.63006616e-01, 7.10169554e-01, 6.70399427e-01, 7.19486713e-01,\n",
       "         4.18046355e-01, 5.32001257e-01, 7.80738592e-02, 3.08445692e-01,\n",
       "         2.40311623e-01, 4.80927944e-01, 6.90248728e-01, 7.10772157e-01,\n",
       "         6.20970249e-01, 6.00962639e-01, 5.04451990e-02, 3.06689262e-01,\n",
       "         2.33292580e-03, 3.97882462e-02, 4.57545519e-02, 3.87021303e-02,\n",
       "         5.51408291e-01, 1.87813044e-02, 2.95965672e-01, 6.60758734e-01,\n",
       "         2.82497644e-01, 3.92252088e-01, 4.31785583e-02, 1.35447979e-02,\n",
       "         5.39519310e-01, 4.27626371e-02, 4.86993790e-03, 1.75474882e-02,\n",
       "         5.45661688e-01, 5.41050315e-01, 8.07208657e-01, 1.22916698e-03,\n",
       "         7.54559040e-03, 7.34434366e-01, 1.95807219e-01, 2.07590222e-01,\n",
       "         8.13726425e-01, 9.08373117e-01, 9.34471726e-01, 5.01131296e-01,\n",
       "         3.85870218e-01, 4.01008129e-03, 5.54229736e-01, 1.86486840e-01,\n",
       "         3.59189510e-03, 4.21804190e-01, 2.14780569e-02, 6.42094135e-01,\n",
       "         6.79005384e-02, 1.88581586e-01, 4.60223436e-01, 4.58744764e-01,\n",
       "         3.99589539e-02, 2.17261910e-01, 6.93476915e-01, 8.67094159e-01,\n",
       "         1.05414391e-02, 4.83532190e-01, 2.56429434e-01, 9.20301676e-01,\n",
       "         1.89208984e-02, 1.90341234e-01, 7.67881155e-01, 2.36129761e-03,\n",
       "         5.74036837e-01, 5.23442030e-01, 5.49898863e-01, 1.49792433e-02,\n",
       "         5.31990051e-01, 3.41332912e-01, 5.53743005e-01, 1.40951872e-02,\n",
       "         3.96523237e-01, 4.13189888e-01, 4.85639095e-01, 7.54323006e-02,\n",
       "         1.95097923e-03, 4.09765840e-01, 8.42809677e-05, 2.48742104e-03,\n",
       "         5.47389746e-01, 5.86876869e-02, 5.70769310e-01, 7.09438324e-03,\n",
       "         4.09031868e-01, 3.17263603e-03, 1.18405461e-01, 6.57325506e-01,\n",
       "         8.34465027e-07, 4.24564600e-01, 2.33097672e-01, 5.54323196e-04,\n",
       "         4.56308484e-01, 1.98547840e-02, 4.34969425e-01, 1.08873844e-02,\n",
       "         3.09324265e-03, 3.65102887e-01, 4.26054001e-03, 5.26142120e-03,\n",
       "         3.47845197e-01, 1.16656780e-01, 1.11423969e-01, 8.12867880e-02,\n",
       "         3.66710186e-01, 5.42867184e-03, 4.19503212e-01, 5.40971756e-03,\n",
       "         5.34413576e-01, 4.27630424e-01, 3.91973019e-01, 3.82792950e-03,\n",
       "         3.60364914e-02, 4.26262856e-01, 1.74643755e-01, 4.73423481e-01,\n",
       "         3.16619873e-04, 4.79712248e-01, 4.05222535e-01, 0.00000000e+00,\n",
       "         4.07934189e-04, 3.32988739e-01, 2.34793425e-02, 6.01317406e-01,\n",
       "         5.31667709e-01, 4.36951160e-01, 8.60814095e-01, 1.31744862e-01,\n",
       "         8.06622028e-01, 2.34059811e-01, 2.58154154e-01, 3.48487854e-01,\n",
       "         4.89337444e-01, 2.77376652e-01, 5.31077385e-04, 4.84470725e-01,\n",
       "         3.93652320e-01, 5.18069983e-01, 4.30932879e-01, 3.29237223e-01,\n",
       "         5.28699040e-01, 2.27928162e-04, 3.43258977e-01, 3.38411689e-01,\n",
       "         1.77359581e-03, 2.59971619e-03, 2.38418579e-07, 4.62865233e-01,\n",
       "         1.33043528e-02, 3.12149525e-03, 3.99110079e-01, 4.21113253e-01,\n",
       "         4.82797623e-05, 4.17232513e-06, 2.74525404e-01, 8.08238983e-05,\n",
       "         7.24196434e-04, 3.80516052e-02, 3.12649012e-01, 1.74373865e-01,\n",
       "         1.04422927e-01, 2.79688835e-03, 1.90734863e-06, 9.51272249e-02,\n",
       "         1.42449141e-02, 4.21124220e-01, 3.32615495e-01, 9.13202763e-03,\n",
       "         3.13109398e-01, 3.38673592e-04, 2.46348977e-01, 1.20815039e-01,\n",
       "         8.69667530e-02, 1.77447438e-01, 4.05859470e-01, 7.69613981e-02,\n",
       "         6.09123707e-03, 9.38303471e-02, 2.62159944e-01, 5.24483919e-02,\n",
       "         3.63911152e-01, 2.79082417e-01, 7.17282295e-02, 8.61072540e-03,\n",
       "         6.00469112e-03, 3.70952725e-01, 1.87350512e-02, 2.45738983e-01,\n",
       "         2.08520651e-01, 2.42884040e-01, 4.96578217e-03, 2.69412994e-03,\n",
       "         5.61714172e-03, 2.58076191e-03, 4.50539589e-03, 4.68092322e-01,\n",
       "         2.71329880e-02, 4.36857462e-01, 3.48011136e-01, 1.78773642e-01,\n",
       "         1.77423596e-01, 2.48199224e-01, 1.91276789e-01, 1.27884984e-01,\n",
       "         1.21121168e-01, 1.03080273e-03, 1.75735354e-01, 3.19403172e-01,\n",
       "         4.43305969e-02, 9.27197933e-03, 3.15738320e-01, 2.02101469e-02,\n",
       "         4.41442490e-01, 1.19447708e-04, 1.13850355e-01, 1.85758591e-01,\n",
       "         2.26974487e-04, 1.12256408e-01, 1.52650952e-01, 8.52378607e-02,\n",
       "         2.83341408e-02, 4.29986238e-01, 5.96046448e-07, 2.08179951e-02,\n",
       "         1.48513436e-01, 3.41427326e-03, 1.83558464e-03, 1.76341891e-01,\n",
       "         3.32884789e-02, 1.69277191e-05, 3.72743607e-03, 8.79843235e-02,\n",
       "         1.16407871e-03, 9.06503201e-03, 3.03983688e-05, 1.07288361e-06,\n",
       "         2.64644623e-05, 7.01665878e-04, 1.41036510e-03, 7.01355934e-03,\n",
       "         3.03363800e-03, 1.96723938e-02, 7.27939606e-03, 2.62989998e-02,\n",
       "         1.70743465e-01, 1.31130219e-06, 1.24692917e-04, 1.66893005e-06,\n",
       "         6.65187836e-05, 2.41994858e-05, 9.89437103e-06, 1.11341476e-04,\n",
       "         1.64568424e-03, 1.05977058e-04, 1.78813934e-06, 9.82761383e-04,\n",
       "         5.50913811e-03, 1.93119049e-05, 1.73306465e-03, 4.76837158e-07,\n",
       "         1.63197517e-04], dtype=float32),\n",
       "  'cluster_intra_maxs': array([0.80880159, 0.96278113, 0.82338631, 0.66375744, 0.92537338,\n",
       "         0.82057774, 0.82659709, 0.78062224, 0.60897988, 0.97587407,\n",
       "         0.80131072, 0.80987394, 0.8846271 , 0.79797888, 0.81719089,\n",
       "         0.84766579, 0.94836468, 0.70972073, 0.86570513, 0.87525928,\n",
       "         0.75981522, 0.89088118, 0.91255492, 0.90215921, 0.69495058,\n",
       "         0.86850494, 0.72221804, 0.70928895, 0.61782169, 0.63431555,\n",
       "         0.83090615, 0.70226675, 0.9009847 , 0.63315874, 0.68589449,\n",
       "         0.7854436 , 0.80790532, 0.83711898, 0.5197795 , 0.98131549,\n",
       "         0.43946412, 0.84207904, 0.41666067, 0.58701932, 0.91664118,\n",
       "         0.52414572, 0.92650777, 0.81512463, 0.70184749, 0.7699002 ,\n",
       "         0.61955065, 0.85412693, 0.67456532, 0.96273005, 0.77991939,\n",
       "         0.81468743, 0.73276293, 0.78031033, 0.77326405, 0.91564643,\n",
       "         0.88630289, 0.54823452, 0.78550297, 0.5643549 , 0.95055252,\n",
       "         0.85640132, 0.86317229, 0.45698249, 0.8901881 , 0.6295085 ,\n",
       "         0.92395037, 0.88936377, 0.96770072, 0.55371475, 0.8976782 ,\n",
       "         0.85534066, 0.91637957, 0.87917227, 0.58931255, 0.68025166,\n",
       "         0.77486306, 0.45201641, 0.83332664, 0.93845755, 0.83721262,\n",
       "         0.73975319, 0.62774217, 0.40460402, 0.58969367, 0.84955007,\n",
       "         0.86458576, 0.54429501, 0.72301513, 0.78955531, 0.71664387,\n",
       "         0.68554235, 0.93749803, 0.85108739, 0.74625689, 0.92398316,\n",
       "         0.72784317, 0.63717645, 0.84737706, 0.67781258, 0.83893132,\n",
       "         0.57772225, 0.72333735, 0.74374658, 0.87687594, 0.90638411,\n",
       "         0.86155796, 0.87118691, 0.65460867, 0.95540756, 0.78492594,\n",
       "         0.7140705 , 0.49032709, 0.78303033, 0.69281042, 0.79752493,\n",
       "         0.45086655, 0.74109912, 0.59069502, 0.41255283, 0.71699607,\n",
       "         0.55206382, 0.87087548, 0.75587338, 0.94181323, 0.76995468,\n",
       "         0.77037042, 0.63067842, 0.65782821, 0.54217565, 0.63957804,\n",
       "         0.55446863, 0.58026206, 0.53226829, 0.61316645, 0.67302996,\n",
       "         0.63048077, 0.95801246, 0.66833824, 0.43209612, 0.54765636,\n",
       "         0.45897943, 0.67400879, 0.66233897, 0.56903464, 0.64807707,\n",
       "         0.83884686, 0.49693   , 0.59188592, 0.77966583, 0.44919145,\n",
       "         0.46390313, 0.8906703 , 0.92077523, 0.94179326, 0.69876301,\n",
       "         0.72587442, 0.47763583, 0.69604957, 0.41016304, 0.46677202,\n",
       "         0.48942822, 0.61107337, 0.65231973, 0.63234246, 0.69803417,\n",
       "         0.46433485, 0.49329975, 0.73757023, 0.44718686, 0.72144741,\n",
       "         0.87856883, 0.5520584 , 0.58728492, 0.40464073, 0.92988598,\n",
       "         0.41499406, 0.44615418, 0.77883291, 0.61502773, 0.61806786,\n",
       "         0.56196094, 0.71004266, 0.66320431, 0.55587739, 0.51904964,\n",
       "         0.69482434, 0.52963209, 0.43653685, 0.59131956, 0.74388826,\n",
       "         0.47687685, 0.41423199, 0.49476409, 0.51852781, 0.55665189,\n",
       "         0.62400711, 0.45577502, 0.60197216, 0.60682762, 0.49920276,\n",
       "         0.80529106, 0.49516571, 0.66364837, 0.51359975, 0.49855074,\n",
       "         0.57135201, 0.56744802, 0.47276384, 0.64046937, 0.44388548,\n",
       "         0.49346712, 0.70593089, 0.44044334, 0.51571828, 0.57041073,\n",
       "         0.45265698, 0.47968495, 0.44116342, 0.56759453, 0.54166716,\n",
       "         0.62777394, 0.45379049, 0.44286475, 0.65954882, 0.44067112,\n",
       "         0.45378691, 0.46916518, 0.40934864, 0.43157002, 0.84627134,\n",
       "         0.50114119, 0.52692461, 0.48683357, 0.65894079, 0.65015948,\n",
       "         0.50225514, 0.61499405, 0.78140092, 0.69865447, 0.88186908,\n",
       "         0.92327619, 0.87454176, 0.8389377 , 0.87515444, 0.85530853,\n",
       "         0.92792916, 0.84513068, 0.50296575, 0.4490656 , 0.79863632,\n",
       "         0.52633822, 0.89263332, 0.84796077, 0.50221407, 0.8594631 ,\n",
       "         0.80735612, 0.6673798 , 0.80774289, 0.49139479, 0.59185123,\n",
       "         0.62989306, 0.86030626, 0.73611516, 0.75111407, 0.70457101,\n",
       "         0.63858598, 0.80919558, 0.67073184, 0.57977748, 0.45094341,\n",
       "         0.82763833, 0.90163898, 0.45556238, 0.58679616, 0.56071895,\n",
       "         0.68895531, 0.88974547, 0.82986176, 0.82951593, 0.47601482,\n",
       "         0.51588893, 0.81381428, 0.91801018, 0.48746529, 0.64453816,\n",
       "         0.66959035, 0.76292533, 0.57488739, 0.60087895, 0.55454141,\n",
       "         0.60496116, 0.65632981, 0.67584968, 0.47345057, 0.77881831,\n",
       "         0.59258801, 0.69899988, 0.48925146, 0.77103299, 0.59495568,\n",
       "         0.55757451, 0.53951228, 0.90334183, 0.89533323, 0.6534453 ,\n",
       "         0.49909839, 0.54596269, 0.7882266 , 0.41874126, 0.6117276 ,\n",
       "         0.58649766, 0.41394648, 0.56914645, 0.61084324, 0.45102951,\n",
       "         0.46084613, 0.50067341, 0.71947742, 0.67185771, 0.6416319 ,\n",
       "         0.55304521, 0.45820865, 0.40497655, 0.55414146, 0.66953248,\n",
       "         0.43325886, 0.45311356, 0.7039814 , 0.9054091 , 0.63097709,\n",
       "         0.50443786, 0.48735091, 0.40326998, 0.69797581, 0.49716288,\n",
       "         0.45811954, 0.47570896, 0.44190514, 0.52110773, 0.54204756,\n",
       "         0.69627476, 0.74304676, 0.55862498, 0.5634293 , 0.58952284,\n",
       "         0.50235653, 0.41007724, 0.46233514, 0.61371964, 0.72855526,\n",
       "         0.54456496, 0.67220604, 0.72240567, 0.67250687, 0.47821823,\n",
       "         0.46850416, 0.65326548, 0.49960089, 0.55004615, 0.45228255,\n",
       "         0.41561696, 0.6839819 , 0.4533627 , 0.43019411, 0.52583814,\n",
       "         0.48863435, 0.61213195, 0.42885894, 0.43922833, 0.48157591,\n",
       "         0.5093292 , 0.72212118, 0.45276788, 0.47257382, 0.5185411 ,\n",
       "         0.42495057]),\n",
       "  'cluster_silhouette': array([-0.99994182,  0.11635181,  0.06505359,  0.24126875,  0.54395878,\n",
       "          0.29953129,  0.17457771,  0.31242122, -0.05433562,  0.11128846,\n",
       "          0.36348942,  0.7629001 ,  0.73735811,  0.44007413,  0.61040751,\n",
       "          0.0463873 ,  0.28968335,  0.17920828,  0.30337797,  0.75712867,\n",
       "          0.60447196,  0.62677576,  0.29258935,  0.77481629, -0.14219956,\n",
       "          0.24180218,  0.49253685,  0.69009951,  0.3992401 ,  0.00555324,\n",
       "          0.61736077,  0.70057631,  0.27348974, -0.22836391,  0.42279156,\n",
       "          0.39250739,  0.02959151,  0.44213217,  0.47427304,  0.56609787,\n",
       "          0.66281099,  0.46681358, -0.15295395,  0.55730694,  0.21798652,\n",
       "         -0.37643306,  0.47545444,  0.66827252,  0.76224192,  0.29004604,\n",
       "         -0.26426932,  0.40339473,  0.55635602,  0.53374206,  0.77048114,\n",
       "         -0.00840895,  0.14773671, -0.03751394,  0.42156838,  0.32440691,\n",
       "          0.3496576 ,  0.60553566,  0.21395774,  0.81542284,  0.80064154,\n",
       "          0.75001189,  0.79396707, -0.19080886,  0.63518963,  0.57792786,\n",
       "          0.57853038,  0.18432507,  0.75685567,  0.36750632,  0.67656468,\n",
       "          0.77508257,  0.34769718,  0.16617369,  0.5417977 ,  0.65038445,\n",
       "          0.60364783,  0.67378921,  0.2678829 ,  0.69393185,  0.33189441,\n",
       "         -0.08318241,  0.77372909,  0.33327951,  0.5913725 ,  0.22100088,\n",
       "          0.15089277, -0.05083787,  0.15887382,  0.82920872,  0.18473974,\n",
       "          0.66561911,  0.57353447,  0.62939099,  0.77220265,  0.22689025,\n",
       "          0.49588215, -0.18478038, -0.17175022,  0.19176437,  0.80508472,\n",
       "          0.87750134, -0.26563704,  0.85561237, -0.26285077,  0.30068858,\n",
       "          0.14930649,  0.45996918, -0.4801945 , -0.11897076,  0.07116223,\n",
       "          0.3658038 ,  0.78699332,  0.87882547,  0.78026748, -0.12759389,\n",
       "         -0.05720338,  0.4875225 ,  0.01425355,  0.5792273 , -0.25922398,\n",
       "          0.88404811,  0.0676673 ,  0.89179447, -0.10921653,  0.92528543,\n",
       "         -0.13753215, -0.08281424,  0.09869324, -0.21989436, -0.35499366,\n",
       "         -0.17322237,  0.78634389, -0.24836675,  0.22314516,  0.85454629,\n",
       "          0.6089613 ,  0.01367824, -0.3450482 ,  0.13700202,  0.58420118,\n",
       "          0.06099062,  0.19520697,  0.80986571,  0.31707868,  0.07052394,\n",
       "          0.71446846,  0.32877109,  0.42643042,  0.78741017,  0.41058696,\n",
       "          0.56211461,  0.859878  ,  0.12671787,  0.74817799,  0.5500145 ,\n",
       "          0.78269512, -0.48545196,  0.08923853,  0.36776463, -0.42496862,\n",
       "          0.26026528, -0.26410889,  0.3264543 , -0.15907804,  0.55989777,\n",
       "          0.37405129,  0.87331809, -0.09476945,  0.13478605,  0.44455937,\n",
       "          0.50408354, -0.48774359,  0.20221757, -0.19662911,  0.29989856,\n",
       "          0.64707163,  0.74473055,  0.82493034, -0.40351618, -0.09778049,\n",
       "          0.76566743,  0.60610407,  0.78863517,  0.42286658,  0.72815226,\n",
       "          0.65618093,  0.67611788,  0.63389237,  0.54429818,  0.54289756,\n",
       "         -0.19818472, -0.33214749,  0.67884872, -0.21250803, -0.42931175,\n",
       "          0.84957956,  0.8814603 ,  0.44689783, -0.48621471,  0.72450227,\n",
       "          0.47780152, -0.22087866,  0.46362736,  0.63980398,  0.57529923,\n",
       "         -0.2424536 ,  0.61863524,  0.474056  ,  0.7279059 ,  0.25179352,\n",
       "          0.86680621, -0.48263093, -0.07874643,  0.79604195,  0.87447634,\n",
       "          0.37672894,  0.70204024,  0.26258473, -0.22823295,  0.78815753,\n",
       "          0.64565596,  0.69481638, -0.42714938,  0.11304612,  1.        ,\n",
       "          0.02357617,  0.27074442, -0.34495297,  0.78139532, -0.1057173 ,\n",
       "          0.61539744,  0.42545175,  0.68227309,  0.02576789,  0.82533709,\n",
       "          0.47355201, -0.14131797,  0.49686644,  0.17881677,  0.50964118,\n",
       "         -0.0062958 ,  0.09638949, -0.41193968,  0.10708026,  0.0409494 ,\n",
       "          0.6867974 ,  0.5049771 , -0.21299597,  0.047357  ,  0.76643582,\n",
       "          0.16770221,  0.83006837,  0.21436836,  0.81468626,  0.031316  ,\n",
       "          0.739804  ,  0.14803037,  0.12982057, -0.12833201, -0.17030415,\n",
       "         -0.19734095,  0.19952497,  1.        ,  0.65860215,  0.45550344,\n",
       "          0.37351087,  0.75092784, -0.48693454, -0.31766941, -0.04729445,\n",
       "         -0.08344226,  0.08589938,  0.50981447,  0.32528453,  0.78589698,\n",
       "          0.15888734, -0.47859392,  0.51675259, -0.45280641, -0.59819664,\n",
       "          1.        ,  0.88447092,  0.34367198,  0.81012968, -0.32219228,\n",
       "          0.53195089, -0.41613151,  0.56851885,  0.55255472,  0.43731409,\n",
       "          0.40871406,  0.37458843,  0.11061901, -0.20924951, -0.32157827,\n",
       "          0.33934791,  0.57992994,  0.07921434, -0.18879517, -0.48172473,\n",
       "          0.17278945,  0.3755487 ,  0.52276105, -0.02859538, -0.29602319,\n",
       "         -0.17121427,  0.69756338,  0.68202637,  0.26584117, -0.46815539,\n",
       "          0.62346519, -0.41548061,  0.31844495,  0.14091705,  0.08042299,\n",
       "         -0.25667306,  0.26267654,  0.2802514 ,  0.00447246,  0.37060877,\n",
       "         -0.3280745 , -0.03642828,  0.1864876 ,  0.56460698,  0.25806106,\n",
       "          0.19734988,  0.57861964,  0.03762601,  0.02040339,  0.34484251,\n",
       "         -0.16817604, -0.03640804,  0.58780085,  0.43623286,  0.24685408,\n",
       "          0.21973786,  0.65510985, -0.09221825,  0.38207424, -0.29290094,\n",
       "         -0.34439755, -0.23924095,  0.0482212 ,  0.12293433,  0.01301265,\n",
       "          0.14223996,  0.69385438, -0.07041849,  0.77737642,  0.48868173,\n",
       "          0.40502456, -0.46587263,  0.46132262,  0.76462633, -0.04870157,\n",
       "          0.50046944,  0.30556494,  0.74735911,  0.84466285,  0.13394233,\n",
       "          0.76956296,  0.72210689, -0.25878853,  0.27740028,  0.57635966,\n",
       "          0.55440747,  0.74639007,  0.69931087,  0.53741452, -0.07945189,\n",
       "         -0.42374747,  0.97862143, -0.26015125,  0.76727109,  0.69190171,\n",
       "          0.6200057 ]),\n",
       "  'sample_silhouette': array([-0.89853963,  0.93793244,  0.00426   , ..., -0.89807139,\n",
       "         -0.89711925, -0.89778852]),\n",
       "  'hdbscan': None,\n",
       "  'sequentialHungarian': {'performance_recall': 0.0798611111111111,\n",
       "   'performance_precision': 0.03035444947209653,\n",
       "   'performance_f1': 0.043989071038251365,\n",
       "   'performance_accuracy': 0.0224891744657075}}}"
      ]
     },
     "execution_count": 99,
     "metadata": {},
     "output_type": "execute_result"
    }
   ],
   "source": [
    "roicat"
   ]
  },
  {
   "cell_type": "code",
   "execution_count": null,
   "metadata": {},
   "outputs": [],
   "source": [
    "# ucids in list of lists for requested sessions\n",
    "ucids = [[[] for _ in range(num_ses)] for _ in range(num_planes)]\n",
    "for planeidx, results in enumerate([self.results[p] for p in keepPlanes]):\n",
    "    for sesidx, idx in enumerate(idx_ses):\n",
    "        ucids[planeidx][sesidx] = results['clusters']['labels_bySession'][idx]\n",
    "\n",
    "# this is the number of unique IDs per plane\n",
    "num_ucids = [max([np.max(u) for u in ucid])+1 for ucid in ucids]\n",
    "\n",
    "# this is a boolean array of size (number unique IDs x num sessions) where there is a 1 if a unique ROI is found in each session\n",
    "roicat_index = [np.zeros((nucids, num_ses), dtype=bool) for nucids in num_ucids]\n",
    "for planeidx, ucid in enumerate(ucids):\n",
    "    for sesidx, uc in enumerate(ucid):\n",
    "        cindex = uc[uc >= 0] # index of ROIs found in this session\n",
    "        roicat_index[planeidx][cindex, sesidx] = True # label found ROI with True\n",
    "\n",
    "return ucids, roicat_index\n",
    "\n",
    "    # get ucids and 1s index for requested sessions\n",
    "    ucids, roicat_index = self.prepare_tracking_idx(idx_ses=idx_ses, keepPlanes=keepPlanes)\n",
    "    \n",
    "    # list of UCIDs in all requested sessions (a list of the UCIDs...)\n",
    "    idx_in_ses = [np.where(np.all(rindex, axis=1))[0] for rindex in roicat_index]\n",
    "    \n",
    "    # For each plane & session, a sorted index to the suite2p ROI to recreate the list of UCIDs\n",
    "    idx_to_ucid = [[helpers.index_in_target(iis, uc)[1] for uc in ucid] for (iis, ucid) in zip(idx_in_ses, ucids)]\n",
    "    \n",
    "    # cumulative number of ROIs before eacg plane (in numeric order of planes using sorted(self.plane_names))\n",
    "    roi_per_plane = self.roi_per_plane[keepPlanes][:, idx_ses]\n",
    "    roi_plane_offset = np.cumsum(np.vstack((np.zeros((1,num_ses),dtype=int), roi_per_plane[:-1])), axis=0)\n",
    "\n",
    "    # A straightforward numpy array of (numSessions, numROIs) containing the indices to retrieve tracked and sorted ROIs\n",
    "    return np.concatenate([np.stack([offset+ucid for offset, ucid in zip(offsets, ucids)], axis=1) for offsets, ucids in zip(roi_plane_offset, idx_to_ucid)], axis=0).T"
   ]
  },
  {
   "cell_type": "code",
   "execution_count": null,
   "metadata": {},
   "outputs": [],
   "source": []
  },
  {
   "cell_type": "code",
   "execution_count": null,
   "metadata": {},
   "outputs": [],
   "source": []
  },
  {
   "cell_type": "code",
   "execution_count": null,
   "metadata": {},
   "outputs": [],
   "source": []
  },
  {
   "cell_type": "code",
   "execution_count": null,
   "metadata": {},
   "outputs": [],
   "source": []
  },
  {
   "cell_type": "code",
   "execution_count": null,
   "metadata": {},
   "outputs": [],
   "source": []
  },
  {
   "cell_type": "code",
   "execution_count": null,
   "metadata": {},
   "outputs": [],
   "source": []
  },
  {
   "cell_type": "code",
   "execution_count": null,
   "metadata": {},
   "outputs": [],
   "source": []
  },
  {
   "cell_type": "code",
   "execution_count": null,
   "metadata": {},
   "outputs": [],
   "source": []
  },
  {
   "cell_type": "code",
   "execution_count": null,
   "metadata": {},
   "outputs": [],
   "source": []
  },
  {
   "cell_type": "code",
   "execution_count": null,
   "metadata": {},
   "outputs": [],
   "source": []
  },
  {
   "cell_type": "code",
   "execution_count": null,
   "metadata": {},
   "outputs": [],
   "source": []
  },
  {
   "cell_type": "code",
   "execution_count": null,
   "metadata": {},
   "outputs": [],
   "source": []
  },
  {
   "cell_type": "code",
   "execution_count": null,
   "metadata": {},
   "outputs": [],
   "source": []
  },
  {
   "cell_type": "code",
   "execution_count": null,
   "metadata": {},
   "outputs": [],
   "source": []
  },
  {
   "cell_type": "code",
   "execution_count": null,
   "metadata": {},
   "outputs": [],
   "source": [
    "# Note: remove multipage tiff from: C:\\Users\\Andrew\\Documents\\localData\\ATL012\\2023-02-09\\701\\suite2p"
   ]
  },
  {
   "cell_type": "code",
   "execution_count": null,
   "metadata": {},
   "outputs": [
    {
     "name": "stdout",
     "output_type": "stream",
     "text": [
      "ATL012/2023-02-07/701\n"
     ]
    }
   ],
   "source": [
    "ises = sessiondb.iterSessions(imaging=True, experimentID=2, mouseName='ATL012')\n",
    "ses = np.random.choice(ises)\n",
    "print(ses.sessionPrint())"
   ]
  },
  {
   "cell_type": "code",
   "execution_count": null,
   "metadata": {},
   "outputs": [
    {
     "name": "stdout",
     "output_type": "stream",
     "text": [
      "ATL012/2023-02-15/701\n"
     ]
    }
   ],
   "source": [
    "ses = session.vrExperiment('ATL012', '2023-02-15', '701')\n",
    "print(ses.sessionPrint())"
   ]
  },
  {
   "cell_type": "code",
   "execution_count": null,
   "metadata": {},
   "outputs": [],
   "source": [
    "from PIL import Image\n",
    "\n",
    "def save_ref_as_tiff(ses, image='meanImg_chan2'):\n",
    "    ops = ses.loadS2P('ops')\n",
    "    expected_shape = [(op['Ly'], op['Lx']) for op in ops]\n",
    "    reference = [op[image] for op in ops]\n",
    "    assert all([ref.shape==shape for ref, shape in zip(reference, expected_shape)]), f\"shapes don't match, are you sure that {image} is an image?\"\n",
    "    ref_image = [Image.fromarray(ref) for ref in reference]\n",
    "    for plane_name, im in zip(ses.value['planeNames'], ref_image):\n",
    "        im.save(ses.suite2pPath() / f\"{image}_{plane_name}.tif\")\n",
    "    return reference\n",
    "\n",
    "reference = save_ref_as_tiff(ses)\n"
   ]
  },
  {
   "cell_type": "code",
   "execution_count": null,
   "metadata": {},
   "outputs": [],
   "source": []
  },
  {
   "cell_type": "code",
   "execution_count": null,
   "metadata": {},
   "outputs": [],
   "source": []
  },
  {
   "cell_type": "code",
   "execution_count": null,
   "metadata": {},
   "outputs": [],
   "source": [
    "# Develop some code for behavioral analysis here!"
   ]
  },
  {
   "cell_type": "code",
   "execution_count": null,
   "metadata": {},
   "outputs": [],
   "source": []
  },
  {
   "cell_type": "code",
   "execution_count": null,
   "id": "5b6eb31f-c429-4410-9da7-382532f37c19",
   "metadata": {},
   "outputs": [],
   "source": [
    "track = tracking.tracker('ATL012') # get tracker object for mouse\n",
    "pcm = analysis.placeCellMultiSession(track, autoload=False) # open up place cell multi session analysis object (don't autoload!!!)"
   ]
  },
  {
   "cell_type": "code",
   "execution_count": null,
   "metadata": {},
   "outputs": [
    {
     "name": "stdout",
     "output_type": "stream",
     "text": [
      "[1 3 4]\n"
     ]
    },
    {
     "name": "stderr",
     "output_type": "stream",
     "text": [
      "c:\\Users\\Andrew\\AppData\\Local\\miniforge3\\envs\\vrAnalysis\\lib\\site-packages\\scipy\\stats\\_stats_py.py:9205: RuntimeWarning: invalid value encountered in scalar divide\n",
      "  z = (s - expected) / np.sqrt(n1*n2*(n1+n2+1)/12.0)\n"
     ]
    },
    {
     "ename": "ValueError",
     "evalue": "operands could not be broadcast together with shapes (0,40) (0,80) ",
     "output_type": "error",
     "traceback": [
      "\u001b[1;31m---------------------------------------------------------------------------\u001b[0m",
      "\u001b[1;31mValueError\u001b[0m                                Traceback (most recent call last)",
      "\u001b[1;32mc:\\Users\\Andrew\\Documents\\GitHub\\vrAnalysis\\workspace.ipynb Cell 5\u001b[0m line \u001b[0;36m1\n\u001b[0;32m     <a href='vscode-notebook-cell:/c%3A/Users/Andrew/Documents/GitHub/vrAnalysis/workspace.ipynb#W4sZmlsZQ%3D%3D?line=9'>10</a>\u001b[0m \u001b[39mfor\u001b[39;00m sb \u001b[39min\u001b[39;00m sortby:\n\u001b[0;32m     <a href='vscode-notebook-cell:/c%3A/Users/Andrew/Documents/GitHub/vrAnalysis/workspace.ipynb#W4sZmlsZQ%3D%3D?line=10'>11</a>\u001b[0m     \u001b[39m# pcm.plot_rel_comparison(envnum, idx_ses=None, sortby=sb, rel_method='pc', withShow=False, withSave=True)\u001b[39;00m\n\u001b[0;32m     <a href='vscode-notebook-cell:/c%3A/Users/Andrew/Documents/GitHub/vrAnalysis/workspace.ipynb#W4sZmlsZQ%3D%3D?line=11'>12</a>\u001b[0m     \u001b[39m# pcm.plot_snake(envnum, idx_ses=None, sortby=sb, cutoffs=cutoffs, method='max', normalize=-80, rewzone=True, withShow=False, withSave=True)\u001b[39;00m\n\u001b[0;32m     <a href='vscode-notebook-cell:/c%3A/Users/Andrew/Documents/GitHub/vrAnalysis/workspace.ipynb#W4sZmlsZQ%3D%3D?line=12'>13</a>\u001b[0m     \u001b[39mpass\u001b[39;00m\n\u001b[1;32m---> <a href='vscode-notebook-cell:/c%3A/Users/Andrew/Documents/GitHub/vrAnalysis/workspace.ipynb#W4sZmlsZQ%3D%3D?line=13'>14</a>\u001b[0m pcm\u001b[39m.\u001b[39;49mplot_pfplasticity(envnum, idx_ses\u001b[39m=\u001b[39;49m\u001b[39mNone\u001b[39;49;00m, cutoffs\u001b[39m=\u001b[39;49mcutoffs, both_reliable\u001b[39m=\u001b[39;49m\u001b[39mFalse\u001b[39;49;00m, withShow\u001b[39m=\u001b[39;49m\u001b[39mFalse\u001b[39;49;00m, withSave\u001b[39m=\u001b[39;49m\u001b[39mTrue\u001b[39;49;00m)\n\u001b[0;32m     <a href='vscode-notebook-cell:/c%3A/Users/Andrew/Documents/GitHub/vrAnalysis/workspace.ipynb#W4sZmlsZQ%3D%3D?line=14'>15</a>\u001b[0m pcm\u001b[39m.\u001b[39mplot_pfplasticity(envnum, idx_ses\u001b[39m=\u001b[39m\u001b[39mNone\u001b[39;00m, cutoffs\u001b[39m=\u001b[39mcutoffs, both_reliable\u001b[39m=\u001b[39m\u001b[39mTrue\u001b[39;00m, withShow\u001b[39m=\u001b[39m\u001b[39mFalse\u001b[39;00m, withSave\u001b[39m=\u001b[39m\u001b[39mTrue\u001b[39;00m)\n\u001b[0;32m     <a href='vscode-notebook-cell:/c%3A/Users/Andrew/Documents/GitHub/vrAnalysis/workspace.ipynb#W4sZmlsZQ%3D%3D?line=15'>16</a>\u001b[0m pcm\u001b[39m.\u001b[39mplot_pfreliability(envnum, idx_ses\u001b[39m=\u001b[39m\u001b[39mNone\u001b[39;00m, cutoffs\u001b[39m=\u001b[39m\u001b[39mNone\u001b[39;00m, reduction\u001b[39m=\u001b[39m\u001b[39m'\u001b[39m\u001b[39mmedian\u001b[39m\u001b[39m'\u001b[39m, withShow\u001b[39m=\u001b[39m\u001b[39mFalse\u001b[39;00m, withSave\u001b[39m=\u001b[39m\u001b[39mTrue\u001b[39;00m)\n",
      "File \u001b[1;32mc:\\Users\\Andrew\\Documents\\GitHub\\vrAnalysis\\vrAnalysis\\analysis\\placeCellMultiSession.py:1005\u001b[0m, in \u001b[0;36mplaceCellMultiSession.plot_pfplasticity\u001b[1;34m(self, envnum, idx_ses, cutoffs, both_reliable, reduction, min_mse, withShow, withSave)\u001b[0m\n\u001b[0;32m   1003\u001b[0m \u001b[39mdef\u001b[39;00m \u001b[39mplot_pfplasticity\u001b[39m(\u001b[39mself\u001b[39m, envnum, idx_ses\u001b[39m=\u001b[39m\u001b[39mNone\u001b[39;00m, cutoffs\u001b[39m=\u001b[39m(\u001b[39m0.5\u001b[39m, \u001b[39m0.8\u001b[39m), both_reliable\u001b[39m=\u001b[39m\u001b[39mFalse\u001b[39;00m, reduction\u001b[39m=\u001b[39m\u001b[39m'\u001b[39m\u001b[39mmean\u001b[39m\u001b[39m'\u001b[39m, min_mse\u001b[39m=\u001b[39m\u001b[39m-\u001b[39m\u001b[39m8\u001b[39m, withShow\u001b[39m=\u001b[39m\u001b[39mTrue\u001b[39;00m, withSave\u001b[39m=\u001b[39m\u001b[39mFalse\u001b[39;00m):\n\u001b[0;32m   1004\u001b[0m     idx_ses \u001b[39m=\u001b[39m \u001b[39mself\u001b[39m\u001b[39m.\u001b[39midx_ses_with_env(envnum) \u001b[39mif\u001b[39;00m idx_ses \u001b[39mis\u001b[39;00m \u001b[39mNone\u001b[39;00m \u001b[39melse\u001b[39;00m idx_ses\n\u001b[1;32m-> 1005\u001b[0m     r2, pc, r2_stat, pc_stat, target_red, sortby_red \u001b[39m=\u001b[39m \u001b[39mself\u001b[39;49m\u001b[39m.\u001b[39;49mmeasure_pfplasticity(envnum, idx_ses\u001b[39m=\u001b[39;49midx_ses, cutoffs\u001b[39m=\u001b[39;49mcutoffs, both_reliable\u001b[39m=\u001b[39;49mboth_reliable)\n\u001b[0;32m   1006\u001b[0m     num_ses \u001b[39m=\u001b[39m \u001b[39mlen\u001b[39m(idx_ses)\n\u001b[0;32m   1008\u001b[0m     \u001b[39m# put the difference and pval in a numpy array\u001b[39;00m\n",
      "File \u001b[1;32mc:\\Users\\Andrew\\Documents\\GitHub\\vrAnalysis\\vrAnalysis\\analysis\\placeCellMultiSession.py:461\u001b[0m, in \u001b[0;36mplaceCellMultiSession.measure_pfplasticity\u001b[1;34m(self, envnum, idx_ses, cutoffs, both_reliable)\u001b[0m\n\u001b[0;32m    459\u001b[0m st \u001b[39m=\u001b[39m snake_target \u001b[39m/\u001b[39m (dv_target \u001b[39m+\u001b[39m \u001b[39m1\u001b[39m\u001b[39m*\u001b[39m(dv_target\u001b[39m==\u001b[39m\u001b[39m0\u001b[39m))\n\u001b[0;32m    460\u001b[0m ss \u001b[39m=\u001b[39m snake_sortby \u001b[39m/\u001b[39m (dv_sortby \u001b[39m+\u001b[39m \u001b[39m1\u001b[39m\u001b[39m*\u001b[39m(dv_sortby\u001b[39m==\u001b[39m\u001b[39m0\u001b[39m))\n\u001b[1;32m--> 461\u001b[0m cc_r2 \u001b[39m=\u001b[39m helpers\u001b[39m.\u001b[39;49mvectorRSquared(ss, st, axis\u001b[39m=\u001b[39;49m\u001b[39m1\u001b[39;49m)\n\u001b[0;32m    462\u001b[0m cc_r2[cc_r2\u001b[39m==\u001b[39m\u001b[39m-\u001b[39mnp\u001b[39m.\u001b[39minf] \u001b[39m=\u001b[39m np\u001b[39m.\u001b[39mnan\n\u001b[0;32m    463\u001b[0m \u001b[39m# also get correlation\u001b[39;00m\n",
      "File \u001b[1;32mc:\\Users\\Andrew\\Documents\\GitHub\\vrAnalysis\\vrAnalysis\\helpers.py:186\u001b[0m, in \u001b[0;36mvectorRSquared\u001b[1;34m(x, y, axis)\u001b[0m\n\u001b[0;32m    180\u001b[0m \u001b[39mdef\u001b[39;00m \u001b[39mvectorRSquared\u001b[39m(x,y,axis\u001b[39m=\u001b[39m\u001b[39m-\u001b[39m\u001b[39m1\u001b[39m):\n\u001b[0;32m    181\u001b[0m \u001b[39m    \u001b[39m\u001b[39m\"\"\"\u001b[39;00m\n\u001b[0;32m    182\u001b[0m \u001b[39m    get r squared between x and y across a particular axis\u001b[39;00m\n\u001b[0;32m    183\u001b[0m \u001b[39m    treats x as the predictor and y as the data (e.g. SS_total comes from y)\u001b[39;00m\n\u001b[0;32m    184\u001b[0m \u001b[39m    broadcasting rules apply\u001b[39;00m\n\u001b[0;32m    185\u001b[0m \u001b[39m    \"\"\"\u001b[39;00m\n\u001b[1;32m--> 186\u001b[0m     ss_residual \u001b[39m=\u001b[39m np\u001b[39m.\u001b[39msum((y\u001b[39m-\u001b[39;49mx)\u001b[39m*\u001b[39m\u001b[39m*\u001b[39m\u001b[39m2\u001b[39m, axis\u001b[39m=\u001b[39maxis)\n\u001b[0;32m    187\u001b[0m     ss_total \u001b[39m=\u001b[39m np\u001b[39m.\u001b[39msum((y \u001b[39m-\u001b[39m np\u001b[39m.\u001b[39mmean(y, axis\u001b[39m=\u001b[39maxis, keepdims\u001b[39m=\u001b[39m\u001b[39mTrue\u001b[39;00m))\u001b[39m*\u001b[39m\u001b[39m*\u001b[39m\u001b[39m2\u001b[39m, axis\u001b[39m=\u001b[39maxis)\n\u001b[0;32m    188\u001b[0m     ss_total[ss_total\u001b[39m==\u001b[39m\u001b[39m0\u001b[39m] \u001b[39m=\u001b[39m np\u001b[39m.\u001b[39mnan\n",
      "\u001b[1;31mValueError\u001b[0m: operands could not be broadcast together with shapes (0,40) (0,80) "
     ]
    }
   ],
   "source": [
    "cutoffs = (0.2, 0.5)\n",
    "maxcutoffs = None\n",
    "\n",
    "envs = pcm.environments[pcm.environments > 0]\n",
    "print(envs)\n",
    "\n",
    "for envnum in pcm.environments[pcm.environments > 0]:\n",
    "    idx_ses = pcm.idx_ses_with_env(envnum)\n",
    "    sortby = [idx_ses[i] for i in [1, int(len(idx_ses)*0.5), -1]]\n",
    "    for sb in sortby:\n",
    "        # pcm.plot_rel_comparison(envnum, idx_ses=None, sortby=sb, rel_method='pc', withShow=False, withSave=True)\n",
    "        # pcm.plot_snake(envnum, idx_ses=None, sortby=sb, cutoffs=cutoffs, method='max', normalize=-80, rewzone=True, withShow=False, withSave=True)\n",
    "        pass\n",
    "    pcm.plot_pfplasticity(envnum, idx_ses=None, cutoffs=cutoffs, both_reliable=False, withShow=False, withSave=True)\n",
    "    pcm.plot_pfplasticity(envnum, idx_ses=None, cutoffs=cutoffs, both_reliable=True, withShow=False, withSave=True)\n",
    "    pcm.plot_pfreliability(envnum, idx_ses=None, cutoffs=None, reduction='median', withShow=False, withSave=True)\n",
    "    pcm.compare_pfplasticity(envnum, idx_ses=None, cutoffs=cutoffs, both_reliable=False, withShow=False, withSave=True) \n",
    "    pcm.compare_pfplasticity(envnum, idx_ses=None, cutoffs=cutoffs, both_reliable=True, withShow=False, withSave=True) \n",
    "    pcm.plot_rel_plasticity(envnum, idx_ses=None, cutoffs=cutoffs, maxcutoffs=maxcutoffs, withShow=False, withSave=True)\n",
    "    # for present in ['r2', 'pc']:\n",
    "    #     pcm.hist_pfplasticity(envnum, idx_ses=None, cutoffs=cutoffs, present=present, split_red=True, withShow=False, withSave=True)"
   ]
  },
  {
   "cell_type": "code",
   "execution_count": null,
   "metadata": {},
   "outputs": [],
   "source": []
  },
  {
   "cell_type": "code",
   "execution_count": null,
   "metadata": {},
   "outputs": [
    {
     "name": "stderr",
     "output_type": "stream",
     "text": [
      "100%|██████████| 3/3 [00:45<00:00, 15.10s/it]\n"
     ]
    },
    {
     "ename": "AssertionError",
     "evalue": "reward positions are not consistent: ([112.5, 162.5])",
     "output_type": "error",
     "traceback": [
      "\u001b[1;31m---------------------------------------------------------------------------\u001b[0m",
      "\u001b[1;31mAssertionError\u001b[0m                            Traceback (most recent call last)",
      "\u001b[1;32mc:\\Users\\Andrew\\Documents\\GitHub\\vrAnalysis\\workspace.ipynb Cell 5\u001b[0m line \u001b[0;36m1\n\u001b[1;32m----> <a href='vscode-notebook-cell:/c%3A/Users/Andrew/Documents/GitHub/vrAnalysis/workspace.ipynb#X54sZmlsZQ%3D%3D?line=0'>1</a>\u001b[0m pcm\u001b[39m.\u001b[39;49mplot_snake(\u001b[39m3\u001b[39;49m, cutoffs\u001b[39m=\u001b[39;49m(\u001b[39m0.2\u001b[39;49m, \u001b[39m0.5\u001b[39;49m), withShow\u001b[39m=\u001b[39;49m\u001b[39mTrue\u001b[39;49;00m);\n",
      "File \u001b[1;32mc:\\Users\\Andrew\\Documents\\GitHub\\vrAnalysis\\vrAnalysis\\analysis\\placeCellMultiSession.py:546\u001b[0m, in \u001b[0;36mplaceCellMultiSession.plot_snake\u001b[1;34m(self, envnum, idx_ses, sortby, cutoffs, maxcutoffs, sort_by_red, method, normalize, rewzone, interpolation, withShow, withSave)\u001b[0m\n\u001b[0;32m    544\u001b[0m rewPos \u001b[39m=\u001b[39m \u001b[39mlist\u001b[39m(\u001b[39mset\u001b[39m([rp[ei] \u001b[39mfor\u001b[39;00m rp, ei \u001b[39min\u001b[39;00m \u001b[39mzip\u001b[39m(rewPos, envidx)]))\n\u001b[0;32m    545\u001b[0m rewHW \u001b[39m=\u001b[39m \u001b[39mlist\u001b[39m(\u001b[39mset\u001b[39m([rh[ei] \u001b[39mfor\u001b[39;00m rh, ei \u001b[39min\u001b[39;00m \u001b[39mzip\u001b[39m(rewHW, envidx)]))\n\u001b[1;32m--> 546\u001b[0m \u001b[39massert\u001b[39;00m \u001b[39mlen\u001b[39m(rewPos)\u001b[39m==\u001b[39m\u001b[39m1\u001b[39m, \u001b[39mf\u001b[39m\u001b[39m\"\u001b[39m\u001b[39mreward positions are not consistent: (\u001b[39m\u001b[39m{\u001b[39;00mrewPos\u001b[39m}\u001b[39;00m\u001b[39m)\u001b[39m\u001b[39m\"\u001b[39m\n\u001b[0;32m    547\u001b[0m \u001b[39massert\u001b[39;00m \u001b[39mlen\u001b[39m(rewHW)\u001b[39m==\u001b[39m\u001b[39m1\u001b[39m, \u001b[39mf\u001b[39m\u001b[39m\"\u001b[39m\u001b[39mreward halfwidths are not consistent: (\u001b[39m\u001b[39m{\u001b[39;00mrewHW\u001b[39m}\u001b[39;00m\u001b[39m)\u001b[39m\u001b[39m\"\u001b[39m\n\u001b[0;32m    548\u001b[0m rect \u001b[39m=\u001b[39m [mpl\u001b[39m.\u001b[39mpatches\u001b[39m.\u001b[39mRectangle((rewPos[\u001b[39m0\u001b[39m]\u001b[39m-\u001b[39mrewHW[\u001b[39m0\u001b[39m], \u001b[39m0\u001b[39m), rewHW[\u001b[39m0\u001b[39m]\u001b[39m*\u001b[39m\u001b[39m2\u001b[39m, sd\u001b[39m.\u001b[39mshape[\u001b[39m0\u001b[39m], edgecolor\u001b[39m=\u001b[39m\u001b[39m'\u001b[39m\u001b[39mnone\u001b[39m\u001b[39m'\u001b[39m, facecolor\u001b[39m=\u001b[39m\u001b[39m'\u001b[39m\u001b[39mk\u001b[39m\u001b[39m'\u001b[39m, alpha\u001b[39m=\u001b[39m\u001b[39m0.2\u001b[39m) \u001b[39mfor\u001b[39;00m sd \u001b[39min\u001b[39;00m snake_data]\n",
      "\u001b[1;31mAssertionError\u001b[0m: reward positions are not consistent: ([112.5, 162.5])"
     ]
    }
   ],
   "source": [
    "pcm.plot_snake(3, cutoffs=(0.2, 0.5), withShow=True);"
   ]
  },
  {
   "cell_type": "code",
   "execution_count": null,
   "metadata": {},
   "outputs": [],
   "source": [
    "plt.close('all')\n",
    "pcm.plot_rel_comparison(1, idx_ses=None, sortby=8)"
   ]
  },
  {
   "cell_type": "code",
   "execution_count": null,
   "metadata": {},
   "outputs": [
    {
     "name": "stdout",
     "output_type": "stream",
     "text": [
      "[0, 1, 2, 3, 4, 5, 6, 7, 8, 9, 10, 11, 12, 13]\n",
      "[0, 13, 7]\n"
     ]
    }
   ],
   "source": [
    "idx_ses = pcm.idx_ses_with_env(3)\n",
    "print(idx_ses)\n",
    "sortby = [idx_ses[i] for i in [0, int(len(idx_ses)*0.5), -1]]\n",
    "print(sortby)\n",
    "        "
   ]
  },
  {
   "cell_type": "code",
   "execution_count": null,
   "metadata": {},
   "outputs": [],
   "source": []
  },
  {
   "cell_type": "code",
   "execution_count": null,
   "metadata": {},
   "outputs": [],
   "source": []
  },
  {
   "cell_type": "code",
   "execution_count": null,
   "metadata": {},
   "outputs": [],
   "source": []
  },
  {
   "cell_type": "code",
   "execution_count": null,
   "metadata": {},
   "outputs": [],
   "source": [
    "num_ses = len(skew)\n",
    "\n",
    "offset = 0.2\n",
    "ctl_positions = np.linspace(0, num_ses-1, num_ses) - offset\n",
    "red_positions = np.linspace(0, num_ses-1, num_ses) + offset\n",
    "\n",
    "plt.close('all')\n",
    "cvp = plt.violinplot([s[~ir] for s, ir in zip(skew, idx_red)], ctl_positions)\n",
    "rvp = plt.violinplot([s[ir] for s, ir in zip(skew, idx_red)], red_positions)\n",
    "# for pc in cvp['bodies']: pc.set_color('k')\n",
    "# for pc in rvp['bodies']: pc.set_color('r')\n",
    "plt.show()"
   ]
  },
  {
   "cell_type": "code",
   "execution_count": null,
   "metadata": {},
   "outputs": [],
   "source": [
    "x0 = np.random.normal(0,1,(10000,))\n",
    "y0 = np.random.normal(0,1,(10000,)) + x0\n",
    "x1 = np.random.normal(0,1,(10000,))-10\n",
    "y1 = np.random.normal(0,1,(10000,)) - x1\n",
    "\n",
    "all_x = np.concatenate((x0, x1))\n",
    "all_y = np.concatenate((y0, y1))\n",
    "extent = [all_x.min(), all_x.max(), all_y.min(), all_y.max()]\n",
    "range = [[all_x.min(), all_x.max()], [all_y.min(), all_y.max()]]\n",
    "\n",
    "num_bins = 25\n",
    "H1, xe, ye = np.histogram2d(x1, y1, bins=num_bins, range=range)\n",
    "H0, _, _ = np.histogram2d(x0, y0, bins=[xe,ye])\n",
    "H_diff = H1.T - H0.T\n",
    "\n",
    "extent = [xe.min(), xe.max(), ye.min(), ye.max()]\n",
    "xc, yc = helpers.edge2center(xe), helpers.edge2center(ye)\n",
    "\n",
    "# H_test = np.zeros((num_bins, num_bins))\n",
    "# H_test[0,0]=1\n",
    "# H_test[-1,0]=2\n",
    "# H_test[0,-1]=3\n",
    "# H_test[-1,-1]=4\n",
    "# H_test = H_test.T\n",
    "# print(H_test)\n",
    "\n",
    "plt.close('all')\n",
    "fig, ax = plt.subplots(1, 3, figsize=(9,3), layout='constrained', sharex=True, sharey=True)\n",
    "sns.histplot(x=x0, y=y0, bins=[xe, ye], pthresh=0, cmap=\"Blues\", ax=ax[0])\n",
    "sns.histplot(x=x1, y=y1, bins=[xe, ye], pthresh=0, cmap=\"Blues\", ax=ax[1])\n",
    "plt.imshow(H_diff, interpolation=None, aspect='auto', origin='lower', extent=extent, cmap=sns.color_palette(\"icefire\", as_cmap=True))\n",
    "plt.show()"
   ]
  },
  {
   "cell_type": "code",
   "execution_count": null,
   "id": "0c59a688-ab1d-4ce9-a394-da4082a10ff6",
   "metadata": {},
   "outputs": [],
   "source": [
    "# add methods to analysis documentation for pcm!!! (include explanation of idx_ses handling)"
   ]
  },
  {
   "cell_type": "code",
   "execution_count": null,
   "id": "4ae9a905-4e1d-4457-9ac0-8aee2100afc4",
   "metadata": {},
   "outputs": [],
   "source": [
    "# Now just need the skew plots and the reliability plots relative to other sessions"
   ]
  },
  {
   "cell_type": "code",
   "execution_count": null,
   "id": "b0c3e67b-9d75-4364-8389-c13469085b4e",
   "metadata": {},
   "outputs": [],
   "source": []
  },
  {
   "cell_type": "code",
   "execution_count": null,
   "id": "eacda761-db40-4231-967f-207eec20c6bc",
   "metadata": {},
   "outputs": [],
   "source": []
  },
  {
   "cell_type": "code",
   "execution_count": null,
   "id": "213362b2-0df1-4c94-98fc-c116f3311181",
   "metadata": {},
   "outputs": [],
   "source": []
  },
  {
   "cell_type": "code",
   "execution_count": null,
   "id": "2f9c9c5f-e121-42c9-a515-0c9beaafc53c",
   "metadata": {},
   "outputs": [],
   "source": []
  },
  {
   "cell_type": "code",
   "execution_count": null,
   "id": "8a664d70-de8c-44fd-a1c4-4d4bf6388542",
   "metadata": {},
   "outputs": [
    {
     "data": {
      "image/png": "[encoded data removed]",
      "text/plain": [
       "<Figure size 640x480 with 1 Axes>"
      ]
     },
     "metadata": {},
     "output_type": "display_data"
    }
   ],
   "source": [
    "idx_red = track.check_red_cell_consistency(idx_ses=idx_ses, keepPlanes=None, use_s2p=True)\n",
    "idx_has_red = idx_red[:, np.any(idx_red, axis=0)]\n",
    "idx_sort = np.argsort(-np.sum(idx_has_red,axis=0))\n",
    "idx_plot = idx_has_red[:, idx_sort]\n",
    "plt.close('all')\n",
    "plt.imshow(idx_plot, aspect='auto', interpolation='none')\n",
    "plt.show()"
   ]
  },
  {
   "cell_type": "code",
   "execution_count": null,
   "id": "71efb65e-f390-403d-b8c8-89f816683ebe",
   "metadata": {},
   "outputs": [
    {
     "data": {
      "image/png": "[encoded data removed]",
      "text/plain": [
       "<Figure size 640x480 with 1 Axes>"
      ]
     },
     "metadata": {},
     "output_type": "display_data"
    }
   ],
   "source": [
    "idx_red = track.check_red_cell_consistency(idx_ses=idx_ses, keepPlanes=None)\n",
    "idx_has_red = idx_red[:, np.sum(idx_red, axis=0)>0]\n",
    "idx_sort = np.argsort(-np.sum(idx_has_red,axis=0))\n",
    "idx_plot = idx_has_red[:, idx_sort]\n",
    "plt.close('all')\n",
    "plt.imshow(idx_plot, aspect='auto', interpolation='none')\n",
    "plt.show()"
   ]
  },
  {
   "cell_type": "code",
   "execution_count": null,
   "id": "35c15844-230b-4428-940c-3ba768fa60c8",
   "metadata": {},
   "outputs": [],
   "source": []
  },
  {
   "cell_type": "code",
   "execution_count": null,
   "id": "4a8c29ad-d229-468b-994d-60daa446d163",
   "metadata": {},
   "outputs": [],
   "source": []
  },
  {
   "cell_type": "code",
   "execution_count": null,
   "id": "a82e92fd-45f5-4d4c-bf2b-cc36e0fecfe4",
   "metadata": {},
   "outputs": [],
   "source": []
  },
  {
   "cell_type": "code",
   "execution_count": null,
   "id": "aae9c31e-793c-475d-b9f6-1131dcd8678b",
   "metadata": {},
   "outputs": [],
   "source": []
  },
  {
   "cell_type": "code",
   "execution_count": null,
   "id": "0dcd1a9c-0bc0-4da3-b608-d7d9342894d8",
   "metadata": {},
   "outputs": [],
   "source": []
  },
  {
   "cell_type": "code",
   "execution_count": null,
   "id": "fbf37659-8093-414a-83ab-38613aee581b",
   "metadata": {},
   "outputs": [],
   "source": []
  },
  {
   "cell_type": "code",
   "execution_count": null,
   "id": "105147fb-abb0-4e3a-b342-7e0a49278a1b",
   "metadata": {},
   "outputs": [],
   "source": []
  },
  {
   "cell_type": "code",
   "execution_count": null,
   "id": "548e7090-cccc-4b6b-934c-ae6305fe1f4a",
   "metadata": {},
   "outputs": [],
   "source": []
  },
  {
   "cell_type": "code",
   "execution_count": null,
   "id": "83dbe85a-f153-4621-a834-f69f3fb03b69",
   "metadata": {},
   "outputs": [],
   "source": []
  },
  {
   "cell_type": "code",
   "execution_count": null,
   "id": "1b5934ad-507d-47b7-af57-c99acd431200",
   "metadata": {},
   "outputs": [],
   "source": []
  },
  {
   "cell_type": "code",
   "execution_count": null,
   "id": "c1fcb8db-9aeb-425e-87b0-e890fe107f13",
   "metadata": {},
   "outputs": [],
   "source": []
  },
  {
   "cell_type": "code",
   "execution_count": null,
   "id": "971ce9b1-d5aa-46f7-98ec-9eff1bd68bf3",
   "metadata": {},
   "outputs": [],
   "source": []
  },
  {
   "cell_type": "code",
   "execution_count": null,
   "id": "645a6b79-666d-43b8-a6f9-2694815c8de3",
   "metadata": {},
   "outputs": [],
   "source": []
  }
 ],
 "metadata": {
  "kernelspec": {
   "display_name": "Python 3 (ipykernel)",
   "language": "python",
   "name": "python3"
  },
  "language_info": {
   "codemirror_mode": {
    "name": "ipython",
    "version": 3
   },
   "file_extension": ".py",
   "mimetype": "text/x-python",
   "name": "python",
   "nbconvert_exporter": "python",
   "pygments_lexer": "ipython3",
   "version": "3.9.19"
  }
 },
 "nbformat": 4,
 "nbformat_minor": 5
}
