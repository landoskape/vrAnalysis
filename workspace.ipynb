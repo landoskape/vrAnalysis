{
 "cells": [
  {
   "cell_type": "code",
   "execution_count": 1,
   "id": "62912f35-2f40-4d93-872e-439919754adf",
   "metadata": {},
   "outputs": [
    {
     "name": "stdout",
     "output_type": "stream",
     "text": [
      "Using device: cuda\n"
     ]
    }
   ],
   "source": [
    "%reload_ext autoreload\n",
    "%autoreload 2\n",
    "\n",
    "# %matplotlib widget\n",
    "\n",
    "%matplotlib qt\n",
    "\n",
    "# %gui qt\n",
    "\n",
    "import time\n",
    "import random\n",
    "from copy import copy\n",
    "from tqdm import tqdm\n",
    "from pathlib import Path\n",
    "import numpy as np\n",
    "import numba as nb\n",
    "import scipy as sp\n",
    "import torch\n",
    "import matplotlib as mpl\n",
    "import matplotlib.pyplot as plt\n",
    "import seaborn as sns\n",
    "import pandas as pd\n",
    "pd.options.display.width = 1000\n",
    "\n",
    "from vrAnalysis import session\n",
    "from vrAnalysis import registration\n",
    "from vrAnalysis import functions\n",
    "from vrAnalysis import analysis\n",
    "from vrAnalysis import helpers\n",
    "from vrAnalysis import fileManagement as fm\n",
    "from vrAnalysis import database\n",
    "from vrAnalysis import tracking\n",
    "\n",
    "from vrAnalysis.uiDatabase import addEntryGUI\n",
    "from vrAnalysis.redgui import redCellGUI as rgui\n",
    "\n",
    "sessiondb = database.vrDatabase('vrSessions')\n",
    "mousedb = database.vrDatabase('vrMice')\n",
    "\n",
    "device = \"cuda\" if torch.cuda.is_available() else \"cpu\"\n",
    "print(f\"Using device: {device}\")"
   ]
  },
  {
   "cell_type": "code",
   "execution_count": 10,
   "id": "1119caff-5d69-484e-bb16-cc6b820c7d88",
   "metadata": {
    "tags": []
   },
   "outputs": [],
   "source": [
    "# Database Requirements: \n",
    "# ---------------------\n",
    "# GUI: db manager\n",
    "# - click on entry and do things:\n",
    "#                --> open file explorer to that session\n",
    "#                --> do suite2p\n",
    "#                --> do red cell management\n",
    "# - update table data? \n",
    "# ---------------------\n",
    "# Operational Commands: \n",
    "# - Automatically do suite2p \n",
    "# - Check if registration was done before a suite2p update\n",
    "\n",
    "# Further Requirements:\n",
    "# ---------------------\n",
    "# ROICaT Alignment Tools \n",
    "# Track Red Cell Consistency across days \n",
    "# Now that I've refactored the database code, need to update some things in documentation and probably elsewhere too\n"
   ]
  },
  {
   "cell_type": "code",
   "execution_count": 56,
   "id": "5f846af3-d4a6-47e3-962b-680643416cb2",
   "metadata": {},
   "outputs": [],
   "source": [
    "# Notes from meeting with Kenneth:\n",
    "\n",
    "# - skewness (violin plot) of Control & Red -- \n",
    "#     - all - \n",
    "#     - just reliable -- for each session - \n",
    "\n",
    "# Subsample control data for scatter plot\n",
    "# Fisher z transformation (but label by original correlation...)\n",
    "# Question:\n",
    "# -- if reliable on 1 day, is it reliable on other days? \n",
    "# -- make a matrix with source and target, color by fraction of reliable on target out of those reliable on source\n",
    "# -- also do this with your session kernels for control and red\n",
    "# -- also do this for different reliability cutoffs"
   ]
  },
  {
   "cell_type": "code",
   "execution_count": 10,
   "id": "5b6eb31f-c429-4410-9da7-382532f37c19",
   "metadata": {},
   "outputs": [],
   "source": [
    "track = tracking.tracker('ATL028') # get tracker object for mouse\n",
    "pcm = analysis.placeCellMultiSession(track, autoload=False) # open up place cell multi session analysis object (don't autoload!!!)"
   ]
  },
  {
   "cell_type": "code",
   "execution_count": 13,
   "metadata": {},
   "outputs": [
    {
     "name": "stdout",
     "output_type": "stream",
     "text": [
      "ATL028/2023-08-04/701\n",
      "ATL028/2023-08-07/701\n",
      "ATL028/2023-08-08/701\n"
     ]
    }
   ],
   "source": [
    "for ses in track.sessions: print(ses.sessionPrint())\n"
   ]
  },
  {
   "cell_type": "code",
   "execution_count": 15,
   "metadata": {},
   "outputs": [],
   "source": [
    "ises = sessiondb.iterSessions(mouseName='ATL028')"
   ]
  },
  {
   "cell_type": "code",
   "execution_count": 27,
   "metadata": {},
   "outputs": [],
   "source": [
    "reg = registration.vrRegistration(ises[3])\n",
    "reg.loadBehaviorStructure()"
   ]
  },
  {
   "cell_type": "code",
   "execution_count": 34,
   "metadata": {},
   "outputs": [
    {
     "data": {
      "text/plain": [
       "['__class__',\n",
       " '__delattr__',\n",
       " '__dict__',\n",
       " '__dir__',\n",
       " '__doc__',\n",
       " '__eq__',\n",
       " '__format__',\n",
       " '__ge__',\n",
       " '__getattribute__',\n",
       " '__gt__',\n",
       " '__hash__',\n",
       " '__init__',\n",
       " '__init_subclass__',\n",
       " '__le__',\n",
       " '__lt__',\n",
       " '__module__',\n",
       " '__ne__',\n",
       " '__new__',\n",
       " '__reduce__',\n",
       " '__reduce_ex__',\n",
       " '__repr__',\n",
       " '__setattr__',\n",
       " '__sizeof__',\n",
       " '__slotnames__',\n",
       " '__str__',\n",
       " '__subclasshook__',\n",
       " '__weakref__',\n",
       " '_fieldnames',\n",
       " 'activeLicking',\n",
       " 'activeStopping',\n",
       " 'frameIdx',\n",
       " 'inRewardZone',\n",
       " 'iti',\n",
       " 'lick',\n",
       " 'outcome',\n",
       " 'pdLevel',\n",
       " 'rewardAvailable',\n",
       " 'rewardDeliveryFrame',\n",
       " 'rewardPosition',\n",
       " 'rewardTolerance',\n",
       " 'roomPosition',\n",
       " 'startPosition',\n",
       " 'startTime',\n",
       " 'stop',\n",
       " 'time',\n",
       " 'trialIdx',\n",
       " 'userRewardFrames',\n",
       " 'userRewardNumber',\n",
       " 'vrEnvIdx']"
      ]
     },
     "execution_count": 34,
     "metadata": {},
     "output_type": "execute_result"
    }
   ],
   "source": [
    "dir(reg.vrFile['trialInfo'])"
   ]
  },
  {
   "cell_type": "code",
   "execution_count": null,
   "metadata": {},
   "outputs": [],
   "source": []
  },
  {
   "cell_type": "code",
   "execution_count": null,
   "metadata": {},
   "outputs": [],
   "source": []
  },
  {
   "cell_type": "code",
   "execution_count": 18,
   "metadata": {},
   "outputs": [
    {
     "name": "stdout",
     "output_type": "stream",
     "text": [
      "ATL028/2023-08-01/701\n",
      "[3]\n",
      "ATL028/2023-08-02/701\n",
      "[3]\n",
      "ATL028/2023-08-03/701\n",
      "[3]\n",
      "ATL028/2023-08-04/701\n",
      "[3]\n",
      "ATL028/2023-08-07/701\n",
      "[1 3]\n",
      "ATL028/2023-08-08/701\n",
      "[1 3]\n"
     ]
    }
   ],
   "source": [
    "for ses in ises:\n",
    "    print(ses.sessionPrint())\n",
    "    eidx = ses.loadone('trials.environmentIndex')\n",
    "    print(np.unique(eidx))"
   ]
  },
  {
   "cell_type": "code",
   "execution_count": 17,
   "metadata": {},
   "outputs": [
    {
     "data": {
      "text/plain": [
       "<vrAnalysis.session.vrExperiment at 0x138ae377c40>"
      ]
     },
     "execution_count": 17,
     "metadata": {},
     "output_type": "execute_result"
    }
   ],
   "source": []
  },
  {
   "cell_type": "code",
   "execution_count": null,
   "metadata": {},
   "outputs": [],
   "source": []
  },
  {
   "cell_type": "code",
   "execution_count": 11,
   "metadata": {},
   "outputs": [
    {
     "name": "stderr",
     "output_type": "stream",
     "text": [
      "100%|██████████| 3/3 [00:45<00:00, 15.10s/it]\n"
     ]
    },
    {
     "ename": "AssertionError",
     "evalue": "reward positions are not consistent: ([112.5, 162.5])",
     "output_type": "error",
     "traceback": [
      "\u001b[1;31m---------------------------------------------------------------------------\u001b[0m",
      "\u001b[1;31mAssertionError\u001b[0m                            Traceback (most recent call last)",
      "\u001b[1;32mc:\\Users\\Andrew\\Documents\\GitHub\\vrAnalysis\\workspace.ipynb Cell 5\u001b[0m line \u001b[0;36m1\n\u001b[1;32m----> <a href='vscode-notebook-cell:/c%3A/Users/Andrew/Documents/GitHub/vrAnalysis/workspace.ipynb#X54sZmlsZQ%3D%3D?line=0'>1</a>\u001b[0m pcm\u001b[39m.\u001b[39;49mplot_snake(\u001b[39m3\u001b[39;49m, cutoffs\u001b[39m=\u001b[39;49m(\u001b[39m0.2\u001b[39;49m, \u001b[39m0.5\u001b[39;49m), withShow\u001b[39m=\u001b[39;49m\u001b[39mTrue\u001b[39;49;00m);\n",
      "File \u001b[1;32mc:\\Users\\Andrew\\Documents\\GitHub\\vrAnalysis\\vrAnalysis\\analysis\\placeCellMultiSession.py:546\u001b[0m, in \u001b[0;36mplaceCellMultiSession.plot_snake\u001b[1;34m(self, envnum, idx_ses, sortby, cutoffs, maxcutoffs, sort_by_red, method, normalize, rewzone, interpolation, withShow, withSave)\u001b[0m\n\u001b[0;32m    544\u001b[0m rewPos \u001b[39m=\u001b[39m \u001b[39mlist\u001b[39m(\u001b[39mset\u001b[39m([rp[ei] \u001b[39mfor\u001b[39;00m rp, ei \u001b[39min\u001b[39;00m \u001b[39mzip\u001b[39m(rewPos, envidx)]))\n\u001b[0;32m    545\u001b[0m rewHW \u001b[39m=\u001b[39m \u001b[39mlist\u001b[39m(\u001b[39mset\u001b[39m([rh[ei] \u001b[39mfor\u001b[39;00m rh, ei \u001b[39min\u001b[39;00m \u001b[39mzip\u001b[39m(rewHW, envidx)]))\n\u001b[1;32m--> 546\u001b[0m \u001b[39massert\u001b[39;00m \u001b[39mlen\u001b[39m(rewPos)\u001b[39m==\u001b[39m\u001b[39m1\u001b[39m, \u001b[39mf\u001b[39m\u001b[39m\"\u001b[39m\u001b[39mreward positions are not consistent: (\u001b[39m\u001b[39m{\u001b[39;00mrewPos\u001b[39m}\u001b[39;00m\u001b[39m)\u001b[39m\u001b[39m\"\u001b[39m\n\u001b[0;32m    547\u001b[0m \u001b[39massert\u001b[39;00m \u001b[39mlen\u001b[39m(rewHW)\u001b[39m==\u001b[39m\u001b[39m1\u001b[39m, \u001b[39mf\u001b[39m\u001b[39m\"\u001b[39m\u001b[39mreward halfwidths are not consistent: (\u001b[39m\u001b[39m{\u001b[39;00mrewHW\u001b[39m}\u001b[39;00m\u001b[39m)\u001b[39m\u001b[39m\"\u001b[39m\n\u001b[0;32m    548\u001b[0m rect \u001b[39m=\u001b[39m [mpl\u001b[39m.\u001b[39mpatches\u001b[39m.\u001b[39mRectangle((rewPos[\u001b[39m0\u001b[39m]\u001b[39m-\u001b[39mrewHW[\u001b[39m0\u001b[39m], \u001b[39m0\u001b[39m), rewHW[\u001b[39m0\u001b[39m]\u001b[39m*\u001b[39m\u001b[39m2\u001b[39m, sd\u001b[39m.\u001b[39mshape[\u001b[39m0\u001b[39m], edgecolor\u001b[39m=\u001b[39m\u001b[39m'\u001b[39m\u001b[39mnone\u001b[39m\u001b[39m'\u001b[39m, facecolor\u001b[39m=\u001b[39m\u001b[39m'\u001b[39m\u001b[39mk\u001b[39m\u001b[39m'\u001b[39m, alpha\u001b[39m=\u001b[39m\u001b[39m0.2\u001b[39m) \u001b[39mfor\u001b[39;00m sd \u001b[39min\u001b[39;00m snake_data]\n",
      "\u001b[1;31mAssertionError\u001b[0m: reward positions are not consistent: ([112.5, 162.5])"
     ]
    }
   ],
   "source": [
    "pcm.plot_snake(3, cutoffs=(0.2, 0.5), withShow=True);"
   ]
  },
  {
   "cell_type": "code",
   "execution_count": 167,
   "metadata": {},
   "outputs": [],
   "source": [
    "plt.close('all')\n",
    "pcm.plot_rel_comparison(1, idx_ses=None, sortby=8)"
   ]
  },
  {
   "cell_type": "code",
   "execution_count": 175,
   "metadata": {},
   "outputs": [
    {
     "name": "stdout",
     "output_type": "stream",
     "text": [
      "[0, 1, 2, 3, 4, 5, 6, 7, 8, 9, 10, 11, 12, 13]\n",
      "[0, 13, 7]\n"
     ]
    }
   ],
   "source": [
    "idx_ses = pcm.idx_ses_with_env(3)\n",
    "print(idx_ses)\n",
    "sortby = [idx_ses[i] for i in [0, int(len(idx_ses)*0.5), -1]]\n",
    "print(sortby)\n",
    "        "
   ]
  },
  {
   "cell_type": "code",
   "execution_count": null,
   "metadata": {},
   "outputs": [],
   "source": []
  },
  {
   "cell_type": "code",
   "execution_count": null,
   "metadata": {},
   "outputs": [],
   "source": []
  },
  {
   "cell_type": "code",
   "execution_count": null,
   "metadata": {},
   "outputs": [],
   "source": []
  },
  {
   "cell_type": "code",
   "execution_count": 29,
   "metadata": {},
   "outputs": [],
   "source": [
    "num_ses = len(skew)\n",
    "\n",
    "offset = 0.2\n",
    "ctl_positions = np.linspace(0, num_ses-1, num_ses) - offset\n",
    "red_positions = np.linspace(0, num_ses-1, num_ses) + offset\n",
    "\n",
    "plt.close('all')\n",
    "cvp = plt.violinplot([s[~ir] for s, ir in zip(skew, idx_red)], ctl_positions)\n",
    "rvp = plt.violinplot([s[ir] for s, ir in zip(skew, idx_red)], red_positions)\n",
    "# for pc in cvp['bodies']: pc.set_color('k')\n",
    "# for pc in rvp['bodies']: pc.set_color('r')\n",
    "plt.show()"
   ]
  },
  {
   "cell_type": "code",
   "execution_count": 77,
   "metadata": {},
   "outputs": [],
   "source": [
    "x0 = np.random.normal(0,1,(10000,))\n",
    "y0 = np.random.normal(0,1,(10000,)) + x0\n",
    "x1 = np.random.normal(0,1,(10000,))-10\n",
    "y1 = np.random.normal(0,1,(10000,)) - x1\n",
    "\n",
    "all_x = np.concatenate((x0, x1))\n",
    "all_y = np.concatenate((y0, y1))\n",
    "extent = [all_x.min(), all_x.max(), all_y.min(), all_y.max()]\n",
    "range = [[all_x.min(), all_x.max()], [all_y.min(), all_y.max()]]\n",
    "\n",
    "num_bins = 25\n",
    "H1, xe, ye = np.histogram2d(x1, y1, bins=num_bins, range=range)\n",
    "H0, _, _ = np.histogram2d(x0, y0, bins=[xe,ye])\n",
    "H_diff = H1.T - H0.T\n",
    "\n",
    "extent = [xe.min(), xe.max(), ye.min(), ye.max()]\n",
    "xc, yc = helpers.edge2center(xe), helpers.edge2center(ye)\n",
    "\n",
    "# H_test = np.zeros((num_bins, num_bins))\n",
    "# H_test[0,0]=1\n",
    "# H_test[-1,0]=2\n",
    "# H_test[0,-1]=3\n",
    "# H_test[-1,-1]=4\n",
    "# H_test = H_test.T\n",
    "# print(H_test)\n",
    "\n",
    "plt.close('all')\n",
    "fig, ax = plt.subplots(1, 3, figsize=(9,3), layout='constrained', sharex=True, sharey=True)\n",
    "sns.histplot(x=x0, y=y0, bins=[xe, ye], pthresh=0, cmap=\"Blues\", ax=ax[0])\n",
    "sns.histplot(x=x1, y=y1, bins=[xe, ye], pthresh=0, cmap=\"Blues\", ax=ax[1])\n",
    "plt.imshow(H_diff, interpolation=None, aspect='auto', origin='lower', extent=extent, cmap=sns.color_palette(\"icefire\", as_cmap=True))\n",
    "plt.show()"
   ]
  },
  {
   "cell_type": "code",
   "execution_count": 60,
   "metadata": {},
   "outputs": [
    {
     "data": {
      "text/plain": [
       "array([-14.02193639, -10.48093206,  -6.93992772,  -3.39892338,\n",
       "         0.14208095,   3.68308529])"
      ]
     },
     "execution_count": 60,
     "metadata": {},
     "output_type": "execute_result"
    }
   ],
   "source": [
    "xe"
   ]
  },
  {
   "cell_type": "code",
   "execution_count": 61,
   "metadata": {},
   "outputs": [
    {
     "data": {
      "text/plain": [
       "array([-5.93192747, -1.6668033 ,  2.59832087,  6.86344504, 11.12856921,\n",
       "       15.39369338])"
      ]
     },
     "execution_count": 61,
     "metadata": {},
     "output_type": "execute_result"
    }
   ],
   "source": [
    "ye"
   ]
  },
  {
   "cell_type": "code",
   "execution_count": 59,
   "metadata": {},
   "outputs": [
    {
     "data": {
      "text/plain": [
       "array([[0.000e+00, 0.000e+00, 0.000e+00, 0.000e+00, 0.000e+00],\n",
       "       [0.000e+00, 0.000e+00, 0.000e+00, 0.000e+00, 0.000e+00],\n",
       "       [1.000e+00, 0.000e+00, 0.000e+00, 0.000e+00, 0.000e+00],\n",
       "       [1.137e+03, 4.405e+03, 1.000e+01, 0.000e+00, 0.000e+00],\n",
       "       [4.800e+01, 4.031e+03, 3.680e+02, 0.000e+00, 0.000e+00]])"
      ]
     },
     "execution_count": 59,
     "metadata": {},
     "output_type": "execute_result"
    }
   ],
   "source": [
    "H0"
   ]
  },
  {
   "cell_type": "code",
   "execution_count": 57,
   "metadata": {},
   "outputs": [
    {
     "data": {
      "text/plain": [
       "array([[0.000e+00, 0.000e+00, 0.000e+00, 7.670e+02, 1.526e+03],\n",
       "       [0.000e+00, 0.000e+00, 1.280e+02, 6.326e+03, 1.237e+03],\n",
       "       [0.000e+00, 0.000e+00, 5.000e+00, 1.100e+01, 0.000e+00],\n",
       "       [0.000e+00, 0.000e+00, 0.000e+00, 0.000e+00, 0.000e+00],\n",
       "       [0.000e+00, 0.000e+00, 0.000e+00, 0.000e+00, 0.000e+00]])"
      ]
     },
     "execution_count": 57,
     "metadata": {},
     "output_type": "execute_result"
    }
   ],
   "source": [
    "H1"
   ]
  },
  {
   "cell_type": "code",
   "execution_count": 9,
   "id": "0c59a688-ab1d-4ce9-a394-da4082a10ff6",
   "metadata": {},
   "outputs": [],
   "source": [
    "# add methods to analysis documentation for pcm!!! (include explanation of idx_ses handling)"
   ]
  },
  {
   "cell_type": "code",
   "execution_count": 1,
   "id": "4ae9a905-4e1d-4457-9ac0-8aee2100afc4",
   "metadata": {},
   "outputs": [],
   "source": [
    "# Now just need the skew plots and the reliability plots relative to other sessions"
   ]
  },
  {
   "cell_type": "code",
   "execution_count": null,
   "id": "b0c3e67b-9d75-4364-8389-c13469085b4e",
   "metadata": {},
   "outputs": [],
   "source": []
  },
  {
   "cell_type": "code",
   "execution_count": null,
   "id": "5a2ec1a6-78ed-4e26-9e47-8cd33323ce70",
   "metadata": {},
   "outputs": [],
   "source": []
  },
  {
   "cell_type": "code",
   "execution_count": null,
   "id": "f2cff47b-1a63-47a8-9ad3-88b055877ed3",
   "metadata": {},
   "outputs": [],
   "source": []
  },
  {
   "cell_type": "code",
   "execution_count": null,
   "id": "eacda761-db40-4231-967f-207eec20c6bc",
   "metadata": {},
   "outputs": [],
   "source": []
  },
  {
   "cell_type": "code",
   "execution_count": null,
   "id": "213362b2-0df1-4c94-98fc-c116f3311181",
   "metadata": {},
   "outputs": [],
   "source": []
  },
  {
   "cell_type": "code",
   "execution_count": null,
   "id": "2f9c9c5f-e121-42c9-a515-0c9beaafc53c",
   "metadata": {},
   "outputs": [],
   "source": []
  },
  {
   "cell_type": "code",
   "execution_count": 389,
   "id": "8a664d70-de8c-44fd-a1c4-4d4bf6388542",
   "metadata": {},
   "outputs": [
    {
     "data": {
      "image/png": "[encoded data removed]",
      "text/plain": [
       "<Figure size 640x480 with 1 Axes>"
      ]
     },
     "metadata": {},
     "output_type": "display_data"
    }
   ],
   "source": [
    "idx_red = track.check_red_cell_consistency(idx_ses=idx_ses, keepPlanes=None, use_s2p=True)\n",
    "idx_has_red = idx_red[:, np.any(idx_red, axis=0)]\n",
    "idx_sort = np.argsort(-np.sum(idx_has_red,axis=0))\n",
    "idx_plot = idx_has_red[:, idx_sort]\n",
    "plt.close('all')\n",
    "plt.imshow(idx_plot, aspect='auto', interpolation='none')\n",
    "plt.show()"
   ]
  },
  {
   "cell_type": "code",
   "execution_count": 392,
   "id": "71efb65e-f390-403d-b8c8-89f816683ebe",
   "metadata": {},
   "outputs": [
    {
     "data": {
      "image/png": "[encoded data removed]",
      "text/plain": [
       "<Figure size 640x480 with 1 Axes>"
      ]
     },
     "metadata": {},
     "output_type": "display_data"
    }
   ],
   "source": [
    "idx_red = track.check_red_cell_consistency(idx_ses=idx_ses, keepPlanes=None)\n",
    "idx_has_red = idx_red[:, np.sum(idx_red, axis=0)>0]\n",
    "idx_sort = np.argsort(-np.sum(idx_has_red,axis=0))\n",
    "idx_plot = idx_has_red[:, idx_sort]\n",
    "plt.close('all')\n",
    "plt.imshow(idx_plot, aspect='auto', interpolation='none')\n",
    "plt.show()"
   ]
  },
  {
   "cell_type": "code",
   "execution_count": null,
   "id": "35c15844-230b-4428-940c-3ba768fa60c8",
   "metadata": {},
   "outputs": [],
   "source": []
  },
  {
   "cell_type": "code",
   "execution_count": null,
   "id": "4a8c29ad-d229-468b-994d-60daa446d163",
   "metadata": {},
   "outputs": [],
   "source": []
  },
  {
   "cell_type": "code",
   "execution_count": null,
   "id": "a82e92fd-45f5-4d4c-bf2b-cc36e0fecfe4",
   "metadata": {},
   "outputs": [],
   "source": []
  },
  {
   "cell_type": "code",
   "execution_count": null,
   "id": "aae9c31e-793c-475d-b9f6-1131dcd8678b",
   "metadata": {},
   "outputs": [],
   "source": []
  },
  {
   "cell_type": "code",
   "execution_count": null,
   "id": "0dcd1a9c-0bc0-4da3-b608-d7d9342894d8",
   "metadata": {},
   "outputs": [],
   "source": []
  },
  {
   "cell_type": "code",
   "execution_count": null,
   "id": "fbf37659-8093-414a-83ab-38613aee581b",
   "metadata": {},
   "outputs": [],
   "source": []
  },
  {
   "cell_type": "code",
   "execution_count": null,
   "id": "105147fb-abb0-4e3a-b342-7e0a49278a1b",
   "metadata": {},
   "outputs": [],
   "source": []
  },
  {
   "cell_type": "code",
   "execution_count": null,
   "id": "548e7090-cccc-4b6b-934c-ae6305fe1f4a",
   "metadata": {},
   "outputs": [],
   "source": []
  },
  {
   "cell_type": "code",
   "execution_count": null,
   "id": "83dbe85a-f153-4621-a834-f69f3fb03b69",
   "metadata": {},
   "outputs": [],
   "source": []
  },
  {
   "cell_type": "code",
   "execution_count": null,
   "id": "1b5934ad-507d-47b7-af57-c99acd431200",
   "metadata": {},
   "outputs": [],
   "source": []
  },
  {
   "cell_type": "code",
   "execution_count": null,
   "id": "c1fcb8db-9aeb-425e-87b0-e890fe107f13",
   "metadata": {},
   "outputs": [],
   "source": []
  },
  {
   "cell_type": "code",
   "execution_count": null,
   "id": "971ce9b1-d5aa-46f7-98ec-9eff1bd68bf3",
   "metadata": {},
   "outputs": [],
   "source": []
  },
  {
   "cell_type": "code",
   "execution_count": null,
   "id": "645a6b79-666d-43b8-a6f9-2694815c8de3",
   "metadata": {},
   "outputs": [],
   "source": []
  }
 ],
 "metadata": {
  "kernelspec": {
   "display_name": "Python 3 (ipykernel)",
   "language": "python",
   "name": "python3"
  },
  "language_info": {
   "codemirror_mode": {
    "name": "ipython",
    "version": 3
   },
   "file_extension": ".py",
   "mimetype": "text/x-python",
   "name": "python",
   "nbconvert_exporter": "python",
   "pygments_lexer": "ipython3",
   "version": "3.9.18"
  }
 },
 "nbformat": 4,
 "nbformat_minor": 5
}
