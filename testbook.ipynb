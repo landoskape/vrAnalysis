{
 "cells": [
  {
   "cell_type": "code",
   "execution_count": 1,
   "metadata": {},
   "outputs": [
    {
     "name": "stdout",
     "output_type": "stream",
     "text": [
      "Using device: cuda\n"
     ]
    }
   ],
   "source": [
    "%reload_ext autoreload\n",
    "%autoreload 2\n",
    "\n",
    "# %matplotlib widget\n",
    "\n",
    "%matplotlib qt\n",
    "\n",
    "# %gui qt\n",
    "\n",
    "import time\n",
    "import random\n",
    "from copy import copy\n",
    "from tqdm import tqdm\n",
    "from pathlib import Path\n",
    "import numpy as np\n",
    "import numba as nb\n",
    "import scipy as sp\n",
    "from sklearn.decomposition import PCA\n",
    "import torch\n",
    "import matplotlib as mpl\n",
    "import matplotlib.pyplot as plt\n",
    "import seaborn as sns\n",
    "import pandas as pd\n",
    "pd.options.display.width = 1000\n",
    "\n",
    "import faststats as fs\n",
    "\n",
    "from vrAnalysis import session\n",
    "from vrAnalysis import registration\n",
    "from vrAnalysis import functions\n",
    "from vrAnalysis import analysis\n",
    "from vrAnalysis import helpers\n",
    "from vrAnalysis import fileManagement as fm\n",
    "from vrAnalysis import database\n",
    "from vrAnalysis import tracking\n",
    "\n",
    "from vrAnalysis.uiDatabase import addEntryGUI\n",
    "from vrAnalysis.redgui import redCellGUI as rgui\n",
    "\n",
    "sessiondb = database.vrDatabase('vrSessions')\n",
    "mousedb = database.vrDatabase('vrMice')\n",
    "\n",
    "pd.set_option('display.max_rows', 100)\n",
    "\n",
    "device = \"cuda\" if torch.cuda.is_available() else \"cpu\"\n",
    "print(f\"Using device: {device}\")"
   ]
  },
  {
   "cell_type": "code",
   "execution_count": 2,
   "metadata": {},
   "outputs": [],
   "source": [
    "from vrAnalysis.simulations.simulator import Simulator"
   ]
  },
  {
   "cell_type": "code",
   "execution_count": 75,
   "metadata": {},
   "outputs": [],
   "source": [
    "box_length = 80\n",
    "sim = Simulator(\n",
    "    box_length,\n",
    "    spacing=1,\n",
    "    dt=0.1,\n",
    "    speed_mean=0.12,\n",
    "    num_place_cells=50,\n",
    "    num_grid_cells=0,\n",
    "    place_width_mean=20,\n",
    "    place_width_std=10.0,\n",
    "    num_grid_modules=4,\n",
    "    grid_expansion=1.3,\n",
    "    base_grid_spacing=39.8,\n",
    "    base_grid_width=27.4,\n",
    "    g_noise_amp=1 / 100000\n",
    ")"
   ]
  },
  {
   "cell_type": "code",
   "execution_count": 33,
   "metadata": {},
   "outputs": [],
   "source": [
    "# Show Examples\n",
    "numExamplesEach = 6\n",
    "figdim = 2\n",
    "f, ax = plt.subplots(2,numExamplesEach,figsize=(figdim*numExamplesEach,figdim*2), layout='constrained')\n",
    "for n in range(numExamplesEach):\n",
    "    ax[0,n].imshow(sim.place_library[np.random.randint(sim.num_place_cells)])\n",
    "    ax[1,n].imshow(sim.grid_library[np.random.randint(sim.num_grid_cells)])\n",
    "    ax[0,n].axis('off')\n",
    "    ax[1,n].axis('off')"
   ]
  },
  {
   "cell_type": "code",
   "execution_count": 81,
   "metadata": {},
   "outputs": [],
   "source": [
    "plt.hist(np.reshape(sim.grid_library, -1))\n",
    "plt.show()"
   ]
  },
  {
   "cell_type": "code",
   "execution_count": 78,
   "metadata": {},
   "outputs": [],
   "source": [
    "# Do a trajectory\n",
    "t, pos, posidx = sim.run_simulation(10000)\n",
    "\n",
    "# Return place and grid cell activity along trajectory, with noise if requested\n",
    "place_signal = sim.place_library[:,posidx[:,0], posidx[:,1]].T\n",
    "grid_signal = sim.grid_library[:,posidx[:,0], posidx[:,1]].T\n",
    "hippo_signal = np.concatenate((place_signal,grid_signal),axis=1)\n",
    "\n",
    "# Add Noise\n",
    "gNoiseAmp = 1/5\n",
    "gNoisePlace = gNoiseAmp * np.std(place_signal,axis=0)\n",
    "gNoiseHippo = gNoiseAmp * np.std(hippo_signal,axis=0)\n",
    "place_activity = place_signal + np.random.normal(0,gNoisePlace,place_signal.shape)\n",
    "hippo_activity = hippo_signal + np.random.normal(0,gNoiseHippo,hippo_signal.shape)"
   ]
  },
  {
   "cell_type": "code",
   "execution_count": 79,
   "metadata": {},
   "outputs": [],
   "source": [
    "# Plot Trajectory and plot examples of place cell and grid cell activity overlaid on trajectory\n",
    "numExamplesEach = 2\n",
    "pexidx = np.random.randint(0,sim.num_place_cells,numExamplesEach)\n",
    "gexidx = np.random.randint(0,sim.num_grid_cells,numExamplesEach)\n",
    "\n",
    "figdim = 3\n",
    "f, ax = plt.subplots(1,numExamplesEach*2+1,figsize=((numExamplesEach*2+1)*figdim,figdim))\n",
    "# Ag.plot_trajectory(ax=ax[0])\n",
    "plt.set_cmap('cool')\n",
    "ax[0].scatter(pos[:,0],pos[:,1],s=15,c=range(pos.shape[0]),alpha=0.3)\n",
    "plt.set_cmap('jet')\n",
    "for n in range(numExamplesEach):\n",
    "    ax[n+1].scatter(pos[:,0],pos[:,1],s=5,c=place_activity[:,pexidx[n]])\n",
    "    ax[n+1+numExamplesEach].scatter(pos[:,0],pos[:,1],s=5,c=hippo_activity[:,sim.num_place_cells+gexidx[n]])"
   ]
  },
  {
   "cell_type": "code",
   "execution_count": null,
   "metadata": {},
   "outputs": [],
   "source": []
  }
 ],
 "metadata": {
  "kernelspec": {
   "display_name": "vrAnalysis",
   "language": "python",
   "name": "python3"
  },
  "language_info": {
   "codemirror_mode": {
    "name": "ipython",
    "version": 3
   },
   "file_extension": ".py",
   "mimetype": "text/x-python",
   "name": "python",
   "nbconvert_exporter": "python",
   "pygments_lexer": "ipython3",
   "version": "3.9.18"
  }
 },
 "nbformat": 4,
 "nbformat_minor": 2
}
