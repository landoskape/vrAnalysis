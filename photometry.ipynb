{
 "cells": [
  {
   "cell_type": "code",
   "execution_count": 4,
   "metadata": {},
   "outputs": [
    {
     "name": "stdout",
     "output_type": "stream",
     "text": [
      "The autoreload extension is already loaded. To reload it, use:\n",
      "  %reload_ext autoreload\n"
     ]
    }
   ],
   "source": [
    "%load_ext autoreload\n",
    "%autoreload 2\n",
    "\n",
    "%matplotlib qt\n",
    "from tqdm import tqdm\n",
    "import numpy as np\n",
    "from scipy.interpolate import interp1d\n",
    "from scipy.signal import detrend\n",
    "from matplotlib import pyplot as plt\n",
    "import matplotlib as mpl\n",
    "\n",
    "from vrAnalysis.helpers import errorPlot\n",
    "from photometry.loaders import get_doric_files, process_data_parallel, process_single_file\n",
    "from photometry.process import analyze_data, resample_with_antialiasing\n",
    "\n",
    "from syd import make_viewer"
   ]
  },
  {
   "cell_type": "code",
   "execution_count": 5,
   "metadata": {},
   "outputs": [
    {
     "name": "stdout",
     "output_type": "stream",
     "text": [
      "Found 20 files\n"
     ]
    }
   ],
   "source": [
    "mouse_name = \"ATL065\"\n",
    "dirs, findex, data = get_doric_files(mouse_name)\n",
    "print(f\"Found {len(data)} files\")"
   ]
  },
  {
   "cell_type": "code",
   "execution_count": 3,
   "metadata": {},
   "outputs": [
    {
     "name": "stderr",
     "output_type": "stream",
     "text": [
      "Processing files: 100%|██████████| 20/20 [00:14<00:00,  1.38it/s]\n"
     ]
    }
   ],
   "source": [
    "# Get the results from all sessions of this mouse\n",
    "preperiod = 0.2\n",
    "postperiod = 1.0\n",
    "results, average = process_data_parallel(data, preperiod=preperiod, postperiod=postperiod)"
   ]
  },
  {
   "cell_type": "code",
   "execution_count": null,
   "metadata": {},
   "outputs": [],
   "source": []
  },
  {
   "cell_type": "code",
   "execution_count": 5,
   "metadata": {},
   "outputs": [],
   "source": [
    "import numpy as np\n",
    "from scipy import signal\n",
    "from scipy.signal import detrend\n",
    "\n",
    "def detrend_methods(time_series, sampling_rate):\n",
    "    \"\"\"\n",
    "    Apply multiple detrending methods to a photometry time series.\n",
    "    \n",
    "    Parameters:\n",
    "    -----------\n",
    "    time_series : array-like\n",
    "        Raw photometry signal\n",
    "    sampling_rate : float\n",
    "        Sampling rate in Hz\n",
    "    \n",
    "    Returns:\n",
    "    --------\n",
    "    dict : Dictionary containing detrended signals using different methods\n",
    "    \"\"\"\n",
    "    results = {}\n",
    "    \n",
    "    # 1. Linear detrending (scipy)\n",
    "    results['linear'] = detrend(time_series)\n",
    "    \n",
    "    # 2. Rolling percentile subtraction\n",
    "    def rolling_percentile_detrend(data, window_size=60, percentile=10):\n",
    "        # Convert window size from seconds to samples\n",
    "        window_samples = int(window_size * sampling_rate)\n",
    "        # Ensure window size is odd\n",
    "        if window_samples % 2 == 0:\n",
    "            window_samples += 1\n",
    "        \n",
    "        baseline = np.array([np.percentile(data[max(0, i-window_samples//2):min(len(data), i+window_samples//2)], \n",
    "                                         percentile) \n",
    "                           for i in range(len(data))])\n",
    "        return data - baseline\n",
    "    \n",
    "    results['rolling_percentile'] = rolling_percentile_detrend(time_series)\n",
    "    \n",
    "    # 3. Polynomial detrending\n",
    "    def polynomial_detrend(data, order=3):\n",
    "        x = np.arange(len(data))\n",
    "        coeffs = np.polyfit(x, data, order)\n",
    "        trend = np.polyval(coeffs, x)\n",
    "        return data - trend\n",
    "    \n",
    "    results['polynomial'] = polynomial_detrend(time_series)\n",
    "    \n",
    "    # 5. Savitzky-Golay filter\n",
    "    def savgol_detrend(data, window_length=301, poly_order=3):\n",
    "        if window_length % 2 == 0:\n",
    "            window_length += 1\n",
    "        trend = signal.savgol_filter(data, window_length, poly_order)\n",
    "        return data - trend\n",
    "    \n",
    "    results['savgol'] = savgol_detrend(time_series)\n",
    "    \n",
    "    # 6. High-pass filtering\n",
    "    def highpass_detrend(data, cutoff_freq=0.01):\n",
    "        nyquist = sampling_rate / 2\n",
    "        b, a = signal.butter(3, cutoff_freq/nyquist, btype='high')\n",
    "        return signal.filtfilt(b, a, data)\n",
    "    \n",
    "    results['highpass'] = highpass_detrend(time_series)\n",
    "    \n",
    "    return results\n",
    "\n",
    "# Example usage and visualization\n",
    "def plot_detrending_comparison(time_series, sampling_rate, time=None):\n",
    "    \"\"\"\n",
    "    Plot comparison of different detrending methods\n",
    "    \"\"\"\n",
    "    import matplotlib.pyplot as plt\n",
    "    \n",
    "    results = detrend_methods(time_series, sampling_rate)\n",
    "    \n",
    "    if time is None:\n",
    "        time = np.arange(len(time_series)) / sampling_rate\n",
    "    \n",
    "    fig, axes = plt.subplots(len(results), 1, figsize=(12, 3*len(results)))\n",
    "    fig.suptitle('Comparison of Detrending Methods')\n",
    "    \n",
    "    for ax, (method, detrended) in zip(axes, results.items()):\n",
    "        ax.plot(time, time_series, 'gray', alpha=0.5, label='Original')\n",
    "        ax.plot(time, detrended, 'b', label='Detrended')\n",
    "        ax.set_title(f'{method.replace(\"_\", \" \").title()} Detrending')\n",
    "        ax.legend()\n",
    "        ax.set_xlabel('Time (s)')\n",
    "        ax.set_ylabel('Signal')\n",
    "    \n",
    "    plt.tight_layout()\n",
    "    return fig, results\n",
    "\n",
    "\n",
    "sampling_rate = 1 / np.mean(np.diff(results[0][\"time_data\"]))\n",
    "# plot_detrending_comparison(results[0][\"data_in2\"], sampling_rate, time=results[0][\"time_opto\"])"
   ]
  },
  {
   "cell_type": "code",
   "execution_count": null,
   "metadata": {},
   "outputs": [],
   "source": [
    "# Let's think about how to do a better job than detrending with a linear fit...\n",
    "num_sessions = len(results)\n",
    "\n",
    "options = [\"detrend\", ]\n",
    "viewer = make_viewer()\n",
    "viewer.add_multiple_selection(\"filter_methods\", value=[\"detrend\"])"
   ]
  },
  {
   "cell_type": "code",
   "execution_count": 12,
   "metadata": {},
   "outputs": [
    {
     "data": {
      "image/png": "[encoded data removed]",
      "text/plain": [
       "<Figure size 800x400 with 2 Axes>"
      ]
     },
     "metadata": {},
     "output_type": "display_data"
    }
   ],
   "source": [
    "# For looking at a single session\n",
    "ises = 9\n",
    "session_results = results[ises]\n",
    "\n",
    "fig, ax = plt.subplots(1, 2, figsize=(8, 4), layout=\"constrained\", sharey=False)\n",
    "ax[0].plot(session_results[\"time_data\"], session_results[\"data_in1\"], label=\"in1\")\n",
    "ax[0].plot(session_results[\"time_data\"], session_results[\"data_in2\"], label=\"in2\")\n",
    "ax[0].scatter(session_results[\"opto_start_time\"], np.zeros_like(session_results[\"opto_start_time\"]), color=\"red\", label=\"opto start\", s=5)\n",
    "\n",
    "errorPlot(session_results[\"time_opto\"], session_results[\"in1_opto\"], se=True, axis=0, label=\"in1\", ax=ax[1], alpha=0.2)\n",
    "errorPlot(session_results[\"time_opto\"], session_results[\"in2_opto\"], se=True, axis=0, label=\"in2\", ax=ax[1], alpha=0.2)\n",
    "ax[1].set_xlim(-preperiod, 0.8)\n",
    "plt.show()"
   ]
  },
  {
   "cell_type": "code",
   "execution_count": 10,
   "metadata": {},
   "outputs": [
    {
     "name": "stdout",
     "output_type": "stream",
     "text": [
      "Processing file 1/20\n",
      "Processing file 2/20\n",
      "Processing file 3/20\n",
      "Processing file 4/20\n",
      "Processing file 5/20\n",
      "Processing file 6/20\n",
      "Processing file 7/20\n",
      "Processing file 8/20\n",
      "Processing file 9/20\n",
      "Processing file 10/20\n",
      "Processing file 11/20\n",
      "Processing file 12/20\n",
      "Processing file 13/20\n",
      "Processing file 14/20\n",
      "Processing file 15/20\n",
      "Processing file 16/20\n",
      "Processing file 17/20\n",
      "Processing file 18/20\n",
      "Processing file 19/20\n",
      "Processing file 20/20\n"
     ]
    }
   ],
   "source": [
    "# For showing a single mouse across sessions\n",
    "preperiod = 0.2\n",
    "postperiod = 1.0\n",
    "samples = np.linspace(-preperiod, postperiod, int((postperiod - preperiod) * 1000))\n",
    "session_results = []\n",
    "\n",
    "average = []\n",
    "for ifile, file in enumerate(data):\n",
    "    print(f\"Processing file {ifile+1}/{len(data)}\")\n",
    "    results = analyze_data(file, preperiod=preperiod+0.01)\n",
    "    c_idx = results[\"time_opto\"] < postperiod + preperiod\n",
    "    c_time = results[\"time_opto\"][c_idx]\n",
    "    c_data = np.mean(results[\"in2_opto\"][:, c_idx] - results[\"in1_opto\"][:, c_idx], axis=0)\n",
    "    c_interp = interp1d(c_time, c_data, kind=\"cubic\")(samples)\n",
    "    c_interp = detrend(c_interp)\n",
    "    session_results.append(results)\n",
    "    average.append(c_interp)\n",
    "average = np.stack(average)"
   ]
  },
  {
   "cell_type": "code",
   "execution_count": 17,
   "metadata": {},
   "outputs": [
    {
     "data": {
      "application/vnd.jupyter.widget-view+json": {
       "model_id": "ad1edfce3f62448494b48aad646f7c03",
       "version_major": 2,
       "version_minor": 0
      },
      "text/plain": [
       "HBox(children=(VBox(children=(VBox(children=(HTML(value='<b>Parameters</b>'), IntSlider(value=0, description='…"
      ]
     },
     "metadata": {},
     "output_type": "display_data"
    },
    {
     "data": {
      "text/plain": [
       "<syd.interactive_viewer.InteractiveViewer at 0x204081fa430>"
      ]
     },
     "execution_count": 17,
     "metadata": {},
     "output_type": "execute_result"
    }
   ],
   "source": [
    "def plot(viewer, state):\n",
    "    idx_session = state[\"idx_session\"]\n",
    "    colormap = state[\"colormap\"]\n",
    "    \n",
    "    results = session_results[idx_session]\n",
    "\n",
    "    cmap = plt.get_cmap(colormap)\n",
    "    colors = np.array([cmap(i/len(average)) for i in range(len(average))])\n",
    "\n",
    "    fig = plt.figure(figsize=(8, 4), layout=\"constrained\")\n",
    "    gs = fig.add_gridspec(1, 3, width_ratios=[1, 1, 0.2], wspace=0.1)\n",
    "\n",
    "    # Plot all sessions\n",
    "    ax = fig.add_subplot(gs[0])\n",
    "    for iavg, avg in enumerate(average):\n",
    "        ax.plot(samples, avg, color=colors[iavg] if iavg != idx_session else \"k\", zorder=1 if iavg != idx_session else 1000)\n",
    "    ax.set_xlim(-preperiod, postperiod/2)\n",
    "    ax.axhline(0, color=\"black\", linewidth=0.5, linestyle=\"--\", zorder=-100)\n",
    "\n",
    "    # Plot the current session's data in particular\n",
    "    ax = fig.add_subplot(gs[1])\n",
    "    errorPlot(results[\"time_opto\"], results[\"in1_opto\"], se=True, axis=0, ax=ax, alpha=0.2, color=\"black\", label=\"iso\")\n",
    "    errorPlot(results[\"time_opto\"], results[\"in2_opto\"], se=True, axis=0, ax=ax, alpha=0.2, color=\"green\", label=\"fluor\")\n",
    "    ax.set_xlim(-preperiod, 0.8)\n",
    "\n",
    "    ax_cbar = fig.add_subplot(gs[2])\n",
    "    sm = plt.cm.ScalarMappable(cmap=cmap, norm=plt.Normalize(0, len(average)-1))\n",
    "    cbar = plt.colorbar(sm, cax=ax_cbar, label='Session #')\n",
    "    cbar.set_ticks([0, len(average)-1])  # Only show first and last session numbers\n",
    "    cbar.set_ticklabels(['1', str(len(average))])  # Label them as 1 and max\n",
    "\n",
    "    return fig\n",
    "\n",
    "\n",
    "viewer = make_viewer(plot)\n",
    "viewer.add_integer(\"idx_session\", value=0, min_value=0, max_value=len(average)-1)\n",
    "viewer.add_selection(\"colormap\", value=\"rainbow\", options=[\"rainbow\", \"viridis\", \"plasma\", \"magma\", \"cividis\"])\n",
    "viewer.deploy()\n"
   ]
  },
  {
   "cell_type": "code",
   "execution_count": 13,
   "metadata": {},
   "outputs": [],
   "source": [
    "cmap = plt.get_cmap(\"rainbow\")\n",
    "colors = np.array([cmap(i/len(average)) for i in range(len(average))])\n",
    "\n",
    "fig = plt.figure(figsize=(4, 4), layout=\"constrained\")\n",
    "gs = fig.add_gridspec(1, 2, width_ratios=[1, 0.2], wspace=0.05)\n",
    "\n",
    "# fig, ax = plt.subplots(1, 1, figsize=(4, 4), layout=\"constrained\")\n",
    "\n",
    "ax = fig.add_subplot(gs[0, 0])\n",
    "for iavg, avg in enumerate(average):\n",
    "    ax.plot(samples, avg, color=colors[iavg])\n",
    "ax.set_xlim(-preperiod, postperiod/2)\n",
    "ax.plot([0, 0.03], [-0.001, -0.001], color=\"black\", linewidth=3)\n",
    "\n",
    "ax_cbar = fig.add_subplot(gs[1])\n",
    "sm = plt.cm.ScalarMappable(cmap=cmap, norm=plt.Normalize(0, len(average)-1))\n",
    "cbar = plt.colorbar(sm, cax=ax_cbar, label='Session #')\n",
    "cbar.set_ticks([0, len(average)-1])  # Only show first and last session numbers\n",
    "cbar.set_ticklabels(['1', str(len(average))])  # Label them as 1 and max\n",
    "\n",
    "plt.show()"
   ]
  },
  {
   "cell_type": "code",
   "execution_count": null,
   "metadata": {},
   "outputs": [],
   "source": [
    "# For making an average across all mice\n",
    "preperiod = 0.2\n",
    "postperiod = 1.0\n",
    "samples = np.linspace(-preperiod, postperiod, int((postperiod - preperiod) * 1000))\n",
    "\n",
    "mouse_list = [\"ATL061\", \"ATL062\", \"ATL063\", \"ATL064\", \"ATL065\"]\n",
    "colors = [\"red\", \"blue\", \"green\", \"purple\", \"brown\"]\n",
    "average = []\n",
    "for mouse in tqdm(mouse_list):\n",
    "    c_mouse_average = []    \n",
    "    dirs, findex, data = get_doric_files(mouse)\n",
    "    for file in data:\n",
    "        results = analyze_data(file, preperiod=preperiod+0.01)\n",
    "        c_idx = results[\"time_opto\"] < postperiod + preperiod\n",
    "        c_time = results[\"time_opto\"][c_idx]\n",
    "        c_data = np.mean(results[\"in2_opto\"][:, c_idx] - results[\"in1_opto\"][:, c_idx], axis=0)\n",
    "        c_interp = interp1d(c_time, c_data, kind=\"cubic\")(samples)\n",
    "        c_mouse_average.append(c_interp)\n",
    "    average.append(np.stack(c_mouse_average))\n",
    "    if mouse == \"ATL061\":\n",
    "        average[-1] = average[-1][:3]"
   ]
  },
  {
   "cell_type": "code",
   "execution_count": 200,
   "metadata": {},
   "outputs": [
    {
     "name": "stderr",
     "output_type": "stream",
     "text": [
      "100%|██████████| 5/5 [00:19<00:00,  3.80s/it]\n"
     ]
    }
   ],
   "source": [
    "preperiod = 0.2\n",
    "postperiod = 1.0\n",
    "samples = np.linspace(-preperiod, postperiod, int((postperiod - preperiod) * 1000))\n",
    "\n",
    "mouse_list = [\"ATL061\", \"ATL062\", \"ATL063\", \"ATL064\", \"ATL065\"]\n",
    "colors = [\"red\", \"blue\", \"green\", \"purple\", \"brown\"]\n",
    "average = []\n",
    "for mouse in tqdm(mouse_list):\n",
    "    c_mouse_average = []    \n",
    "    dirs, findex, data = get_doric_files(mouse)\n",
    "    for file in data:\n",
    "        results = analyze_data(file, preperiod=preperiod+0.01)\n",
    "        c_idx = results[\"time_opto\"] < postperiod + preperiod\n",
    "        c_time = results[\"time_opto\"][c_idx]\n",
    "        c_data = np.mean(results[\"in2_opto\"][:, c_idx] - results[\"in1_opto\"][:, c_idx], axis=0)\n",
    "        c_interp = interp1d(c_time, c_data, kind=\"cubic\")(samples)\n",
    "        c_mouse_average.append(c_interp)\n",
    "    average.append(np.stack(c_mouse_average))\n",
    "    if mouse == \"ATL061\":\n",
    "        average[-1] = average[-1][:3]"
   ]
  },
  {
   "cell_type": "code",
   "execution_count": 207,
   "metadata": {},
   "outputs": [
    {
     "data": {
      "text/plain": [
       "[<matplotlib.lines.Line2D at 0x192c0849850>]"
      ]
     },
     "execution_count": 207,
     "metadata": {},
     "output_type": "execute_result"
    }
   ],
   "source": [
    "fig, ax = plt.subplots(1, 1, figsize=(4, 4), layout=\"constrained\")\n",
    "for imouse, (mouse, color, avg) in enumerate(zip(mouse_list, colors, average)):\n",
    "    errorPlot(samples, avg - np.mean(avg[:, 0]), se=True, axis=0, label=mouse, ax=ax, color=color, alpha=0.2)\n",
    "    # ax.plot(samples, avg.T, label=mouse, color=color)\n",
    "ax.set_xlim(-preperiod, postperiod/2)\n",
    "ax.legend(loc=\"upper right\")\n",
    "ax.plot([0, 0.03], [-0.001, -0.001], color=\"black\", linewidth=3)"
   ]
  },
  {
   "cell_type": "code",
   "execution_count": 212,
   "metadata": {},
   "outputs": [
    {
     "data": {
      "text/plain": [
       "[<matplotlib.lines.Line2D at 0x192ae253b20>,\n",
       " <matplotlib.lines.Line2D at 0x192ae253b50>,\n",
       " <matplotlib.lines.Line2D at 0x192ae253c40>]"
      ]
     },
     "execution_count": 212,
     "metadata": {},
     "output_type": "execute_result"
    },
    {
     "ename": "",
     "evalue": "",
     "output_type": "error",
     "traceback": [
      "\u001b[1;31mThe Kernel crashed while executing code in the current cell or a previous cell. \n",
      "\u001b[1;31mPlease review the code in the cell(s) to identify a possible cause of the failure. \n",
      "\u001b[1;31mClick <a href='https://aka.ms/vscodeJupyterKernelCrash'>here</a> for more info. \n",
      "\u001b[1;31mView Jupyter <a href='command:jupyter.viewOutput'>log</a> for further details."
     ]
    }
   ],
   "source": [
    "plt.plot(samples, average[0].T)"
   ]
  },
  {
   "cell_type": "code",
   "execution_count": 194,
   "metadata": {},
   "outputs": [
    {
     "data": {
      "text/plain": [
       "array([-0.03055913, -0.03442416, -0.00556974,  1.33912469])"
      ]
     },
     "execution_count": 194,
     "metadata": {},
     "output_type": "execute_result"
    }
   ],
   "source": [
    "average[0][:, 0]"
   ]
  },
  {
   "cell_type": "code",
   "execution_count": 160,
   "metadata": {},
   "outputs": [
    {
     "data": {
      "text/plain": [
       "[(62452,), (62361,), (62452,), (62452,)]"
      ]
     },
     "execution_count": 160,
     "metadata": {},
     "output_type": "execute_result"
    }
   ],
   "source": [
    "[t.shape for t in times[0]]"
   ]
  }
 ],
 "metadata": {
  "kernelspec": {
   "display_name": "vrAnalysis",
   "language": "python",
   "name": "python3"
  },
  "language_info": {
   "codemirror_mode": {
    "name": "ipython",
    "version": 3
   },
   "file_extension": ".py",
   "mimetype": "text/x-python",
   "name": "python",
   "nbconvert_exporter": "python",
   "pygments_lexer": "ipython3",
   "version": "3.9.19"
  }
 },
 "nbformat": 4,
 "nbformat_minor": 2
}
