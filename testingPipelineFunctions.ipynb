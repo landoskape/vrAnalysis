{
 "cells": [
  {
   "cell_type": "code",
   "execution_count": 1,
   "id": "62912f35-2f40-4d93-872e-439919754adf",
   "metadata": {},
   "outputs": [
    {
     "name": "stdout",
     "output_type": "stream",
     "text": [
      "(CVXPY) Oct 17 12:27:52 PM: Encountered unexpected exception importing solver OSQP:\n",
      "ImportError('DLL load failed while importing qdldl: The specified module could not be found.')\n"
     ]
    }
   ],
   "source": [
    "%reload_ext autoreload\n",
    "%autoreload 2\n",
    "\n",
    "# %matplotlib widget\n",
    "%gui qt\n",
    "\n",
    "import time\n",
    "import random\n",
    "from copy import copy\n",
    "from tqdm import tqdm\n",
    "from pathlib import Path\n",
    "import numpy as np\n",
    "import numba as nb\n",
    "import scipy as sp\n",
    "import matplotlib as mpl\n",
    "import matplotlib.pyplot as plt\n",
    "import pandas as pd\n",
    "pd.options.display.width = 1000\n",
    "\n",
    "from vrAnalysis import session\n",
    "from vrAnalysis import functions\n",
    "from vrAnalysis import analysis \n",
    "from vrAnalysis import helpers\n",
    "from vrAnalysis import fileManagement as fm\n",
    "from vrAnalysis import database\n",
    "\n",
    "from vrAnalysis.redgui import redCellGUI as rgui\n",
    "\n",
    "vrdb = database.vrDatabase()"
   ]
  },
  {
   "cell_type": "code",
   "execution_count": 6,
   "id": "ff1fdad1-13d1-4122-9bc4-26d40074c4c3",
   "metadata": {
    "tags": []
   },
   "outputs": [],
   "source": [
    "# Immediate next steps for programming work:\n",
    "# - ROICaT index alignment tools"
   ]
  },
  {
   "cell_type": "code",
   "execution_count": 241,
   "id": "1119caff-5d69-484e-bb16-cc6b820c7d88",
   "metadata": {
    "tags": []
   },
   "outputs": [],
   "source": [
    "# Database Requirements: \n",
    "# ---------------------\n",
    "# GUI: db manager\n",
    "# - show full database -\n",
    "# - show selected entries (like for example entries with imaging but no suite2p) -\n",
    "#                --> It would be sweet to make this work where there are some defaults, but then there is also a \"filter command\" option which you type and goes as the input to the filtering\n",
    "# - click on entry and do things:\n",
    "#                --> open file explorer to that session\n",
    "#                --> do suite2p\n",
    "#                --> do red cell management\n",
    "# - update table data? \n",
    "# ---------------------\n",
    "# Operational Commands: \n",
    "# - Automatically do suite2p \n",
    "# - Check if registration was done before a suite2p update\n",
    "# - Find way to determine if a suite2p file was updated after the folder was made (indicating that QC was done afterwards) -- so registration should be rerun for imaging data at least\n",
    "#    -- check if \"iscell\" is the only thing that was done after registration. In this case, just update the iscell oneData\n",
    "# ---------------------\n",
    "# - Add new entry GUI!!!\n",
    "# ---------------------\n",
    "# - Check session folders to see if new session is present that isn't registered in the database? \n",
    "# ---------------------\n",
    "# vrExperimentUpdates: \n",
    "# -- if edited iscell, will need to re-register the number of ROIs per plane (in \"self.values\") and reprocess imaging data!\n",
    "# ---------------------\n",
    "# vrExperimentRegistration\n",
    "# -- if error, then note there was an error and append an explanation...!!!\n",
    "# ---------------------"
   ]
  },
  {
   "cell_type": "code",
   "execution_count": 2,
   "id": "3232a21b-e0f7-43c3-99a2-d2b4b67d3530",
   "metadata": {
    "tags": []
   },
   "outputs": [],
   "source": [
    "mouseName = 'CR_Hippocannula6'\n",
    "dateString = '2022-09-05'\n",
    "sessionid = '701'\n",
    "# vrExperiment registration and preprocessing \n",
    "# vrReg = vre.vrExperimentRegistration(mouseName, dateString, session, oasis=False, imaging=True)\n",
    "# vrReg.processTimeline()\n",
    "# vrReg.processImaging()\n",
    "# vrReg.processRedCells()\n",
    "# vrReg.saveParams()\n",
    "# print(vrReg.sessionPath())\n",
    "# del vrReg"
   ]
  },
  {
   "cell_type": "code",
   "execution_count": 4,
   "id": "25a83aa6-c0d5-437e-8c17-09712c235f5d",
   "metadata": {
    "tags": []
   },
   "outputs": [],
   "source": [
    "mouseName = 'ATL012'\n",
    "dateString = '2023-02-01'\n",
    "sessionid = '701'\n",
    "\n",
    "# Load registered vrExperiment\n",
    "vrexp = session.vrExperiment(mouseName, dateString, sessionid)"
   ]
  },
  {
   "cell_type": "code",
   "execution_count": 2,
   "id": "d5813430-da22-4d6d-a873-209e141aed26",
   "metadata": {
    "tags": []
   },
   "outputs": [],
   "source": [
    "mouseName = 'ATL027'\n",
    "dateString = '2023-08-01'\n",
    "sessionid = '701'\n",
    "\n",
    "# Load registered vrExperiment\n",
    "vrexp = session.vrExperiment(mouseName, dateString, sessionid)"
   ]
  },
  {
   "cell_type": "code",
   "execution_count": null,
   "id": "b546e957-03cd-48ca-98e8-70c1db297f51",
   "metadata": {},
   "outputs": [
    {
     "name": "stdout",
     "output_type": "stream",
     "text": [
      "In session: ATL020/2023-05-04/702, vrFile['rigInfo'] does not exist. Assuming default settings for B2!\n",
      "Self.value['numTrials'] set by trialInfo.trialIdx>0, but this might not be right. There might be smarter ways to determine which trials are 'good' trials...\n",
      "frame2time had 2 more than suite2p output. This happens sometimes. I don't like it. I think it's because scanimage sends a TTL before starting the frame\n",
      "Computing red cell features for ATL020/2023-05-04/702... (usually takes 10-20 seconds)\n",
      "Facecam preprocessing has not been coded yet!\n",
      "C:\\Users\\andrew\\Documents\\localData\\ATL020\\2023-05-04\\702\n"
     ]
    }
   ],
   "source": [
    "# # vrExperiment registration and preprocessing \n",
    "# vrReg = vre.vrExperimentRegistration(mouseName, dateString, session, oasis=False, imaging=True)\n",
    "# vrReg.doPreprocessing()\n",
    "# vrReg.saveParams()\n",
    "# print(vrReg.sessionPath())\n",
    "# del vrReg"
   ]
  },
  {
   "cell_type": "code",
   "execution_count": 103,
   "id": "3e43e9b6-b917-433c-a1a5-3064da5894f8",
   "metadata": {
    "tags": []
   },
   "outputs": [],
   "source": [
    "# Load registered vrExperiment\n",
    "vrexp = session.vrExperiment(mouseName, dateString, sessionid)"
   ]
  },
  {
   "cell_type": "code",
   "execution_count": 5,
   "id": "e7e2036c-4509-41bc-96ff-1d1337ffbb29",
   "metadata": {
    "tags": []
   },
   "outputs": [
    {
     "name": "stdout",
     "output_type": "stream",
     "text": [
      "CPU times: total: 3.16 s\n",
      "Wall time: 981 ms\n"
     ]
    }
   ],
   "source": [
    "%%time\n",
    "speedThreshold = 5\n",
    "omap, smap, lickmap, distvec = functions.getBehaviorMaps(vrexp,speedThreshold=speedThreshold) # produce smoothed occupancy and speed maps, along with the distance bins used to create them\n",
    "frameTrialIdx, framePosition, frameSpeed = vrexp.getFrameBehavior() # convert behavioral data into timeframe of spiking data\n",
    "spkmap = functions.getSpikeMap(vrexp, frameTrialIdx, framePosition, frameSpeed, distvec, omap, speedThreshold=speedThreshold, standardizeSpks=False, doSmoothing=0) # produce the spkmap \n",
    "idxFullTrials = np.all(~np.isnan(omap),axis=1) # find out which trials the mouse explored the whole environment\n",
    "relmse, relcor = functions.measureReliability(spkmap[:,idxFullTrials], numcv=3) # measure reliability of spiking\n",
    "spInfo = functions.measureSpatialInformation(omap[idxFullTrials], spkmap[:,idxFullTrials]) # measure spatial information of spiking"
   ]
  },
  {
   "cell_type": "code",
   "execution_count": null,
   "id": "e05af1e2-ac8e-4af2-94b1-c283612b02de",
   "metadata": {},
   "outputs": [],
   "source": []
  },
  {
   "cell_type": "code",
   "execution_count": 11,
   "id": "09cc7be1-c50d-4fa5-8759-b15f8808f485",
   "metadata": {
    "tags": []
   },
   "outputs": [],
   "source": [
    "# I need an analysis program for observing the place cell reliability and fraction across sessions\n",
    "# -- let's start with a plot of number of trials per session and number of sessions per mouse --"
   ]
  },
  {
   "cell_type": "code",
   "execution_count": null,
   "id": "d7359357-76ea-4fe6-93db-7e3342f1caac",
   "metadata": {},
   "outputs": [],
   "source": []
  },
  {
   "cell_type": "code",
   "execution_count": null,
   "id": "30511e7e-ac58-4197-be7f-433e65f16f08",
   "metadata": {},
   "outputs": [],
   "source": []
  },
  {
   "cell_type": "code",
   "execution_count": null,
   "id": "8ddc28a3-c59e-49e2-8c78-9a57daa3ae9f",
   "metadata": {},
   "outputs": [],
   "source": []
  },
  {
   "cell_type": "code",
   "execution_count": null,
   "id": "c069bafb-e554-4187-8276-f3cc6be41cb6",
   "metadata": {},
   "outputs": [],
   "source": []
  },
  {
   "cell_type": "code",
   "execution_count": null,
   "id": "8ae98fad-804d-4006-aedf-36e1ae436e3c",
   "metadata": {},
   "outputs": [],
   "source": []
  },
  {
   "cell_type": "code",
   "execution_count": null,
   "id": "200535a4-5743-4436-8fb7-f531a394cb48",
   "metadata": {},
   "outputs": [],
   "source": []
  },
  {
   "cell_type": "code",
   "execution_count": null,
   "id": "0b741463-adb1-4eeb-b370-93250fe49f23",
   "metadata": {},
   "outputs": [],
   "source": []
  },
  {
   "cell_type": "code",
   "execution_count": null,
   "id": "fc7d2f8b-941e-40b2-a663-0426ae60eb34",
   "metadata": {},
   "outputs": [],
   "source": []
  },
  {
   "cell_type": "code",
   "execution_count": null,
   "id": "e6e516c2-4a44-4b19-b670-93b76f652293",
   "metadata": {
    "tags": []
   },
   "outputs": [],
   "source": [
    "# next step in analysis: \n",
    "# Also - using a cutoff point by the hitch in that distribution might ignore true matches that are soma-dendritic, but maybe I can use ROICaT or npix to avoid those? "
   ]
  },
  {
   "cell_type": "code",
   "execution_count": null,
   "id": "52c5d9e3-d707-46d7-a6c5-365486b38ba5",
   "metadata": {},
   "outputs": [],
   "source": [
    "# okay, looking at these clusters, it seems like there is some serious oversplitting going on in suite2p. That sucks!\n",
    "# I think I should probably try to rerun some suite2p sessions....\n",
    "# But for now I'll probably do a \"merge\" procedure... and I honestly think I'll have to overwrite or add a new \"modified\" suite2p folder with the stat and ops files"
   ]
  },
  {
   "cell_type": "code",
   "execution_count": null,
   "id": "74ea1b9e-9968-44c7-acc5-4f49f97466cd",
   "metadata": {},
   "outputs": [],
   "source": []
  },
  {
   "cell_type": "code",
   "execution_count": null,
   "id": "4ab059c6-f80c-40b6-9110-ac5b8ffc89ad",
   "metadata": {},
   "outputs": [],
   "source": []
  }
 ],
 "metadata": {
  "kernelspec": {
   "display_name": "Python 3 (ipykernel)",
   "language": "python",
   "name": "python3"
  },
  "language_info": {
   "codemirror_mode": {
    "name": "ipython",
    "version": 3
   },
   "file_extension": ".py",
   "mimetype": "text/x-python",
   "name": "python",
   "nbconvert_exporter": "python",
   "pygments_lexer": "ipython3",
   "version": "3.9.18"
  }
 },
 "nbformat": 4,
 "nbformat_minor": 5
}
