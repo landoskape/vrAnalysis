{
 "cells": [
  {
   "cell_type": "code",
   "execution_count": 1,
   "id": "62912f35-2f40-4d93-872e-439919754adf",
   "metadata": {},
   "outputs": [],
   "source": [
    "%reload_ext autoreload\n",
    "%autoreload 2\n",
    "\n",
    "%gui qt\n",
    "\n",
    "import time\n",
    "from tqdm import tqdm\n",
    "from pathlib import Path\n",
    "import numpy as np\n",
    "import numba as nb\n",
    "import scipy as sp\n",
    "import matplotlib as mpl\n",
    "import matplotlib.pyplot as plt\n",
    "\n",
    "import vrExperiment as vre\n",
    "import vrFunctions as vrf\n",
    "import basicFunctions as bf\n",
    "import fileManagement as fm\n",
    "import redCellGUI as rgui\n",
    "import dbManagement as dbm"
   ]
  },
  {
   "cell_type": "code",
   "execution_count": 3,
   "id": "ff1fdad1-13d1-4122-9bc4-26d40074c4c3",
   "metadata": {
    "tags": []
   },
   "outputs": [],
   "source": [
    "# Immediate next steps for programming work:\n",
    "# - ROICaT index alignment tools"
   ]
  },
  {
   "cell_type": "code",
   "execution_count": 86,
   "id": "3232a21b-e0f7-43c3-99a2-d2b4b67d3530",
   "metadata": {
    "tags": []
   },
   "outputs": [],
   "source": [
    "mouseName = 'CR_Hippocannula6'\n",
    "dateString = '2022-09-05'\n",
    "session = '701'\n",
    "# vrExperiment registration and preprocessing \n",
    "# vrReg = vre.vrExperimentRegistration(mouseName, dateString, session, oasis=False, imaging=True)\n",
    "# vrReg.processTimeline()\n",
    "# vrReg.processImaging()\n",
    "# vrReg.processRedCells()\n",
    "# vrReg.saveParams()\n",
    "# print(vrReg.sessionPath())\n",
    "# del vrReg"
   ]
  },
  {
   "cell_type": "code",
   "execution_count": 90,
   "id": "25a83aa6-c0d5-437e-8c17-09712c235f5d",
   "metadata": {
    "tags": []
   },
   "outputs": [],
   "source": [
    "mouseName = 'ATL020'\n",
    "dateString = '2023-05-04'\n",
    "session = '702'"
   ]
  },
  {
   "cell_type": "code",
   "execution_count": 99,
   "id": "b546e957-03cd-48ca-98e8-70c1db297f51",
   "metadata": {},
   "outputs": [
    {
     "name": "stdout",
     "output_type": "stream",
     "text": [
      "In session: ATL020/2023-05-04/702, vrFile['rigInfo'] does not exist. Assuming default settings for B2!\n",
      "Self.value['numTrials'] set by trialInfo.trialIdx>0, but this might not be right. There might be smarter ways to determine which trials are 'good' trials...\n",
      "frame2time had 2 more than suite2p output. This happens sometimes. I don't like it. I think it's because scanimage sends a TTL before starting the frame\n",
      "Computing red cell features for ATL020/2023-05-04/702... (usually takes 10-20 seconds)\n",
      "Facecam preprocessing has not been coded yet!\n",
      "C:\\Users\\andrew\\Documents\\localData\\ATL020\\2023-05-04\\702\n"
     ]
    }
   ],
   "source": [
    "# vrExperiment registration and preprocessing \n",
    "vrReg = vre.vrExperimentRegistration(mouseName, dateString, session, oasis=False, imaging=True)\n",
    "vrReg.doPreprocessing()\n",
    "vrReg.saveParams()\n",
    "print(vrReg.sessionPath())\n",
    "del vrReg"
   ]
  },
  {
   "cell_type": "code",
   "execution_count": 100,
   "id": "3e43e9b6-b917-433c-a1a5-3064da5894f8",
   "metadata": {
    "tags": []
   },
   "outputs": [],
   "source": [
    "# Load registered vrExperiment\n",
    "vrexp = vre.vrExperiment(mouseName, dateString, session)"
   ]
  },
  {
   "cell_type": "code",
   "execution_count": null,
   "id": "dac034b5-7c26-435b-9fea-c67395728d3c",
   "metadata": {},
   "outputs": [],
   "source": [
    "def getRoiStackPosition(self, mode='weightedmean'):\n",
    "        planeIdx = self.getPlaneIdx()\n",
    "        stat = self.loadS2P('stat')\n",
    "        lam = [s['lam'] for s in stat]\n",
    "        ypix = [s['ypix'] for s in stat]\n",
    "        xpix = [s['xpix'] for s in stat]\n",
    "        if mode=='weightedmean':\n",
    "            yc = np.array([np.sum(l*y)/np.sum(l) for l,y in zip(lam,ypix)])\n",
    "            xc = np.array([np.sum(l*x)/np.sum(l) for l,x in zip(lam,xpix)])\n",
    "        elif mode=='median':\n",
    "            yc = np.array([np.median(y) for y in ypix])\n",
    "            xc = np.array([np.median(x) for x in xpix])\n",
    "        stackPosition = np.stack((xc,yc,planeIdx))\n",
    "        return stackPosition"
   ]
  },
  {
   "cell_type": "code",
   "execution_count": 13,
   "id": "e7e2036c-4509-41bc-96ff-1d1337ffbb29",
   "metadata": {
    "tags": []
   },
   "outputs": [
    {
     "name": "stdout",
     "output_type": "stream",
     "text": [
      "CPU times: total: 3.58 s\n",
      "Wall time: 512 ms\n"
     ]
    }
   ],
   "source": [
    "%%time\n",
    "speedThreshold = 5\n",
    "omap, smap, lickmap, distvec = vrf.getBehaviorMaps(vrexp,speedThreshold=speedThreshold) # produce smoothed occupancy and speed maps, along with the distance bins used to create them\n",
    "frameTrialIdx, framePosition, frameSpeed = vrexp.getFrameBehavior() # convert behavioral data into timeframe of spiking data\n",
    "spkmap = vrf.getSpikeMap(vrexp, frameTrialIdx, framePosition, frameSpeed, distvec, omap, speedThreshold=speedThreshold, standardizeSpks=False, doSmoothing=0) # produce the spkmap \n",
    "idxFullTrials = np.all(~np.isnan(omap),axis=1) # find out which trials the mouse explored the whole environment\n",
    "relmse, relcor = vrf.measureReliability(spkmap[:,idxFullTrials], numcv=3) # measure reliability of spiking\n",
    "spInfo = vrf.measureSpatialInformation(omap[idxFullTrials], spkmap[:,idxFullTrials]) # measure spatial information of spiking"
   ]
  },
  {
   "cell_type": "code",
   "execution_count": 147,
   "id": "7b8e9865-e913-4dfc-a697-8079801b3c8b",
   "metadata": {},
   "outputs": [],
   "source": [
    "# Code block for opening redSelectionGUI for a vrExperiment\n",
    "vrexp = vre.vrExperiment(mouseName, dateString, session)\n",
    "redCell = vre.redCellProcessing(vrexp)\n",
    "redSelection = rgui.redSelectionGUI(redCell)"
   ]
  },
  {
   "cell_type": "code",
   "execution_count": null,
   "id": "487110b4-4e2c-4b24-bea9-56d03b2b06d5",
   "metadata": {},
   "outputs": [],
   "source": []
  },
  {
   "cell_type": "code",
   "execution_count": 107,
   "id": "e0053925-bb55-4674-b14f-625529c7e63f",
   "metadata": {},
   "outputs": [
    {
     "name": "stdout",
     "output_type": "stream",
     "text": [
      "\\\\zaru.cortexlab.net\\Subjects\\ATL027\\2023-08-10\\701\n",
      "C:\\Users\\andrew\\Documents\\localData\\ATL027\\2023-08-10\\701\n"
     ]
    }
   ],
   "source": [
    "# fm.getCopyString('ATL027')\n",
    "fm.s2pTargets('ATL027','2023-08-10','701')"
   ]
  },
  {
   "cell_type": "code",
   "execution_count": null,
   "id": "0fba9de9-3cd2-4a7c-8131-c80647e6c422",
   "metadata": {},
   "outputs": [],
   "source": []
  },
  {
   "cell_type": "code",
   "execution_count": null,
   "id": "7adb6fba-a7be-4e21-8f1e-821f89534197",
   "metadata": {},
   "outputs": [],
   "source": []
  },
  {
   "cell_type": "code",
   "execution_count": 35,
   "id": "f30964c8-6bcd-48c5-8fa7-98516554ba2a",
   "metadata": {
    "tags": []
   },
   "outputs": [],
   "source": [
    "# Database Requirements: \n",
    "# ---------------------\n",
    "# GUI: db manager\n",
    "# - show full database -\n",
    "# - show selected entries (like for example entries with imaging but no suite2p) -\n",
    "#                --> It would be sweet to make this work where there are some defaults, but then there is also a \"filter command\" option which you type and goes as the input to the filtering\n",
    "# - click on entry and do things:\n",
    "#                --> open file explorer to that session\n",
    "#                --> do suite2p\n",
    "#                --> do red cell management\n",
    "# - update table data? \n",
    "# ---------------------\n",
    "# Operational Commands: \n",
    "# - Automatically do suite2p \n",
    "# - ??? \n",
    "# ---------------------\n",
    "# - Add new entry GUI!!!"
   ]
  },
  {
   "cell_type": "code",
   "execution_count": null,
   "id": "f327fee8-38c7-4204-9aa6-a51797d2992a",
   "metadata": {},
   "outputs": [],
   "source": []
  },
  {
   "cell_type": "code",
   "execution_count": null,
   "id": "8ae30ef2-fd97-4e5e-aac5-88fcd73a0894",
   "metadata": {},
   "outputs": [],
   "source": []
  },
  {
   "cell_type": "code",
   "execution_count": null,
   "id": "ad20480b-a366-499d-9545-b443c6d33b2b",
   "metadata": {},
   "outputs": [],
   "source": [
    "vrdb = dbm.vrDatabase()"
   ]
  },
  {
   "cell_type": "code",
   "execution_count": 5,
   "id": "44440e7a-a839-4a4d-af9d-8752ace042bd",
   "metadata": {
    "tags": []
   },
   "outputs": [
    {
     "data": {
      "text/plain": [
       "['uSessionID',\n",
       " 'mouseName',\n",
       " 'sessionDate',\n",
       " 'sessionID',\n",
       " 'experimentType',\n",
       " 'experimentID',\n",
       " 'variableGain',\n",
       " 'behavior',\n",
       " 'imaging',\n",
       " 'faceCamera',\n",
       " 'vrEnvironments',\n",
       " 'headPlateRotation',\n",
       " 'numPlanes',\n",
       " 'planeSeparation',\n",
       " 'pockelsPercentage',\n",
       " 'objectiveRotation',\n",
       " 'vrRegistration',\n",
       " 'suite2p',\n",
       " 'suite2pQC',\n",
       " 'redCellQC',\n",
       " 'sessionQC',\n",
       " 'scratchJustification',\n",
       " 'logtime',\n",
       " 'sessionNotes',\n",
       " 'suite2pDate',\n",
       " 'vrRegistrationDate']"
      ]
     },
     "execution_count": 5,
     "metadata": {},
     "output_type": "execute_result"
    }
   ],
   "source": [
    "vrdb.tableData()[0]"
   ]
  },
  {
   "cell_type": "code",
   "execution_count": 109,
   "id": "22169af4-dc06-496e-b49a-66be2d57f116",
   "metadata": {},
   "outputs": [
    {
     "name": "stderr",
     "output_type": "stream",
     "text": [
      "PandasGUI INFO — pandasgui.gui — Opening PandasGUI\n"
     ]
    }
   ],
   "source": [
    "df = vrdb.showTable()"
   ]
  },
  {
   "cell_type": "code",
   "execution_count": 38,
   "id": "d025951f-5e27-4e38-8743-4dea58ae6248",
   "metadata": {},
   "outputs": [],
   "source": [
    "vrdb.checkS2P()"
   ]
  },
  {
   "cell_type": "code",
   "execution_count": 21,
   "id": "32f6fd1f-469b-46d7-8508-ce6e16a034a3",
   "metadata": {},
   "outputs": [],
   "source": [
    "vrdb.printRequiresS2P()"
   ]
  },
  {
   "cell_type": "code",
   "execution_count": null,
   "id": "62197ed7-5338-430f-bab6-710b54bb414b",
   "metadata": {},
   "outputs": [
    {
     "name": "stderr",
     "output_type": "stream",
     "text": [
      "PandasGUI INFO — pandasgui.gui — Opening PandasGUI\n"
     ]
    }
   ],
   "source": [
    "xx = vrdb.getTable(ignoreScratched=False, imaging=True, **{\"sessionQC\":False})\n",
    "vrdb.showTable(xx)"
   ]
  },
  {
   "cell_type": "code",
   "execution_count": null,
   "id": "6a9cabe1-763b-4d89-b805-68c549627da6",
   "metadata": {},
   "outputs": [],
   "source": []
  },
  {
   "cell_type": "code",
   "execution_count": 77,
   "id": "2397c17d-ee04-4048-8500-6d6cf2ab1334",
   "metadata": {},
   "outputs": [
    {
     "name": "stdout",
     "output_type": "stream",
     "text": [
      "C:\\Users\\andrew\\Documents\\localData\\ATL012\\2023-01-18\\701\\suite2p\n"
     ]
    }
   ],
   "source": [
    "for idx, row in vrdb.getTable().iterrows():\n",
    "    vrs = vrdb.vrSession(row)\n",
    "    s2pPath = vrs.suite2pPath()\n",
    "    print(s2pPath)\n",
    "    break"
   ]
  },
  {
   "cell_type": "code",
   "execution_count": 85,
   "id": "32d1921c-fff1-4058-bd29-8a437add4691",
   "metadata": {
    "tags": []
   },
   "outputs": [
    {
     "data": {
      "text/plain": [
       "datetime.datetime(2023, 1, 18, 13, 52, 37, 790563)"
      ]
     },
     "execution_count": 85,
     "metadata": {},
     "output_type": "execute_result"
    }
   ],
   "source": [
    "import datetime\n",
    "datetime.datetime.fromtimestamp(s2pPath.stat().st_ctime)"
   ]
  },
  {
   "cell_type": "code",
   "execution_count": null,
   "id": "8e8ceaa5-0399-46c6-9d13-ef70777b6a7e",
   "metadata": {},
   "outputs": [],
   "source": []
  },
  {
   "cell_type": "code",
   "execution_count": 16,
   "id": "954ed569-76ec-4a21-add9-3299c9ce74c1",
   "metadata": {
    "tags": []
   },
   "outputs": [],
   "source": [
    "df = vrdb.getTable() # full dataframe\n",
    "cUIDs = df['uSessionID'].tolist()\n",
    "newBool = [False]*len(cUIDs)\n",
    "\n",
    "with vrdb.openCursor(commitChanges=True) as cursor:\n",
    "    cursor.executemany(vrdb.createUpdateManyStatement('redCellQC'), zip(newBool,cUIDs))"
   ]
  },
  {
   "cell_type": "code",
   "execution_count": 131,
   "id": "8d62e8ce-cc70-4b11-877e-f675aecccb3a",
   "metadata": {
    "tags": []
   },
   "outputs": [
    {
     "data": {
      "text/plain": [
       "0     True\n",
       "1     True\n",
       "2     True\n",
       "3     True\n",
       "4     True\n",
       "      ... \n",
       "87    True\n",
       "88    True\n",
       "89    True\n",
       "90    True\n",
       "91    True\n",
       "Name: redCellQC, Length: 89, dtype: bool"
      ]
     },
     "execution_count": 131,
     "metadata": {},
     "output_type": "execute_result"
    }
   ],
   "source": [
    "df = vrdb.getTable()\n",
    "df['redCellQC']"
   ]
  },
  {
   "cell_type": "code",
   "execution_count": 133,
   "id": "c03767cd-9f87-4764-916c-1cface98b20f",
   "metadata": {
    "tags": []
   },
   "outputs": [
    {
     "data": {
      "text/plain": [
       "'UPDATE sessiondb set sessionQC = False WHERE uSessionID = 201'"
      ]
     },
     "execution_count": 133,
     "metadata": {},
     "output_type": "execute_result"
    }
   ],
   "source": [
    "vrdb.createUpdateStatement('sessionQC',False,cUID)"
   ]
  },
  {
   "cell_type": "code",
   "execution_count": 139,
   "id": "d98b7594-7625-49df-a294-45311aba8624",
   "metadata": {
    "tags": []
   },
   "outputs": [
    {
     "name": "stdout",
     "output_type": "stream",
     "text": [
      "Help on method createUpdateManyStatement in module dbManagement:\n",
      "\n",
      "createUpdateManyStatement(field) method of dbManagement.vrDatabase instance\n",
      "    to update a single field many times where the value for each uSessionID is provided as a list to cursor.executemany()\n",
      "    usage: \n",
      "    >>> cursor.executemany(self.createUpdateManyStatement(<field>, [(val,uid),(val,uid),...]))\n",
      "\n"
     ]
    }
   ],
   "source": [
    "help(vrdb.createUpdateManyStatement)"
   ]
  },
  {
   "cell_type": "code",
   "execution_count": null,
   "id": "139ee52e-cd8d-4e26-a605-84042e778577",
   "metadata": {},
   "outputs": [],
   "source": []
  },
  {
   "cell_type": "code",
   "execution_count": null,
   "id": "96ec4997-b04e-4c53-9dff-726a173ab16b",
   "metadata": {},
   "outputs": [],
   "source": []
  },
  {
   "cell_type": "code",
   "execution_count": 146,
   "id": "683b548c-48b5-4bf4-8d9a-b36c167fc785",
   "metadata": {
    "tags": []
   },
   "outputs": [
    {
     "name": "stderr",
     "output_type": "stream",
     "text": [
      "PandasGUI INFO — pandasgui.gui — Opening PandasGUI\n"
     ]
    }
   ],
   "source": [
    "vrdb.showTable(vrdb.getTable(ignoreScratched=False))"
   ]
  },
  {
   "cell_type": "code",
   "execution_count": 147,
   "id": "f2e248fa-ffc4-4c03-8877-1afb36253751",
   "metadata": {
    "tags": []
   },
   "outputs": [
    {
     "data": {
      "text/plain": [
       "92"
      ]
     },
     "execution_count": 147,
     "metadata": {},
     "output_type": "execute_result"
    }
   ],
   "source": [
    "df = vrdb.getTable(ignoreScratched=False)\n",
    "len(df)"
   ]
  },
  {
   "cell_type": "code",
   "execution_count": 164,
   "id": "05aa2337-4c2f-455f-b90c-cd633d0a2b20",
   "metadata": {
    "tags": []
   },
   "outputs": [
    {
     "data": {
      "text/plain": [
       "Index([ 0,  1,  2,  3,  4,  5,  7,  8, 10, 12, 13, 14, 15, 16, 17, 18, 19, 20,\n",
       "       21, 22, 23, 24, 25, 26, 27, 28, 29, 30, 31, 32, 33, 34, 35, 36, 37, 38,\n",
       "       39, 40, 41, 42, 43, 44, 45, 46, 47, 48, 49, 50, 51, 52, 53, 54, 55, 56,\n",
       "       57, 58, 59, 60, 61, 62, 63, 64, 65, 66, 67, 68, 69, 70, 71, 72, 73, 74,\n",
       "       75, 76, 77, 78, 79, 80, 81, 82, 83, 84, 85, 86, 87, 88, 89, 90, 91],\n",
       "      dtype='int64')"
      ]
     },
     "execution_count": 164,
     "metadata": {},
     "output_type": "execute_result"
    }
   ],
   "source": [
    "nn = pd.isnull(df['scratchJustification'])\n",
    "nn[nn].index"
   ]
  },
  {
   "cell_type": "code",
   "execution_count": 15,
   "id": "c4fa183e-f6ea-4d05-a052-db62e1269c5d",
   "metadata": {
    "tags": []
   },
   "outputs": [],
   "source": [
    "vrdb.checkSessionScratch(withDatabaseUpdate=False)"
   ]
  },
  {
   "cell_type": "code",
   "execution_count": 34,
   "id": "31bd181f-1fd1-4212-b613-e1bab824d94b",
   "metadata": {
    "tags": []
   },
   "outputs": [],
   "source": [
    "sd = vrdb.add_suite2pDate()"
   ]
  },
  {
   "cell_type": "code",
   "execution_count": 30,
   "id": "de6f00ee-e27e-47a3-98f5-63ac888c0d22",
   "metadata": {
    "tags": []
   },
   "outputs": [
    {
     "name": "stdout",
     "output_type": "stream",
     "text": [
      "01/18/23 13:52:37\n"
     ]
    }
   ],
   "source": [
    "for s in sd: \n",
    "    print(s.strftime('%m/%d/%y %H:%M:%S'))\n",
    "    break"
   ]
  },
  {
   "cell_type": "code",
   "execution_count": null,
   "id": "ce91ba2f-aff2-4d4d-9ae6-8607cc380046",
   "metadata": {},
   "outputs": [],
   "source": []
  }
 ],
 "metadata": {
  "kernelspec": {
   "display_name": "Python 3 (ipykernel)",
   "language": "python",
   "name": "python3"
  },
  "language_info": {
   "codemirror_mode": {
    "name": "ipython",
    "version": 3
   },
   "file_extension": ".py",
   "mimetype": "text/x-python",
   "name": "python",
   "nbconvert_exporter": "python",
   "pygments_lexer": "ipython3",
   "version": "3.9.16"
  }
 },
 "nbformat": 4,
 "nbformat_minor": 5
}
