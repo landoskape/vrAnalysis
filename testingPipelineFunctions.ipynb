{
 "cells": [
  {
   "cell_type": "code",
   "execution_count": 1,
   "id": "62912f35-2f40-4d93-872e-439919754adf",
   "metadata": {},
   "outputs": [],
   "source": [
    "%reload_ext autoreload\n",
    "%autoreload 2\n",
    "\n",
    "%gui qt\n",
    "\n",
    "import time\n",
    "from tqdm import tqdm\n",
    "from pathlib import Path\n",
    "import numpy as np\n",
    "import numba as nb\n",
    "import scipy as sp\n",
    "import matplotlib as mpl\n",
    "import matplotlib.pyplot as plt\n",
    "\n",
    "import vrExperiment as vre\n",
    "import vrFunctions as vrf\n",
    "import basicFunctions as bf\n",
    "import fileManagement as fm\n",
    "import redCellGUI as rgui\n",
    "import dbManagement as dbm"
   ]
  },
  {
   "cell_type": "code",
   "execution_count": 3,
   "id": "ff1fdad1-13d1-4122-9bc4-26d40074c4c3",
   "metadata": {
    "tags": []
   },
   "outputs": [],
   "source": [
    "# Immediate next steps for programming work:\n",
    "# - ROICaT index alignment tools"
   ]
  },
  {
   "cell_type": "code",
   "execution_count": 86,
   "id": "3232a21b-e0f7-43c3-99a2-d2b4b67d3530",
   "metadata": {
    "tags": []
   },
   "outputs": [],
   "source": [
    "mouseName = 'CR_Hippocannula6'\n",
    "dateString = '2022-09-05'\n",
    "session = '701'\n",
    "# vrExperiment registration and preprocessing \n",
    "# vrReg = vre.vrExperimentRegistration(mouseName, dateString, session, oasis=False, imaging=True)\n",
    "# vrReg.processTimeline()\n",
    "# vrReg.processImaging()\n",
    "# vrReg.processRedCells()\n",
    "# vrReg.saveParams()\n",
    "# print(vrReg.sessionPath())\n",
    "# del vrReg"
   ]
  },
  {
   "cell_type": "code",
   "execution_count": 4,
   "id": "25a83aa6-c0d5-437e-8c17-09712c235f5d",
   "metadata": {
    "tags": []
   },
   "outputs": [],
   "source": [
    "mouseName = 'ATL020'\n",
    "dateString = '2023-05-04'\n",
    "session = '702'"
   ]
  },
  {
   "cell_type": "code",
   "execution_count": 99,
   "id": "b546e957-03cd-48ca-98e8-70c1db297f51",
   "metadata": {},
   "outputs": [
    {
     "name": "stdout",
     "output_type": "stream",
     "text": [
      "In session: ATL020/2023-05-04/702, vrFile['rigInfo'] does not exist. Assuming default settings for B2!\n",
      "Self.value['numTrials'] set by trialInfo.trialIdx>0, but this might not be right. There might be smarter ways to determine which trials are 'good' trials...\n",
      "frame2time had 2 more than suite2p output. This happens sometimes. I don't like it. I think it's because scanimage sends a TTL before starting the frame\n",
      "Computing red cell features for ATL020/2023-05-04/702... (usually takes 10-20 seconds)\n",
      "Facecam preprocessing has not been coded yet!\n",
      "C:\\Users\\andrew\\Documents\\localData\\ATL020\\2023-05-04\\702\n"
     ]
    }
   ],
   "source": [
    "# vrExperiment registration and preprocessing \n",
    "vrReg = vre.vrExperimentRegistration(mouseName, dateString, session, oasis=False, imaging=True)\n",
    "vrReg.doPreprocessing()\n",
    "vrReg.saveParams()\n",
    "print(vrReg.sessionPath())\n",
    "del vrReg"
   ]
  },
  {
   "cell_type": "code",
   "execution_count": 5,
   "id": "3e43e9b6-b917-433c-a1a5-3064da5894f8",
   "metadata": {
    "tags": []
   },
   "outputs": [],
   "source": [
    "# Load registered vrExperiment\n",
    "vrexp = vre.vrExperiment(mouseName, dateString, session)"
   ]
  },
  {
   "cell_type": "code",
   "execution_count": 13,
   "id": "e7e2036c-4509-41bc-96ff-1d1337ffbb29",
   "metadata": {
    "tags": []
   },
   "outputs": [
    {
     "name": "stdout",
     "output_type": "stream",
     "text": [
      "CPU times: total: 3.58 s\n",
      "Wall time: 512 ms\n"
     ]
    }
   ],
   "source": [
    "%%time\n",
    "speedThreshold = 5\n",
    "omap, smap, lickmap, distvec = vrf.getBehaviorMaps(vrexp,speedThreshold=speedThreshold) # produce smoothed occupancy and speed maps, along with the distance bins used to create them\n",
    "frameTrialIdx, framePosition, frameSpeed = vrexp.getFrameBehavior() # convert behavioral data into timeframe of spiking data\n",
    "spkmap = vrf.getSpikeMap(vrexp, frameTrialIdx, framePosition, frameSpeed, distvec, omap, speedThreshold=speedThreshold, standardizeSpks=False, doSmoothing=0) # produce the spkmap \n",
    "idxFullTrials = np.all(~np.isnan(omap),axis=1) # find out which trials the mouse explored the whole environment\n",
    "relmse, relcor = vrf.measureReliability(spkmap[:,idxFullTrials], numcv=3) # measure reliability of spiking\n",
    "spInfo = vrf.measureSpatialInformation(omap[idxFullTrials], spkmap[:,idxFullTrials]) # measure spatial information of spiking"
   ]
  },
  {
   "cell_type": "code",
   "execution_count": 147,
   "id": "7b8e9865-e913-4dfc-a697-8079801b3c8b",
   "metadata": {},
   "outputs": [],
   "source": [
    "# Code block for opening redSelectionGUI for a vrExperiment\n",
    "vrexp = vre.vrExperiment(mouseName, dateString, session)\n",
    "redCell = vre.redCellProcessing(vrexp)\n",
    "redSelection = rgui.redSelectionGUI(redCell)"
   ]
  },
  {
   "cell_type": "code",
   "execution_count": null,
   "id": "487110b4-4e2c-4b24-bea9-56d03b2b06d5",
   "metadata": {},
   "outputs": [],
   "source": []
  },
  {
   "cell_type": "code",
   "execution_count": 107,
   "id": "e0053925-bb55-4674-b14f-625529c7e63f",
   "metadata": {},
   "outputs": [
    {
     "name": "stdout",
     "output_type": "stream",
     "text": [
      "\\\\zaru.cortexlab.net\\Subjects\\ATL027\\2023-08-10\\701\n",
      "C:\\Users\\andrew\\Documents\\localData\\ATL027\\2023-08-10\\701\n"
     ]
    }
   ],
   "source": [
    "# fm.getCopyString('ATL027')\n",
    "fm.s2pTargets('ATL027','2023-08-10','701')"
   ]
  },
  {
   "cell_type": "code",
   "execution_count": 13,
   "id": "0fba9de9-3cd2-4a7c-8131-c80647e6c422",
   "metadata": {},
   "outputs": [
    {
     "name": "stdout",
     "output_type": "stream",
     "text": [
      "ATL020/2023-05-04/702\n"
     ]
    },
    {
     "data": {
      "text/plain": [
       "datetime.datetime(2023, 8, 14, 12, 40, 17, 910041)"
      ]
     },
     "execution_count": 13,
     "metadata": {},
     "output_type": "execute_result"
    }
   ],
   "source": [
    "print(vrexp.sessionPrint())\n",
    "latestModification = 0\n",
    "for p in vrexp.suite2pPath().rglob(\"*\"):\n",
    "    latestModification = max(p.stat().st_mtime, latestModification)\n",
    "\n",
    "import datetime \n",
    "datetime.datetime.fromtimestamp(latestModification)"
   ]
  },
  {
   "cell_type": "code",
   "execution_count": null,
   "id": "7adb6fba-a7be-4e21-8f1e-821f89534197",
   "metadata": {},
   "outputs": [],
   "source": []
  },
  {
   "cell_type": "code",
   "execution_count": 35,
   "id": "f30964c8-6bcd-48c5-8fa7-98516554ba2a",
   "metadata": {
    "tags": []
   },
   "outputs": [],
   "source": [
    "# Database Requirements: \n",
    "# ---------------------\n",
    "# GUI: db manager\n",
    "# - show full database -\n",
    "# - show selected entries (like for example entries with imaging but no suite2p) -\n",
    "#                --> It would be sweet to make this work where there are some defaults, but then there is also a \"filter command\" option which you type and goes as the input to the filtering\n",
    "# - click on entry and do things:\n",
    "#                --> open file explorer to that session\n",
    "#                --> do suite2p\n",
    "#                --> do red cell management\n",
    "# - update table data? \n",
    "# ---------------------\n",
    "# Operational Commands: \n",
    "# - Automatically do suite2p \n",
    "# - Check if registration was done before a suite2p update\n",
    "# - Find way to determine if a suite2p file was updated after the folder was made (indicating that QC was done afterwards) -- so registration should be rerun for imaging data at least\n",
    "#    -- check if \"iscell\" is the only thing that was done after registration. In this case, just update the iscell oneData\n",
    "# ---------------------\n",
    "# - Add new entry GUI!!!\n",
    "# ---------------------\n",
    "# - Check session folders to see if new session is present that isn't registered in the database? \n",
    "# ---------------------"
   ]
  },
  {
   "cell_type": "code",
   "execution_count": null,
   "id": "f327fee8-38c7-4204-9aa6-a51797d2992a",
   "metadata": {},
   "outputs": [],
   "source": []
  },
  {
   "cell_type": "code",
   "execution_count": null,
   "id": "8ae30ef2-fd97-4e5e-aac5-88fcd73a0894",
   "metadata": {},
   "outputs": [],
   "source": []
  },
  {
   "cell_type": "code",
   "execution_count": 2,
   "id": "ad20480b-a366-499d-9545-b443c6d33b2b",
   "metadata": {},
   "outputs": [],
   "source": [
    "vrdb = dbm.vrDatabase()"
   ]
  },
  {
   "cell_type": "code",
   "execution_count": 3,
   "id": "44440e7a-a839-4a4d-af9d-8752ace042bd",
   "metadata": {
    "tags": []
   },
   "outputs": [
    {
     "data": {
      "text/plain": [
       "['uSessionID',\n",
       " 'mouseName',\n",
       " 'sessionDate',\n",
       " 'sessionID',\n",
       " 'experimentType',\n",
       " 'experimentID',\n",
       " 'variableGain',\n",
       " 'behavior',\n",
       " 'imaging',\n",
       " 'faceCamera',\n",
       " 'vrEnvironments',\n",
       " 'headPlateRotation',\n",
       " 'numPlanes',\n",
       " 'planeSeparation',\n",
       " 'pockelsPercentage',\n",
       " 'objectiveRotation',\n",
       " 'vrRegistration',\n",
       " 'suite2p',\n",
       " 'suite2pQC',\n",
       " 'redCellQC',\n",
       " 'sessionQC',\n",
       " 'scratchJustification',\n",
       " 'logtime',\n",
       " 'sessionNotes',\n",
       " 'suite2pDate',\n",
       " 'suite2pTime',\n",
       " 'vrRegistrationDate',\n",
       " 'vrRegistrationTime']"
      ]
     },
     "execution_count": 3,
     "metadata": {},
     "output_type": "execute_result"
    }
   ],
   "source": [
    "vrdb.tableData()[0]"
   ]
  },
  {
   "cell_type": "code",
   "execution_count": 7,
   "id": "22169af4-dc06-496e-b49a-66be2d57f116",
   "metadata": {},
   "outputs": [
    {
     "name": "stderr",
     "output_type": "stream",
     "text": [
      "PandasGUI INFO — pandasgui.gui — Opening PandasGUI\n"
     ]
    }
   ],
   "source": [
    "df = vrdb.showTable()"
   ]
  },
  {
   "cell_type": "code",
   "execution_count": 5,
   "id": "6a9cabe1-763b-4d89-b805-68c549627da6",
   "metadata": {},
   "outputs": [],
   "source": [
    "vrdb.updateSuite2pDateTime()"
   ]
  },
  {
   "cell_type": "code",
   "execution_count": null,
   "id": "8e8ceaa5-0399-46c6-9d13-ef70777b6a7e",
   "metadata": {},
   "outputs": [
    {
     "name": "stdout",
     "output_type": "stream",
     "text": [
      "In registerSessions, 'vrBehaviorVersion' is an important input that hasn't been coded yet!\n",
      "\n",
      "Performing vrExperiment preprocessing for session: ATL012/2023-01-30/702\n",
      "In session: ATL012/2023-01-30/702, vrFile['rigInfo'] does not exist. Assuming default settings for B2!\n",
      "Self.value['numTrials'] set by trialInfo.trialIdx>0, but this might not be right. There might be smarter ways to determine which trials are 'good' trials...\n",
      "The following npy files are present in some but not all plane folders within session ATL012/2023-01-30/702: ['spks', 'stat', 'Fneu', 'Fneu_chan2', 'redcell', 'iscell', 'F', 'F_chan2']\n",
      "Each plane folder contains the following npy files: ['ops']\n",
      "The following exception was raised when trying to preprocess session: ATL012/2023-01-30/702\n",
      "Exception: ATL012/2023-01-30/702 is missing stat in at least one suite2p folder!\n",
      "\n",
      "Performing vrExperiment preprocessing for session: ATL012/2023-02-17/701\n",
      "The following exception was raised when trying to preprocess session: ATL012/2023-02-17/701\n",
      "Exception: [Errno 13] Permission denied\n",
      "\n",
      "Performing vrExperiment preprocessing for session: ATL012/2023-03-01/701\n",
      "In session: ATL012/2023-03-01/701, vrFile['rigInfo'] does not exist. Assuming default settings for B2!\n",
      "Self.value['numTrials'] set by trialInfo.trialIdx>0, but this might not be right. There might be smarter ways to determine which trials are 'good' trials...\n",
      "The following exception was raised when trying to preprocess session: ATL012/2023-03-01/701\n",
      "Exception: cannot reshape array of size 0 into shape (2219,14149)\n",
      "\n",
      "Performing vrExperiment preprocessing for session: ATL012/2023-07-17/701\n",
      "The following exception was raised when trying to preprocess session: ATL012/2023-07-17/701\n",
      "Exception: 'mat_struct' object is not subscriptable\n",
      "\n",
      "Performing vrExperiment preprocessing for session: ATL012/2023-07-18/701\n",
      "The following exception was raised when trying to preprocess session: ATL012/2023-07-18/701\n",
      "Exception: 'mat_struct' object is not subscriptable\n",
      "\n",
      "Performing vrExperiment preprocessing for session: ATL012/2023-07-19/703\n",
      "The following exception was raised when trying to preprocess session: ATL012/2023-07-19/703\n",
      "Exception: 'mat_struct' object is not subscriptable\n",
      "\n",
      "Performing vrExperiment preprocessing for session: ATL012/2023-07-20/702\n",
      "The following exception was raised when trying to preprocess session: ATL012/2023-07-20/702\n",
      "Exception: 'mat_struct' object is not subscriptable\n",
      "\n",
      "Performing vrExperiment preprocessing for session: ATL020/2023-03-24/701\n",
      "In session: ATL020/2023-03-24/701, vrFile['rigInfo'] does not exist. Assuming default settings for B2!\n",
      "Self.value['numTrials'] set by trialInfo.trialIdx>0, but this might not be right. There might be smarter ways to determine which trials are 'good' trials...\n",
      "The following exception was raised when trying to preprocess session: ATL020/2023-03-24/701\n",
      "Exception: cannot reshape array of size 0 into shape (2928,14499)\n",
      "\n",
      "Performing vrExperiment preprocessing for session: ATL020/2023-03-29/701\n",
      "In session: ATL020/2023-03-29/701, vrFile['rigInfo'] does not exist. Assuming default settings for B2!\n",
      "Self.value['numTrials'] set by trialInfo.trialIdx>0, but this might not be right. There might be smarter ways to determine which trials are 'good' trials...\n",
      "Computing red cell features for ATL020/2023-03-29/701... (usually takes 10-20 seconds)\n",
      "Facecam preprocessing has not been coded yet!\n",
      "Saving params...\n",
      "\n",
      "Performing vrExperiment preprocessing for session: ATL020/2023-03-31/701\n",
      "In session: ATL020/2023-03-31/701, vrFile['rigInfo'] does not exist. Assuming default settings for B2!\n",
      "Self.value['numTrials'] set by trialInfo.trialIdx>0, but this might not be right. There might be smarter ways to determine which trials are 'good' trials...\n",
      "The following exception was raised when trying to preprocess session: ATL020/2023-03-31/701\n",
      "Exception: cannot reshape array of size 0 into shape (3846,15051)\n",
      "\n",
      "Performing vrExperiment preprocessing for session: ATL020/2023-04-04/701\n",
      "In session: ATL020/2023-04-04/701, vrFile['rigInfo'] does not exist. Assuming default settings for B2!\n",
      "Self.value['numTrials'] set by trialInfo.trialIdx>0, but this might not be right. There might be smarter ways to determine which trials are 'good' trials...\n",
      "Computing red cell features for ATL020/2023-04-04/701... (usually takes 10-20 seconds)\n",
      "Facecam preprocessing has not been coded yet!\n",
      "Saving params...\n",
      "\n",
      "Performing vrExperiment preprocessing for session: ATL020/2023-04-05/701\n",
      "In session: ATL020/2023-04-05/701, vrFile['rigInfo'] does not exist. Assuming default settings for B2!\n",
      "Self.value['numTrials'] set by trialInfo.trialIdx>0, but this might not be right. There might be smarter ways to determine which trials are 'good' trials...\n",
      "frame2time had 2 more than suite2p output. This happens sometimes. I don't like it. I think it's because scanimage sends a TTL before starting the frame\n",
      "Computing red cell features for ATL020/2023-04-05/701... (usually takes 10-20 seconds)\n",
      "Facecam preprocessing has not been coded yet!\n",
      "Saving params...\n",
      "\n",
      "Performing vrExperiment preprocessing for session: ATL020/2023-04-06/701\n",
      "In session: ATL020/2023-04-06/701, vrFile['rigInfo'] does not exist. Assuming default settings for B2!\n",
      "Self.value['numTrials'] set by trialInfo.trialIdx>0, but this might not be right. There might be smarter ways to determine which trials are 'good' trials...\n",
      "Computing red cell features for ATL020/2023-04-06/701... (usually takes 10-20 seconds)\n",
      "Facecam preprocessing has not been coded yet!\n",
      "Saving params...\n",
      "\n",
      "Performing vrExperiment preprocessing for session: ATL020/2023-04-11/701\n",
      "In session: ATL020/2023-04-11/701, vrFile['rigInfo'] does not exist. Assuming default settings for B2!\n",
      "Self.value['numTrials'] set by trialInfo.trialIdx>0, but this might not be right. There might be smarter ways to determine which trials are 'good' trials...\n",
      "In session ATL020/2023-04-11/701, frameSamples has 17751 elements, but 14000 frames were reported in suite2p. Cannot resolve.\n",
      "The following exception was raised when trying to preprocess session: ATL020/2023-04-11/701\n",
      "Exception: Cannot fix mismatches when suite2p data is missing!\n",
      "\n",
      "Performing vrExperiment preprocessing for session: ATL020/2023-04-28/701\n",
      "In session: ATL020/2023-04-28/701, vrFile['rigInfo'] does not exist. Assuming default settings for B2!\n",
      "Self.value['numTrials'] set by trialInfo.trialIdx>0, but this might not be right. There might be smarter ways to determine which trials are 'good' trials...\n",
      "In session ATL020/2023-04-28/701, imaging setting set to False in opts['imaging']. Skipping image processing.\n",
      "Facecam preprocessing has not been coded yet!\n",
      "In session ATL020/2023-04-28/701, the one file mpci.times.npy doesn't exist. Here is a list of saved oneData files:\n",
      "licks.times\n",
      "licksTracking.positionTracking\n",
      "positionTracking.position\n",
      "positionTracking.times\n",
      "rewards.times\n",
      "trials.activeLicking\n",
      "trials.activeStopping\n",
      "trials.environmentIndex\n",
      "trials.movementGain\n",
      "trials.positionTracking\n",
      "trials.rewardAvailability\n",
      "trials.rewardPosition\n",
      "trials.rewardPositionTracking\n",
      "trials.rewardZoneHalfwidth\n",
      "trials.roomlength\n",
      "trials.startTimes\n",
      "wheelPosition.position\n",
      "wheelPosition.times\n",
      "The following exception was raised when trying to preprocess session: ATL020/2023-04-28/701\n",
      "Exception: oneData requested is not available\n",
      "\n",
      "Performing vrExperiment preprocessing for session: ATL020/2023-05-02/701\n",
      "In session: ATL020/2023-05-02/701, vrFile['rigInfo'] does not exist. Assuming default settings for B2!\n",
      "Self.value['numTrials'] set by trialInfo.trialIdx>0, but this might not be right. There might be smarter ways to determine which trials are 'good' trials...\n",
      "In session ATL020/2023-05-02/701, imaging setting set to False in opts['imaging']. Skipping image processing.\n",
      "Facecam preprocessing has not been coded yet!\n",
      "In session ATL020/2023-05-02/701, the one file mpci.times.npy doesn't exist. Here is a list of saved oneData files:\n",
      "licks.times\n",
      "licksTracking.positionTracking\n",
      "positionTracking.position\n",
      "positionTracking.times\n",
      "rewards.times\n",
      "trials.activeLicking\n",
      "trials.activeStopping\n",
      "trials.environmentIndex\n",
      "trials.movementGain\n",
      "trials.positionTracking\n",
      "trials.rewardAvailability\n",
      "trials.rewardPosition\n",
      "trials.rewardPositionTracking\n",
      "trials.rewardZoneHalfwidth\n",
      "trials.roomlength\n",
      "trials.startTimes\n",
      "wheelPosition.position\n",
      "wheelPosition.times\n",
      "The following exception was raised when trying to preprocess session: ATL020/2023-05-02/701\n",
      "Exception: oneData requested is not available\n",
      "\n",
      "Performing vrExperiment preprocessing for session: ATL020/2023-05-03/701\n"
     ]
    }
   ],
   "source": [
    "vrdb.registerSessions()"
   ]
  },
  {
   "cell_type": "code",
   "execution_count": null,
   "id": "139ee52e-cd8d-4e26-a605-84042e778577",
   "metadata": {},
   "outputs": [],
   "source": []
  },
  {
   "cell_type": "code",
   "execution_count": null,
   "id": "daf65579-feff-42ea-891d-d24b84c6e31f",
   "metadata": {},
   "outputs": [],
   "source": []
  },
  {
   "cell_type": "code",
   "execution_count": null,
   "id": "cf00d5cc-0c51-4131-8fa7-0b41fee847ee",
   "metadata": {},
   "outputs": [],
   "source": []
  },
  {
   "cell_type": "code",
   "execution_count": null,
   "id": "e74ede15-aa25-48f7-9c56-8dd6c8c37aac",
   "metadata": {},
   "outputs": [],
   "source": []
  },
  {
   "cell_type": "code",
   "execution_count": null,
   "id": "5318e970-ea88-4ea2-8444-ec96eaebc629",
   "metadata": {},
   "outputs": [],
   "source": []
  }
 ],
 "metadata": {
  "kernelspec": {
   "display_name": "Python 3 (ipykernel)",
   "language": "python",
   "name": "python3"
  },
  "language_info": {
   "codemirror_mode": {
    "name": "ipython",
    "version": 3
   },
   "file_extension": ".py",
   "mimetype": "text/x-python",
   "name": "python",
   "nbconvert_exporter": "python",
   "pygments_lexer": "ipython3",
   "version": "3.9.16"
  }
 },
 "nbformat": 4,
 "nbformat_minor": 5
}
