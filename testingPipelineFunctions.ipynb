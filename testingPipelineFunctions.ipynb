{
 "cells": [
  {
   "cell_type": "code",
   "execution_count": 1,
   "id": "62912f35-2f40-4d93-872e-439919754adf",
   "metadata": {},
   "outputs": [],
   "source": [
    "%reload_ext autoreload\n",
    "%autoreload 2\n",
    "\n",
    "%gui qt\n",
    "\n",
    "import numpy as np\n",
    "import numba as nb\n",
    "import scipy as sp\n",
    "import matplotlib as mpl\n",
    "import matplotlib.pyplot as plt\n",
    "from tqdm import tqdm\n",
    "import time\n",
    "import napari\n",
    "from pathlib import Path\n",
    "import vrExperiment as vre\n",
    "import vrFunctions as vrf\n",
    "import basicFunctions as bf\n",
    "import fileManagement as fm\n",
    "import redCellGUI as rgui"
   ]
  },
  {
   "cell_type": "code",
   "execution_count": 3,
   "id": "ff1fdad1-13d1-4122-9bc4-26d40074c4c3",
   "metadata": {
    "tags": []
   },
   "outputs": [],
   "source": [
    "# Immediate next steps for programming work:\n",
    "\n",
    "# - database development\n",
    "# - ROICaT index alignment tools\n"
   ]
  },
  {
   "cell_type": "code",
   "execution_count": 16,
   "id": "266df662-bc89-4dc4-ad54-58669e96b403",
   "metadata": {
    "tags": []
   },
   "outputs": [],
   "source": [
    "mouseName = 'ATL020'\n",
    "dateString = '2023-05-04'\n",
    "session = '702'"
   ]
  },
  {
   "cell_type": "code",
   "execution_count": 113,
   "id": "3232a21b-e0f7-43c3-99a2-d2b4b67d3530",
   "metadata": {
    "tags": []
   },
   "outputs": [
    {
     "name": "stdout",
     "output_type": "stream",
     "text": [
      "In session: CR_Hippocannula6/2022-09-05/701, vrFile['rigInfo'] does not exist. Assuming default settings for B2!\n",
      "Convert mpciROIs.planeIndex to mpciROIs.stackPosition, with [X,Y,Z(planeIndex)] coordinate for each ROI!\n",
      "Computing red cell features... (usually takes 10-20 seconds)\n",
      "C:\\Users\\andrew\\Documents\\localData\\CR_Hippocannula6\\2022-09-05\\701\n"
     ]
    }
   ],
   "source": [
    "mouseName = 'CR_Hippocannula6'\n",
    "dateString = '2022-09-05'\n",
    "session = '701'\n",
    "\n",
    "# vrExperiment registration and preprocessing \n",
    "# vrReg = vre.vrExperimentRegistration(mouseName, dateString, session, oasis=False, imaging=True)\n",
    "# vrReg.processTimeline()\n",
    "# vrReg.processImaging()\n",
    "# vrReg.processRedCells()\n",
    "# vrReg.saveParams()\n",
    "# print(vrReg.sessionPath())\n",
    "# del vrReg"
   ]
  },
  {
   "cell_type": "code",
   "execution_count": 3,
   "id": "b546e957-03cd-48ca-98e8-70c1db297f51",
   "metadata": {},
   "outputs": [],
   "source": [
    "# vrExperiment registration and preprocessing \n",
    "vrReg = vre.vrExperimentRegistration(mouseName, dateString, session, oasis=False, imaging=True)\n",
    "vrReg.doPreprocessing()\n",
    "vrReg.saveParams()\n",
    "print(vrReg.sessionPath())\n",
    "del vrReg"
   ]
  },
  {
   "cell_type": "code",
   "execution_count": 3,
   "id": "3e43e9b6-b917-433c-a1a5-3064da5894f8",
   "metadata": {
    "tags": []
   },
   "outputs": [],
   "source": [
    "# Load registered vrExperiment\n",
    "vrexp = vre.vrExperiment(mouseName, dateString, session)"
   ]
  },
  {
   "cell_type": "code",
   "execution_count": 13,
   "id": "e7e2036c-4509-41bc-96ff-1d1337ffbb29",
   "metadata": {
    "tags": []
   },
   "outputs": [
    {
     "name": "stdout",
     "output_type": "stream",
     "text": [
      "CPU times: total: 3.58 s\n",
      "Wall time: 512 ms\n"
     ]
    }
   ],
   "source": [
    "%%time\n",
    "speedThreshold = 5\n",
    "omap, smap, lickmap, distvec = vrf.getBehaviorMaps(vrexp,speedThreshold=speedThreshold) # produce smoothed occupancy and speed maps, along with the distance bins used to create them\n",
    "frameTrialIdx, framePosition, frameSpeed = vrexp.getFrameBehavior() # convert behavioral data into timeframe of spiking data\n",
    "spkmap = vrf.getSpikeMap(vrexp, frameTrialIdx, framePosition, frameSpeed, distvec, omap, speedThreshold=speedThreshold, standardizeSpks=False, doSmoothing=0) # produce the spkmap \n",
    "idxFullTrials = np.all(~np.isnan(omap),axis=1) # find out which trials the mouse explored the whole environment\n",
    "relmse, relcor = vrf.measureReliability(spkmap[:,idxFullTrials], numcv=3) # measure reliability of spiking\n",
    "spInfo = vrf.measureSpatialInformation(omap[idxFullTrials], spkmap[:,idxFullTrials]) # measure spatial information of spiking"
   ]
  },
  {
   "cell_type": "code",
   "execution_count": 147,
   "id": "7b8e9865-e913-4dfc-a697-8079801b3c8b",
   "metadata": {},
   "outputs": [],
   "source": [
    "# Code block for opening redSelectionGUI for a vrExperiment\n",
    "vrexp = vre.vrExperiment(mouseName, dateString, session)\n",
    "redCell = vre.redCellProcessing(vrexp)\n",
    "redSelection = rgui.redSelectionGUI(redCell)"
   ]
  },
  {
   "cell_type": "code",
   "execution_count": null,
   "id": "487110b4-4e2c-4b24-bea9-56d03b2b06d5",
   "metadata": {},
   "outputs": [],
   "source": []
  },
  {
   "cell_type": "code",
   "execution_count": 2,
   "id": "e0053925-bb55-4674-b14f-625529c7e63f",
   "metadata": {},
   "outputs": [
    {
     "name": "stdout",
     "output_type": "stream",
     "text": [
      "robocopy \\\\zaru.cortexlab.net\\Subjects\\ATL027 C:\\Users\\andrew\\Documents\\localData\\ATL027 /s /xf *.tif\n",
      "\\\\zaru.cortexlab.net\\Subjects\\ATL027\\2023-08-08\\701\n",
      "C:\\Users\\andrew\\Documents\\localData\\ATL027\\2023-08-08\\701\n"
     ]
    }
   ],
   "source": [
    "fm.getCopyString('ATL027')\n",
    "fm.s2pTargets('ATL027','2023-08-08','701')"
   ]
  },
  {
   "cell_type": "code",
   "execution_count": null,
   "id": "0943758c-8b2b-4fc2-9fb4-39f470ce859b",
   "metadata": {},
   "outputs": [],
   "source": []
  },
  {
   "cell_type": "code",
   "execution_count": 16,
   "id": "c31b96eb-388c-47a9-95d8-26a4568737aa",
   "metadata": {},
   "outputs": [
    {
     "data": {
      "text/plain": [
       "['unique identifier',\n",
       " 'mouseName',\n",
       " 'date',\n",
       " 'session ID',\n",
       " 'unique mouse ID',\n",
       " 'experiment type',\n",
       " 'imaging',\n",
       " 'face camera',\n",
       " 'vrEnvironments',\n",
       " 'number of imaging planes',\n",
       " 'separation of imaging planes',\n",
       " 'pockels cell percentage',\n",
       " 'rotation of objective',\n",
       " 'rotation of head plate holder',\n",
       " 'suite2p processed',\n",
       " 'suite2p quality control',\n",
       " 'vrExperiment registration processed',\n",
       " 'red cell quality control',\n",
       " 'session quality control']"
      ]
     },
     "execution_count": 16,
     "metadata": {},
     "output_type": "execute_result"
    }
   ],
   "source": [
    "dbpath = fm.codePath() / 'database'\n",
    "headerColumns = []\n",
    "with open(dbpath/'databaseConstruction'/'sessionHeaders.txt') as f:\n",
    "    for x in f: \n",
    "        headerColumns.append(x.strip())\n",
    "\n",
    "headerColumns"
   ]
  },
  {
   "cell_type": "code",
   "execution_count": null,
   "id": "59fe9741-5575-4915-a2c5-1621748ad5a6",
   "metadata": {},
   "outputs": [],
   "source": []
  },
  {
   "cell_type": "code",
   "execution_count": null,
   "id": "25abd140-d765-44f7-abea-cb8a31a85d4f",
   "metadata": {},
   "outputs": [],
   "source": []
  },
  {
   "cell_type": "code",
   "execution_count": 37,
   "id": "e45f5233-2bef-4ac2-bc73-93e5899d443b",
   "metadata": {
    "tags": []
   },
   "outputs": [
    {
     "name": "stdout",
     "output_type": "stream",
     "text": [
      "2023-01-30    701    numFiles: 1\n",
      "2023-02-01    701    numFiles: 1\n",
      "2023-02-02    701    numFiles: 1\n",
      "2023-02-06    701    numFiles: 1\n",
      "2023-02-07    701    numFiles: 1\n",
      "2023-02-08    702    numFiles: 1\n",
      "2023-02-09    701    numFiles: 1\n",
      "2023-02-14    703    numFiles: 1\n",
      "2023-02-15    701    numFiles: 1\n",
      "2023-02-16    701    numFiles: 1\n",
      "2023-02-17    701    numFiles: 1\n",
      "2023-02-20    701    numFiles: 1\n",
      "2023-02-21    702    numFiles: 1\n",
      "2023-02-22    701    numFiles: 1\n",
      "2023-02-27    701    numFiles: 1\n",
      "2023-02-28    701    numFiles: 1\n",
      "2023-03-01    701    numFiles: 1\n",
      "2023-03-03    701    numFiles: 1\n",
      "2023-07-10    701    numFiles: 1\n",
      "2023-07-10    702    numFiles: 1\n",
      "2023-07-11    701    numFiles: 1\n",
      "2023-07-13    701    numFiles: 1\n",
      "2023-07-14    701    numFiles: 1\n",
      "2023-07-17    701    numFiles: 1\n",
      "2023-07-18    701    numFiles: 1\n",
      "2023-07-19    701    numFiles: 1\n",
      "2023-07-19    702    numFiles: 1\n",
      "2023-07-19    703    numFiles: 1\n",
      "2023-07-20    701    numFiles: 1\n",
      "2023-07-20    702    numFiles: 1\n"
     ]
    }
   ],
   "source": [
    "def checkSessionFiles(mouseName, fileIdentifier, onlyTrue=True):\n",
    "    dataPath = fm.localDataPath()\n",
    "    sessionPaths = glob(str(dataPath / mouseName) + '/*')\n",
    "    for spath in sessionPaths:\n",
    "        cdate = Path(spath).name\n",
    "        sessions = glob(spath+'/*/')\n",
    "        for s in sessions:\n",
    "            cses = Path(s).name\n",
    "            targetFiles = glob(s+fileIdentifier)\n",
    "            numFiles = len(targetFiles)\n",
    "            if not(onlyTrue and numFiles==0): \n",
    "                print(f\"{cdate}    {cses}    numFiles: {numFiles}\")\n",
    "            \n",
    "checkSessionFiles('ATL012', '*eye.mj2') #'*eye.mj2' / 'suite2p')"
   ]
  },
  {
   "cell_type": "code",
   "execution_count": 39,
   "id": "5c3e5630-3cc1-441d-aaa1-b9341c4a5b28",
   "metadata": {
    "tags": []
   },
   "outputs": [],
   "source": [
    "# Note to self -- I'm currently working on migrating my documentation of the data collection over to the access database. \n",
    "# I probably want to restart a new \"sessions\" database and then move everything over from excel. \n",
    "# Right now, I'm just moving data from google sheets to excel..."
   ]
  },
  {
   "cell_type": "code",
   "execution_count": null,
   "id": "c82d426d-5436-4c91-82d6-890efb5b0055",
   "metadata": {},
   "outputs": [],
   "source": []
  },
  {
   "cell_type": "code",
   "execution_count": null,
   "id": "ce98d1f4-409d-4db7-bf22-22c1ae066703",
   "metadata": {},
   "outputs": [],
   "source": []
  },
  {
   "cell_type": "code",
   "execution_count": 15,
   "id": "26726078-6b24-4051-9b23-84fc9844be34",
   "metadata": {},
   "outputs": [
    {
     "data": {
      "text/plain": [
       "['C:\\\\Users\\\\andrew\\\\Documents\\\\localData\\\\ATL012\\\\2023-01-12\\\\701',\n",
       " 'C:\\\\Users\\\\andrew\\\\Documents\\\\localData\\\\ATL012\\\\2023-01-12\\\\702',\n",
       " 'C:\\\\Users\\\\andrew\\\\Documents\\\\localData\\\\ATL012\\\\2023-01-12\\\\703',\n",
       " 'C:\\\\Users\\\\andrew\\\\Documents\\\\localData\\\\ATL012\\\\2023-01-18\\\\701',\n",
       " 'C:\\\\Users\\\\andrew\\\\Documents\\\\localData\\\\ATL012\\\\2023-01-19\\\\701',\n",
       " 'C:\\\\Users\\\\andrew\\\\Documents\\\\localData\\\\ATL012\\\\2023-01-20\\\\701',\n",
       " 'C:\\\\Users\\\\andrew\\\\Documents\\\\localData\\\\ATL012\\\\2023-01-20\\\\702',\n",
       " 'C:\\\\Users\\\\andrew\\\\Documents\\\\localData\\\\ATL012\\\\2023-01-23\\\\701',\n",
       " 'C:\\\\Users\\\\andrew\\\\Documents\\\\localData\\\\ATL012\\\\2023-01-24\\\\701',\n",
       " 'C:\\\\Users\\\\andrew\\\\Documents\\\\localData\\\\ATL012\\\\2023-01-24\\\\702',\n",
       " 'C:\\\\Users\\\\andrew\\\\Documents\\\\localData\\\\ATL012\\\\2023-01-24\\\\703',\n",
       " 'C:\\\\Users\\\\andrew\\\\Documents\\\\localData\\\\ATL012\\\\2023-01-25\\\\701',\n",
       " 'C:\\\\Users\\\\andrew\\\\Documents\\\\localData\\\\ATL012\\\\2023-01-26\\\\701',\n",
       " 'C:\\\\Users\\\\andrew\\\\Documents\\\\localData\\\\ATL012\\\\2023-01-26\\\\702',\n",
       " 'C:\\\\Users\\\\andrew\\\\Documents\\\\localData\\\\ATL012\\\\2023-01-27\\\\701',\n",
       " 'C:\\\\Users\\\\andrew\\\\Documents\\\\localData\\\\ATL012\\\\2023-01-30\\\\701',\n",
       " 'C:\\\\Users\\\\andrew\\\\Documents\\\\localData\\\\ATL012\\\\2023-01-30\\\\702',\n",
       " 'C:\\\\Users\\\\andrew\\\\Documents\\\\localData\\\\ATL012\\\\2023-01-30\\\\703',\n",
       " 'C:\\\\Users\\\\andrew\\\\Documents\\\\localData\\\\ATL012\\\\2023-01-30\\\\yoked_s2p_output',\n",
       " 'C:\\\\Users\\\\andrew\\\\Documents\\\\localData\\\\ATL012\\\\2023-02-01\\\\701',\n",
       " 'C:\\\\Users\\\\andrew\\\\Documents\\\\localData\\\\ATL012\\\\2023-02-02\\\\701',\n",
       " 'C:\\\\Users\\\\andrew\\\\Documents\\\\localData\\\\ATL012\\\\2023-02-06\\\\701',\n",
       " 'C:\\\\Users\\\\andrew\\\\Documents\\\\localData\\\\ATL012\\\\2023-02-07\\\\701',\n",
       " 'C:\\\\Users\\\\andrew\\\\Documents\\\\localData\\\\ATL012\\\\2023-02-08\\\\702',\n",
       " 'C:\\\\Users\\\\andrew\\\\Documents\\\\localData\\\\ATL012\\\\2023-02-09\\\\701',\n",
       " 'C:\\\\Users\\\\andrew\\\\Documents\\\\localData\\\\ATL012\\\\2023-02-14\\\\701',\n",
       " 'C:\\\\Users\\\\andrew\\\\Documents\\\\localData\\\\ATL012\\\\2023-02-14\\\\702',\n",
       " 'C:\\\\Users\\\\andrew\\\\Documents\\\\localData\\\\ATL012\\\\2023-02-14\\\\703',\n",
       " 'C:\\\\Users\\\\andrew\\\\Documents\\\\localData\\\\ATL012\\\\2023-02-15\\\\701',\n",
       " 'C:\\\\Users\\\\andrew\\\\Documents\\\\localData\\\\ATL012\\\\2023-02-16\\\\701',\n",
       " 'C:\\\\Users\\\\andrew\\\\Documents\\\\localData\\\\ATL012\\\\2023-02-17\\\\701',\n",
       " 'C:\\\\Users\\\\andrew\\\\Documents\\\\localData\\\\ATL012\\\\2023-02-20\\\\701',\n",
       " 'C:\\\\Users\\\\andrew\\\\Documents\\\\localData\\\\ATL012\\\\2023-02-21\\\\701',\n",
       " 'C:\\\\Users\\\\andrew\\\\Documents\\\\localData\\\\ATL012\\\\2023-02-21\\\\702',\n",
       " 'C:\\\\Users\\\\andrew\\\\Documents\\\\localData\\\\ATL012\\\\2023-02-22\\\\701',\n",
       " 'C:\\\\Users\\\\andrew\\\\Documents\\\\localData\\\\ATL012\\\\2023-02-27\\\\701',\n",
       " 'C:\\\\Users\\\\andrew\\\\Documents\\\\localData\\\\ATL012\\\\2023-02-28\\\\701',\n",
       " 'C:\\\\Users\\\\andrew\\\\Documents\\\\localData\\\\ATL012\\\\2023-03-01\\\\701',\n",
       " 'C:\\\\Users\\\\andrew\\\\Documents\\\\localData\\\\ATL012\\\\2023-03-03\\\\701',\n",
       " 'C:\\\\Users\\\\andrew\\\\Documents\\\\localData\\\\ATL012\\\\2023-07-10\\\\701',\n",
       " 'C:\\\\Users\\\\andrew\\\\Documents\\\\localData\\\\ATL012\\\\2023-07-10\\\\702',\n",
       " 'C:\\\\Users\\\\andrew\\\\Documents\\\\localData\\\\ATL012\\\\2023-07-11\\\\701',\n",
       " 'C:\\\\Users\\\\andrew\\\\Documents\\\\localData\\\\ATL012\\\\2023-07-13\\\\701',\n",
       " 'C:\\\\Users\\\\andrew\\\\Documents\\\\localData\\\\ATL012\\\\2023-07-14\\\\701',\n",
       " 'C:\\\\Users\\\\andrew\\\\Documents\\\\localData\\\\ATL012\\\\2023-07-17\\\\701',\n",
       " 'C:\\\\Users\\\\andrew\\\\Documents\\\\localData\\\\ATL012\\\\2023-07-18\\\\701',\n",
       " 'C:\\\\Users\\\\andrew\\\\Documents\\\\localData\\\\ATL012\\\\2023-07-19\\\\701',\n",
       " 'C:\\\\Users\\\\andrew\\\\Documents\\\\localData\\\\ATL012\\\\2023-07-19\\\\702',\n",
       " 'C:\\\\Users\\\\andrew\\\\Documents\\\\localData\\\\ATL012\\\\2023-07-19\\\\703',\n",
       " 'C:\\\\Users\\\\andrew\\\\Documents\\\\localData\\\\ATL012\\\\2023-07-20\\\\701',\n",
       " 'C:\\\\Users\\\\andrew\\\\Documents\\\\localData\\\\ATL012\\\\2023-07-20\\\\702',\n",
       " 'C:\\\\Users\\\\andrew\\\\Documents\\\\localData\\\\ATL012\\\\roicat\\\\plane0.ROICaT.results.mat',\n",
       " 'C:\\\\Users\\\\andrew\\\\Documents\\\\localData\\\\ATL012\\\\roicat\\\\plane0.ROICaT.results.pkl',\n",
       " 'C:\\\\Users\\\\andrew\\\\Documents\\\\localData\\\\ATL012\\\\roicat\\\\plane1.ROICaT.results.mat',\n",
       " 'C:\\\\Users\\\\andrew\\\\Documents\\\\localData\\\\ATL012\\\\roicat\\\\plane1.ROICaT.results.pkl',\n",
       " 'C:\\\\Users\\\\andrew\\\\Documents\\\\localData\\\\ATL012\\\\roicat\\\\plane2.ROICaT.results.mat',\n",
       " 'C:\\\\Users\\\\andrew\\\\Documents\\\\localData\\\\ATL012\\\\roicat\\\\plane2.ROICaT.results.pkl',\n",
       " 'C:\\\\Users\\\\andrew\\\\Documents\\\\localData\\\\ATL012\\\\roicat\\\\plane3.ROICaT.results.mat',\n",
       " 'C:\\\\Users\\\\andrew\\\\Documents\\\\localData\\\\ATL012\\\\roicat\\\\plane3.ROICaT.results.pkl',\n",
       " 'C:\\\\Users\\\\andrew\\\\Documents\\\\localData\\\\ATL012\\\\roicat\\\\plane4.ROICaT.results.mat',\n",
       " 'C:\\\\Users\\\\andrew\\\\Documents\\\\localData\\\\ATL012\\\\roicat\\\\plane4.ROICaT.results.pkl',\n",
       " 'C:\\\\Users\\\\andrew\\\\Documents\\\\localData\\\\ATL012\\\\roicat_until21\\\\plane0.ROICaT.results.mat',\n",
       " 'C:\\\\Users\\\\andrew\\\\Documents\\\\localData\\\\ATL012\\\\roicat_until21\\\\plane0.ROICaT.results.pkl',\n",
       " 'C:\\\\Users\\\\andrew\\\\Documents\\\\localData\\\\ATL012\\\\roicat_until21\\\\plane1.ROICaT.results.mat',\n",
       " 'C:\\\\Users\\\\andrew\\\\Documents\\\\localData\\\\ATL012\\\\roicat_until21\\\\plane1.ROICaT.results.pkl',\n",
       " 'C:\\\\Users\\\\andrew\\\\Documents\\\\localData\\\\ATL012\\\\roicat_until21\\\\plane2.ROICaT.results.mat',\n",
       " 'C:\\\\Users\\\\andrew\\\\Documents\\\\localData\\\\ATL012\\\\roicat_until21\\\\plane2.ROICaT.results.pkl',\n",
       " 'C:\\\\Users\\\\andrew\\\\Documents\\\\localData\\\\ATL012\\\\roicat_until21\\\\plane3.ROICaT.results.mat',\n",
       " 'C:\\\\Users\\\\andrew\\\\Documents\\\\localData\\\\ATL012\\\\roicat_until21\\\\plane3.ROICaT.results.pkl',\n",
       " 'C:\\\\Users\\\\andrew\\\\Documents\\\\localData\\\\ATL012\\\\roicat_until21\\\\plane4.ROICaT.results.mat',\n",
       " 'C:\\\\Users\\\\andrew\\\\Documents\\\\localData\\\\ATL012\\\\roicat_until21\\\\plane4.ROICaT.results.pkl']"
      ]
     },
     "execution_count": 15,
     "metadata": {},
     "output_type": "execute_result"
    }
   ],
   "source": [
    "from glob import glob\n",
    "dataPath = fm.localDataPath()\n",
    "glob(str(dataPath / 'ATL012')+'/*/*')"
   ]
  },
  {
   "cell_type": "code",
   "execution_count": null,
   "id": "0d88d416-8f54-43c0-be63-eb830a0d0a95",
   "metadata": {},
   "outputs": [],
   "source": []
  },
  {
   "cell_type": "code",
   "execution_count": null,
   "id": "55db5532-9215-4ba1-8f5d-a0ec8ca85220",
   "metadata": {},
   "outputs": [],
   "source": []
  },
  {
   "cell_type": "code",
   "execution_count": null,
   "id": "0fba9de9-3cd2-4a7c-8131-c80647e6c422",
   "metadata": {},
   "outputs": [],
   "source": []
  },
  {
   "cell_type": "code",
   "execution_count": 11,
   "id": "ad20480b-a366-499d-9545-b443c6d33b2b",
   "metadata": {},
   "outputs": [],
   "source": [
    "import dbManagement as dbm\n",
    "vrdb = dbm.vrDatabase()"
   ]
  },
  {
   "cell_type": "code",
   "execution_count": 12,
   "id": "22169af4-dc06-496e-b49a-66be2d57f116",
   "metadata": {},
   "outputs": [
    {
     "name": "stdout",
     "output_type": "stream",
     "text": [
      "(1, 'ATL012', datetime.datetime(2023, 1, 18, 0, 0), 701, 'Blender VR', 1, False, True, True, False, 1, None, 5, 25.0, 6.0, 6.300000190734863, False, True, False, False, False, None, None, 'Very few trials, mouse not trained (for about 6 days) and had it on the wheel an extra 30 minutes...')\n",
      "(2, 'ATL012', datetime.datetime(2023, 1, 20, 0, 0), 701, 'Blender VR', 1, False, True, True, False, 1, 328.0, 5, 25.0, 8.0, 14.0, False, True, False, False, False, None, None, 'Decent number of trials considering no reward :(')\n",
      "(3, 'ATL012', datetime.datetime(2023, 1, 20, 0, 0), 702, 'Blender VR', 1, False, True, True, False, 1, 328.0, 5, 25.0, 8.0, 14.0, False, True, False, False, False, None, None, 'Got a surprising number of trials out of it now that reward is working again')\n",
      "(4, 'ATL012', datetime.datetime(2023, 1, 23, 0, 0), 701, 'Blender VR', 1, False, True, True, False, 1, 328.0, 5, 25.0, 6.0, 14.0, False, True, False, False, False, None, None, 'Mouse sending it, but water was almost dry inside objective (seemed fine on scan image)')\n",
      "(5, 'ATL012', datetime.datetime(2023, 1, 24, 0, 0), 703, 'Blender VR', 1, False, True, True, False, 1, 326.0, 5, 25.0, 6.0, 14.0, False, True, False, False, False, None, None, 'Full send.')\n",
      "(6, 'ATL012', datetime.datetime(2023, 1, 25, 0, 0), 701, 'Blender VR', 1, False, True, True, False, 1, 326.0, 5, 25.0, 6.0, 14.0, False, True, False, False, False, None, None, 'Full send.')\n",
      "(7, 'ATL012', datetime.datetime(2023, 1, 26, 0, 0), 701, 'Blender VR', 1, False, True, True, False, 1, 326.0, 5, 25.0, 9.0, 14.0, False, False, False, False, False, None, None, 'Mouse behavior good. Imaging quality significantly worse. Laser said \"not lasing!\" so I stopped after a few trials')\n",
      "(8, 'ATL012', datetime.datetime(2023, 1, 26, 0, 0), 702, 'Blender VR', 1, False, True, True, False, 1, 326.0, 5, 25.0, 17.0, 14.0, False, False, False, False, False, None, None, 'Mouse behavior good. Tried to fix laser... but not sure how, increased Pockels power')\n",
      "(9, 'ATL012', datetime.datetime(2023, 1, 27, 0, 0), 701, 'Blender VR', 1, False, True, True, False, 1, 326.0, 5, 25.0, 6.0, 13.300000190734863, False, True, False, False, False, None, None, \"There's def blood, but quality is much better today :). Note: I changed the angle of the objective!! I think it's better, let's keep this one for next week with the novel environment. 100 Trials, woot\")\n",
      "(10, 'ATL012', datetime.datetime(2023, 1, 30, 0, 0), 701, 'Blender VR', 2, False, True, True, True, 12, 331.0, 5, 25.0, 6.0, 13.300000190734863, False, True, False, False, False, None, None, 'Three sessions (see all notes), this one just has an initial block in Environment 1')\n",
      "(11, 'ATL012', datetime.datetime(2023, 1, 30, 0, 0), 702, 'Blender VR', 2, False, True, True, False, 12, 331.0, 5, 25.0, 6.0, 13.300000190734863, False, True, False, False, False, None, None, 'This one ended because I had a max trial number of 50 for STUPID reasons')\n",
      "(12, 'ATL012', datetime.datetime(2023, 1, 30, 0, 0), 703, 'Blender VR', 2, False, True, True, False, 12, 331.0, 5, 25.0, 6.0, 13.300000190734863, False, False, False, False, False, None, None, \"This one started without the initial block. Ran for a while longer. NOTE: All sessions didn't include eye cam because it's not in right place :(\")\n",
      "(13, 'ATL012', datetime.datetime(2023, 2, 1, 0, 0), 701, 'Blender VR', 2, False, True, True, True, 12, 331.0, 5, 25.0, 13.0, 13.300000190734863, False, True, False, False, False, None, None, \"Angles seem different, it's really not perfect :/ I've got some of the same cells in the red FOV but there's a lot of weird stuff going on (it looks different). NOTE: the camera view now includes the eye, full whisker pad, and tongue (and lick spout)! Spe\")\n",
      "(14, 'ATL012', datetime.datetime(2023, 2, 2, 0, 0), 701, 'Blender VR', 2, False, True, True, True, 12, 331.0, 5, 25.0, 14.0, 13.300000190734863, False, True, False, False, False, None, None, \"Imaging quality not as good I don't think. But still workable? Same Red FOV as yesterday (by eye). Not sure if the x position is correct though. So many trials! And lots of replay events when inactive at end :)\")\n",
      "(15, 'ATL012', datetime.datetime(2023, 2, 6, 0, 0), 701, 'Blender VR', 2, False, True, True, True, 12, 331.0, 5, 25.0, 16.0, 13.300000190734863, False, True, False, False, False, None, None, 'Imaging okay. Red FOV looks a little different I think, but SNR is a little worse. Mouse doing well.')\n",
      "(16, 'ATL012', datetime.datetime(2023, 2, 7, 0, 0), 701, 'Blender VR', 2, False, True, True, True, 12, 331.0, 5, 25.0, 16.0, 13.300000190734863, False, True, False, False, False, None, None, 'Imaging solid. Probably comparable to yesterday. Mouse behavior good. Lick spout was slowly pulled away from mouse (but never too far for licks). I manually pushed it towards the mouse a few times during the session.')\n",
      "(17, 'ATL012', datetime.datetime(2023, 2, 8, 0, 0), 702, 'Blender VR', 2, False, True, True, True, 12, 331.0, 5, 25.0, 8.0, 13.300000190734863, False, True, False, False, False, None, None, \"Imaging quality SO MUCH BETTER. Why? Don't know. But anyway, it's great. Mouse performing well.\")\n",
      "(18, 'ATL012', datetime.datetime(2023, 2, 9, 0, 0), 701, 'Blender VR', 2, False, True, True, True, 12, 331.0, 5, 25.0, 12.0, 13.300000190734863, False, True, False, False, False, None, None, 'Imaging quality good. I cleaned the cannula with a sugi. Mouse behavior fantastic.')\n",
      "(19, 'ATL012', datetime.datetime(2023, 2, 14, 0, 0), 703, 'Blender VR', 2, False, True, True, True, 12, 331.0, 5, 25.0, 6.0, 13.300000190734863, False, True, False, False, False, None, None, \"Imaging quality good. There was z movement in the beginning that I fixed, but the first 10-15 trials might be really off. There was a little more XY movement than I remember. Also note: the image was bright initially, but I hadn't imaged in 5 days. It qui\")\n",
      "(20, 'ATL012', datetime.datetime(2023, 2, 15, 0, 0), 701, 'Blender VR', 2, False, True, True, True, 12, 331.0, 5, 25.0, 8.0, 13.300000190734863, False, True, False, False, False, None, None, 'Excellent session. Many trials, good FOV.')\n",
      "(21, 'ATL012', datetime.datetime(2023, 2, 16, 0, 0), 701, 'Blender VR', 3, False, True, True, True, 123, 331.0, 5, 25.0, 8.0, 13.300000190734863, False, True, False, False, False, None, None, 'Good FOV, mouse behavior good. IR Lamp not on during first half of first trial... Mouse was losing weight, and it might have been shivering at trial 32? Will give more after session today. Also, was much more sluggish than usual, the new environment kind ')\n",
      "(22, 'ATL012', datetime.datetime(2023, 2, 17, 0, 0), 701, 'Blender VR', 3, False, True, True, True, 123, 331.0, 5, 25.0, 9.0, 13.300000190734863, False, True, False, False, False, None, None, \"Good FOV. Behavior back to normal. Lots of efficient trials. Maybe it was just surprised yesterday-- but I'm glad I gave some extra water. I went up to 9% to account for bleaching, but I think this was a bad idea. Green channel is a bit saturated. Oh no! \")\n",
      "(23, 'ATL012', datetime.datetime(2023, 2, 20, 0, 0), 701, 'Blender VR', 3, False, True, True, True, 123, 331.0, 5, 25.0, 8.0, 13.300000190734863, False, True, False, False, False, None, None, \"FOV solid. Similar to Friday (but maybe not exactly?). Just kidding. There's definitely some blood in the center... and it might be accumulating because it looks different than from the beginning of the session. Mouse behavior is solid though. Lots of tri\")\n",
      "(24, 'ATL012', datetime.datetime(2023, 2, 21, 0, 0), 702, 'Blender VR', 3, False, True, True, True, 123, 331.0, 5, 25.0, 8.0, 13.300000190734863, False, True, False, False, False, None, None, \"FOV good. I changed the objective rotation a little because I think I manually rotated the HP holder... I'm not sure if I did though, so I'll compare FOVs from today and yesterday to see. Mostly it looks good.. maybe even more similar to previous sessions\")\n",
      "(25, 'ATL012', datetime.datetime(2023, 2, 22, 0, 0), 701, 'Blender VR', 3, False, True, True, True, 123, 331.0, 5, 25.0, 8.0, 13.300000190734863, False, True, False, False, False, None, None, \"I think I'm losing the water in the objective cone. The imaging is starting to suck... Ended the session early (still 82 trials). But I'll work on a custom z-stack alignment script.\")\n",
      "(26, 'ATL012', datetime.datetime(2023, 2, 27, 0, 0), 701, 'Blender VR', 3, False, True, True, True, 123, 331.0, 5, 25.0, 8.0, 13.300000190734863, False, True, False, False, False, None, None, \"Seems like the same FOV, but some red cells are much dimmer. (I partially can't tell if it's the same FOV because some red cells are dim). But mouse looks ready to go! Behavior was fantastic. Great. Imaging quality dropped off maybe? The laser power dropp\")\n",
      "(27, 'ATL012', datetime.datetime(2023, 2, 28, 0, 0), 701, 'Blender VR', 3, False, True, True, True, 123, 331.0, 5, 25.0, 8.0, 13.300000190734863, False, True, False, False, False, None, None, \"Similar FOV to yesterday. I think green channel is better. I'm losing a few Red cells so my z-position might be a little off. Mouse behavior excellent.\")\n",
      "(28, 'ATL012', datetime.datetime(2023, 3, 1, 0, 0), 701, 'Blender VR', 3, False, True, True, True, 123, 331.0, 5, 25.0, 8.0, 13.300000190734863, False, True, False, False, False, None, None, \"Similar FOV to yesterday. I think green channel is better. I'm losing a few Red cells so my z-position might be a little off. Mouse behavior excellent.\")\n",
      "(29, 'ATL012', datetime.datetime(2023, 3, 3, 0, 0), 701, 'Blender VR', 3, False, True, True, True, 123, 331.0, 5, 25.0, 8.0, 13.300000190734863, False, True, False, False, False, None, None, 'Probably had some problematic z fixes (manual changes). Everything looks good though. Need to get automatic motion correction working.')\n",
      "(30, 'ATL012', datetime.datetime(2023, 7, 17, 0, 0), 701, 'Blender VR', 1, False, True, False, True, 2, None, None, None, None, None, False, False, False, False, False, None, None, 'normal everything (short section due to lab meeting)... This mouse is very ready for the switch to gratings.')\n",
      "(31, 'ATL012', datetime.datetime(2023, 7, 18, 0, 0), 701, 'Gratings VR', 0, False, True, False, True, 0, None, None, None, None, None, False, False, False, False, False, None, None, 'GRATINGS!!!')\n",
      "(32, 'ATL012', datetime.datetime(2023, 7, 19, 0, 0), 703, 'Gratings VR', 0, False, True, False, True, 0, None, None, None, None, None, False, False, False, False, False, None, None, 'GRATINGS!!! -- note that this is with sucrose now. Back to 0.25 reward (10ul)')\n",
      "(33, 'ATL012', datetime.datetime(2023, 7, 20, 0, 0), 702, 'Gratings VR', 0, False, True, False, True, 0, None, None, None, None, None, False, False, False, False, False, None, None, 'Gratings, sucrose, back to 0.25 reward.')\n",
      "(34, 'ATL020', datetime.datetime(2023, 3, 22, 0, 0), 701, 'Blender VR', 1, False, True, True, False, 2, 8.5, 5, 25.0, 56.0, 7.400000095367432, False, True, False, False, False, None, None, \"Very bad imaging. There's blood under the cannula unfortunately. Had to turn it way up. On the plus side-- the expression is excellent. Lots of green and a good amount of red cells. The eye camera wouldn't open today :/ not sure what's wrong. Also-- regar\")\n",
      "(35, 'ATL020', datetime.datetime(2023, 3, 24, 0, 0), 701, 'Blender VR', 1, False, True, True, True, 2, 8.5, 5, 25.0, 26.0, 6.199999809265137, False, True, False, False, False, None, None, 'Signal quality good. Lots of red cells. I think I should figure out which of the 5 planes is the true highest and lowest-- it would be easier to find out where to place the z-alignment to maximize the number of cells. Excellent behavior and imaging. Pumpe')\n",
      "(36, 'ATL020', datetime.datetime(2023, 3, 27, 0, 0), 701, 'Blender VR', 1, False, True, True, True, 2, 8.5, 5, 25.0, 26.0, 6.099999904632568, False, True, False, False, False, None, None, \"SNR good -- but seems like a different angle (even though I measured it). Will remeasure the angles post session. But the FOV (of red cells) looks different than on friday 230324. Mouse behavior off to a good start! I think there's z-drift that I can't ac\")\n",
      "(37, 'ATL020', datetime.datetime(2023, 3, 29, 0, 0), 701, 'Blender VR', 1, False, True, True, True, 2, 8.5, 5, 25.0, 23.0, 6.099999904632568, False, True, False, False, False, None, None, 'Not quite the same as Friday (I tried to compare it to the \"redBeefedUp\" screenshot of all the planes). But pretty close. For now I\\'m just tracking todays session based on itself for better suite2p performance...')\n",
      "(38, 'ATL020', datetime.datetime(2023, 3, 31, 0, 0), 701, 'Blender VR', 1, False, True, True, True, 2, 8.5, 5, 25.0, 23.0, 6.099999904632568, False, True, False, False, False, None, None, \"Not quite the same as Wednesday! WTF. Hopefully it stabilizes as I continue imaging... I'm compare the middle two planes to the 230329 RED Screenshot, and taking a new screenshot... Good behavior. THere might be a little bubble over the imaging window? Or\")\n",
      "(39, 'ATL020', datetime.datetime(2023, 4, 4, 0, 0), 701, 'Blender VR', 1, False, True, True, True, 2, 8.5, 5, 25.0, 23.0, 6.099999904632568, False, True, False, False, False, None, None, 'Similar FOV. Solid behavior. Had to do experiment at 12 noon because of scan image morning issues... Excellent behavior, pretty consistent FOV. Really need analysis tools to check whether the FOV is consistent throughout the experiment.')\n",
      "(40, 'ATL020', datetime.datetime(2023, 4, 5, 0, 0), 701, 'Blender VR', 1, False, True, True, True, 2, 8.5, 5, 25.0, 23.0, 6.099999904632568, False, True, False, False, False, None, None, 'Seems good.')\n",
      "(41, 'ATL020', datetime.datetime(2023, 4, 6, 0, 0), 701, 'Blender VR', 1, False, True, True, True, 2, 8.5, 5, 25.0, 23.0, 6.099999904632568, False, True, False, False, False, None, None, \"FOV is a little off -- I played with the rotation some to try and find it but it's slightly different. Took a new screen shot and did the best I can. Mouse behavior good as always!\")\n",
      "(42, 'ATL020', datetime.datetime(2023, 4, 11, 0, 0), 701, 'Blender VR', 2, False, True, True, True, 12, 8.5, 5, 25.0, 23.0, 6.099999904632568, False, True, False, False, False, None, None, \"Red cells changing occasionally, so be it. First session with two environments!!! NOTE:: I'm doing equal block length mean, but keeping 5 trial initial block. Also note: it was hard to adjust in the beginning because the face camera wasn't positioned corr\")\n",
      "(43, 'ATL020', datetime.datetime(2023, 4, 28, 0, 0), 701, 'Blender VR', 1, False, True, False, True, 2, 8.5, None, None, None, None, False, False, False, False, False, None, None, 'Excellent behavior from beginning. :)')\n",
      "(44, 'ATL020', datetime.datetime(2023, 5, 2, 0, 0), 701, 'Gratings VR', 0, False, True, False, True, 0, 8.5, None, None, None, None, False, False, False, False, False, None, None, \"Licking a lot. New environment. Hopefully good behavior :) I think I saw a few anticipatory licks. We'll see!\")\n",
      "(45, 'ATL020', datetime.datetime(2023, 5, 3, 0, 0), 701, 'Gratings VR', 0, False, True, True, True, 0, 8.5, 5, 25.0, 21.0, 5.800000190734863, False, True, False, False, False, None, None, \"I put ATL020 on by accident. Yep. Then ran it as ATL022 and only caught it when I was looking at the red cells. Anddddd they're back!?!?!??!?!!? Um, surprising... But anyway, we have expression so I'm imaging ATL022 :)\")\n",
      "(46, 'ATL020', datetime.datetime(2023, 5, 4, 0, 0), 702, 'Gratings VR', 0, False, True, True, True, 0, 8.5, 5, 25.0, 21.0, 5.800000190734863, False, True, False, False, False, None, None, 'Better lick spout position. This mouse runs a lot so I might just ignore the first session (701), I had my hand in front of the mouse trying to fix the lick spout and the door open... This mouse is cruisssing. So much running. I think any catch trial slow')\n",
      "(47, 'ATL022', datetime.datetime(2023, 3, 24, 0, 0), 701, 'Blender VR', 1, False, True, True, True, 2, 8.5, 5, 25.0, 20.0, 5.800000190734863, False, True, False, False, False, None, None, 'Excellent FOV. Good amount of red cells and exclelent green expression. Woot! Hoping for good behavior... Did a good number of trials. Happy with it.')\n",
      "(48, 'ATL022', datetime.datetime(2023, 3, 27, 0, 0), 701, 'Blender VR', 1, False, True, True, True, 2, 8.5, 5, 25.0, 20.0, 5.800000190734863, False, True, False, False, False, None, None, \"Excellent FOV. Same as Friday (230324). Let's hope for more trials today! Not that many trials but it's okay still data.\")\n",
      "(49, 'ATL022', datetime.datetime(2023, 3, 29, 0, 0), 701, 'Blender VR', 1, False, True, True, True, 2, 8.5, 5, 25.0, 17.0, 5.800000190734863, False, True, False, False, False, None, None, 'Good FOV. Comparing to suite2p mean img from 230327(monday). That image is in the FOV folder. Not quite the same as always but pretty close. Behavior is not ideal but still have decent number of trials. Mouse is very much doing the thing where it runs to ')\n",
      "(50, 'ATL022', datetime.datetime(2023, 3, 31, 0, 0), 703, 'Blender VR', 1, False, True, True, True, 2, 8.5, 5, 25.0, 18.0, 5.800000190734863, False, True, False, False, False, None, None, 'Good FOV, pretty close to previous session! Using the comparison to \"230327-redPlanesBeefed\" and it looks excellent. Behavior is good enough! Getting a good number of trials. Also, the FOV is extremely stable which is awesome.')\n",
      "(51, 'ATL022', datetime.datetime(2023, 4, 4, 0, 0), 701, 'Blender VR', 1, False, True, True, True, 2, 8.5, 5, 25.0, 18.0, 5.800000190734863, False, True, False, False, False, None, None, 'Good (similar FOV).')\n",
      "(52, 'ATL022', datetime.datetime(2023, 4, 5, 0, 0), 702, 'Blender VR', 1, False, True, True, True, 2, 8.5, 5, 25.0, 18.0, 5.800000190734863, False, True, False, False, False, None, None, \"Good, similar FOV. I'm losing water in the objective for this mouse, might cause issues but yesterday I lost it and there was enough left for imaging... Great bheavior for this mouse finally!!!\")\n",
      "(53, 'ATL022', datetime.datetime(2023, 4, 6, 0, 0), 701, 'Blender VR', 1, False, True, True, True, 2, 8.5, 5, 25.0, 18.0, 5.800000190734863, False, True, False, False, False, None, None, \"Good FOV. Behavior decent but similar, hopefully it picks up like yesterday. Lick spout might be slightly out of place but it's still accessible.\")\n",
      "(54, 'ATL022', datetime.datetime(2023, 4, 11, 0, 0), 701, 'Blender VR', 2, False, True, True, True, 12, 8.5, 5, 25.0, 18.0, 5.800000190734863, False, True, False, False, False, None, None, \"FOV is excellent. Behavior seems pretty good! This mouse picked up environment 1 (it's second env) in the second trial :). Looks great!\")\n",
      "(55, 'ATL022', datetime.datetime(2023, 4, 12, 0, 0), 701, 'Blender VR', 2, False, True, True, True, 12, 8.5, 5, 25.0, 19.0, 5.800000190734863, False, True, False, False, False, None, None, 'Good FOV - same as yesterday :)')\n",
      "(56, 'ATL022', datetime.datetime(2023, 4, 14, 0, 0), 701, 'Blender VR', 2, False, True, True, True, 12, 8.5, 5, 25.0, 19.0, 5.800000190734863, False, True, False, False, False, None, None, 'Good FOV. Pretty similar to previous days.')\n",
      "(57, 'ATL022', datetime.datetime(2023, 4, 17, 0, 0), 701, 'Blender VR', 2, False, True, True, True, 12, 8.5, 5, 25.0, 19.0, 5.800000190734863, False, True, False, False, False, None, None, 'Good FOV. Pretty similar. Behavior starting well. Woot. Oops -- my FOV is a bit too high. Definitely losing a few cells on the top band... but hopefully ROICaT will figure it out!! Behavior is excellent. Note: I had to move the lick spout at trial 5-- my ')\n",
      "(58, 'ATL022', datetime.datetime(2023, 4, 18, 0, 0), 701, 'Blender VR', 2, False, True, True, True, 12, 8.5, 5, 25.0, 19.0, 5.800000190734863, False, True, False, False, False, None, None, 'Good FOV. Better X-Y alignment than yesterday. Good cells etc. Mouse a little lighter than expected... will give extra water post-behavior today.')\n",
      "(59, 'ATL022', datetime.datetime(2023, 4, 19, 0, 0), 701, 'Blender VR', 2, False, True, True, True, 12, 8.5, 5, 25.0, 19.0, 5.800000190734863, False, True, False, False, False, None, None, \"Good FOV (small changes for same group of salient red cells, but overall good!). Actually I don't think it's that great. it seems a lttle off in a few places... wonder why. Oh. There might have been bubbles. Behavior was good though!\")\n",
      "(60, 'ATL022', datetime.datetime(2023, 4, 21, 0, 0), 701, 'Blender VR', 2, False, True, True, True, 12, 8.5, 5, 25.0, 19.0, 5.800000190734863, False, True, False, False, False, None, None, 'Great FOV. Brighter after day off yesterday :). Behavior started slow but picked up a bit and I recorded a little longer than usual.')\n",
      "(61, 'ATL022', datetime.datetime(2023, 4, 24, 0, 0), 701, 'Blender VR', 3, False, True, True, True, 123, 8.5, 5, 25.0, 19.0, 5.800000190734863, False, True, False, False, False, None, None, 'Good FOV (same as friday). Environment 3!!! Pretty good behavior and imaging I think. Looking forward to the analysis :D')\n",
      "(62, 'ATL022', datetime.datetime(2023, 4, 25, 0, 0), 702, 'Blender VR', 3, False, True, True, True, 123, 8.5, 5, 25.0, 19.0, 5.800000190734863, False, True, False, False, False, None, None, \"Good FOV. I changed the water tubing and it's got a bigger diameter now, so adjusted the reward time quite a bit. Hopefully the mouse is okay with this... Note-- the lick spout is too high, it's consistently high... I think the mouse can handle it but it'\")\n",
      "(63, 'ATL022', datetime.datetime(2023, 4, 26, 0, 0), 701, 'Blender VR', 3, False, True, True, True, 123, 8.5, 5, 25.0, 19.0, 5.800000190734863, False, True, False, False, False, None, None, 'Good FOV -- the cells look excellent today in fact. Lick spout position is optimal I think (according to the mouses tongue trajectory).')\n",
      "(64, 'ATL022', datetime.datetime(2023, 4, 27, 0, 0), 702, 'Blender VR', 3, False, True, True, True, 123, 8.5, 5, 25.0, 19.0, 5.800000190734863, False, True, False, False, False, None, None, \"Good FOV. Lick spout placement excellent. Here's to good behavior...\")\n",
      "(65, 'ATL022', datetime.datetime(2023, 4, 28, 0, 0), 701, 'Blender VR', 3, False, True, True, True, 123, 8.5, 5, 25.0, 22.0, 5.800000190734863, False, True, False, False, False, None, None, \"Red FOV is dimmer than before, hence the higher pockels cell setting. Good thing I'm through and through with this mouse!!! The angel might be off? I did measure it correctly though... The FOV sucks actually...\")\n",
      "(66, 'ATL022', datetime.datetime(2023, 5, 2, 0, 0), 701, 'Gratings VR', 0, False, True, False, True, 0, 8.5, 5, 25.0, None, 5.800000190734863, False, False, False, False, False, None, None, \"New environment!! I really hope this works. It's visual grating environment - 200cm, 40/80/120/160cm stimuli, and reward is at 120cm+-10cm (I tried to put it right as the mouse gets to the 3rd stimulus. The mouse is still running a bit, maybe slower and m\")\n",
      "(67, 'ATL022', datetime.datetime(2023, 5, 3, 0, 0), 701, 'Gratings VR', 0, False, True, True, True, 0, 8.5, 5, 25.0, 21.0, 5.800000190734863, False, True, False, False, False, None, None, \"Note: I accidentally ran ATL020 as ATL022 before this--- some file naming might be messed up (but I tried to fix everything). FOV fine, not trying too hard -- I started it and fixed X-Y, so suite2p might clip a lot. Behavior isn't ideal, mouse is kinda sl\")\n",
      "(68, 'ATL022', datetime.datetime(2023, 5, 4, 0, 0), 701, 'Gratings VR', 0, False, True, True, True, 0, 8.5, 5, 25.0, 38.0, 5.800000190734863, False, True, False, False, False, None, None, \"The FOV completely sucks now. Had to turn the pockels cell way up. I see some of the same red cells, but it's moving quite a bit (I could see it moving more than expected even when looking at the blood vessels through the goggles). Maybe this mouse is toa\")\n",
      "(69, 'ATL023', datetime.datetime(2023, 4, 28, 0, 0), 702, 'Blender VR', 1, False, True, True, True, 2, 8.5, 5, 25.0, 21.0, 9.0, False, True, False, False, False, None, None, 'Looks pretty good (no attempt at aligning to previous day). I might have pressed grab a little too late, but it started automatically so I think I made it in time... Behavior is better today!! At least in the begining.')\n",
      "(70, 'ATL023', datetime.datetime(2023, 5, 2, 0, 0), 701, 'Gratings VR', 0, False, True, False, True, 0, 8.5, None, None, None, None, False, False, False, False, False, None, None, 'New environment!!! Just doing behavior (partly because I lost the imaging data from ATL022 and partly because I just want to see the behavior). Mouse not licking for the water in the first several trials...')\n",
      "(71, 'ATL023', datetime.datetime(2023, 5, 3, 0, 0), 701, 'Gratings VR', 0, False, True, True, True, 0, 8.5, 5, 25.0, 17.0, 5.800000190734863, False, True, False, False, False, None, None, 'Note: started pockels at 23% because I forgot it resets-- but changed it to 17% by trial 4. FOV looks good, (no red cells). Increased the catch trial percentage to 10%. Running well. Hopefully we see place cells :D ---- THIS MOUSE GETS IT!!! Early licks, ')\n",
      "(72, 'ATL023', datetime.datetime(2023, 5, 4, 0, 0), 701, 'Gratings VR', 0, False, True, True, True, 0, 8.5, 5, 25.0, 18.0, 5.800000190734863, False, True, False, False, False, None, None, \"Good green expression. THere were lots of place cells yesterday so here's to today as well :). Behavior seems good at beginning. Seems like good behavior!!\")\n",
      "(73, 'ATL027', datetime.datetime(2023, 7, 19, 0, 0), 701, 'Blender VR', 1, False, True, True, True, 2, 12.800000190734863, 5, 25.0, 5.0, 12.100000381469727, False, True, False, False, False, None, None, \"Since I haven't measure the head rotation, I can't perfectly align. Must do that today! But in comparison with yesterday, the red FOV looks pretty similar. NOTE: sucrose is being used now and I have a smaller tube, so the mouse is probably getting a littl\")\n",
      "(74, 'ATL027', datetime.datetime(2023, 7, 20, 0, 0), 701, 'Blender VR', 1, False, True, True, True, 2, 12.800000190734863, 5, 25.0, 5.0, 12.100000381469727, False, True, False, False, False, None, None, 'Again, surprising dramatic increase in power at trial 22... Behavior got so much better after the beginning. Pretty cool.')\n",
      "(75, 'ATL027', datetime.datetime(2023, 7, 21, 0, 0), 701, 'Blender VR', 1, False, True, True, True, 2, 12.800000190734863, 5, 25.0, 5.0, 12.100000381469727, False, True, False, False, False, None, None, 'Waited for the jump to 3200mW... red FOV looks pretty good.')\n",
      "(76, 'ATL027', datetime.datetime(2023, 7, 24, 0, 0), 701, 'Blender VR', 2, False, True, True, True, 12, 12.800000190734863, 5, 25.0, 5.0, 12.100000381469727, False, True, False, False, False, None, None, 'FOV looks good! Added novel environment for the mouse :) Sending it behaviorally....')\n",
      "(77, 'ATL027', datetime.datetime(2023, 7, 25, 0, 0), 701, 'Blender VR', 2, False, True, True, True, 12, 12.800000190734863, 5, 25.0, 5.0, 12.100000381469727, False, True, False, False, False, None, None, 'FOV looks good. Mouse behavior taking off from the beginning. Good stuff (probably).')\n",
      "(78, 'ATL027', datetime.datetime(2023, 7, 26, 0, 0), 701, 'Blender VR', 2, False, True, True, True, 12, 12.800000190734863, 5, 25.0, 5.0, 12.100000381469727, False, True, False, False, False, None, None, 'FOV looks good, a little brighter than yesterday? This mouse is an athlete!!!')\n",
      "(79, 'ATL027', datetime.datetime(2023, 7, 27, 0, 0), 701, 'Blender VR', 2, False, True, True, True, 12, 12.800000190734863, 5, 25.0, 5.0, 12.100000381469727, False, True, False, False, False, None, None, \"FOV looks good. The mouse is really mad at the lick spout, it keeps grabbing it. I tried to adjust it's position over the course of a few trials between trial 10-25. It should be easy to see in the face cam... Afterwards good behavior, but I guess it prob\")\n",
      "(80, 'ATL027', datetime.datetime(2023, 7, 28, 0, 0), 701, 'Blender VR', 2, False, True, True, True, 12, 12.800000190734863, 5, 25.0, 5.0, 12.100000381469727, False, True, False, False, False, None, None, \"FOV looks good and normal. The mouse isn't bothered by the lick spout as much today for some reason... Mouse was a little more sluggish today than yesterday, but still got lots of trials. The quiescent periods could be useful for replay analyses.\")\n",
      "(81, 'ATL027', datetime.datetime(2023, 8, 1, 0, 0), 701, 'Blender VR', 2, False, True, True, True, 12, 12.800000190734863, 5, 25.0, 3.0, 12.100000381469727, False, True, False, False, False, None, None, \"FOV Good (maybe a little different, but I can't tell by eye. Most red cells are in place as expected. The laser is a bit stronger - using 920nm and it's 3600mW, but before I was using (??)nm and it was 3200mW. The laser tech just had a remote session so m\")\n",
      "(82, 'ATL027', datetime.datetime(2023, 8, 2, 0, 0), 701, 'Blender VR', 2, False, True, True, True, 12, 12.800000190734863, 5, 25.0, 4.0, 12.100000381469727, False, True, False, False, False, None, None, \"FOV Good. Better than yesterday for some reason... Behavior is good, imaging seems pretty stable. There's actually a bit of a blood hole forming in the top right unfortunately.\")\n",
      "(83, 'ATL027', datetime.datetime(2023, 8, 4, 0, 0), 702, 'Blender VR', 2, False, True, True, True, 12, 12.800000190734863, 5, 25.0, 4.0, 12.100000381469727, False, True, False, False, False, None, None, 'FOV Excellent. Maybe a day off helps? Behavior seems off to a good start. There was a fire alarm for 30s around trial 95. I stopped the experiment immediately, but then the fire alarm went off (f me). Overall I think it was a good session.')\n",
      "(84, 'ATL027', datetime.datetime(2023, 8, 7, 0, 0), 701, 'Blender VR', 3, False, True, True, True, 123, 12.800000190734863, 5, 25.0, 4.0, 12.100000381469727, False, True, False, False, False, None, None, 'Increased reward from 0.26 to 0.32. Adding third environment! FOV looks good. Behavior was good.')\n",
      "(85, 'ATL027', datetime.datetime(2023, 8, 8, 0, 0), 701, 'Blender VR', 3, False, True, True, True, 123, 12.800000190734863, 5, 25.0, 4.0, 12.100000381469727, False, False, False, False, False, None, None, 'FOV looks good again. The behavior is incredible right now. 105 trials in 25 minutes...')\n",
      "(86, 'ATL027', datetime.datetime(2023, 9, 8, 0, 0), 701, 'Blender VR', 3, False, True, True, True, 123, 12.800000190734863, 5, 25.0, 4.0, 12.100000381469727, False, False, False, False, False, None, None, \"FOV looks good. Actually, there's a bubble in the top right :( 3/4 of the FOV is still good though!\")\n"
     ]
    }
   ],
   "source": [
    "vrdb.printValues()"
   ]
  },
  {
   "cell_type": "code",
   "execution_count": null,
   "id": "64de51e6-f619-4d76-ac64-0346a592b4cb",
   "metadata": {},
   "outputs": [],
   "source": []
  },
  {
   "cell_type": "code",
   "execution_count": null,
   "id": "f7e065f1-48bf-4fd2-801a-43e4f09faa26",
   "metadata": {},
   "outputs": [],
   "source": []
  },
  {
   "cell_type": "code",
   "execution_count": null,
   "id": "c046ba0b-4405-438d-859a-03ed06174e6a",
   "metadata": {},
   "outputs": [],
   "source": []
  },
  {
   "cell_type": "code",
   "execution_count": null,
   "id": "303727c1-c2a4-4504-aab8-024461422ed2",
   "metadata": {},
   "outputs": [],
   "source": []
  },
  {
   "cell_type": "code",
   "execution_count": null,
   "id": "cd6e1f36-acb4-421f-a55a-6e4cf6d2f316",
   "metadata": {},
   "outputs": [],
   "source": []
  },
  {
   "cell_type": "code",
   "execution_count": null,
   "id": "009ba8f7-0b8c-4807-b5d3-fae3f3b8b1fa",
   "metadata": {},
   "outputs": [],
   "source": []
  },
  {
   "cell_type": "code",
   "execution_count": null,
   "id": "c64709b0-424f-4407-a0a0-8d8d34662e38",
   "metadata": {},
   "outputs": [],
   "source": []
  },
  {
   "cell_type": "code",
   "execution_count": null,
   "id": "ea96ea65-2529-4c61-ba6b-efd8f985ce78",
   "metadata": {},
   "outputs": [],
   "source": []
  },
  {
   "cell_type": "code",
   "execution_count": null,
   "id": "0cbeb10b-d52f-498a-9fb2-60d384a0e881",
   "metadata": {},
   "outputs": [],
   "source": []
  },
  {
   "cell_type": "code",
   "execution_count": null,
   "id": "a453906c-fdd5-4c8d-b12a-466f09b4352b",
   "metadata": {},
   "outputs": [],
   "source": []
  },
  {
   "cell_type": "code",
   "execution_count": null,
   "id": "84f87370-c84e-489b-b28e-25d37f684484",
   "metadata": {},
   "outputs": [],
   "source": []
  },
  {
   "cell_type": "code",
   "execution_count": null,
   "id": "3cc3768b-6159-41ab-9f41-1ff1da6301f8",
   "metadata": {},
   "outputs": [],
   "source": []
  },
  {
   "cell_type": "code",
   "execution_count": null,
   "id": "b2aeba61-686e-43bb-a7e5-2c3797d0366b",
   "metadata": {},
   "outputs": [],
   "source": []
  },
  {
   "cell_type": "code",
   "execution_count": null,
   "id": "f5a8ae4f-24bd-4205-aebb-62b7b6c8ed71",
   "metadata": {},
   "outputs": [],
   "source": []
  },
  {
   "cell_type": "code",
   "execution_count": null,
   "id": "f256004d-a4cf-42fc-b1e0-0675861b7d87",
   "metadata": {},
   "outputs": [],
   "source": []
  },
  {
   "cell_type": "code",
   "execution_count": null,
   "id": "d025951f-5e27-4e38-8743-4dea58ae6248",
   "metadata": {},
   "outputs": [],
   "source": []
  },
  {
   "cell_type": "code",
   "execution_count": null,
   "id": "016bff51-cabf-4586-a381-a249c3c3af24",
   "metadata": {},
   "outputs": [],
   "source": []
  },
  {
   "cell_type": "code",
   "execution_count": null,
   "id": "5418a7e0-dc30-48c6-8e59-3c3da0374bdb",
   "metadata": {},
   "outputs": [],
   "source": []
  },
  {
   "cell_type": "code",
   "execution_count": null,
   "id": "6c610ead-d070-4b47-88dd-5950242b1c99",
   "metadata": {},
   "outputs": [],
   "source": []
  },
  {
   "cell_type": "code",
   "execution_count": null,
   "id": "942f8007-8151-4bc5-a2fb-0e4b9ee7000b",
   "metadata": {},
   "outputs": [],
   "source": []
  },
  {
   "cell_type": "code",
   "execution_count": null,
   "id": "32f6fd1f-469b-46d7-8508-ce6e16a034a3",
   "metadata": {},
   "outputs": [],
   "source": []
  },
  {
   "cell_type": "code",
   "execution_count": null,
   "id": "8f1be56b-0cc7-416a-bb15-ecdff7f09ca6",
   "metadata": {},
   "outputs": [],
   "source": []
  },
  {
   "cell_type": "code",
   "execution_count": null,
   "id": "415ba0ad-3807-444b-a3d9-d57f9231fe36",
   "metadata": {},
   "outputs": [],
   "source": []
  },
  {
   "cell_type": "code",
   "execution_count": null,
   "id": "2150341d-0412-4a61-9b7b-dde4f1c4a301",
   "metadata": {},
   "outputs": [],
   "source": []
  },
  {
   "cell_type": "code",
   "execution_count": null,
   "id": "4ce466ee-da0b-4a68-a8ad-7a223206e059",
   "metadata": {},
   "outputs": [],
   "source": []
  },
  {
   "cell_type": "code",
   "execution_count": null,
   "id": "af0b0058-fbb1-4422-86f3-46888551f493",
   "metadata": {},
   "outputs": [],
   "source": []
  },
  {
   "cell_type": "code",
   "execution_count": null,
   "id": "c1260efe-4c28-432e-bce8-fcbf18648aad",
   "metadata": {},
   "outputs": [],
   "source": []
  },
  {
   "cell_type": "code",
   "execution_count": null,
   "id": "62197ed7-5338-430f-bab6-710b54bb414b",
   "metadata": {},
   "outputs": [],
   "source": []
  },
  {
   "cell_type": "code",
   "execution_count": null,
   "id": "d797e45b-0744-4e55-8705-174757641f6d",
   "metadata": {},
   "outputs": [],
   "source": []
  },
  {
   "cell_type": "code",
   "execution_count": null,
   "id": "81daf1a4-80d5-4988-9084-10885ab7b207",
   "metadata": {},
   "outputs": [],
   "source": []
  },
  {
   "cell_type": "code",
   "execution_count": null,
   "id": "f48c6dec-6c51-4a6b-ab3d-2401b1485925",
   "metadata": {},
   "outputs": [],
   "source": []
  },
  {
   "cell_type": "code",
   "execution_count": null,
   "id": "b6b82c80-a81f-4c56-9e66-938769c90572",
   "metadata": {},
   "outputs": [],
   "source": []
  },
  {
   "cell_type": "code",
   "execution_count": null,
   "id": "c08762f0-b926-450d-9fb1-b3c55e69685a",
   "metadata": {},
   "outputs": [],
   "source": []
  },
  {
   "cell_type": "code",
   "execution_count": null,
   "id": "338513f4-2b8c-4f3f-b789-ca19f1cccf8a",
   "metadata": {},
   "outputs": [],
   "source": []
  },
  {
   "cell_type": "code",
   "execution_count": null,
   "id": "cd4b7a49-9484-498c-8050-cb3bd9c1a06c",
   "metadata": {},
   "outputs": [],
   "source": []
  },
  {
   "cell_type": "code",
   "execution_count": null,
   "id": "248e6057-e95e-4acf-9849-e10023a0ba88",
   "metadata": {},
   "outputs": [],
   "source": []
  },
  {
   "cell_type": "code",
   "execution_count": null,
   "id": "6a9cabe1-763b-4d89-b805-68c549627da6",
   "metadata": {},
   "outputs": [],
   "source": []
  },
  {
   "cell_type": "code",
   "execution_count": null,
   "id": "2397c17d-ee04-4048-8500-6d6cf2ab1334",
   "metadata": {},
   "outputs": [],
   "source": []
  },
  {
   "cell_type": "code",
   "execution_count": null,
   "id": "789f13f3-a735-4fcd-b021-5751c3c84a7c",
   "metadata": {},
   "outputs": [],
   "source": []
  },
  {
   "cell_type": "code",
   "execution_count": null,
   "id": "820167c3-0b7e-4ecc-9818-6482ad171345",
   "metadata": {},
   "outputs": [],
   "source": []
  },
  {
   "cell_type": "code",
   "execution_count": null,
   "id": "30b36d2a-6895-44e4-b508-1319340a64bf",
   "metadata": {},
   "outputs": [],
   "source": []
  },
  {
   "cell_type": "code",
   "execution_count": null,
   "id": "fdb56630-2947-415d-811e-5669980b6337",
   "metadata": {},
   "outputs": [],
   "source": []
  }
 ],
 "metadata": {
  "kernelspec": {
   "display_name": "Python 3 (ipykernel)",
   "language": "python",
   "name": "python3"
  },
  "language_info": {
   "codemirror_mode": {
    "name": "ipython",
    "version": 3
   },
   "file_extension": ".py",
   "mimetype": "text/x-python",
   "name": "python",
   "nbconvert_exporter": "python",
   "pygments_lexer": "ipython3",
   "version": "3.9.16"
  }
 },
 "nbformat": 4,
 "nbformat_minor": 5
}
