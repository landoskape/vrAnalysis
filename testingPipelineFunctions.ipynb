{
 "cells": [
  {
   "cell_type": "code",
   "execution_count": 1,
   "id": "62912f35-2f40-4d93-872e-439919754adf",
   "metadata": {},
   "outputs": [
    {
     "name": "stdout",
     "output_type": "stream",
     "text": [
      "(CVXPY) Oct 18 03:12:05 PM: Encountered unexpected exception importing solver OSQP:\n",
      "ImportError('DLL load failed while importing qdldl: The specified module could not be found.')\n"
     ]
    }
   ],
   "source": [
    "%reload_ext autoreload\n",
    "%autoreload 2\n",
    "\n",
    "# %matplotlib widget\n",
    "%gui qt\n",
    "\n",
    "import time\n",
    "import random\n",
    "from copy import copy\n",
    "from tqdm import tqdm\n",
    "from pathlib import Path\n",
    "import numpy as np\n",
    "import numba as nb\n",
    "import scipy as sp\n",
    "import matplotlib as mpl\n",
    "import matplotlib.pyplot as plt\n",
    "import pandas as pd\n",
    "pd.options.display.width = 1000\n",
    "\n",
    "from vrAnalysis import session\n",
    "from vrAnalysis import functions\n",
    "from vrAnalysis import analysis\n",
    "from vrAnalysis import helpers\n",
    "from vrAnalysis import fileManagement as fm\n",
    "from vrAnalysis import database\n",
    "\n",
    "from vrAnalysis.redgui import redCellGUI as rgui\n",
    "\n",
    "vrdb = database.vrDatabase()"
   ]
  },
  {
   "cell_type": "code",
   "execution_count": 125,
   "id": "ff1fdad1-13d1-4122-9bc4-26d40074c4c3",
   "metadata": {
    "tags": []
   },
   "outputs": [],
   "source": [
    "# Immediate next steps for programming work:\n",
    "# - ROICaT index alignment tools"
   ]
  },
  {
   "cell_type": "code",
   "execution_count": 241,
   "id": "1119caff-5d69-484e-bb16-cc6b820c7d88",
   "metadata": {
    "tags": []
   },
   "outputs": [],
   "source": [
    "# Database Requirements: \n",
    "# ---------------------\n",
    "# GUI: db manager\n",
    "# - show full database -\n",
    "# - show selected entries (like for example entries with imaging but no suite2p) -\n",
    "#                --> It would be sweet to make this work where there are some defaults, but then there is also a \"filter command\" option which you type and goes as the input to the filtering\n",
    "# - click on entry and do things:\n",
    "#                --> open file explorer to that session\n",
    "#                --> do suite2p\n",
    "#                --> do red cell management\n",
    "# - update table data? \n",
    "# ---------------------\n",
    "# Operational Commands: \n",
    "# - Automatically do suite2p \n",
    "# - Check if registration was done before a suite2p update\n",
    "# - Find way to determine if a suite2p file was updated after the folder was made (indicating that QC was done afterwards) -- so registration should be rerun for imaging data at least\n",
    "#    -- check if \"iscell\" is the only thing that was done after registration. In this case, just update the iscell oneData\n",
    "# ---------------------\n",
    "# - Add new entry GUI!!!\n",
    "# ---------------------\n",
    "# - Check session folders to see if new session is present that isn't registered in the database? \n",
    "# ---------------------\n",
    "# vrExperimentUpdates: \n",
    "# -- if edited iscell, will need to re-register the number of ROIs per plane (in \"self.values\") and reprocess imaging data!\n",
    "# ---------------------\n",
    "# vrExperimentRegistration\n",
    "# -- if error, then note there was an error and append an explanation...!!!\n",
    "# ---------------------"
   ]
  },
  {
   "cell_type": "code",
   "execution_count": 2,
   "id": "3232a21b-e0f7-43c3-99a2-d2b4b67d3530",
   "metadata": {
    "tags": []
   },
   "outputs": [],
   "source": [
    "mouseName = 'CR_Hippocannula6'\n",
    "dateString = '2022-09-05'\n",
    "sessionid = '701'\n",
    "# vrExperiment registration and preprocessing \n",
    "# vrReg = vre.vrExperimentRegistration(mouseName, dateString, session, oasis=False, imaging=True)\n",
    "# vrReg.processTimeline()\n",
    "# vrReg.processImaging()\n",
    "# vrReg.processRedCells()\n",
    "# vrReg.saveParams()\n",
    "# print(vrReg.sessionPath())\n",
    "# del vrReg"
   ]
  },
  {
   "cell_type": "code",
   "execution_count": null,
   "id": "b4cb9077-655d-4cbd-a282-091043056cf9",
   "metadata": {},
   "outputs": [],
   "source": []
  },
  {
   "cell_type": "code",
   "execution_count": 19,
   "id": "a85bd041-eba7-474e-a76b-c1b965d111b3",
   "metadata": {},
   "outputs": [],
   "source": [
    "# I need to remove the silly variables from CR_Hippos on D:/"
   ]
  },
  {
   "cell_type": "code",
   "execution_count": 26,
   "id": "1207fae9-0937-4bb3-99c5-1104ee663b1d",
   "metadata": {},
   "outputs": [],
   "source": [
    "# ROICaT Alignment Tools\n",
    "# Track Red Cell Consistency across days"
   ]
  },
  {
   "cell_type": "code",
   "execution_count": null,
   "id": "a6d8a929-d35f-460a-bd07-074330cc0319",
   "metadata": {},
   "outputs": [],
   "source": []
  },
  {
   "cell_type": "code",
   "execution_count": null,
   "id": "76141b20-493f-4e98-900f-96a508346839",
   "metadata": {},
   "outputs": [],
   "source": []
  },
  {
   "cell_type": "code",
   "execution_count": null,
   "id": "862284f7-0c37-4c85-a8c5-aaae2cfca98b",
   "metadata": {},
   "outputs": [],
   "source": []
  },
  {
   "cell_type": "code",
   "execution_count": 169,
   "id": "dcf6b29e-884d-48ef-859b-65cd18a1f1a0",
   "metadata": {},
   "outputs": [],
   "source": [
    "# # might as well keep this open...\n",
    "# ises = vrdb.iterSessions(imaging=True, vrRegistration=True, mouseName=('ATL023','!='), experimentID=(0, '>'))\n",
    "# ipcss = []\n",
    "# for ses in tqdm(ises):\n",
    "#     ipcss.append(analysis.placeCellSingleSession(ses))\n",
    "#     ses.clearBuffer()"
   ]
  },
  {
   "cell_type": "code",
   "execution_count": null,
   "id": "f3bdba63-5803-43fc-9838-8f385334c7b2",
   "metadata": {},
   "outputs": [],
   "source": []
  },
  {
   "cell_type": "code",
   "execution_count": null,
   "id": "e86030b9-2378-4126-91a8-5085708ca9e6",
   "metadata": {},
   "outputs": [],
   "source": []
  },
  {
   "cell_type": "code",
   "execution_count": null,
   "id": "5df8a163-b5b4-47ac-aa83-b6422dc6cd5f",
   "metadata": {},
   "outputs": [],
   "source": []
  },
  {
   "cell_type": "code",
   "execution_count": null,
   "id": "ac2359ae-07de-43f2-ab41-87ba5ad1e900",
   "metadata": {},
   "outputs": [],
   "source": []
  },
  {
   "cell_type": "code",
   "execution_count": null,
   "id": "acc5ab85-00d8-4768-8842-2eef0c13fb54",
   "metadata": {},
   "outputs": [],
   "source": []
  },
  {
   "cell_type": "code",
   "execution_count": null,
   "id": "a37151c7-1bf0-4ae2-95b1-b1de107f8eb2",
   "metadata": {},
   "outputs": [],
   "source": []
  },
  {
   "cell_type": "code",
   "execution_count": null,
   "id": "51706e68-0fa2-4a18-ac57-e981212729b3",
   "metadata": {},
   "outputs": [],
   "source": []
  },
  {
   "cell_type": "code",
   "execution_count": null,
   "id": "e6e516c2-4a44-4b19-b670-93b76f652293",
   "metadata": {
    "tags": []
   },
   "outputs": [],
   "source": [
    "# next step in analysis: \n",
    "# Also - using a cutoff point by the hitch in that distribution might ignore true matches that are soma-dendritic, but maybe I can use ROICaT or npix to avoid those? "
   ]
  },
  {
   "cell_type": "code",
   "execution_count": null,
   "id": "52c5d9e3-d707-46d7-a6c5-365486b38ba5",
   "metadata": {},
   "outputs": [],
   "source": [
    "# okay, looking at these clusters, it seems like there is some serious oversplitting going on in suite2p. That sucks!\n",
    "# I think I should probably try to rerun some suite2p sessions....\n",
    "# But for now I'll probably do a \"merge\" procedure... and I honestly think I'll have to overwrite or add a new \"modified\" suite2p folder with the stat and ops files"
   ]
  },
  {
   "cell_type": "code",
   "execution_count": null,
   "id": "4373d7cd-f9ba-4edc-b84d-baffe2494296",
   "metadata": {},
   "outputs": [],
   "source": []
  },
  {
   "cell_type": "code",
   "execution_count": null,
   "id": "b4b1b71f-dea4-4f86-8d43-65cf40f57062",
   "metadata": {},
   "outputs": [],
   "source": []
  },
  {
   "cell_type": "code",
   "execution_count": null,
   "id": "2b65cd9a-5f48-4a07-8ca0-283f42b0a88b",
   "metadata": {},
   "outputs": [],
   "source": []
  },
  {
   "cell_type": "code",
   "execution_count": null,
   "id": "a09c87c3-b8f4-491e-91f7-668e91d11792",
   "metadata": {},
   "outputs": [],
   "source": []
  },
  {
   "cell_type": "code",
   "execution_count": null,
   "id": "1b5934ad-507d-47b7-af57-c99acd431200",
   "metadata": {},
   "outputs": [],
   "source": []
  },
  {
   "cell_type": "code",
   "execution_count": null,
   "id": "c1fcb8db-9aeb-425e-87b0-e890fe107f13",
   "metadata": {},
   "outputs": [],
   "source": []
  },
  {
   "cell_type": "code",
   "execution_count": null,
   "id": "971ce9b1-d5aa-46f7-98ec-9eff1bd68bf3",
   "metadata": {},
   "outputs": [],
   "source": []
  },
  {
   "cell_type": "code",
   "execution_count": null,
   "id": "645a6b79-666d-43b8-a6f9-2694815c8de3",
   "metadata": {},
   "outputs": [],
   "source": []
  }
 ],
 "metadata": {
  "kernelspec": {
   "display_name": "Python 3 (ipykernel)",
   "language": "python",
   "name": "python3"
  },
  "language_info": {
   "codemirror_mode": {
    "name": "ipython",
    "version": 3
   },
   "file_extension": ".py",
   "mimetype": "text/x-python",
   "name": "python",
   "nbconvert_exporter": "python",
   "pygments_lexer": "ipython3",
   "version": "3.9.18"
  }
 },
 "nbformat": 4,
 "nbformat_minor": 5
}
