{
 "cells": [
  {
   "cell_type": "code",
   "execution_count": 26,
   "id": "62912f35-2f40-4d93-872e-439919754adf",
   "metadata": {},
   "outputs": [],
   "source": [
    "%reload_ext autoreload\n",
    "%autoreload 2\n",
    "\n",
    "%gui qt\n",
    "\n",
    "import time\n",
    "from tqdm import tqdm\n",
    "from pathlib import Path\n",
    "import numpy as np\n",
    "import numba as nb\n",
    "import scipy as sp\n",
    "import matplotlib as mpl\n",
    "import matplotlib.pyplot as plt\n",
    "\n",
    "import vrExperiment as vre\n",
    "import vrFunctions as vrf\n",
    "import basicFunctions as bf\n",
    "import fileManagement as fm\n",
    "import redCellGUI as rgui\n",
    "import dbManagement as dbm"
   ]
  },
  {
   "cell_type": "code",
   "execution_count": 3,
   "id": "ff1fdad1-13d1-4122-9bc4-26d40074c4c3",
   "metadata": {
    "tags": []
   },
   "outputs": [],
   "source": [
    "# Immediate next steps for programming work:\n",
    "# - ROICaT index alignment tools"
   ]
  },
  {
   "cell_type": "code",
   "execution_count": 113,
   "id": "3232a21b-e0f7-43c3-99a2-d2b4b67d3530",
   "metadata": {
    "tags": []
   },
   "outputs": [
    {
     "name": "stdout",
     "output_type": "stream",
     "text": [
      "In session: CR_Hippocannula6/2022-09-05/701, vrFile['rigInfo'] does not exist. Assuming default settings for B2!\n",
      "Convert mpciROIs.planeIndex to mpciROIs.stackPosition, with [X,Y,Z(planeIndex)] coordinate for each ROI!\n",
      "Computing red cell features... (usually takes 10-20 seconds)\n",
      "C:\\Users\\andrew\\Documents\\localData\\CR_Hippocannula6\\2022-09-05\\701\n"
     ]
    }
   ],
   "source": [
    "mouseName = 'CR_Hippocannula6'\n",
    "dateString = '2022-09-05'\n",
    "session = '701'\n",
    "# vrExperiment registration and preprocessing \n",
    "# vrReg = vre.vrExperimentRegistration(mouseName, dateString, session, oasis=False, imaging=True)\n",
    "# vrReg.processTimeline()\n",
    "# vrReg.processImaging()\n",
    "# vrReg.processRedCells()\n",
    "# vrReg.saveParams()\n",
    "# print(vrReg.sessionPath())\n",
    "# del vrReg"
   ]
  },
  {
   "cell_type": "code",
   "execution_count": 30,
   "id": "25a83aa6-c0d5-437e-8c17-09712c235f5d",
   "metadata": {
    "tags": []
   },
   "outputs": [],
   "source": [
    "mouseName = 'ATL020'\n",
    "dateString = '2023-05-04'\n",
    "session = '702'"
   ]
  },
  {
   "cell_type": "code",
   "execution_count": 3,
   "id": "b546e957-03cd-48ca-98e8-70c1db297f51",
   "metadata": {},
   "outputs": [],
   "source": [
    "# vrExperiment registration and preprocessing \n",
    "vrReg = vre.vrExperimentRegistration(mouseName, dateString, session, oasis=False, imaging=True)\n",
    "vrReg.doPreprocessing()\n",
    "vrReg.saveParams()\n",
    "print(vrReg.sessionPath())\n",
    "del vrReg"
   ]
  },
  {
   "cell_type": "code",
   "execution_count": 3,
   "id": "3e43e9b6-b917-433c-a1a5-3064da5894f8",
   "metadata": {
    "tags": []
   },
   "outputs": [],
   "source": [
    "# Load registered vrExperiment\n",
    "vrexp = vre.vrExperiment(mouseName, dateString, session)"
   ]
  },
  {
   "cell_type": "code",
   "execution_count": 13,
   "id": "e7e2036c-4509-41bc-96ff-1d1337ffbb29",
   "metadata": {
    "tags": []
   },
   "outputs": [
    {
     "name": "stdout",
     "output_type": "stream",
     "text": [
      "CPU times: total: 3.58 s\n",
      "Wall time: 512 ms\n"
     ]
    }
   ],
   "source": [
    "%%time\n",
    "speedThreshold = 5\n",
    "omap, smap, lickmap, distvec = vrf.getBehaviorMaps(vrexp,speedThreshold=speedThreshold) # produce smoothed occupancy and speed maps, along with the distance bins used to create them\n",
    "frameTrialIdx, framePosition, frameSpeed = vrexp.getFrameBehavior() # convert behavioral data into timeframe of spiking data\n",
    "spkmap = vrf.getSpikeMap(vrexp, frameTrialIdx, framePosition, frameSpeed, distvec, omap, speedThreshold=speedThreshold, standardizeSpks=False, doSmoothing=0) # produce the spkmap \n",
    "idxFullTrials = np.all(~np.isnan(omap),axis=1) # find out which trials the mouse explored the whole environment\n",
    "relmse, relcor = vrf.measureReliability(spkmap[:,idxFullTrials], numcv=3) # measure reliability of spiking\n",
    "spInfo = vrf.measureSpatialInformation(omap[idxFullTrials], spkmap[:,idxFullTrials]) # measure spatial information of spiking"
   ]
  },
  {
   "cell_type": "code",
   "execution_count": 147,
   "id": "7b8e9865-e913-4dfc-a697-8079801b3c8b",
   "metadata": {},
   "outputs": [],
   "source": [
    "# Code block for opening redSelectionGUI for a vrExperiment\n",
    "vrexp = vre.vrExperiment(mouseName, dateString, session)\n",
    "redCell = vre.redCellProcessing(vrexp)\n",
    "redSelection = rgui.redSelectionGUI(redCell)"
   ]
  },
  {
   "cell_type": "code",
   "execution_count": null,
   "id": "487110b4-4e2c-4b24-bea9-56d03b2b06d5",
   "metadata": {},
   "outputs": [],
   "source": []
  },
  {
   "cell_type": "code",
   "execution_count": 30,
   "id": "e0053925-bb55-4674-b14f-625529c7e63f",
   "metadata": {},
   "outputs": [
    {
     "name": "stdout",
     "output_type": "stream",
     "text": [
      "\\\\zaru.cortexlab.net\\Subjects\\ATL028\\2023-08-08\\701\n",
      "C:\\Users\\andrew\\Documents\\localData\\ATL028\\2023-08-08\\701\n"
     ]
    }
   ],
   "source": [
    "# fm.getCopyString('ATL027')\n",
    "fm.s2pTargets('ATL028','2023-08-08','701')"
   ]
  },
  {
   "cell_type": "code",
   "execution_count": null,
   "id": "0fba9de9-3cd2-4a7c-8131-c80647e6c422",
   "metadata": {},
   "outputs": [],
   "source": []
  },
  {
   "cell_type": "code",
   "execution_count": null,
   "id": "7adb6fba-a7be-4e21-8f1e-821f89534197",
   "metadata": {},
   "outputs": [],
   "source": []
  },
  {
   "cell_type": "code",
   "execution_count": 35,
   "id": "f30964c8-6bcd-48c5-8fa7-98516554ba2a",
   "metadata": {
    "tags": []
   },
   "outputs": [],
   "source": [
    "# Database Ideas: \n",
    "# ---------------------\n",
    "# GUI: db manager\n",
    "# - show full database -\n",
    "# - show selected entries (like for example entries with imaging but no suite2p) -\n",
    "#                --> It would be sweet to make this work where there are some defaults, but then there is also a \"filter command\" option which you type and goes as the input to the filtering\n",
    "# - click on entry and do things:\n",
    "#                --> open file explorer to that session\n",
    "#                --> do suite2p\n",
    "#                --> do red cell management\n",
    "# - update table data? \n",
    "# ---------------------\n",
    "# Operational Commands: \n",
    "# - Automatically do suite2p \n",
    "# - ??? "
   ]
  },
  {
   "cell_type": "code",
   "execution_count": null,
   "id": "f327fee8-38c7-4204-9aa6-a51797d2992a",
   "metadata": {},
   "outputs": [],
   "source": []
  },
  {
   "cell_type": "code",
   "execution_count": null,
   "id": "8ae30ef2-fd97-4e5e-aac5-88fcd73a0894",
   "metadata": {},
   "outputs": [],
   "source": []
  },
  {
   "cell_type": "code",
   "execution_count": 1,
   "id": "ad20480b-a366-499d-9545-b443c6d33b2b",
   "metadata": {},
   "outputs": [],
   "source": [
    "vrdb = dbm.vrDatabase()"
   ]
  },
  {
   "cell_type": "code",
   "execution_count": 36,
   "id": "22169af4-dc06-496e-b49a-66be2d57f116",
   "metadata": {},
   "outputs": [
    {
     "name": "stderr",
     "output_type": "stream",
     "text": [
      "PandasGUI INFO — pandasgui.gui — Opening PandasGUI\n"
     ]
    }
   ],
   "source": [
    "df = vrdb.showTable()"
   ]
  },
  {
   "cell_type": "code",
   "execution_count": 48,
   "id": "d025951f-5e27-4e38-8743-4dea58ae6248",
   "metadata": {},
   "outputs": [
    {
     "name": "stdout",
     "output_type": "stream",
     "text": [
      "Database said suite2p didn't run, but it already did: ATL028/2023-08-01/701\n",
      "An exception occurred while trying to connect to vrDatabase!\n",
      "Unexpected exception formatting exception. Falling back to standard exception\n"
     ]
    },
    {
     "name": "stderr",
     "output_type": "stream",
     "text": [
      "Traceback (most recent call last):\n",
      "  File \"C:\\Users\\andrew\\anaconda3\\envs\\vrAnalysis\\lib\\site-packages\\IPython\\core\\interactiveshell.py\", line 3505, in run_code\n",
      "    exec(code_obj, self.user_global_ns, self.user_ns)\n",
      "  File \"C:\\Users\\andrew\\AppData\\Local\\Temp\\ipykernel_22768\\2770492262.py\", line 1, in <module>\n",
      "    vrdb.checkS2P(withDatabaseUpdate=True)\n",
      "  File \"C:\\Users\\andrew\\Documents\\GitHub\\vrAnalysis\\dbManagement.py\", line 108, in checkS2P\n",
      "    cursor.execute(updateStatement)\n",
      "pyodbc.Error: ('HY000', '[HY000] [Microsoft][ODBC Microsoft Access Driver] Operation must use an updateable query. (-3035) (SQLExecDirectW)')\n",
      "\n",
      "During handling of the above exception, another exception occurred:\n",
      "\n",
      "Traceback (most recent call last):\n",
      "  File \"C:\\Users\\andrew\\anaconda3\\envs\\vrAnalysis\\lib\\site-packages\\IPython\\core\\interactiveshell.py\", line 2102, in showtraceback\n",
      "    stb = self.InteractiveTB.structured_traceback(\n",
      "  File \"C:\\Users\\andrew\\anaconda3\\envs\\vrAnalysis\\lib\\site-packages\\IPython\\core\\ultratb.py\", line 1310, in structured_traceback\n",
      "    return FormattedTB.structured_traceback(\n",
      "  File \"C:\\Users\\andrew\\anaconda3\\envs\\vrAnalysis\\lib\\site-packages\\IPython\\core\\ultratb.py\", line 1199, in structured_traceback\n",
      "    return VerboseTB.structured_traceback(\n",
      "  File \"C:\\Users\\andrew\\anaconda3\\envs\\vrAnalysis\\lib\\site-packages\\IPython\\core\\ultratb.py\", line 1052, in structured_traceback\n",
      "    formatted_exception = self.format_exception_as_a_whole(etype, evalue, etb, number_of_lines_of_context,\n",
      "  File \"C:\\Users\\andrew\\anaconda3\\envs\\vrAnalysis\\lib\\site-packages\\IPython\\core\\ultratb.py\", line 978, in format_exception_as_a_whole\n",
      "    frames.append(self.format_record(record))\n",
      "  File \"C:\\Users\\andrew\\anaconda3\\envs\\vrAnalysis\\lib\\site-packages\\IPython\\core\\ultratb.py\", line 878, in format_record\n",
      "    frame_info.lines, Colors, self.has_colors, lvals\n",
      "  File \"C:\\Users\\andrew\\anaconda3\\envs\\vrAnalysis\\lib\\site-packages\\IPython\\core\\ultratb.py\", line 712, in lines\n",
      "    return self._sd.lines\n",
      "  File \"C:\\Users\\andrew\\anaconda3\\envs\\vrAnalysis\\lib\\site-packages\\stack_data\\utils.py\", line 145, in cached_property_wrapper\n",
      "    value = obj.__dict__[self.func.__name__] = self.func(obj)\n",
      "  File \"C:\\Users\\andrew\\anaconda3\\envs\\vrAnalysis\\lib\\site-packages\\stack_data\\core.py\", line 698, in lines\n",
      "    pieces = self.included_pieces\n",
      "  File \"C:\\Users\\andrew\\anaconda3\\envs\\vrAnalysis\\lib\\site-packages\\stack_data\\utils.py\", line 145, in cached_property_wrapper\n",
      "    value = obj.__dict__[self.func.__name__] = self.func(obj)\n",
      "  File \"C:\\Users\\andrew\\anaconda3\\envs\\vrAnalysis\\lib\\site-packages\\stack_data\\core.py\", line 649, in included_pieces\n",
      "    pos = scope_pieces.index(self.executing_piece)\n",
      "  File \"C:\\Users\\andrew\\anaconda3\\envs\\vrAnalysis\\lib\\site-packages\\stack_data\\utils.py\", line 145, in cached_property_wrapper\n",
      "    value = obj.__dict__[self.func.__name__] = self.func(obj)\n",
      "  File \"C:\\Users\\andrew\\anaconda3\\envs\\vrAnalysis\\lib\\site-packages\\stack_data\\core.py\", line 628, in executing_piece\n",
      "    return only(\n",
      "  File \"C:\\Users\\andrew\\anaconda3\\envs\\vrAnalysis\\lib\\site-packages\\executing\\executing.py\", line 164, in only\n",
      "    raise NotOneValueFound('Expected one value, found 0')\n",
      "executing.executing.NotOneValueFound: Expected one value, found 0\n"
     ]
    }
   ],
   "source": [
    "vrdb.checkS2P(withDatabaseUpdate=True)"
   ]
  },
  {
   "cell_type": "code",
   "execution_count": 46,
   "id": "32f6fd1f-469b-46d7-8508-ce6e16a034a3",
   "metadata": {},
   "outputs": [
    {
     "name": "stdout",
     "output_type": "stream",
     "text": [
      "Database indicates that suite2p has not been run: ATL012/2023-01-26/701\n",
      "Database indicates that suite2p has not been run: ATL012/2023-01-26/702\n",
      "Database indicates that suite2p has not been run: ATL012/2023-01-30/703\n",
      "Database indicates that suite2p has not been run: ATL028/2023-08-01/701\n"
     ]
    }
   ],
   "source": [
    "vrdb.printRequiresS2P()"
   ]
  },
  {
   "cell_type": "code",
   "execution_count": 38,
   "id": "2150341d-0412-4a61-9b7b-dde4f1c4a301",
   "metadata": {},
   "outputs": [
    {
     "data": {
      "text/plain": [
       "92"
      ]
     },
     "execution_count": 38,
     "metadata": {},
     "output_type": "execute_result"
    }
   ],
   "source": [
    "len(vrdb.getTable())"
   ]
  },
  {
   "cell_type": "code",
   "execution_count": 39,
   "id": "4ce466ee-da0b-4a68-a8ad-7a223206e059",
   "metadata": {},
   "outputs": [
    {
     "name": "stdout",
     "output_type": "stream",
     "text": [
      "Convert mpciROIs.planeIndex to mpciROIs.stackPosition, with [X,Y,Z(planeIndex)] coordinate for each ROI!\n"
     ]
    }
   ],
   "source": [
    "# Before registering everything, do this: \n",
    "print(\"Convert mpciROIs.planeIndex to mpciROIs.stackPosition, with [X,Y,Z(planeIndex)] coordinate for each ROI!\")"
   ]
  },
  {
   "cell_type": "code",
   "execution_count": null,
   "id": "af0b0058-fbb1-4422-86f3-46888551f493",
   "metadata": {},
   "outputs": [],
   "source": []
  },
  {
   "cell_type": "code",
   "execution_count": null,
   "id": "62197ed7-5338-430f-bab6-710b54bb414b",
   "metadata": {},
   "outputs": [],
   "source": []
  },
  {
   "cell_type": "code",
   "execution_count": null,
   "id": "d797e45b-0744-4e55-8705-174757641f6d",
   "metadata": {},
   "outputs": [],
   "source": []
  },
  {
   "cell_type": "code",
   "execution_count": null,
   "id": "f48c6dec-6c51-4a6b-ab3d-2401b1485925",
   "metadata": {},
   "outputs": [],
   "source": []
  },
  {
   "cell_type": "code",
   "execution_count": null,
   "id": "b6b82c80-a81f-4c56-9e66-938769c90572",
   "metadata": {},
   "outputs": [],
   "source": []
  },
  {
   "cell_type": "code",
   "execution_count": null,
   "id": "c08762f0-b926-450d-9fb1-b3c55e69685a",
   "metadata": {},
   "outputs": [],
   "source": []
  },
  {
   "cell_type": "code",
   "execution_count": null,
   "id": "338513f4-2b8c-4f3f-b789-ca19f1cccf8a",
   "metadata": {},
   "outputs": [],
   "source": []
  },
  {
   "cell_type": "code",
   "execution_count": null,
   "id": "cd4b7a49-9484-498c-8050-cb3bd9c1a06c",
   "metadata": {},
   "outputs": [],
   "source": []
  },
  {
   "cell_type": "code",
   "execution_count": null,
   "id": "248e6057-e95e-4acf-9849-e10023a0ba88",
   "metadata": {},
   "outputs": [],
   "source": []
  },
  {
   "cell_type": "code",
   "execution_count": null,
   "id": "6a9cabe1-763b-4d89-b805-68c549627da6",
   "metadata": {},
   "outputs": [],
   "source": []
  },
  {
   "cell_type": "code",
   "execution_count": null,
   "id": "2397c17d-ee04-4048-8500-6d6cf2ab1334",
   "metadata": {},
   "outputs": [],
   "source": []
  },
  {
   "cell_type": "code",
   "execution_count": null,
   "id": "789f13f3-a735-4fcd-b021-5751c3c84a7c",
   "metadata": {},
   "outputs": [],
   "source": []
  },
  {
   "cell_type": "code",
   "execution_count": null,
   "id": "820167c3-0b7e-4ecc-9818-6482ad171345",
   "metadata": {},
   "outputs": [],
   "source": []
  },
  {
   "cell_type": "code",
   "execution_count": null,
   "id": "30b36d2a-6895-44e4-b508-1319340a64bf",
   "metadata": {},
   "outputs": [],
   "source": []
  },
  {
   "cell_type": "code",
   "execution_count": null,
   "id": "fdb56630-2947-415d-811e-5669980b6337",
   "metadata": {},
   "outputs": [],
   "source": []
  }
 ],
 "metadata": {
  "kernelspec": {
   "display_name": "Python 3 (ipykernel)",
   "language": "python",
   "name": "python3"
  },
  "language_info": {
   "codemirror_mode": {
    "name": "ipython",
    "version": 3
   },
   "file_extension": ".py",
   "mimetype": "text/x-python",
   "name": "python",
   "nbconvert_exporter": "python",
   "pygments_lexer": "ipython3",
   "version": "3.9.16"
  }
 },
 "nbformat": 4,
 "nbformat_minor": 5
}
