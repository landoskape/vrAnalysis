{
 "cells": [
  {
   "cell_type": "code",
   "execution_count": 1,
   "id": "62912f35-2f40-4d93-872e-439919754adf",
   "metadata": {},
   "outputs": [],
   "source": [
    "%reload_ext autoreload\n",
    "%autoreload 2\n",
    "\n",
    "# %matplotlib widget\n",
    "\n",
    "%matplotlib qt\n",
    "\n",
    "# %gui qt\n",
    "\n",
    "import time\n",
    "import random\n",
    "from copy import copy\n",
    "from tqdm import tqdm\n",
    "from pathlib import Path\n",
    "import numpy as np\n",
    "import numba as nb\n",
    "import scipy as sp\n",
    "import matplotlib as mpl\n",
    "import matplotlib.pyplot as plt\n",
    "import pandas as pd\n",
    "pd.options.display.width = 1000\n",
    "\n",
    "from vrAnalysis import session\n",
    "from vrAnalysis import registration\n",
    "from vrAnalysis import functions\n",
    "from vrAnalysis import analysis\n",
    "from vrAnalysis import helpers\n",
    "from vrAnalysis import fileManagement as fm\n",
    "from vrAnalysis import database\n",
    "from vrAnalysis import tracking\n",
    "\n",
    "from vrAnalysis.uiDatabase import addEntryGUI\n",
    "from vrAnalysis.redgui import redCellGUI as rgui\n",
    "\n",
    "vrdb = database.vrDatabase()"
   ]
  },
  {
   "cell_type": "code",
   "execution_count": 115,
   "id": "ff1fdad1-13d1-4122-9bc4-26d40074c4c3",
   "metadata": {
    "tags": []
   },
   "outputs": [],
   "source": [
    "# Immediate next steps for programming work:\n",
    "\n",
    "# ROICaT index alignment tools\n",
    "# -- include powerset based tool to determine number of ROIs successfully tracked given a start session, end session, and required include sessions \n",
    "# -------- make a list of all powersets of non-required sessions in between start and end, \n",
    "# -------- then figure out how many ROIs are tracked for each combination "
   ]
  },
  {
   "cell_type": "code",
   "execution_count": 241,
   "id": "1119caff-5d69-484e-bb16-cc6b820c7d88",
   "metadata": {
    "tags": []
   },
   "outputs": [],
   "source": [
    "# Database Requirements: \n",
    "# ---------------------\n",
    "# GUI: db manager\n",
    "# - show full database -\n",
    "# - show selected entries (like for example entries with imaging but no suite2p) -\n",
    "#                --> It would be sweet to make this work where there are some defaults, but then there is also a \"filter command\" option which you type and goes as the input to the filtering\n",
    "# - click on entry and do things:\n",
    "#                --> open file explorer to that session\n",
    "#                --> do suite2p\n",
    "#                --> do red cell management\n",
    "# - update table data? \n",
    "# ---------------------\n",
    "# Operational Commands: \n",
    "# - Automatically do suite2p \n",
    "# - Check if registration was done before a suite2p update\n",
    "# ---------------------\n",
    "# - Add new entry GUI!!!\n",
    "# ---------------------"
   ]
  },
  {
   "cell_type": "code",
   "execution_count": 103,
   "id": "6bed7866-8cf0-4c42-8be4-15c79d91b947",
   "metadata": {},
   "outputs": [],
   "source": [
    "vrdb.save_backup()"
   ]
  },
  {
   "cell_type": "code",
   "execution_count": 27,
   "id": "b2ed44c0-ca77-4b93-af5c-6a04bba0a053",
   "metadata": {},
   "outputs": [],
   "source": [
    "# create method for initializing insert entry GUI data from a vrExperiment object? \n",
    "# also create loading method for viewing and updating an existing entry"
   ]
  },
  {
   "cell_type": "code",
   "execution_count": 99,
   "id": "9d60439e-ec4d-4a9b-b23b-b53e4d1a321e",
   "metadata": {},
   "outputs": [
    {
     "data": {
      "text/html": [
       "<div>\n",
       "<style scoped>\n",
       "    .dataframe tbody tr th:only-of-type {\n",
       "        vertical-align: middle;\n",
       "    }\n",
       "\n",
       "    .dataframe tbody tr th {\n",
       "        vertical-align: top;\n",
       "    }\n",
       "\n",
       "    .dataframe thead th {\n",
       "        text-align: right;\n",
       "    }\n",
       "</style>\n",
       "<table border=\"1\" class=\"dataframe\">\n",
       "  <thead>\n",
       "    <tr style=\"text-align: right;\">\n",
       "      <th></th>\n",
       "      <th>uSessionID</th>\n",
       "      <th>mouseName</th>\n",
       "      <th>sessionDate</th>\n",
       "      <th>sessionID</th>\n",
       "      <th>experimentType</th>\n",
       "      <th>experimentID</th>\n",
       "      <th>variableGain</th>\n",
       "      <th>behavior</th>\n",
       "      <th>imaging</th>\n",
       "      <th>faceCamera</th>\n",
       "      <th>...</th>\n",
       "      <th>sessionQC</th>\n",
       "      <th>scratchJustification</th>\n",
       "      <th>logtime</th>\n",
       "      <th>sessionNotes</th>\n",
       "      <th>suite2pDate</th>\n",
       "      <th>vrRegistrationDate</th>\n",
       "      <th>vrRegistrationError</th>\n",
       "      <th>vrRegistrationException</th>\n",
       "      <th>redCellQCDate</th>\n",
       "      <th>vrBehaviorVersion</th>\n",
       "    </tr>\n",
       "  </thead>\n",
       "  <tbody>\n",
       "    <tr>\n",
       "      <th>99</th>\n",
       "      <td>209</td>\n",
       "      <td>CR_Hippocannula7</td>\n",
       "      <td>2022-08-26</td>\n",
       "      <td>702</td>\n",
       "      <td>Blender VR</td>\n",
       "      <td>11</td>\n",
       "      <td>False</td>\n",
       "      <td>True</td>\n",
       "      <td>True</td>\n",
       "      <td>False</td>\n",
       "      <td>...</td>\n",
       "      <td>True</td>\n",
       "      <td>None</td>\n",
       "      <td>None</td>\n",
       "      <td>None</td>\n",
       "      <td>NaT</td>\n",
       "      <td>NaT</td>\n",
       "      <td>False</td>\n",
       "      <td>None</td>\n",
       "      <td>NaT</td>\n",
       "      <td>2</td>\n",
       "    </tr>\n",
       "    <tr>\n",
       "      <th>100</th>\n",
       "      <td>210</td>\n",
       "      <td>CR_Hippocannula7</td>\n",
       "      <td>2022-08-29</td>\n",
       "      <td>701</td>\n",
       "      <td>Blender VR</td>\n",
       "      <td>12</td>\n",
       "      <td>False</td>\n",
       "      <td>True</td>\n",
       "      <td>True</td>\n",
       "      <td>False</td>\n",
       "      <td>...</td>\n",
       "      <td>True</td>\n",
       "      <td>None</td>\n",
       "      <td>None</td>\n",
       "      <td>None</td>\n",
       "      <td>NaT</td>\n",
       "      <td>NaT</td>\n",
       "      <td>False</td>\n",
       "      <td>None</td>\n",
       "      <td>NaT</td>\n",
       "      <td>2</td>\n",
       "    </tr>\n",
       "    <tr>\n",
       "      <th>101</th>\n",
       "      <td>211</td>\n",
       "      <td>CR_Hippocannula7</td>\n",
       "      <td>2022-08-30</td>\n",
       "      <td>701</td>\n",
       "      <td>Blender VR</td>\n",
       "      <td>12</td>\n",
       "      <td>False</td>\n",
       "      <td>True</td>\n",
       "      <td>True</td>\n",
       "      <td>False</td>\n",
       "      <td>...</td>\n",
       "      <td>True</td>\n",
       "      <td>None</td>\n",
       "      <td>None</td>\n",
       "      <td>None</td>\n",
       "      <td>NaT</td>\n",
       "      <td>NaT</td>\n",
       "      <td>False</td>\n",
       "      <td>None</td>\n",
       "      <td>NaT</td>\n",
       "      <td>2</td>\n",
       "    </tr>\n",
       "    <tr>\n",
       "      <th>102</th>\n",
       "      <td>212</td>\n",
       "      <td>CR_Hippocannula7</td>\n",
       "      <td>2022-08-31</td>\n",
       "      <td>701</td>\n",
       "      <td>Blender VR</td>\n",
       "      <td>12</td>\n",
       "      <td>False</td>\n",
       "      <td>True</td>\n",
       "      <td>True</td>\n",
       "      <td>False</td>\n",
       "      <td>...</td>\n",
       "      <td>True</td>\n",
       "      <td>None</td>\n",
       "      <td>None</td>\n",
       "      <td>None</td>\n",
       "      <td>NaT</td>\n",
       "      <td>NaT</td>\n",
       "      <td>False</td>\n",
       "      <td>None</td>\n",
       "      <td>NaT</td>\n",
       "      <td>2</td>\n",
       "    </tr>\n",
       "    <tr>\n",
       "      <th>103</th>\n",
       "      <td>213</td>\n",
       "      <td>CR_Hippocannula7</td>\n",
       "      <td>2022-09-05</td>\n",
       "      <td>701</td>\n",
       "      <td>Blender VR</td>\n",
       "      <td>12</td>\n",
       "      <td>False</td>\n",
       "      <td>True</td>\n",
       "      <td>True</td>\n",
       "      <td>False</td>\n",
       "      <td>...</td>\n",
       "      <td>True</td>\n",
       "      <td>None</td>\n",
       "      <td>None</td>\n",
       "      <td>None</td>\n",
       "      <td>NaT</td>\n",
       "      <td>NaT</td>\n",
       "      <td>False</td>\n",
       "      <td>None</td>\n",
       "      <td>NaT</td>\n",
       "      <td>2</td>\n",
       "    </tr>\n",
       "    <tr>\n",
       "      <th>104</th>\n",
       "      <td>214</td>\n",
       "      <td>CR_Hippocannula7</td>\n",
       "      <td>2022-09-06</td>\n",
       "      <td>701</td>\n",
       "      <td>Blender VR</td>\n",
       "      <td>12</td>\n",
       "      <td>False</td>\n",
       "      <td>True</td>\n",
       "      <td>True</td>\n",
       "      <td>False</td>\n",
       "      <td>...</td>\n",
       "      <td>True</td>\n",
       "      <td>None</td>\n",
       "      <td>None</td>\n",
       "      <td>None</td>\n",
       "      <td>NaT</td>\n",
       "      <td>NaT</td>\n",
       "      <td>False</td>\n",
       "      <td>None</td>\n",
       "      <td>NaT</td>\n",
       "      <td>2</td>\n",
       "    </tr>\n",
       "    <tr>\n",
       "      <th>105</th>\n",
       "      <td>215</td>\n",
       "      <td>CR_Hippocannula7</td>\n",
       "      <td>2022-09-07</td>\n",
       "      <td>701</td>\n",
       "      <td>Blender VR</td>\n",
       "      <td>12</td>\n",
       "      <td>False</td>\n",
       "      <td>True</td>\n",
       "      <td>True</td>\n",
       "      <td>False</td>\n",
       "      <td>...</td>\n",
       "      <td>True</td>\n",
       "      <td>None</td>\n",
       "      <td>None</td>\n",
       "      <td>None</td>\n",
       "      <td>NaT</td>\n",
       "      <td>NaT</td>\n",
       "      <td>False</td>\n",
       "      <td>None</td>\n",
       "      <td>NaT</td>\n",
       "      <td>2</td>\n",
       "    </tr>\n",
       "  </tbody>\n",
       "</table>\n",
       "<p>7 rows × 30 columns</p>\n",
       "</div>"
      ],
      "text/plain": [
       "     uSessionID         mouseName sessionDate  sessionID experimentType  experimentID  variableGain  behavior  imaging  faceCamera  ...  sessionQC  scratchJustification  logtime  sessionNotes  suite2pDate  vrRegistrationDate  vrRegistrationError  vrRegistrationException  redCellQCDate  vrBehaviorVersion\n",
       "99          209  CR_Hippocannula7  2022-08-26        702     Blender VR            11         False      True     True       False  ...       True                  None     None          None          NaT                 NaT                False                     None            NaT                  2\n",
       "100         210  CR_Hippocannula7  2022-08-29        701     Blender VR            12         False      True     True       False  ...       True                  None     None          None          NaT                 NaT                False                     None            NaT                  2\n",
       "101         211  CR_Hippocannula7  2022-08-30        701     Blender VR            12         False      True     True       False  ...       True                  None     None          None          NaT                 NaT                False                     None            NaT                  2\n",
       "102         212  CR_Hippocannula7  2022-08-31        701     Blender VR            12         False      True     True       False  ...       True                  None     None          None          NaT                 NaT                False                     None            NaT                  2\n",
       "103         213  CR_Hippocannula7  2022-09-05        701     Blender VR            12         False      True     True       False  ...       True                  None     None          None          NaT                 NaT                False                     None            NaT                  2\n",
       "104         214  CR_Hippocannula7  2022-09-06        701     Blender VR            12         False      True     True       False  ...       True                  None     None          None          NaT                 NaT                False                     None            NaT                  2\n",
       "105         215  CR_Hippocannula7  2022-09-07        701     Blender VR            12         False      True     True       False  ...       True                  None     None          None          NaT                 NaT                False                     None            NaT                  2\n",
       "\n",
       "[7 rows x 30 columns]"
      ]
     },
     "execution_count": 99,
     "metadata": {},
     "output_type": "execute_result"
    }
   ],
   "source": [
    "vrdb.getTable(mouseName='CR_Hippocannula7')"
   ]
  },
  {
   "cell_type": "code",
   "execution_count": null,
   "id": "505aa26e-3aa2-49e5-98c7-81167234a40f",
   "metadata": {},
   "outputs": [],
   "source": []
  },
  {
   "cell_type": "code",
   "execution_count": null,
   "id": "05612c95-9c04-4a95-bd2a-e857f2bb21c6",
   "metadata": {},
   "outputs": [],
   "source": []
  },
  {
   "cell_type": "code",
   "execution_count": null,
   "id": "28de3d49-9676-4173-a764-d52146d5595c",
   "metadata": {},
   "outputs": [],
   "source": []
  },
  {
   "cell_type": "code",
   "execution_count": 19,
   "id": "9d202130-f964-48db-8e4e-ea87dd576122",
   "metadata": {},
   "outputs": [],
   "source": [
    "# I need to remove the silly variables from CR_Hippos on D:/"
   ]
  },
  {
   "cell_type": "code",
   "execution_count": null,
   "id": "8a61f840-783d-4d58-a333-34015a43ccc5",
   "metadata": {},
   "outputs": [],
   "source": []
  },
  {
   "cell_type": "code",
   "execution_count": null,
   "id": "54d0bd5a-1472-4d29-b1ce-b9a36c65d27a",
   "metadata": {},
   "outputs": [],
   "source": []
  },
  {
   "cell_type": "code",
   "execution_count": null,
   "id": "a543bfbe-8959-4926-9632-5d354063513f",
   "metadata": {},
   "outputs": [],
   "source": []
  },
  {
   "cell_type": "code",
   "execution_count": null,
   "id": "38dd5931-300c-434d-bda1-f123cb1f2261",
   "metadata": {},
   "outputs": [],
   "source": []
  },
  {
   "cell_type": "code",
   "execution_count": null,
   "id": "5e780055-45a4-42b8-9a40-238d5d463d8b",
   "metadata": {},
   "outputs": [],
   "source": []
  },
  {
   "cell_type": "code",
   "execution_count": 19,
   "id": "a85bd041-eba7-474e-a76b-c1b965d111b3",
   "metadata": {},
   "outputs": [],
   "source": [
    "# I need to remove the silly variables from CR_Hippos on D:/"
   ]
  },
  {
   "cell_type": "code",
   "execution_count": 26,
   "id": "1207fae9-0937-4bb3-99c5-1104ee663b1d",
   "metadata": {},
   "outputs": [],
   "source": [
    "# ROICaT Alignment Tools \n",
    "# Track Red Cell Consistency across days "
   ]
  },
  {
   "cell_type": "code",
   "execution_count": null,
   "id": "6f9a94be-41af-4d01-8e51-e8ebad2073de",
   "metadata": {},
   "outputs": [],
   "source": []
  },
  {
   "cell_type": "code",
   "execution_count": null,
   "id": "00afdd70-c208-437b-958f-b465cdaebacc",
   "metadata": {},
   "outputs": [],
   "source": [
    "# get working on the redCellGUI input constructor"
   ]
  },
  {
   "cell_type": "code",
   "execution_count": null,
   "id": "2ab71494-144b-4a40-92bf-dd8fb858c1d4",
   "metadata": {},
   "outputs": [],
   "source": []
  },
  {
   "cell_type": "code",
   "execution_count": null,
   "id": "90ff2f5b-b97b-446b-a8ed-8a78b935f656",
   "metadata": {},
   "outputs": [],
   "source": []
  },
  {
   "cell_type": "code",
   "execution_count": null,
   "id": "6f5a5073-b0cf-4551-bb8d-9873e6e9d51c",
   "metadata": {},
   "outputs": [],
   "source": []
  },
  {
   "cell_type": "code",
   "execution_count": null,
   "id": "82e217bd-4251-4ae2-8255-2338596f6e2f",
   "metadata": {},
   "outputs": [],
   "source": []
  },
  {
   "cell_type": "code",
   "execution_count": null,
   "id": "b5127223-3819-4047-bbea-405578927a1f",
   "metadata": {},
   "outputs": [],
   "source": []
  },
  {
   "cell_type": "code",
   "execution_count": null,
   "id": "0adbc0d1-4a09-4956-a3ff-5dcbaa080c25",
   "metadata": {},
   "outputs": [],
   "source": []
  },
  {
   "cell_type": "code",
   "execution_count": null,
   "id": "7bb9ea16-c564-44cc-94b7-d7c52c8dc499",
   "metadata": {},
   "outputs": [],
   "source": []
  },
  {
   "cell_type": "code",
   "execution_count": null,
   "id": "b7486371-2f3c-427a-9126-1556428afea9",
   "metadata": {},
   "outputs": [],
   "source": []
  },
  {
   "cell_type": "code",
   "execution_count": null,
   "id": "57f4ca37-67eb-4b8c-a88d-88614e2a1618",
   "metadata": {},
   "outputs": [],
   "source": []
  },
  {
   "cell_type": "code",
   "execution_count": null,
   "id": "984dabc0-0575-49ba-a627-c11be43157ef",
   "metadata": {},
   "outputs": [],
   "source": []
  },
  {
   "cell_type": "code",
   "execution_count": null,
   "id": "68f8b0c6-e631-4f3d-a433-025d252a879b",
   "metadata": {},
   "outputs": [],
   "source": []
  },
  {
   "cell_type": "code",
   "execution_count": null,
   "id": "e9e4b6d6-9d96-4b69-bb97-636846c2ff1c",
   "metadata": {},
   "outputs": [],
   "source": []
  },
  {
   "cell_type": "code",
   "execution_count": 389,
   "id": "8a664d70-de8c-44fd-a1c4-4d4bf6388542",
   "metadata": {},
   "outputs": [
    {
     "data": {
      "image/png": "[encoded data removed]",
      "text/plain": [
       "<Figure size 640x480 with 1 Axes>"
      ]
     },
     "metadata": {},
     "output_type": "display_data"
    }
   ],
   "source": [
    "idx_red = track.check_red_cell_consistency(idx_ses=idx_ses, keepPlanes=None, use_s2p=True)\n",
    "idx_has_red = idx_red[:, np.any(idx_red, axis=0)]\n",
    "idx_sort = np.argsort(-np.sum(idx_has_red,axis=0))\n",
    "idx_plot = idx_has_red[:, idx_sort]\n",
    "plt.close('all')\n",
    "plt.imshow(idx_plot, aspect='auto', interpolation='none')\n",
    "plt.show()"
   ]
  },
  {
   "cell_type": "code",
   "execution_count": 392,
   "id": "71efb65e-f390-403d-b8c8-89f816683ebe",
   "metadata": {},
   "outputs": [
    {
     "data": {
      "image/png": "[encoded data removed]",
      "text/plain": [
       "<Figure size 640x480 with 1 Axes>"
      ]
     },
     "metadata": {},
     "output_type": "display_data"
    }
   ],
   "source": [
    "idx_red = track.check_red_cell_consistency(idx_ses=idx_ses, keepPlanes=None)\n",
    "idx_has_red = idx_red[:, np.sum(idx_red, axis=0)>0]\n",
    "idx_sort = np.argsort(-np.sum(idx_has_red,axis=0))\n",
    "idx_plot = idx_has_red[:, idx_sort]\n",
    "plt.close('all')\n",
    "plt.imshow(idx_plot, aspect='auto', interpolation='none')\n",
    "plt.show()"
   ]
  },
  {
   "cell_type": "code",
   "execution_count": null,
   "id": "35c15844-230b-4428-940c-3ba768fa60c8",
   "metadata": {},
   "outputs": [],
   "source": []
  },
  {
   "cell_type": "code",
   "execution_count": null,
   "id": "4a8c29ad-d229-468b-994d-60daa446d163",
   "metadata": {},
   "outputs": [],
   "source": []
  },
  {
   "cell_type": "code",
   "execution_count": null,
   "id": "a82e92fd-45f5-4d4c-bf2b-cc36e0fecfe4",
   "metadata": {},
   "outputs": [],
   "source": []
  },
  {
   "cell_type": "code",
   "execution_count": null,
   "id": "aae9c31e-793c-475d-b9f6-1131dcd8678b",
   "metadata": {},
   "outputs": [],
   "source": []
  },
  {
   "cell_type": "code",
   "execution_count": null,
   "id": "0dcd1a9c-0bc0-4da3-b608-d7d9342894d8",
   "metadata": {},
   "outputs": [],
   "source": []
  },
  {
   "cell_type": "code",
   "execution_count": null,
   "id": "fbf37659-8093-414a-83ab-38613aee581b",
   "metadata": {},
   "outputs": [],
   "source": []
  },
  {
   "cell_type": "code",
   "execution_count": null,
   "id": "105147fb-abb0-4e3a-b342-7e0a49278a1b",
   "metadata": {},
   "outputs": [],
   "source": []
  },
  {
   "cell_type": "code",
   "execution_count": null,
   "id": "548e7090-cccc-4b6b-934c-ae6305fe1f4a",
   "metadata": {},
   "outputs": [],
   "source": []
  },
  {
   "cell_type": "code",
   "execution_count": null,
   "id": "83dbe85a-f153-4621-a834-f69f3fb03b69",
   "metadata": {},
   "outputs": [],
   "source": []
  },
  {
   "cell_type": "code",
   "execution_count": null,
   "id": "e6e516c2-4a44-4b19-b670-93b76f652293",
   "metadata": {
    "tags": []
   },
   "outputs": [],
   "source": [
    "# next step in analysis: \n",
    "# Also - using a cutoff point by the hitch in that distribution might ignore true matches that are soma-dendritic, but maybe I can use ROICaT or npix to avoid those? "
   ]
  },
  {
   "cell_type": "code",
   "execution_count": null,
   "id": "52c5d9e3-d707-46d7-a6c5-365486b38ba5",
   "metadata": {},
   "outputs": [],
   "source": [
    "# okay, looking at these clusters, it seems like there is some serious oversplitting going on in suite2p. That sucks!\n",
    "# I think I should probably try to rerun some suite2p sessions....\n",
    "# But for now I'll probably do a \"merge\" procedure... and I honestly think I'll have to overwrite or add a new \"modified\" suite2p folder with the stat and ops files"
   ]
  },
  {
   "cell_type": "code",
   "execution_count": null,
   "id": "1b5934ad-507d-47b7-af57-c99acd431200",
   "metadata": {},
   "outputs": [],
   "source": []
  },
  {
   "cell_type": "code",
   "execution_count": null,
   "id": "c1fcb8db-9aeb-425e-87b0-e890fe107f13",
   "metadata": {},
   "outputs": [],
   "source": []
  },
  {
   "cell_type": "code",
   "execution_count": null,
   "id": "971ce9b1-d5aa-46f7-98ec-9eff1bd68bf3",
   "metadata": {},
   "outputs": [],
   "source": []
  },
  {
   "cell_type": "code",
   "execution_count": null,
   "id": "645a6b79-666d-43b8-a6f9-2694815c8de3",
   "metadata": {},
   "outputs": [],
   "source": []
  }
 ],
 "metadata": {
  "kernelspec": {
   "display_name": "Python 3 (ipykernel)",
   "language": "python",
   "name": "python3"
  },
  "language_info": {
   "codemirror_mode": {
    "name": "ipython",
    "version": 3
   },
   "file_extension": ".py",
   "mimetype": "text/x-python",
   "name": "python",
   "nbconvert_exporter": "python",
   "pygments_lexer": "ipython3",
   "version": "3.9.18"
  }
 },
 "nbformat": 4,
 "nbformat_minor": 5
}
