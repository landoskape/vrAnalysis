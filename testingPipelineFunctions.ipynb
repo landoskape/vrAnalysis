{
 "cells": [
  {
   "cell_type": "code",
   "execution_count": 25,
   "id": "62912f35-2f40-4d93-872e-439919754adf",
   "metadata": {},
   "outputs": [],
   "source": [
    "%reload_ext autoreload\n",
    "%autoreload 2\n",
    "\n",
    "# %gui qt\n",
    "\n",
    "import time\n",
    "from tqdm import tqdm\n",
    "from pathlib import Path\n",
    "import numpy as np\n",
    "import numba as nb\n",
    "import scipy as sp\n",
    "import matplotlib as mpl\n",
    "import matplotlib.pyplot as plt\n",
    "\n",
    "import vrExperiment as vre\n",
    "import vrFunctions as vrf\n",
    "import basicFunctions as bf\n",
    "import fileManagement as fm\n",
    "import dbManagement as dbm\n",
    "\n",
    "# import redCellGUI as rgui"
   ]
  },
  {
   "cell_type": "code",
   "execution_count": 6,
   "id": "ff1fdad1-13d1-4122-9bc4-26d40074c4c3",
   "metadata": {
    "tags": []
   },
   "outputs": [],
   "source": [
    "# Immediate next steps for programming work:\n",
    "# - ROICaT index alignment tools"
   ]
  },
  {
   "cell_type": "code",
   "execution_count": 2,
   "id": "3232a21b-e0f7-43c3-99a2-d2b4b67d3530",
   "metadata": {
    "tags": []
   },
   "outputs": [],
   "source": [
    "mouseName = 'CR_Hippocannula6'\n",
    "dateString = '2022-09-05'\n",
    "session = '701'\n",
    "# vrExperiment registration and preprocessing \n",
    "# vrReg = vre.vrExperimentRegistration(mouseName, dateString, session, oasis=False, imaging=True)\n",
    "# vrReg.processTimeline()\n",
    "# vrReg.processImaging()\n",
    "# vrReg.processRedCells()\n",
    "# vrReg.saveParams()\n",
    "# print(vrReg.sessionPath())\n",
    "# del vrReg"
   ]
  },
  {
   "cell_type": "code",
   "execution_count": 27,
   "id": "25a83aa6-c0d5-437e-8c17-09712c235f5d",
   "metadata": {
    "tags": []
   },
   "outputs": [],
   "source": [
    "mouseName = 'ATL020'\n",
    "dateString = '2023-05-04'\n",
    "session = '702'"
   ]
  },
  {
   "cell_type": "code",
   "execution_count": 77,
   "id": "b546e957-03cd-48ca-98e8-70c1db297f51",
   "metadata": {},
   "outputs": [],
   "source": [
    "# vrExperiment registration and preprocessing \n",
    "vrReg = vre.vrExperimentRegistration(mouseName, dateString, session, oasis=False, imaging=True)\n",
    "vrReg.doPreprocessing()\n",
    "vrReg.saveParams()\n",
    "print(vrReg.sessionPath())\n",
    "del vrReg"
   ]
  },
  {
   "cell_type": "code",
   "execution_count": 28,
   "id": "3e43e9b6-b917-433c-a1a5-3064da5894f8",
   "metadata": {
    "tags": []
   },
   "outputs": [],
   "source": [
    "# Load registered vrExperiment\n",
    "vrexp = vre.vrExperiment(mouseName, dateString, session)"
   ]
  },
  {
   "cell_type": "code",
   "execution_count": 8,
   "id": "e7e2036c-4509-41bc-96ff-1d1337ffbb29",
   "metadata": {
    "tags": []
   },
   "outputs": [
    {
     "name": "stdout",
     "output_type": "stream",
     "text": [
      "CPU times: total: 1.14 s\n",
      "Wall time: 476 ms\n"
     ]
    }
   ],
   "source": [
    "%%time\n",
    "speedThreshold = 5\n",
    "omap, smap, lickmap, distvec = vrf.getBehaviorMaps(vrexp,speedThreshold=speedThreshold) # produce smoothed occupancy and speed maps, along with the distance bins used to create them\n",
    "frameTrialIdx, framePosition, frameSpeed = vrexp.getFrameBehavior() # convert behavioral data into timeframe of spiking data\n",
    "spkmap = vrf.getSpikeMap(vrexp, frameTrialIdx, framePosition, frameSpeed, distvec, omap, speedThreshold=speedThreshold, standardizeSpks=False, doSmoothing=0) # produce the spkmap \n",
    "idxFullTrials = np.all(~np.isnan(omap),axis=1) # find out which trials the mouse explored the whole environment\n",
    "relmse, relcor = vrf.measureReliability(spkmap[:,idxFullTrials], numcv=3) # measure reliability of spiking\n",
    "spInfo = vrf.measureSpatialInformation(omap[idxFullTrials], spkmap[:,idxFullTrials]) # measure spatial information of spiking"
   ]
  },
  {
   "cell_type": "code",
   "execution_count": 9,
   "id": "7b8e9865-e913-4dfc-a697-8079801b3c8b",
   "metadata": {},
   "outputs": [],
   "source": [
    "# Code block for opening redSelectionGUI for a vrExperiment\n",
    "vrexp = vre.vrExperiment(mouseName, dateString, session)\n",
    "redCell = vre.redCellProcessing(vrexp)\n",
    "redSelection = rgui.redSelectionGUI(redCell)"
   ]
  },
  {
   "cell_type": "code",
   "execution_count": 56,
   "id": "f30964c8-6bcd-48c5-8fa7-98516554ba2a",
   "metadata": {
    "tags": []
   },
   "outputs": [],
   "source": [
    "# Database Requirements: \n",
    "# ---------------------\n",
    "# GUI: db manager\n",
    "# - show full database -\n",
    "# - show selected entries (like for example entries with imaging but no suite2p) -\n",
    "#                --> It would be sweet to make this work where there are some defaults, but then there is also a \"filter command\" option which you type and goes as the input to the filtering\n",
    "# - click on entry and do things:\n",
    "#                --> open file explorer to that session\n",
    "#                --> do suite2p\n",
    "#                --> do red cell management\n",
    "# - update table data? \n",
    "# ---------------------\n",
    "# Operational Commands: \n",
    "# - Automatically do suite2p \n",
    "# - Check if registration was done before a suite2p update\n",
    "# - Find way to determine if a suite2p file was updated after the folder was made (indicating that QC was done afterwards) -- so registration should be rerun for imaging data at least\n",
    "#    -- check if \"iscell\" is the only thing that was done after registration. In this case, just update the iscell oneData\n",
    "# ---------------------\n",
    "# - Add new entry GUI!!!\n",
    "# ---------------------\n",
    "# - Check session folders to see if new session is present that isn't registered in the database? \n",
    "# ---------------------\n",
    "# vrExperimentUpdates: \n",
    "# -- if edited iscell, will need to re-register the number of ROIs per plane (in \"self.values\") and reprocess imaging data!\n",
    "# ---------------------\n",
    "# vrExperimentRegistration\n",
    "# -- if error, then note there was an error and append an explanation...!!!\n",
    "# ---------------------\n",
    "# I need a readme file for the dbManagement component that shows common uses (e.g. a tutorial)\n",
    "#    - because otherwise I'll forget what I wrote....\n",
    "# ---------------------"
   ]
  },
  {
   "cell_type": "code",
   "execution_count": 39,
   "id": "a1b003b8-0fc8-431f-84cc-ab9ddfe16f42",
   "metadata": {},
   "outputs": [
    {
     "name": "stdout",
     "output_type": "stream",
     "text": [
      "hello\n",
      "world\n",
      "hi\n",
      "yep hi\n",
      "nope nope\n"
     ]
    }
   ],
   "source": [
    "def checkMethod(*inputs, hello=None, **kwargs):\n",
    "    for i in inputs: print(i)\n",
    "    print(hello)\n",
    "    for k,v in kwargs.items(): print(k,v)\n",
    "    \n",
    "checkMethod('hello','world',yep='hi',nope='nope',hello='hi')"
   ]
  },
  {
   "cell_type": "code",
   "execution_count": null,
   "id": "30d4665a-288c-40b7-bff0-35ad0eb460d1",
   "metadata": {},
   "outputs": [],
   "source": [
    "# Creating a suite2p classifier\n",
    "# Let's put a few sessions (all planes) into the classifier by \"building\" a new classifier\n",
    "# I'll get at least 2 sessions from each mouse...\n",
    "\n",
    "# List of QC'd sessions:\n",
    "# ATL012/2023-01-18/701 Planes \n",
    "# ATL028/2023-08-08/701 Planes 1, 2"
   ]
  },
  {
   "cell_type": "code",
   "execution_count": 26,
   "id": "ad20480b-a366-499d-9545-b443c6d33b2b",
   "metadata": {},
   "outputs": [],
   "source": [
    "vrdb = dbm.vrDatabase()"
   ]
  },
  {
   "cell_type": "code",
   "execution_count": 85,
   "id": "8fe5762e-30b9-40c3-b651-560572cdaac4",
   "metadata": {
    "tags": []
   },
   "outputs": [
    {
     "name": "stdout",
     "output_type": "stream",
     "text": [
      "ATL012/2023-01-18/701 2023-01-18 14:20:04\n",
      "ATL012/2023-01-20/701 2023-01-20 11:15:30\n",
      "ATL012/2023-01-20/702 2023-01-20 13:44:47\n",
      "ATL012/2023-01-23/701 2023-01-23 13:32:56\n",
      "ATL012/2023-01-24/703 2023-01-24 11:05:34\n",
      "ATL012/2023-01-25/701 2023-01-25 10:19:05\n",
      "ATL012/2023-01-26/702 2023-08-10 09:23:42\n",
      "ATL012/2023-01-27/701 2023-01-27 12:41:10\n",
      "ATL012/2023-01-30/702 2023-08-17 17:37:21\n",
      "ATL012/2023-02-01/701 2023-02-11 18:52:22\n",
      "ATL012/2023-02-02/701 2023-02-12 09:54:55\n",
      "ATL012/2023-02-06/701 2023-02-12 14:36:14\n",
      "ATL012/2023-02-07/701 2023-02-12 17:54:09\n",
      "ATL012/2023-02-08/702 2023-02-13 14:42:00\n",
      "ATL012/2023-02-09/701 2023-02-17 13:24:17\n",
      "ATL012/2023-02-14/703 2023-02-17 14:44:52\n",
      "ATL012/2023-02-15/701 2023-02-17 18:45:50\n",
      "ATL012/2023-02-16/701 2023-02-20 11:05:53\n",
      "ATL012/2023-02-20/701 2023-02-20 16:24:37\n",
      "ATL012/2023-02-21/702 2023-02-27 09:20:44\n",
      "ATL012/2023-02-22/701 2023-02-27 10:11:00\n",
      "ATL012/2023-02-27/701 2023-02-27 14:07:55\n",
      "ATL012/2023-02-28/701 2023-03-22 11:00:00\n",
      "ATL012/2023-03-01/701 2023-08-17 20:49:09\n",
      "ATL012/2023-03-03/701 2023-03-22 12:12:32\n",
      "ATL020/2023-03-22/701 2023-03-22 13:41:39\n",
      "ATL020/2023-03-24/701 2023-08-17 23:31:51\n",
      "ATL020/2023-03-27/701 2023-03-29 08:55:39\n",
      "ATL020/2023-03-29/701 2023-04-05 12:15:45\n",
      "ATL020/2023-03-31/701 2023-08-16 10:19:57\n",
      "ATL020/2023-04-04/701 2023-04-05 15:44:19\n",
      "ATL020/2023-04-05/701 2023-04-05 15:46:41\n",
      "ATL020/2023-04-06/701 2023-04-06 14:51:43\n",
      "ATL020/2023-04-11/701 2023-08-18 17:35:45\n",
      "ATL020/2023-05-03/701 2023-05-03 10:38:41\n",
      "ATL020/2023-05-04/702 2023-08-14 12:40:17\n",
      "ATL022/2023-03-24/701 2023-03-25 21:46:23\n",
      "ATL022/2023-03-27/701 2023-03-29 08:55:05\n",
      "ATL022/2023-03-29/701 2023-08-18 07:46:49\n",
      "ATL022/2023-03-31/703 2023-04-06 09:41:34\n",
      "ATL022/2023-04-04/701 2023-04-06 13:00:46\n",
      "ATL022/2023-04-05/702 2023-08-18 09:14:53\n",
      "ATL022/2023-04-06/701 2023-04-06 15:11:33\n",
      "ATL022/2023-04-11/701 2023-04-11 13:43:57\n",
      "ATL022/2023-04-12/701 2023-04-12 12:48:25\n",
      "ATL022/2023-04-18/701 2023-04-18 12:02:07\n",
      "ATL022/2023-04-19/701 2023-04-19 11:22:08\n",
      "ATL022/2023-04-21/701 2023-08-16 13:59:27\n",
      "ATL022/2023-04-24/701 2023-04-24 13:44:12\n",
      "ATL022/2023-04-25/702 2023-04-25 17:22:48\n",
      "ATL022/2023-04-26/701 2023-04-26 13:51:09\n",
      "ATL022/2023-04-27/702 2023-04-27 11:59:26\n",
      "ATL022/2023-04-28/701 2023-04-28 13:24:06\n",
      "ATL022/2023-05-03/701 2023-05-03 10:49:31\n",
      "ATL022/2023-05-04/701 2023-05-04 13:24:46\n",
      "ATL023/2023-04-28/702 2023-04-28 13:24:46\n",
      "ATL023/2023-05-03/701 2023-05-03 11:25:59\n",
      "ATL023/2023-05-04/701 2023-05-04 11:31:37\n",
      "ATL027/2023-07-19/701 2023-08-08 11:36:32\n",
      "ATL027/2023-07-20/701 2023-08-03 16:01:50\n",
      "ATL027/2023-07-21/701 2023-08-03 15:50:09\n",
      "ATL027/2023-07-24/701 2023-08-03 14:23:50\n",
      "ATL027/2023-07-25/701 2023-08-03 14:19:37\n",
      "ATL027/2023-07-26/701 2023-08-03 08:56:47\n",
      "ATL027/2023-07-27/701 2023-08-03 07:55:48\n",
      "ATL027/2023-07-28/701 2023-08-03 11:36:42\n",
      "ATL027/2023-08-01/701 2023-08-02 14:22:15\n",
      "ATL027/2023-08-02/701 2023-08-02 14:36:52\n",
      "ATL027/2023-08-04/702 2023-08-04 12:21:06\n",
      "ATL027/2023-08-07/701 2023-08-07 15:49:58\n",
      "ATL027/2023-08-08/701 2023-08-09 10:27:21\n",
      "ATL027/2023-08-09/701 2023-08-09 11:22:51\n",
      "ATL028/2023-08-01/701 2023-08-10 08:15:11\n",
      "ATL028/2023-08-02/701 2023-08-07 09:22:32\n",
      "ATL028/2023-08-03/701 2023-08-04 15:04:15\n",
      "ATL028/2023-08-04/701 2023-08-18 22:33:33\n",
      "ATL028/2023-08-07/701 2023-08-07 15:50:25\n",
      "ATL028/2023-08-08/701 2023-08-09 13:16:06\n"
     ]
    }
   ],
   "source": [
    "db = vrdb.getTable(suite2p=True)\n",
    "for idx, row in db.iterrows():\n",
    "    print(vrdb.vrSession(row).sessionPrint(), row['suite2pDate'])\n",
    "          "
   ]
  },
  {
   "cell_type": "code",
   "execution_count": 79,
   "id": "ca9634aa-0fc8-40ad-afff-ef0c91aed00c",
   "metadata": {
    "tags": []
   },
   "outputs": [],
   "source": [
    "vrdb.printRegistrationErrors()"
   ]
  },
  {
   "cell_type": "code",
   "execution_count": 84,
   "id": "6a9cabe1-763b-4d89-b805-68c549627da6",
   "metadata": {},
   "outputs": [],
   "source": [
    "vrdb.updateSuite2pDateTime()\n",
    "vrdb.checkS2P(withDatabaseUpdate=True)"
   ]
  },
  {
   "cell_type": "code",
   "execution_count": 24,
   "id": "39b6ce41-dd24-469d-b8f6-741caf646639",
   "metadata": {
    "tags": []
   },
   "outputs": [
    {
     "data": {
      "text/plain": [
       "WindowsPath('C:/Users/andrew/Documents/localData/ATL012/2023-01-18/701')"
      ]
     },
     "execution_count": 24,
     "metadata": {},
     "output_type": "execute_result"
    }
   ],
   "source": [
    "vre.vrSession('ATL012','2023-01-18','701').sessionPath()"
   ]
  },
  {
   "cell_type": "code",
   "execution_count": 75,
   "id": "139ee52e-cd8d-4e26-a605-84042e778577",
   "metadata": {},
   "outputs": [
    {
     "name": "stdout",
     "output_type": "stream",
     "text": [
      "Database indicates that suite2p has been run but not QC'd: ATL012/2023-01-18/701\n",
      "Database indicates that suite2p has been run but not QC'd: ATL012/2023-01-20/701\n",
      "Database indicates that suite2p has been run but not QC'd: ATL012/2023-01-20/702\n",
      "Database indicates that suite2p has been run but not QC'd: ATL012/2023-01-23/701\n",
      "Database indicates that suite2p has been run but not QC'd: ATL012/2023-01-24/703\n",
      "Database indicates that suite2p has been run but not QC'd: ATL012/2023-01-25/701\n",
      "Database indicates that suite2p has been run but not QC'd: ATL012/2023-01-26/702\n",
      "Database indicates that suite2p has been run but not QC'd: ATL012/2023-01-27/701\n",
      "Database indicates that suite2p has been run but not QC'd: ATL012/2023-01-30/702\n",
      "Database indicates that suite2p has been run but not QC'd: ATL012/2023-02-01/701\n",
      "Database indicates that suite2p has been run but not QC'd: ATL012/2023-02-02/701\n",
      "Database indicates that suite2p has been run but not QC'd: ATL012/2023-02-06/701\n",
      "Database indicates that suite2p has been run but not QC'd: ATL012/2023-02-07/701\n",
      "Database indicates that suite2p has been run but not QC'd: ATL012/2023-02-08/702\n",
      "Database indicates that suite2p has been run but not QC'd: ATL012/2023-02-09/701\n",
      "Database indicates that suite2p has been run but not QC'd: ATL012/2023-02-14/703\n",
      "Database indicates that suite2p has been run but not QC'd: ATL012/2023-02-15/701\n",
      "Database indicates that suite2p has been run but not QC'd: ATL012/2023-02-16/701\n",
      "Database indicates that suite2p has been run but not QC'd: ATL012/2023-02-20/701\n",
      "Database indicates that suite2p has been run but not QC'd: ATL012/2023-02-21/702\n",
      "Database indicates that suite2p has been run but not QC'd: ATL012/2023-02-22/701\n",
      "Database indicates that suite2p has been run but not QC'd: ATL012/2023-02-27/701\n",
      "Database indicates that suite2p has been run but not QC'd: ATL012/2023-02-28/701\n",
      "Database indicates that suite2p has been run but not QC'd: ATL012/2023-03-01/701\n",
      "Database indicates that suite2p has been run but not QC'd: ATL012/2023-03-03/701\n",
      "Database indicates that suite2p has been run but not QC'd: ATL020/2023-03-22/701\n",
      "Database indicates that suite2p has been run but not QC'd: ATL020/2023-03-24/701\n",
      "Database indicates that suite2p has been run but not QC'd: ATL020/2023-03-27/701\n",
      "Database indicates that suite2p has been run but not QC'd: ATL020/2023-03-29/701\n",
      "Database indicates that suite2p has been run but not QC'd: ATL020/2023-03-31/701\n",
      "Database indicates that suite2p has been run but not QC'd: ATL020/2023-04-04/701\n",
      "Database indicates that suite2p has been run but not QC'd: ATL020/2023-04-05/701\n",
      "Database indicates that suite2p has been run but not QC'd: ATL020/2023-04-06/701\n",
      "Database indicates that suite2p has been run but not QC'd: ATL020/2023-04-11/701\n",
      "Database indicates that suite2p has been run but not QC'd: ATL020/2023-05-03/701\n",
      "Database indicates that suite2p has been run but not QC'd: ATL020/2023-05-04/702\n",
      "Database indicates that suite2p has been run but not QC'd: ATL022/2023-03-24/701\n",
      "Database indicates that suite2p has been run but not QC'd: ATL022/2023-03-27/701\n",
      "Database indicates that suite2p has been run but not QC'd: ATL022/2023-03-29/701\n",
      "Database indicates that suite2p has been run but not QC'd: ATL022/2023-03-31/703\n",
      "Database indicates that suite2p has been run but not QC'd: ATL022/2023-04-04/701\n",
      "Database indicates that suite2p has been run but not QC'd: ATL022/2023-04-05/702\n",
      "Database indicates that suite2p has been run but not QC'd: ATL022/2023-04-06/701\n",
      "Database indicates that suite2p has been run but not QC'd: ATL022/2023-04-11/701\n",
      "Database indicates that suite2p has been run but not QC'd: ATL022/2023-04-12/701\n",
      "Database indicates that suite2p has been run but not QC'd: ATL022/2023-04-18/701\n",
      "Database indicates that suite2p has been run but not QC'd: ATL022/2023-04-19/701\n",
      "Database indicates that suite2p has been run but not QC'd: ATL022/2023-04-21/701\n",
      "Database indicates that suite2p has been run but not QC'd: ATL022/2023-04-24/701\n",
      "Database indicates that suite2p has been run but not QC'd: ATL022/2023-04-25/702\n",
      "Database indicates that suite2p has been run but not QC'd: ATL022/2023-04-26/701\n",
      "Database indicates that suite2p has been run but not QC'd: ATL022/2023-04-27/702\n",
      "Database indicates that suite2p has been run but not QC'd: ATL022/2023-04-28/701\n",
      "Database indicates that suite2p has been run but not QC'd: ATL022/2023-05-03/701\n",
      "Database indicates that suite2p has been run but not QC'd: ATL022/2023-05-04/701\n",
      "Database indicates that suite2p has been run but not QC'd: ATL023/2023-04-28/702\n",
      "Database indicates that suite2p has been run but not QC'd: ATL023/2023-05-03/701\n",
      "Database indicates that suite2p has been run but not QC'd: ATL023/2023-05-04/701\n",
      "Database indicates that suite2p has been run but not QC'd: ATL027/2023-07-19/701\n",
      "Database indicates that suite2p has been run but not QC'd: ATL027/2023-07-20/701\n",
      "Database indicates that suite2p has been run but not QC'd: ATL027/2023-07-21/701\n",
      "Database indicates that suite2p has been run but not QC'd: ATL027/2023-07-24/701\n",
      "Database indicates that suite2p has been run but not QC'd: ATL027/2023-07-25/701\n",
      "Database indicates that suite2p has been run but not QC'd: ATL027/2023-07-26/701\n",
      "Database indicates that suite2p has been run but not QC'd: ATL027/2023-07-27/701\n",
      "Database indicates that suite2p has been run but not QC'd: ATL027/2023-07-28/701\n",
      "Database indicates that suite2p has been run but not QC'd: ATL027/2023-08-01/701\n",
      "Database indicates that suite2p has been run but not QC'd: ATL027/2023-08-02/701\n",
      "Database indicates that suite2p has been run but not QC'd: ATL027/2023-08-04/702\n",
      "Database indicates that suite2p has been run but not QC'd: ATL027/2023-08-07/701\n",
      "Database indicates that suite2p has been run but not QC'd: ATL027/2023-08-08/701\n",
      "Database indicates that suite2p has been run but not QC'd: ATL027/2023-08-09/701\n",
      "Database indicates that suite2p has been run but not QC'd: ATL028/2023-08-01/701\n",
      "Database indicates that suite2p has been run but not QC'd: ATL028/2023-08-02/701\n",
      "Database indicates that suite2p has been run but not QC'd: ATL028/2023-08-03/701\n",
      "Database indicates that suite2p has been run but not QC'd: ATL028/2023-08-04/701\n",
      "Database indicates that suite2p has been run but not QC'd: ATL028/2023-08-07/701\n",
      "Database indicates that suite2p has been run but not QC'd: ATL028/2023-08-08/701\n"
     ]
    }
   ],
   "source": [
    "vrdb.printRequiresS2P(needsQC=True)"
   ]
  },
  {
   "cell_type": "code",
   "execution_count": null,
   "id": "daf65579-feff-42ea-891d-d24b84c6e31f",
   "metadata": {},
   "outputs": [],
   "source": []
  },
  {
   "cell_type": "code",
   "execution_count": null,
   "id": "cf00d5cc-0c51-4131-8fa7-0b41fee847ee",
   "metadata": {},
   "outputs": [],
   "source": []
  },
  {
   "cell_type": "code",
   "execution_count": null,
   "id": "3f452edd-f2e3-4fff-8ef6-586e4a0ba6c9",
   "metadata": {},
   "outputs": [],
   "source": []
  }
 ],
 "metadata": {
  "kernelspec": {
   "display_name": "Python 3 (ipykernel)",
   "language": "python",
   "name": "python3"
  },
  "language_info": {
   "codemirror_mode": {
    "name": "ipython",
    "version": 3
   },
   "file_extension": ".py",
   "mimetype": "text/x-python",
   "name": "python",
   "nbconvert_exporter": "python",
   "pygments_lexer": "ipython3",
   "version": "3.9.17"
  }
 },
 "nbformat": 4,
 "nbformat_minor": 5
}
