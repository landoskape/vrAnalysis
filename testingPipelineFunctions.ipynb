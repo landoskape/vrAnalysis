{
 "cells": [
  {
   "cell_type": "code",
   "execution_count": 29,
   "id": "62912f35-2f40-4d93-872e-439919754adf",
   "metadata": {},
   "outputs": [],
   "source": [
    "%reload_ext autoreload\n",
    "%autoreload 2\n",
    "\n",
    "%gui qt\n",
    "\n",
    "import numpy as np\n",
    "import numba as nb\n",
    "import scipy as sp\n",
    "import matplotlib as mpl\n",
    "import matplotlib.pyplot as plt\n",
    "from tqdm import tqdm\n",
    "import time\n",
    "import napari\n",
    "from pathlib import Path\n",
    "import vrExperiment as vre\n",
    "import vrFunctions as vrf\n",
    "import basicFunctions as bf\n",
    "import fileManagement as fm\n",
    "import redCellGUI as rgui"
   ]
  },
  {
   "cell_type": "code",
   "execution_count": 3,
   "id": "ff1fdad1-13d1-4122-9bc4-26d40074c4c3",
   "metadata": {
    "tags": []
   },
   "outputs": [],
   "source": [
    "# Immediate next steps for programming work:\n",
    "\n",
    "# - database development\n",
    "# - ROICaT index alignment tools\n"
   ]
  },
  {
   "cell_type": "code",
   "execution_count": 16,
   "id": "266df662-bc89-4dc4-ad54-58669e96b403",
   "metadata": {
    "tags": []
   },
   "outputs": [],
   "source": [
    "mouseName = 'ATL020'\n",
    "dateString = '2023-05-04'\n",
    "session = '702'"
   ]
  },
  {
   "cell_type": "code",
   "execution_count": 113,
   "id": "3232a21b-e0f7-43c3-99a2-d2b4b67d3530",
   "metadata": {
    "tags": []
   },
   "outputs": [
    {
     "name": "stdout",
     "output_type": "stream",
     "text": [
      "In session: CR_Hippocannula6/2022-09-05/701, vrFile['rigInfo'] does not exist. Assuming default settings for B2!\n",
      "Convert mpciROIs.planeIndex to mpciROIs.stackPosition, with [X,Y,Z(planeIndex)] coordinate for each ROI!\n",
      "Computing red cell features... (usually takes 10-20 seconds)\n",
      "C:\\Users\\andrew\\Documents\\localData\\CR_Hippocannula6\\2022-09-05\\701\n"
     ]
    }
   ],
   "source": [
    "mouseName = 'CR_Hippocannula6'\n",
    "dateString = '2022-09-05'\n",
    "session = '701'\n",
    "\n",
    "# vrExperiment registration and preprocessing \n",
    "# vrReg = vre.vrExperimentRegistration(mouseName, dateString, session, oasis=False, imaging=True)\n",
    "# vrReg.processTimeline()\n",
    "# vrReg.processImaging()\n",
    "# vrReg.processRedCells()\n",
    "# vrReg.saveParams()\n",
    "# print(vrReg.sessionPath())\n",
    "# del vrReg"
   ]
  },
  {
   "cell_type": "code",
   "execution_count": 3,
   "id": "b546e957-03cd-48ca-98e8-70c1db297f51",
   "metadata": {},
   "outputs": [],
   "source": [
    "# vrExperiment registration and preprocessing \n",
    "vrReg = vre.vrExperimentRegistration(mouseName, dateString, session, oasis=False, imaging=True)\n",
    "vrReg.doPreprocessing()\n",
    "vrReg.saveParams()\n",
    "print(vrReg.sessionPath())\n",
    "del vrReg"
   ]
  },
  {
   "cell_type": "code",
   "execution_count": 3,
   "id": "3e43e9b6-b917-433c-a1a5-3064da5894f8",
   "metadata": {
    "tags": []
   },
   "outputs": [],
   "source": [
    "# Load registered vrExperiment\n",
    "vrexp = vre.vrExperiment(mouseName, dateString, session)"
   ]
  },
  {
   "cell_type": "code",
   "execution_count": 13,
   "id": "e7e2036c-4509-41bc-96ff-1d1337ffbb29",
   "metadata": {
    "tags": []
   },
   "outputs": [
    {
     "name": "stdout",
     "output_type": "stream",
     "text": [
      "CPU times: total: 3.58 s\n",
      "Wall time: 512 ms\n"
     ]
    }
   ],
   "source": [
    "%%time\n",
    "speedThreshold = 5\n",
    "omap, smap, lickmap, distvec = vrf.getBehaviorMaps(vrexp,speedThreshold=speedThreshold) # produce smoothed occupancy and speed maps, along with the distance bins used to create them\n",
    "frameTrialIdx, framePosition, frameSpeed = vrexp.getFrameBehavior() # convert behavioral data into timeframe of spiking data\n",
    "spkmap = vrf.getSpikeMap(vrexp, frameTrialIdx, framePosition, frameSpeed, distvec, omap, speedThreshold=speedThreshold, standardizeSpks=False, doSmoothing=0) # produce the spkmap \n",
    "idxFullTrials = np.all(~np.isnan(omap),axis=1) # find out which trials the mouse explored the whole environment\n",
    "relmse, relcor = vrf.measureReliability(spkmap[:,idxFullTrials], numcv=3) # measure reliability of spiking\n",
    "spInfo = vrf.measureSpatialInformation(omap[idxFullTrials], spkmap[:,idxFullTrials]) # measure spatial information of spiking"
   ]
  },
  {
   "cell_type": "code",
   "execution_count": 147,
   "id": "7b8e9865-e913-4dfc-a697-8079801b3c8b",
   "metadata": {},
   "outputs": [],
   "source": [
    "# Code block for opening redSelectionGUI for a vrExperiment\n",
    "vrexp = vre.vrExperiment(mouseName, dateString, session)\n",
    "redCell = vre.redCellProcessing(vrexp)\n",
    "redSelection = rgui.redSelectionGUI(redCell)"
   ]
  },
  {
   "cell_type": "code",
   "execution_count": null,
   "id": "487110b4-4e2c-4b24-bea9-56d03b2b06d5",
   "metadata": {},
   "outputs": [],
   "source": []
  },
  {
   "cell_type": "code",
   "execution_count": 30,
   "id": "e0053925-bb55-4674-b14f-625529c7e63f",
   "metadata": {},
   "outputs": [
    {
     "name": "stdout",
     "output_type": "stream",
     "text": [
      "\\\\zaru.cortexlab.net\\Subjects\\ATL028\\2023-08-08\\701\n",
      "C:\\Users\\andrew\\Documents\\localData\\ATL028\\2023-08-08\\701\n"
     ]
    }
   ],
   "source": [
    "# fm.getCopyString('ATL027')\n",
    "fm.s2pTargets('ATL028','2023-08-08','701')"
   ]
  },
  {
   "cell_type": "code",
   "execution_count": null,
   "id": "0943758c-8b2b-4fc2-9fb4-39f470ce859b",
   "metadata": {},
   "outputs": [],
   "source": []
  },
  {
   "cell_type": "code",
   "execution_count": 16,
   "id": "c31b96eb-388c-47a9-95d8-26a4568737aa",
   "metadata": {},
   "outputs": [
    {
     "data": {
      "text/plain": [
       "['unique identifier',\n",
       " 'mouseName',\n",
       " 'date',\n",
       " 'session ID',\n",
       " 'unique mouse ID',\n",
       " 'experiment type',\n",
       " 'imaging',\n",
       " 'face camera',\n",
       " 'vrEnvironments',\n",
       " 'number of imaging planes',\n",
       " 'separation of imaging planes',\n",
       " 'pockels cell percentage',\n",
       " 'rotation of objective',\n",
       " 'rotation of head plate holder',\n",
       " 'suite2p processed',\n",
       " 'suite2p quality control',\n",
       " 'vrExperiment registration processed',\n",
       " 'red cell quality control',\n",
       " 'session quality control']"
      ]
     },
     "execution_count": 16,
     "metadata": {},
     "output_type": "execute_result"
    }
   ],
   "source": [
    "dbpath = fm.codePath() / 'database'\n",
    "headerColumns = []\n",
    "with open(dbpath/'databaseConstruction'/'sessionHeaders.txt') as f:\n",
    "    for x in f: \n",
    "        headerColumns.append(x.strip())\n",
    "\n",
    "headerColumns"
   ]
  },
  {
   "cell_type": "code",
   "execution_count": null,
   "id": "59fe9741-5575-4915-a2c5-1621748ad5a6",
   "metadata": {},
   "outputs": [],
   "source": []
  },
  {
   "cell_type": "code",
   "execution_count": null,
   "id": "25abd140-d765-44f7-abea-cb8a31a85d4f",
   "metadata": {},
   "outputs": [],
   "source": []
  },
  {
   "cell_type": "code",
   "execution_count": 37,
   "id": "e45f5233-2bef-4ac2-bc73-93e5899d443b",
   "metadata": {
    "tags": []
   },
   "outputs": [
    {
     "name": "stdout",
     "output_type": "stream",
     "text": [
      "2023-01-30    701    numFiles: 1\n",
      "2023-02-01    701    numFiles: 1\n",
      "2023-02-02    701    numFiles: 1\n",
      "2023-02-06    701    numFiles: 1\n",
      "2023-02-07    701    numFiles: 1\n",
      "2023-02-08    702    numFiles: 1\n",
      "2023-02-09    701    numFiles: 1\n",
      "2023-02-14    703    numFiles: 1\n",
      "2023-02-15    701    numFiles: 1\n",
      "2023-02-16    701    numFiles: 1\n",
      "2023-02-17    701    numFiles: 1\n",
      "2023-02-20    701    numFiles: 1\n",
      "2023-02-21    702    numFiles: 1\n",
      "2023-02-22    701    numFiles: 1\n",
      "2023-02-27    701    numFiles: 1\n",
      "2023-02-28    701    numFiles: 1\n",
      "2023-03-01    701    numFiles: 1\n",
      "2023-03-03    701    numFiles: 1\n",
      "2023-07-10    701    numFiles: 1\n",
      "2023-07-10    702    numFiles: 1\n",
      "2023-07-11    701    numFiles: 1\n",
      "2023-07-13    701    numFiles: 1\n",
      "2023-07-14    701    numFiles: 1\n",
      "2023-07-17    701    numFiles: 1\n",
      "2023-07-18    701    numFiles: 1\n",
      "2023-07-19    701    numFiles: 1\n",
      "2023-07-19    702    numFiles: 1\n",
      "2023-07-19    703    numFiles: 1\n",
      "2023-07-20    701    numFiles: 1\n",
      "2023-07-20    702    numFiles: 1\n"
     ]
    }
   ],
   "source": [
    "def checkSessionFiles(mouseName, fileIdentifier, onlyTrue=True):\n",
    "    dataPath = fm.localDataPath()\n",
    "    sessionPaths = glob(str(dataPath / mouseName) + '/*')\n",
    "    for spath in sessionPaths:\n",
    "        cdate = Path(spath).name\n",
    "        sessions = glob(spath+'/*/')\n",
    "        for s in sessions:\n",
    "            cses = Path(s).name\n",
    "            targetFiles = glob(s+fileIdentifier)\n",
    "            numFiles = len(targetFiles)\n",
    "            if not(onlyTrue and numFiles==0): \n",
    "                print(f\"{cdate}    {cses}    numFiles: {numFiles}\")\n",
    "            \n",
    "checkSessionFiles('ATL012', '*eye.mj2') #'*eye.mj2' / 'suite2p')"
   ]
  },
  {
   "cell_type": "code",
   "execution_count": 39,
   "id": "5c3e5630-3cc1-441d-aaa1-b9341c4a5b28",
   "metadata": {
    "tags": []
   },
   "outputs": [],
   "source": [
    "# Note to self -- I'm currently working on migrating my documentation of the data collection over to the access database. \n",
    "# I probably want to restart a new \"sessions\" database and then move everything over from excel. \n",
    "# Right now, I'm just moving data from google sheets to excel..."
   ]
  },
  {
   "cell_type": "code",
   "execution_count": null,
   "id": "c82d426d-5436-4c91-82d6-890efb5b0055",
   "metadata": {},
   "outputs": [],
   "source": []
  },
  {
   "cell_type": "code",
   "execution_count": null,
   "id": "ce98d1f4-409d-4db7-bf22-22c1ae066703",
   "metadata": {},
   "outputs": [],
   "source": []
  },
  {
   "cell_type": "code",
   "execution_count": 15,
   "id": "26726078-6b24-4051-9b23-84fc9844be34",
   "metadata": {},
   "outputs": [
    {
     "data": {
      "text/plain": [
       "['C:\\\\Users\\\\andrew\\\\Documents\\\\localData\\\\ATL012\\\\2023-01-12\\\\701',\n",
       " 'C:\\\\Users\\\\andrew\\\\Documents\\\\localData\\\\ATL012\\\\2023-01-12\\\\702',\n",
       " 'C:\\\\Users\\\\andrew\\\\Documents\\\\localData\\\\ATL012\\\\2023-01-12\\\\703',\n",
       " 'C:\\\\Users\\\\andrew\\\\Documents\\\\localData\\\\ATL012\\\\2023-01-18\\\\701',\n",
       " 'C:\\\\Users\\\\andrew\\\\Documents\\\\localData\\\\ATL012\\\\2023-01-19\\\\701',\n",
       " 'C:\\\\Users\\\\andrew\\\\Documents\\\\localData\\\\ATL012\\\\2023-01-20\\\\701',\n",
       " 'C:\\\\Users\\\\andrew\\\\Documents\\\\localData\\\\ATL012\\\\2023-01-20\\\\702',\n",
       " 'C:\\\\Users\\\\andrew\\\\Documents\\\\localData\\\\ATL012\\\\2023-01-23\\\\701',\n",
       " 'C:\\\\Users\\\\andrew\\\\Documents\\\\localData\\\\ATL012\\\\2023-01-24\\\\701',\n",
       " 'C:\\\\Users\\\\andrew\\\\Documents\\\\localData\\\\ATL012\\\\2023-01-24\\\\702',\n",
       " 'C:\\\\Users\\\\andrew\\\\Documents\\\\localData\\\\ATL012\\\\2023-01-24\\\\703',\n",
       " 'C:\\\\Users\\\\andrew\\\\Documents\\\\localData\\\\ATL012\\\\2023-01-25\\\\701',\n",
       " 'C:\\\\Users\\\\andrew\\\\Documents\\\\localData\\\\ATL012\\\\2023-01-26\\\\701',\n",
       " 'C:\\\\Users\\\\andrew\\\\Documents\\\\localData\\\\ATL012\\\\2023-01-26\\\\702',\n",
       " 'C:\\\\Users\\\\andrew\\\\Documents\\\\localData\\\\ATL012\\\\2023-01-27\\\\701',\n",
       " 'C:\\\\Users\\\\andrew\\\\Documents\\\\localData\\\\ATL012\\\\2023-01-30\\\\701',\n",
       " 'C:\\\\Users\\\\andrew\\\\Documents\\\\localData\\\\ATL012\\\\2023-01-30\\\\702',\n",
       " 'C:\\\\Users\\\\andrew\\\\Documents\\\\localData\\\\ATL012\\\\2023-01-30\\\\703',\n",
       " 'C:\\\\Users\\\\andrew\\\\Documents\\\\localData\\\\ATL012\\\\2023-01-30\\\\yoked_s2p_output',\n",
       " 'C:\\\\Users\\\\andrew\\\\Documents\\\\localData\\\\ATL012\\\\2023-02-01\\\\701',\n",
       " 'C:\\\\Users\\\\andrew\\\\Documents\\\\localData\\\\ATL012\\\\2023-02-02\\\\701',\n",
       " 'C:\\\\Users\\\\andrew\\\\Documents\\\\localData\\\\ATL012\\\\2023-02-06\\\\701',\n",
       " 'C:\\\\Users\\\\andrew\\\\Documents\\\\localData\\\\ATL012\\\\2023-02-07\\\\701',\n",
       " 'C:\\\\Users\\\\andrew\\\\Documents\\\\localData\\\\ATL012\\\\2023-02-08\\\\702',\n",
       " 'C:\\\\Users\\\\andrew\\\\Documents\\\\localData\\\\ATL012\\\\2023-02-09\\\\701',\n",
       " 'C:\\\\Users\\\\andrew\\\\Documents\\\\localData\\\\ATL012\\\\2023-02-14\\\\701',\n",
       " 'C:\\\\Users\\\\andrew\\\\Documents\\\\localData\\\\ATL012\\\\2023-02-14\\\\702',\n",
       " 'C:\\\\Users\\\\andrew\\\\Documents\\\\localData\\\\ATL012\\\\2023-02-14\\\\703',\n",
       " 'C:\\\\Users\\\\andrew\\\\Documents\\\\localData\\\\ATL012\\\\2023-02-15\\\\701',\n",
       " 'C:\\\\Users\\\\andrew\\\\Documents\\\\localData\\\\ATL012\\\\2023-02-16\\\\701',\n",
       " 'C:\\\\Users\\\\andrew\\\\Documents\\\\localData\\\\ATL012\\\\2023-02-17\\\\701',\n",
       " 'C:\\\\Users\\\\andrew\\\\Documents\\\\localData\\\\ATL012\\\\2023-02-20\\\\701',\n",
       " 'C:\\\\Users\\\\andrew\\\\Documents\\\\localData\\\\ATL012\\\\2023-02-21\\\\701',\n",
       " 'C:\\\\Users\\\\andrew\\\\Documents\\\\localData\\\\ATL012\\\\2023-02-21\\\\702',\n",
       " 'C:\\\\Users\\\\andrew\\\\Documents\\\\localData\\\\ATL012\\\\2023-02-22\\\\701',\n",
       " 'C:\\\\Users\\\\andrew\\\\Documents\\\\localData\\\\ATL012\\\\2023-02-27\\\\701',\n",
       " 'C:\\\\Users\\\\andrew\\\\Documents\\\\localData\\\\ATL012\\\\2023-02-28\\\\701',\n",
       " 'C:\\\\Users\\\\andrew\\\\Documents\\\\localData\\\\ATL012\\\\2023-03-01\\\\701',\n",
       " 'C:\\\\Users\\\\andrew\\\\Documents\\\\localData\\\\ATL012\\\\2023-03-03\\\\701',\n",
       " 'C:\\\\Users\\\\andrew\\\\Documents\\\\localData\\\\ATL012\\\\2023-07-10\\\\701',\n",
       " 'C:\\\\Users\\\\andrew\\\\Documents\\\\localData\\\\ATL012\\\\2023-07-10\\\\702',\n",
       " 'C:\\\\Users\\\\andrew\\\\Documents\\\\localData\\\\ATL012\\\\2023-07-11\\\\701',\n",
       " 'C:\\\\Users\\\\andrew\\\\Documents\\\\localData\\\\ATL012\\\\2023-07-13\\\\701',\n",
       " 'C:\\\\Users\\\\andrew\\\\Documents\\\\localData\\\\ATL012\\\\2023-07-14\\\\701',\n",
       " 'C:\\\\Users\\\\andrew\\\\Documents\\\\localData\\\\ATL012\\\\2023-07-17\\\\701',\n",
       " 'C:\\\\Users\\\\andrew\\\\Documents\\\\localData\\\\ATL012\\\\2023-07-18\\\\701',\n",
       " 'C:\\\\Users\\\\andrew\\\\Documents\\\\localData\\\\ATL012\\\\2023-07-19\\\\701',\n",
       " 'C:\\\\Users\\\\andrew\\\\Documents\\\\localData\\\\ATL012\\\\2023-07-19\\\\702',\n",
       " 'C:\\\\Users\\\\andrew\\\\Documents\\\\localData\\\\ATL012\\\\2023-07-19\\\\703',\n",
       " 'C:\\\\Users\\\\andrew\\\\Documents\\\\localData\\\\ATL012\\\\2023-07-20\\\\701',\n",
       " 'C:\\\\Users\\\\andrew\\\\Documents\\\\localData\\\\ATL012\\\\2023-07-20\\\\702',\n",
       " 'C:\\\\Users\\\\andrew\\\\Documents\\\\localData\\\\ATL012\\\\roicat\\\\plane0.ROICaT.results.mat',\n",
       " 'C:\\\\Users\\\\andrew\\\\Documents\\\\localData\\\\ATL012\\\\roicat\\\\plane0.ROICaT.results.pkl',\n",
       " 'C:\\\\Users\\\\andrew\\\\Documents\\\\localData\\\\ATL012\\\\roicat\\\\plane1.ROICaT.results.mat',\n",
       " 'C:\\\\Users\\\\andrew\\\\Documents\\\\localData\\\\ATL012\\\\roicat\\\\plane1.ROICaT.results.pkl',\n",
       " 'C:\\\\Users\\\\andrew\\\\Documents\\\\localData\\\\ATL012\\\\roicat\\\\plane2.ROICaT.results.mat',\n",
       " 'C:\\\\Users\\\\andrew\\\\Documents\\\\localData\\\\ATL012\\\\roicat\\\\plane2.ROICaT.results.pkl',\n",
       " 'C:\\\\Users\\\\andrew\\\\Documents\\\\localData\\\\ATL012\\\\roicat\\\\plane3.ROICaT.results.mat',\n",
       " 'C:\\\\Users\\\\andrew\\\\Documents\\\\localData\\\\ATL012\\\\roicat\\\\plane3.ROICaT.results.pkl',\n",
       " 'C:\\\\Users\\\\andrew\\\\Documents\\\\localData\\\\ATL012\\\\roicat\\\\plane4.ROICaT.results.mat',\n",
       " 'C:\\\\Users\\\\andrew\\\\Documents\\\\localData\\\\ATL012\\\\roicat\\\\plane4.ROICaT.results.pkl',\n",
       " 'C:\\\\Users\\\\andrew\\\\Documents\\\\localData\\\\ATL012\\\\roicat_until21\\\\plane0.ROICaT.results.mat',\n",
       " 'C:\\\\Users\\\\andrew\\\\Documents\\\\localData\\\\ATL012\\\\roicat_until21\\\\plane0.ROICaT.results.pkl',\n",
       " 'C:\\\\Users\\\\andrew\\\\Documents\\\\localData\\\\ATL012\\\\roicat_until21\\\\plane1.ROICaT.results.mat',\n",
       " 'C:\\\\Users\\\\andrew\\\\Documents\\\\localData\\\\ATL012\\\\roicat_until21\\\\plane1.ROICaT.results.pkl',\n",
       " 'C:\\\\Users\\\\andrew\\\\Documents\\\\localData\\\\ATL012\\\\roicat_until21\\\\plane2.ROICaT.results.mat',\n",
       " 'C:\\\\Users\\\\andrew\\\\Documents\\\\localData\\\\ATL012\\\\roicat_until21\\\\plane2.ROICaT.results.pkl',\n",
       " 'C:\\\\Users\\\\andrew\\\\Documents\\\\localData\\\\ATL012\\\\roicat_until21\\\\plane3.ROICaT.results.mat',\n",
       " 'C:\\\\Users\\\\andrew\\\\Documents\\\\localData\\\\ATL012\\\\roicat_until21\\\\plane3.ROICaT.results.pkl',\n",
       " 'C:\\\\Users\\\\andrew\\\\Documents\\\\localData\\\\ATL012\\\\roicat_until21\\\\plane4.ROICaT.results.mat',\n",
       " 'C:\\\\Users\\\\andrew\\\\Documents\\\\localData\\\\ATL012\\\\roicat_until21\\\\plane4.ROICaT.results.pkl']"
      ]
     },
     "execution_count": 15,
     "metadata": {},
     "output_type": "execute_result"
    }
   ],
   "source": [
    "from glob import glob\n",
    "dataPath = fm.localDataPath()\n",
    "glob(str(dataPath / 'ATL012')+'/*/*')"
   ]
  },
  {
   "cell_type": "code",
   "execution_count": null,
   "id": "0d88d416-8f54-43c0-be63-eb830a0d0a95",
   "metadata": {},
   "outputs": [],
   "source": []
  },
  {
   "cell_type": "code",
   "execution_count": null,
   "id": "55db5532-9215-4ba1-8f5d-a0ec8ca85220",
   "metadata": {},
   "outputs": [],
   "source": []
  },
  {
   "cell_type": "code",
   "execution_count": null,
   "id": "0fba9de9-3cd2-4a7c-8131-c80647e6c422",
   "metadata": {},
   "outputs": [],
   "source": []
  },
  {
   "cell_type": "code",
   "execution_count": 1,
   "id": "ad20480b-a366-499d-9545-b443c6d33b2b",
   "metadata": {},
   "outputs": [],
   "source": [
    "%reload_ext autoreload\n",
    "%autoreload 2\n",
    "\n",
    "import dbManagement as dbm\n",
    "vrdb = dbm.vrDatabase()"
   ]
  },
  {
   "cell_type": "code",
   "execution_count": 9,
   "id": "22169af4-dc06-496e-b49a-66be2d57f116",
   "metadata": {},
   "outputs": [
    {
     "name": "stderr",
     "output_type": "stream",
     "text": [
      "PandasGUI INFO — pandasgui.gui — Opening PandasGUI\n"
     ]
    }
   ],
   "source": [
    "df = vrdb.showTable()"
   ]
  },
  {
   "cell_type": "code",
   "execution_count": 21,
   "id": "d025951f-5e27-4e38-8743-4dea58ae6248",
   "metadata": {},
   "outputs": [
    {
     "name": "stdout",
     "output_type": "stream",
     "text": [
      "Database said suite2p didn't run, but it already did: ATL027/2023-08-08/701\n",
      "Database said suite2p didn't run, but it already did: ATL027/2023-08-09/701\n",
      "Database said suite2p didn't run, but it already did: ATL028/2023-08-02/701\n",
      "Database said suite2p didn't run, but it already did: ATL028/2023-08-03/701\n",
      "Database said suite2p didn't run, but it already did: ATL028/2023-08-04/701\n",
      "Database said suite2p didn't run, but it already did: ATL028/2023-08-07/701\n",
      "Database said suite2p didn't run, but it already did: ATL028/2023-08-08/701\n",
      "Would try to turn uid 85 row to true with: UPDATE sessiondb SET suite2p = True WHERE [Unique Session ID] = 85;\n",
      "Would try to turn uid 86 row to true with: UPDATE sessiondb SET suite2p = True WHERE [Unique Session ID] = 86;\n",
      "Would try to turn uid 197 row to true with: UPDATE sessiondb SET suite2p = True WHERE [Unique Session ID] = 197;\n",
      "Would try to turn uid 198 row to true with: UPDATE sessiondb SET suite2p = True WHERE [Unique Session ID] = 198;\n",
      "Would try to turn uid 199 row to true with: UPDATE sessiondb SET suite2p = True WHERE [Unique Session ID] = 199;\n",
      "Would try to turn uid 200 row to true with: UPDATE sessiondb SET suite2p = True WHERE [Unique Session ID] = 200;\n",
      "Would try to turn uid 201 row to true with: UPDATE sessiondb SET suite2p = True WHERE [Unique Session ID] = 201;\n"
     ]
    }
   ],
   "source": [
    "vrdb.checkS2P(withDatabaseUpdate=True)"
   ]
  },
  {
   "cell_type": "code",
   "execution_count": null,
   "id": "32f6fd1f-469b-46d7-8508-ce6e16a034a3",
   "metadata": {},
   "outputs": [],
   "source": []
  },
  {
   "cell_type": "code",
   "execution_count": null,
   "id": "8f1be56b-0cc7-416a-bb15-ecdff7f09ca6",
   "metadata": {},
   "outputs": [],
   "source": []
  },
  {
   "cell_type": "code",
   "execution_count": null,
   "id": "415ba0ad-3807-444b-a3d9-d57f9231fe36",
   "metadata": {},
   "outputs": [],
   "source": []
  },
  {
   "cell_type": "code",
   "execution_count": null,
   "id": "2150341d-0412-4a61-9b7b-dde4f1c4a301",
   "metadata": {},
   "outputs": [],
   "source": []
  },
  {
   "cell_type": "code",
   "execution_count": null,
   "id": "4ce466ee-da0b-4a68-a8ad-7a223206e059",
   "metadata": {},
   "outputs": [],
   "source": []
  },
  {
   "cell_type": "code",
   "execution_count": null,
   "id": "af0b0058-fbb1-4422-86f3-46888551f493",
   "metadata": {},
   "outputs": [],
   "source": []
  },
  {
   "cell_type": "code",
   "execution_count": null,
   "id": "c1260efe-4c28-432e-bce8-fcbf18648aad",
   "metadata": {},
   "outputs": [],
   "source": []
  },
  {
   "cell_type": "code",
   "execution_count": null,
   "id": "62197ed7-5338-430f-bab6-710b54bb414b",
   "metadata": {},
   "outputs": [],
   "source": []
  },
  {
   "cell_type": "code",
   "execution_count": null,
   "id": "d797e45b-0744-4e55-8705-174757641f6d",
   "metadata": {},
   "outputs": [],
   "source": []
  },
  {
   "cell_type": "code",
   "execution_count": null,
   "id": "81daf1a4-80d5-4988-9084-10885ab7b207",
   "metadata": {},
   "outputs": [],
   "source": []
  },
  {
   "cell_type": "code",
   "execution_count": null,
   "id": "f48c6dec-6c51-4a6b-ab3d-2401b1485925",
   "metadata": {},
   "outputs": [],
   "source": []
  },
  {
   "cell_type": "code",
   "execution_count": null,
   "id": "b6b82c80-a81f-4c56-9e66-938769c90572",
   "metadata": {},
   "outputs": [],
   "source": []
  },
  {
   "cell_type": "code",
   "execution_count": null,
   "id": "c08762f0-b926-450d-9fb1-b3c55e69685a",
   "metadata": {},
   "outputs": [],
   "source": []
  },
  {
   "cell_type": "code",
   "execution_count": null,
   "id": "338513f4-2b8c-4f3f-b789-ca19f1cccf8a",
   "metadata": {},
   "outputs": [],
   "source": []
  },
  {
   "cell_type": "code",
   "execution_count": null,
   "id": "cd4b7a49-9484-498c-8050-cb3bd9c1a06c",
   "metadata": {},
   "outputs": [],
   "source": []
  },
  {
   "cell_type": "code",
   "execution_count": null,
   "id": "248e6057-e95e-4acf-9849-e10023a0ba88",
   "metadata": {},
   "outputs": [],
   "source": []
  },
  {
   "cell_type": "code",
   "execution_count": null,
   "id": "6a9cabe1-763b-4d89-b805-68c549627da6",
   "metadata": {},
   "outputs": [],
   "source": []
  },
  {
   "cell_type": "code",
   "execution_count": null,
   "id": "2397c17d-ee04-4048-8500-6d6cf2ab1334",
   "metadata": {},
   "outputs": [],
   "source": []
  },
  {
   "cell_type": "code",
   "execution_count": null,
   "id": "789f13f3-a735-4fcd-b021-5751c3c84a7c",
   "metadata": {},
   "outputs": [],
   "source": []
  },
  {
   "cell_type": "code",
   "execution_count": null,
   "id": "820167c3-0b7e-4ecc-9818-6482ad171345",
   "metadata": {},
   "outputs": [],
   "source": []
  },
  {
   "cell_type": "code",
   "execution_count": null,
   "id": "30b36d2a-6895-44e4-b508-1319340a64bf",
   "metadata": {},
   "outputs": [],
   "source": []
  },
  {
   "cell_type": "code",
   "execution_count": null,
   "id": "fdb56630-2947-415d-811e-5669980b6337",
   "metadata": {},
   "outputs": [],
   "source": []
  }
 ],
 "metadata": {
  "kernelspec": {
   "display_name": "Python 3 (ipykernel)",
   "language": "python",
   "name": "python3"
  },
  "language_info": {
   "codemirror_mode": {
    "name": "ipython",
    "version": 3
   },
   "file_extension": ".py",
   "mimetype": "text/x-python",
   "name": "python",
   "nbconvert_exporter": "python",
   "pygments_lexer": "ipython3",
   "version": "3.9.16"
  }
 },
 "nbformat": 4,
 "nbformat_minor": 5
}
