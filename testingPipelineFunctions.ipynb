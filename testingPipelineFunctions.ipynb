{
 "cells": [
  {
   "cell_type": "code",
   "execution_count": 2,
   "id": "62912f35-2f40-4d93-872e-439919754adf",
   "metadata": {},
   "outputs": [],
   "source": [
    "%reload_ext autoreload\n",
    "%autoreload 2\n",
    "\n",
    "# %matplotlib widget\n",
    "%gui qt\n",
    "\n",
    "import time\n",
    "import random\n",
    "from copy import copy\n",
    "from tqdm import tqdm\n",
    "from pathlib import Path\n",
    "import numpy as np\n",
    "import numba as nb\n",
    "import scipy as sp\n",
    "import matplotlib as mpl\n",
    "import matplotlib.pyplot as plt\n",
    "import pandas as pd\n",
    "pd.options.display.width = 1000\n",
    "\n",
    "from vrAnalysis import session\n",
    "from vrAnalysis import functions\n",
    "from vrAnalysis import analysis \n",
    "from vrAnalysis import helpers\n",
    "from vrAnalysis import fileManagement as fm\n",
    "from vrAnalysis import database\n",
    "\n",
    "from vrAnalysis.redgui import redCellGUI as rgui\n",
    "\n",
    "vrdb = database.vrDatabase()"
   ]
  },
  {
   "cell_type": "code",
   "execution_count": 288,
   "id": "ed7e9ac5-fb05-4dc2-a5a9-4b5789bbeba3",
   "metadata": {
    "tags": []
   },
   "outputs": [
    {
     "name": "stdout",
     "output_type": "stream",
     "text": [
      "uSessionID\n",
      "mouseName\n",
      "sessionDate\n",
      "sessionID\n",
      "experimentType\n",
      "experimentID\n",
      "variableGain\n",
      "behavior\n",
      "imaging\n",
      "faceCamera\n",
      "vrEnvironments\n",
      "headPlateRotation\n",
      "numPlanes\n",
      "planeSeparation\n",
      "pockelsPercentage\n",
      "objectiveRotation\n",
      "vrRegistration\n",
      "suite2p\n",
      "suite2pQC\n",
      "redCellQC\n",
      "sessionQC\n",
      "scratchJustification\n",
      "logtime\n",
      "sessionNotes\n",
      "suite2pDate\n",
      "vrRegistrationDate\n",
      "vrRegistrationError\n",
      "vrRegistrationException\n",
      "redCellQCDate\n"
     ]
    }
   ],
   "source": [
    "for fieldName in vrdb.tableData()[0]:\n",
    "    print(fieldName)"
   ]
  },
  {
   "cell_type": "code",
   "execution_count": 6,
   "id": "ff1fdad1-13d1-4122-9bc4-26d40074c4c3",
   "metadata": {
    "tags": []
   },
   "outputs": [],
   "source": [
    "# Immediate next steps for programming work:\n",
    "# - ROICaT index alignment tools"
   ]
  },
  {
   "cell_type": "code",
   "execution_count": 241,
   "id": "1119caff-5d69-484e-bb16-cc6b820c7d88",
   "metadata": {
    "tags": []
   },
   "outputs": [],
   "source": [
    "# Database Requirements: \n",
    "# ---------------------\n",
    "# GUI: db manager\n",
    "# - show full database -\n",
    "# - show selected entries (like for example entries with imaging but no suite2p) -\n",
    "#                --> It would be sweet to make this work where there are some defaults, but then there is also a \"filter command\" option which you type and goes as the input to the filtering\n",
    "# - click on entry and do things:\n",
    "#                --> open file explorer to that session\n",
    "#                --> do suite2p\n",
    "#                --> do red cell management\n",
    "# - update table data? \n",
    "# ---------------------\n",
    "# Operational Commands: \n",
    "# - Automatically do suite2p \n",
    "# - Check if registration was done before a suite2p update\n",
    "# - Find way to determine if a suite2p file was updated after the folder was made (indicating that QC was done afterwards) -- so registration should be rerun for imaging data at least\n",
    "#    -- check if \"iscell\" is the only thing that was done after registration. In this case, just update the iscell oneData\n",
    "# ---------------------\n",
    "# - Add new entry GUI!!!\n",
    "# ---------------------\n",
    "# - Check session folders to see if new session is present that isn't registered in the database? \n",
    "# ---------------------\n",
    "# vrExperimentUpdates: \n",
    "# -- if edited iscell, will need to re-register the number of ROIs per plane (in \"self.values\") and reprocess imaging data!\n",
    "# ---------------------\n",
    "# vrExperimentRegistration\n",
    "# -- if error, then note there was an error and append an explanation...!!!\n",
    "# ---------------------"
   ]
  },
  {
   "cell_type": "code",
   "execution_count": 2,
   "id": "3232a21b-e0f7-43c3-99a2-d2b4b67d3530",
   "metadata": {
    "tags": []
   },
   "outputs": [],
   "source": [
    "mouseName = 'CR_Hippocannula6'\n",
    "dateString = '2022-09-05'\n",
    "sessionid = '701'\n",
    "# vrExperiment registration and preprocessing \n",
    "# vrReg = vre.vrExperimentRegistration(mouseName, dateString, session, oasis=False, imaging=True)\n",
    "# vrReg.processTimeline()\n",
    "# vrReg.processImaging()\n",
    "# vrReg.processRedCells()\n",
    "# vrReg.saveParams()\n",
    "# print(vrReg.sessionPath())\n",
    "# del vrReg"
   ]
  },
  {
   "cell_type": "code",
   "execution_count": 4,
   "id": "25a83aa6-c0d5-437e-8c17-09712c235f5d",
   "metadata": {
    "tags": []
   },
   "outputs": [],
   "source": [
    "mouseName = 'ATL012'\n",
    "dateString = '2023-02-01'\n",
    "sessionid = '701'\n",
    "\n",
    "# Load registered vrExperiment\n",
    "vrexp = session.vrExperiment(mouseName, dateString, sessionid)"
   ]
  },
  {
   "cell_type": "code",
   "execution_count": 3,
   "id": "d5813430-da22-4d6d-a873-209e141aed26",
   "metadata": {
    "tags": []
   },
   "outputs": [],
   "source": [
    "mouseName = 'ATL027'\n",
    "dateString = '2023-08-01'\n",
    "sessionid = '701'\n",
    "\n",
    "# Load registered vrExperiment\n",
    "vrexp = session.vrExperiment(mouseName, dateString, sessionid)"
   ]
  },
  {
   "cell_type": "code",
   "execution_count": null,
   "id": "b546e957-03cd-48ca-98e8-70c1db297f51",
   "metadata": {},
   "outputs": [
    {
     "name": "stdout",
     "output_type": "stream",
     "text": [
      "In session: ATL020/2023-05-04/702, vrFile['rigInfo'] does not exist. Assuming default settings for B2!\n",
      "Self.value['numTrials'] set by trialInfo.trialIdx>0, but this might not be right. There might be smarter ways to determine which trials are 'good' trials...\n",
      "frame2time had 2 more than suite2p output. This happens sometimes. I don't like it. I think it's because scanimage sends a TTL before starting the frame\n",
      "Computing red cell features for ATL020/2023-05-04/702... (usually takes 10-20 seconds)\n",
      "Facecam preprocessing has not been coded yet!\n",
      "C:\\Users\\andrew\\Documents\\localData\\ATL020\\2023-05-04\\702\n"
     ]
    }
   ],
   "source": [
    "# # vrExperiment registration and preprocessing \n",
    "# vrReg = vre.vrExperimentRegistration(mouseName, dateString, session, oasis=False, imaging=True)\n",
    "# vrReg.doPreprocessing()\n",
    "# vrReg.saveParams()\n",
    "# print(vrReg.sessionPath())\n",
    "# del vrReg"
   ]
  },
  {
   "cell_type": "code",
   "execution_count": 103,
   "id": "3e43e9b6-b917-433c-a1a5-3064da5894f8",
   "metadata": {
    "tags": []
   },
   "outputs": [],
   "source": [
    "# Load registered vrExperiment\n",
    "vrexp = session.vrExperiment(mouseName, dateString, sessionid)"
   ]
  },
  {
   "cell_type": "code",
   "execution_count": 18,
   "id": "e7e2036c-4509-41bc-96ff-1d1337ffbb29",
   "metadata": {
    "tags": []
   },
   "outputs": [
    {
     "name": "stdout",
     "output_type": "stream",
     "text": [
      "CPU times: total: 3.77 s\n",
      "Wall time: 898 ms\n"
     ]
    }
   ],
   "source": [
    "%%time\n",
    "speedThreshold = 5\n",
    "omap, smap, lickmap, distvec = functions.getBehaviorMaps(vrexp,speedThreshold=speedThreshold) # produce smoothed occupancy and speed maps, along with the distance bins used to create them\n",
    "frameTrialIdx, framePosition, frameSpeed = vrexp.getFrameBehavior() # convert behavioral data into timeframe of spiking data\n",
    "spkmap = functions.getSpikeMap(vrexp, frameTrialIdx, framePosition, frameSpeed, distvec, omap, speedThreshold=speedThreshold, standardizeSpks=False, doSmoothing=0) # produce the spkmap \n",
    "idxFullTrials = np.all(~np.isnan(omap),axis=1) # find out which trials the mouse explored the whole environment\n",
    "relmse, relcor = functions.measureReliability(spkmap[:,idxFullTrials], numcv=3) # measure reliability of spiking\n",
    "spInfo = functions.measureSpatialInformation(omap[idxFullTrials], spkmap[:,idxFullTrials]) # measure spatial information of spiking"
   ]
  },
  {
   "cell_type": "code",
   "execution_count": 168,
   "id": "7b8e9865-e913-4dfc-a697-8079801b3c8b",
   "metadata": {},
   "outputs": [
    {
     "name": "stdout",
     "output_type": "stream",
     "text": [
      "Red Cell curation choices are saved for session ATL027/2023-07-19/701\n",
      "Successfully updated the redCellQC field of the database to True for session ATL027/2023-07-19/701\n"
     ]
    }
   ],
   "source": [
    "# Code block for opening redSelectionGUI for a vrExperiment\n",
    "vrexp = session.vrExperiment(mouseName, dateString, sessionid)\n",
    "redCell = session.redCellProcessing(vrexp)\n",
    "redSelection = rgui.redSelectionGUI(redCell)"
   ]
  },
  {
   "cell_type": "code",
   "execution_count": null,
   "id": "9cd2d1e7-96c9-4ac5-9241-53d9b4633596",
   "metadata": {},
   "outputs": [],
   "source": []
  },
  {
   "cell_type": "code",
   "execution_count": 446,
   "id": "7afc8ccf-411b-4661-bf33-cacfa2d69523",
   "metadata": {
    "tags": []
   },
   "outputs": [],
   "source": [
    "mouseName = 'ATL023'\n",
    "dateString = '2023-05-03'\n",
    "sessionid = '701'\n",
    "vrexp = session.vrExperiment(mouseName, dateString, sessionid)"
   ]
  },
  {
   "cell_type": "code",
   "execution_count": 449,
   "id": "e4fccb34-4467-4e8b-9854-38e0586c9ad9",
   "metadata": {
    "tags": []
   },
   "outputs": [],
   "source": [
    "data = vrexp.loadone('mpci.roiActivityF')\n",
    "redidx = vrexp.getRedIdx()\n",
    "redmanual = vrexp.loadone('mpciROIs.redCellManualAssignments')"
   ]
  },
  {
   "cell_type": "code",
   "execution_count": 450,
   "id": "fa226567-b335-4aee-b0a0-719411ed37e4",
   "metadata": {
    "tags": []
   },
   "outputs": [
    {
     "data": {
      "text/plain": [
       "(9124, 14389)"
      ]
     },
     "execution_count": 450,
     "metadata": {},
     "output_type": "execute_result"
    }
   ],
   "source": [
    "data.shape"
   ]
  },
  {
   "cell_type": "code",
   "execution_count": 451,
   "id": "959f2db7-0bfa-415b-9180-53faf6a802d9",
   "metadata": {
    "tags": []
   },
   "outputs": [
    {
     "data": {
      "text/plain": [
       "(14389,)"
      ]
     },
     "execution_count": 451,
     "metadata": {},
     "output_type": "execute_result"
    }
   ],
   "source": [
    "redidx.shape"
   ]
  },
  {
   "cell_type": "code",
   "execution_count": 452,
   "id": "2346da6e-88d3-4bea-9087-20fbe4f89b55",
   "metadata": {
    "tags": []
   },
   "outputs": [
    {
     "data": {
      "text/plain": [
       "(2, 14389)"
      ]
     },
     "execution_count": 452,
     "metadata": {},
     "output_type": "execute_result"
    }
   ],
   "source": [
    "redmanual.shape"
   ]
  },
  {
   "cell_type": "code",
   "execution_count": null,
   "id": "0fe9500e-d384-435b-ac38-3249436ad3e6",
   "metadata": {},
   "outputs": [],
   "source": [
    "redmanual."
   ]
  },
  {
   "cell_type": "code",
   "execution_count": null,
   "id": "c069bafb-e554-4187-8276-f3cc6be41cb6",
   "metadata": {},
   "outputs": [],
   "source": []
  },
  {
   "cell_type": "code",
   "execution_count": 442,
   "id": "0617cb78-cba4-457e-acd3-215b847d762f",
   "metadata": {
    "tags": []
   },
   "outputs": [
    {
     "name": "stdout",
     "output_type": "stream",
     "text": [
      "['ATL012']\n"
     ]
    }
   ],
   "source": [
    "vrdb.printMiceInSessions(vrdb.iterSessionNeedRedCellQC())"
   ]
  },
  {
   "cell_type": "code",
   "execution_count": 443,
   "id": "f3012584-08f0-4293-b9e2-15d1d79d4aa7",
   "metadata": {
    "tags": []
   },
   "outputs": [
    {
     "name": "stdout",
     "output_type": "stream",
     "text": [
      "ATL012/2023-01-18/701\n",
      "ATL012/2023-01-20/701\n",
      "ATL012/2023-01-20/702\n",
      "ATL012/2023-01-23/701\n",
      "ATL012/2023-01-24/703\n",
      "ATL012/2023-01-25/701\n",
      "ATL012/2023-01-26/702\n",
      "ATL012/2023-01-27/701\n",
      "ATL012/2023-01-30/702\n",
      "ATL012/2023-02-01/701\n",
      "ATL012/2023-02-02/701\n",
      "ATL012/2023-02-06/701\n",
      "ATL012/2023-02-07/701\n",
      "ATL012/2023-02-08/702\n",
      "ATL012/2023-02-09/701\n",
      "ATL012/2023-02-14/703\n",
      "ATL012/2023-02-15/701\n",
      "ATL012/2023-02-16/701\n",
      "ATL012/2023-02-20/701\n",
      "ATL012/2023-02-21/702\n",
      "ATL012/2023-02-22/701\n",
      "ATL012/2023-02-27/701\n",
      "ATL012/2023-02-28/701\n",
      "ATL012/2023-03-01/701\n",
      "ATL012/2023-03-03/701\n"
     ]
    }
   ],
   "source": [
    "for ses in vrdb.iterSessionNeedRedCellQC(mouseName='ATL012'):\n",
    "    print(ses.sessionPrint())"
   ]
  },
  {
   "cell_type": "code",
   "execution_count": 439,
   "id": "9e4f0906-25d6-4001-b4e2-ce465ad1dd21",
   "metadata": {
    "tags": []
   },
   "outputs": [
    {
     "name": "stdout",
     "output_type": "stream",
     "text": [
      "Red Cell curation choices are saved for session ATL023/2023-05-04/701\n",
      "Successfully updated the redCellQC field of the database to True for session ATL023/2023-05-04/701\n"
     ]
    }
   ],
   "source": [
    "mouseName = 'ATL012'\n",
    "dateString = '2023-02-07'\n",
    "sessionid = '701'\n",
    "\n",
    "# Load registered vrExperiment\n",
    "vrexp = session.vrExperiment(mouseName, dateString, sessionid)\n",
    "redCell = session.redCellProcessing(vrexp)\n",
    "redSelection = rgui.redSelectionGUI(redCell, init_yzoom=10)"
   ]
  },
  {
   "cell_type": "code",
   "execution_count": 444,
   "id": "4f901be0-76e7-4a73-a03f-05d09d171ef1",
   "metadata": {
    "tags": []
   },
   "outputs": [],
   "source": [
    "for ses in vrdb.iterSessions(mouseName='ATL012', redCellQC=True):\n",
    "    print(ses.sessionPrint())"
   ]
  },
  {
   "cell_type": "code",
   "execution_count": 441,
   "id": "d5f35637-ec92-4fac-a9b4-00e55aad9a39",
   "metadata": {
    "tags": []
   },
   "outputs": [
    {
     "name": "stdout",
     "output_type": "stream",
     "text": [
      "                 session         S2P   DotProduct     Pearson PhaseCorrelation\n",
      "0  ATL023/2023-04-28/702  [nan, nan]  [0.05, nan]  [nan, nan]     [0.084, nan]\n",
      "1  ATL023/2023-05-03/701  [nan, nan]  [0.05, nan]  [nan, nan]     [0.084, nan]\n",
      "2  ATL023/2023-05-04/701  [nan, nan]  [0.05, nan]  [nan, nan]     [0.084, nan]\n"
     ]
    }
   ],
   "source": [
    "import pandas as pd\n",
    "pd.options.display.width = 1000\n",
    "rgui.compareFeatureCutoffs(*vrdb.iterSessions(mouseName='ATL012', redCellQC=True), roundValue=3)"
   ]
  },
  {
   "cell_type": "code",
   "execution_count": 431,
   "id": "6bdb0cc2-ac8a-4834-b25c-266f5c6334ca",
   "metadata": {
    "tags": []
   },
   "outputs": [
    {
     "name": "stdout",
     "output_type": "stream",
     "text": [
      "Red Cell curation choices are saved for session ATL023/2023-04-28/702\n",
      "Red Cell curation choices are saved for session ATL023/2023-05-04/701\n"
     ]
    }
   ],
   "source": [
    "copyCriterionFrom = session.redCellProcessing('ATL0212','2023-02-07','701', autoload=False)\n",
    "for ses in vrdb.iterSessionNeedRedCellQC(mouseName='ATL012'):\n",
    "    redCell = session.redCellProcessing(ses, autoload=False)\n",
    "    redCell.updateFromSession(copyCriterionFrom)"
   ]
  },
  {
   "cell_type": "code",
   "execution_count": null,
   "id": "200535a4-5743-4436-8fb7-f531a394cb48",
   "metadata": {},
   "outputs": [],
   "source": []
  },
  {
   "cell_type": "code",
   "execution_count": null,
   "id": "0b741463-adb1-4eeb-b370-93250fe49f23",
   "metadata": {},
   "outputs": [],
   "source": []
  },
  {
   "cell_type": "code",
   "execution_count": null,
   "id": "fc7d2f8b-941e-40b2-a663-0426ae60eb34",
   "metadata": {},
   "outputs": [],
   "source": []
  },
  {
   "cell_type": "code",
   "execution_count": null,
   "id": "e6e516c2-4a44-4b19-b670-93b76f652293",
   "metadata": {
    "tags": []
   },
   "outputs": [],
   "source": [
    "# next step in analysis: \n",
    "# Also - using a cutoff point by the hitch in that distribution might ignore true matches that are soma-dendritic, but maybe I can use ROICaT or npix to avoid those? "
   ]
  },
  {
   "cell_type": "code",
   "execution_count": null,
   "id": "52c5d9e3-d707-46d7-a6c5-365486b38ba5",
   "metadata": {},
   "outputs": [],
   "source": [
    "# okay, looking at these clusters, it seems like there is some serious oversplitting going on in suite2p. That sucks!\n",
    "# I think I should probably try to rerun some suite2p sessions....\n",
    "# But for now I'll probably do a \"merge\" procedure... and I honestly think I'll have to overwrite or add a new \"modified\" suite2p folder with the stat and ops files"
   ]
  },
  {
   "cell_type": "code",
   "execution_count": null,
   "id": "74ea1b9e-9968-44c7-acc5-4f49f97466cd",
   "metadata": {},
   "outputs": [],
   "source": []
  },
  {
   "cell_type": "code",
   "execution_count": null,
   "id": "4ab059c6-f80c-40b6-9110-ac5b8ffc89ad",
   "metadata": {},
   "outputs": [],
   "source": []
  }
 ],
 "metadata": {
  "kernelspec": {
   "display_name": "Python 3 (ipykernel)",
   "language": "python",
   "name": "python3"
  },
  "language_info": {
   "codemirror_mode": {
    "name": "ipython",
    "version": 3
   },
   "file_extension": ".py",
   "mimetype": "text/x-python",
   "name": "python",
   "nbconvert_exporter": "python",
   "pygments_lexer": "ipython3",
   "version": "3.9.7"
  }
 },
 "nbformat": 4,
 "nbformat_minor": 5
}
