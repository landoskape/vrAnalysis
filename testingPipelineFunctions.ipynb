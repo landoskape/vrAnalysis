{
 "cells": [
  {
   "cell_type": "code",
   "execution_count": 39,
   "id": "62912f35-2f40-4d93-872e-439919754adf",
   "metadata": {},
   "outputs": [
    {
     "name": "stdout",
     "output_type": "stream",
     "text": [
      "The autoreload extension is already loaded. To reload it, use:\n",
      "  %reload_ext autoreload\n"
     ]
    }
   ],
   "source": [
    "%load_ext autoreload\n",
    "%autoreload 2\n",
    "\n",
    "%gui qt\n",
    "\n",
    "import numpy as np\n",
    "import numba as nb\n",
    "import scipy as sp\n",
    "import matplotlib.pyplot as plt\n",
    "from tqdm import tqdm\n",
    "import time\n",
    "import napari\n",
    "from pathlib import Path\n",
    "import vrExperiment as vre\n",
    "import vrFunctions as vrf\n",
    "import basicFunctions as bf\n",
    "import uiPlottingFunctions as uipf"
   ]
  },
  {
   "cell_type": "code",
   "execution_count": 64,
   "id": "4154d480-638c-4069-904e-8780ead630b3",
   "metadata": {
    "tags": []
   },
   "outputs": [],
   "source": [
    "# Code Needs: (eventually)\n",
    "# - ROICaT index alignment tools (will wait until I have data processed and loaded from multiple sessions)"
   ]
  },
  {
   "cell_type": "code",
   "execution_count": 3,
   "id": "ff1fdad1-13d1-4122-9bc4-26d40074c4c3",
   "metadata": {
    "tags": []
   },
   "outputs": [],
   "source": [
    "# Immediate next steps for programming work:\n",
    "\n",
    "# - red cell processing functions\n",
    "# - database development\n"
   ]
  },
  {
   "cell_type": "code",
   "execution_count": 54,
   "id": "b546e957-03cd-48ca-98e8-70c1db297f51",
   "metadata": {},
   "outputs": [
    {
     "name": "stdout",
     "output_type": "stream",
     "text": [
      "In session: ATL020/2023-05-04/702, vrFile['rigInfo'] does not exist. Assuming default settings for B2!\n",
      "Self.value['numTrials'] set by trialInfo.trialIdx>0, but this might not be right. There might be smarter ways to determine which trials are 'good' trials...\n",
      "frameSamples had 2 more than suite2p output. This happens sometimes. I don't like it. I think it's because scanimage sends a TTL before starting the frame\n",
      "Facecam preprocessing has not been coded yet!\n",
      "C:\\Users\\andrew\\Documents\\localData\\ATL020\\2023-05-04\\702\n"
     ]
    }
   ],
   "source": [
    "# vrExperiment registration and preprocessing \n",
    "mouseName = 'ATL020'\n",
    "dateString = '2023-05-04'\n",
    "session = '702'\n",
    "vrReg = vre.vrExperimentRegistration(mouseName, dateString, session, oasis=False, imaging=True)\n",
    "vrReg.doPreprocessing()\n",
    "vrReg.saveParams()\n",
    "print(vrReg.sessionPath())\n",
    "del vrReg"
   ]
  },
  {
   "cell_type": "code",
   "execution_count": 55,
   "id": "3e43e9b6-b917-433c-a1a5-3064da5894f8",
   "metadata": {
    "tags": []
   },
   "outputs": [],
   "source": [
    "mouseName = 'ATL020'\n",
    "dateString = '2023-05-04'\n",
    "session = '702'\n",
    "vrexp = vre.vrExperiment(mouseName, dateString, session)"
   ]
  },
  {
   "cell_type": "code",
   "execution_count": 60,
   "id": "e7e2036c-4509-41bc-96ff-1d1337ffbb29",
   "metadata": {
    "tags": []
   },
   "outputs": [
    {
     "name": "stdout",
     "output_type": "stream",
     "text": [
      "CPU times: total: 3.19 s\n",
      "Wall time: 565 ms\n"
     ]
    }
   ],
   "source": [
    "%%time\n",
    "speedThreshold = 5\n",
    "omap, smap, lickmap, distvec = vrf.getBehaviorMaps(vrexp,speedThreshold=speedThreshold) # produce smoothed occupancy and speed maps, along with the distance bins used to create them\n",
    "frameTrialIdx, framePosition, frameSpeed = vrexp.getFrameBehavior() # convert behavioral data into timeframe of spiking data\n",
    "spkmap = vrf.getSpikeMap(vrexp, frameTrialIdx, framePosition, frameSpeed, distvec, omap, speedThreshold=speedThreshold, standardizeSpks=False, doSmoothing=0) # produce the spkmap \n",
    "idxFullTrials = np.all(~np.isnan(omap),axis=1) # find out which trials the mouse explored the whole environment\n",
    "relmse, relcor = vrf.measureReliability(spkmap[:,idxFullTrials], numcv=3) # measure reliability of spiking\n",
    "spInfo = vrf.measureSpatialInformation(omap[idxFullTrials], spkmap[:,idxFullTrials]) # measure spatial information of spiking"
   ]
  },
  {
   "cell_type": "code",
   "execution_count": null,
   "id": "88f95ba7-f9d3-4011-88a6-150d23798e71",
   "metadata": {},
   "outputs": [],
   "source": []
  },
  {
   "cell_type": "code",
   "execution_count": null,
   "id": "c6e1d252-3c24-424c-8e49-e79c810f7833",
   "metadata": {},
   "outputs": [],
   "source": []
  },
  {
   "cell_type": "code",
   "execution_count": null,
   "id": "58e011fa-6dbd-42e1-ae2f-f278d3daffd3",
   "metadata": {},
   "outputs": [],
   "source": []
  },
  {
   "cell_type": "code",
   "execution_count": null,
   "id": "f210cb62-c4c1-42de-979e-57090ece5d3a",
   "metadata": {},
   "outputs": [],
   "source": []
  },
  {
   "cell_type": "code",
   "execution_count": 61,
   "id": "56334191-ea02-4c8e-8b59-7a85392fbd24",
   "metadata": {
    "tags": []
   },
   "outputs": [],
   "source": [
    "# red curation pipeline:\n",
    "# write custom class for handling red data (maybe as part of vrExperiment?) -- (input is vrExp)\n",
    "# write GUI function that opens the red handler -- (input is vrExp, creates the reddata object and a GUI)\n",
    "# the GUI will then communicate between the user and the red cell handler!\n",
    "\n",
    "# plan of attack: \n",
    "# - first, start with napari style GUI where reference image is overlaid by all ROIs that meet red cell criterion\n",
    "# -------- use the four metrics, use double infinite lines to define the minimum and maximum value tolerated for red cells\n",
    "# -------- never use grid mode...\n",
    "# -------- create button to save selection criterion and classification output for each session independently\n",
    "\n",
    "# - second, build scrollMatchedImages style GUI with a few extra selections... probably using a Qt Gui application rather than a pyqtgraph layout\n",
    "# --------- for this, go through each ROI and optionally add manual annotation, which can be saved independently\n",
    "# --------- it'll be nice to have mechanisms to choose which ROIs to look through, e.g. (1) in order red probability, (2) only red, (3) only ones with manual annotations, (4) etc.... \n",
    "\n",
    "# ---\n",
    "# ---\n",
    "# ---\n",
    "# immediate next steps: \n",
    "# 1. write \"computeDot\"\n",
    "# 2. write \"computeCorr\"\n",
    "# 3. build napari interface\n",
    "# 4. play with settings, probably try to integrate filter selection and correlation radius selection into the GUI"
   ]
  },
  {
   "cell_type": "code",
   "execution_count": 62,
   "id": "51df63ce-8d53-4398-972f-8c0f45058f58",
   "metadata": {
    "tags": []
   },
   "outputs": [],
   "source": [
    "redCell = vre.redCellProcessing(vrexp)\n",
    "\n",
    "redS2P = redCell.redS2P[redCell.roiPlaneIdx==planeIdx]\n",
    "idxRedS2P = np.argsort(redS2P)[::-1]\n",
    "useIdx = idxRedS2P[:30]\n",
    "\n",
    "refStack, maskStack, pxcStack = redCell.croppedPhaseCorrelation(planeIdx=0)\n",
    "window = uipf.scrollMatchedImages((refStack[idxRedS2P], maskStack[idxRedS2P], pxcStack[idxRedS2P]),enableMouse=True,preserveScale=True) "
   ]
  },
  {
   "cell_type": "code",
   "execution_count": 42,
   "id": "e98497b0-fc1a-4446-a4b9-0938c4868bc0",
   "metadata": {
    "tags": []
   },
   "outputs": [],
   "source": []
  },
  {
   "cell_type": "code",
   "execution_count": 48,
   "id": "47703f40-2eea-4f81-9653-f480079b3630",
   "metadata": {
    "tags": []
   },
   "outputs": [],
   "source": [
    "window = uipf.scrollMatchedImages((refStack[idxRedS2P],maskStack[idxRedS2P],pxcStack[idxRedS2P],pxcStackWindow[idxRedS2P],pxcStackHiEps[idxRedS2P],pxcStackHiEpsWindow[idxRedS2P]),enableMouse=False)"
   ]
  },
  {
   "cell_type": "code",
   "execution_count": 8,
   "id": "c78f3714-cef6-418a-930c-68c509e38c14",
   "metadata": {
    "tags": []
   },
   "outputs": [
    {
     "name": "stdout",
     "output_type": "stream",
     "text": [
      "(1458, 512, 512)\n"
     ]
    }
   ],
   "source": [
    "maskVolume = redCell.computeVolume(planeIdx)\n",
    "fftMasks = np.fft.fft2(maskVolume)\n",
    "print(fftMasks.shape)"
   ]
  },
  {
   "cell_type": "code",
   "execution_count": 12,
   "id": "6b0283db-e654-4d4a-8268-76d196492017",
   "metadata": {
    "tags": []
   },
   "outputs": [],
   "source": [
    "window = uipf.scrollMatchedImages((maskVolume[1196][None,:],redCell.reference[0][None,:]))"
   ]
  },
  {
   "cell_type": "code",
   "execution_count": null,
   "id": "01f74d4c-d1b2-4e44-b758-aa1a3ad9dc89",
   "metadata": {},
   "outputs": [],
   "source": []
  },
  {
   "cell_type": "code",
   "execution_count": null,
   "id": "db08f424-ea2a-427e-b5a1-1fa787c850f5",
   "metadata": {},
   "outputs": [],
   "source": []
  },
  {
   "cell_type": "code",
   "execution_count": 78,
   "id": "9c5f313a-b372-4622-bb73-bd8bdf991051",
   "metadata": {
    "tags": []
   },
   "outputs": [
    {
     "name": "stdout",
     "output_type": "stream",
     "text": [
      "85 ms ± 567 µs per loop (mean ± std. dev. of 7 runs, 10 loops each)\n"
     ]
    }
   ],
   "source": [
    "%%timeit\n",
    "planeIdx = 0\n",
    "width = 25\n",
    "if planeIdx is None: planeIdx = np.arange(redCell.numPlanes)\n",
    "if isinstance(planeIdx,int): planeIdx=(planeIdx,) # make planeIdx iterable\n",
    "numPixels = int(np.round(width / redCell.umPerPixel)) # numPixels to each side around the centroid\n",
    "refStack = []\n",
    "for plane in planeIdx:\n",
    "    idxRoiInPlane = np.where(redCell.roiPlaneIdx==plane)[0]\n",
    "    refStack.append(np.zeros((len(idxRoiInPlane), 2*numPixels+1, 2*numPixels+1)))\n",
    "    for idx,idxRoi in enumerate(idxRoiInPlane):\n",
    "        yc,xc = redCell.getRoiCentroid(idxRoi,mode='median')\n",
    "        yUse = (np.maximum(yc-numPixels,0),np.minimum(yc+numPixels+1,redCell.ly))\n",
    "        xUse = (np.maximum(xc-numPixels,0),np.minimum(xc+numPixels+1,redCell.lx))\n",
    "        yMissing = (-np.minimum(yc-numPixels,0),-np.minimum(redCell.ly - (yc+numPixels+1),0))\n",
    "        xMissing = (-np.minimum(xc-numPixels,0),-np.minimum(redCell.lx - (xc+numPixels+1),0))\n",
    "\n",
    "        refYSlice = slice(yUse[0],yUse[1])\n",
    "        refXSlice = slice(xUse[0],xUse[1])\n",
    "        cRef = redCell.reference[plane][refYSlice].T[refXSlice].T\n",
    "\n",
    "        stackYSlice = np.arange(yMissing[0],2*numPixels+1-yMissing[1])\n",
    "        stackXSlice = np.arange(xMissing[0],2*numPixels+1-xMissing[1])\n",
    "        stackXIndex,stackYIndex = np.meshgrid(stackXSlice,stackYSlice)\n",
    "        refStack[-1][idx,stackYIndex,stackXIndex] = cRef\n",
    "output1 = np.concatenate(refStack,axis=0)"
   ]
  },
  {
   "cell_type": "code",
   "execution_count": 76,
   "id": "e2f982fd-4104-45dc-bc20-cac6c15ddafc",
   "metadata": {
    "tags": []
   },
   "outputs": [
    {
     "name": "stdout",
     "output_type": "stream",
     "text": [
      "42.2 ms ± 1.1 ms per loop (mean ± std. dev. of 7 runs, 10 loops each)\n"
     ]
    }
   ],
   "source": [
    "%%timeit\n",
    "planeIdx = 0\n",
    "width = 25\n",
    "if planeIdx is None: planeIdx = np.arange(redCell.numPlanes)\n",
    "if isinstance(planeIdx,int): planeIdx=(planeIdx,) # make planeIdx iterable\n",
    "numPixels = int(np.round(width / redCell.umPerPixel)) # numPixels to each side around the centroid\n",
    "refStack = []\n",
    "for plane in planeIdx:\n",
    "    idxRoiInPlane = np.where(redCell.roiPlaneIdx==plane)[0]\n",
    "    refStack.append(np.zeros((len(idxRoiInPlane), 2*numPixels+1, 2*numPixels+1)))\n",
    "    for idx,idxRoi in enumerate(idxRoiInPlane):\n",
    "        yc,xc = redCell.getRoiCentroid(idxRoi,mode='median')\n",
    "        yUse = (np.maximum(yc-numPixels,0),np.minimum(yc+numPixels+1,redCell.ly))\n",
    "        xUse = (np.maximum(xc-numPixels,0),np.minimum(xc+numPixels+1,redCell.lx))\n",
    "        yMissing = (-np.minimum(yc-numPixels,0),-np.minimum(redCell.ly - (yc+numPixels+1),0))\n",
    "        xMissing = (-np.minimum(xc-numPixels,0),-np.minimum(redCell.lx - (xc+numPixels+1),0))\n",
    "\n",
    "        refYSlice = slice(yUse[0],yUse[1])\n",
    "        refXSlice = slice(xUse[0],xUse[1])\n",
    "        cRef = redCell.reference[plane][refYSlice].T[refXSlice].T\n",
    "        \n",
    "        refStack[-1][idx,yMissing[0]:2*numPixels+1-yMissing[1],xMissing[0]:2*numPixels+1-xMissing[1]] = cRef\n",
    "output2 = np.concatenate(refStack,axis=0)"
   ]
  },
  {
   "cell_type": "code",
   "execution_count": 77,
   "id": "48ede900-a00b-4518-a565-95b5446a1ef9",
   "metadata": {
    "tags": []
   },
   "outputs": [
    {
     "name": "stdout",
     "output_type": "stream",
     "text": [
      "42.5 ms ± 182 µs per loop (mean ± std. dev. of 7 runs, 10 loops each)\n"
     ]
    }
   ],
   "source": [
    "%%timeit\n",
    "planeIdx = 0\n",
    "width = 25\n",
    "if planeIdx is None: planeIdx = np.arange(redCell.numPlanes)\n",
    "if isinstance(planeIdx,int): planeIdx=(planeIdx,) # make planeIdx iterable\n",
    "numPixels = int(np.round(width / redCell.umPerPixel)) # numPixels to each side around the centroid\n",
    "refStack = []\n",
    "for plane in planeIdx:\n",
    "    idxRoiInPlane = np.where(redCell.roiPlaneIdx==plane)[0]\n",
    "    refStack.append(np.zeros((len(idxRoiInPlane), 2*numPixels+1, 2*numPixels+1)))\n",
    "    for idx,idxRoi in enumerate(idxRoiInPlane):\n",
    "        yc,xc = redCell.getRoiCentroid(idxRoi,mode='median')\n",
    "        yUse = (np.maximum(yc-numPixels,0),np.minimum(yc+numPixels+1,redCell.ly))\n",
    "        xUse = (np.maximum(xc-numPixels,0),np.minimum(xc+numPixels+1,redCell.lx))\n",
    "        yMissing = (-np.minimum(yc-numPixels,0),-np.minimum(redCell.ly - (yc+numPixels+1),0))\n",
    "        xMissing = (-np.minimum(xc-numPixels,0),-np.minimum(redCell.lx - (xc+numPixels+1),0))\n",
    "\n",
    "        refStack[-1][idx,yMissing[0]:2*numPixels+1-yMissing[1],xMissing[0]:2*numPixels+1-xMissing[1]] = redCell.reference[plane][yUse[0]:yUse[1],xUse[0]:xUse[1]]\n",
    "output3 = np.concatenate(refStack,axis=0)"
   ]
  },
  {
   "cell_type": "code",
   "execution_count": null,
   "id": "59fe9741-5575-4915-a2c5-1621748ad5a6",
   "metadata": {},
   "outputs": [],
   "source": []
  },
  {
   "cell_type": "code",
   "execution_count": null,
   "id": "26726078-6b24-4051-9b23-84fc9844be34",
   "metadata": {},
   "outputs": [],
   "source": []
  },
  {
   "cell_type": "code",
   "execution_count": null,
   "id": "0d88d416-8f54-43c0-be63-eb830a0d0a95",
   "metadata": {},
   "outputs": [],
   "source": []
  },
  {
   "cell_type": "code",
   "execution_count": null,
   "id": "55db5532-9215-4ba1-8f5d-a0ec8ca85220",
   "metadata": {},
   "outputs": [],
   "source": []
  },
  {
   "cell_type": "code",
   "execution_count": null,
   "id": "0fba9de9-3cd2-4a7c-8131-c80647e6c422",
   "metadata": {},
   "outputs": [],
   "source": []
  },
  {
   "cell_type": "code",
   "execution_count": null,
   "id": "1a6dba29-8617-421a-9e38-27a7f5522484",
   "metadata": {},
   "outputs": [],
   "source": []
  },
  {
   "cell_type": "code",
   "execution_count": null,
   "id": "fdb368a4-4aa2-4fa7-b7c5-8466dc5f329e",
   "metadata": {},
   "outputs": [
    {
     "name": "stdout",
     "output_type": "stream",
     "text": [
      "255\n",
      "(510, 510)\n",
      "1.0\n"
     ]
    },
    {
     "data": {
      "image/png": "[encoded data removed]",
      "text/plain": [
       "<Figure size 640x480 with 1 Axes>"
      ]
     },
     "metadata": {},
     "output_type": "display_data"
    }
   ],
   "source": [
    "# useful until I specifically code how to get the centered phase correlations into the redCellProcessing object\n",
    "\n",
    "N = 510\n",
    "center = int(N/2)\n",
    "zeroPoint = int(np.floor(N/2))\n",
    "print(zeroPoint)\n",
    "useReference = redCell.reference[0][:N,:N]\n",
    "print(useReference.shape)\n",
    "\n",
    "numPixels = 3\n",
    "pxcFull = bf.phaseCorrelation(useReference,useReference)\n",
    "pxcCrop = pxcFull[zeroPoint-numPixels:zeroPoint+numPixels+1,zeroPoint-numPixels:zeroPoint+numPixels+1]\n",
    "print(pxcFull[zeroPoint,zeroPoint])\n",
    "\n",
    "plt.imshow(pxcCrop, extent=(-numPixels, numPixels, -numPixels, numPixels))\n",
    "plt.gca().set_aspect('auto')\n",
    "# plt.xlim(zeroPoint-5,zeroPoint+5)\n",
    "# plt.ylim(zeroPoint-5,zeroPoint+5)\n",
    "plt.show()\n"
   ]
  },
  {
   "cell_type": "code",
   "execution_count": null,
   "id": "02b5bc8e-8271-4f1e-82a1-cc16ad2c7d28",
   "metadata": {},
   "outputs": [],
   "source": []
  },
  {
   "cell_type": "code",
   "execution_count": null,
   "id": "5268ff8b-1b50-4c99-af0b-79b2188dfe23",
   "metadata": {},
   "outputs": [],
   "source": []
  },
  {
   "cell_type": "code",
   "execution_count": null,
   "id": "ad20480b-a366-499d-9545-b443c6d33b2b",
   "metadata": {},
   "outputs": [],
   "source": []
  },
  {
   "cell_type": "code",
   "execution_count": null,
   "id": "22169af4-dc06-496e-b49a-66be2d57f116",
   "metadata": {},
   "outputs": [],
   "source": []
  },
  {
   "cell_type": "code",
   "execution_count": null,
   "id": "9dea7f57-9bc3-4fb6-87be-16d40e8ee79d",
   "metadata": {},
   "outputs": [],
   "source": []
  },
  {
   "cell_type": "code",
   "execution_count": null,
   "id": "69e1c6f2-27c3-46e5-9ece-0d47a037f941",
   "metadata": {},
   "outputs": [],
   "source": []
  },
  {
   "cell_type": "code",
   "execution_count": null,
   "id": "e7b9e8c4-7e79-425d-9b7c-680f56e4ce7d",
   "metadata": {},
   "outputs": [],
   "source": []
  },
  {
   "cell_type": "code",
   "execution_count": null,
   "id": "e9209354-6af1-43a1-aca4-c5388dadb9b6",
   "metadata": {},
   "outputs": [],
   "source": []
  },
  {
   "cell_type": "code",
   "execution_count": null,
   "id": "64de51e6-f619-4d76-ac64-0346a592b4cb",
   "metadata": {},
   "outputs": [],
   "source": []
  },
  {
   "cell_type": "code",
   "execution_count": null,
   "id": "f7e065f1-48bf-4fd2-801a-43e4f09faa26",
   "metadata": {},
   "outputs": [],
   "source": []
  },
  {
   "cell_type": "code",
   "execution_count": null,
   "id": "c046ba0b-4405-438d-859a-03ed06174e6a",
   "metadata": {},
   "outputs": [],
   "source": []
  },
  {
   "cell_type": "code",
   "execution_count": null,
   "id": "303727c1-c2a4-4504-aab8-024461422ed2",
   "metadata": {},
   "outputs": [],
   "source": []
  },
  {
   "cell_type": "code",
   "execution_count": null,
   "id": "cd6e1f36-acb4-421f-a55a-6e4cf6d2f316",
   "metadata": {},
   "outputs": [],
   "source": []
  },
  {
   "cell_type": "code",
   "execution_count": null,
   "id": "009ba8f7-0b8c-4807-b5d3-fae3f3b8b1fa",
   "metadata": {},
   "outputs": [],
   "source": []
  },
  {
   "cell_type": "code",
   "execution_count": null,
   "id": "c64709b0-424f-4407-a0a0-8d8d34662e38",
   "metadata": {},
   "outputs": [],
   "source": []
  },
  {
   "cell_type": "code",
   "execution_count": null,
   "id": "ea96ea65-2529-4c61-ba6b-efd8f985ce78",
   "metadata": {},
   "outputs": [],
   "source": []
  },
  {
   "cell_type": "code",
   "execution_count": null,
   "id": "0cbeb10b-d52f-498a-9fb2-60d384a0e881",
   "metadata": {},
   "outputs": [],
   "source": []
  },
  {
   "cell_type": "code",
   "execution_count": null,
   "id": "a453906c-fdd5-4c8d-b12a-466f09b4352b",
   "metadata": {},
   "outputs": [],
   "source": []
  },
  {
   "cell_type": "code",
   "execution_count": null,
   "id": "84f87370-c84e-489b-b28e-25d37f684484",
   "metadata": {},
   "outputs": [],
   "source": []
  },
  {
   "cell_type": "code",
   "execution_count": null,
   "id": "3cc3768b-6159-41ab-9f41-1ff1da6301f8",
   "metadata": {},
   "outputs": [],
   "source": []
  },
  {
   "cell_type": "code",
   "execution_count": null,
   "id": "b2aeba61-686e-43bb-a7e5-2c3797d0366b",
   "metadata": {},
   "outputs": [],
   "source": []
  },
  {
   "cell_type": "code",
   "execution_count": null,
   "id": "f5a8ae4f-24bd-4205-aebb-62b7b6c8ed71",
   "metadata": {},
   "outputs": [],
   "source": []
  },
  {
   "cell_type": "code",
   "execution_count": null,
   "id": "f256004d-a4cf-42fc-b1e0-0675861b7d87",
   "metadata": {},
   "outputs": [],
   "source": []
  },
  {
   "cell_type": "code",
   "execution_count": null,
   "id": "d025951f-5e27-4e38-8743-4dea58ae6248",
   "metadata": {},
   "outputs": [],
   "source": []
  },
  {
   "cell_type": "code",
   "execution_count": null,
   "id": "016bff51-cabf-4586-a381-a249c3c3af24",
   "metadata": {},
   "outputs": [],
   "source": []
  },
  {
   "cell_type": "code",
   "execution_count": null,
   "id": "5418a7e0-dc30-48c6-8e59-3c3da0374bdb",
   "metadata": {},
   "outputs": [],
   "source": []
  },
  {
   "cell_type": "code",
   "execution_count": null,
   "id": "6c610ead-d070-4b47-88dd-5950242b1c99",
   "metadata": {},
   "outputs": [],
   "source": []
  },
  {
   "cell_type": "code",
   "execution_count": null,
   "id": "942f8007-8151-4bc5-a2fb-0e4b9ee7000b",
   "metadata": {},
   "outputs": [],
   "source": []
  },
  {
   "cell_type": "code",
   "execution_count": null,
   "id": "32f6fd1f-469b-46d7-8508-ce6e16a034a3",
   "metadata": {},
   "outputs": [],
   "source": []
  },
  {
   "cell_type": "code",
   "execution_count": null,
   "id": "8f1be56b-0cc7-416a-bb15-ecdff7f09ca6",
   "metadata": {},
   "outputs": [],
   "source": []
  },
  {
   "cell_type": "code",
   "execution_count": null,
   "id": "415ba0ad-3807-444b-a3d9-d57f9231fe36",
   "metadata": {},
   "outputs": [],
   "source": []
  },
  {
   "cell_type": "code",
   "execution_count": null,
   "id": "2150341d-0412-4a61-9b7b-dde4f1c4a301",
   "metadata": {},
   "outputs": [],
   "source": []
  },
  {
   "cell_type": "code",
   "execution_count": null,
   "id": "4ce466ee-da0b-4a68-a8ad-7a223206e059",
   "metadata": {},
   "outputs": [],
   "source": []
  },
  {
   "cell_type": "code",
   "execution_count": null,
   "id": "af0b0058-fbb1-4422-86f3-46888551f493",
   "metadata": {},
   "outputs": [],
   "source": []
  },
  {
   "cell_type": "code",
   "execution_count": null,
   "id": "c1260efe-4c28-432e-bce8-fcbf18648aad",
   "metadata": {},
   "outputs": [],
   "source": []
  },
  {
   "cell_type": "code",
   "execution_count": null,
   "id": "62197ed7-5338-430f-bab6-710b54bb414b",
   "metadata": {},
   "outputs": [],
   "source": []
  },
  {
   "cell_type": "code",
   "execution_count": null,
   "id": "d797e45b-0744-4e55-8705-174757641f6d",
   "metadata": {},
   "outputs": [],
   "source": []
  },
  {
   "cell_type": "code",
   "execution_count": null,
   "id": "81daf1a4-80d5-4988-9084-10885ab7b207",
   "metadata": {},
   "outputs": [],
   "source": []
  },
  {
   "cell_type": "code",
   "execution_count": null,
   "id": "f48c6dec-6c51-4a6b-ab3d-2401b1485925",
   "metadata": {},
   "outputs": [],
   "source": []
  },
  {
   "cell_type": "code",
   "execution_count": null,
   "id": "b6b82c80-a81f-4c56-9e66-938769c90572",
   "metadata": {},
   "outputs": [],
   "source": []
  },
  {
   "cell_type": "code",
   "execution_count": null,
   "id": "c08762f0-b926-450d-9fb1-b3c55e69685a",
   "metadata": {},
   "outputs": [],
   "source": []
  },
  {
   "cell_type": "code",
   "execution_count": null,
   "id": "338513f4-2b8c-4f3f-b789-ca19f1cccf8a",
   "metadata": {},
   "outputs": [],
   "source": []
  },
  {
   "cell_type": "code",
   "execution_count": null,
   "id": "cd4b7a49-9484-498c-8050-cb3bd9c1a06c",
   "metadata": {},
   "outputs": [],
   "source": []
  },
  {
   "cell_type": "code",
   "execution_count": null,
   "id": "248e6057-e95e-4acf-9849-e10023a0ba88",
   "metadata": {},
   "outputs": [],
   "source": []
  },
  {
   "cell_type": "code",
   "execution_count": null,
   "id": "6a9cabe1-763b-4d89-b805-68c549627da6",
   "metadata": {},
   "outputs": [],
   "source": []
  },
  {
   "cell_type": "code",
   "execution_count": null,
   "id": "2397c17d-ee04-4048-8500-6d6cf2ab1334",
   "metadata": {},
   "outputs": [],
   "source": []
  },
  {
   "cell_type": "code",
   "execution_count": null,
   "id": "789f13f3-a735-4fcd-b021-5751c3c84a7c",
   "metadata": {},
   "outputs": [],
   "source": []
  },
  {
   "cell_type": "code",
   "execution_count": null,
   "id": "820167c3-0b7e-4ecc-9818-6482ad171345",
   "metadata": {},
   "outputs": [],
   "source": []
  },
  {
   "cell_type": "code",
   "execution_count": null,
   "id": "30b36d2a-6895-44e4-b508-1319340a64bf",
   "metadata": {},
   "outputs": [],
   "source": []
  },
  {
   "cell_type": "code",
   "execution_count": null,
   "id": "fdb56630-2947-415d-811e-5669980b6337",
   "metadata": {},
   "outputs": [],
   "source": []
  }
 ],
 "metadata": {
  "kernelspec": {
   "display_name": "Python 3 (ipykernel)",
   "language": "python",
   "name": "python3"
  },
  "language_info": {
   "codemirror_mode": {
    "name": "ipython",
    "version": 3
   },
   "file_extension": ".py",
   "mimetype": "text/x-python",
   "name": "python",
   "nbconvert_exporter": "python",
   "pygments_lexer": "ipython3",
   "version": "3.9.16"
  }
 },
 "nbformat": 4,
 "nbformat_minor": 5
}
