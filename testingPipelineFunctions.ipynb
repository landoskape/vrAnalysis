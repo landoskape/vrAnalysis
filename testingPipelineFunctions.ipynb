{
 "cells": [
  {
   "cell_type": "code",
   "execution_count": 40,
   "id": "62912f35-2f40-4d93-872e-439919754adf",
   "metadata": {},
   "outputs": [
    {
     "name": "stdout",
     "output_type": "stream",
     "text": [
      "The autoreload extension is already loaded. To reload it, use:\n",
      "  %reload_ext autoreload\n"
     ]
    }
   ],
   "source": [
    "%load_ext autoreload\n",
    "%autoreload 2\n",
    "\n",
    "import numpy as np\n",
    "import numba as nb\n",
    "import scipy as sp\n",
    "import matplotlib.pyplot as plt\n",
    "from tqdm import tqdm\n",
    "import time\n",
    "from pathlib import Path\n",
    "import vrExperiment as vre\n",
    "import vrFunctions as vrf\n",
    "import basicFunctions as bf"
   ]
  },
  {
   "cell_type": "code",
   "execution_count": 2,
   "id": "992ac1c1-0cd3-4f55-9759-6a9e312934ce",
   "metadata": {
    "tags": []
   },
   "outputs": [],
   "source": [
    "# Steps to code: \n",
    "# 1. consider replacing some of the functions in \"multiSessionAnalysis\"...\n",
    "# 2. add red cell processing functions into the pipeline\n",
    "\n",
    "# immediate goals: \n",
    "# 1. write functions for retrieving useful variables from oneData formats (e.g. speed, occupancy maps, etc.)\n",
    "# 2. do I save these? how long will it take to load? \n",
    "\n",
    "# BIG GOAL:\n",
    "# 1. Database time! Do this then rerun all your sessions\n",
    "# 2. Create smart loading system where each vrexp object loads one data into a floating dictionary, and every time something is needed it checks if it's loaded it and then loads it only when necessary\n",
    "#    For this to work, I'll have to exclusively use functions that are called on each vrexp object... it's a little tricky but I think it can work\n",
    "\n",
    "# -- before databasing, I want to test transformed data performance on a few sessions, i.e. I want to see how quickly I can regenerate key behavioral and neural variables from the onedata "
   ]
  },
  {
   "cell_type": "code",
   "execution_count": 41,
   "id": "b546e957-03cd-48ca-98e8-70c1db297f51",
   "metadata": {},
   "outputs": [
    {
     "name": "stdout",
     "output_type": "stream",
     "text": [
      "In session: ATL022/2023-03-24/701, vrFile['rigInfo'] does not exist. Assuming default settings for B2!\n",
      "Self.value['numTrials'] set by trialInfo['trialIdx']>0, but this might not be right. There might be smarter ways to determine which trials are 'good' trials...\n",
      "Facecam preprocessing has not been coded yet!\n",
      "C:\\Users\\andrew\\Documents\\localData\\ATL022\\2023-03-24\\701\n"
     ]
    }
   ],
   "source": [
    "# vrExperiment registration and preprocessing \n",
    "mouseName = 'ATL022'\n",
    "dateString = '2023-03-24'\n",
    "session = '701'\n",
    "vrReg = vre.vrExperimentRegistration(mouseName, dateString, session, oasis=False, imaging=True)\n",
    "vrReg.doPreprocessing()\n",
    "vrReg.saveParams()\n",
    "print(vrReg.sessionPath())"
   ]
  },
  {
   "cell_type": "code",
   "execution_count": 162,
   "id": "bd1b233d-c46b-4a47-b3c7-ca90c4ac698b",
   "metadata": {},
   "outputs": [],
   "source": [
    "# Post-processing summary variables\n",
    "# 1. convolve spks ==========================Note: I don't think I'm going to keep doing this. It barely changes the spike vector and we're already using GCaMP data anyway...\n",
    "# 2. occupancy map, speed map, lick map ================ finished\n",
    "# 3. spkmap for position (with spatial smoothing) =================== finished (and I wrote a toeplitz convolution that's fast)\n",
    "# 4. reliability measurements and spatial information measurements \n",
    "# 5. ROICaT alignment tools \n",
    "\n",
    "# create all these variables (make sure you did it correctly), and time how long it takes to load them\n",
    "# then save them all and time it takes how long to load them and how much data to save them"
   ]
  },
  {
   "cell_type": "code",
   "execution_count": 42,
   "id": "3e43e9b6-b917-433c-a1a5-3064da5894f8",
   "metadata": {
    "tags": []
   },
   "outputs": [],
   "source": [
    "mouseName = 'ATL022'\n",
    "dateString = '2023-03-24'\n",
    "session = '701'\n",
    "vrexp = vre.vrExperiment(mouseName, dateString, session)"
   ]
  },
  {
   "cell_type": "code",
   "execution_count": 154,
   "id": "e7e2036c-4509-41bc-96ff-1d1337ffbb29",
   "metadata": {
    "tags": []
   },
   "outputs": [
    {
     "name": "stdout",
     "output_type": "stream",
     "text": [
      "Lick map should be included in 'getBehaviorMaps' eventually!\n",
      "CPU times: total: 3.8 s\n",
      "Wall time: 226 ms\n"
     ]
    }
   ],
   "source": [
    "%%time\n",
    "# Retrieve smoothed and downsampled occupancymap and speedmap\n",
    "omap, smap, distvec = vrf.getBehaviorMaps(vrexp,speedThreshold=5) # produce smoothed occupancy and speed maps, along with the distance bins used to create them\n",
    "frameTrialIdx, framePosition, frameSpeed = vrexp.getFrameBehavior()\n",
    "spkmap, count = vrf.getSpikeMap(vrexp, frameTrialIdx, framePosition, frameSpeed, distvec, omap, standardizeSpks=False, doSmoothing=None) # produce the spkmap \n",
    "idxFullTrials = np.all(~np.isnan(omap),axis=1)"
   ]
  },
  {
   "cell_type": "code",
   "execution_count": 206,
   "id": "28a11a32-6b91-4255-a223-65d3aa8d22e3",
   "metadata": {
    "tags": []
   },
   "outputs": [
    {
     "name": "stdout",
     "output_type": "stream",
     "text": [
      "CPU times: total: 203 ms\n",
      "Wall time: 210 ms\n"
     ]
    }
   ],
   "source": [
    "%time relmse, relcor = vrf.measureReliability(spkmap[:,idxFullTrials], numcv=3)"
   ]
  },
  {
   "cell_type": "code",
   "execution_count": 195,
   "id": "4829d405-0a66-4085-b5ff-4fdd69f547b9",
   "metadata": {
    "tags": []
   },
   "outputs": [
    {
     "name": "stdout",
     "output_type": "stream",
     "text": [
      "CPU times: total: 62.5 ms\n",
      "Wall time: 73.8 ms\n"
     ]
    }
   ],
   "source": [
    "%time spInfo = vrf.measureSpatialInformation(omap[idxFullTrials], spkmap[:,idxFullTrials])"
   ]
  },
  {
   "cell_type": "code",
   "execution_count": null,
   "id": "d4f27f6b-1291-4308-b8d8-860c6819da34",
   "metadata": {},
   "outputs": [],
   "source": []
  },
  {
   "cell_type": "code",
   "execution_count": null,
   "id": "a6b97b88-68db-4ac0-930b-0ade9a5c72a7",
   "metadata": {},
   "outputs": [],
   "source": []
  },
  {
   "cell_type": "code",
   "execution_count": null,
   "id": "cd2fa432-2cbb-4e5c-91f6-a6090ddd5662",
   "metadata": {},
   "outputs": [],
   "source": []
  },
  {
   "cell_type": "code",
   "execution_count": null,
   "id": "178d0e3a-cdf2-479c-b24a-f3b665209c03",
   "metadata": {},
   "outputs": [],
   "source": []
  },
  {
   "cell_type": "code",
   "execution_count": null,
   "id": "6c8e47d8-321d-44cf-bf8e-d71e284e2b55",
   "metadata": {},
   "outputs": [],
   "source": []
  },
  {
   "cell_type": "code",
   "execution_count": null,
   "id": "87507dda-bf0f-48d8-9cc7-3315a4af59d4",
   "metadata": {},
   "outputs": [],
   "source": []
  },
  {
   "cell_type": "code",
   "execution_count": null,
   "id": "d3563891-811d-46ab-8034-91ffcc323a65",
   "metadata": {},
   "outputs": [],
   "source": []
  },
  {
   "cell_type": "code",
   "execution_count": null,
   "id": "304f34db-4990-4cca-ba09-c6a312b0c3b4",
   "metadata": {},
   "outputs": [],
   "source": []
  },
  {
   "cell_type": "code",
   "execution_count": null,
   "id": "299263dd-767c-4649-b6c8-ea9ee1e89d75",
   "metadata": {},
   "outputs": [],
   "source": []
  },
  {
   "cell_type": "code",
   "execution_count": null,
   "id": "74c8cbaf-88b4-4f9e-91d7-93a86611a3cb",
   "metadata": {},
   "outputs": [],
   "source": []
  },
  {
   "cell_type": "code",
   "execution_count": null,
   "id": "daf436d5-2ebd-455f-97ae-a3f96b3559df",
   "metadata": {},
   "outputs": [],
   "source": []
  },
  {
   "cell_type": "code",
   "execution_count": null,
   "id": "ea6fbb63-de23-46e0-abc3-50ebe58e4fcb",
   "metadata": {},
   "outputs": [],
   "source": []
  },
  {
   "cell_type": "code",
   "execution_count": null,
   "id": "9c24bf01-6fe2-4e0f-a8e4-811544129fa8",
   "metadata": {},
   "outputs": [],
   "source": []
  },
  {
   "cell_type": "code",
   "execution_count": null,
   "id": "7ae3726d-5eb8-43b7-9ed5-d8a7700bd3dd",
   "metadata": {},
   "outputs": [],
   "source": []
  },
  {
   "cell_type": "code",
   "execution_count": null,
   "id": "cdc5b050-e21a-4707-ad39-e5a42a228822",
   "metadata": {},
   "outputs": [],
   "source": []
  }
 ],
 "metadata": {
  "kernelspec": {
   "display_name": "Python 3 (ipykernel)",
   "language": "python",
   "name": "python3"
  },
  "language_info": {
   "codemirror_mode": {
    "name": "ipython",
    "version": 3
   },
   "file_extension": ".py",
   "mimetype": "text/x-python",
   "name": "python",
   "nbconvert_exporter": "python",
   "pygments_lexer": "ipython3",
   "version": "3.9.16"
  }
 },
 "nbformat": 4,
 "nbformat_minor": 5
}
