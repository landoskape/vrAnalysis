{
 "cells": [
  {
   "cell_type": "code",
   "execution_count": 1,
   "id": "62912f35-2f40-4d93-872e-439919754adf",
   "metadata": {},
   "outputs": [],
   "source": [
    "%reload_ext autoreload\n",
    "%autoreload 2\n",
    "\n",
    "%gui qt\n",
    "\n",
    "import numpy as np\n",
    "import numba as nb\n",
    "import scipy as sp\n",
    "import matplotlib as mpl\n",
    "import matplotlib.pyplot as plt\n",
    "from tqdm import tqdm\n",
    "import time\n",
    "import napari\n",
    "from pathlib import Path\n",
    "import vrExperiment as vre\n",
    "import vrFunctions as vrf\n",
    "import basicFunctions as bf\n",
    "import fileManagement as fm\n",
    "import redCellGUI as rgui"
   ]
  },
  {
   "cell_type": "code",
   "execution_count": 3,
   "id": "ff1fdad1-13d1-4122-9bc4-26d40074c4c3",
   "metadata": {
    "tags": []
   },
   "outputs": [],
   "source": [
    "# Immediate next steps for programming work:\n",
    "\n",
    "# - database development\n",
    "# - ROICaT index alignment tools\n"
   ]
  },
  {
   "cell_type": "code",
   "execution_count": 16,
   "id": "266df662-bc89-4dc4-ad54-58669e96b403",
   "metadata": {
    "tags": []
   },
   "outputs": [],
   "source": [
    "mouseName = 'ATL020'\n",
    "dateString = '2023-05-04'\n",
    "session = '702'"
   ]
  },
  {
   "cell_type": "code",
   "execution_count": 113,
   "id": "3232a21b-e0f7-43c3-99a2-d2b4b67d3530",
   "metadata": {
    "tags": []
   },
   "outputs": [
    {
     "name": "stdout",
     "output_type": "stream",
     "text": [
      "In session: CR_Hippocannula6/2022-09-05/701, vrFile['rigInfo'] does not exist. Assuming default settings for B2!\n",
      "Convert mpciROIs.planeIndex to mpciROIs.stackPosition, with [X,Y,Z(planeIndex)] coordinate for each ROI!\n",
      "Computing red cell features... (usually takes 10-20 seconds)\n",
      "C:\\Users\\andrew\\Documents\\localData\\CR_Hippocannula6\\2022-09-05\\701\n"
     ]
    }
   ],
   "source": [
    "mouseName = 'CR_Hippocannula6'\n",
    "dateString = '2022-09-05'\n",
    "session = '701'\n",
    "\n",
    "# vrExperiment registration and preprocessing \n",
    "# vrReg = vre.vrExperimentRegistration(mouseName, dateString, session, oasis=False, imaging=True)\n",
    "# vrReg.processTimeline()\n",
    "# vrReg.processImaging()\n",
    "# vrReg.processRedCells()\n",
    "# vrReg.saveParams()\n",
    "# print(vrReg.sessionPath())\n",
    "# del vrReg"
   ]
  },
  {
   "cell_type": "code",
   "execution_count": 3,
   "id": "b546e957-03cd-48ca-98e8-70c1db297f51",
   "metadata": {},
   "outputs": [],
   "source": [
    "# vrExperiment registration and preprocessing \n",
    "vrReg = vre.vrExperimentRegistration(mouseName, dateString, session, oasis=False, imaging=True)\n",
    "vrReg.doPreprocessing()\n",
    "vrReg.saveParams()\n",
    "print(vrReg.sessionPath())\n",
    "del vrReg"
   ]
  },
  {
   "cell_type": "code",
   "execution_count": 3,
   "id": "3e43e9b6-b917-433c-a1a5-3064da5894f8",
   "metadata": {
    "tags": []
   },
   "outputs": [],
   "source": [
    "# Load registered vrExperiment\n",
    "vrexp = vre.vrExperiment(mouseName, dateString, session)"
   ]
  },
  {
   "cell_type": "code",
   "execution_count": 13,
   "id": "e7e2036c-4509-41bc-96ff-1d1337ffbb29",
   "metadata": {
    "tags": []
   },
   "outputs": [
    {
     "name": "stdout",
     "output_type": "stream",
     "text": [
      "CPU times: total: 3.58 s\n",
      "Wall time: 512 ms\n"
     ]
    }
   ],
   "source": [
    "%%time\n",
    "speedThreshold = 5\n",
    "omap, smap, lickmap, distvec = vrf.getBehaviorMaps(vrexp,speedThreshold=speedThreshold) # produce smoothed occupancy and speed maps, along with the distance bins used to create them\n",
    "frameTrialIdx, framePosition, frameSpeed = vrexp.getFrameBehavior() # convert behavioral data into timeframe of spiking data\n",
    "spkmap = vrf.getSpikeMap(vrexp, frameTrialIdx, framePosition, frameSpeed, distvec, omap, speedThreshold=speedThreshold, standardizeSpks=False, doSmoothing=0) # produce the spkmap \n",
    "idxFullTrials = np.all(~np.isnan(omap),axis=1) # find out which trials the mouse explored the whole environment\n",
    "relmse, relcor = vrf.measureReliability(spkmap[:,idxFullTrials], numcv=3) # measure reliability of spiking\n",
    "spInfo = vrf.measureSpatialInformation(omap[idxFullTrials], spkmap[:,idxFullTrials]) # measure spatial information of spiking"
   ]
  },
  {
   "cell_type": "code",
   "execution_count": 147,
   "id": "7b8e9865-e913-4dfc-a697-8079801b3c8b",
   "metadata": {},
   "outputs": [],
   "source": [
    "# Code block for opening redSelectionGUI for a vrExperiment\n",
    "vrexp = vre.vrExperiment(mouseName, dateString, session)\n",
    "redCell = vre.redCellProcessing(vrexp)\n",
    "redSelection = rgui.redSelectionGUI(redCell)"
   ]
  },
  {
   "cell_type": "code",
   "execution_count": null,
   "id": "487110b4-4e2c-4b24-bea9-56d03b2b06d5",
   "metadata": {},
   "outputs": [],
   "source": []
  },
  {
   "cell_type": "code",
   "execution_count": null,
   "id": "e0053925-bb55-4674-b14f-625529c7e63f",
   "metadata": {},
   "outputs": [],
   "source": []
  },
  {
   "cell_type": "code",
   "execution_count": null,
   "id": "8b252d29-d906-4289-b239-0a280a2cafe7",
   "metadata": {},
   "outputs": [],
   "source": []
  },
  {
   "cell_type": "code",
   "execution_count": null,
   "id": "ca0a5d74-38c6-421f-83e1-21ce1481a328",
   "metadata": {},
   "outputs": [],
   "source": []
  },
  {
   "cell_type": "code",
   "execution_count": null,
   "id": "0943758c-8b2b-4fc2-9fb4-39f470ce859b",
   "metadata": {},
   "outputs": [],
   "source": []
  },
  {
   "cell_type": "code",
   "execution_count": null,
   "id": "9f0ee92d-b8e7-4420-8e69-a5ae9fccced0",
   "metadata": {},
   "outputs": [],
   "source": []
  },
  {
   "cell_type": "code",
   "execution_count": null,
   "id": "ff1dd319-f8c1-460f-b150-16fb1ec65b9c",
   "metadata": {},
   "outputs": [],
   "source": []
  },
  {
   "cell_type": "code",
   "execution_count": null,
   "id": "1035d571-d3af-4d6e-b2b2-ee5987b47c3f",
   "metadata": {},
   "outputs": [],
   "source": []
  },
  {
   "cell_type": "code",
   "execution_count": null,
   "id": "f210cb62-c4c1-42de-979e-57090ece5d3a",
   "metadata": {},
   "outputs": [],
   "source": []
  },
  {
   "cell_type": "code",
   "execution_count": null,
   "id": "e0830bb3-bf28-4a62-80c2-0b03c4c44451",
   "metadata": {},
   "outputs": [],
   "source": []
  },
  {
   "cell_type": "code",
   "execution_count": 5,
   "id": "b4869880-2652-4f9b-8572-6d689d901e29",
   "metadata": {},
   "outputs": [],
   "source": [
    "# database development -- simple python based API to begin with... --\n",
    "import pandas as pd\n",
    "import pyarrow as pa\n",
    "\n",
    "\n"
   ]
  },
  {
   "cell_type": "code",
   "execution_count": 16,
   "id": "c31b96eb-388c-47a9-95d8-26a4568737aa",
   "metadata": {},
   "outputs": [
    {
     "data": {
      "text/plain": [
       "['unique identifier',\n",
       " 'mouseName',\n",
       " 'date',\n",
       " 'session ID',\n",
       " 'unique mouse ID',\n",
       " 'experiment type',\n",
       " 'imaging',\n",
       " 'face camera',\n",
       " 'vrEnvironments',\n",
       " 'number of imaging planes',\n",
       " 'separation of imaging planes',\n",
       " 'pockels cell percentage',\n",
       " 'rotation of objective',\n",
       " 'rotation of head plate holder',\n",
       " 'suite2p processed',\n",
       " 'suite2p quality control',\n",
       " 'vrExperiment registration processed',\n",
       " 'red cell quality control',\n",
       " 'session quality control']"
      ]
     },
     "execution_count": 16,
     "metadata": {},
     "output_type": "execute_result"
    }
   ],
   "source": [
    "dbpath = fm.codePath() / 'database'\n",
    "headerColumns = []\n",
    "with open(dbpath/'databaseConstruction'/'sessionHeaders.txt') as f:\n",
    "    for x in f: \n",
    "        headerColumns.append(x.strip())\n",
    "\n",
    "headerColumns"
   ]
  },
  {
   "cell_type": "code",
   "execution_count": null,
   "id": "59fe9741-5575-4915-a2c5-1621748ad5a6",
   "metadata": {},
   "outputs": [],
   "source": []
  },
  {
   "cell_type": "code",
   "execution_count": null,
   "id": "26726078-6b24-4051-9b23-84fc9844be34",
   "metadata": {},
   "outputs": [],
   "source": []
  },
  {
   "cell_type": "code",
   "execution_count": null,
   "id": "0d88d416-8f54-43c0-be63-eb830a0d0a95",
   "metadata": {},
   "outputs": [],
   "source": []
  },
  {
   "cell_type": "code",
   "execution_count": null,
   "id": "55db5532-9215-4ba1-8f5d-a0ec8ca85220",
   "metadata": {},
   "outputs": [],
   "source": []
  },
  {
   "cell_type": "code",
   "execution_count": null,
   "id": "0fba9de9-3cd2-4a7c-8131-c80647e6c422",
   "metadata": {},
   "outputs": [],
   "source": []
  },
  {
   "cell_type": "code",
   "execution_count": null,
   "id": "1a6dba29-8617-421a-9e38-27a7f5522484",
   "metadata": {},
   "outputs": [],
   "source": []
  },
  {
   "cell_type": "code",
   "execution_count": null,
   "id": "02b5bc8e-8271-4f1e-82a1-cc16ad2c7d28",
   "metadata": {},
   "outputs": [],
   "source": []
  },
  {
   "cell_type": "code",
   "execution_count": null,
   "id": "5268ff8b-1b50-4c99-af0b-79b2188dfe23",
   "metadata": {},
   "outputs": [],
   "source": []
  },
  {
   "cell_type": "code",
   "execution_count": null,
   "id": "ad20480b-a366-499d-9545-b443c6d33b2b",
   "metadata": {},
   "outputs": [],
   "source": []
  },
  {
   "cell_type": "code",
   "execution_count": null,
   "id": "22169af4-dc06-496e-b49a-66be2d57f116",
   "metadata": {},
   "outputs": [],
   "source": []
  },
  {
   "cell_type": "code",
   "execution_count": null,
   "id": "9dea7f57-9bc3-4fb6-87be-16d40e8ee79d",
   "metadata": {},
   "outputs": [],
   "source": []
  },
  {
   "cell_type": "code",
   "execution_count": null,
   "id": "69e1c6f2-27c3-46e5-9ece-0d47a037f941",
   "metadata": {},
   "outputs": [],
   "source": []
  },
  {
   "cell_type": "code",
   "execution_count": null,
   "id": "e7b9e8c4-7e79-425d-9b7c-680f56e4ce7d",
   "metadata": {},
   "outputs": [],
   "source": []
  },
  {
   "cell_type": "code",
   "execution_count": null,
   "id": "e9209354-6af1-43a1-aca4-c5388dadb9b6",
   "metadata": {},
   "outputs": [],
   "source": []
  },
  {
   "cell_type": "code",
   "execution_count": null,
   "id": "64de51e6-f619-4d76-ac64-0346a592b4cb",
   "metadata": {},
   "outputs": [],
   "source": []
  },
  {
   "cell_type": "code",
   "execution_count": null,
   "id": "f7e065f1-48bf-4fd2-801a-43e4f09faa26",
   "metadata": {},
   "outputs": [],
   "source": []
  },
  {
   "cell_type": "code",
   "execution_count": null,
   "id": "c046ba0b-4405-438d-859a-03ed06174e6a",
   "metadata": {},
   "outputs": [],
   "source": []
  },
  {
   "cell_type": "code",
   "execution_count": null,
   "id": "303727c1-c2a4-4504-aab8-024461422ed2",
   "metadata": {},
   "outputs": [],
   "source": []
  },
  {
   "cell_type": "code",
   "execution_count": null,
   "id": "cd6e1f36-acb4-421f-a55a-6e4cf6d2f316",
   "metadata": {},
   "outputs": [],
   "source": []
  },
  {
   "cell_type": "code",
   "execution_count": null,
   "id": "009ba8f7-0b8c-4807-b5d3-fae3f3b8b1fa",
   "metadata": {},
   "outputs": [],
   "source": []
  },
  {
   "cell_type": "code",
   "execution_count": null,
   "id": "c64709b0-424f-4407-a0a0-8d8d34662e38",
   "metadata": {},
   "outputs": [],
   "source": []
  },
  {
   "cell_type": "code",
   "execution_count": null,
   "id": "ea96ea65-2529-4c61-ba6b-efd8f985ce78",
   "metadata": {},
   "outputs": [],
   "source": []
  },
  {
   "cell_type": "code",
   "execution_count": null,
   "id": "0cbeb10b-d52f-498a-9fb2-60d384a0e881",
   "metadata": {},
   "outputs": [],
   "source": []
  },
  {
   "cell_type": "code",
   "execution_count": null,
   "id": "a453906c-fdd5-4c8d-b12a-466f09b4352b",
   "metadata": {},
   "outputs": [],
   "source": []
  },
  {
   "cell_type": "code",
   "execution_count": null,
   "id": "84f87370-c84e-489b-b28e-25d37f684484",
   "metadata": {},
   "outputs": [],
   "source": []
  },
  {
   "cell_type": "code",
   "execution_count": null,
   "id": "3cc3768b-6159-41ab-9f41-1ff1da6301f8",
   "metadata": {},
   "outputs": [],
   "source": []
  },
  {
   "cell_type": "code",
   "execution_count": null,
   "id": "b2aeba61-686e-43bb-a7e5-2c3797d0366b",
   "metadata": {},
   "outputs": [],
   "source": []
  },
  {
   "cell_type": "code",
   "execution_count": null,
   "id": "f5a8ae4f-24bd-4205-aebb-62b7b6c8ed71",
   "metadata": {},
   "outputs": [],
   "source": []
  },
  {
   "cell_type": "code",
   "execution_count": null,
   "id": "f256004d-a4cf-42fc-b1e0-0675861b7d87",
   "metadata": {},
   "outputs": [],
   "source": []
  },
  {
   "cell_type": "code",
   "execution_count": null,
   "id": "d025951f-5e27-4e38-8743-4dea58ae6248",
   "metadata": {},
   "outputs": [],
   "source": []
  },
  {
   "cell_type": "code",
   "execution_count": null,
   "id": "016bff51-cabf-4586-a381-a249c3c3af24",
   "metadata": {},
   "outputs": [],
   "source": []
  },
  {
   "cell_type": "code",
   "execution_count": null,
   "id": "5418a7e0-dc30-48c6-8e59-3c3da0374bdb",
   "metadata": {},
   "outputs": [],
   "source": []
  },
  {
   "cell_type": "code",
   "execution_count": null,
   "id": "6c610ead-d070-4b47-88dd-5950242b1c99",
   "metadata": {},
   "outputs": [],
   "source": []
  },
  {
   "cell_type": "code",
   "execution_count": null,
   "id": "942f8007-8151-4bc5-a2fb-0e4b9ee7000b",
   "metadata": {},
   "outputs": [],
   "source": []
  },
  {
   "cell_type": "code",
   "execution_count": null,
   "id": "32f6fd1f-469b-46d7-8508-ce6e16a034a3",
   "metadata": {},
   "outputs": [],
   "source": []
  },
  {
   "cell_type": "code",
   "execution_count": null,
   "id": "8f1be56b-0cc7-416a-bb15-ecdff7f09ca6",
   "metadata": {},
   "outputs": [],
   "source": []
  },
  {
   "cell_type": "code",
   "execution_count": null,
   "id": "415ba0ad-3807-444b-a3d9-d57f9231fe36",
   "metadata": {},
   "outputs": [],
   "source": []
  },
  {
   "cell_type": "code",
   "execution_count": null,
   "id": "2150341d-0412-4a61-9b7b-dde4f1c4a301",
   "metadata": {},
   "outputs": [],
   "source": []
  },
  {
   "cell_type": "code",
   "execution_count": null,
   "id": "4ce466ee-da0b-4a68-a8ad-7a223206e059",
   "metadata": {},
   "outputs": [],
   "source": []
  },
  {
   "cell_type": "code",
   "execution_count": null,
   "id": "af0b0058-fbb1-4422-86f3-46888551f493",
   "metadata": {},
   "outputs": [],
   "source": []
  },
  {
   "cell_type": "code",
   "execution_count": null,
   "id": "c1260efe-4c28-432e-bce8-fcbf18648aad",
   "metadata": {},
   "outputs": [],
   "source": []
  },
  {
   "cell_type": "code",
   "execution_count": null,
   "id": "62197ed7-5338-430f-bab6-710b54bb414b",
   "metadata": {},
   "outputs": [],
   "source": []
  },
  {
   "cell_type": "code",
   "execution_count": null,
   "id": "d797e45b-0744-4e55-8705-174757641f6d",
   "metadata": {},
   "outputs": [],
   "source": []
  },
  {
   "cell_type": "code",
   "execution_count": null,
   "id": "81daf1a4-80d5-4988-9084-10885ab7b207",
   "metadata": {},
   "outputs": [],
   "source": []
  },
  {
   "cell_type": "code",
   "execution_count": null,
   "id": "f48c6dec-6c51-4a6b-ab3d-2401b1485925",
   "metadata": {},
   "outputs": [],
   "source": []
  },
  {
   "cell_type": "code",
   "execution_count": null,
   "id": "b6b82c80-a81f-4c56-9e66-938769c90572",
   "metadata": {},
   "outputs": [],
   "source": []
  },
  {
   "cell_type": "code",
   "execution_count": null,
   "id": "c08762f0-b926-450d-9fb1-b3c55e69685a",
   "metadata": {},
   "outputs": [],
   "source": []
  },
  {
   "cell_type": "code",
   "execution_count": null,
   "id": "338513f4-2b8c-4f3f-b789-ca19f1cccf8a",
   "metadata": {},
   "outputs": [],
   "source": []
  },
  {
   "cell_type": "code",
   "execution_count": null,
   "id": "cd4b7a49-9484-498c-8050-cb3bd9c1a06c",
   "metadata": {},
   "outputs": [],
   "source": []
  },
  {
   "cell_type": "code",
   "execution_count": null,
   "id": "248e6057-e95e-4acf-9849-e10023a0ba88",
   "metadata": {},
   "outputs": [],
   "source": []
  },
  {
   "cell_type": "code",
   "execution_count": null,
   "id": "6a9cabe1-763b-4d89-b805-68c549627da6",
   "metadata": {},
   "outputs": [],
   "source": []
  },
  {
   "cell_type": "code",
   "execution_count": null,
   "id": "2397c17d-ee04-4048-8500-6d6cf2ab1334",
   "metadata": {},
   "outputs": [],
   "source": []
  },
  {
   "cell_type": "code",
   "execution_count": null,
   "id": "789f13f3-a735-4fcd-b021-5751c3c84a7c",
   "metadata": {},
   "outputs": [],
   "source": []
  },
  {
   "cell_type": "code",
   "execution_count": null,
   "id": "820167c3-0b7e-4ecc-9818-6482ad171345",
   "metadata": {},
   "outputs": [],
   "source": []
  },
  {
   "cell_type": "code",
   "execution_count": null,
   "id": "30b36d2a-6895-44e4-b508-1319340a64bf",
   "metadata": {},
   "outputs": [],
   "source": []
  },
  {
   "cell_type": "code",
   "execution_count": null,
   "id": "fdb56630-2947-415d-811e-5669980b6337",
   "metadata": {},
   "outputs": [],
   "source": []
  }
 ],
 "metadata": {
  "kernelspec": {
   "display_name": "Python 3 (ipykernel)",
   "language": "python",
   "name": "python3"
  },
  "language_info": {
   "codemirror_mode": {
    "name": "ipython",
    "version": 3
   },
   "file_extension": ".py",
   "mimetype": "text/x-python",
   "name": "python",
   "nbconvert_exporter": "python",
   "pygments_lexer": "ipython3",
   "version": "3.9.16"
  }
 },
 "nbformat": 4,
 "nbformat_minor": 5
}
