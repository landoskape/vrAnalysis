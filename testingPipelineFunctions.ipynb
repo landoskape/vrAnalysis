{
 "cells": [
  {
   "cell_type": "code",
   "execution_count": 1,
   "id": "62912f35-2f40-4d93-872e-439919754adf",
   "metadata": {},
   "outputs": [],
   "source": [
    "%load_ext autoreload\n",
    "%autoreload 2\n",
    "\n",
    "import numpy as np\n",
    "import numba as nb\n",
    "import scipy as sp\n",
    "import matplotlib.pyplot as plt\n",
    "from tqdm import tqdm\n",
    "import time\n",
    "from pathlib import Path\n",
    "import vrExperiment as vre\n",
    "import vrFunctions as vrf\n",
    "import basicFunctions as bf"
   ]
  },
  {
   "cell_type": "code",
   "execution_count": 2,
   "id": "4154d480-638c-4069-904e-8780ead630b3",
   "metadata": {
    "tags": []
   },
   "outputs": [],
   "source": [
    "# Code Needs: (eventually)\n",
    "# - ROICaT index alignment tools (will wait until I have data processed and loaded from multiple sessions)"
   ]
  },
  {
   "cell_type": "code",
   "execution_count": 3,
   "id": "ff1fdad1-13d1-4122-9bc4-26d40074c4c3",
   "metadata": {
    "tags": []
   },
   "outputs": [],
   "source": [
    "# Immediate next steps for programming work:\n",
    "\n",
    "# - red cell processing functions\n",
    "# - database development\n"
   ]
  },
  {
   "cell_type": "code",
   "execution_count": 10,
   "id": "b546e957-03cd-48ca-98e8-70c1db297f51",
   "metadata": {},
   "outputs": [
    {
     "name": "stdout",
     "output_type": "stream",
     "text": [
      "In session: ATL022/2023-03-24/701, vrFile['rigInfo'] does not exist. Assuming default settings for B2!\n",
      "Self.value['numTrials'] set by trialInfo.trialIdx>0, but this might not be right. There might be smarter ways to determine which trials are 'good' trials...\n",
      "Facecam preprocessing has not been coded yet!\n",
      "Red cell processing has not been coded yet!\n",
      "C:\\Users\\andrew\\Documents\\localData\\ATL022\\2023-03-24\\701\n"
     ]
    }
   ],
   "source": [
    "# vrExperiment registration and preprocessing \n",
    "mouseName = 'ATL022'\n",
    "dateString = '2023-03-24'\n",
    "session = '701'\n",
    "vrReg = vre.vrExperimentRegistration(mouseName, dateString, session, oasis=False, imaging=True)\n",
    "vrReg.doPreprocessing()\n",
    "vrReg.saveParams()\n",
    "print(vrReg.sessionPath())\n",
    "del vrReg"
   ]
  },
  {
   "cell_type": "code",
   "execution_count": 11,
   "id": "3e43e9b6-b917-433c-a1a5-3064da5894f8",
   "metadata": {
    "tags": []
   },
   "outputs": [],
   "source": [
    "mouseName = 'ATL022'\n",
    "dateString = '2023-03-24'\n",
    "session = '701'\n",
    "vrexp = vre.vrExperiment(mouseName, dateString, session)"
   ]
  },
  {
   "cell_type": "code",
   "execution_count": 111,
   "id": "e7e2036c-4509-41bc-96ff-1d1337ffbb29",
   "metadata": {
    "tags": []
   },
   "outputs": [
    {
     "name": "stdout",
     "output_type": "stream",
     "text": [
      "CPU times: total: 13 s\n",
      "Wall time: 3.06 s\n"
     ]
    }
   ],
   "source": [
    "%%time\n",
    "omap, smap, lickmap, distvec = vrf.getBehaviorMaps(vrexp,speedThreshold=5) # produce smoothed occupancy and speed maps, along with the distance bins used to create them\n",
    "frameTrialIdx, framePosition, frameSpeed = vrexp.getFrameBehavior() # convert behavioral data into timeframe of spiking data\n",
    "spkmap = vrf.getSpikeMap(vrexp, frameTrialIdx, framePosition, frameSpeed, distvec, omap, standardizeSpks=False, doSmoothing=0) # produce the spkmap \n",
    "idxFullTrials = np.all(~np.isnan(omap),axis=1) # find out which trials the mouse explored the whole environment\n",
    "relmse, relcor = vrf.measureReliability(spkmap[:,idxFullTrials], numcv=3) # measure reliability of spiking\n",
    "spInfo = vrf.measureSpatialInformation(omap[idxFullTrials], spkmap[:,idxFullTrials]) # measure spatial information of spiking"
   ]
  },
  {
   "cell_type": "code",
   "execution_count": null,
   "id": "fdb56630-2947-415d-811e-5669980b6337",
   "metadata": {},
   "outputs": [],
   "source": []
  },
  {
   "cell_type": "code",
   "execution_count": null,
   "id": "14fb3c29-f025-4e45-96ab-2ba41f4a7403",
   "metadata": {},
   "outputs": [],
   "source": []
  },
  {
   "cell_type": "code",
   "execution_count": null,
   "id": "cc2c5435-2fe5-41fc-9077-019c232a690b",
   "metadata": {},
   "outputs": [],
   "source": []
  },
  {
   "cell_type": "code",
   "execution_count": null,
   "id": "b05d7713-27aa-4191-ac6f-5dee49d7fd38",
   "metadata": {},
   "outputs": [],
   "source": []
  },
  {
   "cell_type": "code",
   "execution_count": null,
   "id": "7134f955-6f06-4cbe-8942-8791123d427c",
   "metadata": {},
   "outputs": [],
   "source": []
  },
  {
   "cell_type": "code",
   "execution_count": null,
   "id": "dcbbd151-bb4a-42cb-9539-cd49e84abeaf",
   "metadata": {},
   "outputs": [],
   "source": []
  },
  {
   "cell_type": "code",
   "execution_count": null,
   "id": "9ac29098-55a4-48cf-893e-fce77e27f636",
   "metadata": {},
   "outputs": [],
   "source": []
  }
 ],
 "metadata": {
  "kernelspec": {
   "display_name": "Python 3 (ipykernel)",
   "language": "python",
   "name": "python3"
  },
  "language_info": {
   "codemirror_mode": {
    "name": "ipython",
    "version": 3
   },
   "file_extension": ".py",
   "mimetype": "text/x-python",
   "name": "python",
   "nbconvert_exporter": "python",
   "pygments_lexer": "ipython3",
   "version": "3.9.16"
  }
 },
 "nbformat": 4,
 "nbformat_minor": 5
}
