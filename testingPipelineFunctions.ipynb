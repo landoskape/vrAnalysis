{
 "cells": [
  {
   "cell_type": "code",
   "execution_count": 2,
   "id": "62912f35-2f40-4d93-872e-439919754adf",
   "metadata": {},
   "outputs": [],
   "source": [
    "%reload_ext autoreload\n",
    "%autoreload 2\n",
    "\n",
    "%gui qt\n",
    "\n",
    "import time\n",
    "from tqdm import tqdm\n",
    "from pathlib import Path\n",
    "import numpy as np\n",
    "import numba as nb\n",
    "import scipy as sp\n",
    "import matplotlib as mpl\n",
    "import matplotlib.pyplot as plt\n",
    "\n",
    "import vrExperiment as vre\n",
    "import vrFunctions as vrf\n",
    "import basicFunctions as bf\n",
    "import fileManagement as fm\n",
    "import dbManagement as dbm\n",
    "\n",
    "import redCellGUI as rgui"
   ]
  },
  {
   "cell_type": "code",
   "execution_count": 6,
   "id": "ff1fdad1-13d1-4122-9bc4-26d40074c4c3",
   "metadata": {
    "tags": []
   },
   "outputs": [],
   "source": [
    "# Immediate next steps for programming work:\n",
    "# - ROICaT index alignment tools"
   ]
  },
  {
   "cell_type": "code",
   "execution_count": 2,
   "id": "3232a21b-e0f7-43c3-99a2-d2b4b67d3530",
   "metadata": {
    "tags": []
   },
   "outputs": [],
   "source": [
    "mouseName = 'CR_Hippocannula6'\n",
    "dateString = '2022-09-05'\n",
    "session = '701'\n",
    "# vrExperiment registration and preprocessing \n",
    "# vrReg = vre.vrExperimentRegistration(mouseName, dateString, session, oasis=False, imaging=True)\n",
    "# vrReg.processTimeline()\n",
    "# vrReg.processImaging()\n",
    "# vrReg.processRedCells()\n",
    "# vrReg.saveParams()\n",
    "# print(vrReg.sessionPath())\n",
    "# del vrReg"
   ]
  },
  {
   "cell_type": "code",
   "execution_count": 2,
   "id": "25a83aa6-c0d5-437e-8c17-09712c235f5d",
   "metadata": {
    "tags": []
   },
   "outputs": [],
   "source": [
    "mouseName = 'ATL020'\n",
    "dateString = '2023-05-04'\n",
    "session = '702'"
   ]
  },
  {
   "cell_type": "code",
   "execution_count": 28,
   "id": "b546e957-03cd-48ca-98e8-70c1db297f51",
   "metadata": {},
   "outputs": [
    {
     "name": "stdout",
     "output_type": "stream",
     "text": [
      "In session: ATL020/2023-05-04/702, vrFile['rigInfo'] does not exist. Assuming default settings for B2!\n",
      "Self.value['numTrials'] set by trialInfo.trialIdx>0, but this might not be right. There might be smarter ways to determine which trials are 'good' trials...\n",
      "frame2time had 2 more than suite2p output. This happens sometimes. I don't like it. I think it's because scanimage sends a TTL before starting the frame\n",
      "ATL020/2023-05-04/702:spks shapes: [1233, 421, 1105, 1915, 1341]\n",
      "ATL020/2023-05-04/702:roiPerPlane: [1233, 421, 1105, 1915, 1341]\n",
      "ATL020/2023-05-04/702:F shapes: [1233, 421, 1105, 1915, 1341]\n",
      "ATL020/2023-05-04/702:roiPerPlane: [1233, 421, 1105, 1915, 1341]\n",
      "ATL020/2023-05-04/702:Fneu shapes: [1233, 421, 1105, 1915, 1341]\n",
      "ATL020/2023-05-04/702:roiPerPlane: [1233, 421, 1105, 1915, 1341]\n",
      "ATL020/2023-05-04/702:redcell shapes: [1233, 421, 1105, 1915, 1341]\n",
      "ATL020/2023-05-04/702:roiPerPlane: [1233, 421, 1105, 1915, 1341]\n",
      "ATL020/2023-05-04/702:iscell shapes: [1233, 421, 1105, 1915, 1341]\n",
      "ATL020/2023-05-04/702:roiPerPlane: [1233, 421, 1105, 1915, 1341]\n",
      "ATL020/2023-05-04/702:stat shapes: [1233, 421, 1105, 1915, 1341]\n",
      "ATL020/2023-05-04/702:roiPerPlane: [1233, 421, 1105, 1915, 1341]\n",
      "ATL020/2023-05-04/702:stat shapes: [1233, 421, 1105, 1915, 1341]\n",
      "ATL020/2023-05-04/702:roiPerPlane: [1233, 421, 1105, 1915, 1341]\n",
      "Computing red cell features for ATL020/2023-05-04/702... (usually takes 10-20 seconds)\n",
      "Facecam preprocessing has not been coded yet!\n",
      "C:\\Users\\andrew\\Documents\\localData\\ATL020\\2023-05-04\\702\n"
     ]
    }
   ],
   "source": [
    "# vrExperiment registration and preprocessing \n",
    "vrReg = vre.vrExperimentRegistration(mouseName, dateString, session, oasis=False, imaging=True)\n",
    "vrReg.doPreprocessing()\n",
    "vrReg.saveParams()\n",
    "print(vrReg.sessionPath())\n",
    "del vrReg"
   ]
  },
  {
   "cell_type": "code",
   "execution_count": 5,
   "id": "3e43e9b6-b917-433c-a1a5-3064da5894f8",
   "metadata": {
    "tags": []
   },
   "outputs": [],
   "source": [
    "# Load registered vrExperiment\n",
    "vrexp = vre.vrExperiment(mouseName, dateString, session)"
   ]
  },
  {
   "cell_type": "code",
   "execution_count": 12,
   "id": "412a5e98-fb7f-44d0-a895-15c81b097fed",
   "metadata": {
    "tags": []
   },
   "outputs": [
    {
     "data": {
      "text/plain": [
       "array([0., 1.], dtype=float32)"
      ]
     },
     "execution_count": 12,
     "metadata": {},
     "output_type": "execute_result"
    }
   ],
   "source": [
    "iscell = vrexp.loadS2P('iscell', concatenate=True, checkVariables=False)\n",
    "redcell = vrexp.loadS2P('redcell', concatenate=True, checkVariables=False)\n",
    "np.unique(redcell[:,0])"
   ]
  },
  {
   "cell_type": "code",
   "execution_count": 8,
   "id": "e7e2036c-4509-41bc-96ff-1d1337ffbb29",
   "metadata": {
    "tags": []
   },
   "outputs": [
    {
     "name": "stdout",
     "output_type": "stream",
     "text": [
      "CPU times: total: 1.14 s\n",
      "Wall time: 476 ms\n"
     ]
    }
   ],
   "source": [
    "%%time\n",
    "speedThreshold = 5\n",
    "omap, smap, lickmap, distvec = vrf.getBehaviorMaps(vrexp,speedThreshold=speedThreshold) # produce smoothed occupancy and speed maps, along with the distance bins used to create them\n",
    "frameTrialIdx, framePosition, frameSpeed = vrexp.getFrameBehavior() # convert behavioral data into timeframe of spiking data\n",
    "spkmap = vrf.getSpikeMap(vrexp, frameTrialIdx, framePosition, frameSpeed, distvec, omap, speedThreshold=speedThreshold, standardizeSpks=False, doSmoothing=0) # produce the spkmap \n",
    "idxFullTrials = np.all(~np.isnan(omap),axis=1) # find out which trials the mouse explored the whole environment\n",
    "relmse, relcor = vrf.measureReliability(spkmap[:,idxFullTrials], numcv=3) # measure reliability of spiking\n",
    "spInfo = vrf.measureSpatialInformation(omap[idxFullTrials], spkmap[:,idxFullTrials]) # measure spatial information of spiking"
   ]
  },
  {
   "cell_type": "code",
   "execution_count": 9,
   "id": "7b8e9865-e913-4dfc-a697-8079801b3c8b",
   "metadata": {},
   "outputs": [],
   "source": [
    "# Code block for opening redSelectionGUI for a vrExperiment\n",
    "vrexp = vre.vrExperiment(mouseName, dateString, session)\n",
    "redCell = vre.redCellProcessing(vrexp)\n",
    "redSelection = rgui.redSelectionGUI(redCell)"
   ]
  },
  {
   "cell_type": "code",
   "execution_count": null,
   "id": "487110b4-4e2c-4b24-bea9-56d03b2b06d5",
   "metadata": {},
   "outputs": [],
   "source": []
  },
  {
   "cell_type": "code",
   "execution_count": null,
   "id": "f4a9d23b-6be9-49b7-8a3e-d75671ec4b5f",
   "metadata": {},
   "outputs": [],
   "source": []
  },
  {
   "cell_type": "code",
   "execution_count": 65,
   "id": "f30964c8-6bcd-48c5-8fa7-98516554ba2a",
   "metadata": {
    "tags": []
   },
   "outputs": [],
   "source": [
    "# Database Requirements: \n",
    "# ---------------------\n",
    "# GUI: db manager\n",
    "# - show full database -\n",
    "# - show selected entries (like for example entries with imaging but no suite2p) -\n",
    "#                --> It would be sweet to make this work where there are some defaults, but then there is also a \"filter command\" option which you type and goes as the input to the filtering\n",
    "# - click on entry and do things:\n",
    "#                --> open file explorer to that session\n",
    "#                --> do suite2p\n",
    "#                --> do red cell management\n",
    "# - update table data? \n",
    "# ---------------------\n",
    "# Operational Commands: \n",
    "# - Automatically do suite2p \n",
    "# - Check if registration was done before a suite2p update\n",
    "# - Find way to determine if a suite2p file was updated after the folder was made (indicating that QC was done afterwards) -- so registration should be rerun for imaging data at least\n",
    "#    -- check if \"iscell\" is the only thing that was done after registration. In this case, just update the iscell oneData\n",
    "# ---------------------\n",
    "# - Add new entry GUI!!!\n",
    "# ---------------------\n",
    "# - Check session folders to see if new session is present that isn't registered in the database? \n",
    "# ---------------------\n",
    "# vrExperimentUpdates: \n",
    "# -- if edited iscell, will need to re-register the number of ROIs per plane (in \"self.values\") and reprocess imaging data!\n",
    "# ---------------------\n",
    "# vrExperimentRegistration\n",
    "# -- if error, then note there was an error and append an explanation...!!!"
   ]
  },
  {
   "cell_type": "code",
   "execution_count": 66,
   "id": "902bf9a1-7098-48b5-a2e3-deaf25ffaf84",
   "metadata": {
    "tags": []
   },
   "outputs": [],
   "source": [
    "vrSession = vre.vrSession('ATL012','2023-03-01','701')"
   ]
  },
  {
   "cell_type": "code",
   "execution_count": 68,
   "id": "0c9c0d32-c187-4db8-8ec7-cf6e45b6245d",
   "metadata": {
    "tags": []
   },
   "outputs": [
    {
     "name": "stdout",
     "output_type": "stream",
     "text": [
      "C:\\Users\\andrew\\Documents\\localData\\ATL012\\2023-03-01\\701\\suite2p\\plane4\\F.npy\n",
      "C:\\Users\\andrew\\Documents\\localData\\ATL012\\2023-03-01\\701\\suite2p\\plane4\\Fneu.npy\n",
      "C:\\Users\\andrew\\Documents\\localData\\ATL012\\2023-03-01\\701\\suite2p\\plane4\\F_chan2.npy\n",
      "C:\\Users\\andrew\\Documents\\localData\\ATL012\\2023-03-01\\701\\suite2p\\plane4\\spks.npy\n"
     ]
    }
   ],
   "source": [
    "s2pFiles = vrSession.suite2pPath().rglob('*.npy')\n",
    "\n",
    "for f in s2pFiles: \n",
    "    try: \n",
    "        np.load(f, allow_pickle=True)\n",
    "    except:\n",
    "        print(f)"
   ]
  },
  {
   "cell_type": "code",
   "execution_count": null,
   "id": "eff121a0-a381-4ac5-a1b2-5a00bed0b0b9",
   "metadata": {},
   "outputs": [],
   "source": []
  },
  {
   "cell_type": "code",
   "execution_count": 102,
   "id": "83aeb110-b855-466b-866a-16ed8a451100",
   "metadata": {
    "tags": []
   },
   "outputs": [],
   "source": [
    "import pandas as pd\n",
    "mouseName, sessionDate, sessionID = 'ATL022', '2023-03-29', '701'\n",
    "\n",
    "fieldNames, tableData = vrdb.tableData()\n",
    "df = pd.DataFrame.from_records(tableData, columns=fieldNames)\n",
    "record = df[(df['mouseName']==mouseName) \n",
    "            & (df['sessionDate'].apply(lambda sd : sd.strftime('%Y-%m-%d'))==sessionDate)\n",
    "            & (df['sessionID']==int(sessionID))]\n"
   ]
  },
  {
   "cell_type": "code",
   "execution_count": 111,
   "id": "cc3bdbf9-f9c0-4d2c-a103-ef57c5a4f5a2",
   "metadata": {
    "tags": []
   },
   "outputs": [
    {
     "data": {
      "text/plain": [
       "'ATL022'"
      ]
     },
     "execution_count": 111,
     "metadata": {},
     "output_type": "execute_result"
    }
   ],
   "source": [
    "record['mouseName'].item()"
   ]
  },
  {
   "cell_type": "code",
   "execution_count": 112,
   "id": "cf17eae3-7067-4e6e-b32c-fc355539a973",
   "metadata": {
    "tags": []
   },
   "outputs": [
    {
     "data": {
      "text/plain": [
       "'2023-03-29'"
      ]
     },
     "execution_count": 112,
     "metadata": {},
     "output_type": "execute_result"
    }
   ],
   "source": [
    "record['sessionDate'].dt.strftime('%Y-%m-%d').item()"
   ]
  },
  {
   "cell_type": "code",
   "execution_count": null,
   "id": "3c9c5a03-0499-4261-8d7c-14565ce5b5dd",
   "metadata": {},
   "outputs": [],
   "source": []
  },
  {
   "cell_type": "code",
   "execution_count": 113,
   "id": "fdb3396a-86b1-4393-a8fb-f77e1d1f416a",
   "metadata": {
    "tags": []
   },
   "outputs": [],
   "source": [
    "df = vrdb.getTable()"
   ]
  },
  {
   "cell_type": "code",
   "execution_count": 120,
   "id": "f14f84c3-ab3f-4f2a-a972-e2002cb1dbdc",
   "metadata": {
    "tags": []
   },
   "outputs": [
    {
     "name": "stdout",
     "output_type": "stream",
     "text": [
      "<class 'pandas.core.series.Series'>\n",
      "2023-01-18 00:00:00\n",
      "2023-01-18\n",
      "uSessionID                                                                 1\n",
      "mouseName                                                             ATL012\n",
      "sessionDate                                              2023-01-18 00:00:00\n",
      "sessionID                                                                701\n",
      "experimentType                                                    Blender VR\n",
      "experimentID                                                               1\n",
      "variableGain                                                           False\n",
      "behavior                                                                True\n",
      "imaging                                                                 True\n",
      "faceCamera                                                             False\n",
      "vrEnvironments                                                             1\n",
      "headPlateRotation                                                        NaN\n",
      "numPlanes                                                                5.0\n",
      "planeSeparation                                                         25.0\n",
      "pockelsPercentage                                                        6.0\n",
      "objectiveRotation                                                        6.3\n",
      "vrRegistration                                                          True\n",
      "suite2p                                                                 True\n",
      "suite2pQC                                                              False\n",
      "redCellQC                                                              False\n",
      "sessionQC                                                               True\n",
      "scratchJustification                                                    None\n",
      "logtime                                                                 None\n",
      "sessionNotes               Very few trials, mouse not trained (for about ...\n",
      "suite2pDate                                              2023-08-14 14:35:47\n",
      "vrRegistrationDate                                       2023-08-16 08:34:05\n",
      "vrRegistrationError                                                    False\n",
      "vrRegistrationException                                                 None\n",
      "Name: 0, dtype: object\n"
     ]
    }
   ],
   "source": [
    "for i, row in df.iterrows():\n",
    "    print(type(row))\n",
    "    print(row['sessionDate'])\n",
    "    print(row['sessionDate'].strftime('%Y-%m-%d'))\n",
    "    print(row)\n",
    "    break"
   ]
  },
  {
   "cell_type": "code",
   "execution_count": 127,
   "id": "bbcdf42a-de1c-42d5-a65e-3b44e27b2cf7",
   "metadata": {
    "tags": []
   },
   "outputs": [],
   "source": [
    "record = vrdb.getRecord('ATL012','2023-01-18','701')"
   ]
  },
  {
   "cell_type": "code",
   "execution_count": 130,
   "id": "02d28ca1-a187-4cc2-9ff3-d2c6914e3935",
   "metadata": {
    "tags": []
   },
   "outputs": [
    {
     "data": {
      "text/plain": [
       "'2023-01-18'"
      ]
     },
     "execution_count": 130,
     "metadata": {},
     "output_type": "execute_result"
    }
   ],
   "source": [
    "record['sessionDate'].strftime('%Y-%m-%d')"
   ]
  },
  {
   "cell_type": "code",
   "execution_count": 133,
   "id": "e0053925-bb55-4674-b14f-625529c7e63f",
   "metadata": {},
   "outputs": [
    {
     "name": "stdout",
     "output_type": "stream",
     "text": [
      "\\\\zaru.cortexlab.net\\Subjects\\ATL022\\2023-04-05\\702\n",
      "C:\\Users\\andrew\\Documents\\localData\\ATL022\\2023-04-05\\702\n"
     ]
    }
   ],
   "source": [
    "# fm.getCopyString('ATL027')\n",
    "fm.s2pTargets('ATL022','2023-04-05','702')"
   ]
  },
  {
   "cell_type": "code",
   "execution_count": 69,
   "id": "ad20480b-a366-499d-9545-b443c6d33b2b",
   "metadata": {},
   "outputs": [],
   "source": [
    "vrdb = dbm.vrDatabase()"
   ]
  },
  {
   "cell_type": "code",
   "execution_count": 156,
   "id": "ca9634aa-0fc8-40ad-afff-ef0c91aed00c",
   "metadata": {
    "tags": []
   },
   "outputs": [
    {
     "name": "stdout",
     "output_type": "stream",
     "text": [
      "Session ATL020/2023-04-11/701 had error: Cannot fix mismatches when suite2p data is missing!\n",
      "Session ATL022/2023-04-05/702 had error: cannot reshape array of size 0 into shape (3278,16867)\n",
      "Session ATL022/2023-04-14/701 had error: In session ATL022/2023-04-14/701, first flips in trial are not all down!!\n",
      "Session ATL022/2023-04-17/701 had error: In session ATL022/2023-04-17/701, first flips in trial are not all down!!\n",
      "Session ATL022/2023-05-02/701 had error: Reader needs file name or open file-like object\n",
      "Session ATL028/2023-08-04/701 had error: Cannot fix mismatches when suite2p data is missing!\n"
     ]
    }
   ],
   "source": [
    "vrdb.printRegistrationErrors()\n",
    "# I fixed ATL012/2023-03-01\n",
    "#         ATL020/2023-03-24\n",
    "#         ATL022/2023-03-29\n"
   ]
  },
  {
   "cell_type": "code",
   "execution_count": 155,
   "id": "f49ef816-654b-46a9-8f94-3894e307b002",
   "metadata": {
    "tags": []
   },
   "outputs": [
    {
     "name": "stdout",
     "output_type": "stream",
     "text": [
      "Performing vrExperiment preprocessing for session: ATL022/2023-04-21/701\n",
      "Cleared oneData from session: ATL022/2023-04-21/701\n",
      "In session: ATL022/2023-04-21/701, vrFile['rigInfo'] does not exist. Assuming default settings for B2!\n",
      "Self.value['numTrials'] set by trialInfo.trialIdx>0, but this might not be right. There might be smarter ways to determine which trials are 'good' trials...\n",
      "Computing red cell features for ATL022/2023-04-21/701... (usually takes 10-20 seconds)\n",
      "Facecam preprocessing has not been coded yet!\n",
      "Saving params...\n",
      "Session ATL022/2023-04-21/701 registered with 1.96 GB oneData.\n"
     ]
    }
   ],
   "source": [
    "# vrdb.registerSessions()\n",
    "out = vrdb.registerSingleSession('ATL022','2023-04-21','701')"
   ]
  },
  {
   "cell_type": "code",
   "execution_count": null,
   "id": "81321904-7275-47ce-8065-9f0f191f7fbb",
   "metadata": {},
   "outputs": [],
   "source": []
  },
  {
   "cell_type": "code",
   "execution_count": null,
   "id": "3387e2d7-5608-422e-871b-e2d3a822377f",
   "metadata": {},
   "outputs": [],
   "source": []
  },
  {
   "cell_type": "code",
   "execution_count": 1,
   "id": "99e37536-67d8-43bb-89bf-a6e9149216a0",
   "metadata": {
    "tags": []
   },
   "outputs": [
    {
     "name": "stdout",
     "output_type": "stream",
     "text": [
      "\\\\zaru.cortexlab.net\\Subjects\\ATL022\\2023-04-21\\701\n",
      "C:\\Users\\andrew\\Documents\\localData\\ATL022\\2023-04-21\\701\n"
     ]
    }
   ],
   "source": [
    "import fileManagement as fm\n",
    "fm.s2pTargets('ATL022','2023-04-21','701')"
   ]
  },
  {
   "cell_type": "code",
   "execution_count": 145,
   "id": "c43f715f-906a-40c3-87ba-f956308ce209",
   "metadata": {
    "tags": []
   },
   "outputs": [],
   "source": [
    "vrreg = vre.vrExperimentRegistration('ATL020', '2023-03-24', '701')"
   ]
  },
  {
   "cell_type": "code",
   "execution_count": null,
   "id": "3c19f276-b2e3-4799-8721-49b4198e3c60",
   "metadata": {},
   "outputs": [],
   "source": []
  },
  {
   "cell_type": "code",
   "execution_count": null,
   "id": "0542e3a8-1748-4e96-a709-ae13912abb35",
   "metadata": {},
   "outputs": [],
   "source": []
  },
  {
   "cell_type": "code",
   "execution_count": null,
   "id": "a64ec66c-8cd5-4ec1-8fcb-8454722d6596",
   "metadata": {},
   "outputs": [],
   "source": []
  },
  {
   "cell_type": "code",
   "execution_count": null,
   "id": "9d5d2a26-b004-4927-96ef-ec3f0f3660fc",
   "metadata": {},
   "outputs": [],
   "source": []
  },
  {
   "cell_type": "code",
   "execution_count": null,
   "id": "6a9cabe1-763b-4d89-b805-68c549627da6",
   "metadata": {},
   "outputs": [],
   "source": [
    "# vrdb.updateSuite2pDateTime()\n",
    "# vrdb.checkS2P(withDatabaseUpdate=True)"
   ]
  },
  {
   "cell_type": "code",
   "execution_count": null,
   "id": "139ee52e-cd8d-4e26-a605-84042e778577",
   "metadata": {},
   "outputs": [
    {
     "name": "stdout",
     "output_type": "stream",
     "text": [
      "Database indicates that suite2p has been run but not QC'd: ATL012/2023-01-18/701\n",
      "Database indicates that suite2p has been run but not QC'd: ATL012/2023-01-20/701\n",
      "Database indicates that suite2p has been run but not QC'd: ATL012/2023-01-20/702\n",
      "Database indicates that suite2p has been run but not QC'd: ATL012/2023-01-23/701\n",
      "Database indicates that suite2p has been run but not QC'd: ATL012/2023-01-24/703\n",
      "Database indicates that suite2p has been run but not QC'd: ATL012/2023-01-25/701\n",
      "Database indicates that suite2p has been run but not QC'd: ATL012/2023-01-26/702\n",
      "Database indicates that suite2p has been run but not QC'd: ATL012/2023-01-27/701\n",
      "Database indicates that suite2p has been run but not QC'd: ATL012/2023-01-30/702\n",
      "Database indicates that suite2p has been run but not QC'd: ATL012/2023-02-01/701\n",
      "Database indicates that suite2p has been run but not QC'd: ATL012/2023-02-02/701\n",
      "Database indicates that suite2p has been run but not QC'd: ATL012/2023-02-06/701\n",
      "Database indicates that suite2p has been run but not QC'd: ATL012/2023-02-07/701\n",
      "Database indicates that suite2p has been run but not QC'd: ATL012/2023-02-08/702\n",
      "Database indicates that suite2p has been run but not QC'd: ATL012/2023-02-09/701\n",
      "Database indicates that suite2p has been run but not QC'd: ATL012/2023-02-14/703\n",
      "Database indicates that suite2p has been run but not QC'd: ATL012/2023-02-15/701\n",
      "Database indicates that suite2p has been run but not QC'd: ATL012/2023-02-16/701\n",
      "Database indicates that suite2p has been run but not QC'd: ATL012/2023-02-17/701\n",
      "Database indicates that suite2p has been run but not QC'd: ATL012/2023-02-20/701\n",
      "Database indicates that suite2p has been run but not QC'd: ATL012/2023-02-21/702\n",
      "Database indicates that suite2p has been run but not QC'd: ATL012/2023-02-22/701\n",
      "Database indicates that suite2p has been run but not QC'd: ATL012/2023-02-27/701\n",
      "Database indicates that suite2p has been run but not QC'd: ATL012/2023-02-28/701\n",
      "Database indicates that suite2p has been run but not QC'd: ATL012/2023-03-01/701\n",
      "Database indicates that suite2p has been run but not QC'd: ATL012/2023-03-03/701\n",
      "Database indicates that suite2p has been run but not QC'd: ATL020/2023-03-22/701\n",
      "Database indicates that suite2p has been run but not QC'd: ATL020/2023-03-24/701\n",
      "Database indicates that suite2p has been run but not QC'd: ATL020/2023-03-27/701\n",
      "Database indicates that suite2p has been run but not QC'd: ATL020/2023-03-29/701\n",
      "Database indicates that suite2p has been run but not QC'd: ATL020/2023-03-31/701\n",
      "Database indicates that suite2p has been run but not QC'd: ATL020/2023-04-04/701\n",
      "Database indicates that suite2p has been run but not QC'd: ATL020/2023-04-05/701\n",
      "Database indicates that suite2p has been run but not QC'd: ATL020/2023-04-06/701\n",
      "Database indicates that suite2p has been run but not QC'd: ATL020/2023-04-11/701\n",
      "Database indicates that suite2p has been run but not QC'd: ATL020/2023-05-03/701\n",
      "Database indicates that suite2p has been run but not QC'd: ATL020/2023-05-04/702\n",
      "Database indicates that suite2p has been run but not QC'd: ATL022/2023-03-24/701\n",
      "Database indicates that suite2p has been run but not QC'd: ATL022/2023-03-27/701\n",
      "Database indicates that suite2p has been run but not QC'd: ATL022/2023-03-29/701\n",
      "Database indicates that suite2p has been run but not QC'd: ATL022/2023-03-31/703\n",
      "Database indicates that suite2p has been run but not QC'd: ATL022/2023-04-04/701\n",
      "Database indicates that suite2p has been run but not QC'd: ATL022/2023-04-05/702\n",
      "Database indicates that suite2p has been run but not QC'd: ATL022/2023-04-06/701\n",
      "Database indicates that suite2p has been run but not QC'd: ATL022/2023-04-11/701\n",
      "Database indicates that suite2p has been run but not QC'd: ATL022/2023-04-12/701\n",
      "Database indicates that suite2p has been run but not QC'd: ATL022/2023-04-14/701\n",
      "Database indicates that suite2p has been run but not QC'd: ATL022/2023-04-17/701\n",
      "Database indicates that suite2p has been run but not QC'd: ATL022/2023-04-18/701\n",
      "Database indicates that suite2p has been run but not QC'd: ATL022/2023-04-19/701\n",
      "Database indicates that suite2p has been run but not QC'd: ATL022/2023-04-21/701\n",
      "Database indicates that suite2p has been run but not QC'd: ATL022/2023-04-24/701\n",
      "Database indicates that suite2p has been run but not QC'd: ATL022/2023-04-25/702\n",
      "Database indicates that suite2p has been run but not QC'd: ATL022/2023-04-26/701\n",
      "Database indicates that suite2p has been run but not QC'd: ATL022/2023-04-27/702\n",
      "Database indicates that suite2p has been run but not QC'd: ATL022/2023-04-28/701\n",
      "Database indicates that suite2p has been run but not QC'd: ATL022/2023-05-03/701\n",
      "Database indicates that suite2p has been run but not QC'd: ATL022/2023-05-04/701\n",
      "Database indicates that suite2p has been run but not QC'd: ATL023/2023-04-28/702\n",
      "Database indicates that suite2p has been run but not QC'd: ATL023/2023-05-03/701\n",
      "Database indicates that suite2p has been run but not QC'd: ATL023/2023-05-04/701\n",
      "Database indicates that suite2p has been run but not QC'd: ATL027/2023-07-19/701\n",
      "Database indicates that suite2p has been run but not QC'd: ATL027/2023-07-20/701\n",
      "Database indicates that suite2p has been run but not QC'd: ATL027/2023-07-21/701\n",
      "Database indicates that suite2p has been run but not QC'd: ATL027/2023-07-24/701\n",
      "Database indicates that suite2p has been run but not QC'd: ATL027/2023-07-25/701\n",
      "Database indicates that suite2p has been run but not QC'd: ATL027/2023-07-26/701\n",
      "Database indicates that suite2p has been run but not QC'd: ATL027/2023-07-27/701\n",
      "Database indicates that suite2p has been run but not QC'd: ATL027/2023-07-28/701\n",
      "Database indicates that suite2p has been run but not QC'd: ATL027/2023-08-01/701\n",
      "Database indicates that suite2p has been run but not QC'd: ATL027/2023-08-02/701\n",
      "Database indicates that suite2p has been run but not QC'd: ATL027/2023-08-04/702\n",
      "Database indicates that suite2p has been run but not QC'd: ATL027/2023-08-07/701\n",
      "Database indicates that suite2p has been run but not QC'd: ATL027/2023-08-08/701\n",
      "Database indicates that suite2p has been run but not QC'd: ATL027/2023-08-09/701\n",
      "Database indicates that suite2p has been run but not QC'd: ATL028/2023-08-01/701\n",
      "Database indicates that suite2p has been run but not QC'd: ATL028/2023-08-02/701\n",
      "Database indicates that suite2p has been run but not QC'd: ATL028/2023-08-03/701\n",
      "Database indicates that suite2p has been run but not QC'd: ATL028/2023-08-04/701\n",
      "Database indicates that suite2p has been run but not QC'd: ATL028/2023-08-07/701\n",
      "Database indicates that suite2p has been run but not QC'd: ATL028/2023-08-08/701\n"
     ]
    }
   ],
   "source": [
    "vrdb.printRequiresS2P(needsQC=True)"
   ]
  },
  {
   "cell_type": "code",
   "execution_count": null,
   "id": "daf65579-feff-42ea-891d-d24b84c6e31f",
   "metadata": {},
   "outputs": [],
   "source": []
  },
  {
   "cell_type": "code",
   "execution_count": null,
   "id": "cf00d5cc-0c51-4131-8fa7-0b41fee847ee",
   "metadata": {},
   "outputs": [],
   "source": []
  },
  {
   "cell_type": "code",
   "execution_count": null,
   "id": "e74ede15-aa25-48f7-9c56-8dd6c8c37aac",
   "metadata": {},
   "outputs": [],
   "source": []
  },
  {
   "cell_type": "code",
   "execution_count": 3,
   "id": "6fd49cac-88a2-4033-9401-756430d58e0c",
   "metadata": {},
   "outputs": [],
   "source": [
    "import PyQt5"
   ]
  },
  {
   "cell_type": "code",
   "execution_count": 6,
   "id": "42bebd24-0a20-4043-9bbe-d3883c67bcf7",
   "metadata": {},
   "outputs": [
    {
     "data": {
      "text/plain": [
       "['QtCore',\n",
       " 'QtGui',\n",
       " 'QtSvg',\n",
       " 'QtWidgets',\n",
       " '__builtins__',\n",
       " '__cached__',\n",
       " '__doc__',\n",
       " '__file__',\n",
       " '__loader__',\n",
       " '__name__',\n",
       " '__package__',\n",
       " '__path__',\n",
       " '__spec__',\n",
       " 'sip']"
      ]
     },
     "execution_count": 6,
     "metadata": {},
     "output_type": "execute_result"
    }
   ],
   "source": [
    "dir(PyQt5)"
   ]
  },
  {
   "cell_type": "code",
   "execution_count": null,
   "id": "6117e751-1de5-4e8c-b19d-0b81098b53c6",
   "metadata": {},
   "outputs": [],
   "source": []
  }
 ],
 "metadata": {
  "kernelspec": {
   "display_name": "Python 3 (ipykernel)",
   "language": "python",
   "name": "python3"
  },
  "language_info": {
   "codemirror_mode": {
    "name": "ipython",
    "version": 3
   },
   "file_extension": ".py",
   "mimetype": "text/x-python",
   "name": "python",
   "nbconvert_exporter": "python",
   "pygments_lexer": "ipython3",
   "version": "3.9.17"
  }
 },
 "nbformat": 4,
 "nbformat_minor": 5
}
