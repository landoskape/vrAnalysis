{
 "cells": [
  {
   "cell_type": "code",
   "execution_count": 1,
   "id": "62912f35-2f40-4d93-872e-439919754adf",
   "metadata": {},
   "outputs": [
    {
     "name": "stdout",
     "output_type": "stream",
     "text": [
      "(CVXPY) Oct 17 12:27:52 PM: Encountered unexpected exception importing solver OSQP:\n",
      "ImportError('DLL load failed while importing qdldl: The specified module could not be found.')\n"
     ]
    }
   ],
   "source": [
    "%reload_ext autoreload\n",
    "%autoreload 2\n",
    "\n",
    "# %matplotlib widget\n",
    "%gui qt\n",
    "\n",
    "import time\n",
    "import random\n",
    "from copy import copy\n",
    "from tqdm import tqdm\n",
    "from pathlib import Path\n",
    "import numpy as np\n",
    "import numba as nb\n",
    "import scipy as sp\n",
    "import matplotlib as mpl\n",
    "import matplotlib.pyplot as plt\n",
    "import pandas as pd\n",
    "pd.options.display.width = 1000\n",
    "\n",
    "from vrAnalysis import session\n",
    "from vrAnalysis import functions\n",
    "from vrAnalysis import analysis \n",
    "from vrAnalysis import helpers\n",
    "from vrAnalysis import fileManagement as fm\n",
    "from vrAnalysis import database\n",
    "\n",
    "from vrAnalysis.redgui import redCellGUI as rgui\n",
    "\n",
    "vrdb = database.vrDatabase()"
   ]
  },
  {
   "cell_type": "code",
   "execution_count": 6,
   "id": "ff1fdad1-13d1-4122-9bc4-26d40074c4c3",
   "metadata": {
    "tags": []
   },
   "outputs": [],
   "source": [
    "# Immediate next steps for programming work:\n",
    "# - ROICaT index alignment tools"
   ]
  },
  {
   "cell_type": "code",
   "execution_count": 241,
   "id": "1119caff-5d69-484e-bb16-cc6b820c7d88",
   "metadata": {
    "tags": []
   },
   "outputs": [],
   "source": [
    "# Database Requirements: \n",
    "# ---------------------\n",
    "# GUI: db manager\n",
    "# - show full database -\n",
    "# - show selected entries (like for example entries with imaging but no suite2p) -\n",
    "#                --> It would be sweet to make this work where there are some defaults, but then there is also a \"filter command\" option which you type and goes as the input to the filtering\n",
    "# - click on entry and do things:\n",
    "#                --> open file explorer to that session\n",
    "#                --> do suite2p\n",
    "#                --> do red cell management\n",
    "# - update table data? \n",
    "# ---------------------\n",
    "# Operational Commands: \n",
    "# - Automatically do suite2p \n",
    "# - Check if registration was done before a suite2p update\n",
    "# - Find way to determine if a suite2p file was updated after the folder was made (indicating that QC was done afterwards) -- so registration should be rerun for imaging data at least\n",
    "#    -- check if \"iscell\" is the only thing that was done after registration. In this case, just update the iscell oneData\n",
    "# ---------------------\n",
    "# - Add new entry GUI!!!\n",
    "# ---------------------\n",
    "# - Check session folders to see if new session is present that isn't registered in the database? \n",
    "# ---------------------\n",
    "# vrExperimentUpdates: \n",
    "# -- if edited iscell, will need to re-register the number of ROIs per plane (in \"self.values\") and reprocess imaging data!\n",
    "# ---------------------\n",
    "# vrExperimentRegistration\n",
    "# -- if error, then note there was an error and append an explanation...!!!\n",
    "# ---------------------"
   ]
  },
  {
   "cell_type": "code",
   "execution_count": 2,
   "id": "3232a21b-e0f7-43c3-99a2-d2b4b67d3530",
   "metadata": {
    "tags": []
   },
   "outputs": [],
   "source": [
    "mouseName = 'CR_Hippocannula6'\n",
    "dateString = '2022-09-05'\n",
    "sessionid = '701'\n",
    "# vrExperiment registration and preprocessing \n",
    "# vrReg = vre.vrExperimentRegistration(mouseName, dateString, session, oasis=False, imaging=True)\n",
    "# vrReg.processTimeline()\n",
    "# vrReg.processImaging()\n",
    "# vrReg.processRedCells()\n",
    "# vrReg.saveParams()\n",
    "# print(vrReg.sessionPath())\n",
    "# del vrReg"
   ]
  },
  {
   "cell_type": "code",
   "execution_count": 4,
   "id": "25a83aa6-c0d5-437e-8c17-09712c235f5d",
   "metadata": {
    "tags": []
   },
   "outputs": [],
   "source": [
    "mouseName = 'ATL012'\n",
    "dateString = '2023-02-01'\n",
    "sessionid = '701'\n",
    "\n",
    "# Load registered vrExperiment\n",
    "vrexp = session.vrExperiment(mouseName, dateString, sessionid)"
   ]
  },
  {
   "cell_type": "code",
   "execution_count": 2,
   "id": "d5813430-da22-4d6d-a873-209e141aed26",
   "metadata": {
    "tags": []
   },
   "outputs": [],
   "source": [
    "mouseName = 'ATL027'\n",
    "dateString = '2023-08-01'\n",
    "sessionid = '701'\n",
    "\n",
    "# Load registered vrExperiment\n",
    "vrexp = session.vrExperiment(mouseName, dateString, sessionid)"
   ]
  },
  {
   "cell_type": "code",
   "execution_count": null,
   "id": "b546e957-03cd-48ca-98e8-70c1db297f51",
   "metadata": {},
   "outputs": [
    {
     "name": "stdout",
     "output_type": "stream",
     "text": [
      "In session: ATL020/2023-05-04/702, vrFile['rigInfo'] does not exist. Assuming default settings for B2!\n",
      "Self.value['numTrials'] set by trialInfo.trialIdx>0, but this might not be right. There might be smarter ways to determine which trials are 'good' trials...\n",
      "frame2time had 2 more than suite2p output. This happens sometimes. I don't like it. I think it's because scanimage sends a TTL before starting the frame\n",
      "Computing red cell features for ATL020/2023-05-04/702... (usually takes 10-20 seconds)\n",
      "Facecam preprocessing has not been coded yet!\n",
      "C:\\Users\\andrew\\Documents\\localData\\ATL020\\2023-05-04\\702\n"
     ]
    }
   ],
   "source": [
    "# # vrExperiment registration and preprocessing \n",
    "# vrReg = vre.vrExperimentRegistration(mouseName, dateString, session, oasis=False, imaging=True)\n",
    "# vrReg.doPreprocessing()\n",
    "# vrReg.saveParams()\n",
    "# print(vrReg.sessionPath())\n",
    "# del vrReg"
   ]
  },
  {
   "cell_type": "code",
   "execution_count": 103,
   "id": "3e43e9b6-b917-433c-a1a5-3064da5894f8",
   "metadata": {
    "tags": []
   },
   "outputs": [],
   "source": [
    "# Load registered vrExperiment\n",
    "vrexp = session.vrExperiment(mouseName, dateString, sessionid)"
   ]
  },
  {
   "cell_type": "code",
   "execution_count": 5,
   "id": "e7e2036c-4509-41bc-96ff-1d1337ffbb29",
   "metadata": {
    "tags": []
   },
   "outputs": [
    {
     "name": "stdout",
     "output_type": "stream",
     "text": [
      "CPU times: total: 3.16 s\n",
      "Wall time: 981 ms\n"
     ]
    }
   ],
   "source": [
    "%%time\n",
    "speedThreshold = 5\n",
    "omap, smap, lickmap, distvec = functions.getBehaviorMaps(vrexp,speedThreshold=speedThreshold) # produce smoothed occupancy and speed maps, along with the distance bins used to create them\n",
    "frameTrialIdx, framePosition, frameSpeed = vrexp.getFrameBehavior() # convert behavioral data into timeframe of spiking data\n",
    "spkmap = functions.getSpikeMap(vrexp, frameTrialIdx, framePosition, frameSpeed, distvec, omap, speedThreshold=speedThreshold, standardizeSpks=False, doSmoothing=0) # produce the spkmap \n",
    "idxFullTrials = np.all(~np.isnan(omap),axis=1) # find out which trials the mouse explored the whole environment\n",
    "relmse, relcor = functions.measureReliability(spkmap[:,idxFullTrials], numcv=3) # measure reliability of spiking\n",
    "spInfo = functions.measureSpatialInformation(omap[idxFullTrials], spkmap[:,idxFullTrials]) # measure spatial information of spiking"
   ]
  },
  {
   "cell_type": "code",
   "execution_count": null,
   "id": "e05af1e2-ac8e-4af2-94b1-c283612b02de",
   "metadata": {},
   "outputs": [],
   "source": []
  },
  {
   "cell_type": "code",
   "execution_count": 11,
   "id": "09cc7be1-c50d-4fa5-8759-b15f8808f485",
   "metadata": {
    "tags": []
   },
   "outputs": [],
   "source": [
    "# I need an analysis program for observing the place cell reliability and fraction across sessions"
   ]
  },
  {
   "cell_type": "code",
   "execution_count": null,
   "id": "d7359357-76ea-4fe6-93db-7e3342f1caac",
   "metadata": {},
   "outputs": [],
   "source": []
  },
  {
   "cell_type": "code",
   "execution_count": null,
   "id": "30511e7e-ac58-4197-be7f-433e65f16f08",
   "metadata": {},
   "outputs": [],
   "source": []
  },
  {
   "cell_type": "code",
   "execution_count": null,
   "id": "8ddc28a3-c59e-49e2-8c78-9a57daa3ae9f",
   "metadata": {},
   "outputs": [],
   "source": []
  },
  {
   "cell_type": "code",
   "execution_count": null,
   "id": "d0c5737e-9d3e-41c3-a624-5d693b50f0a0",
   "metadata": {},
   "outputs": [],
   "source": []
  },
  {
   "cell_type": "code",
   "execution_count": null,
   "id": "c069bafb-e554-4187-8276-f3cc6be41cb6",
   "metadata": {},
   "outputs": [],
   "source": []
  },
  {
   "cell_type": "code",
   "execution_count": null,
   "id": "8ae98fad-804d-4006-aedf-36e1ae436e3c",
   "metadata": {},
   "outputs": [],
   "source": []
  },
  {
   "cell_type": "code",
   "execution_count": 11,
   "id": "668a9d49-f7b4-44dd-9359-43856df264e4",
   "metadata": {},
   "outputs": [
    {
     "name": "stdout",
     "output_type": "stream",
     "text": [
      "ATL012/2023-01-25/701\n"
     ]
    }
   ],
   "source": [
    "for ses in vrdb.needsRegistration(skipErrors=True):\n",
    "    print(ses.sessionPrint())"
   ]
  },
  {
   "cell_type": "code",
   "execution_count": 2,
   "id": "0617cb78-cba4-457e-acd3-215b847d762f",
   "metadata": {
    "tags": []
   },
   "outputs": [
    {
     "name": "stdout",
     "output_type": "stream",
     "text": [
      "[]\n"
     ]
    }
   ],
   "source": [
    "vrdb.printMiceInSessions(vrdb.iterSessionNeedRedCellQC())"
   ]
  },
  {
   "cell_type": "code",
   "execution_count": 3,
   "id": "f3012584-08f0-4293-b9e2-15d1d79d4aa7",
   "metadata": {
    "tags": []
   },
   "outputs": [],
   "source": [
    "for ses in vrdb.iterSessionNeedRedCellQC(mouseName='ATL012'):\n",
    "    print(ses.sessionPrint())"
   ]
  },
  {
   "cell_type": "code",
   "execution_count": 4,
   "id": "9e4f0906-25d6-4001-b4e2-ce465ad1dd21",
   "metadata": {
    "tags": []
   },
   "outputs": [
    {
     "ename": "FileNotFoundError",
     "evalue": "[Errno 2] No such file or directory: 'C:\\\\Users\\\\andrew\\\\Documents\\\\localData\\\\ATL012\\\\2023-01-25\\\\701\\\\suite2p\\\\plane2\\\\stat.npy'",
     "output_type": "error",
     "traceback": [
      "\u001b[1;31m---------------------------------------------------------------------------\u001b[0m",
      "\u001b[1;31mFileNotFoundError\u001b[0m                         Traceback (most recent call last)",
      "Cell \u001b[1;32mIn[4], line 7\u001b[0m\n\u001b[0;32m      5\u001b[0m \u001b[38;5;66;03m# Load registered vrExperiment\u001b[39;00m\n\u001b[0;32m      6\u001b[0m vrexp \u001b[38;5;241m=\u001b[39m session\u001b[38;5;241m.\u001b[39mvrExperiment(mouseName, dateString, sessionid)\n\u001b[1;32m----> 7\u001b[0m redCell \u001b[38;5;241m=\u001b[39m \u001b[43msession\u001b[49m\u001b[38;5;241;43m.\u001b[39;49m\u001b[43mredCellProcessing\u001b[49m\u001b[43m(\u001b[49m\u001b[43mvrexp\u001b[49m\u001b[43m)\u001b[49m\n\u001b[0;32m      8\u001b[0m redSelection \u001b[38;5;241m=\u001b[39m rgui\u001b[38;5;241m.\u001b[39mredSelectionGUI(redCell, init_yzoom\u001b[38;5;241m=\u001b[39m\u001b[38;5;241m10\u001b[39m)\n",
      "File \u001b[1;32m~\\Documents\\GitHub\\vrAnalysis\\vrAnalysis\\session.py:801\u001b[0m, in \u001b[0;36mredCellProcessing.__init__\u001b[1;34m(self, umPerPixel, autoload, *inputs)\u001b[0m\n\u001b[0;32m    799\u001b[0m \u001b[38;5;28mself\u001b[39m\u001b[38;5;241m.\u001b[39mdata_loaded \u001b[38;5;241m=\u001b[39m \u001b[38;5;28;01mFalse\u001b[39;00m \u001b[38;5;66;03m# initialize to false in case data isn't loaded\u001b[39;00m\n\u001b[0;32m    800\u001b[0m \u001b[38;5;28;01mif\u001b[39;00m autoload:\n\u001b[1;32m--> 801\u001b[0m     \u001b[38;5;28;43mself\u001b[39;49m\u001b[38;5;241;43m.\u001b[39;49m\u001b[43mloadReferenceAndMasks\u001b[49m\u001b[43m(\u001b[49m\u001b[43m)\u001b[49m\n",
      "File \u001b[1;32m~\\Documents\\GitHub\\vrAnalysis\\vrAnalysis\\session.py:815\u001b[0m, in \u001b[0;36mredCellProcessing.loadReferenceAndMasks\u001b[1;34m(self)\u001b[0m\n\u001b[0;32m    812\u001b[0m \u001b[38;5;28;01mfor\u001b[39;00m ref \u001b[38;5;129;01min\u001b[39;00m \u001b[38;5;28mself\u001b[39m\u001b[38;5;241m.\u001b[39mreference: \u001b[38;5;28;01massert\u001b[39;00m (\u001b[38;5;28mself\u001b[39m\u001b[38;5;241m.\u001b[39mlx,\u001b[38;5;28mself\u001b[39m\u001b[38;5;241m.\u001b[39mly)\u001b[38;5;241m==\u001b[39mref\u001b[38;5;241m.\u001b[39mshape, \u001b[38;5;124m\"\u001b[39m\u001b[38;5;124mreference images do not all have the same shape\u001b[39m\u001b[38;5;124m\"\u001b[39m\n\u001b[0;32m    814\u001b[0m \u001b[38;5;66;03m# load masks (lam=weight of each pixel, xpix & ypix=index of each pixel in ROI mask)\u001b[39;00m\n\u001b[1;32m--> 815\u001b[0m stat \u001b[38;5;241m=\u001b[39m \u001b[38;5;28;43mself\u001b[39;49m\u001b[38;5;241;43m.\u001b[39;49m\u001b[43mloadS2P\u001b[49m\u001b[43m(\u001b[49m\u001b[38;5;124;43m'\u001b[39;49m\u001b[38;5;124;43mstat\u001b[39;49m\u001b[38;5;124;43m'\u001b[39;49m\u001b[43m)\u001b[49m\n\u001b[0;32m    816\u001b[0m \u001b[38;5;28mself\u001b[39m\u001b[38;5;241m.\u001b[39mlam \u001b[38;5;241m=\u001b[39m [s[\u001b[38;5;124m'\u001b[39m\u001b[38;5;124mlam\u001b[39m\u001b[38;5;124m'\u001b[39m] \u001b[38;5;28;01mfor\u001b[39;00m s \u001b[38;5;129;01min\u001b[39;00m stat]\n\u001b[0;32m    817\u001b[0m \u001b[38;5;28mself\u001b[39m\u001b[38;5;241m.\u001b[39mypix \u001b[38;5;241m=\u001b[39m [s[\u001b[38;5;124m'\u001b[39m\u001b[38;5;124mypix\u001b[39m\u001b[38;5;124m'\u001b[39m] \u001b[38;5;28;01mfor\u001b[39;00m s \u001b[38;5;129;01min\u001b[39;00m stat]\n",
      "File \u001b[1;32m~\\Documents\\GitHub\\vrAnalysis\\vrAnalysis\\session.py:202\u001b[0m, in \u001b[0;36mvrExperiment.loadS2P\u001b[1;34m(self, varName, concatenate, checkVariables)\u001b[0m\n\u001b[0;32m    199\u001b[0m     concatenate\u001b[38;5;241m=\u001b[39m\u001b[38;5;28;01mFalse\u001b[39;00m\n\u001b[0;32m    200\u001b[0m     checkVariables\u001b[38;5;241m=\u001b[39m\u001b[38;5;28;01mFalse\u001b[39;00m\n\u001b[1;32m--> 202\u001b[0m var \u001b[38;5;241m=\u001b[39m [np\u001b[38;5;241m.\u001b[39mload(\u001b[38;5;28mself\u001b[39m\u001b[38;5;241m.\u001b[39msuite2pPath()\u001b[38;5;241m/\u001b[39mplaneName\u001b[38;5;241m/\u001b[39m\u001b[38;5;124mf\u001b[39m\u001b[38;5;124m\"\u001b[39m\u001b[38;5;132;01m{\u001b[39;00mvarName\u001b[38;5;132;01m}\u001b[39;00m\u001b[38;5;124m.npy\u001b[39m\u001b[38;5;124m\"\u001b[39m,allow_pickle\u001b[38;5;241m=\u001b[39m\u001b[38;5;28;01mTrue\u001b[39;00m) \u001b[38;5;28;01mfor\u001b[39;00m planeName \u001b[38;5;129;01min\u001b[39;00m \u001b[38;5;28mself\u001b[39m\u001b[38;5;241m.\u001b[39mvalue[\u001b[38;5;124m'\u001b[39m\u001b[38;5;124mplaneNames\u001b[39m\u001b[38;5;124m'\u001b[39m]]\n\u001b[0;32m    203\u001b[0m \u001b[38;5;28;01mif\u001b[39;00m varName\u001b[38;5;241m==\u001b[39m\u001b[38;5;124m'\u001b[39m\u001b[38;5;124mops\u001b[39m\u001b[38;5;124m'\u001b[39m:\n\u001b[0;32m    204\u001b[0m     var \u001b[38;5;241m=\u001b[39m [cvar\u001b[38;5;241m.\u001b[39mitem() \u001b[38;5;28;01mfor\u001b[39;00m cvar \u001b[38;5;129;01min\u001b[39;00m var]\n",
      "File \u001b[1;32m~\\Documents\\GitHub\\vrAnalysis\\vrAnalysis\\session.py:202\u001b[0m, in \u001b[0;36m<listcomp>\u001b[1;34m(.0)\u001b[0m\n\u001b[0;32m    199\u001b[0m     concatenate\u001b[38;5;241m=\u001b[39m\u001b[38;5;28;01mFalse\u001b[39;00m\n\u001b[0;32m    200\u001b[0m     checkVariables\u001b[38;5;241m=\u001b[39m\u001b[38;5;28;01mFalse\u001b[39;00m\n\u001b[1;32m--> 202\u001b[0m var \u001b[38;5;241m=\u001b[39m [\u001b[43mnp\u001b[49m\u001b[38;5;241;43m.\u001b[39;49m\u001b[43mload\u001b[49m\u001b[43m(\u001b[49m\u001b[38;5;28;43mself\u001b[39;49m\u001b[38;5;241;43m.\u001b[39;49m\u001b[43msuite2pPath\u001b[49m\u001b[43m(\u001b[49m\u001b[43m)\u001b[49m\u001b[38;5;241;43m/\u001b[39;49m\u001b[43mplaneName\u001b[49m\u001b[38;5;241;43m/\u001b[39;49m\u001b[38;5;124;43mf\u001b[39;49m\u001b[38;5;124;43m\"\u001b[39;49m\u001b[38;5;132;43;01m{\u001b[39;49;00m\u001b[43mvarName\u001b[49m\u001b[38;5;132;43;01m}\u001b[39;49;00m\u001b[38;5;124;43m.npy\u001b[39;49m\u001b[38;5;124;43m\"\u001b[39;49m\u001b[43m,\u001b[49m\u001b[43mallow_pickle\u001b[49m\u001b[38;5;241;43m=\u001b[39;49m\u001b[38;5;28;43;01mTrue\u001b[39;49;00m\u001b[43m)\u001b[49m \u001b[38;5;28;01mfor\u001b[39;00m planeName \u001b[38;5;129;01min\u001b[39;00m \u001b[38;5;28mself\u001b[39m\u001b[38;5;241m.\u001b[39mvalue[\u001b[38;5;124m'\u001b[39m\u001b[38;5;124mplaneNames\u001b[39m\u001b[38;5;124m'\u001b[39m]]\n\u001b[0;32m    203\u001b[0m \u001b[38;5;28;01mif\u001b[39;00m varName\u001b[38;5;241m==\u001b[39m\u001b[38;5;124m'\u001b[39m\u001b[38;5;124mops\u001b[39m\u001b[38;5;124m'\u001b[39m:\n\u001b[0;32m    204\u001b[0m     var \u001b[38;5;241m=\u001b[39m [cvar\u001b[38;5;241m.\u001b[39mitem() \u001b[38;5;28;01mfor\u001b[39;00m cvar \u001b[38;5;129;01min\u001b[39;00m var]\n",
      "File \u001b[1;32m~\\AppData\\Local\\miniforge3\\envs\\vrAnalysis\\lib\\site-packages\\numpy\\lib\\npyio.py:405\u001b[0m, in \u001b[0;36mload\u001b[1;34m(file, mmap_mode, allow_pickle, fix_imports, encoding, max_header_size)\u001b[0m\n\u001b[0;32m    403\u001b[0m     own_fid \u001b[38;5;241m=\u001b[39m \u001b[38;5;28;01mFalse\u001b[39;00m\n\u001b[0;32m    404\u001b[0m \u001b[38;5;28;01melse\u001b[39;00m:\n\u001b[1;32m--> 405\u001b[0m     fid \u001b[38;5;241m=\u001b[39m stack\u001b[38;5;241m.\u001b[39menter_context(\u001b[38;5;28;43mopen\u001b[39;49m\u001b[43m(\u001b[49m\u001b[43mos_fspath\u001b[49m\u001b[43m(\u001b[49m\u001b[43mfile\u001b[49m\u001b[43m)\u001b[49m\u001b[43m,\u001b[49m\u001b[43m \u001b[49m\u001b[38;5;124;43m\"\u001b[39;49m\u001b[38;5;124;43mrb\u001b[39;49m\u001b[38;5;124;43m\"\u001b[39;49m\u001b[43m)\u001b[49m)\n\u001b[0;32m    406\u001b[0m     own_fid \u001b[38;5;241m=\u001b[39m \u001b[38;5;28;01mTrue\u001b[39;00m\n\u001b[0;32m    408\u001b[0m \u001b[38;5;66;03m# Code to distinguish from NumPy binary files and pickles.\u001b[39;00m\n",
      "\u001b[1;31mFileNotFoundError\u001b[0m: [Errno 2] No such file or directory: 'C:\\\\Users\\\\andrew\\\\Documents\\\\localData\\\\ATL012\\\\2023-01-25\\\\701\\\\suite2p\\\\plane2\\\\stat.npy'"
     ]
    }
   ],
   "source": [
    "mouseName = 'ATL012'\n",
    "dateString = '2023-01-25'\n",
    "sessionid = '701'\n",
    "\n",
    "# Load registered vrExperiment\n",
    "vrexp = session.vrExperiment(mouseName, dateString, sessionid)\n",
    "redCell = session.redCellProcessing(vrexp)\n",
    "redSelection = rgui.redSelectionGUI(redCell, init_yzoom=10)"
   ]
  },
  {
   "cell_type": "code",
   "execution_count": 9,
   "id": "4f901be0-76e7-4a73-a03f-05d09d171ef1",
   "metadata": {
    "tags": []
   },
   "outputs": [
    {
     "name": "stdout",
     "output_type": "stream",
     "text": [
      "ATL012/2023-01-18/701\n",
      "ATL012/2023-01-20/702\n",
      "ATL012/2023-01-23/701\n",
      "ATL012/2023-01-24/703\n",
      "ATL012/2023-01-26/702\n",
      "ATL012/2023-01-27/701\n",
      "ATL012/2023-01-30/702\n",
      "ATL012/2023-02-01/701\n",
      "ATL012/2023-02-02/701\n",
      "ATL012/2023-02-06/701\n",
      "ATL012/2023-02-07/701\n",
      "ATL012/2023-02-08/702\n",
      "ATL012/2023-02-09/701\n",
      "ATL012/2023-02-14/703\n",
      "ATL012/2023-02-15/701\n",
      "ATL012/2023-02-16/701\n",
      "ATL012/2023-02-20/701\n",
      "ATL012/2023-02-21/702\n",
      "ATL012/2023-02-22/701\n",
      "ATL012/2023-02-27/701\n",
      "ATL012/2023-02-28/701\n",
      "ATL012/2023-03-01/701\n",
      "ATL012/2023-03-03/701\n"
     ]
    }
   ],
   "source": [
    "for ses in vrdb.iterSessions(mouseName='ATL012', redCellQC=True):\n",
    "    print(ses.sessionPrint())"
   ]
  },
  {
   "cell_type": "code",
   "execution_count": 10,
   "id": "d5f35637-ec92-4fac-a9b4-00e55aad9a39",
   "metadata": {
    "tags": []
   },
   "outputs": [
    {
     "name": "stdout",
     "output_type": "stream",
     "text": [
      "                  session           S2P  DotProduct       Pearson PhaseCorrelation\n",
      "0   ATL012/2023-01-18/701  [0.618, nan]  [nan, nan]  [0.206, nan]      [0.06, nan]\n",
      "1   ATL012/2023-01-20/702  [0.618, nan]  [nan, nan]  [0.206, nan]      [0.06, nan]\n",
      "2   ATL012/2023-01-23/701  [0.618, nan]  [nan, nan]  [0.206, nan]      [0.06, nan]\n",
      "3   ATL012/2023-01-24/703  [0.618, nan]  [nan, nan]  [0.206, nan]      [0.06, nan]\n",
      "4   ATL012/2023-01-26/702  [0.618, nan]  [nan, nan]  [0.206, nan]      [0.06, nan]\n",
      "5   ATL012/2023-01-27/701  [0.618, nan]  [nan, nan]  [0.206, nan]      [0.06, nan]\n",
      "6   ATL012/2023-01-30/702  [0.618, nan]  [nan, nan]  [0.206, nan]      [0.06, nan]\n",
      "7   ATL012/2023-02-01/701  [0.618, nan]  [nan, nan]  [0.206, nan]      [0.06, nan]\n",
      "8   ATL012/2023-02-02/701  [0.618, nan]  [nan, nan]  [0.206, nan]      [0.06, nan]\n",
      "9   ATL012/2023-02-06/701  [0.618, nan]  [nan, nan]  [0.206, nan]      [0.06, nan]\n",
      "10  ATL012/2023-02-07/701  [0.618, nan]  [nan, nan]  [0.206, nan]      [0.06, nan]\n",
      "11  ATL012/2023-02-08/702  [0.618, nan]  [nan, nan]  [0.206, nan]      [0.06, nan]\n",
      "12  ATL012/2023-02-09/701  [0.618, nan]  [nan, nan]  [0.206, nan]      [0.06, nan]\n",
      "13  ATL012/2023-02-14/703  [0.618, nan]  [nan, nan]  [0.206, nan]      [0.06, nan]\n",
      "14  ATL012/2023-02-15/701  [0.618, nan]  [nan, nan]  [0.206, nan]      [0.06, nan]\n",
      "15  ATL012/2023-02-16/701  [0.618, nan]  [nan, nan]  [0.206, nan]      [0.06, nan]\n",
      "16  ATL012/2023-02-20/701  [0.618, nan]  [nan, nan]  [0.206, nan]      [0.06, nan]\n",
      "17  ATL012/2023-02-21/702  [0.618, nan]  [nan, nan]  [0.206, nan]      [0.06, nan]\n",
      "18  ATL012/2023-02-22/701  [0.618, nan]  [nan, nan]  [0.206, nan]      [0.06, nan]\n",
      "19  ATL012/2023-02-27/701  [0.618, nan]  [nan, nan]  [0.206, nan]      [0.06, nan]\n",
      "20  ATL012/2023-02-28/701  [0.618, nan]  [nan, nan]  [0.206, nan]      [0.06, nan]\n",
      "21  ATL012/2023-03-01/701  [0.618, nan]  [nan, nan]  [0.206, nan]      [0.06, nan]\n",
      "22  ATL012/2023-03-03/701  [0.618, nan]  [nan, nan]  [0.206, nan]      [0.06, nan]\n"
     ]
    }
   ],
   "source": [
    "import pandas as pd\n",
    "pd.options.display.width = 1000\n",
    "rgui.compareFeatureCutoffs(*vrdb.iterSessions(mouseName='ATL012', redCellQC=True), roundValue=3)"
   ]
  },
  {
   "cell_type": "code",
   "execution_count": 50,
   "id": "6bdb0cc2-ac8a-4834-b25c-266f5c6334ca",
   "metadata": {
    "tags": []
   },
   "outputs": [
    {
     "name": "stdout",
     "output_type": "stream",
     "text": [
      "Red Cell curation choices are saved for session ATL012/2023-01-18/701\n",
      "Red Cell curation choices are saved for session ATL012/2023-01-20/701\n",
      "Red Cell curation choices are saved for session ATL012/2023-01-20/702\n",
      "Red Cell curation choices are saved for session ATL012/2023-01-23/701\n",
      "Red Cell curation choices are saved for session ATL012/2023-01-24/703\n",
      "Red Cell curation choices are saved for session ATL012/2023-01-25/701\n",
      "Red Cell curation choices are saved for session ATL012/2023-01-26/702\n",
      "Red Cell curation choices are saved for session ATL012/2023-01-27/701\n",
      "Red Cell curation choices are saved for session ATL012/2023-01-30/702\n",
      "Red Cell curation choices are saved for session ATL012/2023-02-01/701\n",
      "Red Cell curation choices are saved for session ATL012/2023-02-02/701\n",
      "Red Cell curation choices are saved for session ATL012/2023-02-06/701\n",
      "Red Cell curation choices are saved for session ATL012/2023-02-08/702\n",
      "Red Cell curation choices are saved for session ATL012/2023-02-09/701\n",
      "Red Cell curation choices are saved for session ATL012/2023-02-14/703\n",
      "Red Cell curation choices are saved for session ATL012/2023-02-15/701\n",
      "Red Cell curation choices are saved for session ATL012/2023-02-16/701\n",
      "Red Cell curation choices are saved for session ATL012/2023-02-20/701\n",
      "Red Cell curation choices are saved for session ATL012/2023-02-21/702\n",
      "Red Cell curation choices are saved for session ATL012/2023-02-22/701\n",
      "Red Cell curation choices are saved for session ATL012/2023-02-27/701\n",
      "Red Cell curation choices are saved for session ATL012/2023-02-28/701\n",
      "Red Cell curation choices are saved for session ATL012/2023-03-01/701\n",
      "Red Cell curation choices are saved for session ATL012/2023-03-03/701\n"
     ]
    }
   ],
   "source": [
    "copyCriterionFrom = session.redCellProcessing('ATL012','2023-02-07','701', autoload=False)\n",
    "for ses in vrdb.iterSessionNeedRedCellQC(mouseName='ATL012'):\n",
    "    redCell = session.redCellProcessing(ses, autoload=False)\n",
    "    redCell.updateFromSession(copyCriterionFrom)"
   ]
  },
  {
   "cell_type": "code",
   "execution_count": null,
   "id": "200535a4-5743-4436-8fb7-f531a394cb48",
   "metadata": {},
   "outputs": [],
   "source": []
  },
  {
   "cell_type": "code",
   "execution_count": null,
   "id": "0b741463-adb1-4eeb-b370-93250fe49f23",
   "metadata": {},
   "outputs": [],
   "source": []
  },
  {
   "cell_type": "code",
   "execution_count": null,
   "id": "fc7d2f8b-941e-40b2-a663-0426ae60eb34",
   "metadata": {},
   "outputs": [],
   "source": []
  },
  {
   "cell_type": "code",
   "execution_count": null,
   "id": "e6e516c2-4a44-4b19-b670-93b76f652293",
   "metadata": {
    "tags": []
   },
   "outputs": [],
   "source": [
    "# next step in analysis: \n",
    "# Also - using a cutoff point by the hitch in that distribution might ignore true matches that are soma-dendritic, but maybe I can use ROICaT or npix to avoid those? "
   ]
  },
  {
   "cell_type": "code",
   "execution_count": null,
   "id": "52c5d9e3-d707-46d7-a6c5-365486b38ba5",
   "metadata": {},
   "outputs": [],
   "source": [
    "# okay, looking at these clusters, it seems like there is some serious oversplitting going on in suite2p. That sucks!\n",
    "# I think I should probably try to rerun some suite2p sessions....\n",
    "# But for now I'll probably do a \"merge\" procedure... and I honestly think I'll have to overwrite or add a new \"modified\" suite2p folder with the stat and ops files"
   ]
  },
  {
   "cell_type": "code",
   "execution_count": null,
   "id": "74ea1b9e-9968-44c7-acc5-4f49f97466cd",
   "metadata": {},
   "outputs": [],
   "source": []
  },
  {
   "cell_type": "code",
   "execution_count": null,
   "id": "4ab059c6-f80c-40b6-9110-ac5b8ffc89ad",
   "metadata": {},
   "outputs": [],
   "source": []
  }
 ],
 "metadata": {
  "kernelspec": {
   "display_name": "Python 3 (ipykernel)",
   "language": "python",
   "name": "python3"
  },
  "language_info": {
   "codemirror_mode": {
    "name": "ipython",
    "version": 3
   },
   "file_extension": ".py",
   "mimetype": "text/x-python",
   "name": "python",
   "nbconvert_exporter": "python",
   "pygments_lexer": "ipython3",
   "version": "3.9.18"
  }
 },
 "nbformat": 4,
 "nbformat_minor": 5
}
