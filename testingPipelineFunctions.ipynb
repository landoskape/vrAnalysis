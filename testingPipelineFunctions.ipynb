{
 "cells": [
  {
   "cell_type": "code",
   "execution_count": 1,
   "id": "62912f35-2f40-4d93-872e-439919754adf",
   "metadata": {},
   "outputs": [],
   "source": [
    "%load_ext autoreload\n",
    "%autoreload 2\n",
    "\n",
    "import numpy as np\n",
    "import numba as nb\n",
    "import scipy as sp\n",
    "import matplotlib.pyplot as plt\n",
    "from tqdm import tqdm\n",
    "import time\n",
    "from pathlib import Path\n",
    "import vrExperiment as vre\n",
    "import vrFunctions as vrf\n",
    "import basicFunctions as bf"
   ]
  },
  {
   "cell_type": "code",
   "execution_count": 2,
   "id": "4154d480-638c-4069-904e-8780ead630b3",
   "metadata": {
    "tags": []
   },
   "outputs": [],
   "source": [
    "# Code Needs: (eventually)\n",
    "# - ROICaT index alignment tools (will wait until I have data processed and loaded from multiple sessions)"
   ]
  },
  {
   "cell_type": "code",
   "execution_count": 3,
   "id": "ff1fdad1-13d1-4122-9bc4-26d40074c4c3",
   "metadata": {
    "tags": []
   },
   "outputs": [],
   "source": [
    "# Immediate next steps for programming work:\n",
    "\n",
    "# - red cell processing functions\n",
    "# - database development\n"
   ]
  },
  {
   "cell_type": "code",
   "execution_count": null,
   "id": "5938680f-3628-4820-a286-284c5aa46480",
   "metadata": {},
   "outputs": [],
   "source": []
  },
  {
   "cell_type": "code",
   "execution_count": 12,
   "id": "f45d7378-73d4-48bd-846b-25d61d39c9f6",
   "metadata": {
    "tags": []
   },
   "outputs": [],
   "source": [
    "vrFileName = vrReg.sessionPath() / f\"{vrReg.dateString}_{vrReg.session}_{vrReg.mouseName}_VRBehavior_trial.mat\" # vrBehavior output file name\n",
    "# vrFile = sp.io.loadmat(vrFileName,simplify_cells=True) #,simplify_cells=True) # load matlab structure\n",
    "vrFile = sp.io.loadmat(vrFileName,struct_as_record=False,squeeze_me=True)\n"
   ]
  },
  {
   "cell_type": "code",
   "execution_count": 14,
   "id": "17d99257-cfe5-47e3-a470-a2068a9962ab",
   "metadata": {
    "tags": []
   },
   "outputs": [
    {
     "data": {
      "text/plain": [
       "<scipy.io.matlab._mio5_params.mat_struct at 0x23ae51f1c10>"
      ]
     },
     "execution_count": 14,
     "metadata": {},
     "output_type": "execute_result"
    }
   ],
   "source": [
    "vrFile['expInfo']"
   ]
  },
  {
   "cell_type": "code",
   "execution_count": 11,
   "id": "b546e957-03cd-48ca-98e8-70c1db297f51",
   "metadata": {},
   "outputs": [
    {
     "name": "stdout",
     "output_type": "stream",
     "text": [
      "In session: ATL022/2023-03-24/701, failed to load vrFile as a simplified_cell due to the 'getEnvName' anonymous function. Continuing with struct_as_record==False and squeeze_me==True\n",
      "The problem can be solved by adding a boolean statement to _has_struct(elem) in scipy.io.matlab._mio5.py, make sure (elem.ndim>0) before asking for elem[0]\n",
      "In session: ATL022/2023-03-24/701, vrFile['rigInfo'] does not exist. Assuming default settings for B2!\n"
     ]
    },
    {
     "ename": "TypeError",
     "evalue": "'mat_struct' object is not subscriptable",
     "output_type": "error",
     "traceback": [
      "\u001b[1;31m---------------------------------------------------------------------------\u001b[0m",
      "\u001b[1;31mTypeError\u001b[0m                                 Traceback (most recent call last)",
      "Cell \u001b[1;32mIn[11], line 6\u001b[0m\n\u001b[0;32m      4\u001b[0m session \u001b[38;5;241m=\u001b[39m \u001b[38;5;124m'\u001b[39m\u001b[38;5;124m701\u001b[39m\u001b[38;5;124m'\u001b[39m\n\u001b[0;32m      5\u001b[0m vrReg \u001b[38;5;241m=\u001b[39m vre\u001b[38;5;241m.\u001b[39mvrExperimentRegistration(mouseName, dateString, session, oasis\u001b[38;5;241m=\u001b[39m\u001b[38;5;28;01mFalse\u001b[39;00m, imaging\u001b[38;5;241m=\u001b[39m\u001b[38;5;28;01mTrue\u001b[39;00m)\n\u001b[1;32m----> 6\u001b[0m \u001b[43mvrReg\u001b[49m\u001b[38;5;241;43m.\u001b[39;49m\u001b[43mdoPreprocessing\u001b[49m\u001b[43m(\u001b[49m\u001b[43m)\u001b[49m\n\u001b[0;32m      7\u001b[0m vrReg\u001b[38;5;241m.\u001b[39msaveParams()\n\u001b[0;32m      8\u001b[0m \u001b[38;5;28mprint\u001b[39m(vrReg\u001b[38;5;241m.\u001b[39msessionPath())\n",
      "File \u001b[1;32m~\\Documents\\GitHub\\vrAnalysis\\vrExperiment.py:209\u001b[0m, in \u001b[0;36mvrExperimentRegistration.doPreprocessing\u001b[1;34m(self)\u001b[0m\n\u001b[0;32m    207\u001b[0m \u001b[38;5;28;01mdef\u001b[39;00m \u001b[38;5;21mdoPreprocessing\u001b[39m(\u001b[38;5;28mself\u001b[39m):\n\u001b[0;32m    208\u001b[0m     \u001b[38;5;28mself\u001b[39m\u001b[38;5;241m.\u001b[39mprocessTimeline()\n\u001b[1;32m--> 209\u001b[0m     \u001b[38;5;28;43mself\u001b[39;49m\u001b[38;5;241;43m.\u001b[39;49m\u001b[43mprocessBehavior\u001b[49m\u001b[43m(\u001b[49m\u001b[43m)\u001b[49m\n\u001b[0;32m    210\u001b[0m     \u001b[38;5;28mself\u001b[39m\u001b[38;5;241m.\u001b[39mprocessImaging()\n\u001b[0;32m    211\u001b[0m     \u001b[38;5;28mself\u001b[39m\u001b[38;5;241m.\u001b[39mprocessFacecam()\n",
      "File \u001b[1;32m~\\Documents\\GitHub\\vrAnalysis\\vrExperiment.py:298\u001b[0m, in \u001b[0;36mvrExperimentRegistration.processBehavior\u001b[1;34m(self)\u001b[0m\n\u001b[0;32m    296\u001b[0m expInfo \u001b[38;5;241m=\u001b[39m \u001b[38;5;28mself\u001b[39m\u001b[38;5;241m.\u001b[39mvrFile[\u001b[38;5;124m'\u001b[39m\u001b[38;5;124mexpInfo\u001b[39m\u001b[38;5;124m'\u001b[39m]\n\u001b[0;32m    297\u001b[0m trialInfo \u001b[38;5;241m=\u001b[39m \u001b[38;5;28mself\u001b[39m\u001b[38;5;241m.\u001b[39mvrFile[\u001b[38;5;124m'\u001b[39m\u001b[38;5;124mtrialInfo\u001b[39m\u001b[38;5;124m'\u001b[39m]\n\u001b[1;32m--> 298\u001b[0m \u001b[38;5;28mself\u001b[39m\u001b[38;5;241m.\u001b[39mregisterValue(\u001b[38;5;124m'\u001b[39m\u001b[38;5;124mnumTrials\u001b[39m\u001b[38;5;124m'\u001b[39m,np\u001b[38;5;241m.\u001b[39msum(\u001b[43mtrialInfo\u001b[49m\u001b[43m[\u001b[49m\u001b[38;5;124;43m'\u001b[39;49m\u001b[38;5;124;43mtrialIdx\u001b[39;49m\u001b[38;5;124;43m'\u001b[39;49m\u001b[43m]\u001b[49m\u001b[38;5;241m>\u001b[39m\u001b[38;5;241m0\u001b[39m))\n\u001b[0;32m    299\u001b[0m \u001b[38;5;28mprint\u001b[39m(\u001b[38;5;124m\"\u001b[39m\u001b[38;5;124mSelf.value[\u001b[39m\u001b[38;5;124m'\u001b[39m\u001b[38;5;124mnumTrials\u001b[39m\u001b[38;5;124m'\u001b[39m\u001b[38;5;124m] set by trialInfo[\u001b[39m\u001b[38;5;124m'\u001b[39m\u001b[38;5;124mtrialIdx\u001b[39m\u001b[38;5;124m'\u001b[39m\u001b[38;5;124m]>0, but this might not be right. There might be smarter ways to determine which trials are \u001b[39m\u001b[38;5;124m'\u001b[39m\u001b[38;5;124mgood\u001b[39m\u001b[38;5;124m'\u001b[39m\u001b[38;5;124m trials...\u001b[39m\u001b[38;5;124m\"\u001b[39m)\n\u001b[0;32m    301\u001b[0m \u001b[38;5;66;03m# trialInfo contains sparse matrices of size (maxTrials, maxSamples), where numTrials<maxTrials and numSamples<maxSamples\u001b[39;00m\n",
      "\u001b[1;31mTypeError\u001b[0m: 'mat_struct' object is not subscriptable"
     ]
    }
   ],
   "source": [
    "# vrExperiment registration and preprocessing \n",
    "mouseName = 'ATL022'\n",
    "dateString = '2023-03-24'\n",
    "session = '701'\n",
    "vrReg = vre.vrExperimentRegistration(mouseName, dateString, session, oasis=False, imaging=True)\n",
    "vrReg.doPreprocessing()\n",
    "vrReg.saveParams()\n",
    "print(vrReg.sessionPath())\n",
    "del vrReg"
   ]
  },
  {
   "cell_type": "code",
   "execution_count": 56,
   "id": "3e43e9b6-b917-433c-a1a5-3064da5894f8",
   "metadata": {
    "tags": []
   },
   "outputs": [],
   "source": [
    "mouseName = 'ATL022'\n",
    "dateString = '2023-03-24'\n",
    "session = '701'\n",
    "vrexp = vre.vrExperiment(mouseName, dateString, session)"
   ]
  },
  {
   "cell_type": "code",
   "execution_count": 60,
   "id": "e7e2036c-4509-41bc-96ff-1d1337ffbb29",
   "metadata": {
    "tags": []
   },
   "outputs": [
    {
     "name": "stdout",
     "output_type": "stream",
     "text": [
      "Lick map should be included in 'getBehaviorMaps' eventually!\n",
      "CPU times: total: 5.78 s\n",
      "Wall time: 506 ms\n"
     ]
    }
   ],
   "source": [
    "%%time\n",
    "omap, smap, distvec = vrf.getBehaviorMaps(vrexp,speedThreshold=5) # produce smoothed occupancy and speed maps, along with the distance bins used to create them\n",
    "frameTrialIdx, framePosition, frameSpeed = vrexp.getFrameBehavior() # convert behavioral data into timeframe of spiking data\n",
    "spkmap = vrf.getSpikeMap(vrexp, frameTrialIdx, framePosition, frameSpeed, distvec, omap, standardizeSpks=False, doSmoothing=0) # produce the spkmap \n",
    "idxFullTrials = np.all(~np.isnan(omap),axis=1) # find out which trials the mouse explored the whole environment\n",
    "relmse, relcor = vrf.measureReliability(spkmap[:,idxFullTrials], numcv=3) # measure reliability of spiking\n",
    "spInfo = vrf.measureSpatialInformation(omap[idxFullTrials], spkmap[:,idxFullTrials]) # measure spatial information of spiking"
   ]
  },
  {
   "cell_type": "code",
   "execution_count": null,
   "id": "74c8cbaf-88b4-4f9e-91d7-93a86611a3cb",
   "metadata": {},
   "outputs": [],
   "source": []
  },
  {
   "cell_type": "code",
   "execution_count": null,
   "id": "daf436d5-2ebd-455f-97ae-a3f96b3559df",
   "metadata": {},
   "outputs": [],
   "source": []
  },
  {
   "cell_type": "code",
   "execution_count": null,
   "id": "ea6fbb63-de23-46e0-abc3-50ebe58e4fcb",
   "metadata": {},
   "outputs": [],
   "source": []
  },
  {
   "cell_type": "code",
   "execution_count": null,
   "id": "9c24bf01-6fe2-4e0f-a8e4-811544129fa8",
   "metadata": {},
   "outputs": [],
   "source": []
  },
  {
   "cell_type": "code",
   "execution_count": null,
   "id": "7ae3726d-5eb8-43b7-9ed5-d8a7700bd3dd",
   "metadata": {},
   "outputs": [],
   "source": []
  },
  {
   "cell_type": "code",
   "execution_count": null,
   "id": "6b406696-1864-4c0e-9318-f9e3b3b8ce43",
   "metadata": {},
   "outputs": [],
   "source": []
  }
 ],
 "metadata": {
  "kernelspec": {
   "display_name": "Python 3 (ipykernel)",
   "language": "python",
   "name": "python3"
  },
  "language_info": {
   "codemirror_mode": {
    "name": "ipython",
    "version": 3
   },
   "file_extension": ".py",
   "mimetype": "text/x-python",
   "name": "python",
   "nbconvert_exporter": "python",
   "pygments_lexer": "ipython3",
   "version": "3.9.16"
  }
 },
 "nbformat": 4,
 "nbformat_minor": 5
}
