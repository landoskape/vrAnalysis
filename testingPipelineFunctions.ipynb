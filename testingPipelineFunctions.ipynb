{
 "cells": [
  {
   "cell_type": "code",
   "execution_count": 2,
   "id": "62912f35-2f40-4d93-872e-439919754adf",
   "metadata": {},
   "outputs": [],
   "source": [
    "%reload_ext autoreload\n",
    "%autoreload 2\n",
    "\n",
    "%gui qt\n",
    "\n",
    "import time\n",
    "from tqdm import tqdm\n",
    "from pathlib import Path\n",
    "import numpy as np\n",
    "import numba as nb\n",
    "import scipy as sp\n",
    "import matplotlib as mpl\n",
    "import matplotlib.pyplot as plt\n",
    "\n",
    "import vrExperiment as vre\n",
    "import vrFunctions as vrf\n",
    "import basicFunctions as bf\n",
    "import fileManagement as fm\n",
    "import dbManagement as dbm\n",
    "\n",
    "import redCellGUI as rgui"
   ]
  },
  {
   "cell_type": "code",
   "execution_count": 6,
   "id": "ff1fdad1-13d1-4122-9bc4-26d40074c4c3",
   "metadata": {
    "tags": []
   },
   "outputs": [],
   "source": [
    "# Immediate next steps for programming work:\n",
    "# - ROICaT index alignment tools"
   ]
  },
  {
   "cell_type": "code",
   "execution_count": 2,
   "id": "3232a21b-e0f7-43c3-99a2-d2b4b67d3530",
   "metadata": {
    "tags": []
   },
   "outputs": [],
   "source": [
    "mouseName = 'CR_Hippocannula6'\n",
    "dateString = '2022-09-05'\n",
    "session = '701'\n",
    "# vrExperiment registration and preprocessing \n",
    "# vrReg = vre.vrExperimentRegistration(mouseName, dateString, session, oasis=False, imaging=True)\n",
    "# vrReg.processTimeline()\n",
    "# vrReg.processImaging()\n",
    "# vrReg.processRedCells()\n",
    "# vrReg.saveParams()\n",
    "# print(vrReg.sessionPath())\n",
    "# del vrReg"
   ]
  },
  {
   "cell_type": "code",
   "execution_count": 2,
   "id": "25a83aa6-c0d5-437e-8c17-09712c235f5d",
   "metadata": {
    "tags": []
   },
   "outputs": [],
   "source": [
    "mouseName = 'ATL020'\n",
    "dateString = '2023-05-04'\n",
    "session = '702'"
   ]
  },
  {
   "cell_type": "code",
   "execution_count": 28,
   "id": "b546e957-03cd-48ca-98e8-70c1db297f51",
   "metadata": {},
   "outputs": [
    {
     "name": "stdout",
     "output_type": "stream",
     "text": [
      "In session: ATL020/2023-05-04/702, vrFile['rigInfo'] does not exist. Assuming default settings for B2!\n",
      "Self.value['numTrials'] set by trialInfo.trialIdx>0, but this might not be right. There might be smarter ways to determine which trials are 'good' trials...\n",
      "frame2time had 2 more than suite2p output. This happens sometimes. I don't like it. I think it's because scanimage sends a TTL before starting the frame\n",
      "ATL020/2023-05-04/702:spks shapes: [1233, 421, 1105, 1915, 1341]\n",
      "ATL020/2023-05-04/702:roiPerPlane: [1233, 421, 1105, 1915, 1341]\n",
      "ATL020/2023-05-04/702:F shapes: [1233, 421, 1105, 1915, 1341]\n",
      "ATL020/2023-05-04/702:roiPerPlane: [1233, 421, 1105, 1915, 1341]\n",
      "ATL020/2023-05-04/702:Fneu shapes: [1233, 421, 1105, 1915, 1341]\n",
      "ATL020/2023-05-04/702:roiPerPlane: [1233, 421, 1105, 1915, 1341]\n",
      "ATL020/2023-05-04/702:redcell shapes: [1233, 421, 1105, 1915, 1341]\n",
      "ATL020/2023-05-04/702:roiPerPlane: [1233, 421, 1105, 1915, 1341]\n",
      "ATL020/2023-05-04/702:iscell shapes: [1233, 421, 1105, 1915, 1341]\n",
      "ATL020/2023-05-04/702:roiPerPlane: [1233, 421, 1105, 1915, 1341]\n",
      "ATL020/2023-05-04/702:stat shapes: [1233, 421, 1105, 1915, 1341]\n",
      "ATL020/2023-05-04/702:roiPerPlane: [1233, 421, 1105, 1915, 1341]\n",
      "ATL020/2023-05-04/702:stat shapes: [1233, 421, 1105, 1915, 1341]\n",
      "ATL020/2023-05-04/702:roiPerPlane: [1233, 421, 1105, 1915, 1341]\n",
      "Computing red cell features for ATL020/2023-05-04/702... (usually takes 10-20 seconds)\n",
      "Facecam preprocessing has not been coded yet!\n",
      "C:\\Users\\andrew\\Documents\\localData\\ATL020\\2023-05-04\\702\n"
     ]
    }
   ],
   "source": [
    "# vrExperiment registration and preprocessing \n",
    "vrReg = vre.vrExperimentRegistration(mouseName, dateString, session, oasis=False, imaging=True)\n",
    "vrReg.doPreprocessing()\n",
    "vrReg.saveParams()\n",
    "print(vrReg.sessionPath())\n",
    "del vrReg"
   ]
  },
  {
   "cell_type": "code",
   "execution_count": 5,
   "id": "3e43e9b6-b917-433c-a1a5-3064da5894f8",
   "metadata": {
    "tags": []
   },
   "outputs": [],
   "source": [
    "# Load registered vrExperiment\n",
    "vrexp = vre.vrExperiment(mouseName, dateString, session)"
   ]
  },
  {
   "cell_type": "code",
   "execution_count": 12,
   "id": "412a5e98-fb7f-44d0-a895-15c81b097fed",
   "metadata": {
    "tags": []
   },
   "outputs": [
    {
     "data": {
      "text/plain": [
       "array([0., 1.], dtype=float32)"
      ]
     },
     "execution_count": 12,
     "metadata": {},
     "output_type": "execute_result"
    }
   ],
   "source": [
    "iscell = vrexp.loadS2P('iscell', concatenate=True, checkVariables=False)\n",
    "redcell = vrexp.loadS2P('redcell', concatenate=True, checkVariables=False)\n",
    "np.unique(redcell[:,0])"
   ]
  },
  {
   "cell_type": "code",
   "execution_count": 8,
   "id": "e7e2036c-4509-41bc-96ff-1d1337ffbb29",
   "metadata": {
    "tags": []
   },
   "outputs": [
    {
     "name": "stdout",
     "output_type": "stream",
     "text": [
      "CPU times: total: 1.14 s\n",
      "Wall time: 476 ms\n"
     ]
    }
   ],
   "source": [
    "%%time\n",
    "speedThreshold = 5\n",
    "omap, smap, lickmap, distvec = vrf.getBehaviorMaps(vrexp,speedThreshold=speedThreshold) # produce smoothed occupancy and speed maps, along with the distance bins used to create them\n",
    "frameTrialIdx, framePosition, frameSpeed = vrexp.getFrameBehavior() # convert behavioral data into timeframe of spiking data\n",
    "spkmap = vrf.getSpikeMap(vrexp, frameTrialIdx, framePosition, frameSpeed, distvec, omap, speedThreshold=speedThreshold, standardizeSpks=False, doSmoothing=0) # produce the spkmap \n",
    "idxFullTrials = np.all(~np.isnan(omap),axis=1) # find out which trials the mouse explored the whole environment\n",
    "relmse, relcor = vrf.measureReliability(spkmap[:,idxFullTrials], numcv=3) # measure reliability of spiking\n",
    "spInfo = vrf.measureSpatialInformation(omap[idxFullTrials], spkmap[:,idxFullTrials]) # measure spatial information of spiking"
   ]
  },
  {
   "cell_type": "code",
   "execution_count": 9,
   "id": "7b8e9865-e913-4dfc-a697-8079801b3c8b",
   "metadata": {},
   "outputs": [],
   "source": [
    "# Code block for opening redSelectionGUI for a vrExperiment\n",
    "vrexp = vre.vrExperiment(mouseName, dateString, session)\n",
    "redCell = vre.redCellProcessing(vrexp)\n",
    "redSelection = rgui.redSelectionGUI(redCell)"
   ]
  },
  {
   "cell_type": "code",
   "execution_count": null,
   "id": "487110b4-4e2c-4b24-bea9-56d03b2b06d5",
   "metadata": {},
   "outputs": [],
   "source": []
  },
  {
   "cell_type": "code",
   "execution_count": 107,
   "id": "e0053925-bb55-4674-b14f-625529c7e63f",
   "metadata": {},
   "outputs": [
    {
     "name": "stdout",
     "output_type": "stream",
     "text": [
      "\\\\zaru.cortexlab.net\\Subjects\\ATL027\\2023-08-10\\701\n",
      "C:\\Users\\andrew\\Documents\\localData\\ATL027\\2023-08-10\\701\n"
     ]
    }
   ],
   "source": [
    "# fm.getCopyString('ATL027')\n",
    "fm.s2pTargets('ATL027','2023-08-10','701')"
   ]
  },
  {
   "cell_type": "code",
   "execution_count": null,
   "id": "f4a9d23b-6be9-49b7-8a3e-d75671ec4b5f",
   "metadata": {},
   "outputs": [],
   "source": []
  },
  {
   "cell_type": "code",
   "execution_count": 35,
   "id": "f30964c8-6bcd-48c5-8fa7-98516554ba2a",
   "metadata": {
    "tags": []
   },
   "outputs": [],
   "source": [
    "# Database Requirements: \n",
    "# ---------------------\n",
    "# GUI: db manager\n",
    "# - show full database -\n",
    "# - show selected entries (like for example entries with imaging but no suite2p) -\n",
    "#                --> It would be sweet to make this work where there are some defaults, but then there is also a \"filter command\" option which you type and goes as the input to the filtering\n",
    "# - click on entry and do things:\n",
    "#                --> open file explorer to that session\n",
    "#                --> do suite2p\n",
    "#                --> do red cell management\n",
    "# - update table data? \n",
    "# ---------------------\n",
    "# Operational Commands: \n",
    "# - Automatically do suite2p \n",
    "# - Check if registration was done before a suite2p update\n",
    "# - Find way to determine if a suite2p file was updated after the folder was made (indicating that QC was done afterwards) -- so registration should be rerun for imaging data at least\n",
    "#    -- check if \"iscell\" is the only thing that was done after registration. In this case, just update the iscell oneData\n",
    "# ---------------------\n",
    "# - Add new entry GUI!!!\n",
    "# ---------------------\n",
    "# - Check session folders to see if new session is present that isn't registered in the database? \n",
    "# ---------------------\n",
    "# vrExperimentUpdates: \n",
    "# -- if edited iscell, will need to re-register the number of ROIs per plane (in \"self.values\") and reprocess imaging data!\n",
    "# ---------------------\n",
    "# vrExperimentRegistration\n",
    "# -- if error, then note there was an error and append an explanation...!!!"
   ]
  },
  {
   "cell_type": "code",
   "execution_count": null,
   "id": "88a2ff30-7560-4ee3-a6b8-974b11730d45",
   "metadata": {},
   "outputs": [],
   "source": []
  },
  {
   "cell_type": "code",
   "execution_count": null,
   "id": "2a8a86fa-58b9-40cf-963e-472b94801ef3",
   "metadata": {},
   "outputs": [],
   "source": []
  },
  {
   "cell_type": "code",
   "execution_count": null,
   "id": "822f659f-42a9-4309-b504-e86db85472ed",
   "metadata": {},
   "outputs": [],
   "source": []
  },
  {
   "cell_type": "code",
   "execution_count": 45,
   "id": "ad20480b-a366-499d-9545-b443c6d33b2b",
   "metadata": {},
   "outputs": [],
   "source": [
    "vrdb = dbm.vrDatabase()"
   ]
  },
  {
   "cell_type": "code",
   "execution_count": 54,
   "id": "ca9634aa-0fc8-40ad-afff-ef0c91aed00c",
   "metadata": {
    "tags": []
   },
   "outputs": [
    {
     "name": "stdout",
     "output_type": "stream",
     "text": [
      "Session ATL012/2023-01-30/702 had error: ATL012/2023-01-30/702 is missing stat in at least one suite2p folder!\n",
      "Session ATL012/2023-02-17/701 had error: [Errno 13] Permission denied\n",
      "Session ATL012/2023-03-01/701 had error: cannot reshape array of size 0 into shape (2219,14149)\n",
      "Session ATL020/2023-03-24/701 had error: cannot reshape array of size 0 into shape (2928,14499)\n",
      "Session ATL020/2023-04-11/701 had error: Cannot fix mismatches when suite2p data is missing!\n",
      "Session ATL022/2023-03-29/701 had error: cannot reshape array of size 0 into shape (3858,15931)\n",
      "Session ATL022/2023-04-05/702 had error: cannot reshape array of size 0 into shape (3278,16867)\n",
      "Session ATL022/2023-04-14/701 had error: In session ATL022/2023-04-14/701, first flips in trial are not all down!!\n",
      "Session ATL022/2023-04-17/701 had error: In session ATL022/2023-04-17/701, first flips in trial are not all down!!\n",
      "Session ATL022/2023-04-21/701 had error: unbound method set.intersection() needs an argument\n",
      "Session ATL022/2023-05-02/701 had error: Reader needs file name or open file-like object\n",
      "Session ATL028/2023-08-04/701 had error: Cannot fix mismatches when suite2p data is missing!\n"
     ]
    }
   ],
   "source": [
    "vrdb.printRegistrationErrors()"
   ]
  },
  {
   "cell_type": "code",
   "execution_count": 52,
   "id": "f49ef816-654b-46a9-8f94-3894e307b002",
   "metadata": {
    "tags": []
   },
   "outputs": [
    {
     "name": "stdout",
     "output_type": "stream",
     "text": [
      "In registerSessions, 'vrBehaviorVersion' is an important input that hasn't been coded yet!\n",
      "\n",
      "Performing vrExperiment preprocessing for session: ATL012/2023-01-30/702\n",
      "Cleared oneData from session: ATL012/2023-01-30/702\n",
      "In session: ATL012/2023-01-30/702, vrFile['rigInfo'] does not exist. Assuming default settings for B2!\n",
      "Self.value['numTrials'] set by trialInfo.trialIdx>0, but this might not be right. There might be smarter ways to determine which trials are 'good' trials...\n",
      "The following npy files are present in some but not all plane folders within session ATL012/2023-01-30/702: ['Fneu', 'stat', 'F_chan2', 'iscell', 'Fneu_chan2', 'F', 'redcell', 'spks']\n",
      "Each plane folder contains the following npy files: ['ops']\n",
      "The following exception was raised when trying to preprocess session: ATL012/2023-01-30/702. Clearing all oneData.\n",
      "Cleared oneData from session: ATL012/2023-01-30/702\n"
     ]
    },
    {
     "data": {
      "text/markdown": [
       "<font color=red>Last traceback: [<FrameSummary file C:\\Users\\andrew\\Documents\\GitHub\\vrAnalysis\\vrExperiment.py, line 527 in processImaging>]</font>"
      ],
      "text/plain": [
       "<IPython.core.display.Markdown object>"
      ]
     },
     "metadata": {},
     "output_type": "display_data"
    },
    {
     "data": {
      "text/markdown": [
       "<font color=red>Exception: ATL012/2023-01-30/702 is missing stat in at least one suite2p folder!</font>"
      ],
      "text/plain": [
       "<IPython.core.display.Markdown object>"
      ]
     },
     "metadata": {},
     "output_type": "display_data"
    },
    {
     "name": "stdout",
     "output_type": "stream",
     "text": [
      "\n",
      "Performing vrExperiment preprocessing for session: ATL012/2023-02-17/701\n",
      "Cleared oneData from session: ATL012/2023-02-17/701\n",
      "The following exception was raised when trying to preprocess session: ATL012/2023-02-17/701. Clearing all oneData.\n",
      "Cleared oneData from session: ATL012/2023-02-17/701\n"
     ]
    },
    {
     "data": {
      "text/markdown": [
       "<font color=red>Last traceback: [<FrameSummary file C:\\Users\\andrew\\miniconda3\\envs\\vrAnalysis\\lib\\site-packages\\scipy\\io\\matlab\\_miobase.py, line 230 in _get_matfile_version>]</font>"
      ],
      "text/plain": [
       "<IPython.core.display.Markdown object>"
      ]
     },
     "metadata": {},
     "output_type": "display_data"
    },
    {
     "data": {
      "text/markdown": [
       "<font color=red>Exception: [Errno 13] Permission denied</font>"
      ],
      "text/plain": [
       "<IPython.core.display.Markdown object>"
      ]
     },
     "metadata": {},
     "output_type": "display_data"
    },
    {
     "name": "stdout",
     "output_type": "stream",
     "text": [
      "\n",
      "Performing vrExperiment preprocessing for session: ATL012/2023-03-01/701\n",
      "Cleared oneData from session: ATL012/2023-03-01/701\n",
      "In session: ATL012/2023-03-01/701, vrFile['rigInfo'] does not exist. Assuming default settings for B2!\n",
      "Self.value['numTrials'] set by trialInfo.trialIdx>0, but this might not be right. There might be smarter ways to determine which trials are 'good' trials...\n",
      "The following exception was raised when trying to preprocess session: ATL012/2023-03-01/701. Clearing all oneData.\n",
      "Cleared oneData from session: ATL012/2023-03-01/701\n"
     ]
    },
    {
     "data": {
      "text/markdown": [
       "<font color=red>Last traceback: [<FrameSummary file C:\\Users\\andrew\\miniconda3\\envs\\vrAnalysis\\lib\\site-packages\\numpy\\lib\\format.py, line 831 in read_array>]</font>"
      ],
      "text/plain": [
       "<IPython.core.display.Markdown object>"
      ]
     },
     "metadata": {},
     "output_type": "display_data"
    },
    {
     "data": {
      "text/markdown": [
       "<font color=red>Exception: cannot reshape array of size 0 into shape (2219,14149)</font>"
      ],
      "text/plain": [
       "<IPython.core.display.Markdown object>"
      ]
     },
     "metadata": {},
     "output_type": "display_data"
    },
    {
     "name": "stdout",
     "output_type": "stream",
     "text": [
      "\n",
      "Performing vrExperiment preprocessing for session: ATL020/2023-03-24/701\n",
      "Cleared oneData from session: ATL020/2023-03-24/701\n",
      "In session: ATL020/2023-03-24/701, vrFile['rigInfo'] does not exist. Assuming default settings for B2!\n",
      "Self.value['numTrials'] set by trialInfo.trialIdx>0, but this might not be right. There might be smarter ways to determine which trials are 'good' trials...\n",
      "The following exception was raised when trying to preprocess session: ATL020/2023-03-24/701. Clearing all oneData.\n",
      "Cleared oneData from session: ATL020/2023-03-24/701\n"
     ]
    },
    {
     "data": {
      "text/markdown": [
       "<font color=red>Last traceback: [<FrameSummary file C:\\Users\\andrew\\miniconda3\\envs\\vrAnalysis\\lib\\site-packages\\numpy\\lib\\format.py, line 831 in read_array>]</font>"
      ],
      "text/plain": [
       "<IPython.core.display.Markdown object>"
      ]
     },
     "metadata": {},
     "output_type": "display_data"
    },
    {
     "data": {
      "text/markdown": [
       "<font color=red>Exception: cannot reshape array of size 0 into shape (2928,14499)</font>"
      ],
      "text/plain": [
       "<IPython.core.display.Markdown object>"
      ]
     },
     "metadata": {},
     "output_type": "display_data"
    },
    {
     "name": "stdout",
     "output_type": "stream",
     "text": [
      "\n",
      "Performing vrExperiment preprocessing for session: ATL020/2023-04-11/701\n",
      "Cleared oneData from session: ATL020/2023-04-11/701\n",
      "In session: ATL020/2023-04-11/701, vrFile['rigInfo'] does not exist. Assuming default settings for B2!\n",
      "Self.value['numTrials'] set by trialInfo.trialIdx>0, but this might not be right. There might be smarter ways to determine which trials are 'good' trials...\n",
      "In session ATL020/2023-04-11/701, frameSamples has 17751 elements, but 14000 frames were reported in suite2p. Cannot resolve.\n",
      "The following exception was raised when trying to preprocess session: ATL020/2023-04-11/701. Clearing all oneData.\n",
      "Cleared oneData from session: ATL020/2023-04-11/701\n"
     ]
    },
    {
     "data": {
      "text/markdown": [
       "<font color=red>Last traceback: [<FrameSummary file C:\\Users\\andrew\\Documents\\GitHub\\vrAnalysis\\vrExperiment.py, line 564 in processImaging>]</font>"
      ],
      "text/plain": [
       "<IPython.core.display.Markdown object>"
      ]
     },
     "metadata": {},
     "output_type": "display_data"
    },
    {
     "data": {
      "text/markdown": [
       "<font color=red>Exception: Cannot fix mismatches when suite2p data is missing!</font>"
      ],
      "text/plain": [
       "<IPython.core.display.Markdown object>"
      ]
     },
     "metadata": {},
     "output_type": "display_data"
    },
    {
     "name": "stdout",
     "output_type": "stream",
     "text": [
      "\n",
      "Performing vrExperiment preprocessing for session: ATL022/2023-03-29/701\n",
      "Cleared oneData from session: ATL022/2023-03-29/701\n",
      "In session: ATL022/2023-03-29/701, vrFile['rigInfo'] does not exist. Assuming default settings for B2!\n",
      "Self.value['numTrials'] set by trialInfo.trialIdx>0, but this might not be right. There might be smarter ways to determine which trials are 'good' trials...\n",
      "The following exception was raised when trying to preprocess session: ATL022/2023-03-29/701. Clearing all oneData.\n",
      "Cleared oneData from session: ATL022/2023-03-29/701\n"
     ]
    },
    {
     "data": {
      "text/markdown": [
       "<font color=red>Last traceback: [<FrameSummary file C:\\Users\\andrew\\miniconda3\\envs\\vrAnalysis\\lib\\site-packages\\numpy\\lib\\format.py, line 831 in read_array>]</font>"
      ],
      "text/plain": [
       "<IPython.core.display.Markdown object>"
      ]
     },
     "metadata": {},
     "output_type": "display_data"
    },
    {
     "data": {
      "text/markdown": [
       "<font color=red>Exception: cannot reshape array of size 0 into shape (3858,15931)</font>"
      ],
      "text/plain": [
       "<IPython.core.display.Markdown object>"
      ]
     },
     "metadata": {},
     "output_type": "display_data"
    },
    {
     "name": "stdout",
     "output_type": "stream",
     "text": [
      "\n",
      "Performing vrExperiment preprocessing for session: ATL022/2023-04-05/702\n",
      "Cleared oneData from session: ATL022/2023-04-05/702\n",
      "In session: ATL022/2023-04-05/702, vrFile['rigInfo'] does not exist. Assuming default settings for B2!\n",
      "Self.value['numTrials'] set by trialInfo.trialIdx>0, but this might not be right. There might be smarter ways to determine which trials are 'good' trials...\n",
      "frame2time had 2 more than suite2p output. This happens sometimes. I don't like it. I think it's because scanimage sends a TTL before starting the frame\n",
      "The following exception was raised when trying to preprocess session: ATL022/2023-04-05/702. Clearing all oneData.\n",
      "Cleared oneData from session: ATL022/2023-04-05/702\n"
     ]
    },
    {
     "data": {
      "text/markdown": [
       "<font color=red>Last traceback: [<FrameSummary file C:\\Users\\andrew\\miniconda3\\envs\\vrAnalysis\\lib\\site-packages\\numpy\\lib\\format.py, line 831 in read_array>]</font>"
      ],
      "text/plain": [
       "<IPython.core.display.Markdown object>"
      ]
     },
     "metadata": {},
     "output_type": "display_data"
    },
    {
     "data": {
      "text/markdown": [
       "<font color=red>Exception: cannot reshape array of size 0 into shape (3278,16867)</font>"
      ],
      "text/plain": [
       "<IPython.core.display.Markdown object>"
      ]
     },
     "metadata": {},
     "output_type": "display_data"
    },
    {
     "name": "stdout",
     "output_type": "stream",
     "text": [
      "\n",
      "Performing vrExperiment preprocessing for session: ATL022/2023-04-14/701\n",
      "Cleared oneData from session: ATL022/2023-04-14/701\n",
      "In session: ATL022/2023-04-14/701, vrFile['rigInfo'] does not exist. Assuming default settings for B2!\n",
      "The following exception was raised when trying to preprocess session: ATL022/2023-04-14/701. Clearing all oneData.\n",
      "Cleared oneData from session: ATL022/2023-04-14/701\n"
     ]
    },
    {
     "data": {
      "text/markdown": [
       "<font color=red>Last traceback: [<FrameSummary file C:\\Users\\andrew\\Documents\\GitHub\\vrAnalysis\\vrExperiment.py, line 403 in processTimeline>]</font>"
      ],
      "text/plain": [
       "<IPython.core.display.Markdown object>"
      ]
     },
     "metadata": {},
     "output_type": "display_data"
    },
    {
     "data": {
      "text/markdown": [
       "<font color=red>Exception: In session ATL022/2023-04-14/701, first flips in trial are not all down!!</font>"
      ],
      "text/plain": [
       "<IPython.core.display.Markdown object>"
      ]
     },
     "metadata": {},
     "output_type": "display_data"
    },
    {
     "name": "stdout",
     "output_type": "stream",
     "text": [
      "\n",
      "Performing vrExperiment preprocessing for session: ATL022/2023-04-17/701\n",
      "Cleared oneData from session: ATL022/2023-04-17/701\n",
      "In session: ATL022/2023-04-17/701, vrFile['rigInfo'] does not exist. Assuming default settings for B2!\n",
      "The following exception was raised when trying to preprocess session: ATL022/2023-04-17/701. Clearing all oneData.\n",
      "Cleared oneData from session: ATL022/2023-04-17/701\n"
     ]
    },
    {
     "data": {
      "text/markdown": [
       "<font color=red>Last traceback: [<FrameSummary file C:\\Users\\andrew\\Documents\\GitHub\\vrAnalysis\\vrExperiment.py, line 403 in processTimeline>]</font>"
      ],
      "text/plain": [
       "<IPython.core.display.Markdown object>"
      ]
     },
     "metadata": {},
     "output_type": "display_data"
    },
    {
     "data": {
      "text/markdown": [
       "<font color=red>Exception: In session ATL022/2023-04-17/701, first flips in trial are not all down!!</font>"
      ],
      "text/plain": [
       "<IPython.core.display.Markdown object>"
      ]
     },
     "metadata": {},
     "output_type": "display_data"
    },
    {
     "name": "stdout",
     "output_type": "stream",
     "text": [
      "\n",
      "Performing vrExperiment preprocessing for session: ATL022/2023-04-21/701\n",
      "Cleared oneData from session: ATL022/2023-04-21/701\n",
      "In session: ATL022/2023-04-21/701, vrFile['rigInfo'] does not exist. Assuming default settings for B2!\n",
      "Self.value['numTrials'] set by trialInfo.trialIdx>0, but this might not be right. There might be smarter ways to determine which trials are 'good' trials...\n",
      "The following exception was raised when trying to preprocess session: ATL022/2023-04-21/701. Clearing all oneData.\n",
      "Cleared oneData from session: ATL022/2023-04-21/701\n"
     ]
    },
    {
     "data": {
      "text/markdown": [
       "<font color=red>Last traceback: [<FrameSummary file C:\\Users\\andrew\\Documents\\GitHub\\vrAnalysis\\vrExperiment.py, line 519 in processImaging>]</font>"
      ],
      "text/plain": [
       "<IPython.core.display.Markdown object>"
      ]
     },
     "metadata": {},
     "output_type": "display_data"
    },
    {
     "data": {
      "text/markdown": [
       "<font color=red>Exception: unbound method set.intersection() needs an argument</font>"
      ],
      "text/plain": [
       "<IPython.core.display.Markdown object>"
      ]
     },
     "metadata": {},
     "output_type": "display_data"
    },
    {
     "name": "stdout",
     "output_type": "stream",
     "text": [
      "\n",
      "Performing vrExperiment preprocessing for session: ATL022/2023-05-02/701\n",
      "Cleared oneData from session: ATL022/2023-05-02/701\n",
      "The following exception was raised when trying to preprocess session: ATL022/2023-05-02/701. Clearing all oneData.\n",
      "Cleared oneData from session: ATL022/2023-05-02/701\n"
     ]
    },
    {
     "data": {
      "text/markdown": [
       "<font color=red>Last traceback: [<FrameSummary file C:\\Users\\andrew\\miniconda3\\envs\\vrAnalysis\\lib\\site-packages\\scipy\\io\\matlab\\_mio.py, line 47 in _open_file>]</font>"
      ],
      "text/plain": [
       "<IPython.core.display.Markdown object>"
      ]
     },
     "metadata": {},
     "output_type": "display_data"
    },
    {
     "data": {
      "text/markdown": [
       "<font color=red>Exception: Reader needs file name or open file-like object</font>"
      ],
      "text/plain": [
       "<IPython.core.display.Markdown object>"
      ]
     },
     "metadata": {},
     "output_type": "display_data"
    },
    {
     "name": "stdout",
     "output_type": "stream",
     "text": [
      "\n",
      "Performing vrExperiment preprocessing for session: ATL028/2023-08-04/701\n",
      "Cleared oneData from session: ATL028/2023-08-04/701\n",
      "Self.value['numTrials'] set by trialInfo.trialIdx>0, but this might not be right. There might be smarter ways to determine which trials are 'good' trials...\n",
      "In session ATL028/2023-08-04/701, frameSamples has 21562 elements, but 21200 frames were reported in suite2p. Cannot resolve.\n",
      "The following exception was raised when trying to preprocess session: ATL028/2023-08-04/701. Clearing all oneData.\n",
      "Cleared oneData from session: ATL028/2023-08-04/701\n"
     ]
    },
    {
     "data": {
      "text/markdown": [
       "<font color=red>Last traceback: [<FrameSummary file C:\\Users\\andrew\\Documents\\GitHub\\vrAnalysis\\vrExperiment.py, line 564 in processImaging>]</font>"
      ],
      "text/plain": [
       "<IPython.core.display.Markdown object>"
      ]
     },
     "metadata": {},
     "output_type": "display_data"
    },
    {
     "data": {
      "text/markdown": [
       "<font color=red>Exception: Cannot fix mismatches when suite2p data is missing!</font>"
      ],
      "text/plain": [
       "<IPython.core.display.Markdown object>"
      ]
     },
     "metadata": {},
     "output_type": "display_data"
    }
   ],
   "source": [
    "vrdb.registerSessions()"
   ]
  },
  {
   "cell_type": "code",
   "execution_count": 1,
   "id": "99e37536-67d8-43bb-89bf-a6e9149216a0",
   "metadata": {
    "tags": []
   },
   "outputs": [
    {
     "name": "stdout",
     "output_type": "stream",
     "text": [
      "\\\\zaru.cortexlab.net\\Subjects\\ATL022\\2023-04-21\\701\n",
      "C:\\Users\\andrew\\Documents\\localData\\ATL022\\2023-04-21\\701\n"
     ]
    }
   ],
   "source": [
    "import fileManagement as fm\n",
    "fm.s2pTargets('ATL022','2023-04-21','701')"
   ]
  },
  {
   "cell_type": "code",
   "execution_count": null,
   "id": "3ea3c5f2-5c72-4d3f-be61-6402ee83bbe0",
   "metadata": {},
   "outputs": [],
   "source": []
  },
  {
   "cell_type": "code",
   "execution_count": null,
   "id": "c43f715f-906a-40c3-87ba-f956308ce209",
   "metadata": {
    "tags": []
   },
   "outputs": [],
   "source": [
    "vrreg = vre.vrExperimentRegistration('ATL027', '2023-08-02', '701')"
   ]
  },
  {
   "cell_type": "code",
   "execution_count": 43,
   "id": "c8d12859-2bfc-47fc-a9a5-d0f06744f80c",
   "metadata": {
    "tags": []
   },
   "outputs": [],
   "source": [
    "vrreg.processTimeline()"
   ]
  },
  {
   "cell_type": "code",
   "execution_count": null,
   "id": "3c19f276-b2e3-4799-8721-49b4198e3c60",
   "metadata": {},
   "outputs": [],
   "source": []
  },
  {
   "cell_type": "code",
   "execution_count": null,
   "id": "0542e3a8-1748-4e96-a709-ae13912abb35",
   "metadata": {},
   "outputs": [],
   "source": []
  },
  {
   "cell_type": "code",
   "execution_count": null,
   "id": "a64ec66c-8cd5-4ec1-8fcb-8454722d6596",
   "metadata": {},
   "outputs": [],
   "source": []
  },
  {
   "cell_type": "code",
   "execution_count": null,
   "id": "9d5d2a26-b004-4927-96ef-ec3f0f3660fc",
   "metadata": {},
   "outputs": [],
   "source": []
  },
  {
   "cell_type": "code",
   "execution_count": null,
   "id": "6a9cabe1-763b-4d89-b805-68c549627da6",
   "metadata": {},
   "outputs": [],
   "source": [
    "# vrdb.updateSuite2pDateTime()\n",
    "# vrdb.checkS2P(withDatabaseUpdate=True)"
   ]
  },
  {
   "cell_type": "code",
   "execution_count": null,
   "id": "139ee52e-cd8d-4e26-a605-84042e778577",
   "metadata": {},
   "outputs": [
    {
     "name": "stdout",
     "output_type": "stream",
     "text": [
      "Database indicates that suite2p has been run but not QC'd: ATL012/2023-01-18/701\n",
      "Database indicates that suite2p has been run but not QC'd: ATL012/2023-01-20/701\n",
      "Database indicates that suite2p has been run but not QC'd: ATL012/2023-01-20/702\n",
      "Database indicates that suite2p has been run but not QC'd: ATL012/2023-01-23/701\n",
      "Database indicates that suite2p has been run but not QC'd: ATL012/2023-01-24/703\n",
      "Database indicates that suite2p has been run but not QC'd: ATL012/2023-01-25/701\n",
      "Database indicates that suite2p has been run but not QC'd: ATL012/2023-01-26/702\n",
      "Database indicates that suite2p has been run but not QC'd: ATL012/2023-01-27/701\n",
      "Database indicates that suite2p has been run but not QC'd: ATL012/2023-01-30/702\n",
      "Database indicates that suite2p has been run but not QC'd: ATL012/2023-02-01/701\n",
      "Database indicates that suite2p has been run but not QC'd: ATL012/2023-02-02/701\n",
      "Database indicates that suite2p has been run but not QC'd: ATL012/2023-02-06/701\n",
      "Database indicates that suite2p has been run but not QC'd: ATL012/2023-02-07/701\n",
      "Database indicates that suite2p has been run but not QC'd: ATL012/2023-02-08/702\n",
      "Database indicates that suite2p has been run but not QC'd: ATL012/2023-02-09/701\n",
      "Database indicates that suite2p has been run but not QC'd: ATL012/2023-02-14/703\n",
      "Database indicates that suite2p has been run but not QC'd: ATL012/2023-02-15/701\n",
      "Database indicates that suite2p has been run but not QC'd: ATL012/2023-02-16/701\n",
      "Database indicates that suite2p has been run but not QC'd: ATL012/2023-02-17/701\n",
      "Database indicates that suite2p has been run but not QC'd: ATL012/2023-02-20/701\n",
      "Database indicates that suite2p has been run but not QC'd: ATL012/2023-02-21/702\n",
      "Database indicates that suite2p has been run but not QC'd: ATL012/2023-02-22/701\n",
      "Database indicates that suite2p has been run but not QC'd: ATL012/2023-02-27/701\n",
      "Database indicates that suite2p has been run but not QC'd: ATL012/2023-02-28/701\n",
      "Database indicates that suite2p has been run but not QC'd: ATL012/2023-03-01/701\n",
      "Database indicates that suite2p has been run but not QC'd: ATL012/2023-03-03/701\n",
      "Database indicates that suite2p has been run but not QC'd: ATL020/2023-03-22/701\n",
      "Database indicates that suite2p has been run but not QC'd: ATL020/2023-03-24/701\n",
      "Database indicates that suite2p has been run but not QC'd: ATL020/2023-03-27/701\n",
      "Database indicates that suite2p has been run but not QC'd: ATL020/2023-03-29/701\n",
      "Database indicates that suite2p has been run but not QC'd: ATL020/2023-03-31/701\n",
      "Database indicates that suite2p has been run but not QC'd: ATL020/2023-04-04/701\n",
      "Database indicates that suite2p has been run but not QC'd: ATL020/2023-04-05/701\n",
      "Database indicates that suite2p has been run but not QC'd: ATL020/2023-04-06/701\n",
      "Database indicates that suite2p has been run but not QC'd: ATL020/2023-04-11/701\n",
      "Database indicates that suite2p has been run but not QC'd: ATL020/2023-05-03/701\n",
      "Database indicates that suite2p has been run but not QC'd: ATL020/2023-05-04/702\n",
      "Database indicates that suite2p has been run but not QC'd: ATL022/2023-03-24/701\n",
      "Database indicates that suite2p has been run but not QC'd: ATL022/2023-03-27/701\n",
      "Database indicates that suite2p has been run but not QC'd: ATL022/2023-03-29/701\n",
      "Database indicates that suite2p has been run but not QC'd: ATL022/2023-03-31/703\n",
      "Database indicates that suite2p has been run but not QC'd: ATL022/2023-04-04/701\n",
      "Database indicates that suite2p has been run but not QC'd: ATL022/2023-04-05/702\n",
      "Database indicates that suite2p has been run but not QC'd: ATL022/2023-04-06/701\n",
      "Database indicates that suite2p has been run but not QC'd: ATL022/2023-04-11/701\n",
      "Database indicates that suite2p has been run but not QC'd: ATL022/2023-04-12/701\n",
      "Database indicates that suite2p has been run but not QC'd: ATL022/2023-04-14/701\n",
      "Database indicates that suite2p has been run but not QC'd: ATL022/2023-04-17/701\n",
      "Database indicates that suite2p has been run but not QC'd: ATL022/2023-04-18/701\n",
      "Database indicates that suite2p has been run but not QC'd: ATL022/2023-04-19/701\n",
      "Database indicates that suite2p has been run but not QC'd: ATL022/2023-04-21/701\n",
      "Database indicates that suite2p has been run but not QC'd: ATL022/2023-04-24/701\n",
      "Database indicates that suite2p has been run but not QC'd: ATL022/2023-04-25/702\n",
      "Database indicates that suite2p has been run but not QC'd: ATL022/2023-04-26/701\n",
      "Database indicates that suite2p has been run but not QC'd: ATL022/2023-04-27/702\n",
      "Database indicates that suite2p has been run but not QC'd: ATL022/2023-04-28/701\n",
      "Database indicates that suite2p has been run but not QC'd: ATL022/2023-05-03/701\n",
      "Database indicates that suite2p has been run but not QC'd: ATL022/2023-05-04/701\n",
      "Database indicates that suite2p has been run but not QC'd: ATL023/2023-04-28/702\n",
      "Database indicates that suite2p has been run but not QC'd: ATL023/2023-05-03/701\n",
      "Database indicates that suite2p has been run but not QC'd: ATL023/2023-05-04/701\n",
      "Database indicates that suite2p has been run but not QC'd: ATL027/2023-07-19/701\n",
      "Database indicates that suite2p has been run but not QC'd: ATL027/2023-07-20/701\n",
      "Database indicates that suite2p has been run but not QC'd: ATL027/2023-07-21/701\n",
      "Database indicates that suite2p has been run but not QC'd: ATL027/2023-07-24/701\n",
      "Database indicates that suite2p has been run but not QC'd: ATL027/2023-07-25/701\n",
      "Database indicates that suite2p has been run but not QC'd: ATL027/2023-07-26/701\n",
      "Database indicates that suite2p has been run but not QC'd: ATL027/2023-07-27/701\n",
      "Database indicates that suite2p has been run but not QC'd: ATL027/2023-07-28/701\n",
      "Database indicates that suite2p has been run but not QC'd: ATL027/2023-08-01/701\n",
      "Database indicates that suite2p has been run but not QC'd: ATL027/2023-08-02/701\n",
      "Database indicates that suite2p has been run but not QC'd: ATL027/2023-08-04/702\n",
      "Database indicates that suite2p has been run but not QC'd: ATL027/2023-08-07/701\n",
      "Database indicates that suite2p has been run but not QC'd: ATL027/2023-08-08/701\n",
      "Database indicates that suite2p has been run but not QC'd: ATL027/2023-08-09/701\n",
      "Database indicates that suite2p has been run but not QC'd: ATL028/2023-08-01/701\n",
      "Database indicates that suite2p has been run but not QC'd: ATL028/2023-08-02/701\n",
      "Database indicates that suite2p has been run but not QC'd: ATL028/2023-08-03/701\n",
      "Database indicates that suite2p has been run but not QC'd: ATL028/2023-08-04/701\n",
      "Database indicates that suite2p has been run but not QC'd: ATL028/2023-08-07/701\n",
      "Database indicates that suite2p has been run but not QC'd: ATL028/2023-08-08/701\n"
     ]
    }
   ],
   "source": [
    "vrdb.printRequiresS2P(needsQC=True)"
   ]
  },
  {
   "cell_type": "code",
   "execution_count": null,
   "id": "daf65579-feff-42ea-891d-d24b84c6e31f",
   "metadata": {},
   "outputs": [],
   "source": []
  },
  {
   "cell_type": "code",
   "execution_count": null,
   "id": "cf00d5cc-0c51-4131-8fa7-0b41fee847ee",
   "metadata": {},
   "outputs": [],
   "source": []
  },
  {
   "cell_type": "code",
   "execution_count": null,
   "id": "e74ede15-aa25-48f7-9c56-8dd6c8c37aac",
   "metadata": {},
   "outputs": [],
   "source": []
  },
  {
   "cell_type": "code",
   "execution_count": 3,
   "id": "6fd49cac-88a2-4033-9401-756430d58e0c",
   "metadata": {},
   "outputs": [],
   "source": [
    "import PyQt5"
   ]
  },
  {
   "cell_type": "code",
   "execution_count": 6,
   "id": "42bebd24-0a20-4043-9bbe-d3883c67bcf7",
   "metadata": {},
   "outputs": [
    {
     "data": {
      "text/plain": [
       "['QtCore',\n",
       " 'QtGui',\n",
       " 'QtSvg',\n",
       " 'QtWidgets',\n",
       " '__builtins__',\n",
       " '__cached__',\n",
       " '__doc__',\n",
       " '__file__',\n",
       " '__loader__',\n",
       " '__name__',\n",
       " '__package__',\n",
       " '__path__',\n",
       " '__spec__',\n",
       " 'sip']"
      ]
     },
     "execution_count": 6,
     "metadata": {},
     "output_type": "execute_result"
    }
   ],
   "source": [
    "dir(PyQt5)"
   ]
  },
  {
   "cell_type": "code",
   "execution_count": null,
   "id": "6117e751-1de5-4e8c-b19d-0b81098b53c6",
   "metadata": {},
   "outputs": [],
   "source": []
  }
 ],
 "metadata": {
  "kernelspec": {
   "display_name": "Python 3 (ipykernel)",
   "language": "python",
   "name": "python3"
  },
  "language_info": {
   "codemirror_mode": {
    "name": "ipython",
    "version": 3
   },
   "file_extension": ".py",
   "mimetype": "text/x-python",
   "name": "python",
   "nbconvert_exporter": "python",
   "pygments_lexer": "ipython3",
   "version": "3.9.17"
  }
 },
 "nbformat": 4,
 "nbformat_minor": 5
}
