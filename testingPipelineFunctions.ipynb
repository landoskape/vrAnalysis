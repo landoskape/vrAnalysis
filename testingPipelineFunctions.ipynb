{
 "cells": [
  {
   "cell_type": "code",
   "execution_count": 1,
   "id": "62912f35-2f40-4d93-872e-439919754adf",
   "metadata": {},
   "outputs": [],
   "source": [
    "%reload_ext autoreload\n",
    "%autoreload 2\n",
    "\n",
    "# %gui qt\n",
    "\n",
    "import time\n",
    "from tqdm import tqdm\n",
    "from pathlib import Path\n",
    "import numpy as np\n",
    "import numba as nb\n",
    "import scipy as sp\n",
    "import matplotlib as mpl\n",
    "import matplotlib.pyplot as plt\n",
    "\n",
    "import vrExperiment as vre\n",
    "import vrFunctions as vrf\n",
    "import basicFunctions as bf\n",
    "import fileManagement as fm\n",
    "import dbManagement as dbm\n",
    "\n",
    "# import redCellGUI as rgui"
   ]
  },
  {
   "cell_type": "code",
   "execution_count": 6,
   "id": "ff1fdad1-13d1-4122-9bc4-26d40074c4c3",
   "metadata": {
    "tags": []
   },
   "outputs": [],
   "source": [
    "# Immediate next steps for programming work:\n",
    "# - ROICaT index alignment tools"
   ]
  },
  {
   "cell_type": "code",
   "execution_count": 2,
   "id": "3232a21b-e0f7-43c3-99a2-d2b4b67d3530",
   "metadata": {
    "tags": []
   },
   "outputs": [],
   "source": [
    "mouseName = 'CR_Hippocannula6'\n",
    "dateString = '2022-09-05'\n",
    "session = '701'\n",
    "# vrExperiment registration and preprocessing \n",
    "# vrReg = vre.vrExperimentRegistration(mouseName, dateString, session, oasis=False, imaging=True)\n",
    "# vrReg.processTimeline()\n",
    "# vrReg.processImaging()\n",
    "# vrReg.processRedCells()\n",
    "# vrReg.saveParams()\n",
    "# print(vrReg.sessionPath())\n",
    "# del vrReg"
   ]
  },
  {
   "cell_type": "code",
   "execution_count": 2,
   "id": "25a83aa6-c0d5-437e-8c17-09712c235f5d",
   "metadata": {
    "tags": []
   },
   "outputs": [],
   "source": [
    "mouseName = 'ATL020'\n",
    "dateString = '2023-05-04'\n",
    "session = '702'"
   ]
  },
  {
   "cell_type": "code",
   "execution_count": 28,
   "id": "b546e957-03cd-48ca-98e8-70c1db297f51",
   "metadata": {},
   "outputs": [
    {
     "name": "stdout",
     "output_type": "stream",
     "text": [
      "In session: ATL020/2023-05-04/702, vrFile['rigInfo'] does not exist. Assuming default settings for B2!\n",
      "Self.value['numTrials'] set by trialInfo.trialIdx>0, but this might not be right. There might be smarter ways to determine which trials are 'good' trials...\n",
      "frame2time had 2 more than suite2p output. This happens sometimes. I don't like it. I think it's because scanimage sends a TTL before starting the frame\n",
      "ATL020/2023-05-04/702:spks shapes: [1233, 421, 1105, 1915, 1341]\n",
      "ATL020/2023-05-04/702:roiPerPlane: [1233, 421, 1105, 1915, 1341]\n",
      "ATL020/2023-05-04/702:F shapes: [1233, 421, 1105, 1915, 1341]\n",
      "ATL020/2023-05-04/702:roiPerPlane: [1233, 421, 1105, 1915, 1341]\n",
      "ATL020/2023-05-04/702:Fneu shapes: [1233, 421, 1105, 1915, 1341]\n",
      "ATL020/2023-05-04/702:roiPerPlane: [1233, 421, 1105, 1915, 1341]\n",
      "ATL020/2023-05-04/702:redcell shapes: [1233, 421, 1105, 1915, 1341]\n",
      "ATL020/2023-05-04/702:roiPerPlane: [1233, 421, 1105, 1915, 1341]\n",
      "ATL020/2023-05-04/702:iscell shapes: [1233, 421, 1105, 1915, 1341]\n",
      "ATL020/2023-05-04/702:roiPerPlane: [1233, 421, 1105, 1915, 1341]\n",
      "ATL020/2023-05-04/702:stat shapes: [1233, 421, 1105, 1915, 1341]\n",
      "ATL020/2023-05-04/702:roiPerPlane: [1233, 421, 1105, 1915, 1341]\n",
      "ATL020/2023-05-04/702:stat shapes: [1233, 421, 1105, 1915, 1341]\n",
      "ATL020/2023-05-04/702:roiPerPlane: [1233, 421, 1105, 1915, 1341]\n",
      "Computing red cell features for ATL020/2023-05-04/702... (usually takes 10-20 seconds)\n",
      "Facecam preprocessing has not been coded yet!\n",
      "C:\\Users\\andrew\\Documents\\localData\\ATL020\\2023-05-04\\702\n"
     ]
    }
   ],
   "source": [
    "# vrExperiment registration and preprocessing \n",
    "vrReg = vre.vrExperimentRegistration(mouseName, dateString, session, oasis=False, imaging=True)\n",
    "vrReg.doPreprocessing()\n",
    "vrReg.saveParams()\n",
    "print(vrReg.sessionPath())\n",
    "del vrReg"
   ]
  },
  {
   "cell_type": "code",
   "execution_count": 5,
   "id": "3e43e9b6-b917-433c-a1a5-3064da5894f8",
   "metadata": {
    "tags": []
   },
   "outputs": [],
   "source": [
    "# Load registered vrExperiment\n",
    "vrexp = vre.vrExperiment(mouseName, dateString, session)"
   ]
  },
  {
   "cell_type": "code",
   "execution_count": 12,
   "id": "412a5e98-fb7f-44d0-a895-15c81b097fed",
   "metadata": {
    "tags": []
   },
   "outputs": [
    {
     "data": {
      "text/plain": [
       "array([0., 1.], dtype=float32)"
      ]
     },
     "execution_count": 12,
     "metadata": {},
     "output_type": "execute_result"
    }
   ],
   "source": [
    "iscell = vrexp.loadS2P('iscell', concatenate=True, checkVariables=False)\n",
    "redcell = vrexp.loadS2P('redcell', concatenate=True, checkVariables=False)\n",
    "np.unique(redcell[:,0])"
   ]
  },
  {
   "cell_type": "code",
   "execution_count": 8,
   "id": "e7e2036c-4509-41bc-96ff-1d1337ffbb29",
   "metadata": {
    "tags": []
   },
   "outputs": [
    {
     "name": "stdout",
     "output_type": "stream",
     "text": [
      "CPU times: total: 1.14 s\n",
      "Wall time: 476 ms\n"
     ]
    }
   ],
   "source": [
    "%%time\n",
    "speedThreshold = 5\n",
    "omap, smap, lickmap, distvec = vrf.getBehaviorMaps(vrexp,speedThreshold=speedThreshold) # produce smoothed occupancy and speed maps, along with the distance bins used to create them\n",
    "frameTrialIdx, framePosition, frameSpeed = vrexp.getFrameBehavior() # convert behavioral data into timeframe of spiking data\n",
    "spkmap = vrf.getSpikeMap(vrexp, frameTrialIdx, framePosition, frameSpeed, distvec, omap, speedThreshold=speedThreshold, standardizeSpks=False, doSmoothing=0) # produce the spkmap \n",
    "idxFullTrials = np.all(~np.isnan(omap),axis=1) # find out which trials the mouse explored the whole environment\n",
    "relmse, relcor = vrf.measureReliability(spkmap[:,idxFullTrials], numcv=3) # measure reliability of spiking\n",
    "spInfo = vrf.measureSpatialInformation(omap[idxFullTrials], spkmap[:,idxFullTrials]) # measure spatial information of spiking"
   ]
  },
  {
   "cell_type": "code",
   "execution_count": 9,
   "id": "7b8e9865-e913-4dfc-a697-8079801b3c8b",
   "metadata": {},
   "outputs": [],
   "source": [
    "# Code block for opening redSelectionGUI for a vrExperiment\n",
    "vrexp = vre.vrExperiment(mouseName, dateString, session)\n",
    "redCell = vre.redCellProcessing(vrexp)\n",
    "redSelection = rgui.redSelectionGUI(redCell)"
   ]
  },
  {
   "cell_type": "code",
   "execution_count": null,
   "id": "487110b4-4e2c-4b24-bea9-56d03b2b06d5",
   "metadata": {},
   "outputs": [],
   "source": []
  },
  {
   "cell_type": "code",
   "execution_count": null,
   "id": "f4a9d23b-6be9-49b7-8a3e-d75671ec4b5f",
   "metadata": {},
   "outputs": [],
   "source": []
  },
  {
   "cell_type": "code",
   "execution_count": 65,
   "id": "f30964c8-6bcd-48c5-8fa7-98516554ba2a",
   "metadata": {
    "tags": []
   },
   "outputs": [],
   "source": [
    "# Database Requirements: \n",
    "# ---------------------\n",
    "# GUI: db manager\n",
    "# - show full database -\n",
    "# - show selected entries (like for example entries with imaging but no suite2p) -\n",
    "#                --> It would be sweet to make this work where there are some defaults, but then there is also a \"filter command\" option which you type and goes as the input to the filtering\n",
    "# - click on entry and do things:\n",
    "#                --> open file explorer to that session\n",
    "#                --> do suite2p\n",
    "#                --> do red cell management\n",
    "# - update table data? \n",
    "# ---------------------\n",
    "# Operational Commands: \n",
    "# - Automatically do suite2p \n",
    "# - Check if registration was done before a suite2p update\n",
    "# - Find way to determine if a suite2p file was updated after the folder was made (indicating that QC was done afterwards) -- so registration should be rerun for imaging data at least\n",
    "#    -- check if \"iscell\" is the only thing that was done after registration. In this case, just update the iscell oneData\n",
    "# ---------------------\n",
    "# - Add new entry GUI!!!\n",
    "# ---------------------\n",
    "# - Check session folders to see if new session is present that isn't registered in the database? \n",
    "# ---------------------\n",
    "# vrExperimentUpdates: \n",
    "# -- if edited iscell, will need to re-register the number of ROIs per plane (in \"self.values\") and reprocess imaging data!\n",
    "# ---------------------\n",
    "# vrExperimentRegistration\n",
    "# -- if error, then note there was an error and append an explanation...!!!"
   ]
  },
  {
   "cell_type": "code",
   "execution_count": null,
   "id": "eff121a0-a381-4ac5-a1b2-5a00bed0b0b9",
   "metadata": {},
   "outputs": [],
   "source": []
  },
  {
   "cell_type": "code",
   "execution_count": null,
   "id": "8bc55da5-951b-44af-8216-384716f90373",
   "metadata": {},
   "outputs": [],
   "source": []
  },
  {
   "cell_type": "code",
   "execution_count": null,
   "id": "3c9c5a03-0499-4261-8d7c-14565ce5b5dd",
   "metadata": {},
   "outputs": [],
   "source": []
  },
  {
   "cell_type": "code",
   "execution_count": 41,
   "id": "e0053925-bb55-4674-b14f-625529c7e63f",
   "metadata": {},
   "outputs": [
    {
     "name": "stdout",
     "output_type": "stream",
     "text": [
      "\\\\zaru.cortexlab.net\\Subjects\\ATL028\\2023-08-04\\701\n",
      "C:\\Users\\andrew\\Documents\\localData\\ATL028\\2023-08-04\\701\n"
     ]
    }
   ],
   "source": [
    "# fm.getCopyString('ATL027')\n",
    "fm.s2pTargets('ATL028','2023-08-04','701')"
   ]
  },
  {
   "cell_type": "code",
   "execution_count": 34,
   "id": "ad20480b-a366-499d-9545-b443c6d33b2b",
   "metadata": {},
   "outputs": [],
   "source": [
    "vrdb = dbm.vrDatabase()"
   ]
  },
  {
   "cell_type": "code",
   "execution_count": 38,
   "id": "ca9634aa-0fc8-40ad-afff-ef0c91aed00c",
   "metadata": {
    "tags": []
   },
   "outputs": [
    {
     "name": "stdout",
     "output_type": "stream",
     "text": [
      "Session ATL022/2023-04-14/701 had error: In session ATL022/2023-04-14/701, first flips in trial are not all down!!\n",
      "Session ATL022/2023-04-17/701 had error: In session ATL022/2023-04-17/701, first flips in trial are not all down!!\n",
      "Session ATL028/2023-08-04/701 had error: Cannot fix mismatches when suite2p data is missing!\n"
     ]
    }
   ],
   "source": [
    "# I'm rerunning ATL020/2023-04-11/701, I think this will fix the missing suite2p data (it didn't register one of the tifs for some reason...)\n",
    "# ---> ---> I should do the same for ATL028/2023-08-04/701\n",
    "vrdb.printRegistrationErrors()"
   ]
  },
  {
   "cell_type": "code",
   "execution_count": 40,
   "id": "f49ef816-654b-46a9-8f94-3894e307b002",
   "metadata": {
    "tags": []
   },
   "outputs": [
    {
     "name": "stdout",
     "output_type": "stream",
     "text": [
      "No session found under: ATL0290/2023-04-11/701\n",
      "Session ATL0290/2023-04-11/701 is not in the database\n"
     ]
    }
   ],
   "source": [
    "# vrdb.registerSessions()\n",
    "out = vrdb.registerSingleSession('ATL0290','2023-04-11','701')"
   ]
  },
  {
   "cell_type": "code",
   "execution_count": null,
   "id": "81321904-7275-47ce-8065-9f0f191f7fbb",
   "metadata": {},
   "outputs": [],
   "source": []
  },
  {
   "cell_type": "code",
   "execution_count": null,
   "id": "3387e2d7-5608-422e-871b-e2d3a822377f",
   "metadata": {},
   "outputs": [],
   "source": []
  },
  {
   "cell_type": "code",
   "execution_count": 29,
   "id": "c43f715f-906a-40c3-87ba-f956308ce209",
   "metadata": {
    "tags": []
   },
   "outputs": [],
   "source": [
    "vrreg = vre.vrExperimentRegistration('ATL022', '2023-05-02', '701')"
   ]
  },
  {
   "cell_type": "code",
   "execution_count": 32,
   "id": "f0be5b0e-7e98-4c9a-834d-edacfaed4985",
   "metadata": {
    "tags": []
   },
   "outputs": [
    {
     "data": {
      "text/plain": [
       "WindowsPath('C:/Users/andrew/Documents/localData/ATL022/2023-05-02/701')"
      ]
     },
     "execution_count": 32,
     "metadata": {},
     "output_type": "execute_result"
    }
   ],
   "source": [
    "vrreg.sessionPath()"
   ]
  },
  {
   "cell_type": "code",
   "execution_count": 30,
   "id": "3c19f276-b2e3-4799-8721-49b4198e3c60",
   "metadata": {},
   "outputs": [
    {
     "ename": "OSError",
     "evalue": "Reader needs file name or open file-like object",
     "output_type": "error",
     "traceback": [
      "\u001b[1;31m---------------------------------------------------------------------------\u001b[0m",
      "\u001b[1;31mFileNotFoundError\u001b[0m                         Traceback (most recent call last)",
      "File \u001b[1;32m~\\miniconda3\\envs\\vrAnalysis\\lib\\site-packages\\scipy\\io\\matlab\\_mio.py:39\u001b[0m, in \u001b[0;36m_open_file\u001b[1;34m(file_like, appendmat, mode)\u001b[0m\n\u001b[0;32m     38\u001b[0m \u001b[38;5;28;01mtry\u001b[39;00m:\n\u001b[1;32m---> 39\u001b[0m     \u001b[38;5;28;01mreturn\u001b[39;00m \u001b[38;5;28;43mopen\u001b[39;49m\u001b[43m(\u001b[49m\u001b[43mfile_like\u001b[49m\u001b[43m,\u001b[49m\u001b[43m \u001b[49m\u001b[43mmode\u001b[49m\u001b[43m)\u001b[49m, \u001b[38;5;28;01mTrue\u001b[39;00m\n\u001b[0;32m     40\u001b[0m \u001b[38;5;28;01mexcept\u001b[39;00m \u001b[38;5;167;01mOSError\u001b[39;00m \u001b[38;5;28;01mas\u001b[39;00m e:\n\u001b[0;32m     41\u001b[0m     \u001b[38;5;66;03m# Probably \"not found\"\u001b[39;00m\n",
      "\u001b[1;31mFileNotFoundError\u001b[0m: [Errno 2] No such file or directory: 'C:\\\\Users\\\\andrew\\\\Documents\\\\localData\\\\ATL022\\\\2023-05-02\\\\701\\\\2023-05-02_701_ATL022_Timeline.mat'",
      "\nThe above exception was the direct cause of the following exception:\n",
      "\u001b[1;31mOSError\u001b[0m                                   Traceback (most recent call last)",
      "Cell \u001b[1;32mIn[30], line 1\u001b[0m\n\u001b[1;32m----> 1\u001b[0m \u001b[43mvrreg\u001b[49m\u001b[38;5;241;43m.\u001b[39;49m\u001b[43mprocessTimeline\u001b[49m\u001b[43m(\u001b[49m\u001b[43m)\u001b[49m\n",
      "File \u001b[1;32m~\\Documents\\GitHub\\vrAnalysis\\vrExperiment.py:347\u001b[0m, in \u001b[0;36mvrExperimentRegistration.processTimeline\u001b[1;34m(self)\u001b[0m\n\u001b[0;32m    345\u001b[0m \u001b[38;5;28;01mdef\u001b[39;00m \u001b[38;5;21mprocessTimeline\u001b[39m(\u001b[38;5;28mself\u001b[39m):\n\u001b[0;32m    346\u001b[0m     \u001b[38;5;66;03m# load these files for raw behavioral & timeline data\u001b[39;00m\n\u001b[1;32m--> 347\u001b[0m     \u001b[38;5;28mself\u001b[39m\u001b[38;5;241m.\u001b[39mtlFile \u001b[38;5;241m=\u001b[39m \u001b[38;5;28;43mself\u001b[39;49m\u001b[38;5;241;43m.\u001b[39;49m\u001b[43mloadTimelineStructure\u001b[49m\u001b[43m(\u001b[49m\u001b[43m)\u001b[49m\n\u001b[0;32m    348\u001b[0m     \u001b[38;5;28mself\u001b[39m\u001b[38;5;241m.\u001b[39mvrFile \u001b[38;5;241m=\u001b[39m \u001b[38;5;28mself\u001b[39m\u001b[38;5;241m.\u001b[39mloadBehaviorStructure()\n\u001b[0;32m    350\u001b[0m     \u001b[38;5;66;03m# get time stamps, photodiode, trial start and end times, room position, lick times, trial idx, visual data visible\u001b[39;00m\n",
      "File \u001b[1;32m~\\Documents\\GitHub\\vrAnalysis\\vrExperiment.py:654\u001b[0m, in \u001b[0;36mvrExperimentRegistration.loadTimelineStructure\u001b[1;34m(self)\u001b[0m\n\u001b[0;32m    652\u001b[0m \u001b[38;5;28;01mdef\u001b[39;00m \u001b[38;5;21mloadTimelineStructure\u001b[39m(\u001b[38;5;28mself\u001b[39m): \n\u001b[0;32m    653\u001b[0m     tlFileName \u001b[38;5;241m=\u001b[39m \u001b[38;5;28mself\u001b[39m\u001b[38;5;241m.\u001b[39msessionPath() \u001b[38;5;241m/\u001b[39m \u001b[38;5;124mf\u001b[39m\u001b[38;5;124m\"\u001b[39m\u001b[38;5;132;01m{\u001b[39;00m\u001b[38;5;28mself\u001b[39m\u001b[38;5;241m.\u001b[39mdateString\u001b[38;5;132;01m}\u001b[39;00m\u001b[38;5;124m_\u001b[39m\u001b[38;5;132;01m{\u001b[39;00m\u001b[38;5;28mself\u001b[39m\u001b[38;5;241m.\u001b[39msession\u001b[38;5;132;01m}\u001b[39;00m\u001b[38;5;124m_\u001b[39m\u001b[38;5;132;01m{\u001b[39;00m\u001b[38;5;28mself\u001b[39m\u001b[38;5;241m.\u001b[39mmouseName\u001b[38;5;132;01m}\u001b[39;00m\u001b[38;5;124m_Timeline.mat\u001b[39m\u001b[38;5;124m\"\u001b[39m \u001b[38;5;66;03m# timeline.mat file name\u001b[39;00m\n\u001b[1;32m--> 654\u001b[0m     \u001b[38;5;28;01mreturn\u001b[39;00m \u001b[43mscio\u001b[49m\u001b[38;5;241;43m.\u001b[39;49m\u001b[43mloadmat\u001b[49m\u001b[43m(\u001b[49m\u001b[43mtlFileName\u001b[49m\u001b[43m,\u001b[49m\u001b[43msimplify_cells\u001b[49m\u001b[38;5;241;43m=\u001b[39;49m\u001b[38;5;28;43;01mTrue\u001b[39;49;00m\u001b[43m)\u001b[49m[\u001b[38;5;124m'\u001b[39m\u001b[38;5;124mTimeline\u001b[39m\u001b[38;5;124m'\u001b[39m]\n",
      "File \u001b[1;32m~\\miniconda3\\envs\\vrAnalysis\\lib\\site-packages\\scipy\\io\\matlab\\_mio.py:225\u001b[0m, in \u001b[0;36mloadmat\u001b[1;34m(file_name, mdict, appendmat, **kwargs)\u001b[0m\n\u001b[0;32m     88\u001b[0m \u001b[38;5;250m\u001b[39m\u001b[38;5;124;03m\"\"\"\u001b[39;00m\n\u001b[0;32m     89\u001b[0m \u001b[38;5;124;03mLoad MATLAB file.\u001b[39;00m\n\u001b[0;32m     90\u001b[0m \n\u001b[1;32m   (...)\u001b[0m\n\u001b[0;32m    222\u001b[0m \u001b[38;5;124;03m    3.14159265+3.14159265j])\u001b[39;00m\n\u001b[0;32m    223\u001b[0m \u001b[38;5;124;03m\"\"\"\u001b[39;00m\n\u001b[0;32m    224\u001b[0m variable_names \u001b[38;5;241m=\u001b[39m kwargs\u001b[38;5;241m.\u001b[39mpop(\u001b[38;5;124m'\u001b[39m\u001b[38;5;124mvariable_names\u001b[39m\u001b[38;5;124m'\u001b[39m, \u001b[38;5;28;01mNone\u001b[39;00m)\n\u001b[1;32m--> 225\u001b[0m \u001b[38;5;28;01mwith\u001b[39;00m _open_file_context(file_name, appendmat) \u001b[38;5;28;01mas\u001b[39;00m f:\n\u001b[0;32m    226\u001b[0m     MR, _ \u001b[38;5;241m=\u001b[39m mat_reader_factory(f, \u001b[38;5;241m*\u001b[39m\u001b[38;5;241m*\u001b[39mkwargs)\n\u001b[0;32m    227\u001b[0m     matfile_dict \u001b[38;5;241m=\u001b[39m MR\u001b[38;5;241m.\u001b[39mget_variables(variable_names)\n",
      "File \u001b[1;32m~\\miniconda3\\envs\\vrAnalysis\\lib\\contextlib.py:119\u001b[0m, in \u001b[0;36m_GeneratorContextManager.__enter__\u001b[1;34m(self)\u001b[0m\n\u001b[0;32m    117\u001b[0m \u001b[38;5;28;01mdel\u001b[39;00m \u001b[38;5;28mself\u001b[39m\u001b[38;5;241m.\u001b[39margs, \u001b[38;5;28mself\u001b[39m\u001b[38;5;241m.\u001b[39mkwds, \u001b[38;5;28mself\u001b[39m\u001b[38;5;241m.\u001b[39mfunc\n\u001b[0;32m    118\u001b[0m \u001b[38;5;28;01mtry\u001b[39;00m:\n\u001b[1;32m--> 119\u001b[0m     \u001b[38;5;28;01mreturn\u001b[39;00m \u001b[38;5;28;43mnext\u001b[39;49m\u001b[43m(\u001b[49m\u001b[38;5;28;43mself\u001b[39;49m\u001b[38;5;241;43m.\u001b[39;49m\u001b[43mgen\u001b[49m\u001b[43m)\u001b[49m\n\u001b[0;32m    120\u001b[0m \u001b[38;5;28;01mexcept\u001b[39;00m \u001b[38;5;167;01mStopIteration\u001b[39;00m:\n\u001b[0;32m    121\u001b[0m     \u001b[38;5;28;01mraise\u001b[39;00m \u001b[38;5;167;01mRuntimeError\u001b[39;00m(\u001b[38;5;124m\"\u001b[39m\u001b[38;5;124mgenerator didn\u001b[39m\u001b[38;5;124m'\u001b[39m\u001b[38;5;124mt yield\u001b[39m\u001b[38;5;124m\"\u001b[39m) \u001b[38;5;28;01mfrom\u001b[39;00m \u001b[38;5;28;01mNone\u001b[39;00m\n",
      "File \u001b[1;32m~\\miniconda3\\envs\\vrAnalysis\\lib\\site-packages\\scipy\\io\\matlab\\_mio.py:17\u001b[0m, in \u001b[0;36m_open_file_context\u001b[1;34m(file_like, appendmat, mode)\u001b[0m\n\u001b[0;32m     15\u001b[0m \u001b[38;5;129m@contextmanager\u001b[39m\n\u001b[0;32m     16\u001b[0m \u001b[38;5;28;01mdef\u001b[39;00m \u001b[38;5;21m_open_file_context\u001b[39m(file_like, appendmat, mode\u001b[38;5;241m=\u001b[39m\u001b[38;5;124m'\u001b[39m\u001b[38;5;124mrb\u001b[39m\u001b[38;5;124m'\u001b[39m):\n\u001b[1;32m---> 17\u001b[0m     f, opened \u001b[38;5;241m=\u001b[39m \u001b[43m_open_file\u001b[49m\u001b[43m(\u001b[49m\u001b[43mfile_like\u001b[49m\u001b[43m,\u001b[49m\u001b[43m \u001b[49m\u001b[43mappendmat\u001b[49m\u001b[43m,\u001b[49m\u001b[43m \u001b[49m\u001b[43mmode\u001b[49m\u001b[43m)\u001b[49m\n\u001b[0;32m     18\u001b[0m     \u001b[38;5;28;01mtry\u001b[39;00m:\n\u001b[0;32m     19\u001b[0m         \u001b[38;5;28;01myield\u001b[39;00m f\n",
      "File \u001b[1;32m~\\miniconda3\\envs\\vrAnalysis\\lib\\site-packages\\scipy\\io\\matlab\\_mio.py:47\u001b[0m, in \u001b[0;36m_open_file\u001b[1;34m(file_like, appendmat, mode)\u001b[0m\n\u001b[0;32m     45\u001b[0m     \u001b[38;5;28;01mreturn\u001b[39;00m \u001b[38;5;28mopen\u001b[39m(file_like, mode), \u001b[38;5;28;01mTrue\u001b[39;00m\n\u001b[0;32m     46\u001b[0m \u001b[38;5;28;01melse\u001b[39;00m:\n\u001b[1;32m---> 47\u001b[0m     \u001b[38;5;28;01mraise\u001b[39;00m \u001b[38;5;167;01mOSError\u001b[39;00m(\n\u001b[0;32m     48\u001b[0m         \u001b[38;5;124m'\u001b[39m\u001b[38;5;124mReader needs file name or open file-like object\u001b[39m\u001b[38;5;124m'\u001b[39m\n\u001b[0;32m     49\u001b[0m     ) \u001b[38;5;28;01mfrom\u001b[39;00m \u001b[38;5;21;01me\u001b[39;00m\n",
      "\u001b[1;31mOSError\u001b[0m: Reader needs file name or open file-like object"
     ]
    }
   ],
   "source": [
    "vrreg.processTimeline()"
   ]
  },
  {
   "cell_type": "code",
   "execution_count": 27,
   "id": "0542e3a8-1748-4e96-a709-ae13912abb35",
   "metadata": {},
   "outputs": [
    {
     "name": "stdout",
     "output_type": "stream",
     "text": [
      "In session ATL028/2023-08-04/701, frameSamples has 21562 elements, but 21200 frames were reported in suite2p. Cannot resolve.\n"
     ]
    },
    {
     "ename": "ValueError",
     "evalue": "Cannot fix mismatches when suite2p data is missing!",
     "output_type": "error",
     "traceback": [
      "\u001b[1;31m---------------------------------------------------------------------------\u001b[0m",
      "\u001b[1;31mValueError\u001b[0m                                Traceback (most recent call last)",
      "Cell \u001b[1;32mIn[27], line 1\u001b[0m\n\u001b[1;32m----> 1\u001b[0m \u001b[43mvrreg\u001b[49m\u001b[38;5;241;43m.\u001b[39;49m\u001b[43mprocessImaging\u001b[49m\u001b[43m(\u001b[49m\u001b[43m)\u001b[49m\n",
      "File \u001b[1;32m~\\Documents\\GitHub\\vrAnalysis\\vrExperiment.py:564\u001b[0m, in \u001b[0;36mvrExperimentRegistration.processImaging\u001b[1;34m(self)\u001b[0m\n\u001b[0;32m    561\u001b[0m \u001b[38;5;28;01mif\u001b[39;00m numMissing \u001b[38;5;241m<\u001b[39m \u001b[38;5;241m0\u001b[39m: \n\u001b[0;32m    562\u001b[0m     \u001b[38;5;66;03m# If frameSamples had many more frames, generate an error -- something went wrong that needs manual inspection\u001b[39;00m\n\u001b[0;32m    563\u001b[0m     \u001b[38;5;28mprint\u001b[39m(\u001b[38;5;124mf\u001b[39m\u001b[38;5;124m\"\u001b[39m\u001b[38;5;124mIn session \u001b[39m\u001b[38;5;132;01m{\u001b[39;00m\u001b[38;5;28mself\u001b[39m\u001b[38;5;241m.\u001b[39msessionPrint()\u001b[38;5;132;01m}\u001b[39;00m\u001b[38;5;124m, frameSamples has \u001b[39m\u001b[38;5;132;01m{\u001b[39;00m\u001b[38;5;28mlen\u001b[39m(frameSamples)\u001b[38;5;132;01m}\u001b[39;00m\u001b[38;5;124m elements, but \u001b[39m\u001b[38;5;132;01m{\u001b[39;00m\u001b[38;5;28mself\u001b[39m\u001b[38;5;241m.\u001b[39mvalue[\u001b[38;5;124m'\u001b[39m\u001b[38;5;124mnumFrames\u001b[39m\u001b[38;5;124m'\u001b[39m]\u001b[38;5;132;01m}\u001b[39;00m\u001b[38;5;124m frames were reported in suite2p. Cannot resolve.\u001b[39m\u001b[38;5;124m\"\u001b[39m)\n\u001b[1;32m--> 564\u001b[0m     \u001b[38;5;28;01mraise\u001b[39;00m \u001b[38;5;167;01mValueError\u001b[39;00m(\u001b[38;5;124m\"\u001b[39m\u001b[38;5;124mCannot fix mismatches when suite2p data is missing!\u001b[39m\u001b[38;5;124m\"\u001b[39m)\n\u001b[0;32m    565\u001b[0m \u001b[38;5;66;03m# It's possible that the scanImage signal to timeline was broken but scanImage still continued normally. \u001b[39;00m\n\u001b[0;32m    566\u001b[0m \u001b[38;5;28;01mif\u001b[39;00m numMissing \u001b[38;5;241m>\u001b[39m \u001b[38;5;241m1\u001b[39m: \u001b[38;5;28mprint\u001b[39m(\u001b[38;5;124mf\u001b[39m\u001b[38;5;124m\"\u001b[39m\u001b[38;5;124mIn session \u001b[39m\u001b[38;5;132;01m{\u001b[39;00m\u001b[38;5;28mself\u001b[39m\u001b[38;5;241m.\u001b[39msessionPrint()\u001b[38;5;132;01m}\u001b[39;00m\u001b[38;5;124m, more than one frameSamples sample was missing. Consider using tiff timelineTimestamps to reproduce accurately.\u001b[39m\u001b[38;5;124m\"\u001b[39m) \n",
      "\u001b[1;31mValueError\u001b[0m: Cannot fix mismatches when suite2p data is missing!"
     ]
    }
   ],
   "source": [
    "vrreg.processImaging()"
   ]
  },
  {
   "cell_type": "code",
   "execution_count": 28,
   "id": "dd5f1a53-e940-4083-bff9-470e70da960c",
   "metadata": {
    "tags": []
   },
   "outputs": [
    {
     "data": {
      "text/plain": [
       "[(3937, 21200), (3686, 21200), (3726, 21200), (3875, 21200), (4155, 21200)]"
      ]
     },
     "execution_count": 28,
     "metadata": {},
     "output_type": "execute_result"
    }
   ],
   "source": [
    "fluor = vrreg.loadS2P('F',concatenate=False, checkVariables=False)\n",
    "[f.shape for f in fluor]"
   ]
  },
  {
   "cell_type": "code",
   "execution_count": 18,
   "id": "a64ec66c-8cd5-4ec1-8fcb-8454722d6596",
   "metadata": {},
   "outputs": [
    {
     "name": "stdout",
     "output_type": "stream",
     "text": [
      "In session ATL020/2023-04-11/701, frameSamples has 17751 elements, but 14000 frames were reported in suite2p. Cannot resolve.\n"
     ]
    },
    {
     "ename": "ValueError",
     "evalue": "Cannot fix mismatches when suite2p data is missing!",
     "output_type": "error",
     "traceback": [
      "\u001b[1;31m---------------------------------------------------------------------------\u001b[0m",
      "\u001b[1;31mValueError\u001b[0m                                Traceback (most recent call last)",
      "Cell \u001b[1;32mIn[18], line 51\u001b[0m\n\u001b[0;32m     48\u001b[0m \u001b[38;5;28;01mif\u001b[39;00m numMissing \u001b[38;5;241m<\u001b[39m \u001b[38;5;241m0\u001b[39m: \n\u001b[0;32m     49\u001b[0m     \u001b[38;5;66;03m# If frameSamples had many more frames, generate an error -- something went wrong that needs manual inspection\u001b[39;00m\n\u001b[0;32m     50\u001b[0m     \u001b[38;5;28mprint\u001b[39m(\u001b[38;5;124mf\u001b[39m\u001b[38;5;124m\"\u001b[39m\u001b[38;5;124mIn session \u001b[39m\u001b[38;5;132;01m{\u001b[39;00mvrreg\u001b[38;5;241m.\u001b[39msessionPrint()\u001b[38;5;132;01m}\u001b[39;00m\u001b[38;5;124m, frameSamples has \u001b[39m\u001b[38;5;132;01m{\u001b[39;00m\u001b[38;5;28mlen\u001b[39m(frameSamples)\u001b[38;5;132;01m}\u001b[39;00m\u001b[38;5;124m elements, but \u001b[39m\u001b[38;5;132;01m{\u001b[39;00mvrreg\u001b[38;5;241m.\u001b[39mvalue[\u001b[38;5;124m'\u001b[39m\u001b[38;5;124mnumFrames\u001b[39m\u001b[38;5;124m'\u001b[39m]\u001b[38;5;132;01m}\u001b[39;00m\u001b[38;5;124m frames were reported in suite2p. Cannot resolve.\u001b[39m\u001b[38;5;124m\"\u001b[39m)\n\u001b[1;32m---> 51\u001b[0m     \u001b[38;5;28;01mraise\u001b[39;00m \u001b[38;5;167;01mValueError\u001b[39;00m(\u001b[38;5;124m\"\u001b[39m\u001b[38;5;124mCannot fix mismatches when suite2p data is missing!\u001b[39m\u001b[38;5;124m\"\u001b[39m)\n\u001b[0;32m     52\u001b[0m \u001b[38;5;66;03m# It's possible that the scanImage signal to timeline was broken but scanImage still continued normally. \u001b[39;00m\n\u001b[0;32m     53\u001b[0m \u001b[38;5;28;01mif\u001b[39;00m numMissing \u001b[38;5;241m>\u001b[39m \u001b[38;5;241m1\u001b[39m: \u001b[38;5;28mprint\u001b[39m(\u001b[38;5;124mf\u001b[39m\u001b[38;5;124m\"\u001b[39m\u001b[38;5;124mIn session \u001b[39m\u001b[38;5;132;01m{\u001b[39;00mvrreg\u001b[38;5;241m.\u001b[39msessionPrint()\u001b[38;5;132;01m}\u001b[39;00m\u001b[38;5;124m, more than one frameSamples sample was missing. Consider using tiff timelineTimestamps to reproduce accurately.\u001b[39m\u001b[38;5;124m\"\u001b[39m) \n",
      "\u001b[1;31mValueError\u001b[0m: Cannot fix mismatches when suite2p data is missing!"
     ]
    }
   ],
   "source": [
    "# identifies which planes were processed through suite2p (assume that those are all available planes)\n",
    "# identifies which s2p outputs are available from each plane\n",
    "vrreg.registerValue('planeNames',[plane.parts[-1] for plane in vrreg.suite2pPath().glob('plane*/')])\n",
    "vrreg.registerValue('planeIDs',[int(planeName[5:]) for planeName in vrreg.value['planeNames']])\n",
    "npysInPlanes = [[npy.stem for npy in list((vrreg.suite2pPath() / planeName).glob('*.npy'))] for planeName in vrreg.value['planeNames']]\n",
    "commonNPYs = list(set.intersection(*[set(npy) for npy in npysInPlanes]))\n",
    "unionNPYs = list(set.union(*[set(npy) for npy in npysInPlanes]))\n",
    "if set(commonNPYs)<set(unionNPYs):\n",
    "    print(f\"The following npy files are present in some but not all plane folders within session {vrreg.sessionPrint()}: {list(set(unionNPYs) - set(commonNPYs))}\")\n",
    "    print(f\"Each plane folder contains the following npy files: {commonNPYs}\")\n",
    "vrreg.registerValue('available',commonNPYs) # a list of npy files available in each plane folder\n",
    "required = ['stat', 'ops', 'F', 'Fneu', 'iscell'] # required variables (anything else is either optional or can be computed independently)\n",
    "if not vrreg.opts['oasis']: required.append('spks') # add deconvolved spikes to required variable if we aren't recomputing it here\n",
    "for varName in required: assert varName in vrreg.value['available'], f\"{vrreg.sessionPrint()} is missing {varName} in at least one suite2p folder!\"\n",
    "\n",
    "# measure the number of ROIs per plane with or without the filter\n",
    "iscell = vrreg.loadS2P('iscell', concatenate=False, checkVariables=False)\n",
    "if vrreg.opts['filterCells']:\n",
    "    roiPerPlane = [sum(ic[:,0].astype(bool)) for ic in iscell]\n",
    "else:\n",
    "    roiPerPlane = [ic.shape[0] for ic in iscell]\n",
    "\n",
    "vrreg.registerValue('roiPerPlane',roiPerPlane) # get number of ROIs in each plane\n",
    "vrreg.registerValue('framePerPlane',[F.shape[1] for F in vrreg.loadS2P('F',concatenate=False,checkVariables=False)]) # get number of frames in each plane (might be different!)\n",
    "assert np.max(vrreg.value['framePerPlane'])-np.min(vrreg.value['framePerPlane'])<=1, f\"The frame count in {vrreg.sessionPrint()} varies by more than 1 frame! ({vrreg.value['framePerPlane']})\"\n",
    "vrreg.registerValue('numROIs',np.sum(vrreg.value['roiPerPlane'])) # number of ROIs in session\n",
    "vrreg.registerValue('numFrames',np.min(vrreg.value['framePerPlane'])) # number of frames to use when retrieving imaging data (might be overwritten to something smaller if timeline handled improperly)\n",
    "\n",
    "# Get timeline sample corresponding to each imaging volume\n",
    "timelineTimestamps = vrreg.loadone('wheelPosition.times')\n",
    "changeFrames = np.append(0, np.diff(np.ceil(vrreg.getTimelineVar('neuralFrames')/len(vrreg.value['planeIDs']))))==1\n",
    "frameSamples = np.where(changeFrames)[0] # TTLs for each volume (increments by 1 for each plane)\n",
    "frame2time = timelineTimestamps[frameSamples] # get timelineTimestamps of each imaging volume\n",
    "\n",
    "# Handle mismatch between number of imaging frames saved by scanImage (and propagated through suite2p), and between timeline's measurement of the scanImage frame counter\n",
    "if len(frame2time)!=vrreg.value['numFrames']:\n",
    "    if len(frame2time)-1==vrreg.value['numFrames']:\n",
    "        # If frame2time had one more frame, just trim it and assume everything is fine. This happens when a new volume was started but not finished, so does not required communication to user.\n",
    "        frameSamples = frameSamples[:-1]\n",
    "        frame2time = frame2time[:-1]\n",
    "    elif len(frame2time)-2==vrreg.value['numFrames']:\n",
    "        print(\"frame2time had 2 more than suite2p output. This happens sometimes. I don't like it. I think it's because scanimage sends a TTL before starting the frame\")\n",
    "        frameSamples = frameSamples[:-2]\n",
    "        frame2time = frame2time[:-2]\n",
    "    else:\n",
    "        # If frameSamples has too few frames, it's possible that the scanImage signal to timeline was broken but scanImage still continued normally. \n",
    "        numMissing = vrreg.value['numFrames'] - len(frameSamples) # measure number of missing frames\n",
    "        if numMissing < 0: \n",
    "            # If frameSamples had many more frames, generate an error -- something went wrong that needs manual inspection\n",
    "            print(f\"In session {vrreg.sessionPrint()}, frameSamples has {len(frameSamples)} elements, but {vrreg.value['numFrames']} frames were reported in suite2p. Cannot resolve.\")\n",
    "            raise ValueError(\"Cannot fix mismatches when suite2p data is missing!\")\n",
    "        # It's possible that the scanImage signal to timeline was broken but scanImage still continued normally. \n",
    "        if numMissing > 1: print(f\"In session {vrreg.sessionPrint()}, more than one frameSamples sample was missing. Consider using tiff timelineTimestamps to reproduce accurately.\") \n",
    "        print((f\"In session {vrreg.sessionPrint()}, frameSamples has {len(frameSamples)} elements, but {vrreg.value['numFrames']} frames were saved by suite2p. \"\n",
    "               \"Will extend frameSamples using the typical sampling rate and nearestpoint algorithm.\"\n",
    "              ))\n",
    "        # If frame2time difference vector is consistent within 1%, then use mean (which is a little more accurate), otherwise use median\n",
    "        frame2time = timelineTimestamps[frameSamples]\n",
    "        medianFramePeriod = np.median(np.diff(frame2time)) # measure median sample period\n",
    "        consistentFrames = np.all(np.abs(np.log(np.diff(frame2time)/medianFramePeriod)) < np.log(1.01)) # True if all frames take within 1% of median frame period\n",
    "        if consistentFrames: samplePeriod_f2t = np.mean(np.diff(frame2time))\n",
    "        else: samplePeriod_f2t = np.median(np.diff(frame2time))\n",
    "        appendFrames = frame2time[-1] + samplePeriod_f2t*(np.arange(numMissing)+1) # add elements to frame2time, assume sampling rate was perfect \n",
    "        frame2time = np.concatenate((frame2time,appendFrames))\n",
    "        frameSamples = bf.nearestpoint(frame2time, timelineTimestamps)[0]"
   ]
  },
  {
   "cell_type": "code",
   "execution_count": 20,
   "id": "5d5d2137-4c1a-45d1-94d6-d4e16304249b",
   "metadata": {
    "tags": []
   },
   "outputs": [
    {
     "data": {
      "text/plain": [
       "17751"
      ]
     },
     "execution_count": 20,
     "metadata": {},
     "output_type": "execute_result"
    }
   ],
   "source": [
    "len(frameSamples)"
   ]
  },
  {
   "cell_type": "code",
   "execution_count": 21,
   "id": "d00bc94e-60b3-4635-b5bf-a3b6d1c7425a",
   "metadata": {
    "tags": []
   },
   "outputs": [
    {
     "data": {
      "text/plain": [
       "14000"
      ]
     },
     "execution_count": 21,
     "metadata": {},
     "output_type": "execute_result"
    }
   ],
   "source": [
    "vrreg.value['numFrames']"
   ]
  },
  {
   "cell_type": "code",
   "execution_count": 22,
   "id": "c165df7c-bd85-4cdd-aaeb-e49770625086",
   "metadata": {
    "tags": []
   },
   "outputs": [
    {
     "data": {
      "text/plain": [
       "[14000, 14000, 14000, 14000, 14000]"
      ]
     },
     "execution_count": 22,
     "metadata": {},
     "output_type": "execute_result"
    }
   ],
   "source": [
    "vrreg.value['framePerPlane']"
   ]
  },
  {
   "cell_type": "code",
   "execution_count": 19,
   "id": "6b23b739-f3da-4871-9798-c1cfae2270b9",
   "metadata": {
    "tags": []
   },
   "outputs": [
    {
     "data": {
      "text/plain": [
       "17751"
      ]
     },
     "execution_count": 19,
     "metadata": {},
     "output_type": "execute_result"
    }
   ],
   "source": [
    "len(frame2time)"
   ]
  },
  {
   "cell_type": "code",
   "execution_count": 5,
   "id": "6b39e3e6-29bf-4edc-b069-3b932dbf00e8",
   "metadata": {
    "tags": []
   },
   "outputs": [],
   "source": [
    "neuralFrames = vrreg.getTimelineVar('neuralFrames')"
   ]
  },
  {
   "cell_type": "code",
   "execution_count": 12,
   "id": "6a051e2b-f5a3-4bf5-ae27-13f1b75ddfb6",
   "metadata": {
    "tags": []
   },
   "outputs": [],
   "source": [
    "from IPython.display import clear_output"
   ]
  },
  {
   "cell_type": "code",
   "execution_count": 17,
   "id": "ad07fea0-e0ba-4ace-b9c8-17e6cb27aa1f",
   "metadata": {
    "tags": []
   },
   "outputs": [
    {
     "data": {
      "text/plain": [
       "17751"
      ]
     },
     "execution_count": 17,
     "metadata": {},
     "output_type": "execute_result"
    }
   ],
   "source": [
    "len(frame2time)"
   ]
  },
  {
   "cell_type": "code",
   "execution_count": 16,
   "id": "cb62edab-ac7f-407b-9132-2d252d5824fb",
   "metadata": {
    "tags": []
   },
   "outputs": [
    {
     "data": {
      "text/plain": [
       "17751"
      ]
     },
     "execution_count": 16,
     "metadata": {},
     "output_type": "execute_result"
    }
   ],
   "source": [
    "len(np.where(changeFrames)[0])"
   ]
  },
  {
   "cell_type": "code",
   "execution_count": 14,
   "id": "47c607d2-9aea-4800-aaf6-5686dc060caa",
   "metadata": {
    "tags": []
   },
   "outputs": [
    {
     "data": {
      "application/vnd.jupyter.widget-view+json": {
       "model_id": "1cb89cfdeaaf4d8f89804c0bb18821da",
       "version_major": 2,
       "version_minor": 0
      },
      "image/png": "[encoded data removed]",
      "text/html": [
       "\n",
       "            <div style=\"display: inline-block;\">\n",
       "                <div class=\"jupyter-widgets widget-label\" style=\"text-align: center;\">\n",
       "                    Figure\n",
       "                </div>\n",
       "                <img src='data:image/png;base64,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' width=640.0/>\n",
       "            </div>\n",
       "        "
      ],
      "text/plain": [
       "Canvas(toolbar=Toolbar(toolitems=[('Home', 'Reset original view', 'home', 'home'), ('Back', 'Back to previous …"
      ]
     },
     "metadata": {},
     "output_type": "display_data"
    }
   ],
   "source": [
    "clear_output()\n",
    "%matplotlib widget\n",
    "fig = plt.figure()\n",
    "plt.plot(timelineTimestamps, neuralFrames/max(neuralFrames))\n",
    "plt.plot(timelineTimestamps, changeFrames)\n",
    "plt.show()"
   ]
  },
  {
   "cell_type": "code",
   "execution_count": null,
   "id": "9d5d2a26-b004-4927-96ef-ec3f0f3660fc",
   "metadata": {},
   "outputs": [],
   "source": []
  },
  {
   "cell_type": "code",
   "execution_count": null,
   "id": "6a9cabe1-763b-4d89-b805-68c549627da6",
   "metadata": {},
   "outputs": [],
   "source": [
    "# vrdb.updateSuite2pDateTime()\n",
    "# vrdb.checkS2P(withDatabaseUpdate=True)"
   ]
  },
  {
   "cell_type": "code",
   "execution_count": null,
   "id": "139ee52e-cd8d-4e26-a605-84042e778577",
   "metadata": {},
   "outputs": [
    {
     "name": "stdout",
     "output_type": "stream",
     "text": [
      "Database indicates that suite2p has been run but not QC'd: ATL012/2023-01-18/701\n",
      "Database indicates that suite2p has been run but not QC'd: ATL012/2023-01-20/701\n",
      "Database indicates that suite2p has been run but not QC'd: ATL012/2023-01-20/702\n",
      "Database indicates that suite2p has been run but not QC'd: ATL012/2023-01-23/701\n",
      "Database indicates that suite2p has been run but not QC'd: ATL012/2023-01-24/703\n",
      "Database indicates that suite2p has been run but not QC'd: ATL012/2023-01-25/701\n",
      "Database indicates that suite2p has been run but not QC'd: ATL012/2023-01-26/702\n",
      "Database indicates that suite2p has been run but not QC'd: ATL012/2023-01-27/701\n",
      "Database indicates that suite2p has been run but not QC'd: ATL012/2023-01-30/702\n",
      "Database indicates that suite2p has been run but not QC'd: ATL012/2023-02-01/701\n",
      "Database indicates that suite2p has been run but not QC'd: ATL012/2023-02-02/701\n",
      "Database indicates that suite2p has been run but not QC'd: ATL012/2023-02-06/701\n",
      "Database indicates that suite2p has been run but not QC'd: ATL012/2023-02-07/701\n",
      "Database indicates that suite2p has been run but not QC'd: ATL012/2023-02-08/702\n",
      "Database indicates that suite2p has been run but not QC'd: ATL012/2023-02-09/701\n",
      "Database indicates that suite2p has been run but not QC'd: ATL012/2023-02-14/703\n",
      "Database indicates that suite2p has been run but not QC'd: ATL012/2023-02-15/701\n",
      "Database indicates that suite2p has been run but not QC'd: ATL012/2023-02-16/701\n",
      "Database indicates that suite2p has been run but not QC'd: ATL012/2023-02-17/701\n",
      "Database indicates that suite2p has been run but not QC'd: ATL012/2023-02-20/701\n",
      "Database indicates that suite2p has been run but not QC'd: ATL012/2023-02-21/702\n",
      "Database indicates that suite2p has been run but not QC'd: ATL012/2023-02-22/701\n",
      "Database indicates that suite2p has been run but not QC'd: ATL012/2023-02-27/701\n",
      "Database indicates that suite2p has been run but not QC'd: ATL012/2023-02-28/701\n",
      "Database indicates that suite2p has been run but not QC'd: ATL012/2023-03-01/701\n",
      "Database indicates that suite2p has been run but not QC'd: ATL012/2023-03-03/701\n",
      "Database indicates that suite2p has been run but not QC'd: ATL020/2023-03-22/701\n",
      "Database indicates that suite2p has been run but not QC'd: ATL020/2023-03-24/701\n",
      "Database indicates that suite2p has been run but not QC'd: ATL020/2023-03-27/701\n",
      "Database indicates that suite2p has been run but not QC'd: ATL020/2023-03-29/701\n",
      "Database indicates that suite2p has been run but not QC'd: ATL020/2023-03-31/701\n",
      "Database indicates that suite2p has been run but not QC'd: ATL020/2023-04-04/701\n",
      "Database indicates that suite2p has been run but not QC'd: ATL020/2023-04-05/701\n",
      "Database indicates that suite2p has been run but not QC'd: ATL020/2023-04-06/701\n",
      "Database indicates that suite2p has been run but not QC'd: ATL020/2023-04-11/701\n",
      "Database indicates that suite2p has been run but not QC'd: ATL020/2023-05-03/701\n",
      "Database indicates that suite2p has been run but not QC'd: ATL020/2023-05-04/702\n",
      "Database indicates that suite2p has been run but not QC'd: ATL022/2023-03-24/701\n",
      "Database indicates that suite2p has been run but not QC'd: ATL022/2023-03-27/701\n",
      "Database indicates that suite2p has been run but not QC'd: ATL022/2023-03-29/701\n",
      "Database indicates that suite2p has been run but not QC'd: ATL022/2023-03-31/703\n",
      "Database indicates that suite2p has been run but not QC'd: ATL022/2023-04-04/701\n",
      "Database indicates that suite2p has been run but not QC'd: ATL022/2023-04-05/702\n",
      "Database indicates that suite2p has been run but not QC'd: ATL022/2023-04-06/701\n",
      "Database indicates that suite2p has been run but not QC'd: ATL022/2023-04-11/701\n",
      "Database indicates that suite2p has been run but not QC'd: ATL022/2023-04-12/701\n",
      "Database indicates that suite2p has been run but not QC'd: ATL022/2023-04-14/701\n",
      "Database indicates that suite2p has been run but not QC'd: ATL022/2023-04-17/701\n",
      "Database indicates that suite2p has been run but not QC'd: ATL022/2023-04-18/701\n",
      "Database indicates that suite2p has been run but not QC'd: ATL022/2023-04-19/701\n",
      "Database indicates that suite2p has been run but not QC'd: ATL022/2023-04-21/701\n",
      "Database indicates that suite2p has been run but not QC'd: ATL022/2023-04-24/701\n",
      "Database indicates that suite2p has been run but not QC'd: ATL022/2023-04-25/702\n",
      "Database indicates that suite2p has been run but not QC'd: ATL022/2023-04-26/701\n",
      "Database indicates that suite2p has been run but not QC'd: ATL022/2023-04-27/702\n",
      "Database indicates that suite2p has been run but not QC'd: ATL022/2023-04-28/701\n",
      "Database indicates that suite2p has been run but not QC'd: ATL022/2023-05-03/701\n",
      "Database indicates that suite2p has been run but not QC'd: ATL022/2023-05-04/701\n",
      "Database indicates that suite2p has been run but not QC'd: ATL023/2023-04-28/702\n",
      "Database indicates that suite2p has been run but not QC'd: ATL023/2023-05-03/701\n",
      "Database indicates that suite2p has been run but not QC'd: ATL023/2023-05-04/701\n",
      "Database indicates that suite2p has been run but not QC'd: ATL027/2023-07-19/701\n",
      "Database indicates that suite2p has been run but not QC'd: ATL027/2023-07-20/701\n",
      "Database indicates that suite2p has been run but not QC'd: ATL027/2023-07-21/701\n",
      "Database indicates that suite2p has been run but not QC'd: ATL027/2023-07-24/701\n",
      "Database indicates that suite2p has been run but not QC'd: ATL027/2023-07-25/701\n",
      "Database indicates that suite2p has been run but not QC'd: ATL027/2023-07-26/701\n",
      "Database indicates that suite2p has been run but not QC'd: ATL027/2023-07-27/701\n",
      "Database indicates that suite2p has been run but not QC'd: ATL027/2023-07-28/701\n",
      "Database indicates that suite2p has been run but not QC'd: ATL027/2023-08-01/701\n",
      "Database indicates that suite2p has been run but not QC'd: ATL027/2023-08-02/701\n",
      "Database indicates that suite2p has been run but not QC'd: ATL027/2023-08-04/702\n",
      "Database indicates that suite2p has been run but not QC'd: ATL027/2023-08-07/701\n",
      "Database indicates that suite2p has been run but not QC'd: ATL027/2023-08-08/701\n",
      "Database indicates that suite2p has been run but not QC'd: ATL027/2023-08-09/701\n",
      "Database indicates that suite2p has been run but not QC'd: ATL028/2023-08-01/701\n",
      "Database indicates that suite2p has been run but not QC'd: ATL028/2023-08-02/701\n",
      "Database indicates that suite2p has been run but not QC'd: ATL028/2023-08-03/701\n",
      "Database indicates that suite2p has been run but not QC'd: ATL028/2023-08-04/701\n",
      "Database indicates that suite2p has been run but not QC'd: ATL028/2023-08-07/701\n",
      "Database indicates that suite2p has been run but not QC'd: ATL028/2023-08-08/701\n"
     ]
    }
   ],
   "source": [
    "vrdb.printRequiresS2P(needsQC=True)"
   ]
  },
  {
   "cell_type": "code",
   "execution_count": null,
   "id": "daf65579-feff-42ea-891d-d24b84c6e31f",
   "metadata": {},
   "outputs": [],
   "source": []
  },
  {
   "cell_type": "code",
   "execution_count": null,
   "id": "cf00d5cc-0c51-4131-8fa7-0b41fee847ee",
   "metadata": {},
   "outputs": [],
   "source": []
  },
  {
   "cell_type": "code",
   "execution_count": null,
   "id": "e74ede15-aa25-48f7-9c56-8dd6c8c37aac",
   "metadata": {},
   "outputs": [],
   "source": []
  },
  {
   "cell_type": "code",
   "execution_count": 3,
   "id": "6fd49cac-88a2-4033-9401-756430d58e0c",
   "metadata": {},
   "outputs": [],
   "source": [
    "import PyQt5"
   ]
  },
  {
   "cell_type": "code",
   "execution_count": 6,
   "id": "42bebd24-0a20-4043-9bbe-d3883c67bcf7",
   "metadata": {},
   "outputs": [
    {
     "data": {
      "text/plain": [
       "['QtCore',\n",
       " 'QtGui',\n",
       " 'QtSvg',\n",
       " 'QtWidgets',\n",
       " '__builtins__',\n",
       " '__cached__',\n",
       " '__doc__',\n",
       " '__file__',\n",
       " '__loader__',\n",
       " '__name__',\n",
       " '__package__',\n",
       " '__path__',\n",
       " '__spec__',\n",
       " 'sip']"
      ]
     },
     "execution_count": 6,
     "metadata": {},
     "output_type": "execute_result"
    }
   ],
   "source": [
    "dir(PyQt5)"
   ]
  },
  {
   "cell_type": "code",
   "execution_count": null,
   "id": "6117e751-1de5-4e8c-b19d-0b81098b53c6",
   "metadata": {},
   "outputs": [],
   "source": []
  }
 ],
 "metadata": {
  "kernelspec": {
   "display_name": "Python 3 (ipykernel)",
   "language": "python",
   "name": "python3"
  },
  "language_info": {
   "codemirror_mode": {
    "name": "ipython",
    "version": 3
   },
   "file_extension": ".py",
   "mimetype": "text/x-python",
   "name": "python",
   "nbconvert_exporter": "python",
   "pygments_lexer": "ipython3",
   "version": "3.9.17"
  }
 },
 "nbformat": 4,
 "nbformat_minor": 5
}
