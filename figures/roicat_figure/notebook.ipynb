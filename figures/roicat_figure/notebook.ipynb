{
 "cells": [
  {
   "cell_type": "code",
   "execution_count": 1,
   "metadata": {},
   "outputs": [],
   "source": [
    "import os, sys\n",
    "mainPath = os.path.dirname(os.path.abspath(\".\")) + \"/..\"\n",
    "sys.path.append(mainPath)"
   ]
  },
  {
   "cell_type": "code",
   "execution_count": 3,
   "metadata": {},
   "outputs": [],
   "source": [
    "from figures.roicat_figure.pair_of_pairs import PairPairDatahandler, PairPairInteractivePlot, plot_pair_example_figure\n",
    "\n",
    "# for choosing a pair of pairs to highlight spatial feature discrimination\n",
    "mouse_name = \"ATL027\"\n",
    "# pp_handler = PairPairDatahandler(mouse_name, fake_data=False)\n",
    "# pp_window = PairPairInteractivePlot(pp_handler)\n",
    "# pp_window.show()"
   ]
  },
  {
   "cell_type": "code",
   "execution_count": null,
   "metadata": {},
   "outputs": [],
   "source": [
    "# Saving some good possibilities for the figure (no plane 0):\n",
    "# ATL027, sessions 10/11, Match Idx: [1878 1603] NoMatch Idx: [2433 2652]\n",
    "# ATL027, sessions 8/9, Match Idx: [11079  8659] NoMatch Idx: [13208 11206]\n",
    "# ATL027, sessions 8/9, Match Idx: [7640 5003] NoMatch Idx: [10729  5743]\n",
    "\n",
    "# lost possibility:\n",
    "# ATL027, sessions 8/9, they were in rough centroid [310, 60-80], the match had a place field > 180cm.\n",
    "\n",
    "# Possibilities (no plane 0):\n",
    "# ATL027, sessions 9/10, Match Idx: [11828 13054] NoMatch Idx: [9393 9689]\n",
    "# ATL027, sessions 9/10, Match Idx: [4984 5500] NoMatch Idx: [5098 7138]\n",
    "# ATL027, sessions 9/11, Match Idx: [265 524] NoMatch Idx: [132 891]\n",
    "\n",
    "# ATL027: Sessions: [ 8 10], Matched ROIs: [4267 1992], Non-matched ROIs: [5458 2224], Plane Pair: 2"
   ]
  },
  {
   "cell_type": "code",
   "execution_count": null,
   "metadata": {},
   "outputs": [],
   "source": [
    "vars(pp_handler)"
   ]
  },
  {
   "cell_type": "code",
   "execution_count": null,
   "metadata": {},
   "outputs": [],
   "source": [
    "plot_pair_example_figure(pp_handler, isespair, idxroipair, roi_scale, zscore_lim, range, save=False)"
   ]
  },
  {
   "cell_type": "code",
   "execution_count": null,
   "metadata": {},
   "outputs": [],
   "source": [
    "from vrAnalysis import analysis, tracking\n",
    "\n",
    "mouse_name = \"ATL027\"\n",
    "roistat = analysis.RoicatStats(tracking.tracker(mouse_name)) # only make this once so data stays loaded"
   ]
  },
  {
   "cell_type": "code",
   "execution_count": null,
   "metadata": {},
   "outputs": [],
   "source": [
    "# make snake plot of all tracked cells that are reliable in the \"sortby\" session\n",
    "envnum, idx_ses = roistat.env_idx_ses_selector(envmethod=\"most\", sesmethod=-7, verbose=True)\n",
    "outs = roistat.plot_snake(envnum, idx_ses=idx_ses, sortby=idx_ses[-4], cutoffs=(0.4, 0.7), normalize=-80, rewzone=True, sortby_blue=False, height_multiplier=2.0, withSave=True)"
   ]
  },
  {
   "cell_type": "code",
   "execution_count": null,
   "metadata": {},
   "outputs": [],
   "source": []
  },
  {
   "cell_type": "code",
   "execution_count": null,
   "metadata": {},
   "outputs": [],
   "source": []
  },
  {
   "cell_type": "code",
   "execution_count": null,
   "metadata": {},
   "outputs": [],
   "source": []
  },
  {
   "cell_type": "code",
   "execution_count": 45,
   "metadata": {},
   "outputs": [],
   "source": [
    "# Let's reset this analysis pipeline with a Syd viewer. \n",
    "import numpy as np\n",
    "from scipy.spatial.distance import squareform\n",
    "from matplotlib import pyplot as plt\n",
    "from syd import Viewer\n",
    "\n",
    "from vrAnalysis2.tracking import Tracker\n",
    "from vrAnalysis2.multisession import MultiSessionSpkmaps\n",
    "from vrAnalysis2 import helpers"
   ]
  },
  {
   "cell_type": "code",
   "execution_count": 19,
   "metadata": {},
   "outputs": [
    {
     "name": "stdout",
     "output_type": "stream",
     "text": [
      "Env: 3 --- Sessions: [0, 1, 2, 3, 4, 5, 6, 7, 8, 9, 10, 11, 12, 13]\n",
      "Env: 1 --- Sessions: [3, 4, 5, 6, 7, 8, 9, 10, 11, 12, 13]\n",
      "Env: 4 --- Sessions: [11, 12, 13]\n"
     ]
    }
   ],
   "source": [
    "# Set up a mouse to look at\n",
    "mouse_name = \"ATL027\"\n",
    "tracker = Tracker(mouse_name)\n",
    "msm = MultiSessionSpkmaps(tracker)\n",
    "\n",
    "# And look at the env_stats\n",
    "env_stats = msm.env_stats()\n",
    "for env in sorted(env_stats, key=lambda x: env_stats[x][0]):\n",
    "    print(\"Env:\", env, \"--- Sessions:\", env_stats[env])"
   ]
  },
  {
   "cell_type": "code",
   "execution_count": null,
   "metadata": {},
   "outputs": [],
   "source": [
    "# What do I need? \n",
    "# 1. Define a pair of sessions and an environment choice\n",
    "# 2. Get spkmaps\n",
    "# 2.1 Get locations\n",
    "# 2.2 Get reliabilities\n",
    "# 3. Get pairs of ROIs\n",
    "# 4. Get map of ROI pairs that are \"matched\"\n",
    "# 5. Get map of ROI pairs that are \"not matched\"\n",
    "# 6. Plot local ROI image of each session"
   ]
  },
  {
   "cell_type": "code",
   "execution_count": 48,
   "metadata": {},
   "outputs": [
    {
     "name": "stderr",
     "output_type": "stream",
     "text": [
      "C:\\Users\\Andrew\\Documents\\GitHub\\vrAnalysis\\vrAnalysis2\\multisession.py:326: RuntimeWarning: Mean of empty slice\n",
      "  spkmaps = [np.nanmean(s, axis=1) for s in spkmaps]\n"
     ]
    },
    {
     "name": "stdout",
     "output_type": "stream",
     "text": [
      "[(17199, 199), (16318, 199)] [(17199, 3), (16318, 3)] (2, 10739)\n"
     ]
    }
   ],
   "source": [
    "idx_ses = [10, 13]\n",
    "idx_rois = [msm.processors[i].session.idx_rois for i in idx_ses] # Which ROIs to keep based on session criteria\n",
    "spkmaps, extras = msm.get_spkmaps(3, average=True, tracked=False, use_session_filters=False, idx_ses=idx_ses) # Get spkmaps for each session (and reliability in extras)\n",
    "roi_positions = [tracker.sessions[i].get_roi_position() for i in idx_ses] # Get ROI positions for each session\n",
    "idx_tracked, tracking_extras = tracker.get_tracked_idx(idx_ses=idx_ses, use_session_filters=False) # Get tracking info for each session\n",
    "print([s.shape for s in spkmaps], [s.shape for s in roi_positions], idx_tracked.shape)"
   ]
  },
  {
   "cell_type": "code",
   "execution_count": null,
   "metadata": {},
   "outputs": [],
   "source": [
    "roicat_labels = [np.full(s.shape[0], np.nan) for s in spkmaps]\n",
    "for ii in range(2):\n",
    "    roicat_labels[ii][idx_tracked[ii]] = tracking_extras[\"cluster_ids\"]\n",
    "\n",
    "# Let's use the fact that we can ignore off-plane pairs to speed this up\n",
    "# (Get list of unique planes, filter groups of pairs by plane, then do each pairwise comparison for each plane independently, and flatten and stack)\n",
    "# (We'll have a (2xnumPairs) array of the index of each ROI from each session for identification!)\n",
    "idx_samecell_pair = roicat_labels[0].reshape(-1, 1) == roicat_labels[1].reshape(1, -1)\n",
    "idx_sameplane_pair = roi_positions[0][:, -1].reshape(-1, 1) == roi_positions[1][:, -1].reshape(1, -1)\n",
    "distance_pair = np.linalg.norm(roi_positions[0][:, :2].reshape(-1, 1, 2) - roi_positions[1][:, :2].reshape(1, -1, 2), axis=2)\n",
    "correlation = helpers.crossCorrelation(spkmaps[0].T, spkmaps[1].T)"
   ]
  },
  {
   "cell_type": "code",
   "execution_count": 52,
   "metadata": {},
   "outputs": [],
   "source": [
    "# Output Goal:\n",
    "# Syd viewer with following options:\n",
    "# Mouse\n",
    "# Environment\n",
    "# Session Pair (probably with predefined dropdown? or using a source/target group?)\n",
    "# Then once this is picked, we do a cached option generation of the above stuff where we grab\n",
    "# the pairs and make a list of possibilities\n",
    "# Once we have pairs and possibilities, we use distance / correlation filtering to get a reduced list of candidates for \"match\" and \"no match\"\n",
    "# And plot it. "
   ]
  },
  {
   "cell_type": "code",
   "execution_count": 54,
   "metadata": {},
   "outputs": [],
   "source": [
    "# But!!!!\n",
    "# This pair pair code can be after... I think my other code is good enough for Rich for now. So I should just focus on that which should be easy..."
   ]
  }
 ],
 "metadata": {
  "kernelspec": {
   "display_name": "vrAnalysis",
   "language": "python",
   "name": "python3"
  },
  "language_info": {
   "codemirror_mode": {
    "name": "ipython",
    "version": 3
   },
   "file_extension": ".py",
   "mimetype": "text/x-python",
   "name": "python",
   "nbconvert_exporter": "python",
   "pygments_lexer": "ipython3",
   "version": "3.11.11"
  }
 },
 "nbformat": 4,
 "nbformat_minor": 2
}
