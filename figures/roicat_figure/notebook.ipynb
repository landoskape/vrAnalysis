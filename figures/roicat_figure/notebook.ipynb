{
 "cells": [
  {
   "cell_type": "code",
   "execution_count": 1,
   "metadata": {},
   "outputs": [],
   "source": [
    "import os, sys\n",
    "mainPath = os.path.dirname(os.path.abspath(\".\")) + \"/..\"\n",
    "sys.path.append(mainPath)"
   ]
  },
  {
   "cell_type": "code",
   "execution_count": 2,
   "metadata": {},
   "outputs": [
    {
     "ename": "",
     "evalue": "",
     "output_type": "error",
     "traceback": [
      "\u001b[1;31mThe Kernel crashed while executing code in the current cell or a previous cell. \n",
      "\u001b[1;31mPlease review the code in the cell(s) to identify a possible cause of the failure. \n",
      "\u001b[1;31mClick <a href='https://aka.ms/vscodeJupyterKernelCrash'>here</a> for more info. \n",
      "\u001b[1;31mView Jupyter <a href='command:jupyter.viewOutput'>log</a> for further details."
     ]
    }
   ],
   "source": [
    "from figures.roicat_figure.pair_of_pairs import PairPairDatahandler, PairPairInteractivePlot\n",
    "\n",
    "# for choosing a pair of pairs to highlight spatial feature discrimination\n",
    "mouse_name = \"ATL022\"\n",
    "pp_handler = PairPairDatahandler(mouse_name, fake_data=True)\n",
    "pp_window = PairPairInteractivePlot(pp_handler)\n",
    "pp_window.show()"
   ]
  },
  {
   "cell_type": "code",
   "execution_count": null,
   "metadata": {},
   "outputs": [],
   "source": [
    "from vrAnalysis import analysis, tracking\n",
    "\n",
    "mouse_name = \"ATL027\"\n",
    "roistat = analysis.RoicatStats(tracking.tracker(mouse_name)) # only make this once so data stays loaded"
   ]
  },
  {
   "cell_type": "code",
   "execution_count": null,
   "metadata": {},
   "outputs": [],
   "source": [
    "# make snake plot of all tracked cells that are reliable in the \"sortby\" session\n",
    "envnum, idx_ses = roistat.env_idx_ses_selector(envmethod=\"most\", sesmethod=-7, verbose=True)\n",
    "outs = roistat.plot_snake(envnum, idx_ses=idx_ses, sortby=idx_ses[-4], cutoffs=(0.4, 0.7), normalize=-80, rewzone=True, sortby_blue=False, height_multiplier=2.0, withSave=True)"
   ]
  }
 ],
 "metadata": {
  "kernelspec": {
   "display_name": "vrAnalysis",
   "language": "python",
   "name": "python3"
  },
  "language_info": {
   "codemirror_mode": {
    "name": "ipython",
    "version": 3
   },
   "file_extension": ".py",
   "mimetype": "text/x-python",
   "name": "python",
   "nbconvert_exporter": "python",
   "pygments_lexer": "ipython3",
   "version": "3.9.19"
  }
 },
 "nbformat": 4,
 "nbformat_minor": 2
}
