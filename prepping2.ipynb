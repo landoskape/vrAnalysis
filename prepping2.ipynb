{
 "cells": [
  {
   "cell_type": "code",
   "execution_count": 4,
   "metadata": {},
   "outputs": [
    {
     "name": "stdout",
     "output_type": "stream",
     "text": [
      "\n"
     ]
    }
   ],
   "source": [
    "\"\"\"\n",
    "Working on a big refactor here...\n",
    "moving towards vrAnalysis2\n",
    "\n",
    "Objectives:\n",
    "- Build dataclass structure for imaging and behavior sessions that I can operate on\n",
    "across datatypes - I want to run the same code on my data and external data\n",
    "- Simplify analyses by building a set of functions that can be called on these dataclasses\n",
    "instead of extending analysis classes for each kind of analysis\n",
    "- Rewrite standard scripts to do analyses with this new refactor\n",
    "\n",
    "\n",
    "I should think about the key requirements for analyzing behavior and imaging data for\n",
    "vr navigation and structure around that. Things that I do:\n",
    "\n",
    "Basic data handling:\n",
    "- Load spiking data\n",
    "- Load behavior data (position, speed, etc)\n",
    "- Load ROI data\n",
    "\n",
    "Processing:\n",
    "- Make a spkmap\n",
    "- Process spkmaps\n",
    "- Filter and sort ROIs by tracked (or other criteria, like plane_idx...)\n",
    "\"\"\"\n",
    "\n",
    "\n",
    "\"\"\"\n",
    "Ideas:\n",
    "An analysis object which can be loaded that isn't necessarily connect to any data. You can pass in a list\n",
    "of data objects to it and it will run the analysis on all of them. This way I can run the same analysis on\n",
    "my data and external data, compare within a mouse, across mice, etc.\n",
    "\n",
    "There can be a \"flag\" for same mice with tracker, in which case it can perform special operations like aligning\n",
    "ROIs across sessions by tracked ROI etc. \n",
    "\"\"\"\n",
    "\n",
    "\n",
    "print()"
   ]
  },
  {
   "cell_type": "code",
   "execution_count": null,
   "metadata": {},
   "outputs": [],
   "source": []
  },
  {
   "cell_type": "code",
   "execution_count": 2,
   "metadata": {},
   "outputs": [],
   "source": [
    "%reload_ext autoreload\n",
    "%autoreload 2\n",
    "\n",
    "from vrAnalysis2.external.pettit2022 import find_pettit_harvey_sessions, data_path\n",
    "sessions = find_pettit_harvey_sessions(data_path / \"dataFolder\")\n",
    "\n",
    "behavior = sessions[0].behavior\n",
    "spks = sessions[0].spks"
   ]
  },
  {
   "cell_type": "code",
   "execution_count": null,
   "metadata": {},
   "outputs": [],
   "source": [
    "from pathlib import Path\n",
    "from vrAnalysis2 import files\n",
    "from vrAnalysis import database\n",
    "sessiondb = database.vrDatabase('vrSessions')\n",
    "from typing import Union\n",
    "\n",
    "def find_experiment_options(root_dir: Union[str, Path]) -> list[Path]:\n",
    "    \"\"\"\n",
    "    Find all vrExperimentOptions.json files in the given directory and its subdirectories.\n",
    "    \n",
    "    Parameters\n",
    "    ----------\n",
    "    root_dir : str or Path\n",
    "        The root directory to start the search from\n",
    "    \n",
    "    Returns\n",
    "    -------\n",
    "    list[Path]\n",
    "        List of paths to all matching files\n",
    "    \"\"\"\n",
    "    def make_identifier(pth: Path) -> list[str]:\n",
    "        return \"_\".join(list(reversed([p.stem for p in list(pth.parents)[:3]])))\n",
    "    \n",
    "    root_path = Path(root_dir)\n",
    "    all_paths = list(root_path.rglob(\"vrExperimentOptions.json\"))\n",
    "    session_identifier = [make_identifier(pth) for pth in all_paths]\n",
    "    return all_paths, session_identifier\n",
    "\n",
    "pths, sids = find_experiment_options(files.local_data_path())\n",
    "csesids = [sessiondb.sessionPrint(joinby=\"_\") for sessiondb in sessiondb.iterSessions(useDefault=True)]\n",
    "\n",
    "for sid in sids:\n",
    "    if sid not in csesids:\n",
    "        print(\"oops\", sid)\n",
    "\n",
    "for ses in sessiondb.iterSessions():\n",
    "    csesid = ses.sessionPrint(joinby=\"_\")\n",
    "    print(csesid, csesid in sids)"
   ]
  }
 ],
 "metadata": {
  "kernelspec": {
   "display_name": "vrAnalysis",
   "language": "python",
   "name": "python3"
  },
  "language_info": {
   "codemirror_mode": {
    "name": "ipython",
    "version": 3
   },
   "file_extension": ".py",
   "mimetype": "text/x-python",
   "name": "python",
   "nbconvert_exporter": "python",
   "pygments_lexer": "ipython3",
   "version": "3.9.19"
  }
 },
 "nbformat": 4,
 "nbformat_minor": 2
}
